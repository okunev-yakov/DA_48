{
 "cells": [
  {
   "cell_type": "markdown",
   "metadata": {},
   "source": [
    "<a id='intro'></a>\n",
    "# Исследование рынка объектов общественного питания в Москве\n",
    "\n",
    "## Задание и инструкция по выполнению проекта:\n",
    "\n",
    "Есть идея открыть небольшое кафе в Москве. Оно оригинальное — гостей должны обслуживать роботы. Проект многообещающий, но дорогой. Инвесторов интересует текущее положение дел на рынке — сможет ли кафе снискать популярность на долгое время, когда все зеваки насмотрятся на роботов-официантов?<br>\n",
    "Партнёры просят подготовить исследование рынка. Есть открытые данные о заведениях общественного питания в Москве.<br>\n",
    "\n",
    "**ИНСТРУКЦИЯ К ВЫПОЛНЕНИЮ ПРОЕКТА**<br>\n",
    "**Шаг №1. Загрузите данные и подготовьте их к анализу**<br>\n",
    "Загрузите данные о заведениях общественного питания Москвы. Убедитесь, что тип данных в каждой колонке — правильный, а также отсутствуют пропущенные значения и дубликаты. При необходимости обработайте их.<br> \n",
    "Путь к файлу: /datasets/rest_data.csv.<br>\n",
    "**Шаг №2. Анализ данных**<br>\n",
    "•\tИсследуйте соотношение видов объектов общественного питания по количеству. Постройте график.<br>\n",
    "•\tИсследуйте соотношение сетевых и несетевых заведений по количеству. Постройте график.<br>\n",
    "•\tДля какого вида объекта общественного питания характерно сетевое распространение?<br>\n",
    "•\tЧто характерно для сетевых заведений: много заведений с небольшим числом посадочных мест в каждом или мало заведений с большим количеством посадочных мест?<br>\n",
    "•\tДля каждого вида объекта общественного питания опишите среднее количество посадочных мест. Какой вид предоставляет в среднем самое большое количество посадочных мест? Постройте графики.<br>\n",
    "•\tВыделите в отдельный столбец информацию об улице из столбца address.<br>\n",
    "•\tПостройте график топ-10 улиц по количеству объектов общественного питания. Воспользуйтесь внешней информацией и ответьте на вопрос — в каких районах Москвы находятся эти улицы?<br>\n",
    "•\tНайдите число улиц с одним объектом общественного питания. Воспользуйтесь внешней информацией и ответьте на вопрос — в каких районах Москвы находятся эти улицы?<br>\n",
    "Сделайте общий вывод и дайте рекомендации о виде заведения, количестве посадочных мест, а также районе расположения. Прокомментируйте возможность развития сети.<br>\n",
    "**Шаг №3. Подготовка презентации**<br>\n",
    "Подготовьте презентацию исследования для инвесторов. Для создания презентации используйте любой удобный инструмент, но отправить презентацию нужно обязательно в формате pdf. Приложите ссылку на презентацию в markdown-ячейке в формате:<br>\n",
    "Презентация: <ссылка на облачное хранилище с презентацией> \n",
    "\n",
    "**ОПИСАНИЕ ДАННЫХ**<br>\n",
    "Таблица rest_data:<br>\n",
    "•\tid — идентификатор объекта;<br>\n",
    "•\tobject_name — название объекта общественного питания;<br>\n",
    "•\tchain — сетевой ресторан;<br>\n",
    "•\tobject_type — тип объекта общественного питания;<br>\n",
    "•\taddress — адрес;<br>\n",
    "•\tnumber — количество посадочных мест."
   ]
  },
  {
   "cell_type": "markdown",
   "metadata": {},
   "source": [
    "## Изучение и предобработка данных\n",
    "\n",
    "[В начало](#intro)"
   ]
  },
  {
   "cell_type": "code",
   "execution_count": 1,
   "metadata": {},
   "outputs": [],
   "source": [
    "# Импортируем библиотеки Питона:\n",
    "import pandas as pd #\n",
    "import os #\n",
    "import numpy as np #\n",
    "import math # \n",
    "from matplotlib import pyplot as plt #\n",
    "%matplotlib inline \n",
    "import seaborn as sns # \n",
    "from numpy import median #\n",
    "from plotly import graph_objects as go #\n",
    "from IPython.display import FileLink # библиотека для работы с картинками\n",
    "import warnings #\n",
    "\n",
    "# Для подгрузки внешнего файла чтобы сопоставить название улиц районам и округам Москвы\n",
    "from io import BytesIO\n",
    "import requests\n",
    "\n",
    "# Изменяем настройки отображения обработки кода в Пандасе, чтобы предупрежедения не выводились:\n",
    "warnings.filterwarnings(\"ignore\")\n",
    "\n",
    "# Изменяем настройки отображения столбцов в Пандасе, чтобы выводились все столбцы:\n",
    "pd.set_option('display.max_columns', None)\n",
    "\n",
    "# Изменяем настройки отображения столбцов в Пандасе, чтобы выводились 200 символов в ячейке:\n",
    "pd.options.display.max_colwidth = 200"
   ]
  },
  {
   "cell_type": "markdown",
   "metadata": {},
   "source": [
    "Загружаем и оптимизируем данные для анализа. Проверяем, что тип данных в каждой колонке — правильный."
   ]
  },
  {
   "cell_type": "code",
   "execution_count": 2,
   "metadata": {},
   "outputs": [],
   "source": [
    "# Читаем файлы с исходными данными и преобразуем их в датафрем Питона:\n",
    "# указываем путь на локальном компьютере и, как альтернативу, в общедоступной папке в jupiter hub: \n",
    "   \n",
    "path_1 = 'Y:/Обучение цифровой профессии/Аналитик данных/02-04 Как рассказать историю с помощью данных/rest_data.csv'\n",
    "path_2 = '/datasets/rest_data.csv'\n",
    "\n",
    "if os.path.exists(path_1):\n",
    "    rest_data = pd.read_csv(path_1)\n",
    "elif os.path.exists(path_2):\n",
    "        rest_data = pd.read_csv(path_2)\n",
    "else:\n",
    "    print('Исходные данные для исследования удалены или недоступны.')\n",
    "          \n",
    "#     присваиваем имя исходной таблице:\n",
    "rest_data.name = 'rest_data'\n",
    "df_names = [rest_data]"
   ]
  },
  {
   "cell_type": "code",
   "execution_count": 3,
   "metadata": {},
   "outputs": [],
   "source": [
    "# Функция для изучения содержимого датафреймов:\n",
    "def get_df_info(df_names):\n",
    "    for i_names in df_names:\n",
    "        print(\"Первые и последние 5 строк датафрейма:\", i_names.name)\n",
    "        display(i_names)\n",
    "        print(\"-----------------------------------------------------------------------------\")\n",
    "        print(\"Общая информация о датафрейме:\", i_names.name)\n",
    "        i_names.info()\n",
    "        print(\"-----------------------------------------------------------------------------\")\n",
    "        print(\"Разброс значений, максимум, минимум, среднее и медиана в столбцах датафрейма:\", i_names.name)\n",
    "        display(i_names.describe())\n",
    "        print(\"-----------------------------------------------------------------------------\")\n",
    "        print(\"Количество дубликатов в датафрейме:\", i_names.name)\n",
    "        print(i_names.duplicated().sum())\n",
    "        print(\"=============================================================================\")"
   ]
  },
  {
   "cell_type": "code",
   "execution_count": 4,
   "metadata": {},
   "outputs": [
    {
     "name": "stdout",
     "output_type": "stream",
     "text": [
      "Первые и последние 5 строк датафрейма: rest_data\n"
     ]
    },
    {
     "data": {
      "text/html": [
       "<div>\n",
       "<style scoped>\n",
       "    .dataframe tbody tr th:only-of-type {\n",
       "        vertical-align: middle;\n",
       "    }\n",
       "\n",
       "    .dataframe tbody tr th {\n",
       "        vertical-align: top;\n",
       "    }\n",
       "\n",
       "    .dataframe thead th {\n",
       "        text-align: right;\n",
       "    }\n",
       "</style>\n",
       "<table border=\"1\" class=\"dataframe\">\n",
       "  <thead>\n",
       "    <tr style=\"text-align: right;\">\n",
       "      <th></th>\n",
       "      <th>id</th>\n",
       "      <th>object_name</th>\n",
       "      <th>chain</th>\n",
       "      <th>object_type</th>\n",
       "      <th>address</th>\n",
       "      <th>number</th>\n",
       "    </tr>\n",
       "  </thead>\n",
       "  <tbody>\n",
       "    <tr>\n",
       "      <th>0</th>\n",
       "      <td>151635</td>\n",
       "      <td>СМЕТАНА</td>\n",
       "      <td>нет</td>\n",
       "      <td>кафе</td>\n",
       "      <td>город Москва, улица Егора Абакумова, дом 9</td>\n",
       "      <td>48</td>\n",
       "    </tr>\n",
       "    <tr>\n",
       "      <th>1</th>\n",
       "      <td>77874</td>\n",
       "      <td>Родник</td>\n",
       "      <td>нет</td>\n",
       "      <td>кафе</td>\n",
       "      <td>город Москва, улица Талалихина, дом 2/1, корпус 1</td>\n",
       "      <td>35</td>\n",
       "    </tr>\n",
       "    <tr>\n",
       "      <th>2</th>\n",
       "      <td>24309</td>\n",
       "      <td>Кафе «Академия»</td>\n",
       "      <td>нет</td>\n",
       "      <td>кафе</td>\n",
       "      <td>город Москва, Абельмановская улица, дом 6</td>\n",
       "      <td>95</td>\n",
       "    </tr>\n",
       "    <tr>\n",
       "      <th>3</th>\n",
       "      <td>21894</td>\n",
       "      <td>ПИЦЦЕТОРИЯ</td>\n",
       "      <td>да</td>\n",
       "      <td>кафе</td>\n",
       "      <td>город Москва, Абрамцевская улица, дом 1</td>\n",
       "      <td>40</td>\n",
       "    </tr>\n",
       "    <tr>\n",
       "      <th>4</th>\n",
       "      <td>119365</td>\n",
       "      <td>Кафе «Вишневая метель»</td>\n",
       "      <td>нет</td>\n",
       "      <td>кафе</td>\n",
       "      <td>город Москва, Абрамцевская улица, дом 9, корпус 1</td>\n",
       "      <td>50</td>\n",
       "    </tr>\n",
       "    <tr>\n",
       "      <th>...</th>\n",
       "      <td>...</td>\n",
       "      <td>...</td>\n",
       "      <td>...</td>\n",
       "      <td>...</td>\n",
       "      <td>...</td>\n",
       "      <td>...</td>\n",
       "    </tr>\n",
       "    <tr>\n",
       "      <th>15361</th>\n",
       "      <td>208537</td>\n",
       "      <td>Шоколадница</td>\n",
       "      <td>да</td>\n",
       "      <td>кафе</td>\n",
       "      <td>город Москва, 3-й Крутицкий переулок, дом 18</td>\n",
       "      <td>50</td>\n",
       "    </tr>\n",
       "    <tr>\n",
       "      <th>15362</th>\n",
       "      <td>209264</td>\n",
       "      <td>Шоколадница</td>\n",
       "      <td>да</td>\n",
       "      <td>кафе</td>\n",
       "      <td>город Москва, улица Земляной Вал, дом 33</td>\n",
       "      <td>10</td>\n",
       "    </tr>\n",
       "    <tr>\n",
       "      <th>15363</th>\n",
       "      <td>209186</td>\n",
       "      <td>Шоколадница</td>\n",
       "      <td>да</td>\n",
       "      <td>кафе</td>\n",
       "      <td>город Москва, улица Земляной Вал, дом 33</td>\n",
       "      <td>20</td>\n",
       "    </tr>\n",
       "    <tr>\n",
       "      <th>15364</th>\n",
       "      <td>221900</td>\n",
       "      <td>Шоколадница</td>\n",
       "      <td>да</td>\n",
       "      <td>кафе</td>\n",
       "      <td>город Москва, поселение Московский, Киевское шоссе, 22-й километр, домовладение 4, строение 1</td>\n",
       "      <td>36</td>\n",
       "    </tr>\n",
       "    <tr>\n",
       "      <th>15365</th>\n",
       "      <td>222535</td>\n",
       "      <td>Шоколадница</td>\n",
       "      <td>да</td>\n",
       "      <td>кафе</td>\n",
       "      <td>город Москва, Ходынский бульвар, дом 4</td>\n",
       "      <td>10</td>\n",
       "    </tr>\n",
       "  </tbody>\n",
       "</table>\n",
       "<p>15366 rows × 6 columns</p>\n",
       "</div>"
      ],
      "text/plain": [
       "           id             object_name chain object_type  \\\n",
       "0      151635                 СМЕТАНА   нет        кафе   \n",
       "1       77874                  Родник   нет        кафе   \n",
       "2       24309         Кафе «Академия»   нет        кафе   \n",
       "3       21894              ПИЦЦЕТОРИЯ    да        кафе   \n",
       "4      119365  Кафе «Вишневая метель»   нет        кафе   \n",
       "...       ...                     ...   ...         ...   \n",
       "15361  208537             Шоколадница    да        кафе   \n",
       "15362  209264             Шоколадница    да        кафе   \n",
       "15363  209186             Шоколадница    да        кафе   \n",
       "15364  221900             Шоколадница    да        кафе   \n",
       "15365  222535             Шоколадница    да        кафе   \n",
       "\n",
       "                                                                                             address  \\\n",
       "0                                                         город Москва, улица Егора Абакумова, дом 9   \n",
       "1                                                  город Москва, улица Талалихина, дом 2/1, корпус 1   \n",
       "2                                                          город Москва, Абельмановская улица, дом 6   \n",
       "3                                                            город Москва, Абрамцевская улица, дом 1   \n",
       "4                                                  город Москва, Абрамцевская улица, дом 9, корпус 1   \n",
       "...                                                                                              ...   \n",
       "15361                                                   город Москва, 3-й Крутицкий переулок, дом 18   \n",
       "15362                                                       город Москва, улица Земляной Вал, дом 33   \n",
       "15363                                                       город Москва, улица Земляной Вал, дом 33   \n",
       "15364  город Москва, поселение Московский, Киевское шоссе, 22-й километр, домовладение 4, строение 1   \n",
       "15365                                                         город Москва, Ходынский бульвар, дом 4   \n",
       "\n",
       "       number  \n",
       "0          48  \n",
       "1          35  \n",
       "2          95  \n",
       "3          40  \n",
       "4          50  \n",
       "...       ...  \n",
       "15361      50  \n",
       "15362      10  \n",
       "15363      20  \n",
       "15364      36  \n",
       "15365      10  \n",
       "\n",
       "[15366 rows x 6 columns]"
      ]
     },
     "metadata": {},
     "output_type": "display_data"
    },
    {
     "name": "stdout",
     "output_type": "stream",
     "text": [
      "-----------------------------------------------------------------------------\n",
      "Общая информация о датафрейме: rest_data\n",
      "<class 'pandas.core.frame.DataFrame'>\n",
      "RangeIndex: 15366 entries, 0 to 15365\n",
      "Data columns (total 6 columns):\n",
      " #   Column       Non-Null Count  Dtype \n",
      "---  ------       --------------  ----- \n",
      " 0   id           15366 non-null  int64 \n",
      " 1   object_name  15366 non-null  object\n",
      " 2   chain        15366 non-null  object\n",
      " 3   object_type  15366 non-null  object\n",
      " 4   address      15366 non-null  object\n",
      " 5   number       15366 non-null  int64 \n",
      "dtypes: int64(2), object(4)\n",
      "memory usage: 720.4+ KB\n",
      "-----------------------------------------------------------------------------\n",
      "Разброс значений, максимум, минимум, среднее и медиана в столбцах датафрейма: rest_data\n"
     ]
    },
    {
     "data": {
      "text/html": [
       "<div>\n",
       "<style scoped>\n",
       "    .dataframe tbody tr th:only-of-type {\n",
       "        vertical-align: middle;\n",
       "    }\n",
       "\n",
       "    .dataframe tbody tr th {\n",
       "        vertical-align: top;\n",
       "    }\n",
       "\n",
       "    .dataframe thead th {\n",
       "        text-align: right;\n",
       "    }\n",
       "</style>\n",
       "<table border=\"1\" class=\"dataframe\">\n",
       "  <thead>\n",
       "    <tr style=\"text-align: right;\">\n",
       "      <th></th>\n",
       "      <th>id</th>\n",
       "      <th>number</th>\n",
       "    </tr>\n",
       "  </thead>\n",
       "  <tbody>\n",
       "    <tr>\n",
       "      <th>count</th>\n",
       "      <td>15366.000000</td>\n",
       "      <td>15366.000000</td>\n",
       "    </tr>\n",
       "    <tr>\n",
       "      <th>mean</th>\n",
       "      <td>119720.066901</td>\n",
       "      <td>59.547182</td>\n",
       "    </tr>\n",
       "    <tr>\n",
       "      <th>std</th>\n",
       "      <td>73036.130732</td>\n",
       "      <td>74.736833</td>\n",
       "    </tr>\n",
       "    <tr>\n",
       "      <th>min</th>\n",
       "      <td>838.000000</td>\n",
       "      <td>0.000000</td>\n",
       "    </tr>\n",
       "    <tr>\n",
       "      <th>25%</th>\n",
       "      <td>28524.000000</td>\n",
       "      <td>12.000000</td>\n",
       "    </tr>\n",
       "    <tr>\n",
       "      <th>50%</th>\n",
       "      <td>144974.500000</td>\n",
       "      <td>40.000000</td>\n",
       "    </tr>\n",
       "    <tr>\n",
       "      <th>75%</th>\n",
       "      <td>184262.250000</td>\n",
       "      <td>80.000000</td>\n",
       "    </tr>\n",
       "    <tr>\n",
       "      <th>max</th>\n",
       "      <td>223439.000000</td>\n",
       "      <td>1700.000000</td>\n",
       "    </tr>\n",
       "  </tbody>\n",
       "</table>\n",
       "</div>"
      ],
      "text/plain": [
       "                  id        number\n",
       "count   15366.000000  15366.000000\n",
       "mean   119720.066901     59.547182\n",
       "std     73036.130732     74.736833\n",
       "min       838.000000      0.000000\n",
       "25%     28524.000000     12.000000\n",
       "50%    144974.500000     40.000000\n",
       "75%    184262.250000     80.000000\n",
       "max    223439.000000   1700.000000"
      ]
     },
     "metadata": {},
     "output_type": "display_data"
    },
    {
     "name": "stdout",
     "output_type": "stream",
     "text": [
      "-----------------------------------------------------------------------------\n",
      "Количество дубликатов в датафрейме: rest_data\n",
      "0\n",
      "=============================================================================\n"
     ]
    }
   ],
   "source": [
    "# изучаем содержимое исходного датафрейма:\n",
    "df_info = get_df_info(df_names)"
   ]
  },
  {
   "cell_type": "code",
   "execution_count": 5,
   "metadata": {},
   "outputs": [
    {
     "name": "stdout",
     "output_type": "stream",
     "text": [
      "Количество дубликатов в датафрейме без учета столбца id: 85 шт.\n",
      "Удалив дубликаты оставляем: 99 % от исходного количества строк ( 15281 шт.).\n"
     ]
    }
   ],
   "source": [
    "# Приводим названия заведений к нижнему регистру\n",
    "rest_data['object_name'] = [x.lower().replace(' ', '_') for x in rest_data['object_name'].values]\n",
    "#display(rest_data)\n",
    "#print(list(rest_data['object_name'].unique()))\n",
    "\n",
    "# Удаляем явные дубликаты ислючив из анализа столбец с id\n",
    "rest_data_clean = rest_data.copy()\n",
    "rest_data_clean = rest_data_clean.drop(['id'], axis=1)\n",
    "#display(rest_data_clean)\n",
    "print('Количество дубликатов в датафрейме без учета столбца id:', rest_data_clean.duplicated().sum(), 'шт.')\n",
    "rest_data_clean = rest_data_clean.drop_duplicates()\n",
    "print('Удалив дубликаты оставляем:', \n",
    "      round(((rest_data_clean.shape[0] / rest_data.shape[0])) * 100), \n",
    "      '% от исходного количества строк (', rest_data_clean.shape[0], 'шт.).')"
   ]
  },
  {
   "cell_type": "markdown",
   "metadata": {},
   "source": [
    "Исходный датафрейм представляет собой таблицу, в которой 15365 строк и 6 столбцов.\n",
    "\n",
    "В столбцах используются значения различных типов: строки и целые числа. Автоматически определенный тип значений верен.\n",
    "    \n",
    "На данном этапе пропусков в датафрейме не обнаружено. Количество дубликатов в датафрейме без учета столбца id: 85 шт.\n",
    "Удалив дубликаты оставляем 99 % от исходного количества строк ( 15281 шт.)."
   ]
  },
  {
   "cell_type": "markdown",
   "metadata": {},
   "source": [
    "## Шаг №2. Анализ данных\n",
    "\n",
    "[В начало](#intro)"
   ]
  },
  {
   "cell_type": "markdown",
   "metadata": {},
   "source": [
    "### Cоотношение видов (типов) объектов общественного питания по их количеству\n",
    "\n",
    "[В начало](#intro)"
   ]
  },
  {
   "cell_type": "code",
   "execution_count": 6,
   "metadata": {},
   "outputs": [
    {
     "name": "stdout",
     "output_type": "stream",
     "text": [
      "Всего уникальных видов (типов) объектов общественного питания: 9 .\n",
      "Общее количество объектов общественного питания (100 %): 15281 .\n",
      "Cоотношение видов (типов) объектов общественного питания по их количеству:\n"
     ]
    },
    {
     "data": {
      "text/html": [
       "<div>\n",
       "<style scoped>\n",
       "    .dataframe tbody tr th:only-of-type {\n",
       "        vertical-align: middle;\n",
       "    }\n",
       "\n",
       "    .dataframe tbody tr th {\n",
       "        vertical-align: top;\n",
       "    }\n",
       "\n",
       "    .dataframe thead th {\n",
       "        text-align: right;\n",
       "    }\n",
       "</style>\n",
       "<table border=\"1\" class=\"dataframe\">\n",
       "  <thead>\n",
       "    <tr style=\"text-align: right;\">\n",
       "      <th></th>\n",
       "      <th>object_type</th>\n",
       "      <th>type_count</th>\n",
       "      <th>percent</th>\n",
       "    </tr>\n",
       "  </thead>\n",
       "  <tbody>\n",
       "    <tr>\n",
       "      <th>0</th>\n",
       "      <td>кафе</td>\n",
       "      <td>6099</td>\n",
       "      <td>39.91</td>\n",
       "    </tr>\n",
       "    <tr>\n",
       "      <th>1</th>\n",
       "      <td>столовая</td>\n",
       "      <td>2587</td>\n",
       "      <td>16.93</td>\n",
       "    </tr>\n",
       "    <tr>\n",
       "      <th>2</th>\n",
       "      <td>ресторан</td>\n",
       "      <td>2285</td>\n",
       "      <td>14.95</td>\n",
       "    </tr>\n",
       "    <tr>\n",
       "      <th>3</th>\n",
       "      <td>предприятие быстрого обслуживания</td>\n",
       "      <td>1923</td>\n",
       "      <td>12.58</td>\n",
       "    </tr>\n",
       "    <tr>\n",
       "      <th>4</th>\n",
       "      <td>бар</td>\n",
       "      <td>856</td>\n",
       "      <td>5.60</td>\n",
       "    </tr>\n",
       "    <tr>\n",
       "      <th>5</th>\n",
       "      <td>буфет</td>\n",
       "      <td>585</td>\n",
       "      <td>3.83</td>\n",
       "    </tr>\n",
       "    <tr>\n",
       "      <th>6</th>\n",
       "      <td>кафетерий</td>\n",
       "      <td>398</td>\n",
       "      <td>2.60</td>\n",
       "    </tr>\n",
       "    <tr>\n",
       "      <th>7</th>\n",
       "      <td>закусочная</td>\n",
       "      <td>360</td>\n",
       "      <td>2.36</td>\n",
       "    </tr>\n",
       "    <tr>\n",
       "      <th>8</th>\n",
       "      <td>магазин (отдел кулинарии)</td>\n",
       "      <td>273</td>\n",
       "      <td>1.79</td>\n",
       "    </tr>\n",
       "  </tbody>\n",
       "</table>\n",
       "</div>"
      ],
      "text/plain": [
       "                         object_type  type_count  percent\n",
       "0                               кафе        6099    39.91\n",
       "1                           столовая        2587    16.93\n",
       "2                           ресторан        2285    14.95\n",
       "3  предприятие быстрого обслуживания        1923    12.58\n",
       "4                                бар         856     5.60\n",
       "5                              буфет         585     3.83\n",
       "6                          кафетерий         398     2.60\n",
       "7                         закусочная         360     2.36\n",
       "8          магазин (отдел кулинарии)         273     1.79"
      ]
     },
     "metadata": {},
     "output_type": "display_data"
    }
   ],
   "source": [
    "# Перечень уникальных видов (типов) объектов общественного питания:\n",
    "object_type_dist = rest_data_clean['object_type'].nunique()\n",
    "print('Всего уникальных видов (типов) объектов общественного питания:', object_type_dist, '.')\n",
    "print('Общее количество объектов общественного питания (100 %):', rest_data_clean.shape[0], '.')\n",
    "print('Cоотношение видов (типов) объектов общественного питания по их количеству:')\n",
    "type_unique = (rest_data['object_type']\n",
    "               .value_counts()\n",
    "               .reset_index()\n",
    "              )\n",
    "type_unique.columns = ['object_type', 'type_count']\n",
    "type_unique['percent'] = round((type_unique['type_count'] / rest_data_clean.shape[0]) * 100, 2)\n",
    "display(type_unique)"
   ]
  },
  {
   "cell_type": "code",
   "execution_count": 7,
   "metadata": {
    "scrolled": true
   },
   "outputs": [
    {
     "data": {
      "image/png": "[encoded data removed]",
      "text/plain": [
       "<Figure size 1080x288 with 2 Axes>"
      ]
     },
     "metadata": {
      "needs_background": "light"
     },
     "output_type": "display_data"
    }
   ],
   "source": [
    "# Строим графики соотношения видов (типов) объектов общественного питания по их количеству:\n",
    "\n",
    "# готовим датафрейм для круговой диаграммы:\n",
    "var_first = 4 # первые 4 позиции из соритрованного по убыванию количества заведений списка\n",
    "var_last = object_type_dist - var_first # остальные позиции из соритрованного списка\n",
    "type_unique_pie = type_unique.head(var_first)\n",
    "type_unique_pie = type_unique_pie.drop(['percent'], axis=1)\n",
    "sum_last = rest_data.shape[0] - sum(type_unique_pie['type_count'])\n",
    "type_unique_pie.loc[len(type_unique_pie.index)] = ['прочие', sum_last]\n",
    "#display(type_unique_pie)\n",
    "\n",
    "# готовим датафрейм для столбчатой диаграммы:\n",
    "type_unique_bar = type_unique.tail(var_last)\n",
    "type_unique_bar = type_unique_bar.drop(['type_count'], axis=1)\n",
    "#display(type_unique_bar)\n",
    "\n",
    "# строим обе диаграммы на одной фигуре рядом:\n",
    "fig_1 = plt.figure(figsize=(15, 4))\n",
    "gridsize = (1, 3) # сетка состоит из 1 строки и 3 столбцов, первая ячейка имеет номер (0, 0), вторая - (0, 1)\n",
    "axes1 = plt.subplot2grid(gridsize, (0, 0)) # на круговую диаграмму отводим одну ячейку\n",
    "axes2 = plt.subplot2grid(gridsize, (0, 1), colspan = 2) # на столбчатую диаграмму отводим две ячейки\n",
    "fig_1.suptitle('Соотношение видов (типов) объектов общественного питания по их количеству', y=1.012, fontsize=16)\n",
    "# в первой ячейке строим круговую диаграмму:\n",
    "axes1.set(title = 'основные типы объектов')\n",
    "axes1.pie(\n",
    "    x = type_unique_pie['type_count'], \n",
    "    labels = type_unique_pie['object_type'], \n",
    "    autopct = '%1.1f%%', # выводим значения в процентах\n",
    "    wedgeprops = dict(width = 0.65) # отверстие в центре круга\n",
    ")\n",
    "# во второй ячейке строим столбчатый график:\n",
    "axes2.set(title='прочие типы объектов')\n",
    "axes2.bar(x = type_unique_bar['object_type'], height = type_unique_bar['percent'])\n",
    "axes2.grid('True')\n",
    "axes2.set_ylabel('%')\n",
    "\n",
    "plt.tight_layout() # исключаем наложение графиков\n",
    "plt.savefig('1 Соотношение видов (типов) объектов общественного питания по их количеству.png')\n",
    "plt.show()\n"
   ]
  },
  {
   "cell_type": "markdown",
   "metadata": {},
   "source": [
    "Почти 40 % всех заведений - это кафе.<br>\n",
    "На втором месте по распространенности столовые (16,8 %), далее следуют рестораны (14,9 %) и предприятия быстрого обслуживания (12,5 %).<br>\n",
    "Прочие 5 видов заведений вместе набирают чуть более 16 % (среди них больше всего баров - более 5 %)."
   ]
  },
  {
   "cell_type": "markdown",
   "metadata": {},
   "source": [
    "### Cоотношение сетевых и несетевых заведений по их количеству\n",
    "\n",
    "[В начало](#intro)"
   ]
  },
  {
   "cell_type": "code",
   "execution_count": 8,
   "metadata": {},
   "outputs": [
    {
     "name": "stdout",
     "output_type": "stream",
     "text": [
      "Всего уникальных видов (типов) объектов общественного питания: 9 .\n",
      "Общее количество объектов общественного питания (100 %): 15281 .\n",
      "Cоотношение сетевых и несетевых заведений по их количеству:\n"
     ]
    },
    {
     "data": {
      "text/html": [
       "<div>\n",
       "<style scoped>\n",
       "    .dataframe tbody tr th:only-of-type {\n",
       "        vertical-align: middle;\n",
       "    }\n",
       "\n",
       "    .dataframe tbody tr th {\n",
       "        vertical-align: top;\n",
       "    }\n",
       "\n",
       "    .dataframe thead th {\n",
       "        text-align: right;\n",
       "    }\n",
       "</style>\n",
       "<table border=\"1\" class=\"dataframe\">\n",
       "  <thead>\n",
       "    <tr style=\"text-align: right;\">\n",
       "      <th></th>\n",
       "      <th>object_chain</th>\n",
       "      <th>type_count</th>\n",
       "      <th>percent</th>\n",
       "    </tr>\n",
       "  </thead>\n",
       "  <tbody>\n",
       "    <tr>\n",
       "      <th>0</th>\n",
       "      <td>нет</td>\n",
       "      <td>12317</td>\n",
       "      <td>80.6</td>\n",
       "    </tr>\n",
       "    <tr>\n",
       "      <th>1</th>\n",
       "      <td>да</td>\n",
       "      <td>2964</td>\n",
       "      <td>19.4</td>\n",
       "    </tr>\n",
       "  </tbody>\n",
       "</table>\n",
       "</div>"
      ],
      "text/plain": [
       "  object_chain  type_count  percent\n",
       "0          нет       12317     80.6\n",
       "1           да        2964     19.4"
      ]
     },
     "metadata": {},
     "output_type": "display_data"
    }
   ],
   "source": [
    "# Перечень уникальных видов (типов) объектов общественного питания:\n",
    "print('Всего уникальных видов (типов) объектов общественного питания:', object_type_dist, '.')\n",
    "print('Общее количество объектов общественного питания (100 %):', rest_data_clean.shape[0], '.')\n",
    "print('Cоотношение сетевых и несетевых заведений по их количеству:')\n",
    "type_unique_chain = (rest_data_clean['chain']\n",
    "                     .value_counts()\n",
    "                     .reset_index()\n",
    "                    )\n",
    "type_unique_chain.columns = ['object_chain', 'type_count']\n",
    "type_unique_chain['percent'] = round((type_unique_chain['type_count'] / rest_data_clean.shape[0]) * 100, 2)\n",
    "display(type_unique_chain)"
   ]
  },
  {
   "cell_type": "code",
   "execution_count": 9,
   "metadata": {},
   "outputs": [
    {
     "data": {
      "image/png": "[encoded data removed]",
      "text/plain": [
       "<Figure size 576x288 with 2 Axes>"
      ]
     },
     "metadata": {
      "needs_background": "light"
     },
     "output_type": "display_data"
    }
   ],
   "source": [
    "# Строим графики сетевых и несетевых заведений по их количеству:\n",
    "\n",
    "# готовим датафрейм для диаграмм:\n",
    "type_unique_chain_pie_bar = type_unique_chain.drop(['percent'], axis=1)\n",
    "#display(type_unique_chain_pie_bar)\n",
    "\n",
    "# строим обе диаграммы на одной фигуре рядом:\n",
    "fig_1 = plt.figure(figsize=(8, 4))\n",
    "gridsize = (1, 2) # сетка состоит из 1 строки и 2 столбцов, первая ячейка имеет номер (0, 0), вторая - (0, 1)\n",
    "axes1 = plt.subplot2grid(gridsize, (0, 0)) # на круговую диаграмму отводим одну ячейку\n",
    "axes2 = plt.subplot2grid(gridsize, (0, 1)) # на столбчатую диаграмму отводим одну ячейку\n",
    "fig_1.suptitle('Соотношение сетевых и несетевых заведений по их количеству', y=1.012, fontsize=16)\n",
    "# в первой ячейке строим круговую диаграмму:\n",
    "axes1.set(title = 'в процентах')\n",
    "axes1.pie(\n",
    "    x = type_unique_chain_pie_bar['type_count'], \n",
    "    labels = type_unique_chain_pie_bar['object_chain'], \n",
    "    autopct = '%1.1f%%', # выводим значения в процентах\n",
    "    wedgeprops = dict(width = 0.65), # отверстие в центре круга\n",
    "    colors = ['tab:blue', 'tab:red']\n",
    ")\n",
    "# во второй ячейке строим столбчатый график:\n",
    "axes2.set(title='в абсолютных величинах')\n",
    "axes2.bar(x = type_unique_chain_pie_bar['object_chain'], \n",
    "          height = type_unique_chain_pie_bar['type_count'],\n",
    "          color = ['tab:blue', 'tab:red']\n",
    "         )\n",
    "axes2.grid('True')\n",
    "axes2.set_ylabel('шт.')\n",
    "\n",
    "plt.tight_layout() # исключаем наложение графиков\n",
    "plt.savefig('2 Соотношение сетевых и несетевых заведений по их количеству.png')\n",
    "plt.show()\n"
   ]
  },
  {
   "cell_type": "markdown",
   "metadata": {},
   "source": [
    "Почти 81 % (12317 шт.) всех заведений - не сетевые.<br>\n",
    "Чуть более 19 % (2964 шт.) - сетевые."
   ]
  },
  {
   "cell_type": "markdown",
   "metadata": {},
   "source": [
    "### Сетевое распространение среди объектов общественного питания\n",
    "\n",
    "[В начало](#intro)"
   ]
  },
  {
   "cell_type": "code",
   "execution_count": 10,
   "metadata": {},
   "outputs": [
    {
     "name": "stdout",
     "output_type": "stream",
     "text": [
      "Cоотношение видов (типов) объектов общественного питания по признаку сетевое / не сетевое заведение:\n"
     ]
    },
    {
     "data": {
      "text/html": [
       "<div>\n",
       "<style scoped>\n",
       "    .dataframe tbody tr th:only-of-type {\n",
       "        vertical-align: middle;\n",
       "    }\n",
       "\n",
       "    .dataframe tbody tr th {\n",
       "        vertical-align: top;\n",
       "    }\n",
       "\n",
       "    .dataframe thead th {\n",
       "        text-align: right;\n",
       "    }\n",
       "</style>\n",
       "<table border=\"1\" class=\"dataframe\">\n",
       "  <thead>\n",
       "    <tr style=\"text-align: right;\">\n",
       "      <th></th>\n",
       "      <th>object_type</th>\n",
       "      <th>type_count</th>\n",
       "      <th>percent</th>\n",
       "      <th>chain_yes</th>\n",
       "      <th>chain_no</th>\n",
       "      <th>percent_chain_yes</th>\n",
       "    </tr>\n",
       "  </thead>\n",
       "  <tbody>\n",
       "    <tr>\n",
       "      <th>0</th>\n",
       "      <td>кафе</td>\n",
       "      <td>6099</td>\n",
       "      <td>39.91</td>\n",
       "      <td>1396</td>\n",
       "      <td>4675</td>\n",
       "      <td>22.89</td>\n",
       "    </tr>\n",
       "    <tr>\n",
       "      <th>1</th>\n",
       "      <td>столовая</td>\n",
       "      <td>2587</td>\n",
       "      <td>16.93</td>\n",
       "      <td>3</td>\n",
       "      <td>2581</td>\n",
       "      <td>0.12</td>\n",
       "    </tr>\n",
       "    <tr>\n",
       "      <th>2</th>\n",
       "      <td>ресторан</td>\n",
       "      <td>2285</td>\n",
       "      <td>14.95</td>\n",
       "      <td>543</td>\n",
       "      <td>1739</td>\n",
       "      <td>23.76</td>\n",
       "    </tr>\n",
       "    <tr>\n",
       "      <th>3</th>\n",
       "      <td>предприятие быстрого обслуживания</td>\n",
       "      <td>1923</td>\n",
       "      <td>12.58</td>\n",
       "      <td>788</td>\n",
       "      <td>1109</td>\n",
       "      <td>40.98</td>\n",
       "    </tr>\n",
       "    <tr>\n",
       "      <th>4</th>\n",
       "      <td>бар</td>\n",
       "      <td>856</td>\n",
       "      <td>5.60</td>\n",
       "      <td>37</td>\n",
       "      <td>818</td>\n",
       "      <td>4.32</td>\n",
       "    </tr>\n",
       "    <tr>\n",
       "      <th>5</th>\n",
       "      <td>буфет</td>\n",
       "      <td>585</td>\n",
       "      <td>3.83</td>\n",
       "      <td>11</td>\n",
       "      <td>565</td>\n",
       "      <td>1.88</td>\n",
       "    </tr>\n",
       "    <tr>\n",
       "      <th>6</th>\n",
       "      <td>кафетерий</td>\n",
       "      <td>398</td>\n",
       "      <td>2.60</td>\n",
       "      <td>52</td>\n",
       "      <td>343</td>\n",
       "      <td>13.07</td>\n",
       "    </tr>\n",
       "    <tr>\n",
       "      <th>7</th>\n",
       "      <td>закусочная</td>\n",
       "      <td>360</td>\n",
       "      <td>2.36</td>\n",
       "      <td>56</td>\n",
       "      <td>292</td>\n",
       "      <td>15.56</td>\n",
       "    </tr>\n",
       "    <tr>\n",
       "      <th>8</th>\n",
       "      <td>магазин (отдел кулинарии)</td>\n",
       "      <td>273</td>\n",
       "      <td>1.79</td>\n",
       "      <td>78</td>\n",
       "      <td>195</td>\n",
       "      <td>28.57</td>\n",
       "    </tr>\n",
       "  </tbody>\n",
       "</table>\n",
       "</div>"
      ],
      "text/plain": [
       "                         object_type  type_count  percent  chain_yes  \\\n",
       "0                               кафе        6099    39.91       1396   \n",
       "1                           столовая        2587    16.93          3   \n",
       "2                           ресторан        2285    14.95        543   \n",
       "3  предприятие быстрого обслуживания        1923    12.58        788   \n",
       "4                                бар         856     5.60         37   \n",
       "5                              буфет         585     3.83         11   \n",
       "6                          кафетерий         398     2.60         52   \n",
       "7                         закусочная         360     2.36         56   \n",
       "8          магазин (отдел кулинарии)         273     1.79         78   \n",
       "\n",
       "   chain_no  percent_chain_yes  \n",
       "0      4675              22.89  \n",
       "1      2581               0.12  \n",
       "2      1739              23.76  \n",
       "3      1109              40.98  \n",
       "4       818               4.32  \n",
       "5       565               1.88  \n",
       "6       343              13.07  \n",
       "7       292              15.56  \n",
       "8       195              28.57  "
      ]
     },
     "metadata": {},
     "output_type": "display_data"
    },
    {
     "data": {
      "image/png": "[encoded data removed]",
      "text/plain": [
       "<Figure size 720x432 with 1 Axes>"
      ]
     },
     "metadata": {
      "needs_background": "light"
     },
     "output_type": "display_data"
    }
   ],
   "source": [
    "# Готовим датафрейм с обобщенными данными сетевых и несетевых заведений по их типам:\n",
    "rest_data_clean['chain_yes'] = np.where(rest_data_clean['chain'].str.contains('да'), 1, 0)\n",
    "rest_data_clean['chain_no'] = np.where(rest_data_clean['chain'].str.contains('нет'), 1, 0)\n",
    "#display(rest_data_clean)\n",
    "type_unique_chain_yes = rest_data_clean.groupby('object_type')['chain_yes'].sum().reset_index()\n",
    "type_unique_chain_no = rest_data_clean.groupby('object_type')['chain_no'].sum().reset_index()\n",
    "type_unique = type_unique.merge(type_unique_chain_yes, on = ['object_type'], how = 'inner')\n",
    "type_unique = type_unique.merge(type_unique_chain_no, on = ['object_type'], how = 'inner')\n",
    "type_unique['percent_chain_yes'] = round((type_unique['chain_yes'] / type_unique['type_count']) * 100, 2)\n",
    "print('Cоотношение видов (типов) объектов общественного питания по признаку сетевое / не сетевое заведение:')\n",
    "display(type_unique)               \n",
    "\n",
    "# Строим столбчатые графики сетевых и несетевых заведений:\n",
    "width = 0.3\n",
    "x = np.arange(len(type_unique))\n",
    "fig, ax = plt.subplots(figsize = (10, 6))\n",
    "rects1 = ax.barh(x - width/2, type_unique['chain_yes'], width, label = 'сетевое заведение')\n",
    "rects2 = ax.barh(x + width/2, type_unique['chain_no'], width, label = 'не сетевое заведение')\n",
    "ax.set_title('Сетевое распространение среди объектов общественного питания')\n",
    "ax.set_xlabel('количество заведений, шт.')\n",
    "ax.set_yticks(x)\n",
    "ax.set_yticklabels(type_unique['object_type'])\n",
    "ax.legend()\n",
    "plt.savefig('3 Сетевое распространение среди объектов общественного питания.png')\n",
    "plt.show()\n"
   ]
  },
  {
   "cell_type": "markdown",
   "metadata": {},
   "source": [
    "Среди объектов общественного питания сетевых предприятий в абсолютных величинах больше всего среди кафе (1396 шт.), а в относительных величинах - среди предприятий быстрого обслуживания (40,98 %).<br>\n",
    "Среди столовых и буфетов сетевых предприятий почти нет."
   ]
  },
  {
   "cell_type": "code",
   "execution_count": 11,
   "metadata": {},
   "outputs": [
    {
     "data": {
      "image/png": "[encoded data removed]",
      "text/plain": [
       "<Figure size 1080x432 with 1 Axes>"
      ]
     },
     "metadata": {
      "needs_background": "light"
     },
     "output_type": "display_data"
    }
   ],
   "source": [
    "# Код ревьюера\n",
    "\n",
    "plt.figure(figsize=(15,6))\n",
    "\n",
    "rest_data.groupby('object_type')['chain'].value_counts() \\\n",
    "    .rename('obj_count') \\\n",
    "    .reset_index() \\\n",
    "    .pipe((sns.barplot,'data'), x='object_type', y='obj_count', hue='chain')\n",
    "\n",
    "old_ticks, old_labels = plt.xticks()\n",
    "plt.xticks(old_ticks, ['\\n'.join(label.get_text().split()) for label in old_labels]);"
   ]
  },
  {
   "cell_type": "markdown",
   "metadata": {},
   "source": [
    "### Анализ сетевых заведений по количеству посадочных мест\n",
    "\n",
    "[В начало](#intro)\n",
    "\n",
    "Проверим, что более характерно для сетевых заведений: много заведений с небольшим числом посадочных мест в каждом или мало заведений с большим количеством посадочных мест."
   ]
  },
  {
   "cell_type": "code",
   "execution_count": 12,
   "metadata": {},
   "outputs": [
    {
     "name": "stdout",
     "output_type": "stream",
     "text": [
      "Устанавливаем диапазоны сравнения:\n",
      "для посадочных мест (seats):\n",
      " мало (s_few) <= [26.]\n",
      " много (s_many) >= [67.52]\n",
      " среднее количество (s_middle) - в остальных случаях\n",
      "для количества заведений (counts):\n",
      " мало (с_few) <= [3.]\n",
      " много (с_many) >= [6.]\n",
      " среднее количество (с_middle) - в остальных случаях\n",
      "Таблица связи количества посадочных мест (s) и количества заведений (c) для сетевых объектов общественного питания:\n"
     ]
    },
    {
     "data": {
      "text/html": [
       "<div>\n",
       "<style scoped>\n",
       "    .dataframe tbody tr th:only-of-type {\n",
       "        vertical-align: middle;\n",
       "    }\n",
       "\n",
       "    .dataframe tbody tr th {\n",
       "        vertical-align: top;\n",
       "    }\n",
       "\n",
       "    .dataframe thead th {\n",
       "        text-align: right;\n",
       "    }\n",
       "</style>\n",
       "<table border=\"1\" class=\"dataframe\">\n",
       "  <thead>\n",
       "    <tr style=\"text-align: right;\">\n",
       "      <th></th>\n",
       "      <th>col_names</th>\n",
       "      <th>col_sum</th>\n",
       "    </tr>\n",
       "  </thead>\n",
       "  <tbody>\n",
       "    <tr>\n",
       "      <th>0</th>\n",
       "      <td>s_few_c_few</td>\n",
       "      <td>43</td>\n",
       "    </tr>\n",
       "    <tr>\n",
       "      <th>1</th>\n",
       "      <td>s_few_c_middle</td>\n",
       "      <td>9</td>\n",
       "    </tr>\n",
       "    <tr>\n",
       "      <th>2</th>\n",
       "      <td>s_few_c_many</td>\n",
       "      <td>31</td>\n",
       "    </tr>\n",
       "    <tr>\n",
       "      <th>3</th>\n",
       "      <td>s_middle_c_few</td>\n",
       "      <td>35</td>\n",
       "    </tr>\n",
       "    <tr>\n",
       "      <th>4</th>\n",
       "      <td>s_middle_c_middle</td>\n",
       "      <td>12</td>\n",
       "    </tr>\n",
       "    <tr>\n",
       "      <th>5</th>\n",
       "      <td>s_middle_c_many</td>\n",
       "      <td>32</td>\n",
       "    </tr>\n",
       "    <tr>\n",
       "      <th>6</th>\n",
       "      <td>s_many_c_few</td>\n",
       "      <td>44</td>\n",
       "    </tr>\n",
       "    <tr>\n",
       "      <th>7</th>\n",
       "      <td>s_many_c_middle</td>\n",
       "      <td>11</td>\n",
       "    </tr>\n",
       "    <tr>\n",
       "      <th>8</th>\n",
       "      <td>s_many_c_many</td>\n",
       "      <td>29</td>\n",
       "    </tr>\n",
       "  </tbody>\n",
       "</table>\n",
       "</div>"
      ],
      "text/plain": [
       "           col_names  col_sum\n",
       "0        s_few_c_few       43\n",
       "1     s_few_c_middle        9\n",
       "2       s_few_c_many       31\n",
       "3     s_middle_c_few       35\n",
       "4  s_middle_c_middle       12\n",
       "5    s_middle_c_many       32\n",
       "6       s_many_c_few       44\n",
       "7    s_many_c_middle       11\n",
       "8      s_many_c_many       29"
      ]
     },
     "metadata": {},
     "output_type": "display_data"
    },
    {
     "name": "stdout",
     "output_type": "stream",
     "text": [
      "\n",
      "\n"
     ]
    },
    {
     "data": {
      "image/png": "[encoded data removed]",
      "text/plain": [
       "<Figure size 1296x432 with 1 Axes>"
      ]
     },
     "metadata": {
      "needs_background": "light"
     },
     "output_type": "display_data"
    },
    {
     "data": {
      "text/plain": [
       "<Figure size 432x288 with 0 Axes>"
      ]
     },
     "metadata": {},
     "output_type": "display_data"
    }
   ],
   "source": [
    "# Собираем таблицу для построения графика: \n",
    "\n",
    "# 1) сгруппируем сетевые заведения по сетям (по object_name) и для каждой сети\n",
    "#    определим число заведений и среднее число посадочных мест\n",
    "chain_yes_name_all = rest_data_clean[rest_data_clean['chain_yes'] == 1]\n",
    "#display(chain_yes_name_all)\n",
    "chain_yes_name = (chain_yes_name_all\n",
    "                  .groupby('object_name')\n",
    "                  .agg({'number' : 'mean', 'chain_yes' : 'sum'})\n",
    "                  .reset_index())\n",
    "chain_yes_name.columns = ['object_name', 'number_mean', 'count_chain_yes']\n",
    "#display(chain_yes_name)\n",
    "\n",
    "# 2) сети, состоящие из 1 заведения исключаем, т.к. они, вероятно, возникают из-за разного написания названий\n",
    "chain_yes_name_not_one = chain_yes_name.query('count_chain_yes != 1')\n",
    "#display(chain_yes_name_not_one)\n",
    "\n",
    "# 3) для оставшихся сетей формируем группы по критериям много...мало посадочных мест в заведении и количества заведений в сети:\n",
    "# мало (few), среднее количество (middle), много (many) для мест (seats) и количества заведений (counts).\n",
    "# Устанавливаем границы с помощью значений 33 и 66 перцентеля:\n",
    "var_s_33 = np.percentile(chain_yes_name_not_one['number_mean'], [33])\n",
    "var_s_66 = np.percentile(chain_yes_name_not_one['number_mean'], [66])\n",
    "var_c_33 = np.percentile(chain_yes_name_not_one['count_chain_yes'], [33])\n",
    "var_c_66 = np.percentile(chain_yes_name_not_one['count_chain_yes'], [66])\n",
    "print('Устанавливаем диапазоны сравнения:')\n",
    "print('для посадочных мест (seats):')\n",
    "print(' мало (s_few) <=', var_s_33)\n",
    "print(' много (s_many) >=', var_s_66)\n",
    "print(' среднее количество (s_middle) - в остальных случаях')\n",
    "print('для количества заведений (counts):')\n",
    "print(' мало (с_few) <=', var_c_33)\n",
    "print(' много (с_many) >=', var_c_66)\n",
    "print(' среднее количество (с_middle) - в остальных случаях')\n",
    "\n",
    "# 4) готовим данные\n",
    "# создадим функцию, которая категоризирует данные столбца number_mean как \"s_few / s_middle / s_many\":   \n",
    "def f_number_mean(row):\n",
    "    x = row['number_mean']\n",
    "    if x <= var_s_33: return 's_few'\n",
    "    elif x >= var_s_66: return 's_many'\n",
    "    else: return 's_middle'\n",
    "\n",
    "# создадим функцию, которая категоризирует данные столбца count_chain_yes как \"c_few / c_middle / c_many\":   \n",
    "def f_count_chain_yes(row):\n",
    "    x = row['count_chain_yes']    \n",
    "    if x <= var_c_33: return 'c_few'\n",
    "    elif x >= var_c_66: return 'c_many'\n",
    "    else: return 'c_middle'\n",
    "\n",
    "# cоздадим столбец seats с категориями \"s_few / s_middle / s_many\":\n",
    "chain_yes_name_not_one['seats'] = chain_yes_name_not_one.apply(f_number_mean, axis=1)\n",
    "# cоздадим столбец counts с категориями \"c_few / c_middle / c_many\":\n",
    "chain_yes_name_not_one['counts'] = chain_yes_name_not_one.apply(f_count_chain_yes, axis=1)\n",
    "# создадим переменные для подсчета сумм:\n",
    "s_few_c_few, s_few_c_middle, s_few_c_many = 0, 0, 0\n",
    "s_middle_c_few, s_middle_c_middle, s_middle_c_many = 0, 0, 0\n",
    "s_many_c_few, s_many_c_middle, s_many_c_many = 0, 0, 0\n",
    "# цикл для подсчета значений переменных:\n",
    "for i in range(len(chain_yes_name_not_one)):\n",
    "#chain_yes_name_not_one.iterrows():\n",
    "#range(len(chain_yes_name_not_one)):\n",
    "#for i in range(0, len(df)):\n",
    "#    print df.iloc[i]['c1'], df.iloc[i]['c2']\n",
    "\n",
    "    if ((chain_yes_name_not_one.iloc[i]['seats'] == 's_few') and (chain_yes_name_not_one.iloc[i]['counts'] == 'c_few')): \n",
    "        s_few_c_few = s_few_c_few + 1\n",
    "    elif ((chain_yes_name_not_one.iloc[i]['seats'] == 's_few') and (chain_yes_name_not_one.iloc[i]['counts'] == 'c_middle')): \n",
    "        s_few_c_middle = s_few_c_middle + 1\n",
    "    elif ((chain_yes_name_not_one.iloc[i]['seats'] == 's_few') and (chain_yes_name_not_one.iloc[i]['counts'] == 'c_many')): \n",
    "        s_few_c_many = s_few_c_many + 1    \n",
    "    elif ((chain_yes_name_not_one.iloc[i]['seats'] == 's_middle') and (chain_yes_name_not_one.iloc[i]['counts'] == 'c_few')): \n",
    "        s_middle_c_few = s_middle_c_few + 1\n",
    "    elif ((chain_yes_name_not_one.iloc[i]['seats'] == 's_middle') and (chain_yes_name_not_one.iloc[i]['counts'] == 'c_middle')): \n",
    "        s_middle_c_middle = s_middle_c_middle + 1\n",
    "    elif ((chain_yes_name_not_one.iloc[i]['seats'] == 's_middle') and (chain_yes_name_not_one.iloc[i]['counts'] == 'c_many')): \n",
    "        s_middle_c_many = s_middle_c_many + 1  \n",
    "    elif ((chain_yes_name_not_one.iloc[i]['seats'] == 's_many') and (chain_yes_name_not_one.iloc[i]['counts'] == 'c_few')): \n",
    "        s_many_c_few = s_many_c_few + 1\n",
    "    elif ((chain_yes_name_not_one.iloc[i]['seats'] == 's_many') and (chain_yes_name_not_one.iloc[i]['counts'] == 'c_middle')): \n",
    "        s_many_c_middle = s_many_c_middle + 1\n",
    "    else: \n",
    "        s_many_c_many = s_many_c_many + 1                 \n",
    "# 5) собираем таблицу с комбинациями категорий seats и counts:\n",
    "table_combo = pd.DataFrame({\n",
    "    'col_names' : ['s_few_c_few', 's_few_c_middle', 's_few_c_many', \n",
    "                   's_middle_c_few', 's_middle_c_middle', 's_middle_c_many', \n",
    "                   's_many_c_few', 's_many_c_middle', 's_many_c_many'],\n",
    "    'col_sum' : [s_few_c_few, s_few_c_middle, s_few_c_many, \n",
    "                 s_middle_c_few, s_middle_c_middle, s_middle_c_many,\n",
    "                 s_many_c_few, s_many_c_middle, s_many_c_many]\n",
    "})\n",
    "print('Таблица связи количества посадочных мест (s) и количества заведений (c) для сетевых объектов общественного питания:')\n",
    "display(table_combo)\n",
    "print()\n",
    "print()\n",
    "\n",
    "# Строим график\n",
    "plt.figure(figsize = (18, 6))\n",
    "barplot_fig = sns.barplot(data = table_combo, x = \"col_names\", y = \"col_sum\")\n",
    "barplot_fig.set_title('Группировка связи количества посадочных мест (s) и количества заведений (c) для сетевых объектов общественного питания', fontsize=16)\n",
    "barplot_fig.set_ylabel('Количество заведений в группе, шт.', fontsize=14)\n",
    "barplot_fig.set_xlabel('Варианты группировок', fontsize=14)\n",
    "plt.show()\n",
    "plt.savefig('4 Группировка связи количества посадочных мест (s) и количества заведений (c).png')"
   ]
  },
  {
   "cell_type": "markdown",
   "metadata": {},
   "source": [
    "Для объектов общественного питания сетевых предприятий характерно наличие лишь нескольких сетей с большим количеством заведений как с небольшим (до 26), так и со средним (от 26 до 68) и большим (от 68) числом посадочных мест в каждом."
   ]
  },
  {
   "cell_type": "code",
   "execution_count": 13,
   "metadata": {},
   "outputs": [
    {
     "data": {
      "text/html": [
       "<div>\n",
       "<style scoped>\n",
       "    .dataframe tbody tr th:only-of-type {\n",
       "        vertical-align: middle;\n",
       "    }\n",
       "\n",
       "    .dataframe tbody tr th {\n",
       "        vertical-align: top;\n",
       "    }\n",
       "\n",
       "    .dataframe thead tr th {\n",
       "        text-align: left;\n",
       "    }\n",
       "\n",
       "    .dataframe thead tr:last-of-type th {\n",
       "        text-align: right;\n",
       "    }\n",
       "</style>\n",
       "<table border=\"1\" class=\"dataframe\">\n",
       "  <thead>\n",
       "    <tr>\n",
       "      <th></th>\n",
       "      <th colspan=\"3\" halign=\"left\">0</th>\n",
       "    </tr>\n",
       "    <tr>\n",
       "      <th>counts</th>\n",
       "      <th>c_few</th>\n",
       "      <th>c_many</th>\n",
       "      <th>c_middle</th>\n",
       "    </tr>\n",
       "    <tr>\n",
       "      <th>seats</th>\n",
       "      <th></th>\n",
       "      <th></th>\n",
       "      <th></th>\n",
       "    </tr>\n",
       "  </thead>\n",
       "  <tbody>\n",
       "    <tr>\n",
       "      <th>s_few</th>\n",
       "      <td>43</td>\n",
       "      <td>31</td>\n",
       "      <td>9</td>\n",
       "    </tr>\n",
       "    <tr>\n",
       "      <th>s_many</th>\n",
       "      <td>44</td>\n",
       "      <td>29</td>\n",
       "      <td>11</td>\n",
       "    </tr>\n",
       "    <tr>\n",
       "      <th>s_middle</th>\n",
       "      <td>35</td>\n",
       "      <td>32</td>\n",
       "      <td>12</td>\n",
       "    </tr>\n",
       "  </tbody>\n",
       "</table>\n",
       "</div>"
      ],
      "text/plain": [
       "             0                \n",
       "counts   c_few c_many c_middle\n",
       "seats                         \n",
       "s_few       43     31        9\n",
       "s_many      44     29       11\n",
       "s_middle    35     32       12"
      ]
     },
     "execution_count": 13,
     "metadata": {},
     "output_type": "execute_result"
    }
   ],
   "source": [
    "chain_yes_name_not_one[['seats','counts']].value_counts().to_frame().unstack('counts')"
   ]
  },
  {
   "cell_type": "markdown",
   "metadata": {},
   "source": [
    "### Анализ сетевых заведений по видам объекта общественного питания \n",
    "\n",
    "[В начало](#intro)\n",
    "\n",
    "Для каждого вида объекта общественного питания найдем среднее количество посадочных мест. Определим вид заведения, предоставляющий в среднем самое большое количество посадочных мест."
   ]
  },
  {
   "cell_type": "code",
   "execution_count": 14,
   "metadata": {},
   "outputs": [
    {
     "name": "stdout",
     "output_type": "stream",
     "text": [
      "Таблица для связи вида сетевого заведения и среднего количества посадочных мест в нем:\n"
     ]
    },
    {
     "data": {
      "text/html": [
       "<div>\n",
       "<style scoped>\n",
       "    .dataframe tbody tr th:only-of-type {\n",
       "        vertical-align: middle;\n",
       "    }\n",
       "\n",
       "    .dataframe tbody tr th {\n",
       "        vertical-align: top;\n",
       "    }\n",
       "\n",
       "    .dataframe thead th {\n",
       "        text-align: right;\n",
       "    }\n",
       "</style>\n",
       "<table border=\"1\" class=\"dataframe\">\n",
       "  <thead>\n",
       "    <tr style=\"text-align: right;\">\n",
       "      <th></th>\n",
       "      <th>object_type</th>\n",
       "      <th>mean_number</th>\n",
       "      <th>count_object</th>\n",
       "    </tr>\n",
       "  </thead>\n",
       "  <tbody>\n",
       "    <tr>\n",
       "      <th>0</th>\n",
       "      <td>столовая</td>\n",
       "      <td>112.0</td>\n",
       "      <td>3</td>\n",
       "    </tr>\n",
       "    <tr>\n",
       "      <th>1</th>\n",
       "      <td>ресторан</td>\n",
       "      <td>100.0</td>\n",
       "      <td>543</td>\n",
       "    </tr>\n",
       "    <tr>\n",
       "      <th>2</th>\n",
       "      <td>бар</td>\n",
       "      <td>53.0</td>\n",
       "      <td>37</td>\n",
       "    </tr>\n",
       "    <tr>\n",
       "      <th>3</th>\n",
       "      <td>кафе</td>\n",
       "      <td>47.0</td>\n",
       "      <td>1396</td>\n",
       "    </tr>\n",
       "    <tr>\n",
       "      <th>4</th>\n",
       "      <td>предприятие быстрого обслуживания</td>\n",
       "      <td>40.0</td>\n",
       "      <td>788</td>\n",
       "    </tr>\n",
       "    <tr>\n",
       "      <th>5</th>\n",
       "      <td>закусочная</td>\n",
       "      <td>14.0</td>\n",
       "      <td>56</td>\n",
       "    </tr>\n",
       "    <tr>\n",
       "      <th>6</th>\n",
       "      <td>буфет</td>\n",
       "      <td>13.0</td>\n",
       "      <td>11</td>\n",
       "    </tr>\n",
       "    <tr>\n",
       "      <th>7</th>\n",
       "      <td>кафетерий</td>\n",
       "      <td>12.0</td>\n",
       "      <td>52</td>\n",
       "    </tr>\n",
       "    <tr>\n",
       "      <th>8</th>\n",
       "      <td>магазин (отдел кулинарии)</td>\n",
       "      <td>9.0</td>\n",
       "      <td>78</td>\n",
       "    </tr>\n",
       "  </tbody>\n",
       "</table>\n",
       "</div>"
      ],
      "text/plain": [
       "                         object_type  mean_number  count_object\n",
       "0                           столовая        112.0             3\n",
       "1                           ресторан        100.0           543\n",
       "2                                бар         53.0            37\n",
       "3                               кафе         47.0          1396\n",
       "4  предприятие быстрого обслуживания         40.0           788\n",
       "5                         закусочная         14.0            56\n",
       "6                              буфет         13.0            11\n",
       "7                          кафетерий         12.0            52\n",
       "8          магазин (отдел кулинарии)          9.0            78"
      ]
     },
     "metadata": {},
     "output_type": "display_data"
    },
    {
     "data": {
      "image/png": "[encoded data removed]",
      "text/plain": [
       "<Figure size 864x360 with 1 Axes>"
      ]
     },
     "metadata": {
      "needs_background": "light"
     },
     "output_type": "display_data"
    },
    {
     "data": {
      "text/plain": [
       "<Figure size 432x288 with 0 Axes>"
      ]
     },
     "metadata": {},
     "output_type": "display_data"
    }
   ],
   "source": [
    "# Собираем таблицу для построения графика\n",
    "chain_yes_type = chain_yes_name_all.groupby('object_type')['number'].mean().reset_index()\n",
    "chain_yes_type.columns = ['object_type', 'mean_number']\n",
    "chain_yes_type['mean_number'] = round(chain_yes_type['mean_number'])\n",
    "chain_yes_count = chain_yes_name_all.groupby('object_type')['chain_yes'].sum().reset_index()\n",
    "chain_yes_count.columns = ['object_type', 'count_object']\n",
    "chain_yes_type = chain_yes_type.merge(\n",
    "    chain_yes_count, \n",
    "    on = ['object_type'], \n",
    "    how = 'inner').sort_values('mean_number', ascending=False).reset_index().drop(['index'], axis=1)\n",
    "print('Таблица для связи вида сетевого заведения и среднего количества посадочных мест в нем:')\n",
    "display(chain_yes_type)\n",
    "\n",
    "# Строим график\n",
    "fig, ax = plt.subplots(figsize = (12, 5))\n",
    "#z = chain_yes_type['count_object']\n",
    "ax = sns.scatterplot(\n",
    "    data = chain_yes_type, \n",
    "    x = 'mean_number', \n",
    "    y = 'object_type', \n",
    "    hue = 'object_type', \n",
    "    size = 'count_object',\n",
    "    sizes = (10, 5000),\n",
    "    legend = False)\n",
    "ax.set_title('Cвязь вида сетевого заведения и среднего количества посадочных мест в нем')\n",
    "plt.grid(color = 'gray', linestyle = '-', linewidth = 0.5) # включить отрисовку сетки c определенными параметрами\n",
    "plt.xlabel('среденее количество посадочных мест, шт.')\n",
    "plt.ylabel('тип заведения')\n",
    "plt.show()\n",
    "plt.savefig('5 Cвязь вида сетевого заведения и среднего количества посадочных мест в нем.png')"
   ]
  },
  {
   "cell_type": "markdown",
   "metadata": {},
   "source": [
    "ТОП-5 видов заведений, которые предоставляют в среднем самое большое количество посадочных мест: столовые, рестораны, бары, кафе и предприятия быстрого обслуживания (112, 100, 53, 47 и 40 посадочных мест соответственно)."
   ]
  },
  {
   "cell_type": "markdown",
   "metadata": {},
   "source": [
    "### ТОП-10 улиц по количеству объектов общественного питания \n",
    "\n",
    "[В начало](#intro)\n",
    "\n",
    "Найдем ТОП-10 улиц по количеству объектов общественного питания.<br>\n",
    "Для этого выделим в отдельный столбец информацию об улице из столбца address и, воспользовавшись внешней информацией, определим, в каких районах Москвы находятся эти улицы."
   ]
  },
  {
   "cell_type": "code",
   "execution_count": 15,
   "metadata": {},
   "outputs": [
    {
     "data": {
      "text/html": [
       "<div>\n",
       "<style scoped>\n",
       "    .dataframe tbody tr th:only-of-type {\n",
       "        vertical-align: middle;\n",
       "    }\n",
       "\n",
       "    .dataframe tbody tr th {\n",
       "        vertical-align: top;\n",
       "    }\n",
       "\n",
       "    .dataframe thead th {\n",
       "        text-align: right;\n",
       "    }\n",
       "</style>\n",
       "<table border=\"1\" class=\"dataframe\">\n",
       "  <thead>\n",
       "    <tr style=\"text-align: right;\">\n",
       "      <th></th>\n",
       "      <th>id</th>\n",
       "      <th>object_name</th>\n",
       "      <th>chain</th>\n",
       "      <th>object_type</th>\n",
       "      <th>address</th>\n",
       "      <th>number</th>\n",
       "    </tr>\n",
       "  </thead>\n",
       "  <tbody>\n",
       "    <tr>\n",
       "      <th>0</th>\n",
       "      <td>151635</td>\n",
       "      <td>сметана</td>\n",
       "      <td>нет</td>\n",
       "      <td>кафе</td>\n",
       "      <td>город Москва, улица Егора Абакумова, дом 9</td>\n",
       "      <td>48</td>\n",
       "    </tr>\n",
       "    <tr>\n",
       "      <th>1</th>\n",
       "      <td>77874</td>\n",
       "      <td>родник</td>\n",
       "      <td>нет</td>\n",
       "      <td>кафе</td>\n",
       "      <td>город Москва, улица Талалихина, дом 2/1, корпус 1</td>\n",
       "      <td>35</td>\n",
       "    </tr>\n",
       "    <tr>\n",
       "      <th>2</th>\n",
       "      <td>24309</td>\n",
       "      <td>кафе_«академия»</td>\n",
       "      <td>нет</td>\n",
       "      <td>кафе</td>\n",
       "      <td>город Москва, Абельмановская улица, дом 6</td>\n",
       "      <td>95</td>\n",
       "    </tr>\n",
       "    <tr>\n",
       "      <th>3</th>\n",
       "      <td>21894</td>\n",
       "      <td>пиццетория</td>\n",
       "      <td>да</td>\n",
       "      <td>кафе</td>\n",
       "      <td>город Москва, Абрамцевская улица, дом 1</td>\n",
       "      <td>40</td>\n",
       "    </tr>\n",
       "    <tr>\n",
       "      <th>4</th>\n",
       "      <td>119365</td>\n",
       "      <td>кафе_«вишневая_метель»</td>\n",
       "      <td>нет</td>\n",
       "      <td>кафе</td>\n",
       "      <td>город Москва, Абрамцевская улица, дом 9, корпус 1</td>\n",
       "      <td>50</td>\n",
       "    </tr>\n",
       "    <tr>\n",
       "      <th>...</th>\n",
       "      <td>...</td>\n",
       "      <td>...</td>\n",
       "      <td>...</td>\n",
       "      <td>...</td>\n",
       "      <td>...</td>\n",
       "      <td>...</td>\n",
       "    </tr>\n",
       "    <tr>\n",
       "      <th>15361</th>\n",
       "      <td>208537</td>\n",
       "      <td>шоколадница</td>\n",
       "      <td>да</td>\n",
       "      <td>кафе</td>\n",
       "      <td>город Москва, 3-й Крутицкий переулок, дом 18</td>\n",
       "      <td>50</td>\n",
       "    </tr>\n",
       "    <tr>\n",
       "      <th>15362</th>\n",
       "      <td>209264</td>\n",
       "      <td>шоколадница</td>\n",
       "      <td>да</td>\n",
       "      <td>кафе</td>\n",
       "      <td>город Москва, улица Земляной Вал, дом 33</td>\n",
       "      <td>10</td>\n",
       "    </tr>\n",
       "    <tr>\n",
       "      <th>15363</th>\n",
       "      <td>209186</td>\n",
       "      <td>шоколадница</td>\n",
       "      <td>да</td>\n",
       "      <td>кафе</td>\n",
       "      <td>город Москва, улица Земляной Вал, дом 33</td>\n",
       "      <td>20</td>\n",
       "    </tr>\n",
       "    <tr>\n",
       "      <th>15364</th>\n",
       "      <td>221900</td>\n",
       "      <td>шоколадница</td>\n",
       "      <td>да</td>\n",
       "      <td>кафе</td>\n",
       "      <td>город Москва, поселение Московский, Киевское шоссе, 22-й километр, домовладение 4, строение 1</td>\n",
       "      <td>36</td>\n",
       "    </tr>\n",
       "    <tr>\n",
       "      <th>15365</th>\n",
       "      <td>222535</td>\n",
       "      <td>шоколадница</td>\n",
       "      <td>да</td>\n",
       "      <td>кафе</td>\n",
       "      <td>город Москва, Ходынский бульвар, дом 4</td>\n",
       "      <td>10</td>\n",
       "    </tr>\n",
       "  </tbody>\n",
       "</table>\n",
       "<p>15366 rows × 6 columns</p>\n",
       "</div>"
      ],
      "text/plain": [
       "           id             object_name chain object_type  \\\n",
       "0      151635                 сметана   нет        кафе   \n",
       "1       77874                  родник   нет        кафе   \n",
       "2       24309         кафе_«академия»   нет        кафе   \n",
       "3       21894              пиццетория    да        кафе   \n",
       "4      119365  кафе_«вишневая_метель»   нет        кафе   \n",
       "...       ...                     ...   ...         ...   \n",
       "15361  208537             шоколадница    да        кафе   \n",
       "15362  209264             шоколадница    да        кафе   \n",
       "15363  209186             шоколадница    да        кафе   \n",
       "15364  221900             шоколадница    да        кафе   \n",
       "15365  222535             шоколадница    да        кафе   \n",
       "\n",
       "                                                                                             address  \\\n",
       "0                                                         город Москва, улица Егора Абакумова, дом 9   \n",
       "1                                                  город Москва, улица Талалихина, дом 2/1, корпус 1   \n",
       "2                                                          город Москва, Абельмановская улица, дом 6   \n",
       "3                                                            город Москва, Абрамцевская улица, дом 1   \n",
       "4                                                  город Москва, Абрамцевская улица, дом 9, корпус 1   \n",
       "...                                                                                              ...   \n",
       "15361                                                   город Москва, 3-й Крутицкий переулок, дом 18   \n",
       "15362                                                       город Москва, улица Земляной Вал, дом 33   \n",
       "15363                                                       город Москва, улица Земляной Вал, дом 33   \n",
       "15364  город Москва, поселение Московский, Киевское шоссе, 22-й километр, домовладение 4, строение 1   \n",
       "15365                                                         город Москва, Ходынский бульвар, дом 4   \n",
       "\n",
       "       number  \n",
       "0          48  \n",
       "1          35  \n",
       "2          95  \n",
       "3          40  \n",
       "4          50  \n",
       "...       ...  \n",
       "15361      50  \n",
       "15362      10  \n",
       "15363      20  \n",
       "15364      36  \n",
       "15365      10  \n",
       "\n",
       "[15366 rows x 6 columns]"
      ]
     },
     "metadata": {},
     "output_type": "display_data"
    },
    {
     "data": {
      "text/html": [
       "<div>\n",
       "<style scoped>\n",
       "    .dataframe tbody tr th:only-of-type {\n",
       "        vertical-align: middle;\n",
       "    }\n",
       "\n",
       "    .dataframe tbody tr th {\n",
       "        vertical-align: top;\n",
       "    }\n",
       "\n",
       "    .dataframe thead th {\n",
       "        text-align: right;\n",
       "    }\n",
       "</style>\n",
       "<table border=\"1\" class=\"dataframe\">\n",
       "  <thead>\n",
       "    <tr style=\"text-align: right;\">\n",
       "      <th></th>\n",
       "      <th>id</th>\n",
       "      <th>object_name</th>\n",
       "      <th>chain</th>\n",
       "      <th>object_type</th>\n",
       "      <th>address</th>\n",
       "      <th>number</th>\n",
       "      <th>streets</th>\n",
       "    </tr>\n",
       "  </thead>\n",
       "  <tbody>\n",
       "    <tr>\n",
       "      <th>0</th>\n",
       "      <td>151635</td>\n",
       "      <td>сметана</td>\n",
       "      <td>нет</td>\n",
       "      <td>кафе</td>\n",
       "      <td>город Москва, улица Егора Абакумова, дом 9</td>\n",
       "      <td>48</td>\n",
       "      <td>улица Егора Абакумова</td>\n",
       "    </tr>\n",
       "    <tr>\n",
       "      <th>1</th>\n",
       "      <td>77874</td>\n",
       "      <td>родник</td>\n",
       "      <td>нет</td>\n",
       "      <td>кафе</td>\n",
       "      <td>город Москва, улица Талалихина, дом 2/1, корпус 1</td>\n",
       "      <td>35</td>\n",
       "      <td>улица Талалихина</td>\n",
       "    </tr>\n",
       "    <tr>\n",
       "      <th>2</th>\n",
       "      <td>24309</td>\n",
       "      <td>кафе_«академия»</td>\n",
       "      <td>нет</td>\n",
       "      <td>кафе</td>\n",
       "      <td>город Москва, Абельмановская улица, дом 6</td>\n",
       "      <td>95</td>\n",
       "      <td>Абельмановская улица</td>\n",
       "    </tr>\n",
       "    <tr>\n",
       "      <th>3</th>\n",
       "      <td>21894</td>\n",
       "      <td>пиццетория</td>\n",
       "      <td>да</td>\n",
       "      <td>кафе</td>\n",
       "      <td>город Москва, Абрамцевская улица, дом 1</td>\n",
       "      <td>40</td>\n",
       "      <td>Абрамцевская улица</td>\n",
       "    </tr>\n",
       "    <tr>\n",
       "      <th>4</th>\n",
       "      <td>119365</td>\n",
       "      <td>кафе_«вишневая_метель»</td>\n",
       "      <td>нет</td>\n",
       "      <td>кафе</td>\n",
       "      <td>город Москва, Абрамцевская улица, дом 9, корпус 1</td>\n",
       "      <td>50</td>\n",
       "      <td>Абрамцевская улица</td>\n",
       "    </tr>\n",
       "    <tr>\n",
       "      <th>...</th>\n",
       "      <td>...</td>\n",
       "      <td>...</td>\n",
       "      <td>...</td>\n",
       "      <td>...</td>\n",
       "      <td>...</td>\n",
       "      <td>...</td>\n",
       "      <td>...</td>\n",
       "    </tr>\n",
       "    <tr>\n",
       "      <th>15361</th>\n",
       "      <td>208537</td>\n",
       "      <td>шоколадница</td>\n",
       "      <td>да</td>\n",
       "      <td>кафе</td>\n",
       "      <td>город Москва, 3-й Крутицкий переулок, дом 18</td>\n",
       "      <td>50</td>\n",
       "      <td>3-й Крутицкий переулок</td>\n",
       "    </tr>\n",
       "    <tr>\n",
       "      <th>15362</th>\n",
       "      <td>209264</td>\n",
       "      <td>шоколадница</td>\n",
       "      <td>да</td>\n",
       "      <td>кафе</td>\n",
       "      <td>город Москва, улица Земляной Вал, дом 33</td>\n",
       "      <td>10</td>\n",
       "      <td>улица Земляной Вал</td>\n",
       "    </tr>\n",
       "    <tr>\n",
       "      <th>15363</th>\n",
       "      <td>209186</td>\n",
       "      <td>шоколадница</td>\n",
       "      <td>да</td>\n",
       "      <td>кафе</td>\n",
       "      <td>город Москва, улица Земляной Вал, дом 33</td>\n",
       "      <td>20</td>\n",
       "      <td>улица Земляной Вал</td>\n",
       "    </tr>\n",
       "    <tr>\n",
       "      <th>15364</th>\n",
       "      <td>221900</td>\n",
       "      <td>шоколадница</td>\n",
       "      <td>да</td>\n",
       "      <td>кафе</td>\n",
       "      <td>город Москва, поселение Московский, Киевское шоссе, 22-й километр, домовладение 4, строение 1</td>\n",
       "      <td>36</td>\n",
       "      <td>поселение Московский</td>\n",
       "    </tr>\n",
       "    <tr>\n",
       "      <th>15365</th>\n",
       "      <td>222535</td>\n",
       "      <td>шоколадница</td>\n",
       "      <td>да</td>\n",
       "      <td>кафе</td>\n",
       "      <td>город Москва, Ходынский бульвар, дом 4</td>\n",
       "      <td>10</td>\n",
       "      <td>Ходынский бульвар</td>\n",
       "    </tr>\n",
       "  </tbody>\n",
       "</table>\n",
       "<p>15366 rows × 7 columns</p>\n",
       "</div>"
      ],
      "text/plain": [
       "           id             object_name chain object_type  \\\n",
       "0      151635                 сметана   нет        кафе   \n",
       "1       77874                  родник   нет        кафе   \n",
       "2       24309         кафе_«академия»   нет        кафе   \n",
       "3       21894              пиццетория    да        кафе   \n",
       "4      119365  кафе_«вишневая_метель»   нет        кафе   \n",
       "...       ...                     ...   ...         ...   \n",
       "15361  208537             шоколадница    да        кафе   \n",
       "15362  209264             шоколадница    да        кафе   \n",
       "15363  209186             шоколадница    да        кафе   \n",
       "15364  221900             шоколадница    да        кафе   \n",
       "15365  222535             шоколадница    да        кафе   \n",
       "\n",
       "                                                                                             address  \\\n",
       "0                                                         город Москва, улица Егора Абакумова, дом 9   \n",
       "1                                                  город Москва, улица Талалихина, дом 2/1, корпус 1   \n",
       "2                                                          город Москва, Абельмановская улица, дом 6   \n",
       "3                                                            город Москва, Абрамцевская улица, дом 1   \n",
       "4                                                  город Москва, Абрамцевская улица, дом 9, корпус 1   \n",
       "...                                                                                              ...   \n",
       "15361                                                   город Москва, 3-й Крутицкий переулок, дом 18   \n",
       "15362                                                       город Москва, улица Земляной Вал, дом 33   \n",
       "15363                                                       город Москва, улица Земляной Вал, дом 33   \n",
       "15364  город Москва, поселение Московский, Киевское шоссе, 22-й километр, домовладение 4, строение 1   \n",
       "15365                                                         город Москва, Ходынский бульвар, дом 4   \n",
       "\n",
       "       number                 streets  \n",
       "0          48   улица Егора Абакумова  \n",
       "1          35        улица Талалихина  \n",
       "2          95    Абельмановская улица  \n",
       "3          40      Абрамцевская улица  \n",
       "4          50      Абрамцевская улица  \n",
       "...       ...                     ...  \n",
       "15361      50  3-й Крутицкий переулок  \n",
       "15362      10      улица Земляной Вал  \n",
       "15363      20      улица Земляной Вал  \n",
       "15364      36    поселение Московский  \n",
       "15365      10       Ходынский бульвар  \n",
       "\n",
       "[15366 rows x 7 columns]"
      ]
     },
     "metadata": {},
     "output_type": "display_data"
    },
    {
     "name": "stdout",
     "output_type": "stream",
     "text": [
      "Количество дубликатов в датафрейме mos_ru_clean (столбцы district, admarea, address): 8251 шт.\n",
      "Удалив дубликаты из внешнего датафрейма оставляем: ~ 57 % от исходного количества строк ( 11076 шт.).\n",
      "Таблица из ТОП-10 улиц по количеству объектов общественного питания \n",
      "с указанием районов (district) и административных округов (adm_area):\n"
     ]
    },
    {
     "data": {
      "text/html": [
       "<div>\n",
       "<style scoped>\n",
       "    .dataframe tbody tr th:only-of-type {\n",
       "        vertical-align: middle;\n",
       "    }\n",
       "\n",
       "    .dataframe tbody tr th {\n",
       "        vertical-align: top;\n",
       "    }\n",
       "\n",
       "    .dataframe thead th {\n",
       "        text-align: right;\n",
       "    }\n",
       "</style>\n",
       "<table border=\"1\" class=\"dataframe\">\n",
       "  <thead>\n",
       "    <tr style=\"text-align: right;\">\n",
       "      <th></th>\n",
       "      <th>streets</th>\n",
       "      <th>count_object</th>\n",
       "      <th>district</th>\n",
       "      <th>adm_area</th>\n",
       "    </tr>\n",
       "  </thead>\n",
       "  <tbody>\n",
       "    <tr>\n",
       "      <th>0</th>\n",
       "      <td>город Зеленоград</td>\n",
       "      <td>232</td>\n",
       "      <td>[район Савёлки, район Матушкино, nan, район Крюково, район Старое Крюково, район Силино]</td>\n",
       "      <td>[Зеленоградский административный округ, nan]</td>\n",
       "    </tr>\n",
       "    <tr>\n",
       "      <th>1</th>\n",
       "      <td>проспект Мира</td>\n",
       "      <td>204</td>\n",
       "      <td>[Мещанский район, nan, Останкинский район, Алексеевский район, район Ростокино, район Свиблово]</td>\n",
       "      <td>[Центральный административный округ, nan, Северо-Восточный административный округ]</td>\n",
       "    </tr>\n",
       "    <tr>\n",
       "      <th>2</th>\n",
       "      <td>Профсоюзная улица</td>\n",
       "      <td>182</td>\n",
       "      <td>[nan, район Черёмушки, район Тёплый Стан, район Коньково, Обручевский район, район Ясенево]</td>\n",
       "      <td>[nan, Юго-Западный административный округ]</td>\n",
       "    </tr>\n",
       "    <tr>\n",
       "      <th>3</th>\n",
       "      <td>Ленинградский проспект</td>\n",
       "      <td>171</td>\n",
       "      <td>[район Беговой, район Аэропорт, nan, район Сокол, Хорошёвский район]</td>\n",
       "      <td>[Северный административный округ, nan]</td>\n",
       "    </tr>\n",
       "    <tr>\n",
       "      <th>4</th>\n",
       "      <td>Пресненская набережная</td>\n",
       "      <td>167</td>\n",
       "      <td>[Пресненский район, nan]</td>\n",
       "      <td>[Центральный административный округ, nan]</td>\n",
       "    </tr>\n",
       "    <tr>\n",
       "      <th>5</th>\n",
       "      <td>Кутузовский проспект</td>\n",
       "      <td>165</td>\n",
       "      <td>[nan, район Дорогомилово, район Фили-Давыдково, поселение Краснопахорское]</td>\n",
       "      <td>[nan, Западный административный округ, Троицкий административный округ]</td>\n",
       "    </tr>\n",
       "    <tr>\n",
       "      <th>6</th>\n",
       "      <td>Варшавское шоссе</td>\n",
       "      <td>161</td>\n",
       "      <td>[nan, Донской район, район Чертаново Южное, Нагорный район, район Чертаново Центральное, район Чертаново Северное, район Нагатино-Садовники, район Южное Бутово]</td>\n",
       "      <td>[nan, Южный административный округ, Юго-Западный административный округ]</td>\n",
       "    </tr>\n",
       "    <tr>\n",
       "      <th>7</th>\n",
       "      <td>Ленинский проспект</td>\n",
       "      <td>147</td>\n",
       "      <td>[район Якиманка, Донской район, nan, Гагаринский район, Ломоносовский район, Обручевский район, район Тропарёво-Никулино, район Тёплый Стан, район Проспект Вернадского]</td>\n",
       "      <td>[Центральный административный округ, Южный административный округ, nan, Юго-Западный административный округ, Западный административный округ]</td>\n",
       "    </tr>\n",
       "    <tr>\n",
       "      <th>8</th>\n",
       "      <td>поселение Сосенское</td>\n",
       "      <td>138</td>\n",
       "      <td>[поселение Сосенское, nan]</td>\n",
       "      <td>[Новомосковский административный округ, nan]</td>\n",
       "    </tr>\n",
       "    <tr>\n",
       "      <th>9</th>\n",
       "      <td>проспект Вернадского</td>\n",
       "      <td>132</td>\n",
       "      <td>[nan, Ломоносовский район, район Тропарёво-Никулино, район Проспект Вернадского, поселение Вороновское, район Раменки]</td>\n",
       "      <td>[nan, Юго-Западный административный округ, Западный административный округ, Троицкий административный округ]</td>\n",
       "    </tr>\n",
       "  </tbody>\n",
       "</table>\n",
       "</div>"
      ],
      "text/plain": [
       "                  streets  count_object  \\\n",
       "0        город Зеленоград           232   \n",
       "1           проспект Мира           204   \n",
       "2       Профсоюзная улица           182   \n",
       "3  Ленинградский проспект           171   \n",
       "4  Пресненская набережная           167   \n",
       "5    Кутузовский проспект           165   \n",
       "6        Варшавское шоссе           161   \n",
       "7      Ленинский проспект           147   \n",
       "8     поселение Сосенское           138   \n",
       "9    проспект Вернадского           132   \n",
       "\n",
       "                                                                                                                                                                   district  \\\n",
       "0                                                                                  [район Савёлки, район Матушкино, nan, район Крюково, район Старое Крюково, район Силино]   \n",
       "1                                                                           [Мещанский район, nan, Останкинский район, Алексеевский район, район Ростокино, район Свиблово]   \n",
       "2                                                                               [nan, район Черёмушки, район Тёплый Стан, район Коньково, Обручевский район, район Ясенево]   \n",
       "3                                                                                                      [район Беговой, район Аэропорт, nan, район Сокол, Хорошёвский район]   \n",
       "4                                                                                                                                                  [Пресненский район, nan]   \n",
       "5                                                                                                [nan, район Дорогомилово, район Фили-Давыдково, поселение Краснопахорское]   \n",
       "6          [nan, Донской район, район Чертаново Южное, Нагорный район, район Чертаново Центральное, район Чертаново Северное, район Нагатино-Садовники, район Южное Бутово]   \n",
       "7  [район Якиманка, Донской район, nan, Гагаринский район, Ломоносовский район, Обручевский район, район Тропарёво-Никулино, район Тёплый Стан, район Проспект Вернадского]   \n",
       "8                                                                                                                                                [поселение Сосенское, nan]   \n",
       "9                                                    [nan, Ломоносовский район, район Тропарёво-Никулино, район Проспект Вернадского, поселение Вороновское, район Раменки]   \n",
       "\n",
       "                                                                                                                                        adm_area  \n",
       "0                                                                                                   [Зеленоградский административный округ, nan]  \n",
       "1                                                             [Центральный административный округ, nan, Северо-Восточный административный округ]  \n",
       "2                                                                                                     [nan, Юго-Западный административный округ]  \n",
       "3                                                                                                         [Северный административный округ, nan]  \n",
       "4                                                                                                      [Центральный административный округ, nan]  \n",
       "5                                                                        [nan, Западный административный округ, Троицкий административный округ]  \n",
       "6                                                                       [nan, Южный административный округ, Юго-Западный административный округ]  \n",
       "7  [Центральный административный округ, Южный административный округ, nan, Юго-Западный административный округ, Западный административный округ]  \n",
       "8                                                                                                   [Новомосковский административный округ, nan]  \n",
       "9                                   [nan, Юго-Западный административный округ, Западный административный округ, Троицкий административный округ]  "
      ]
     },
     "metadata": {},
     "output_type": "display_data"
    }
   ],
   "source": [
    "# Выделим в отдельный столбец информацию об улице из столбца address:\n",
    "display(rest_data)\n",
    "rest_data['streets'] = rest_data['address'].str.split(', ', expand=True)[1]\n",
    "display(rest_data)\n",
    "\n",
    "# Подгрузим внешний файл для того чтобы сопоставить название улиц районам и округам Москвы\n",
    "# источник: https://data.mos.ru/opendata/7710881420-obshchestvennoe-pitanie-v-moskve\n",
    "spreadsheet_id = '1v81P09Bolu6W17U1710OjF4KsLvHR52LtQI-g2GEx-o'\n",
    "file_name = 'https://docs.google.com/spreadsheets/d/{}/export?format=csv'.format(spreadsheet_id)\n",
    "r = requests.get(file_name)\n",
    "mos_ru = pd.read_csv(BytesIO(r.content))\n",
    "#display(mos_ru)\n",
    "mos_ru.columns = [x.lower().replace(' ', '_') for x in mos_ru.columns.values] # приводим названия к нижнему регистру\n",
    "mos_ru = mos_ru.drop(index = 0) # удаляем строку с заголовками (ее индекс 0)\n",
    "# Приводим названия заведений к нижнему регистру\n",
    "mos_ru['name'] = [x.lower().replace(' ', '_') for x in mos_ru['name'].values]\n",
    "#display(mos_ru)\n",
    "#print(list(mos_ru['name'].unique()))\n",
    "# Удаляем явные дубликаты из таблицы со толбцами 'district', 'admarea', 'address'\n",
    "mos_ru_clean = mos_ru.copy()\n",
    "mos_ru_clean = mos_ru_clean[['district', 'admarea', 'address']]\n",
    "#display(mos_ru_clean)\n",
    "print('Количество дубликатов в датафрейме mos_ru_clean (столбцы district, admarea, address):',\n",
    "      mos_ru_clean.duplicated().sum(), 'шт.')\n",
    "mos_ru_clean = mos_ru_clean.drop_duplicates()\n",
    "print('Удалив дубликаты из внешнего датафрейма оставляем: ~', \n",
    "      round(((mos_ru_clean.shape[0] / mos_ru.shape[0])) * 100), \n",
    "      '% от исходного количества строк (', mos_ru_clean.shape[0], 'шт.).')\n",
    "\n",
    "# Добавим интересующие данные из внешнего файла для того чтобы сопоставить название улиц районам и округам Москвы\n",
    "rest_data = rest_data.merge(mos_ru_clean[['district', 'admarea', 'address']], on = ['address'], how='left')\n",
    "#display(rest_data.head())\n",
    "\n",
    "# Найдем ТОП-10 улиц\n",
    "rest_data_streets = (rest_data\n",
    "                     .groupby('streets')\n",
    "                     .agg({'id' : 'count', 'district' : 'unique', 'admarea' : 'unique'})\n",
    "                     .sort_values(by = 'id', ascending = False)\n",
    "                     .reset_index()\n",
    "                    )\n",
    "rest_data_streets.columns = ['streets', 'count_object', 'district', 'adm_area']\n",
    "\n",
    "rest_data_streets_top_10 = rest_data_streets.head(10)\n",
    "print('Таблица из ТОП-10 улиц по количеству объектов общественного питания \\nс указанием районов (district) и административных округов (adm_area):')\n",
    "display(rest_data_streets_top_10)\n",
    "#print(list(rest_data_streets_top_10['streets']))"
   ]
  },
  {
   "cell_type": "code",
   "execution_count": 16,
   "metadata": {
    "scrolled": true
   },
   "outputs": [
    {
     "name": "stdout",
     "output_type": "stream",
     "text": [
      "Также исключаем из дальнейшего рассмотрения город Зеленоград. В итоге получаем окончательный список из ТОП-10 улиц:\n"
     ]
    },
    {
     "data": {
      "text/html": [
       "<div>\n",
       "<style scoped>\n",
       "    .dataframe tbody tr th:only-of-type {\n",
       "        vertical-align: middle;\n",
       "    }\n",
       "\n",
       "    .dataframe tbody tr th {\n",
       "        vertical-align: top;\n",
       "    }\n",
       "\n",
       "    .dataframe thead th {\n",
       "        text-align: right;\n",
       "    }\n",
       "</style>\n",
       "<table border=\"1\" class=\"dataframe\">\n",
       "  <thead>\n",
       "    <tr style=\"text-align: right;\">\n",
       "      <th></th>\n",
       "      <th>streets</th>\n",
       "      <th>count_object</th>\n",
       "      <th>district</th>\n",
       "      <th>adm_area</th>\n",
       "    </tr>\n",
       "  </thead>\n",
       "  <tbody>\n",
       "    <tr>\n",
       "      <th>1</th>\n",
       "      <td>проспект Мира</td>\n",
       "      <td>204</td>\n",
       "      <td>[Мещанский район, nan, Останкинский район, Алексеевский район, район Ростокино, район Свиблово]</td>\n",
       "      <td>[Центральный административный округ, nan, Северо-Восточный административный округ]</td>\n",
       "    </tr>\n",
       "    <tr>\n",
       "      <th>2</th>\n",
       "      <td>Профсоюзная улица</td>\n",
       "      <td>182</td>\n",
       "      <td>[nan, район Черёмушки, район Тёплый Стан, район Коньково, Обручевский район, район Ясенево]</td>\n",
       "      <td>[nan, Юго-Западный административный округ]</td>\n",
       "    </tr>\n",
       "    <tr>\n",
       "      <th>3</th>\n",
       "      <td>Ленинградский проспект</td>\n",
       "      <td>171</td>\n",
       "      <td>[район Беговой, район Аэропорт, nan, район Сокол, Хорошёвский район]</td>\n",
       "      <td>[Северный административный округ, nan]</td>\n",
       "    </tr>\n",
       "    <tr>\n",
       "      <th>4</th>\n",
       "      <td>Пресненская набережная</td>\n",
       "      <td>167</td>\n",
       "      <td>[Пресненский район, nan]</td>\n",
       "      <td>[Центральный административный округ, nan]</td>\n",
       "    </tr>\n",
       "    <tr>\n",
       "      <th>5</th>\n",
       "      <td>Кутузовский проспект</td>\n",
       "      <td>165</td>\n",
       "      <td>[nan, район Дорогомилово, район Фили-Давыдково, поселение Краснопахорское]</td>\n",
       "      <td>[nan, Западный административный округ, Троицкий административный округ]</td>\n",
       "    </tr>\n",
       "    <tr>\n",
       "      <th>6</th>\n",
       "      <td>Варшавское шоссе</td>\n",
       "      <td>161</td>\n",
       "      <td>[nan, Донской район, район Чертаново Южное, Нагорный район, район Чертаново Центральное, район Чертаново Северное, район Нагатино-Садовники, район Южное Бутово]</td>\n",
       "      <td>[nan, Южный административный округ, Юго-Западный административный округ]</td>\n",
       "    </tr>\n",
       "    <tr>\n",
       "      <th>7</th>\n",
       "      <td>Ленинский проспект</td>\n",
       "      <td>147</td>\n",
       "      <td>[район Якиманка, Донской район, nan, Гагаринский район, Ломоносовский район, Обручевский район, район Тропарёво-Никулино, район Тёплый Стан, район Проспект Вернадского]</td>\n",
       "      <td>[Центральный административный округ, Южный административный округ, nan, Юго-Западный административный округ, Западный административный округ]</td>\n",
       "    </tr>\n",
       "    <tr>\n",
       "      <th>8</th>\n",
       "      <td>поселение Сосенское</td>\n",
       "      <td>138</td>\n",
       "      <td>[поселение Сосенское, nan]</td>\n",
       "      <td>[Новомосковский административный округ, nan]</td>\n",
       "    </tr>\n",
       "    <tr>\n",
       "      <th>9</th>\n",
       "      <td>проспект Вернадского</td>\n",
       "      <td>132</td>\n",
       "      <td>[nan, Ломоносовский район, район Тропарёво-Никулино, район Проспект Вернадского, поселение Вороновское, район Раменки]</td>\n",
       "      <td>[nan, Юго-Западный административный округ, Западный административный округ, Троицкий административный округ]</td>\n",
       "    </tr>\n",
       "    <tr>\n",
       "      <th>10</th>\n",
       "      <td>Каширское шоссе</td>\n",
       "      <td>112</td>\n",
       "      <td>[nan, район Москворечье-Сабурово, район Орехово-Борисово Северное, район Нагатино-Садовники, район Орехово-Борисово Южное]</td>\n",
       "      <td>[nan, Южный административный округ]</td>\n",
       "    </tr>\n",
       "  </tbody>\n",
       "</table>\n",
       "</div>"
      ],
      "text/plain": [
       "                   streets  count_object  \\\n",
       "1            проспект Мира           204   \n",
       "2        Профсоюзная улица           182   \n",
       "3   Ленинградский проспект           171   \n",
       "4   Пресненская набережная           167   \n",
       "5     Кутузовский проспект           165   \n",
       "6         Варшавское шоссе           161   \n",
       "7       Ленинский проспект           147   \n",
       "8      поселение Сосенское           138   \n",
       "9     проспект Вернадского           132   \n",
       "10         Каширское шоссе           112   \n",
       "\n",
       "                                                                                                                                                                    district  \\\n",
       "1                                                                            [Мещанский район, nan, Останкинский район, Алексеевский район, район Ростокино, район Свиблово]   \n",
       "2                                                                                [nan, район Черёмушки, район Тёплый Стан, район Коньково, Обручевский район, район Ясенево]   \n",
       "3                                                                                                       [район Беговой, район Аэропорт, nan, район Сокол, Хорошёвский район]   \n",
       "4                                                                                                                                                   [Пресненский район, nan]   \n",
       "5                                                                                                 [nan, район Дорогомилово, район Фили-Давыдково, поселение Краснопахорское]   \n",
       "6           [nan, Донской район, район Чертаново Южное, Нагорный район, район Чертаново Центральное, район Чертаново Северное, район Нагатино-Садовники, район Южное Бутово]   \n",
       "7   [район Якиманка, Донской район, nan, Гагаринский район, Ломоносовский район, Обручевский район, район Тропарёво-Никулино, район Тёплый Стан, район Проспект Вернадского]   \n",
       "8                                                                                                                                                 [поселение Сосенское, nan]   \n",
       "9                                                     [nan, Ломоносовский район, район Тропарёво-Никулино, район Проспект Вернадского, поселение Вороновское, район Раменки]   \n",
       "10                                                [nan, район Москворечье-Сабурово, район Орехово-Борисово Северное, район Нагатино-Садовники, район Орехово-Борисово Южное]   \n",
       "\n",
       "                                                                                                                                         adm_area  \n",
       "1                                                              [Центральный административный округ, nan, Северо-Восточный административный округ]  \n",
       "2                                                                                                      [nan, Юго-Западный административный округ]  \n",
       "3                                                                                                          [Северный административный округ, nan]  \n",
       "4                                                                                                       [Центральный административный округ, nan]  \n",
       "5                                                                         [nan, Западный административный округ, Троицкий административный округ]  \n",
       "6                                                                        [nan, Южный административный округ, Юго-Западный административный округ]  \n",
       "7   [Центральный административный округ, Южный административный округ, nan, Юго-Западный административный округ, Западный административный округ]  \n",
       "8                                                                                                    [Новомосковский административный округ, nan]  \n",
       "9                                    [nan, Юго-Западный административный округ, Западный административный округ, Троицкий административный округ]  \n",
       "10                                                                                                            [nan, Южный административный округ]  "
      ]
     },
     "metadata": {},
     "output_type": "display_data"
    }
   ],
   "source": [
    "print('Также исключаем из дальнейшего рассмотрения город Зеленоград. В итоге получаем окончательный список из ТОП-10 улиц:')\n",
    "rest_data_streets = rest_data_streets.drop(index = 0) # удаляем строку с Зеленоградом (ее индекс 0)\n",
    "\n",
    "rest_data_streets_top_10 = rest_data_streets.head(10)\n",
    "\n",
    "display(rest_data_streets_top_10)"
   ]
  },
  {
   "cell_type": "code",
   "execution_count": 17,
   "metadata": {},
   "outputs": [
    {
     "data": {
      "text/html": [
       "<div>\n",
       "<style scoped>\n",
       "    .dataframe tbody tr th:only-of-type {\n",
       "        vertical-align: middle;\n",
       "    }\n",
       "\n",
       "    .dataframe tbody tr th {\n",
       "        vertical-align: top;\n",
       "    }\n",
       "\n",
       "    .dataframe thead th {\n",
       "        text-align: right;\n",
       "    }\n",
       "</style>\n",
       "<table border=\"1\" class=\"dataframe\">\n",
       "  <thead>\n",
       "    <tr style=\"text-align: right;\">\n",
       "      <th></th>\n",
       "      <th></th>\n",
       "      <th>id</th>\n",
       "    </tr>\n",
       "    <tr>\n",
       "      <th>streets</th>\n",
       "      <th>district</th>\n",
       "      <th></th>\n",
       "    </tr>\n",
       "  </thead>\n",
       "  <tbody>\n",
       "    <tr>\n",
       "      <th rowspan=\"7\" valign=\"top\">Варшавское шоссе</th>\n",
       "      <th>Донской район</th>\n",
       "      <td>31</td>\n",
       "    </tr>\n",
       "    <tr>\n",
       "      <th>Нагорный район</th>\n",
       "      <td>25</td>\n",
       "    </tr>\n",
       "    <tr>\n",
       "      <th>район Нагатино-Садовники</th>\n",
       "      <td>4</td>\n",
       "    </tr>\n",
       "    <tr>\n",
       "      <th>район Чертаново Северное</th>\n",
       "      <td>19</td>\n",
       "    </tr>\n",
       "    <tr>\n",
       "      <th>район Чертаново Центральное</th>\n",
       "      <td>8</td>\n",
       "    </tr>\n",
       "    <tr>\n",
       "      <th>район Чертаново Южное</th>\n",
       "      <td>35</td>\n",
       "    </tr>\n",
       "    <tr>\n",
       "      <th>район Южное Бутово</th>\n",
       "      <td>2</td>\n",
       "    </tr>\n",
       "    <tr>\n",
       "      <th rowspan=\"4\" valign=\"top\">Каширское шоссе</th>\n",
       "      <th>район Москворечье-Сабурово</th>\n",
       "      <td>29</td>\n",
       "    </tr>\n",
       "    <tr>\n",
       "      <th>район Нагатино-Садовники</th>\n",
       "      <td>20</td>\n",
       "    </tr>\n",
       "    <tr>\n",
       "      <th>район Орехово-Борисово Северное</th>\n",
       "      <td>10</td>\n",
       "    </tr>\n",
       "    <tr>\n",
       "      <th>район Орехово-Борисово Южное</th>\n",
       "      <td>4</td>\n",
       "    </tr>\n",
       "    <tr>\n",
       "      <th rowspan=\"3\" valign=\"top\">Кутузовский проспект</th>\n",
       "      <th>поселение Краснопахорское</th>\n",
       "      <td>40</td>\n",
       "    </tr>\n",
       "    <tr>\n",
       "      <th>район Дорогомилово</th>\n",
       "      <td>39</td>\n",
       "    </tr>\n",
       "    <tr>\n",
       "      <th>район Фили-Давыдково</th>\n",
       "      <td>63</td>\n",
       "    </tr>\n",
       "    <tr>\n",
       "      <th rowspan=\"4\" valign=\"top\">Ленинградский проспект</th>\n",
       "      <th>Хорошёвский район</th>\n",
       "      <td>12</td>\n",
       "    </tr>\n",
       "    <tr>\n",
       "      <th>район Аэропорт</th>\n",
       "      <td>62</td>\n",
       "    </tr>\n",
       "    <tr>\n",
       "      <th>район Беговой</th>\n",
       "      <td>46</td>\n",
       "    </tr>\n",
       "    <tr>\n",
       "      <th>район Сокол</th>\n",
       "      <td>20</td>\n",
       "    </tr>\n",
       "    <tr>\n",
       "      <th rowspan=\"8\" valign=\"top\">Ленинский проспект</th>\n",
       "      <th>Гагаринский район</th>\n",
       "      <td>31</td>\n",
       "    </tr>\n",
       "    <tr>\n",
       "      <th>Донской район</th>\n",
       "      <td>10</td>\n",
       "    </tr>\n",
       "    <tr>\n",
       "      <th>Ломоносовский район</th>\n",
       "      <td>10</td>\n",
       "    </tr>\n",
       "    <tr>\n",
       "      <th>Обручевский район</th>\n",
       "      <td>30</td>\n",
       "    </tr>\n",
       "    <tr>\n",
       "      <th>район Проспект Вернадского</th>\n",
       "      <td>1</td>\n",
       "    </tr>\n",
       "    <tr>\n",
       "      <th>район Тропарёво-Никулино</th>\n",
       "      <td>20</td>\n",
       "    </tr>\n",
       "    <tr>\n",
       "      <th>район Тёплый Стан</th>\n",
       "      <td>3</td>\n",
       "    </tr>\n",
       "    <tr>\n",
       "      <th>район Якиманка</th>\n",
       "      <td>12</td>\n",
       "    </tr>\n",
       "    <tr>\n",
       "      <th>Пресненская набережная</th>\n",
       "      <th>Пресненский район</th>\n",
       "      <td>135</td>\n",
       "    </tr>\n",
       "    <tr>\n",
       "      <th rowspan=\"5\" valign=\"top\">Профсоюзная улица</th>\n",
       "      <th>Обручевский район</th>\n",
       "      <td>30</td>\n",
       "    </tr>\n",
       "    <tr>\n",
       "      <th>район Коньково</th>\n",
       "      <td>29</td>\n",
       "    </tr>\n",
       "    <tr>\n",
       "      <th>район Тёплый Стан</th>\n",
       "      <td>36</td>\n",
       "    </tr>\n",
       "    <tr>\n",
       "      <th>район Черёмушки</th>\n",
       "      <td>35</td>\n",
       "    </tr>\n",
       "    <tr>\n",
       "      <th>район Ясенево</th>\n",
       "      <td>14</td>\n",
       "    </tr>\n",
       "    <tr>\n",
       "      <th>поселение Сосенское</th>\n",
       "      <th>поселение Сосенское</th>\n",
       "      <td>102</td>\n",
       "    </tr>\n",
       "    <tr>\n",
       "      <th rowspan=\"5\" valign=\"top\">проспект Вернадского</th>\n",
       "      <th>Ломоносовский район</th>\n",
       "      <td>13</td>\n",
       "    </tr>\n",
       "    <tr>\n",
       "      <th>поселение Вороновское</th>\n",
       "      <td>1</td>\n",
       "    </tr>\n",
       "    <tr>\n",
       "      <th>район Проспект Вернадского</th>\n",
       "      <td>11</td>\n",
       "    </tr>\n",
       "    <tr>\n",
       "      <th>район Раменки</th>\n",
       "      <td>32</td>\n",
       "    </tr>\n",
       "    <tr>\n",
       "      <th>район Тропарёво-Никулино</th>\n",
       "      <td>47</td>\n",
       "    </tr>\n",
       "    <tr>\n",
       "      <th rowspan=\"5\" valign=\"top\">проспект Мира</th>\n",
       "      <th>Алексеевский район</th>\n",
       "      <td>43</td>\n",
       "    </tr>\n",
       "    <tr>\n",
       "      <th>Мещанский район</th>\n",
       "      <td>53</td>\n",
       "    </tr>\n",
       "    <tr>\n",
       "      <th>Останкинский район</th>\n",
       "      <td>12</td>\n",
       "    </tr>\n",
       "    <tr>\n",
       "      <th>район Ростокино</th>\n",
       "      <td>6</td>\n",
       "    </tr>\n",
       "    <tr>\n",
       "      <th>район Свиблово</th>\n",
       "      <td>62</td>\n",
       "    </tr>\n",
       "  </tbody>\n",
       "</table>\n",
       "</div>"
      ],
      "text/plain": [
       "                                                         id\n",
       "streets                district                            \n",
       "Варшавское шоссе       Донской район                     31\n",
       "                       Нагорный район                    25\n",
       "                       район Нагатино-Садовники           4\n",
       "                       район Чертаново Северное          19\n",
       "                       район Чертаново Центральное        8\n",
       "                       район Чертаново Южное             35\n",
       "                       район Южное Бутово                 2\n",
       "Каширское шоссе        район Москворечье-Сабурово        29\n",
       "                       район Нагатино-Садовники          20\n",
       "                       район Орехово-Борисово Северное   10\n",
       "                       район Орехово-Борисово Южное       4\n",
       "Кутузовский проспект   поселение Краснопахорское         40\n",
       "                       район Дорогомилово                39\n",
       "                       район Фили-Давыдково              63\n",
       "Ленинградский проспект Хорошёвский район                 12\n",
       "                       район Аэропорт                    62\n",
       "                       район Беговой                     46\n",
       "                       район Сокол                       20\n",
       "Ленинский проспект     Гагаринский район                 31\n",
       "                       Донской район                     10\n",
       "                       Ломоносовский район               10\n",
       "                       Обручевский район                 30\n",
       "                       район Проспект Вернадского         1\n",
       "                       район Тропарёво-Никулино          20\n",
       "                       район Тёплый Стан                  3\n",
       "                       район Якиманка                    12\n",
       "Пресненская набережная Пресненский район                135\n",
       "Профсоюзная улица      Обручевский район                 30\n",
       "                       район Коньково                    29\n",
       "                       район Тёплый Стан                 36\n",
       "                       район Черёмушки                   35\n",
       "                       район Ясенево                     14\n",
       "поселение Сосенское    поселение Сосенское              102\n",
       "проспект Вернадского   Ломоносовский район               13\n",
       "                       поселение Вороновское              1\n",
       "                       район Проспект Вернадского        11\n",
       "                       район Раменки                     32\n",
       "                       район Тропарёво-Никулино          47\n",
       "проспект Мира          Алексеевский район                43\n",
       "                       Мещанский район                   53\n",
       "                       Останкинский район                12\n",
       "                       район Ростокино                    6\n",
       "                       район Свиблово                    62"
      ]
     },
     "execution_count": 17,
     "metadata": {},
     "output_type": "execute_result"
    }
   ],
   "source": [
    "rest_data[rest_data['streets'].isin(rest_data_streets_top_10['streets'])].groupby(['streets','district']).agg({'id' : 'count'})"
   ]
  },
  {
   "cell_type": "code",
   "execution_count": 18,
   "metadata": {},
   "outputs": [
    {
     "data": {
      "image/png": "[encoded data removed]",
      "text/plain": [
       "<Figure size 720x432 with 1 Axes>"
      ]
     },
     "metadata": {
      "needs_background": "light"
     },
     "output_type": "display_data"
    }
   ],
   "source": [
    "#print(list(rest_data_streets_top_10['streets']))\n",
    "# Построим график ТОП-10 улиц\n",
    "x = np.arange(len(rest_data_streets_top_10))\n",
    "fig, ax = plt.subplots(figsize = (10, 6))\n",
    "rects = ax.barh(x, rest_data_streets_top_10['count_object'])\n",
    "ax.set_title('ТОП-10 улиц по количеству объектов общественного питания')\n",
    "ax.set_xlabel('количество заведений, шт.')\n",
    "ax.set_yticks(x)\n",
    "ax.set_yticklabels(rest_data_streets_top_10['streets'])\n",
    "plt.grid(color = 'gray', linestyle = '-', linewidth = 0.5) # включить отрисовку сетки c определенными параметрами\n",
    "plt.savefig('6 ТОП-10 улиц по количеству объектов общественного питания.png')\n",
    "plt.show()"
   ]
  },
  {
   "cell_type": "markdown",
   "metadata": {},
   "source": [
    "ТОП-10 улиц с максимальным количеством объектов общественного питания: 'проспект Мира', 'Профсоюзная улица', 'Ленинградский проспект', 'Пресненская набережная', 'Кутузовский проспект', 'Варшавское шоссе', 'Ленинский проспект', 'поселение Сосенское', 'проспект Вернадского', 'Каширское шоссе'. В таблице выше перечисленны районы и административные округа, в которых расположены упомянутые улицы."
   ]
  },
  {
   "cell_type": "markdown",
   "metadata": {},
   "source": [
    "### Улицы с единственным объектом общественного питания \n",
    "\n",
    "[В начало](#intro)\n",
    "\n",
    "Найдем число улиц с одним объектом общественного питания и, воспользовавшись внешней информацией, определим, в каких районах Москвы находятся эти улицы."
   ]
  },
  {
   "cell_type": "code",
   "execution_count": 19,
   "metadata": {},
   "outputs": [
    {
     "name": "stdout",
     "output_type": "stream",
     "text": [
      "Первые 5 строк таблицы улиц с единственным объектом общественного питания \n",
      "с указанием районов (district) и административных округов (adm_area):\n"
     ]
    },
    {
     "data": {
      "text/html": [
       "<div>\n",
       "<style scoped>\n",
       "    .dataframe tbody tr th:only-of-type {\n",
       "        vertical-align: middle;\n",
       "    }\n",
       "\n",
       "    .dataframe tbody tr th {\n",
       "        vertical-align: top;\n",
       "    }\n",
       "\n",
       "    .dataframe thead th {\n",
       "        text-align: right;\n",
       "    }\n",
       "</style>\n",
       "<table border=\"1\" class=\"dataframe\">\n",
       "  <thead>\n",
       "    <tr style=\"text-align: right;\">\n",
       "      <th></th>\n",
       "      <th>streets</th>\n",
       "      <th>count_object</th>\n",
       "      <th>district</th>\n",
       "      <th>adm_area</th>\n",
       "    </tr>\n",
       "  </thead>\n",
       "  <tbody>\n",
       "    <tr>\n",
       "      <th>1321</th>\n",
       "      <td>улица Демьяна Бедного</td>\n",
       "      <td>1</td>\n",
       "      <td>[район Хорошёво-Мнёвники]</td>\n",
       "      <td>[Северо-Западный административный округ]</td>\n",
       "    </tr>\n",
       "    <tr>\n",
       "      <th>1322</th>\n",
       "      <td>Андреево-Забелинская улица</td>\n",
       "      <td>1</td>\n",
       "      <td>[район Богородское]</td>\n",
       "      <td>[Восточный административный округ]</td>\n",
       "    </tr>\n",
       "    <tr>\n",
       "      <th>1323</th>\n",
       "      <td>1-й Саратовский проезд</td>\n",
       "      <td>1</td>\n",
       "      <td>[nan]</td>\n",
       "      <td>[nan]</td>\n",
       "    </tr>\n",
       "    <tr>\n",
       "      <th>1324</th>\n",
       "      <td>Андроньевская площадь</td>\n",
       "      <td>1</td>\n",
       "      <td>[nan]</td>\n",
       "      <td>[nan]</td>\n",
       "    </tr>\n",
       "    <tr>\n",
       "      <th>1325</th>\n",
       "      <td>2-й Стрелецкий проезд</td>\n",
       "      <td>1</td>\n",
       "      <td>[nan]</td>\n",
       "      <td>[nan]</td>\n",
       "    </tr>\n",
       "  </tbody>\n",
       "</table>\n",
       "</div>"
      ],
      "text/plain": [
       "                         streets  count_object                   district  \\\n",
       "1321       улица Демьяна Бедного             1  [район Хорошёво-Мнёвники]   \n",
       "1322  Андреево-Забелинская улица             1        [район Богородское]   \n",
       "1323      1-й Саратовский проезд             1                      [nan]   \n",
       "1324       Андроньевская площадь             1                      [nan]   \n",
       "1325       2-й Стрелецкий проезд             1                      [nan]   \n",
       "\n",
       "                                      adm_area  \n",
       "1321  [Северо-Западный административный округ]  \n",
       "1322        [Восточный административный округ]  \n",
       "1323                                     [nan]  \n",
       "1324                                     [nan]  \n",
       "1325                                     [nan]  "
      ]
     },
     "metadata": {},
     "output_type": "display_data"
    },
    {
     "name": "stdout",
     "output_type": "stream",
     "text": [
      "Общее количество улиц с одним заведением: 579\n"
     ]
    }
   ],
   "source": [
    "# Найдем улицы с одним заведением\n",
    "var_count = 1\n",
    "rest_data_streets_one = rest_data_streets.query(\"count_object == @var_count\")\n",
    "print('Первые 5 строк таблицы улиц с единственным объектом общественного питания \\nс указанием районов (district) и административных округов (adm_area):')\n",
    "display(rest_data_streets_one.head())\n",
    "print('Общее количество улиц с одним заведением:', rest_data_streets_one.shape[0])\n",
    "#print(list(rest_data_streets_one['streets']))"
   ]
  },
  {
   "cell_type": "markdown",
   "metadata": {},
   "source": [
    "Общее количество улиц с одним заведением: 579. В таблице выше перечисленны районы и административные округа, в которых расположены упомянутые улицы."
   ]
  },
  {
   "cell_type": "code",
   "execution_count": 20,
   "metadata": {},
   "outputs": [
    {
     "data": {
      "text/plain": [
       "Таганский район           19\n",
       "Басманный район           16\n",
       "Тверской район            15\n",
       "район Хамовники           15\n",
       "район Сокольники          10\n",
       "                          ..\n",
       "район Некрасовка           1\n",
       "поселение Московский       1\n",
       "район Филёвский Парк       1\n",
       "район Чертаново Южное      1\n",
       "поселение \"Мосрентген\"     1\n",
       "Name: district, Length: 92, dtype: int64"
      ]
     },
     "execution_count": 20,
     "metadata": {},
     "output_type": "execute_result"
    }
   ],
   "source": [
    "rest_data_streets_one.explode('district')['district'].value_counts()"
   ]
  },
  {
   "cell_type": "markdown",
   "metadata": {},
   "source": [
    "## Общий вывод\n",
    "[В начало](#intro)"
   ]
  },
  {
   "cell_type": "markdown",
   "metadata": {},
   "source": [
    "В ходе исследования было установлено, что:<br>\n",
    "1) Исходный датафрейм представляет собой таблицу из 15365 записей об объектах общественного питания г. Москвы. В столбцах используются значения различных типов: строки и целые числа. Автоматически определенный тип значений верен. Пропусков в датафрейме не обнаружено. Количество дубликатов в датафрейме без учета столбца id: 85 шт. Удалив дубликаты оставляем 99 % от исходного количества строк (15281 шт.).<br>\n",
    "2) **Почти 40 % всех заведений - это кафе**. На втором месте по распространенности столовые (16,8 %), далее следуют рестораны (14,9 %) и предприятия быстрого обслуживания (12,5 %). Прочие 5 видов заведений вместе набирают чуть более 16 % (среди них больше всего баров - более 5 %).<br>\n",
    "3) Почти **81 % всех заведений - не сетевые**. Чуть более 19 % - сетевые.<br> \n",
    "4) **В абсолютных величинах сетевых объектов общественного питания больше всего среди кафе (1396 шт.), а в относительных величинах - среди предприятий быстрого обслуживания (40,98 %)**. Среди столовых и буфетов сетевых предприятий почти нет.<br>\n",
    "5) Для объектов общественного питания сетевых предприятий **характерно наличие лишь нескольких сетей** с большым количеством заведений как с небольшим (до 26), так и со средним (от 26 до 68) и большим (от 68) числом посадочных мест в каждом.<br>\n",
    "6) **ТОП-5 видов заведений, которые предоставляют в среднем самое большое количество посадочных мест**: столовые, рестораны, бары, кафе и предприятия быстрого обслуживания (112, 100, 53, 47 и 40 посадочных мест соответственно).<br>\n",
    "7) **ТОП-10 улиц с максимальным количеством объектов общественного питания**: 'проспект Мира', 'Профсоюзная улица', 'Ленинградский проспект', 'Пресненская набережная', 'Кутузовский проспект', 'Варшавское шоссе', 'Ленинский проспект', 'поселение Сосенское', 'проспект Вернадского', 'Каширское шоссе'.<br>\n",
    "8) Общее **количество улиц с одним заведением: 579**.\n",
    "<br>\n",
    "<br>\n",
    "<br>\n",
    "**РЕКОМЕНДАЦИИ ПО ИТОГАМ ИССЛЕДОВАНИЯ**<br>\n",
    "Конкурировать с уже существующими заведениями общественного питания создаваемое предприятие может за счет необычности самой идеи обслуживания клиентов роботами.<br>\n",
    "На основании проведенного анализа возможно дать следующие рекомендации для обеспечения устойчивого клиентского спроса:<br> \n",
    "1) **вид**: кафе (максимум заведений имеют аналогичный формат),<br>\n",
    "2) **количество посадочных мест**: в пределах 50 (среднее количество посадочных мест для кафе - 47), <br>\n",
    "3) **улица / район / округ расположения**: 'проспект Мира', 'Профсоюзная улица', 'Ленинградский проспект' / Мещанский район, Останкинский район, Алексеевский район, район Ростокино, район Свиблово, район Черёмушки, район Тёплый Стан, район Коньково, Обручевский район, район Ясенево, район Беговой, район Аэропорт, район Сокол, Хорошёвский район / Центральный административный округ, Северо-Восточный административный округ, Юго-Западный административный округ, Северный административный округ (ТОП-3 улицы с наибольшим количеством заведений, и, следовательно, потенциальных клиентов).<br>\n",
    "4) **имеет смысл далее развивать предприятия, сделав его сетевым**. Это позволит увеличить количество потенциальных клиентов и оптимизировать операционные затраты за счет эффекта масштаба.\n"
   ]
  },
  {
   "cell_type": "markdown",
   "metadata": {},
   "source": [
    "Ссылка на презентацию в формате PDF: <https://disk.yandex.ru/i/C1jezO5YT2JPLA> "
   ]
  }
 ],
 "metadata": {
  "ExecuteTimeLog": [
   {
    "duration": 55,
    "start_time": "2022-08-10T11:27:13.811Z"
   },
   {
    "duration": 1377,
    "start_time": "2022-08-10T11:28:54.559Z"
   },
   {
    "duration": 279,
    "start_time": "2022-08-10T11:32:41.746Z"
   },
   {
    "duration": 6,
    "start_time": "2022-08-10T11:33:43.213Z"
   },
   {
    "duration": 111,
    "start_time": "2022-08-10T11:38:45.064Z"
   },
   {
    "duration": 55,
    "start_time": "2022-08-10T11:39:25.530Z"
   },
   {
    "duration": 96,
    "start_time": "2022-08-10T11:39:33.655Z"
   },
   {
    "duration": 98,
    "start_time": "2022-08-10T11:39:55.011Z"
   },
   {
    "duration": 5,
    "start_time": "2022-08-10T11:42:06.716Z"
   },
   {
    "duration": 110,
    "start_time": "2022-08-10T11:42:49.730Z"
   },
   {
    "duration": 147,
    "start_time": "2022-08-10T11:44:23.620Z"
   },
   {
    "duration": 14,
    "start_time": "2022-08-10T11:44:26.499Z"
   },
   {
    "duration": 111,
    "start_time": "2022-08-10T11:44:28.746Z"
   },
   {
    "duration": 4,
    "start_time": "2022-08-10T11:44:30.659Z"
   },
   {
    "duration": 7,
    "start_time": "2022-08-10T11:45:22.437Z"
   },
   {
    "duration": 97,
    "start_time": "2022-08-10T11:45:24.184Z"
   },
   {
    "duration": 4,
    "start_time": "2022-08-10T11:45:26.019Z"
   },
   {
    "duration": 11,
    "start_time": "2022-08-10T11:45:28.551Z"
   },
   {
    "duration": 55,
    "start_time": "2022-08-10T11:46:18.467Z"
   },
   {
    "duration": 7,
    "start_time": "2022-08-10T11:49:36.590Z"
   },
   {
    "duration": 4,
    "start_time": "2022-08-10T11:49:40.593Z"
   },
   {
    "duration": 1135,
    "start_time": "2022-08-10T11:49:48.934Z"
   },
   {
    "duration": 100,
    "start_time": "2022-08-10T11:49:50.071Z"
   },
   {
    "duration": 5,
    "start_time": "2022-08-10T11:49:50.172Z"
   },
   {
    "duration": 58,
    "start_time": "2022-08-10T11:49:50.178Z"
   },
   {
    "duration": 70,
    "start_time": "2022-08-13T07:02:10.610Z"
   },
   {
    "duration": 58,
    "start_time": "2022-08-13T07:06:28.441Z"
   },
   {
    "duration": 45,
    "start_time": "2022-08-13T07:12:25.762Z"
   },
   {
    "duration": 1280,
    "start_time": "2022-08-13T07:13:02.709Z"
   },
   {
    "duration": 273,
    "start_time": "2022-08-13T07:13:03.991Z"
   },
   {
    "duration": 4,
    "start_time": "2022-08-13T07:13:04.265Z"
   },
   {
    "duration": 52,
    "start_time": "2022-08-13T07:13:04.271Z"
   },
   {
    "duration": 4,
    "start_time": "2022-08-13T07:13:04.324Z"
   },
   {
    "duration": 5,
    "start_time": "2022-08-13T07:15:19.004Z"
   },
   {
    "duration": 6,
    "start_time": "2022-08-13T07:17:41.314Z"
   },
   {
    "duration": 4,
    "start_time": "2022-08-13T07:17:52.104Z"
   },
   {
    "duration": 7,
    "start_time": "2022-08-13T07:18:29.489Z"
   },
   {
    "duration": 9,
    "start_time": "2022-08-13T07:19:23.684Z"
   },
   {
    "duration": 110,
    "start_time": "2022-08-13T07:20:32.209Z"
   },
   {
    "duration": 12,
    "start_time": "2022-08-13T07:20:51.104Z"
   },
   {
    "duration": 12,
    "start_time": "2022-08-13T07:23:01.154Z"
   },
   {
    "duration": 11,
    "start_time": "2022-08-13T07:23:20.164Z"
   },
   {
    "duration": 8,
    "start_time": "2022-08-13T07:26:12.163Z"
   },
   {
    "duration": 7,
    "start_time": "2022-08-13T07:26:21.535Z"
   },
   {
    "duration": 13,
    "start_time": "2022-08-13T07:29:51.323Z"
   },
   {
    "duration": 19,
    "start_time": "2022-08-13T07:30:10.493Z"
   },
   {
    "duration": 34,
    "start_time": "2022-08-13T07:34:30.014Z"
   },
   {
    "duration": 17,
    "start_time": "2022-08-13T07:35:30.148Z"
   },
   {
    "duration": 20,
    "start_time": "2022-08-13T07:39:02.578Z"
   },
   {
    "duration": 14,
    "start_time": "2022-08-13T07:39:23.014Z"
   },
   {
    "duration": 44,
    "start_time": "2022-08-13T07:39:57.364Z"
   },
   {
    "duration": 15,
    "start_time": "2022-08-13T07:40:00.563Z"
   },
   {
    "duration": 21,
    "start_time": "2022-08-13T07:40:49.564Z"
   },
   {
    "duration": 15,
    "start_time": "2022-08-13T07:40:59.209Z"
   },
   {
    "duration": 21,
    "start_time": "2022-08-13T07:55:02.655Z"
   },
   {
    "duration": 15,
    "start_time": "2022-08-13T07:55:41.609Z"
   },
   {
    "duration": 17,
    "start_time": "2022-08-13T07:56:41.624Z"
   },
   {
    "duration": 16,
    "start_time": "2022-08-13T07:56:54.649Z"
   },
   {
    "duration": 17,
    "start_time": "2022-08-13T07:57:21.029Z"
   },
   {
    "duration": 17,
    "start_time": "2022-08-13T07:57:54.184Z"
   },
   {
    "duration": 15,
    "start_time": "2022-08-13T07:58:26.845Z"
   },
   {
    "duration": 18,
    "start_time": "2022-08-13T07:58:48.939Z"
   },
   {
    "duration": 16,
    "start_time": "2022-08-13T07:59:01.094Z"
   },
   {
    "duration": 25,
    "start_time": "2022-08-13T08:00:35.989Z"
   },
   {
    "duration": 16,
    "start_time": "2022-08-13T08:01:02.144Z"
   },
   {
    "duration": 17,
    "start_time": "2022-08-13T08:02:12.069Z"
   },
   {
    "duration": 17,
    "start_time": "2022-08-13T08:02:41.064Z"
   },
   {
    "duration": 17,
    "start_time": "2022-08-13T08:03:10.804Z"
   },
   {
    "duration": 8,
    "start_time": "2022-08-13T08:05:10.809Z"
   },
   {
    "duration": 1028,
    "start_time": "2022-08-13T08:11:19.855Z"
   },
   {
    "duration": 100,
    "start_time": "2022-08-13T08:11:20.886Z"
   },
   {
    "duration": 4,
    "start_time": "2022-08-13T08:11:20.987Z"
   },
   {
    "duration": 65,
    "start_time": "2022-08-13T08:11:20.992Z"
   },
   {
    "duration": 34,
    "start_time": "2022-08-13T08:12:42.686Z"
   },
   {
    "duration": 25,
    "start_time": "2022-08-13T08:14:08.101Z"
   },
   {
    "duration": 18,
    "start_time": "2022-08-13T08:14:30.461Z"
   },
   {
    "duration": 9,
    "start_time": "2022-08-13T08:14:33.081Z"
   },
   {
    "duration": 18,
    "start_time": "2022-08-13T08:15:25.031Z"
   },
   {
    "duration": 19,
    "start_time": "2022-08-13T08:18:36.221Z"
   },
   {
    "duration": 2,
    "start_time": "2022-08-13T08:24:29.741Z"
   },
   {
    "duration": 109,
    "start_time": "2022-08-13T08:25:20.871Z"
   },
   {
    "duration": 6,
    "start_time": "2022-08-13T08:25:58.686Z"
   },
   {
    "duration": 175,
    "start_time": "2022-08-13T08:26:07.502Z"
   },
   {
    "duration": 13,
    "start_time": "2022-08-13T08:37:31.561Z"
   },
   {
    "duration": 11,
    "start_time": "2022-08-13T08:37:47.376Z"
   },
   {
    "duration": 12,
    "start_time": "2022-08-13T08:38:01.650Z"
   },
   {
    "duration": 18,
    "start_time": "2022-08-13T08:38:30.506Z"
   },
   {
    "duration": 122,
    "start_time": "2022-08-13T09:01:36.301Z"
   },
   {
    "duration": 151,
    "start_time": "2022-08-13T09:02:39.621Z"
   },
   {
    "duration": 20,
    "start_time": "2022-08-13T09:19:30.586Z"
   },
   {
    "duration": 1104,
    "start_time": "2022-08-13T09:19:47.876Z"
   },
   {
    "duration": 109,
    "start_time": "2022-08-13T09:19:48.983Z"
   },
   {
    "duration": 4,
    "start_time": "2022-08-13T09:19:49.093Z"
   },
   {
    "duration": 51,
    "start_time": "2022-08-13T09:19:49.098Z"
   },
   {
    "duration": 19,
    "start_time": "2022-08-13T09:19:49.150Z"
   },
   {
    "duration": 116,
    "start_time": "2022-08-13T09:19:49.170Z"
   },
   {
    "duration": 10,
    "start_time": "2022-08-13T09:20:34.591Z"
   },
   {
    "duration": 14,
    "start_time": "2022-08-13T09:21:07.156Z"
   },
   {
    "duration": 31,
    "start_time": "2022-08-13T09:23:42.596Z"
   },
   {
    "duration": 116,
    "start_time": "2022-08-13T09:25:33.623Z"
   },
   {
    "duration": 15,
    "start_time": "2022-08-13T09:26:51.466Z"
   },
   {
    "duration": 11,
    "start_time": "2022-08-13T09:27:48.926Z"
   },
   {
    "duration": 182,
    "start_time": "2022-08-13T09:27:56.810Z"
   },
   {
    "duration": 144,
    "start_time": "2022-08-13T09:28:06.186Z"
   },
   {
    "duration": 135,
    "start_time": "2022-08-13T09:28:16.366Z"
   },
   {
    "duration": 138,
    "start_time": "2022-08-13T09:28:22.135Z"
   },
   {
    "duration": 181,
    "start_time": "2022-08-13T09:28:28.626Z"
   },
   {
    "duration": 52,
    "start_time": "2022-08-14T11:42:04.962Z"
   },
   {
    "duration": 1272,
    "start_time": "2022-08-14T11:42:30.501Z"
   },
   {
    "duration": 307,
    "start_time": "2022-08-14T11:42:31.775Z"
   },
   {
    "duration": 5,
    "start_time": "2022-08-14T11:42:32.083Z"
   },
   {
    "duration": 58,
    "start_time": "2022-08-14T11:42:32.090Z"
   },
   {
    "duration": 37,
    "start_time": "2022-08-14T11:42:32.150Z"
   },
   {
    "duration": 111,
    "start_time": "2022-08-14T11:42:32.189Z"
   },
   {
    "duration": 210,
    "start_time": "2022-08-14T11:43:29.726Z"
   },
   {
    "duration": 219,
    "start_time": "2022-08-14T11:44:45.077Z"
   },
   {
    "duration": 43,
    "start_time": "2022-08-15T06:35:13.312Z"
   },
   {
    "duration": 3126,
    "start_time": "2022-08-15T06:35:26.659Z"
   },
   {
    "duration": 454,
    "start_time": "2022-08-15T06:35:29.787Z"
   },
   {
    "duration": 4,
    "start_time": "2022-08-15T06:35:30.242Z"
   },
   {
    "duration": 55,
    "start_time": "2022-08-15T06:35:30.248Z"
   },
   {
    "duration": 18,
    "start_time": "2022-08-15T06:35:30.304Z"
   },
   {
    "duration": 104,
    "start_time": "2022-08-15T06:35:30.323Z"
   },
   {
    "duration": 30,
    "start_time": "2022-08-15T06:37:13.804Z"
   },
   {
    "duration": 31,
    "start_time": "2022-08-15T06:40:12.331Z"
   },
   {
    "duration": 107,
    "start_time": "2022-08-15T06:49:03.266Z"
   },
   {
    "duration": 21,
    "start_time": "2022-08-15T06:52:51.697Z"
   },
   {
    "duration": 20,
    "start_time": "2022-08-15T06:53:37.142Z"
   },
   {
    "duration": 20,
    "start_time": "2022-08-15T06:54:25.716Z"
   },
   {
    "duration": 20,
    "start_time": "2022-08-15T06:54:34.633Z"
   },
   {
    "duration": 18,
    "start_time": "2022-08-15T06:56:39.083Z"
   },
   {
    "duration": 19,
    "start_time": "2022-08-15T06:57:59.197Z"
   },
   {
    "duration": 1487,
    "start_time": "2022-08-15T08:00:41.465Z"
   },
   {
    "duration": 1383,
    "start_time": "2022-08-15T08:01:02.277Z"
   },
   {
    "duration": 20,
    "start_time": "2022-08-15T08:04:07.396Z"
   },
   {
    "duration": 1055,
    "start_time": "2022-08-15T08:04:25.651Z"
   },
   {
    "duration": 138,
    "start_time": "2022-08-15T08:04:26.708Z"
   },
   {
    "duration": 4,
    "start_time": "2022-08-15T08:04:26.848Z"
   },
   {
    "duration": 64,
    "start_time": "2022-08-15T08:04:26.853Z"
   },
   {
    "duration": 106,
    "start_time": "2022-08-15T08:04:26.918Z"
   },
   {
    "duration": 0,
    "start_time": "2022-08-15T08:04:27.025Z"
   },
   {
    "duration": 15,
    "start_time": "2022-08-15T08:04:51.394Z"
   },
   {
    "duration": 15,
    "start_time": "2022-08-15T08:05:12.183Z"
   },
   {
    "duration": 995,
    "start_time": "2022-08-15T08:05:22.459Z"
   },
   {
    "duration": 107,
    "start_time": "2022-08-15T08:05:23.457Z"
   },
   {
    "duration": 4,
    "start_time": "2022-08-15T08:05:23.565Z"
   },
   {
    "duration": 51,
    "start_time": "2022-08-15T08:05:23.570Z"
   },
   {
    "duration": 101,
    "start_time": "2022-08-15T08:05:23.623Z"
   },
   {
    "duration": 0,
    "start_time": "2022-08-15T08:05:23.726Z"
   },
   {
    "duration": 16,
    "start_time": "2022-08-15T08:05:53.261Z"
   },
   {
    "duration": 10,
    "start_time": "2022-08-15T08:06:20.892Z"
   },
   {
    "duration": 13,
    "start_time": "2022-08-15T08:06:38.914Z"
   },
   {
    "duration": 10,
    "start_time": "2022-08-15T08:07:11.034Z"
   },
   {
    "duration": 12,
    "start_time": "2022-08-15T08:07:21.049Z"
   },
   {
    "duration": 13,
    "start_time": "2022-08-15T08:08:45.270Z"
   },
   {
    "duration": 13,
    "start_time": "2022-08-15T08:10:04.257Z"
   },
   {
    "duration": 13,
    "start_time": "2022-08-15T08:10:20.513Z"
   },
   {
    "duration": 15,
    "start_time": "2022-08-15T08:10:29.353Z"
   },
   {
    "duration": 984,
    "start_time": "2022-08-15T08:10:38.459Z"
   },
   {
    "duration": 157,
    "start_time": "2022-08-15T08:10:39.445Z"
   },
   {
    "duration": 4,
    "start_time": "2022-08-15T08:10:39.604Z"
   },
   {
    "duration": 49,
    "start_time": "2022-08-15T08:10:39.609Z"
   },
   {
    "duration": 11,
    "start_time": "2022-08-15T08:10:39.660Z"
   },
   {
    "duration": 124,
    "start_time": "2022-08-15T08:10:39.673Z"
   },
   {
    "duration": 129,
    "start_time": "2022-08-15T08:11:01.258Z"
   },
   {
    "duration": 14,
    "start_time": "2022-08-15T08:11:19.656Z"
   },
   {
    "duration": 22,
    "start_time": "2022-08-15T08:11:28.072Z"
   },
   {
    "duration": 12,
    "start_time": "2022-08-15T08:11:43.305Z"
   },
   {
    "duration": 16,
    "start_time": "2022-08-15T08:12:34.332Z"
   },
   {
    "duration": 16,
    "start_time": "2022-08-15T08:12:56.655Z"
   },
   {
    "duration": 1574,
    "start_time": "2022-08-15T08:13:45.792Z"
   },
   {
    "duration": 216,
    "start_time": "2022-08-15T08:14:48.785Z"
   },
   {
    "duration": 210,
    "start_time": "2022-08-15T08:19:58.627Z"
   },
   {
    "duration": 225,
    "start_time": "2022-08-15T08:21:47.301Z"
   },
   {
    "duration": 213,
    "start_time": "2022-08-15T08:23:18.266Z"
   },
   {
    "duration": 224,
    "start_time": "2022-08-15T08:24:16.341Z"
   },
   {
    "duration": 207,
    "start_time": "2022-08-15T08:25:23.253Z"
   },
   {
    "duration": 266,
    "start_time": "2022-08-15T08:28:21.302Z"
   },
   {
    "duration": 202,
    "start_time": "2022-08-15T08:30:13.298Z"
   },
   {
    "duration": 196,
    "start_time": "2022-08-15T08:30:44.219Z"
   },
   {
    "duration": 190,
    "start_time": "2022-08-15T08:31:17.592Z"
   },
   {
    "duration": 226,
    "start_time": "2022-08-15T08:32:27.236Z"
   },
   {
    "duration": 205,
    "start_time": "2022-08-15T08:33:59.817Z"
   },
   {
    "duration": 215,
    "start_time": "2022-08-15T08:34:16.595Z"
   },
   {
    "duration": 205,
    "start_time": "2022-08-15T08:35:55.543Z"
   },
   {
    "duration": 200,
    "start_time": "2022-08-15T08:37:35.490Z"
   },
   {
    "duration": 200,
    "start_time": "2022-08-15T08:38:24.606Z"
   },
   {
    "duration": 323,
    "start_time": "2022-08-15T08:39:09.002Z"
   },
   {
    "duration": 201,
    "start_time": "2022-08-15T08:44:19.137Z"
   },
   {
    "duration": 196,
    "start_time": "2022-08-15T08:45:46.721Z"
   },
   {
    "duration": 184,
    "start_time": "2022-08-15T08:49:57.818Z"
   },
   {
    "duration": 196,
    "start_time": "2022-08-15T08:52:34.819Z"
   },
   {
    "duration": 173,
    "start_time": "2022-08-15T08:53:00.933Z"
   },
   {
    "duration": 207,
    "start_time": "2022-08-15T08:53:35.228Z"
   },
   {
    "duration": 231,
    "start_time": "2022-08-15T08:54:41.006Z"
   },
   {
    "duration": 77,
    "start_time": "2022-08-15T08:58:36.741Z"
   },
   {
    "duration": 226,
    "start_time": "2022-08-15T08:58:46.232Z"
   },
   {
    "duration": 270,
    "start_time": "2022-08-15T08:59:16.016Z"
   },
   {
    "duration": 225,
    "start_time": "2022-08-15T09:02:32.760Z"
   },
   {
    "duration": 324,
    "start_time": "2022-08-15T09:03:00.206Z"
   },
   {
    "duration": 357,
    "start_time": "2022-08-15T09:05:47.174Z"
   },
   {
    "duration": 329,
    "start_time": "2022-08-15T09:07:11.206Z"
   },
   {
    "duration": 373,
    "start_time": "2022-08-15T09:07:35.162Z"
   },
   {
    "duration": 1109,
    "start_time": "2022-08-15T09:08:06.871Z"
   },
   {
    "duration": 106,
    "start_time": "2022-08-15T09:08:07.981Z"
   },
   {
    "duration": 4,
    "start_time": "2022-08-15T09:08:08.088Z"
   },
   {
    "duration": 56,
    "start_time": "2022-08-15T09:08:08.094Z"
   },
   {
    "duration": 16,
    "start_time": "2022-08-15T09:08:08.152Z"
   },
   {
    "duration": 394,
    "start_time": "2022-08-15T09:08:08.170Z"
   },
   {
    "duration": 403,
    "start_time": "2022-08-15T09:08:58.840Z"
   },
   {
    "duration": 407,
    "start_time": "2022-08-15T09:09:14.020Z"
   },
   {
    "duration": 343,
    "start_time": "2022-08-15T09:10:54.503Z"
   },
   {
    "duration": 1674,
    "start_time": "2022-08-15T09:13:01.905Z"
   },
   {
    "duration": 340,
    "start_time": "2022-08-15T09:13:43.581Z"
   },
   {
    "duration": 350,
    "start_time": "2022-08-15T09:15:30.231Z"
   },
   {
    "duration": 452,
    "start_time": "2022-08-15T09:15:41.862Z"
   },
   {
    "duration": 338,
    "start_time": "2022-08-15T09:16:44.155Z"
   },
   {
    "duration": 406,
    "start_time": "2022-08-15T09:17:05.951Z"
   },
   {
    "duration": 356,
    "start_time": "2022-08-15T09:17:18.563Z"
   },
   {
    "duration": 237,
    "start_time": "2022-08-15T10:50:58.965Z"
   },
   {
    "duration": 352,
    "start_time": "2022-08-15T10:54:19.639Z"
   },
   {
    "duration": 262,
    "start_time": "2022-08-15T10:56:31.501Z"
   },
   {
    "duration": 366,
    "start_time": "2022-08-15T10:57:51.836Z"
   },
   {
    "duration": 341,
    "start_time": "2022-08-15T11:05:45.316Z"
   },
   {
    "duration": 364,
    "start_time": "2022-08-15T11:06:54.181Z"
   },
   {
    "duration": 82,
    "start_time": "2022-08-15T11:08:59.681Z"
   },
   {
    "duration": 13,
    "start_time": "2022-08-15T11:14:37.520Z"
   },
   {
    "duration": 1091,
    "start_time": "2022-08-15T11:14:53.386Z"
   },
   {
    "duration": 100,
    "start_time": "2022-08-15T11:14:54.479Z"
   },
   {
    "duration": 4,
    "start_time": "2022-08-15T11:14:54.580Z"
   },
   {
    "duration": 52,
    "start_time": "2022-08-15T11:14:54.586Z"
   },
   {
    "duration": 15,
    "start_time": "2022-08-15T11:14:54.639Z"
   },
   {
    "duration": 381,
    "start_time": "2022-08-15T11:14:54.655Z"
   },
   {
    "duration": 14,
    "start_time": "2022-08-15T11:14:55.038Z"
   },
   {
    "duration": 12,
    "start_time": "2022-08-15T11:15:37.253Z"
   },
   {
    "duration": 1448,
    "start_time": "2022-08-15T11:23:23.604Z"
   },
   {
    "duration": 324,
    "start_time": "2022-08-15T11:28:07.126Z"
   },
   {
    "duration": 301,
    "start_time": "2022-08-15T11:28:55.028Z"
   },
   {
    "duration": 8,
    "start_time": "2022-08-15T11:31:26.767Z"
   },
   {
    "duration": 103,
    "start_time": "2022-08-15T11:46:08.861Z"
   },
   {
    "duration": 114,
    "start_time": "2022-08-15T11:46:31.612Z"
   },
   {
    "duration": 161,
    "start_time": "2022-08-15T11:48:44.801Z"
   },
   {
    "duration": 0,
    "start_time": "2022-08-15T11:52:51.931Z"
   },
   {
    "duration": 5,
    "start_time": "2022-08-15T11:58:59.181Z"
   },
   {
    "duration": 52,
    "start_time": "2022-08-16T06:01:02.986Z"
   },
   {
    "duration": 1332,
    "start_time": "2022-08-16T06:01:15.428Z"
   },
   {
    "duration": 177,
    "start_time": "2022-08-16T06:01:16.762Z"
   },
   {
    "duration": 5,
    "start_time": "2022-08-16T06:01:16.941Z"
   },
   {
    "duration": 65,
    "start_time": "2022-08-16T06:01:16.948Z"
   },
   {
    "duration": 18,
    "start_time": "2022-08-16T06:01:17.016Z"
   },
   {
    "duration": 462,
    "start_time": "2022-08-16T06:01:17.036Z"
   },
   {
    "duration": 15,
    "start_time": "2022-08-16T06:01:17.500Z"
   },
   {
    "duration": 395,
    "start_time": "2022-08-16T06:01:17.517Z"
   },
   {
    "duration": 127,
    "start_time": "2022-08-16T06:01:17.914Z"
   },
   {
    "duration": 24,
    "start_time": "2022-08-16T06:02:14.404Z"
   },
   {
    "duration": 35,
    "start_time": "2022-08-16T06:07:24.024Z"
   },
   {
    "duration": 1236,
    "start_time": "2022-08-16T06:07:35.469Z"
   },
   {
    "duration": 135,
    "start_time": "2022-08-16T06:07:36.710Z"
   },
   {
    "duration": 4,
    "start_time": "2022-08-16T06:07:36.846Z"
   },
   {
    "duration": 75,
    "start_time": "2022-08-16T06:07:36.852Z"
   },
   {
    "duration": 17,
    "start_time": "2022-08-16T06:07:36.929Z"
   },
   {
    "duration": 434,
    "start_time": "2022-08-16T06:07:36.948Z"
   },
   {
    "duration": 21,
    "start_time": "2022-08-16T06:07:37.383Z"
   },
   {
    "duration": 392,
    "start_time": "2022-08-16T06:07:37.406Z"
   },
   {
    "duration": 2181,
    "start_time": "2022-08-16T06:07:37.806Z"
   },
   {
    "duration": 1347,
    "start_time": "2022-08-16T06:08:52.231Z"
   },
   {
    "duration": 35,
    "start_time": "2022-08-16T06:08:59.152Z"
   },
   {
    "duration": 31,
    "start_time": "2022-08-16T06:22:23.548Z"
   },
   {
    "duration": 53,
    "start_time": "2022-08-16T06:28:54.278Z"
   },
   {
    "duration": 47,
    "start_time": "2022-08-16T06:29:26.468Z"
   },
   {
    "duration": 47,
    "start_time": "2022-08-16T06:29:56.236Z"
   },
   {
    "duration": 46,
    "start_time": "2022-08-16T06:31:05.153Z"
   },
   {
    "duration": 69,
    "start_time": "2022-08-16T06:32:07.258Z"
   },
   {
    "duration": 56,
    "start_time": "2022-08-16T06:33:59.019Z"
   },
   {
    "duration": 32,
    "start_time": "2022-08-16T06:36:19.914Z"
   },
   {
    "duration": 29,
    "start_time": "2022-08-16T06:36:24.502Z"
   },
   {
    "duration": 45,
    "start_time": "2022-08-16T06:38:43.426Z"
   },
   {
    "duration": 37,
    "start_time": "2022-08-16T06:40:53.708Z"
   },
   {
    "duration": 54,
    "start_time": "2022-08-16T06:50:48.662Z"
   },
   {
    "duration": 67,
    "start_time": "2022-08-16T06:53:15.454Z"
   },
   {
    "duration": 55,
    "start_time": "2022-08-16T06:58:05.930Z"
   },
   {
    "duration": 1240,
    "start_time": "2022-08-16T06:58:53.383Z"
   },
   {
    "duration": 115,
    "start_time": "2022-08-16T06:58:54.625Z"
   },
   {
    "duration": 4,
    "start_time": "2022-08-16T06:58:54.741Z"
   },
   {
    "duration": 68,
    "start_time": "2022-08-16T06:58:54.748Z"
   },
   {
    "duration": 21,
    "start_time": "2022-08-16T06:58:54.818Z"
   },
   {
    "duration": 462,
    "start_time": "2022-08-16T06:58:54.841Z"
   },
   {
    "duration": 15,
    "start_time": "2022-08-16T06:58:55.305Z"
   },
   {
    "duration": 378,
    "start_time": "2022-08-16T06:58:55.322Z"
   },
   {
    "duration": 152,
    "start_time": "2022-08-16T06:58:55.703Z"
   },
   {
    "duration": 49,
    "start_time": "2022-08-16T06:59:18.728Z"
   },
   {
    "duration": 53,
    "start_time": "2022-08-16T06:59:51.085Z"
   },
   {
    "duration": 52,
    "start_time": "2022-08-16T07:48:22.480Z"
   },
   {
    "duration": 54,
    "start_time": "2022-08-16T07:48:37.880Z"
   },
   {
    "duration": 1228,
    "start_time": "2022-08-16T07:48:46.279Z"
   },
   {
    "duration": 133,
    "start_time": "2022-08-16T07:48:47.509Z"
   },
   {
    "duration": 4,
    "start_time": "2022-08-16T07:48:47.644Z"
   },
   {
    "duration": 73,
    "start_time": "2022-08-16T07:48:47.650Z"
   },
   {
    "duration": 17,
    "start_time": "2022-08-16T07:48:47.725Z"
   },
   {
    "duration": 428,
    "start_time": "2022-08-16T07:48:47.744Z"
   },
   {
    "duration": 31,
    "start_time": "2022-08-16T07:48:48.174Z"
   },
   {
    "duration": 373,
    "start_time": "2022-08-16T07:48:48.207Z"
   },
   {
    "duration": 68,
    "start_time": "2022-08-16T07:48:48.581Z"
   },
   {
    "duration": 1657,
    "start_time": "2022-08-16T07:51:58.952Z"
   },
   {
    "duration": 285,
    "start_time": "2022-08-16T07:52:36.226Z"
   },
   {
    "duration": 1198,
    "start_time": "2022-08-16T07:52:49.404Z"
   },
   {
    "duration": 114,
    "start_time": "2022-08-16T07:52:50.605Z"
   },
   {
    "duration": 4,
    "start_time": "2022-08-16T07:52:50.721Z"
   },
   {
    "duration": 97,
    "start_time": "2022-08-16T07:52:50.727Z"
   },
   {
    "duration": 19,
    "start_time": "2022-08-16T07:52:50.826Z"
   },
   {
    "duration": 451,
    "start_time": "2022-08-16T07:52:50.847Z"
   },
   {
    "duration": 17,
    "start_time": "2022-08-16T07:52:51.299Z"
   },
   {
    "duration": 373,
    "start_time": "2022-08-16T07:52:51.318Z"
   },
   {
    "duration": 353,
    "start_time": "2022-08-16T07:52:51.695Z"
   },
   {
    "duration": 1596,
    "start_time": "2022-08-16T07:53:15.949Z"
   },
   {
    "duration": 1221,
    "start_time": "2022-08-16T07:53:24.630Z"
   },
   {
    "duration": 129,
    "start_time": "2022-08-16T07:53:25.855Z"
   },
   {
    "duration": 4,
    "start_time": "2022-08-16T07:53:25.986Z"
   },
   {
    "duration": 67,
    "start_time": "2022-08-16T07:53:25.995Z"
   },
   {
    "duration": 34,
    "start_time": "2022-08-16T07:53:26.064Z"
   },
   {
    "duration": 455,
    "start_time": "2022-08-16T07:53:26.107Z"
   },
   {
    "duration": 14,
    "start_time": "2022-08-16T07:53:26.564Z"
   },
   {
    "duration": 337,
    "start_time": "2022-08-16T07:53:26.599Z"
   },
   {
    "duration": 243,
    "start_time": "2022-08-16T07:53:26.938Z"
   },
   {
    "duration": 1581,
    "start_time": "2022-08-16T07:53:56.590Z"
   },
   {
    "duration": 239,
    "start_time": "2022-08-16T07:54:32.519Z"
   },
   {
    "duration": 1233,
    "start_time": "2022-08-16T07:54:44.791Z"
   },
   {
    "duration": 123,
    "start_time": "2022-08-16T07:54:46.026Z"
   },
   {
    "duration": 4,
    "start_time": "2022-08-16T07:54:46.150Z"
   },
   {
    "duration": 67,
    "start_time": "2022-08-16T07:54:46.157Z"
   },
   {
    "duration": 17,
    "start_time": "2022-08-16T07:54:46.226Z"
   },
   {
    "duration": 431,
    "start_time": "2022-08-16T07:54:46.245Z"
   },
   {
    "duration": 25,
    "start_time": "2022-08-16T07:54:46.678Z"
   },
   {
    "duration": 326,
    "start_time": "2022-08-16T07:54:46.704Z"
   },
   {
    "duration": 272,
    "start_time": "2022-08-16T07:54:47.032Z"
   },
   {
    "duration": 2026,
    "start_time": "2022-08-16T07:55:23.883Z"
   },
   {
    "duration": 1199,
    "start_time": "2022-08-16T07:55:33.404Z"
   },
   {
    "duration": 118,
    "start_time": "2022-08-16T07:55:34.605Z"
   },
   {
    "duration": 4,
    "start_time": "2022-08-16T07:55:34.724Z"
   },
   {
    "duration": 78,
    "start_time": "2022-08-16T07:55:34.731Z"
   },
   {
    "duration": 19,
    "start_time": "2022-08-16T07:55:34.810Z"
   },
   {
    "duration": 428,
    "start_time": "2022-08-16T07:55:34.831Z"
   },
   {
    "duration": 14,
    "start_time": "2022-08-16T07:55:35.261Z"
   },
   {
    "duration": 343,
    "start_time": "2022-08-16T07:55:35.277Z"
   },
   {
    "duration": 253,
    "start_time": "2022-08-16T07:55:35.621Z"
   },
   {
    "duration": 1622,
    "start_time": "2022-08-16T07:56:10.205Z"
   },
   {
    "duration": 1137,
    "start_time": "2022-08-16T07:56:17.134Z"
   },
   {
    "duration": 138,
    "start_time": "2022-08-16T07:56:18.273Z"
   },
   {
    "duration": 4,
    "start_time": "2022-08-16T07:56:18.413Z"
   },
   {
    "duration": 55,
    "start_time": "2022-08-16T07:56:18.420Z"
   },
   {
    "duration": 34,
    "start_time": "2022-08-16T07:56:18.476Z"
   },
   {
    "duration": 429,
    "start_time": "2022-08-16T07:56:18.512Z"
   },
   {
    "duration": 13,
    "start_time": "2022-08-16T07:56:18.942Z"
   },
   {
    "duration": 352,
    "start_time": "2022-08-16T07:56:18.957Z"
   },
   {
    "duration": 328,
    "start_time": "2022-08-16T07:56:19.311Z"
   },
   {
    "duration": 1767,
    "start_time": "2022-08-16T07:56:43.911Z"
   },
   {
    "duration": 1233,
    "start_time": "2022-08-16T07:56:51.582Z"
   },
   {
    "duration": 125,
    "start_time": "2022-08-16T07:56:52.817Z"
   },
   {
    "duration": 5,
    "start_time": "2022-08-16T07:56:52.943Z"
   },
   {
    "duration": 72,
    "start_time": "2022-08-16T07:56:52.949Z"
   },
   {
    "duration": 19,
    "start_time": "2022-08-16T07:56:53.023Z"
   },
   {
    "duration": 437,
    "start_time": "2022-08-16T07:56:53.044Z"
   },
   {
    "duration": 29,
    "start_time": "2022-08-16T07:56:53.483Z"
   },
   {
    "duration": 403,
    "start_time": "2022-08-16T07:56:53.514Z"
   },
   {
    "duration": 268,
    "start_time": "2022-08-16T07:56:53.919Z"
   },
   {
    "duration": 1215,
    "start_time": "2022-08-16T07:58:14.705Z"
   },
   {
    "duration": 131,
    "start_time": "2022-08-16T07:58:15.922Z"
   },
   {
    "duration": 5,
    "start_time": "2022-08-16T07:58:16.055Z"
   },
   {
    "duration": 87,
    "start_time": "2022-08-16T07:58:16.061Z"
   },
   {
    "duration": 18,
    "start_time": "2022-08-16T07:58:16.150Z"
   },
   {
    "duration": 398,
    "start_time": "2022-08-16T07:58:16.170Z"
   },
   {
    "duration": 24,
    "start_time": "2022-08-16T07:58:16.570Z"
   },
   {
    "duration": 355,
    "start_time": "2022-08-16T07:58:16.600Z"
   },
   {
    "duration": 264,
    "start_time": "2022-08-16T07:58:16.957Z"
   },
   {
    "duration": 1471,
    "start_time": "2022-08-16T07:59:05.980Z"
   },
   {
    "duration": 1169,
    "start_time": "2022-08-16T07:59:25.430Z"
   },
   {
    "duration": 114,
    "start_time": "2022-08-16T07:59:26.601Z"
   },
   {
    "duration": 4,
    "start_time": "2022-08-16T07:59:26.717Z"
   },
   {
    "duration": 70,
    "start_time": "2022-08-16T07:59:26.724Z"
   },
   {
    "duration": 19,
    "start_time": "2022-08-16T07:59:26.796Z"
   },
   {
    "duration": 450,
    "start_time": "2022-08-16T07:59:26.817Z"
   },
   {
    "duration": 15,
    "start_time": "2022-08-16T07:59:27.268Z"
   },
   {
    "duration": 325,
    "start_time": "2022-08-16T07:59:27.291Z"
   },
   {
    "duration": 248,
    "start_time": "2022-08-16T07:59:27.618Z"
   },
   {
    "duration": 1168,
    "start_time": "2022-08-16T08:00:03.828Z"
   },
   {
    "duration": 131,
    "start_time": "2022-08-16T08:00:04.998Z"
   },
   {
    "duration": 4,
    "start_time": "2022-08-16T08:00:05.131Z"
   },
   {
    "duration": 101,
    "start_time": "2022-08-16T08:00:05.137Z"
   },
   {
    "duration": 19,
    "start_time": "2022-08-16T08:00:05.240Z"
   },
   {
    "duration": 385,
    "start_time": "2022-08-16T08:00:05.260Z"
   },
   {
    "duration": 15,
    "start_time": "2022-08-16T08:00:05.647Z"
   },
   {
    "duration": 362,
    "start_time": "2022-08-16T08:00:05.663Z"
   },
   {
    "duration": 269,
    "start_time": "2022-08-16T08:00:06.027Z"
   },
   {
    "duration": 1791,
    "start_time": "2022-08-16T08:00:58.080Z"
   },
   {
    "duration": 1245,
    "start_time": "2022-08-16T08:01:08.467Z"
   },
   {
    "duration": 125,
    "start_time": "2022-08-16T08:01:09.714Z"
   },
   {
    "duration": 5,
    "start_time": "2022-08-16T08:01:09.840Z"
   },
   {
    "duration": 75,
    "start_time": "2022-08-16T08:01:09.847Z"
   },
   {
    "duration": 18,
    "start_time": "2022-08-16T08:01:09.923Z"
   },
   {
    "duration": 441,
    "start_time": "2022-08-16T08:01:09.943Z"
   },
   {
    "duration": 18,
    "start_time": "2022-08-16T08:01:10.386Z"
   },
   {
    "duration": 388,
    "start_time": "2022-08-16T08:01:10.406Z"
   },
   {
    "duration": 290,
    "start_time": "2022-08-16T08:01:10.796Z"
   },
   {
    "duration": 1146,
    "start_time": "2022-08-16T08:02:04.247Z"
   },
   {
    "duration": 112,
    "start_time": "2022-08-16T08:02:05.395Z"
   },
   {
    "duration": 4,
    "start_time": "2022-08-16T08:02:05.509Z"
   },
   {
    "duration": 66,
    "start_time": "2022-08-16T08:02:05.516Z"
   },
   {
    "duration": 23,
    "start_time": "2022-08-16T08:02:05.583Z"
   },
   {
    "duration": 434,
    "start_time": "2022-08-16T08:02:05.607Z"
   },
   {
    "duration": 14,
    "start_time": "2022-08-16T08:02:06.042Z"
   },
   {
    "duration": 336,
    "start_time": "2022-08-16T08:02:06.058Z"
   },
   {
    "duration": 246,
    "start_time": "2022-08-16T08:02:06.395Z"
   },
   {
    "duration": 1235,
    "start_time": "2022-08-16T08:07:52.561Z"
   },
   {
    "duration": 124,
    "start_time": "2022-08-16T08:07:53.798Z"
   },
   {
    "duration": 4,
    "start_time": "2022-08-16T08:07:53.924Z"
   },
   {
    "duration": 83,
    "start_time": "2022-08-16T08:07:53.930Z"
   },
   {
    "duration": 18,
    "start_time": "2022-08-16T08:07:54.015Z"
   },
   {
    "duration": 426,
    "start_time": "2022-08-16T08:07:54.035Z"
   },
   {
    "duration": 15,
    "start_time": "2022-08-16T08:07:54.463Z"
   },
   {
    "duration": 313,
    "start_time": "2022-08-16T08:07:54.492Z"
   },
   {
    "duration": 318,
    "start_time": "2022-08-16T08:07:54.807Z"
   },
   {
    "duration": 1170,
    "start_time": "2022-08-16T08:08:38.836Z"
   },
   {
    "duration": 147,
    "start_time": "2022-08-16T08:08:40.008Z"
   },
   {
    "duration": 4,
    "start_time": "2022-08-16T08:08:40.157Z"
   },
   {
    "duration": 61,
    "start_time": "2022-08-16T08:08:40.163Z"
   },
   {
    "duration": 18,
    "start_time": "2022-08-16T08:08:40.227Z"
   },
   {
    "duration": 434,
    "start_time": "2022-08-16T08:08:40.247Z"
   },
   {
    "duration": 19,
    "start_time": "2022-08-16T08:08:40.683Z"
   },
   {
    "duration": 345,
    "start_time": "2022-08-16T08:08:40.703Z"
   },
   {
    "duration": 242,
    "start_time": "2022-08-16T08:08:41.050Z"
   },
   {
    "duration": 1160,
    "start_time": "2022-08-16T08:10:12.608Z"
   },
   {
    "duration": 117,
    "start_time": "2022-08-16T08:10:13.770Z"
   },
   {
    "duration": 5,
    "start_time": "2022-08-16T08:10:13.889Z"
   },
   {
    "duration": 89,
    "start_time": "2022-08-16T08:10:13.896Z"
   },
   {
    "duration": 18,
    "start_time": "2022-08-16T08:10:13.987Z"
   },
   {
    "duration": 438,
    "start_time": "2022-08-16T08:10:14.007Z"
   },
   {
    "duration": 14,
    "start_time": "2022-08-16T08:10:14.447Z"
   },
   {
    "duration": 341,
    "start_time": "2022-08-16T08:10:14.463Z"
   },
   {
    "duration": 239,
    "start_time": "2022-08-16T08:10:14.806Z"
   },
   {
    "duration": 1356,
    "start_time": "2022-08-16T08:22:39.867Z"
   },
   {
    "duration": 152,
    "start_time": "2022-08-16T08:22:41.225Z"
   },
   {
    "duration": 5,
    "start_time": "2022-08-16T08:22:41.379Z"
   },
   {
    "duration": 72,
    "start_time": "2022-08-16T08:22:41.386Z"
   },
   {
    "duration": 33,
    "start_time": "2022-08-16T08:22:41.460Z"
   },
   {
    "duration": 486,
    "start_time": "2022-08-16T08:22:41.495Z"
   },
   {
    "duration": 24,
    "start_time": "2022-08-16T08:22:41.984Z"
   },
   {
    "duration": 411,
    "start_time": "2022-08-16T08:22:42.011Z"
   },
   {
    "duration": 337,
    "start_time": "2022-08-16T08:22:42.423Z"
   },
   {
    "duration": 134,
    "start_time": "2022-08-16T08:22:42.763Z"
   },
   {
    "duration": 367,
    "start_time": "2022-08-16T08:50:10.847Z"
   },
   {
    "duration": 253,
    "start_time": "2022-08-16T08:57:45.199Z"
   },
   {
    "duration": 265,
    "start_time": "2022-08-16T08:58:05.910Z"
   },
   {
    "duration": 277,
    "start_time": "2022-08-16T09:00:17.487Z"
   },
   {
    "duration": 833,
    "start_time": "2022-08-16T09:02:17.956Z"
   },
   {
    "duration": 723,
    "start_time": "2022-08-16T09:03:45.138Z"
   },
   {
    "duration": 775,
    "start_time": "2022-08-16T09:04:11.364Z"
   },
   {
    "duration": 710,
    "start_time": "2022-08-16T09:04:28.500Z"
   },
   {
    "duration": 864,
    "start_time": "2022-08-16T09:04:47.787Z"
   },
   {
    "duration": 697,
    "start_time": "2022-08-16T09:05:04.778Z"
   },
   {
    "duration": 915,
    "start_time": "2022-08-16T09:05:11.904Z"
   },
   {
    "duration": 695,
    "start_time": "2022-08-16T09:05:25.264Z"
   },
   {
    "duration": 706,
    "start_time": "2022-08-16T09:05:46.760Z"
   },
   {
    "duration": 830,
    "start_time": "2022-08-16T09:05:58.401Z"
   },
   {
    "duration": 715,
    "start_time": "2022-08-16T09:06:50.192Z"
   },
   {
    "duration": 16,
    "start_time": "2022-08-16T09:07:05.352Z"
   },
   {
    "duration": 746,
    "start_time": "2022-08-16T09:09:19.368Z"
   },
   {
    "duration": 743,
    "start_time": "2022-08-16T09:10:33.884Z"
   },
   {
    "duration": 774,
    "start_time": "2022-08-16T09:10:41.282Z"
   },
   {
    "duration": 920,
    "start_time": "2022-08-16T09:10:52.105Z"
   },
   {
    "duration": 740,
    "start_time": "2022-08-16T09:11:50.736Z"
   },
   {
    "duration": 859,
    "start_time": "2022-08-16T09:12:31.751Z"
   },
   {
    "duration": 124,
    "start_time": "2022-08-16T09:13:49.961Z"
   },
   {
    "duration": 730,
    "start_time": "2022-08-16T09:14:03.619Z"
   },
   {
    "duration": 814,
    "start_time": "2022-08-16T09:15:31.472Z"
   },
   {
    "duration": 840,
    "start_time": "2022-08-16T09:16:49.442Z"
   },
   {
    "duration": 762,
    "start_time": "2022-08-16T09:16:55.544Z"
   },
   {
    "duration": 844,
    "start_time": "2022-08-16T09:23:41.298Z"
   },
   {
    "duration": 163,
    "start_time": "2022-08-16T09:29:19.590Z"
   },
   {
    "duration": 717,
    "start_time": "2022-08-16T09:30:20.004Z"
   },
   {
    "duration": 10,
    "start_time": "2022-08-16T09:39:16.579Z"
   },
   {
    "duration": 1173,
    "start_time": "2022-08-16T09:39:28.224Z"
   },
   {
    "duration": 113,
    "start_time": "2022-08-16T09:39:29.400Z"
   },
   {
    "duration": 5,
    "start_time": "2022-08-16T09:39:29.514Z"
   },
   {
    "duration": 60,
    "start_time": "2022-08-16T09:39:29.521Z"
   },
   {
    "duration": 17,
    "start_time": "2022-08-16T09:39:29.591Z"
   },
   {
    "duration": 458,
    "start_time": "2022-08-16T09:39:29.610Z"
   },
   {
    "duration": 24,
    "start_time": "2022-08-16T09:39:30.070Z"
   },
   {
    "duration": 327,
    "start_time": "2022-08-16T09:39:30.096Z"
   },
   {
    "duration": 251,
    "start_time": "2022-08-16T09:39:30.425Z"
   },
   {
    "duration": 729,
    "start_time": "2022-08-16T09:39:30.678Z"
   },
   {
    "duration": 11,
    "start_time": "2022-08-16T09:39:31.409Z"
   },
   {
    "duration": 12,
    "start_time": "2022-08-16T09:40:40.913Z"
   },
   {
    "duration": 10,
    "start_time": "2022-08-16T09:40:58.535Z"
   },
   {
    "duration": 826,
    "start_time": "2022-08-16T09:51:04.571Z"
   },
   {
    "duration": 14,
    "start_time": "2022-08-16T09:51:36.729Z"
   },
   {
    "duration": 18,
    "start_time": "2022-08-16T09:53:22.105Z"
   },
   {
    "duration": 13,
    "start_time": "2022-08-16T09:53:59.315Z"
   },
   {
    "duration": 14,
    "start_time": "2022-08-16T09:54:26.496Z"
   },
   {
    "duration": 14,
    "start_time": "2022-08-16T09:54:33.573Z"
   },
   {
    "duration": 16,
    "start_time": "2022-08-16T09:54:38.045Z"
   },
   {
    "duration": 13,
    "start_time": "2022-08-16T09:58:58.668Z"
   },
   {
    "duration": 106,
    "start_time": "2022-08-16T10:01:16.669Z"
   },
   {
    "duration": 7,
    "start_time": "2022-08-16T10:02:34.185Z"
   },
   {
    "duration": 15,
    "start_time": "2022-08-16T10:02:39.929Z"
   },
   {
    "duration": 14,
    "start_time": "2022-08-16T10:02:52.945Z"
   },
   {
    "duration": 24,
    "start_time": "2022-08-16T10:09:41.987Z"
   },
   {
    "duration": 39,
    "start_time": "2022-08-16T10:11:21.780Z"
   },
   {
    "duration": 20,
    "start_time": "2022-08-16T10:11:49.889Z"
   },
   {
    "duration": 29,
    "start_time": "2022-08-16T10:12:37.245Z"
   },
   {
    "duration": 23,
    "start_time": "2022-08-16T10:13:47.639Z"
   },
   {
    "duration": 1503,
    "start_time": "2022-08-16T10:25:40.727Z"
   },
   {
    "duration": 22,
    "start_time": "2022-08-16T10:25:49.769Z"
   },
   {
    "duration": 1312,
    "start_time": "2022-08-16T10:25:59.987Z"
   },
   {
    "duration": 129,
    "start_time": "2022-08-16T10:26:01.302Z"
   },
   {
    "duration": 7,
    "start_time": "2022-08-16T10:26:01.433Z"
   },
   {
    "duration": 115,
    "start_time": "2022-08-16T10:26:01.442Z"
   },
   {
    "duration": 39,
    "start_time": "2022-08-16T10:26:01.559Z"
   },
   {
    "duration": 548,
    "start_time": "2022-08-16T10:26:01.600Z"
   },
   {
    "duration": 20,
    "start_time": "2022-08-16T10:26:02.150Z"
   },
   {
    "duration": 414,
    "start_time": "2022-08-16T10:26:02.172Z"
   },
   {
    "duration": 294,
    "start_time": "2022-08-16T10:26:02.588Z"
   },
   {
    "duration": 771,
    "start_time": "2022-08-16T10:26:02.884Z"
   },
   {
    "duration": 35,
    "start_time": "2022-08-16T10:26:03.657Z"
   },
   {
    "duration": 1564,
    "start_time": "2022-08-16T10:26:03.694Z"
   },
   {
    "duration": 201,
    "start_time": "2022-08-16T10:26:57.100Z"
   },
   {
    "duration": 160,
    "start_time": "2022-08-16T10:27:16.004Z"
   },
   {
    "duration": 166,
    "start_time": "2022-08-16T10:27:31.539Z"
   },
   {
    "duration": 151,
    "start_time": "2022-08-16T10:28:02.242Z"
   },
   {
    "duration": 138,
    "start_time": "2022-08-16T10:28:44.074Z"
   },
   {
    "duration": 181,
    "start_time": "2022-08-16T10:29:04.286Z"
   },
   {
    "duration": 170,
    "start_time": "2022-08-16T10:29:24.045Z"
   },
   {
    "duration": 212,
    "start_time": "2022-08-16T10:29:41.977Z"
   },
   {
    "duration": 183,
    "start_time": "2022-08-16T10:30:04.855Z"
   },
   {
    "duration": 161,
    "start_time": "2022-08-16T10:30:18.808Z"
   },
   {
    "duration": 119,
    "start_time": "2022-08-16T10:30:55.338Z"
   },
   {
    "duration": 131,
    "start_time": "2022-08-16T10:31:12.396Z"
   },
   {
    "duration": 138,
    "start_time": "2022-08-16T10:34:21.687Z"
   },
   {
    "duration": 184,
    "start_time": "2022-08-16T10:34:30.915Z"
   },
   {
    "duration": 188,
    "start_time": "2022-08-16T10:35:01.123Z"
   },
   {
    "duration": 1293,
    "start_time": "2022-08-16T10:35:49.138Z"
   },
   {
    "duration": 160,
    "start_time": "2022-08-16T10:35:50.433Z"
   },
   {
    "duration": 4,
    "start_time": "2022-08-16T10:35:50.595Z"
   },
   {
    "duration": 70,
    "start_time": "2022-08-16T10:35:50.602Z"
   },
   {
    "duration": 34,
    "start_time": "2022-08-16T10:35:50.674Z"
   },
   {
    "duration": 477,
    "start_time": "2022-08-16T10:35:50.710Z"
   },
   {
    "duration": 15,
    "start_time": "2022-08-16T10:35:51.189Z"
   },
   {
    "duration": 398,
    "start_time": "2022-08-16T10:35:51.206Z"
   },
   {
    "duration": 329,
    "start_time": "2022-08-16T10:35:51.606Z"
   },
   {
    "duration": 823,
    "start_time": "2022-08-16T10:35:51.938Z"
   },
   {
    "duration": 32,
    "start_time": "2022-08-16T10:35:52.763Z"
   },
   {
    "duration": 203,
    "start_time": "2022-08-16T10:35:52.796Z"
   },
   {
    "duration": 253,
    "start_time": "2022-08-16T10:39:52.509Z"
   },
   {
    "duration": 167,
    "start_time": "2022-08-16T10:40:12.407Z"
   },
   {
    "duration": 1514,
    "start_time": "2022-08-16T10:40:23.119Z"
   },
   {
    "duration": 155,
    "start_time": "2022-08-16T10:40:24.636Z"
   },
   {
    "duration": 6,
    "start_time": "2022-08-16T10:40:24.793Z"
   },
   {
    "duration": 70,
    "start_time": "2022-08-16T10:40:24.800Z"
   },
   {
    "duration": 21,
    "start_time": "2022-08-16T10:40:24.892Z"
   },
   {
    "duration": 470,
    "start_time": "2022-08-16T10:40:24.915Z"
   },
   {
    "duration": 19,
    "start_time": "2022-08-16T10:40:25.391Z"
   },
   {
    "duration": 423,
    "start_time": "2022-08-16T10:40:25.412Z"
   },
   {
    "duration": 274,
    "start_time": "2022-08-16T10:40:25.837Z"
   },
   {
    "duration": 761,
    "start_time": "2022-08-16T10:40:26.113Z"
   },
   {
    "duration": 33,
    "start_time": "2022-08-16T10:40:26.876Z"
   },
   {
    "duration": 245,
    "start_time": "2022-08-16T10:40:26.911Z"
   },
   {
    "duration": 277,
    "start_time": "2022-08-16T10:40:39.974Z"
   },
   {
    "duration": 26,
    "start_time": "2022-08-16T10:41:49.529Z"
   },
   {
    "duration": 177,
    "start_time": "2022-08-16T10:41:57.526Z"
   },
   {
    "duration": 169,
    "start_time": "2022-08-16T10:42:05.554Z"
   },
   {
    "duration": 24,
    "start_time": "2022-08-16T10:42:34.095Z"
   },
   {
    "duration": 187,
    "start_time": "2022-08-16T10:42:38.921Z"
   },
   {
    "duration": 167,
    "start_time": "2022-08-16T10:44:20.735Z"
   },
   {
    "duration": 171,
    "start_time": "2022-08-16T10:44:41.302Z"
   },
   {
    "duration": 184,
    "start_time": "2022-08-16T10:44:58.447Z"
   },
   {
    "duration": 563,
    "start_time": "2022-08-16T10:59:56.121Z"
   },
   {
    "duration": 190,
    "start_time": "2022-08-16T11:02:08.154Z"
   },
   {
    "duration": 209,
    "start_time": "2022-08-16T11:03:13.862Z"
   },
   {
    "duration": 220,
    "start_time": "2022-08-16T11:04:05.044Z"
   },
   {
    "duration": 135,
    "start_time": "2022-08-16T11:04:59.553Z"
   },
   {
    "duration": 78,
    "start_time": "2022-08-16T11:06:08.672Z"
   },
   {
    "duration": 190,
    "start_time": "2022-08-16T11:06:32.493Z"
   },
   {
    "duration": 223,
    "start_time": "2022-08-16T11:07:51.237Z"
   },
   {
    "duration": 192,
    "start_time": "2022-08-16T11:08:47.544Z"
   },
   {
    "duration": 203,
    "start_time": "2022-08-16T11:09:09.540Z"
   },
   {
    "duration": 206,
    "start_time": "2022-08-16T11:09:27.973Z"
   },
   {
    "duration": 194,
    "start_time": "2022-08-16T11:09:42.984Z"
   },
   {
    "duration": 209,
    "start_time": "2022-08-16T11:10:39.435Z"
   },
   {
    "duration": 185,
    "start_time": "2022-08-16T11:10:54.825Z"
   },
   {
    "duration": 217,
    "start_time": "2022-08-16T11:11:11.702Z"
   },
   {
    "duration": 204,
    "start_time": "2022-08-16T11:11:42.852Z"
   },
   {
    "duration": 218,
    "start_time": "2022-08-16T11:13:08.301Z"
   },
   {
    "duration": 59,
    "start_time": "2022-08-16T11:24:51.548Z"
   },
   {
    "duration": 13,
    "start_time": "2022-08-16T11:26:12.875Z"
   },
   {
    "duration": 142,
    "start_time": "2022-08-16T11:32:38.634Z"
   },
   {
    "duration": 69,
    "start_time": "2022-08-16T11:33:10.204Z"
   },
   {
    "duration": 63,
    "start_time": "2022-08-16T11:33:47.831Z"
   },
   {
    "duration": 65,
    "start_time": "2022-08-16T11:38:42.581Z"
   },
   {
    "duration": 12,
    "start_time": "2022-08-16T11:38:57.350Z"
   },
   {
    "duration": 64,
    "start_time": "2022-08-16T11:43:58.434Z"
   },
   {
    "duration": 46,
    "start_time": "2022-08-16T11:44:37.370Z"
   },
   {
    "duration": 121,
    "start_time": "2022-08-16T11:44:44.184Z"
   },
   {
    "duration": 57,
    "start_time": "2022-08-16T11:49:44.108Z"
   },
   {
    "duration": 54,
    "start_time": "2022-08-16T11:51:20.521Z"
   },
   {
    "duration": 59,
    "start_time": "2022-08-16T11:52:53.831Z"
   },
   {
    "duration": 69,
    "start_time": "2022-08-16T11:55:43.210Z"
   },
   {
    "duration": 122,
    "start_time": "2022-08-16T11:56:01.423Z"
   },
   {
    "duration": 274,
    "start_time": "2022-08-16T11:56:07.660Z"
   },
   {
    "duration": 86,
    "start_time": "2022-08-16T11:57:14.989Z"
   },
   {
    "duration": 93,
    "start_time": "2022-08-16T11:57:35.360Z"
   },
   {
    "duration": 64,
    "start_time": "2022-08-16T11:57:57.228Z"
   },
   {
    "duration": 115,
    "start_time": "2022-08-16T11:58:41.791Z"
   },
   {
    "duration": 43,
    "start_time": "2022-08-17T05:33:04.536Z"
   },
   {
    "duration": 1241,
    "start_time": "2022-08-17T05:33:11.841Z"
   },
   {
    "duration": 161,
    "start_time": "2022-08-17T05:33:13.084Z"
   },
   {
    "duration": 3,
    "start_time": "2022-08-17T05:33:13.247Z"
   },
   {
    "duration": 56,
    "start_time": "2022-08-17T05:33:13.252Z"
   },
   {
    "duration": 15,
    "start_time": "2022-08-17T05:33:13.310Z"
   },
   {
    "duration": 444,
    "start_time": "2022-08-17T05:33:13.326Z"
   },
   {
    "duration": 13,
    "start_time": "2022-08-17T05:33:13.771Z"
   },
   {
    "duration": 330,
    "start_time": "2022-08-17T05:33:13.785Z"
   },
   {
    "duration": 233,
    "start_time": "2022-08-17T05:33:14.116Z"
   },
   {
    "duration": 635,
    "start_time": "2022-08-17T05:33:14.352Z"
   },
   {
    "duration": 185,
    "start_time": "2022-08-17T05:33:14.989Z"
   },
   {
    "duration": 113,
    "start_time": "2022-08-17T05:33:15.176Z"
   },
   {
    "duration": 175,
    "start_time": "2022-08-17T05:33:15.290Z"
   },
   {
    "duration": 93,
    "start_time": "2022-08-17T05:34:59.332Z"
   },
   {
    "duration": 126,
    "start_time": "2022-08-17T05:35:04.872Z"
   },
   {
    "duration": 55,
    "start_time": "2022-08-17T05:42:34.112Z"
   },
   {
    "duration": 57,
    "start_time": "2022-08-17T05:44:18.616Z"
   },
   {
    "duration": 57,
    "start_time": "2022-08-17T05:44:23.196Z"
   },
   {
    "duration": 130,
    "start_time": "2022-08-17T05:44:49.335Z"
   },
   {
    "duration": 52,
    "start_time": "2022-08-17T05:45:25.185Z"
   },
   {
    "duration": 49,
    "start_time": "2022-08-17T05:47:02.377Z"
   },
   {
    "duration": 53,
    "start_time": "2022-08-17T05:47:38.979Z"
   },
   {
    "duration": 49,
    "start_time": "2022-08-17T05:49:48.768Z"
   },
   {
    "duration": 51,
    "start_time": "2022-08-17T05:50:08.662Z"
   },
   {
    "duration": 109,
    "start_time": "2022-08-17T05:50:24.579Z"
   },
   {
    "duration": 48,
    "start_time": "2022-08-17T05:53:03.724Z"
   },
   {
    "duration": 1085,
    "start_time": "2022-08-17T05:53:12.366Z"
   },
   {
    "duration": 150,
    "start_time": "2022-08-17T05:53:13.453Z"
   },
   {
    "duration": 4,
    "start_time": "2022-08-17T05:53:13.604Z"
   },
   {
    "duration": 62,
    "start_time": "2022-08-17T05:53:13.610Z"
   },
   {
    "duration": 15,
    "start_time": "2022-08-17T05:53:13.673Z"
   },
   {
    "duration": 359,
    "start_time": "2022-08-17T05:53:13.689Z"
   },
   {
    "duration": 18,
    "start_time": "2022-08-17T05:53:14.050Z"
   },
   {
    "duration": 329,
    "start_time": "2022-08-17T05:53:14.070Z"
   },
   {
    "duration": 232,
    "start_time": "2022-08-17T05:53:14.405Z"
   },
   {
    "duration": 628,
    "start_time": "2022-08-17T05:53:14.639Z"
   },
   {
    "duration": 183,
    "start_time": "2022-08-17T05:53:15.268Z"
   },
   {
    "duration": 123,
    "start_time": "2022-08-17T05:53:15.452Z"
   },
   {
    "duration": 183,
    "start_time": "2022-08-17T05:53:15.576Z"
   },
   {
    "duration": 112,
    "start_time": "2022-08-17T05:53:46.681Z"
   },
   {
    "duration": 47,
    "start_time": "2022-08-17T05:53:52.792Z"
   },
   {
    "duration": 45,
    "start_time": "2022-08-17T05:53:58.753Z"
   },
   {
    "duration": 108,
    "start_time": "2022-08-17T05:55:45.865Z"
   },
   {
    "duration": 128,
    "start_time": "2022-08-17T05:55:55.513Z"
   },
   {
    "duration": 45,
    "start_time": "2022-08-17T05:57:19.318Z"
   },
   {
    "duration": 117,
    "start_time": "2022-08-17T05:57:33.390Z"
   },
   {
    "duration": 45,
    "start_time": "2022-08-17T05:58:17.872Z"
   },
   {
    "duration": 54,
    "start_time": "2022-08-17T06:00:20.057Z"
   },
   {
    "duration": 67,
    "start_time": "2022-08-17T06:01:18.687Z"
   },
   {
    "duration": 53,
    "start_time": "2022-08-17T06:03:03.008Z"
   },
   {
    "duration": 47,
    "start_time": "2022-08-17T06:03:38.926Z"
   },
   {
    "duration": 129,
    "start_time": "2022-08-17T06:04:16.526Z"
   },
   {
    "duration": 67,
    "start_time": "2022-08-17T06:04:56.382Z"
   },
   {
    "duration": 46,
    "start_time": "2022-08-17T06:05:03.037Z"
   },
   {
    "duration": 78,
    "start_time": "2022-08-17T06:05:23.335Z"
   },
   {
    "duration": 59,
    "start_time": "2022-08-17T06:05:44.688Z"
   },
   {
    "duration": 469,
    "start_time": "2022-08-17T06:12:25.765Z"
   },
   {
    "duration": 3060,
    "start_time": "2022-08-17T06:13:34.410Z"
   },
   {
    "duration": 6,
    "start_time": "2022-08-17T06:14:57.017Z"
   },
   {
    "duration": 1981,
    "start_time": "2022-08-17T06:15:58.776Z"
   },
   {
    "duration": 2047,
    "start_time": "2022-08-17T06:19:23.372Z"
   },
   {
    "duration": 2103,
    "start_time": "2022-08-17T06:21:44.594Z"
   },
   {
    "duration": 1987,
    "start_time": "2022-08-17T06:23:01.755Z"
   },
   {
    "duration": 1939,
    "start_time": "2022-08-17T06:24:09.399Z"
   },
   {
    "duration": 1949,
    "start_time": "2022-08-17T06:24:43.069Z"
   },
   {
    "duration": 2170,
    "start_time": "2022-08-17T06:25:15.360Z"
   },
   {
    "duration": 1964,
    "start_time": "2022-08-17T06:29:10.690Z"
   },
   {
    "duration": 2296,
    "start_time": "2022-08-17T06:30:44.334Z"
   },
   {
    "duration": 1958,
    "start_time": "2022-08-17T06:31:36.573Z"
   },
   {
    "duration": 2648,
    "start_time": "2022-08-17T06:32:10.479Z"
   },
   {
    "duration": 1918,
    "start_time": "2022-08-17T06:33:16.253Z"
   },
   {
    "duration": 2019,
    "start_time": "2022-08-17T06:35:37.380Z"
   },
   {
    "duration": 1909,
    "start_time": "2022-08-17T06:36:53.643Z"
   },
   {
    "duration": 1205,
    "start_time": "2022-08-17T06:37:36.222Z"
   },
   {
    "duration": 119,
    "start_time": "2022-08-17T06:37:37.429Z"
   },
   {
    "duration": 4,
    "start_time": "2022-08-17T06:37:37.549Z"
   },
   {
    "duration": 61,
    "start_time": "2022-08-17T06:37:37.555Z"
   },
   {
    "duration": 23,
    "start_time": "2022-08-17T06:37:37.618Z"
   },
   {
    "duration": 448,
    "start_time": "2022-08-17T06:37:37.642Z"
   },
   {
    "duration": 24,
    "start_time": "2022-08-17T06:37:38.092Z"
   },
   {
    "duration": 339,
    "start_time": "2022-08-17T06:37:38.118Z"
   },
   {
    "duration": 231,
    "start_time": "2022-08-17T06:37:38.459Z"
   },
   {
    "duration": 760,
    "start_time": "2022-08-17T06:37:38.692Z"
   },
   {
    "duration": 287,
    "start_time": "2022-08-17T06:37:39.453Z"
   },
   {
    "duration": 2024,
    "start_time": "2022-08-17T06:37:39.742Z"
   },
   {
    "duration": 0,
    "start_time": "2022-08-17T06:37:41.769Z"
   },
   {
    "duration": 1931,
    "start_time": "2022-08-17T06:39:18.160Z"
   },
   {
    "duration": 1926,
    "start_time": "2022-08-17T06:41:11.004Z"
   },
   {
    "duration": 2100,
    "start_time": "2022-08-17T06:44:05.388Z"
   },
   {
    "duration": 2609,
    "start_time": "2022-08-17T06:44:39.057Z"
   },
   {
    "duration": 1200,
    "start_time": "2022-08-17T06:45:27.119Z"
   },
   {
    "duration": 145,
    "start_time": "2022-08-17T06:45:28.321Z"
   },
   {
    "duration": 4,
    "start_time": "2022-08-17T06:45:28.468Z"
   },
   {
    "duration": 72,
    "start_time": "2022-08-17T06:45:28.474Z"
   },
   {
    "duration": 16,
    "start_time": "2022-08-17T06:45:28.547Z"
   },
   {
    "duration": 404,
    "start_time": "2022-08-17T06:45:28.564Z"
   },
   {
    "duration": 13,
    "start_time": "2022-08-17T06:45:28.970Z"
   },
   {
    "duration": 442,
    "start_time": "2022-08-17T06:45:28.985Z"
   },
   {
    "duration": 234,
    "start_time": "2022-08-17T06:45:29.429Z"
   },
   {
    "duration": 721,
    "start_time": "2022-08-17T06:45:29.665Z"
   },
   {
    "duration": 285,
    "start_time": "2022-08-17T06:45:30.388Z"
   },
   {
    "duration": 2078,
    "start_time": "2022-08-17T06:45:30.674Z"
   },
   {
    "duration": 231,
    "start_time": "2022-08-17T06:45:32.754Z"
   },
   {
    "duration": 3782,
    "start_time": "2022-08-17T06:47:03.680Z"
   },
   {
    "duration": 1189,
    "start_time": "2022-08-17T06:47:52.351Z"
   },
   {
    "duration": 149,
    "start_time": "2022-08-17T06:47:53.542Z"
   },
   {
    "duration": 3,
    "start_time": "2022-08-17T06:47:53.693Z"
   },
   {
    "duration": 63,
    "start_time": "2022-08-17T06:47:53.698Z"
   },
   {
    "duration": 15,
    "start_time": "2022-08-17T06:47:53.762Z"
   },
   {
    "duration": 421,
    "start_time": "2022-08-17T06:47:53.778Z"
   },
   {
    "duration": 25,
    "start_time": "2022-08-17T06:47:54.201Z"
   },
   {
    "duration": 332,
    "start_time": "2022-08-17T06:47:54.228Z"
   },
   {
    "duration": 250,
    "start_time": "2022-08-17T06:47:54.562Z"
   },
   {
    "duration": 687,
    "start_time": "2022-08-17T06:47:54.815Z"
   },
   {
    "duration": 264,
    "start_time": "2022-08-17T06:47:55.506Z"
   },
   {
    "duration": 1988,
    "start_time": "2022-08-17T06:47:55.771Z"
   },
   {
    "duration": 211,
    "start_time": "2022-08-17T06:47:57.761Z"
   },
   {
    "duration": 3185,
    "start_time": "2022-08-17T06:50:21.958Z"
   },
   {
    "duration": 1253,
    "start_time": "2022-08-17T06:51:11.183Z"
   },
   {
    "duration": 158,
    "start_time": "2022-08-17T06:51:12.437Z"
   },
   {
    "duration": 5,
    "start_time": "2022-08-17T06:51:12.596Z"
   },
   {
    "duration": 69,
    "start_time": "2022-08-17T06:51:12.602Z"
   },
   {
    "duration": 17,
    "start_time": "2022-08-17T06:51:12.672Z"
   },
   {
    "duration": 401,
    "start_time": "2022-08-17T06:51:12.690Z"
   },
   {
    "duration": 26,
    "start_time": "2022-08-17T06:51:13.092Z"
   },
   {
    "duration": 332,
    "start_time": "2022-08-17T06:51:13.120Z"
   },
   {
    "duration": 227,
    "start_time": "2022-08-17T06:51:13.454Z"
   },
   {
    "duration": 719,
    "start_time": "2022-08-17T06:51:13.683Z"
   },
   {
    "duration": 289,
    "start_time": "2022-08-17T06:51:14.403Z"
   },
   {
    "duration": 2028,
    "start_time": "2022-08-17T06:51:14.694Z"
   },
   {
    "duration": 194,
    "start_time": "2022-08-17T06:51:16.723Z"
   },
   {
    "duration": 2493,
    "start_time": "2022-08-17T06:53:15.500Z"
   },
   {
    "duration": 1243,
    "start_time": "2022-08-17T06:54:23.411Z"
   },
   {
    "duration": 161,
    "start_time": "2022-08-17T06:54:24.656Z"
   },
   {
    "duration": 4,
    "start_time": "2022-08-17T06:54:24.819Z"
   },
   {
    "duration": 61,
    "start_time": "2022-08-17T06:54:24.826Z"
   },
   {
    "duration": 31,
    "start_time": "2022-08-17T06:54:24.888Z"
   },
   {
    "duration": 462,
    "start_time": "2022-08-17T06:54:24.921Z"
   },
   {
    "duration": 24,
    "start_time": "2022-08-17T06:54:25.386Z"
   },
   {
    "duration": 369,
    "start_time": "2022-08-17T06:54:25.412Z"
   },
   {
    "duration": 265,
    "start_time": "2022-08-17T06:54:25.782Z"
   },
   {
    "duration": 782,
    "start_time": "2022-08-17T06:54:26.049Z"
   },
   {
    "duration": 297,
    "start_time": "2022-08-17T06:54:26.833Z"
   },
   {
    "duration": 2060,
    "start_time": "2022-08-17T06:54:27.132Z"
   },
   {
    "duration": 0,
    "start_time": "2022-08-17T06:54:29.193Z"
   },
   {
    "duration": 2389,
    "start_time": "2022-08-17T06:54:51.187Z"
   },
   {
    "duration": 1095,
    "start_time": "2022-08-17T06:56:41.963Z"
   },
   {
    "duration": 151,
    "start_time": "2022-08-17T06:56:43.060Z"
   },
   {
    "duration": 5,
    "start_time": "2022-08-17T06:56:43.213Z"
   },
   {
    "duration": 58,
    "start_time": "2022-08-17T06:56:43.221Z"
   },
   {
    "duration": 14,
    "start_time": "2022-08-17T06:56:43.281Z"
   },
   {
    "duration": 369,
    "start_time": "2022-08-17T06:56:43.306Z"
   },
   {
    "duration": 12,
    "start_time": "2022-08-17T06:56:43.676Z"
   },
   {
    "duration": 347,
    "start_time": "2022-08-17T06:56:43.690Z"
   },
   {
    "duration": 247,
    "start_time": "2022-08-17T06:56:44.039Z"
   },
   {
    "duration": 660,
    "start_time": "2022-08-17T06:56:44.288Z"
   },
   {
    "duration": 273,
    "start_time": "2022-08-17T06:56:44.949Z"
   },
   {
    "duration": 2206,
    "start_time": "2022-08-17T06:56:45.224Z"
   },
   {
    "duration": 197,
    "start_time": "2022-08-17T06:56:47.432Z"
   },
   {
    "duration": 89,
    "start_time": "2022-08-17T07:00:20.838Z"
   },
   {
    "duration": 102,
    "start_time": "2022-08-17T07:00:34.543Z"
   },
   {
    "duration": 3822,
    "start_time": "2022-08-17T07:57:23.378Z"
   },
   {
    "duration": 1095,
    "start_time": "2022-08-17T07:58:39.550Z"
   },
   {
    "duration": 190,
    "start_time": "2022-08-17T07:58:40.647Z"
   },
   {
    "duration": 3,
    "start_time": "2022-08-17T07:58:40.839Z"
   },
   {
    "duration": 58,
    "start_time": "2022-08-17T07:58:40.844Z"
   },
   {
    "duration": 21,
    "start_time": "2022-08-17T07:58:40.904Z"
   },
   {
    "duration": 414,
    "start_time": "2022-08-17T07:58:40.927Z"
   },
   {
    "duration": 15,
    "start_time": "2022-08-17T07:58:41.343Z"
   },
   {
    "duration": 354,
    "start_time": "2022-08-17T07:58:41.360Z"
   },
   {
    "duration": 238,
    "start_time": "2022-08-17T07:58:41.717Z"
   },
   {
    "duration": 646,
    "start_time": "2022-08-17T07:58:41.957Z"
   },
   {
    "duration": 269,
    "start_time": "2022-08-17T07:58:42.605Z"
   },
   {
    "duration": 3292,
    "start_time": "2022-08-17T07:58:42.876Z"
   },
   {
    "duration": 0,
    "start_time": "2022-08-17T07:58:46.170Z"
   },
   {
    "duration": 2456,
    "start_time": "2022-08-17T08:01:26.601Z"
   },
   {
    "duration": 1408,
    "start_time": "2022-08-17T08:02:08.039Z"
   },
   {
    "duration": 111,
    "start_time": "2022-08-17T08:02:09.449Z"
   },
   {
    "duration": 4,
    "start_time": "2022-08-17T08:02:09.562Z"
   },
   {
    "duration": 63,
    "start_time": "2022-08-17T08:02:09.568Z"
   },
   {
    "duration": 17,
    "start_time": "2022-08-17T08:02:09.633Z"
   },
   {
    "duration": 427,
    "start_time": "2022-08-17T08:02:09.651Z"
   },
   {
    "duration": 26,
    "start_time": "2022-08-17T08:02:10.080Z"
   },
   {
    "duration": 351,
    "start_time": "2022-08-17T08:02:10.109Z"
   },
   {
    "duration": 257,
    "start_time": "2022-08-17T08:02:10.461Z"
   },
   {
    "duration": 698,
    "start_time": "2022-08-17T08:02:10.721Z"
   },
   {
    "duration": 298,
    "start_time": "2022-08-17T08:02:11.421Z"
   },
   {
    "duration": 1958,
    "start_time": "2022-08-17T08:02:11.721Z"
   },
   {
    "duration": 211,
    "start_time": "2022-08-17T08:02:13.681Z"
   },
   {
    "duration": 2642,
    "start_time": "2022-08-17T08:05:38.123Z"
   },
   {
    "duration": 1159,
    "start_time": "2022-08-17T08:05:53.545Z"
   },
   {
    "duration": 104,
    "start_time": "2022-08-17T08:05:54.707Z"
   },
   {
    "duration": 5,
    "start_time": "2022-08-17T08:05:54.813Z"
   },
   {
    "duration": 67,
    "start_time": "2022-08-17T08:05:54.821Z"
   },
   {
    "duration": 19,
    "start_time": "2022-08-17T08:05:54.889Z"
   },
   {
    "duration": 375,
    "start_time": "2022-08-17T08:05:54.910Z"
   },
   {
    "duration": 26,
    "start_time": "2022-08-17T08:05:55.286Z"
   },
   {
    "duration": 320,
    "start_time": "2022-08-17T08:05:55.314Z"
   },
   {
    "duration": 235,
    "start_time": "2022-08-17T08:05:55.636Z"
   },
   {
    "duration": 719,
    "start_time": "2022-08-17T08:05:55.873Z"
   },
   {
    "duration": 256,
    "start_time": "2022-08-17T08:05:56.594Z"
   },
   {
    "duration": 1539,
    "start_time": "2022-08-17T08:05:56.852Z"
   },
   {
    "duration": 216,
    "start_time": "2022-08-17T08:05:58.392Z"
   },
   {
    "duration": 3575,
    "start_time": "2022-08-17T08:20:28.492Z"
   },
   {
    "duration": 1182,
    "start_time": "2022-08-17T08:20:40.921Z"
   },
   {
    "duration": 100,
    "start_time": "2022-08-17T08:20:42.104Z"
   },
   {
    "duration": 6,
    "start_time": "2022-08-17T08:20:42.208Z"
   },
   {
    "duration": 62,
    "start_time": "2022-08-17T08:20:42.216Z"
   },
   {
    "duration": 29,
    "start_time": "2022-08-17T08:20:42.280Z"
   },
   {
    "duration": 402,
    "start_time": "2022-08-17T08:20:42.311Z"
   },
   {
    "duration": 17,
    "start_time": "2022-08-17T08:20:42.715Z"
   },
   {
    "duration": 375,
    "start_time": "2022-08-17T08:20:42.734Z"
   },
   {
    "duration": 235,
    "start_time": "2022-08-17T08:20:43.111Z"
   },
   {
    "duration": 691,
    "start_time": "2022-08-17T08:20:43.349Z"
   },
   {
    "duration": 304,
    "start_time": "2022-08-17T08:20:44.042Z"
   },
   {
    "duration": 1989,
    "start_time": "2022-08-17T08:20:44.348Z"
   },
   {
    "duration": 0,
    "start_time": "2022-08-17T08:20:46.339Z"
   },
   {
    "duration": 1167,
    "start_time": "2022-08-17T08:21:33.169Z"
   },
   {
    "duration": 112,
    "start_time": "2022-08-17T08:21:34.339Z"
   },
   {
    "duration": 5,
    "start_time": "2022-08-17T08:21:34.452Z"
   },
   {
    "duration": 72,
    "start_time": "2022-08-17T08:21:34.459Z"
   },
   {
    "duration": 16,
    "start_time": "2022-08-17T08:21:34.533Z"
   },
   {
    "duration": 408,
    "start_time": "2022-08-17T08:21:34.550Z"
   },
   {
    "duration": 13,
    "start_time": "2022-08-17T08:21:34.959Z"
   },
   {
    "duration": 347,
    "start_time": "2022-08-17T08:21:34.974Z"
   },
   {
    "duration": 243,
    "start_time": "2022-08-17T08:21:35.323Z"
   },
   {
    "duration": 767,
    "start_time": "2022-08-17T08:21:35.568Z"
   },
   {
    "duration": 313,
    "start_time": "2022-08-17T08:21:36.337Z"
   },
   {
    "duration": 2335,
    "start_time": "2022-08-17T08:21:36.652Z"
   },
   {
    "duration": 222,
    "start_time": "2022-08-17T08:21:38.989Z"
   },
   {
    "duration": 1188,
    "start_time": "2022-08-17T08:22:39.457Z"
   },
   {
    "duration": 117,
    "start_time": "2022-08-17T08:22:40.647Z"
   },
   {
    "duration": 4,
    "start_time": "2022-08-17T08:22:40.767Z"
   },
   {
    "duration": 78,
    "start_time": "2022-08-17T08:22:40.774Z"
   },
   {
    "duration": 21,
    "start_time": "2022-08-17T08:22:40.853Z"
   },
   {
    "duration": 415,
    "start_time": "2022-08-17T08:22:40.876Z"
   },
   {
    "duration": 22,
    "start_time": "2022-08-17T08:22:41.293Z"
   },
   {
    "duration": 342,
    "start_time": "2022-08-17T08:22:41.316Z"
   },
   {
    "duration": 262,
    "start_time": "2022-08-17T08:22:41.660Z"
   },
   {
    "duration": 696,
    "start_time": "2022-08-17T08:22:41.925Z"
   },
   {
    "duration": 269,
    "start_time": "2022-08-17T08:22:42.623Z"
   },
   {
    "duration": 2220,
    "start_time": "2022-08-17T08:22:42.893Z"
   },
   {
    "duration": 197,
    "start_time": "2022-08-17T08:22:45.115Z"
   },
   {
    "duration": 1211,
    "start_time": "2022-08-17T08:28:14.242Z"
   },
   {
    "duration": 118,
    "start_time": "2022-08-17T08:28:15.454Z"
   },
   {
    "duration": 4,
    "start_time": "2022-08-17T08:28:15.574Z"
   },
   {
    "duration": 65,
    "start_time": "2022-08-17T08:28:15.579Z"
   },
   {
    "duration": 16,
    "start_time": "2022-08-17T08:28:15.646Z"
   },
   {
    "duration": 410,
    "start_time": "2022-08-17T08:28:15.663Z"
   },
   {
    "duration": 16,
    "start_time": "2022-08-17T08:28:16.075Z"
   },
   {
    "duration": 362,
    "start_time": "2022-08-17T08:28:16.107Z"
   },
   {
    "duration": 260,
    "start_time": "2022-08-17T08:28:16.471Z"
   },
   {
    "duration": 669,
    "start_time": "2022-08-17T08:28:16.733Z"
   },
   {
    "duration": 274,
    "start_time": "2022-08-17T08:28:17.406Z"
   },
   {
    "duration": 3360,
    "start_time": "2022-08-17T08:28:17.681Z"
   },
   {
    "duration": 0,
    "start_time": "2022-08-17T08:28:21.043Z"
   },
   {
    "duration": 1225,
    "start_time": "2022-08-17T08:28:55.521Z"
   },
   {
    "duration": 109,
    "start_time": "2022-08-17T08:28:56.749Z"
   },
   {
    "duration": 4,
    "start_time": "2022-08-17T08:28:56.860Z"
   },
   {
    "duration": 56,
    "start_time": "2022-08-17T08:28:56.865Z"
   },
   {
    "duration": 18,
    "start_time": "2022-08-17T08:28:56.924Z"
   },
   {
    "duration": 416,
    "start_time": "2022-08-17T08:28:56.943Z"
   },
   {
    "duration": 12,
    "start_time": "2022-08-17T08:28:57.361Z"
   },
   {
    "duration": 347,
    "start_time": "2022-08-17T08:28:57.375Z"
   },
   {
    "duration": 325,
    "start_time": "2022-08-17T08:28:57.724Z"
   },
   {
    "duration": 643,
    "start_time": "2022-08-17T08:28:58.052Z"
   },
   {
    "duration": 270,
    "start_time": "2022-08-17T08:28:58.697Z"
   },
   {
    "duration": 2094,
    "start_time": "2022-08-17T08:28:58.969Z"
   },
   {
    "duration": 0,
    "start_time": "2022-08-17T08:29:01.064Z"
   },
   {
    "duration": 1166,
    "start_time": "2022-08-17T08:29:22.240Z"
   },
   {
    "duration": 99,
    "start_time": "2022-08-17T08:29:23.408Z"
   },
   {
    "duration": 5,
    "start_time": "2022-08-17T08:29:23.510Z"
   },
   {
    "duration": 58,
    "start_time": "2022-08-17T08:29:23.517Z"
   },
   {
    "duration": 15,
    "start_time": "2022-08-17T08:29:23.576Z"
   },
   {
    "duration": 360,
    "start_time": "2022-08-17T08:29:23.606Z"
   },
   {
    "duration": 13,
    "start_time": "2022-08-17T08:29:23.967Z"
   },
   {
    "duration": 353,
    "start_time": "2022-08-17T08:29:23.981Z"
   },
   {
    "duration": 239,
    "start_time": "2022-08-17T08:29:24.336Z"
   },
   {
    "duration": 669,
    "start_time": "2022-08-17T08:29:24.577Z"
   },
   {
    "duration": 290,
    "start_time": "2022-08-17T08:29:25.247Z"
   },
   {
    "duration": 1884,
    "start_time": "2022-08-17T08:29:25.538Z"
   },
   {
    "duration": 221,
    "start_time": "2022-08-17T08:29:27.424Z"
   },
   {
    "duration": 1216,
    "start_time": "2022-08-17T08:31:02.309Z"
   },
   {
    "duration": 122,
    "start_time": "2022-08-17T08:31:03.527Z"
   },
   {
    "duration": 3,
    "start_time": "2022-08-17T08:31:03.651Z"
   },
   {
    "duration": 66,
    "start_time": "2022-08-17T08:31:03.656Z"
   },
   {
    "duration": 18,
    "start_time": "2022-08-17T08:31:03.725Z"
   },
   {
    "duration": 410,
    "start_time": "2022-08-17T08:31:03.744Z"
   },
   {
    "duration": 13,
    "start_time": "2022-08-17T08:31:04.156Z"
   },
   {
    "duration": 328,
    "start_time": "2022-08-17T08:31:04.170Z"
   },
   {
    "duration": 255,
    "start_time": "2022-08-17T08:31:04.500Z"
   },
   {
    "duration": 677,
    "start_time": "2022-08-17T08:31:04.758Z"
   },
   {
    "duration": 269,
    "start_time": "2022-08-17T08:31:05.437Z"
   },
   {
    "duration": 112,
    "start_time": "2022-08-17T08:31:05.708Z"
   },
   {
    "duration": 0,
    "start_time": "2022-08-17T08:31:05.822Z"
   },
   {
    "duration": 1191,
    "start_time": "2022-08-17T08:31:54.036Z"
   },
   {
    "duration": 112,
    "start_time": "2022-08-17T08:31:55.229Z"
   },
   {
    "duration": 4,
    "start_time": "2022-08-17T08:31:55.343Z"
   },
   {
    "duration": 59,
    "start_time": "2022-08-17T08:31:55.348Z"
   },
   {
    "duration": 19,
    "start_time": "2022-08-17T08:31:55.408Z"
   },
   {
    "duration": 422,
    "start_time": "2022-08-17T08:31:55.429Z"
   },
   {
    "duration": 15,
    "start_time": "2022-08-17T08:31:55.853Z"
   },
   {
    "duration": 366,
    "start_time": "2022-08-17T08:31:55.870Z"
   },
   {
    "duration": 243,
    "start_time": "2022-08-17T08:31:56.237Z"
   },
   {
    "duration": 686,
    "start_time": "2022-08-17T08:31:56.482Z"
   },
   {
    "duration": 284,
    "start_time": "2022-08-17T08:31:57.170Z"
   },
   {
    "duration": 2393,
    "start_time": "2022-08-17T08:31:57.456Z"
   },
   {
    "duration": 0,
    "start_time": "2022-08-17T08:31:59.850Z"
   },
   {
    "duration": 1139,
    "start_time": "2022-08-17T08:32:16.297Z"
   },
   {
    "duration": 108,
    "start_time": "2022-08-17T08:32:17.437Z"
   },
   {
    "duration": 4,
    "start_time": "2022-08-17T08:32:17.546Z"
   },
   {
    "duration": 59,
    "start_time": "2022-08-17T08:32:17.552Z"
   },
   {
    "duration": 18,
    "start_time": "2022-08-17T08:32:17.614Z"
   },
   {
    "duration": 440,
    "start_time": "2022-08-17T08:32:17.633Z"
   },
   {
    "duration": 13,
    "start_time": "2022-08-17T08:32:18.075Z"
   },
   {
    "duration": 316,
    "start_time": "2022-08-17T08:32:18.089Z"
   },
   {
    "duration": 240,
    "start_time": "2022-08-17T08:32:18.407Z"
   },
   {
    "duration": 688,
    "start_time": "2022-08-17T08:32:18.650Z"
   },
   {
    "duration": 279,
    "start_time": "2022-08-17T08:32:19.340Z"
   },
   {
    "duration": 1845,
    "start_time": "2022-08-17T08:32:19.622Z"
   },
   {
    "duration": 1,
    "start_time": "2022-08-17T08:32:21.468Z"
   },
   {
    "duration": 1426,
    "start_time": "2022-08-17T08:33:30.375Z"
   },
   {
    "duration": 214,
    "start_time": "2022-08-17T08:33:31.803Z"
   },
   {
    "duration": 6,
    "start_time": "2022-08-17T08:33:32.019Z"
   },
   {
    "duration": 117,
    "start_time": "2022-08-17T08:33:32.028Z"
   },
   {
    "duration": 38,
    "start_time": "2022-08-17T08:33:32.147Z"
   },
   {
    "duration": 426,
    "start_time": "2022-08-17T08:33:32.186Z"
   },
   {
    "duration": 18,
    "start_time": "2022-08-17T08:33:32.614Z"
   },
   {
    "duration": 365,
    "start_time": "2022-08-17T08:33:32.634Z"
   },
   {
    "duration": 244,
    "start_time": "2022-08-17T08:33:33.005Z"
   },
   {
    "duration": 686,
    "start_time": "2022-08-17T08:33:33.251Z"
   },
   {
    "duration": 275,
    "start_time": "2022-08-17T08:33:33.938Z"
   },
   {
    "duration": 2437,
    "start_time": "2022-08-17T08:33:34.215Z"
   },
   {
    "duration": 0,
    "start_time": "2022-08-17T08:33:36.653Z"
   },
   {
    "duration": 1307,
    "start_time": "2022-08-17T08:34:31.072Z"
   },
   {
    "duration": 116,
    "start_time": "2022-08-17T08:34:32.381Z"
   },
   {
    "duration": 4,
    "start_time": "2022-08-17T08:34:32.499Z"
   },
   {
    "duration": 83,
    "start_time": "2022-08-17T08:34:32.505Z"
   },
   {
    "duration": 16,
    "start_time": "2022-08-17T08:34:32.589Z"
   },
   {
    "duration": 421,
    "start_time": "2022-08-17T08:34:32.606Z"
   },
   {
    "duration": 13,
    "start_time": "2022-08-17T08:34:33.029Z"
   },
   {
    "duration": 357,
    "start_time": "2022-08-17T08:34:33.043Z"
   },
   {
    "duration": 234,
    "start_time": "2022-08-17T08:34:33.401Z"
   },
   {
    "duration": 663,
    "start_time": "2022-08-17T08:34:33.638Z"
   },
   {
    "duration": 262,
    "start_time": "2022-08-17T08:34:34.303Z"
   },
   {
    "duration": 2275,
    "start_time": "2022-08-17T08:34:34.567Z"
   },
   {
    "duration": 207,
    "start_time": "2022-08-17T08:34:36.844Z"
   },
   {
    "duration": 122,
    "start_time": "2022-08-17T08:46:21.055Z"
   },
   {
    "duration": 1250,
    "start_time": "2022-08-17T08:46:29.424Z"
   },
   {
    "duration": 107,
    "start_time": "2022-08-17T08:46:30.677Z"
   },
   {
    "duration": 4,
    "start_time": "2022-08-17T08:46:30.785Z"
   },
   {
    "duration": 150,
    "start_time": "2022-08-17T08:46:30.791Z"
   },
   {
    "duration": 21,
    "start_time": "2022-08-17T08:46:30.944Z"
   },
   {
    "duration": 501,
    "start_time": "2022-08-17T08:46:30.967Z"
   },
   {
    "duration": 15,
    "start_time": "2022-08-17T08:46:31.470Z"
   },
   {
    "duration": 374,
    "start_time": "2022-08-17T08:46:31.487Z"
   },
   {
    "duration": 327,
    "start_time": "2022-08-17T08:46:31.863Z"
   },
   {
    "duration": 896,
    "start_time": "2022-08-17T08:46:32.193Z"
   },
   {
    "duration": 328,
    "start_time": "2022-08-17T08:46:33.091Z"
   },
   {
    "duration": 3450,
    "start_time": "2022-08-17T08:46:33.421Z"
   },
   {
    "duration": 219,
    "start_time": "2022-08-17T08:46:36.872Z"
   },
   {
    "duration": 404,
    "start_time": "2022-08-17T08:48:53.104Z"
   },
   {
    "duration": 373,
    "start_time": "2022-08-17T08:50:05.633Z"
   },
   {
    "duration": 406,
    "start_time": "2022-08-17T08:50:34.232Z"
   },
   {
    "duration": 473,
    "start_time": "2022-08-17T08:50:53.849Z"
   },
   {
    "duration": 176,
    "start_time": "2022-08-17T08:52:01.147Z"
   },
   {
    "duration": 180,
    "start_time": "2022-08-17T08:55:01.379Z"
   },
   {
    "duration": 191,
    "start_time": "2022-08-17T08:57:48.865Z"
   },
   {
    "duration": 192,
    "start_time": "2022-08-17T08:58:11.281Z"
   },
   {
    "duration": 17,
    "start_time": "2022-08-17T09:07:48.089Z"
   },
   {
    "duration": 118,
    "start_time": "2022-08-17T09:09:43.119Z"
   },
   {
    "duration": 16,
    "start_time": "2022-08-17T09:10:01.322Z"
   },
   {
    "duration": 21,
    "start_time": "2022-08-17T09:10:45.741Z"
   },
   {
    "duration": 1054,
    "start_time": "2022-08-17T09:54:39.656Z"
   },
   {
    "duration": 147,
    "start_time": "2022-08-17T09:54:40.712Z"
   },
   {
    "duration": 4,
    "start_time": "2022-08-17T09:54:40.861Z"
   },
   {
    "duration": 52,
    "start_time": "2022-08-17T09:54:40.867Z"
   },
   {
    "duration": 14,
    "start_time": "2022-08-17T09:54:40.920Z"
   },
   {
    "duration": 384,
    "start_time": "2022-08-17T09:54:40.936Z"
   },
   {
    "duration": 12,
    "start_time": "2022-08-17T09:54:41.321Z"
   },
   {
    "duration": 317,
    "start_time": "2022-08-17T09:54:41.335Z"
   },
   {
    "duration": 212,
    "start_time": "2022-08-17T09:54:41.653Z"
   },
   {
    "duration": 598,
    "start_time": "2022-08-17T09:54:41.867Z"
   },
   {
    "duration": 251,
    "start_time": "2022-08-17T09:54:42.466Z"
   },
   {
    "duration": 3429,
    "start_time": "2022-08-17T09:54:42.719Z"
   },
   {
    "duration": 205,
    "start_time": "2022-08-17T09:54:46.152Z"
   },
   {
    "duration": 12,
    "start_time": "2022-08-17T09:54:46.359Z"
   },
   {
    "duration": 275,
    "start_time": "2022-08-17T10:05:39.898Z"
   },
   {
    "duration": 199,
    "start_time": "2022-08-17T10:06:19.506Z"
   },
   {
    "duration": 208,
    "start_time": "2022-08-17T10:06:31.870Z"
   },
   {
    "duration": 1113,
    "start_time": "2022-08-17T10:06:52.806Z"
   },
   {
    "duration": 102,
    "start_time": "2022-08-17T10:06:53.921Z"
   },
   {
    "duration": 4,
    "start_time": "2022-08-17T10:06:54.025Z"
   },
   {
    "duration": 77,
    "start_time": "2022-08-17T10:06:54.032Z"
   },
   {
    "duration": 23,
    "start_time": "2022-08-17T10:06:54.111Z"
   },
   {
    "duration": 390,
    "start_time": "2022-08-17T10:06:54.136Z"
   },
   {
    "duration": 15,
    "start_time": "2022-08-17T10:06:54.528Z"
   },
   {
    "duration": 302,
    "start_time": "2022-08-17T10:06:54.546Z"
   },
   {
    "duration": 0,
    "start_time": "2022-08-17T10:06:54.850Z"
   },
   {
    "duration": 0,
    "start_time": "2022-08-17T10:06:54.852Z"
   },
   {
    "duration": 0,
    "start_time": "2022-08-17T10:06:54.852Z"
   },
   {
    "duration": 0,
    "start_time": "2022-08-17T10:06:54.854Z"
   },
   {
    "duration": 0,
    "start_time": "2022-08-17T10:06:54.855Z"
   },
   {
    "duration": 0,
    "start_time": "2022-08-17T10:06:54.856Z"
   },
   {
    "duration": 0,
    "start_time": "2022-08-17T10:06:54.857Z"
   },
   {
    "duration": 1110,
    "start_time": "2022-08-17T10:07:58.103Z"
   },
   {
    "duration": 100,
    "start_time": "2022-08-17T10:07:59.214Z"
   },
   {
    "duration": 4,
    "start_time": "2022-08-17T10:07:59.315Z"
   },
   {
    "duration": 54,
    "start_time": "2022-08-17T10:07:59.321Z"
   },
   {
    "duration": 32,
    "start_time": "2022-08-17T10:07:59.376Z"
   },
   {
    "duration": 362,
    "start_time": "2022-08-17T10:07:59.411Z"
   },
   {
    "duration": 14,
    "start_time": "2022-08-17T10:07:59.775Z"
   },
   {
    "duration": 278,
    "start_time": "2022-08-17T10:07:59.805Z"
   },
   {
    "duration": 0,
    "start_time": "2022-08-17T10:08:00.085Z"
   },
   {
    "duration": 0,
    "start_time": "2022-08-17T10:08:00.087Z"
   },
   {
    "duration": 0,
    "start_time": "2022-08-17T10:08:00.088Z"
   },
   {
    "duration": 0,
    "start_time": "2022-08-17T10:08:00.090Z"
   },
   {
    "duration": 0,
    "start_time": "2022-08-17T10:08:00.091Z"
   },
   {
    "duration": 0,
    "start_time": "2022-08-17T10:08:00.106Z"
   },
   {
    "duration": 0,
    "start_time": "2022-08-17T10:08:00.107Z"
   },
   {
    "duration": 159,
    "start_time": "2022-08-17T10:09:05.434Z"
   },
   {
    "duration": 308,
    "start_time": "2022-08-17T10:09:24.275Z"
   },
   {
    "duration": 177,
    "start_time": "2022-08-17T10:10:20.874Z"
   },
   {
    "duration": 172,
    "start_time": "2022-08-17T10:14:23.753Z"
   },
   {
    "duration": 1176,
    "start_time": "2022-08-17T10:15:48.650Z"
   },
   {
    "duration": 118,
    "start_time": "2022-08-17T10:15:49.828Z"
   },
   {
    "duration": 4,
    "start_time": "2022-08-17T10:15:49.950Z"
   },
   {
    "duration": 65,
    "start_time": "2022-08-17T10:15:49.956Z"
   },
   {
    "duration": 20,
    "start_time": "2022-08-17T10:15:50.022Z"
   },
   {
    "duration": 386,
    "start_time": "2022-08-17T10:15:50.044Z"
   },
   {
    "duration": 13,
    "start_time": "2022-08-17T10:15:50.432Z"
   },
   {
    "duration": 298,
    "start_time": "2022-08-17T10:15:50.447Z"
   },
   {
    "duration": 0,
    "start_time": "2022-08-17T10:15:50.748Z"
   },
   {
    "duration": 0,
    "start_time": "2022-08-17T10:15:50.749Z"
   },
   {
    "duration": 0,
    "start_time": "2022-08-17T10:15:50.751Z"
   },
   {
    "duration": 0,
    "start_time": "2022-08-17T10:15:50.752Z"
   },
   {
    "duration": 0,
    "start_time": "2022-08-17T10:15:50.753Z"
   },
   {
    "duration": 0,
    "start_time": "2022-08-17T10:15:50.754Z"
   },
   {
    "duration": 0,
    "start_time": "2022-08-17T10:15:50.756Z"
   },
   {
    "duration": 183,
    "start_time": "2022-08-17T10:17:13.038Z"
   },
   {
    "duration": 173,
    "start_time": "2022-08-17T10:18:48.429Z"
   },
   {
    "duration": 173,
    "start_time": "2022-08-17T10:20:00.073Z"
   },
   {
    "duration": 290,
    "start_time": "2022-08-17T10:21:41.710Z"
   },
   {
    "duration": 301,
    "start_time": "2022-08-17T10:23:07.793Z"
   },
   {
    "duration": 230,
    "start_time": "2022-08-17T10:23:13.612Z"
   },
   {
    "duration": 314,
    "start_time": "2022-08-17T10:23:33.305Z"
   },
   {
    "duration": 314,
    "start_time": "2022-08-17T10:24:16.424Z"
   },
   {
    "duration": 336,
    "start_time": "2022-08-17T10:24:42.189Z"
   },
   {
    "duration": 1253,
    "start_time": "2022-08-17T10:25:07.784Z"
   },
   {
    "duration": 129,
    "start_time": "2022-08-17T10:25:09.039Z"
   },
   {
    "duration": 4,
    "start_time": "2022-08-17T10:25:09.169Z"
   },
   {
    "duration": 59,
    "start_time": "2022-08-17T10:25:09.175Z"
   },
   {
    "duration": 17,
    "start_time": "2022-08-17T10:25:09.236Z"
   },
   {
    "duration": 403,
    "start_time": "2022-08-17T10:25:09.255Z"
   },
   {
    "duration": 19,
    "start_time": "2022-08-17T10:25:09.660Z"
   },
   {
    "duration": 402,
    "start_time": "2022-08-17T10:25:09.681Z"
   },
   {
    "duration": 301,
    "start_time": "2022-08-17T10:25:10.085Z"
   },
   {
    "duration": 724,
    "start_time": "2022-08-17T10:25:10.388Z"
   },
   {
    "duration": 281,
    "start_time": "2022-08-17T10:25:11.113Z"
   },
   {
    "duration": 3657,
    "start_time": "2022-08-17T10:25:11.396Z"
   },
   {
    "duration": 202,
    "start_time": "2022-08-17T10:25:15.054Z"
   },
   {
    "duration": 15,
    "start_time": "2022-08-17T10:25:15.258Z"
   },
   {
    "duration": 84,
    "start_time": "2022-08-17T10:25:15.274Z"
   },
   {
    "duration": 226,
    "start_time": "2022-08-17T10:29:10.482Z"
   },
   {
    "duration": 176,
    "start_time": "2022-08-17T10:29:18.879Z"
   },
   {
    "duration": 183,
    "start_time": "2022-08-17T10:31:00.485Z"
   },
   {
    "duration": 183,
    "start_time": "2022-08-17T10:31:15.867Z"
   },
   {
    "duration": 127,
    "start_time": "2022-08-17T10:33:58.121Z"
   },
   {
    "duration": 130,
    "start_time": "2022-08-17T10:34:18.895Z"
   },
   {
    "duration": 132,
    "start_time": "2022-08-17T10:34:31.181Z"
   },
   {
    "duration": 239,
    "start_time": "2022-08-17T10:35:50.180Z"
   },
   {
    "duration": 177,
    "start_time": "2022-08-17T10:36:01.089Z"
   },
   {
    "duration": 277,
    "start_time": "2022-08-17T10:39:19.705Z"
   },
   {
    "duration": 208,
    "start_time": "2022-08-17T10:39:53.403Z"
   },
   {
    "duration": 169,
    "start_time": "2022-08-17T10:40:02.784Z"
   },
   {
    "duration": 186,
    "start_time": "2022-08-17T10:40:11.143Z"
   },
   {
    "duration": 172,
    "start_time": "2022-08-17T10:40:20.653Z"
   },
   {
    "duration": 214,
    "start_time": "2022-08-17T10:40:32.104Z"
   },
   {
    "duration": 1179,
    "start_time": "2022-08-17T10:40:53.537Z"
   },
   {
    "duration": 173,
    "start_time": "2022-08-17T10:40:54.718Z"
   },
   {
    "duration": 4,
    "start_time": "2022-08-17T10:40:54.893Z"
   },
   {
    "duration": 59,
    "start_time": "2022-08-17T10:40:54.899Z"
   },
   {
    "duration": 17,
    "start_time": "2022-08-17T10:40:54.960Z"
   },
   {
    "duration": 400,
    "start_time": "2022-08-17T10:40:54.979Z"
   },
   {
    "duration": 24,
    "start_time": "2022-08-17T10:40:55.382Z"
   },
   {
    "duration": 319,
    "start_time": "2022-08-17T10:40:55.408Z"
   },
   {
    "duration": 236,
    "start_time": "2022-08-17T10:40:55.728Z"
   },
   {
    "duration": 780,
    "start_time": "2022-08-17T10:40:55.967Z"
   },
   {
    "duration": 279,
    "start_time": "2022-08-17T10:40:56.749Z"
   },
   {
    "duration": 4535,
    "start_time": "2022-08-17T10:40:57.030Z"
   },
   {
    "duration": 182,
    "start_time": "2022-08-17T10:41:01.567Z"
   },
   {
    "duration": 15,
    "start_time": "2022-08-17T10:41:01.750Z"
   },
   {
    "duration": 152,
    "start_time": "2022-08-17T10:41:01.766Z"
   },
   {
    "duration": 89,
    "start_time": "2022-08-17T11:46:24.151Z"
   },
   {
    "duration": 1074,
    "start_time": "2022-08-17T11:52:19.931Z"
   },
   {
    "duration": 98,
    "start_time": "2022-08-17T11:52:21.007Z"
   },
   {
    "duration": 4,
    "start_time": "2022-08-17T11:52:21.107Z"
   },
   {
    "duration": 54,
    "start_time": "2022-08-17T11:52:21.112Z"
   },
   {
    "duration": 16,
    "start_time": "2022-08-17T11:52:21.168Z"
   },
   {
    "duration": 368,
    "start_time": "2022-08-17T11:52:21.186Z"
   },
   {
    "duration": 13,
    "start_time": "2022-08-17T11:52:21.556Z"
   },
   {
    "duration": 314,
    "start_time": "2022-08-17T11:52:21.571Z"
   },
   {
    "duration": 241,
    "start_time": "2022-08-17T11:52:21.886Z"
   },
   {
    "duration": 674,
    "start_time": "2022-08-17T11:52:22.129Z"
   },
   {
    "duration": 256,
    "start_time": "2022-08-17T11:52:22.804Z"
   },
   {
    "duration": 3384,
    "start_time": "2022-08-17T11:52:23.062Z"
   },
   {
    "duration": 219,
    "start_time": "2022-08-17T11:52:26.448Z"
   },
   {
    "duration": 15,
    "start_time": "2022-08-17T11:52:26.669Z"
   },
   {
    "duration": 45,
    "start_time": "2022-08-17T17:22:14.294Z"
   },
   {
    "duration": 1176,
    "start_time": "2022-08-17T17:22:18.623Z"
   },
   {
    "duration": 328,
    "start_time": "2022-08-17T17:22:19.801Z"
   },
   {
    "duration": 4,
    "start_time": "2022-08-17T17:22:20.131Z"
   },
   {
    "duration": 58,
    "start_time": "2022-08-17T17:22:20.137Z"
   },
   {
    "duration": 19,
    "start_time": "2022-08-17T17:22:20.199Z"
   },
   {
    "duration": 411,
    "start_time": "2022-08-17T17:22:20.220Z"
   },
   {
    "duration": 14,
    "start_time": "2022-08-17T17:22:20.633Z"
   },
   {
    "duration": 354,
    "start_time": "2022-08-17T17:22:20.649Z"
   },
   {
    "duration": 223,
    "start_time": "2022-08-17T17:22:21.005Z"
   },
   {
    "duration": 334,
    "start_time": "2022-08-17T17:22:21.229Z"
   },
   {
    "duration": 649,
    "start_time": "2022-08-17T17:22:21.566Z"
   },
   {
    "duration": 283,
    "start_time": "2022-08-17T17:22:22.217Z"
   },
   {
    "duration": 3208,
    "start_time": "2022-08-17T17:22:22.502Z"
   },
   {
    "duration": 183,
    "start_time": "2022-08-17T17:22:25.712Z"
   },
   {
    "duration": 15,
    "start_time": "2022-08-17T17:22:25.899Z"
   },
   {
    "duration": 325,
    "start_time": "2022-08-17T17:22:39.321Z"
   },
   {
    "duration": 246,
    "start_time": "2022-08-17T17:22:52.250Z"
   },
   {
    "duration": 247,
    "start_time": "2022-08-17T17:23:40.267Z"
   },
   {
    "duration": 249,
    "start_time": "2022-08-17T17:23:42.382Z"
   },
   {
    "duration": 99,
    "start_time": "2022-08-17T17:29:43.646Z"
   },
   {
    "duration": 86,
    "start_time": "2022-08-18T05:52:26.624Z"
   },
   {
    "duration": 81,
    "start_time": "2022-08-18T05:53:49.025Z"
   },
   {
    "duration": 49,
    "start_time": "2022-08-18T06:00:32.937Z"
   },
   {
    "duration": 1396,
    "start_time": "2022-08-18T06:00:42.067Z"
   },
   {
    "duration": 156,
    "start_time": "2022-08-18T06:00:43.467Z"
   },
   {
    "duration": 5,
    "start_time": "2022-08-18T06:00:43.625Z"
   },
   {
    "duration": 68,
    "start_time": "2022-08-18T06:00:43.631Z"
   },
   {
    "duration": 21,
    "start_time": "2022-08-18T06:00:43.702Z"
   },
   {
    "duration": 18,
    "start_time": "2022-08-18T06:00:43.725Z"
   },
   {
    "duration": 149,
    "start_time": "2022-08-18T06:00:43.744Z"
   },
   {
    "duration": 0,
    "start_time": "2022-08-18T06:00:43.895Z"
   },
   {
    "duration": 0,
    "start_time": "2022-08-18T06:00:43.897Z"
   },
   {
    "duration": 0,
    "start_time": "2022-08-18T06:00:43.898Z"
   },
   {
    "duration": 0,
    "start_time": "2022-08-18T06:00:43.900Z"
   },
   {
    "duration": 0,
    "start_time": "2022-08-18T06:00:43.901Z"
   },
   {
    "duration": 0,
    "start_time": "2022-08-18T06:00:43.903Z"
   },
   {
    "duration": 0,
    "start_time": "2022-08-18T06:00:43.904Z"
   },
   {
    "duration": 0,
    "start_time": "2022-08-18T06:00:43.906Z"
   },
   {
    "duration": 0,
    "start_time": "2022-08-18T06:00:43.907Z"
   },
   {
    "duration": 12,
    "start_time": "2022-08-18T06:04:19.535Z"
   },
   {
    "duration": 40,
    "start_time": "2022-08-18T06:04:48.943Z"
   },
   {
    "duration": 13,
    "start_time": "2022-08-18T06:04:59.236Z"
   },
   {
    "duration": 45,
    "start_time": "2022-08-18T06:05:15.844Z"
   },
   {
    "duration": 26,
    "start_time": "2022-08-18T06:07:37.534Z"
   },
   {
    "duration": 25,
    "start_time": "2022-08-18T06:08:52.627Z"
   },
   {
    "duration": 33,
    "start_time": "2022-08-18T06:10:45.718Z"
   },
   {
    "duration": 1287,
    "start_time": "2022-08-18T06:11:04.076Z"
   },
   {
    "duration": 110,
    "start_time": "2022-08-18T06:11:05.368Z"
   },
   {
    "duration": 5,
    "start_time": "2022-08-18T06:11:05.481Z"
   },
   {
    "duration": 82,
    "start_time": "2022-08-18T06:11:05.489Z"
   },
   {
    "duration": 25,
    "start_time": "2022-08-18T06:11:05.580Z"
   },
   {
    "duration": 17,
    "start_time": "2022-08-18T06:11:05.607Z"
   },
   {
    "duration": 129,
    "start_time": "2022-08-18T06:11:05.626Z"
   },
   {
    "duration": 0,
    "start_time": "2022-08-18T06:11:05.756Z"
   },
   {
    "duration": 1,
    "start_time": "2022-08-18T06:11:05.757Z"
   },
   {
    "duration": 0,
    "start_time": "2022-08-18T06:11:05.759Z"
   },
   {
    "duration": 0,
    "start_time": "2022-08-18T06:11:05.778Z"
   },
   {
    "duration": 0,
    "start_time": "2022-08-18T06:11:05.779Z"
   },
   {
    "duration": 0,
    "start_time": "2022-08-18T06:11:05.780Z"
   },
   {
    "duration": 0,
    "start_time": "2022-08-18T06:11:05.780Z"
   },
   {
    "duration": 0,
    "start_time": "2022-08-18T06:11:05.783Z"
   },
   {
    "duration": 0,
    "start_time": "2022-08-18T06:11:05.784Z"
   },
   {
    "duration": 25,
    "start_time": "2022-08-18T06:14:03.431Z"
   },
   {
    "duration": 24,
    "start_time": "2022-08-18T06:14:28.935Z"
   },
   {
    "duration": 1318,
    "start_time": "2022-08-18T06:14:56.547Z"
   },
   {
    "duration": 121,
    "start_time": "2022-08-18T06:14:57.867Z"
   },
   {
    "duration": 7,
    "start_time": "2022-08-18T06:14:57.990Z"
   },
   {
    "duration": 87,
    "start_time": "2022-08-18T06:14:58.000Z"
   },
   {
    "duration": 25,
    "start_time": "2022-08-18T06:14:58.089Z"
   },
   {
    "duration": 18,
    "start_time": "2022-08-18T06:14:58.116Z"
   },
   {
    "duration": 156,
    "start_time": "2022-08-18T06:14:58.136Z"
   },
   {
    "duration": 0,
    "start_time": "2022-08-18T06:14:58.294Z"
   },
   {
    "duration": 0,
    "start_time": "2022-08-18T06:14:58.296Z"
   },
   {
    "duration": 0,
    "start_time": "2022-08-18T06:14:58.297Z"
   },
   {
    "duration": 0,
    "start_time": "2022-08-18T06:14:58.301Z"
   },
   {
    "duration": 0,
    "start_time": "2022-08-18T06:14:58.302Z"
   },
   {
    "duration": 0,
    "start_time": "2022-08-18T06:14:58.304Z"
   },
   {
    "duration": 0,
    "start_time": "2022-08-18T06:14:58.305Z"
   },
   {
    "duration": 0,
    "start_time": "2022-08-18T06:14:58.307Z"
   },
   {
    "duration": 0,
    "start_time": "2022-08-18T06:14:58.309Z"
   },
   {
    "duration": 33,
    "start_time": "2022-08-18T06:18:05.421Z"
   },
   {
    "duration": 29,
    "start_time": "2022-08-18T06:18:52.576Z"
   },
   {
    "duration": 43,
    "start_time": "2022-08-18T06:19:02.140Z"
   },
   {
    "duration": 32,
    "start_time": "2022-08-18T06:19:42.330Z"
   },
   {
    "duration": 61,
    "start_time": "2022-08-18T06:20:34.146Z"
   },
   {
    "duration": 61,
    "start_time": "2022-08-18T06:23:19.026Z"
   },
   {
    "duration": 68,
    "start_time": "2022-08-18T06:25:54.297Z"
   },
   {
    "duration": 55,
    "start_time": "2022-08-18T06:26:40.965Z"
   },
   {
    "duration": 44,
    "start_time": "2022-08-18T06:33:52.679Z"
   },
   {
    "duration": 53,
    "start_time": "2022-08-18T06:34:03.942Z"
   },
   {
    "duration": 49,
    "start_time": "2022-08-18T06:34:15.178Z"
   },
   {
    "duration": 18,
    "start_time": "2022-08-18T06:36:12.829Z"
   },
   {
    "duration": 20,
    "start_time": "2022-08-18T06:36:34.244Z"
   },
   {
    "duration": 3,
    "start_time": "2022-08-18T06:37:39.662Z"
   },
   {
    "duration": 442,
    "start_time": "2022-08-18T06:37:52.296Z"
   },
   {
    "duration": 6,
    "start_time": "2022-08-18T06:38:56.896Z"
   },
   {
    "duration": 11,
    "start_time": "2022-08-18T06:39:02.766Z"
   },
   {
    "duration": 15,
    "start_time": "2022-08-18T06:40:22.677Z"
   },
   {
    "duration": 314,
    "start_time": "2022-08-18T06:40:38.978Z"
   },
   {
    "duration": 229,
    "start_time": "2022-08-18T06:42:07.879Z"
   },
   {
    "duration": 258,
    "start_time": "2022-08-18T06:42:59.722Z"
   },
   {
    "duration": 689,
    "start_time": "2022-08-18T06:44:15.302Z"
   },
   {
    "duration": 798,
    "start_time": "2022-08-18T06:49:01.555Z"
   },
   {
    "duration": 85,
    "start_time": "2022-08-18T06:54:06.035Z"
   },
   {
    "duration": 87,
    "start_time": "2022-08-18T06:54:19.794Z"
   },
   {
    "duration": 28,
    "start_time": "2022-08-18T06:54:29.238Z"
   },
   {
    "duration": 18,
    "start_time": "2022-08-18T06:56:30.478Z"
   },
   {
    "duration": 83,
    "start_time": "2022-08-18T08:13:49.388Z"
   },
   {
    "duration": 1290,
    "start_time": "2022-08-18T08:14:19.758Z"
   },
   {
    "duration": 300,
    "start_time": "2022-08-18T08:14:21.050Z"
   },
   {
    "duration": 5,
    "start_time": "2022-08-18T08:14:21.351Z"
   },
   {
    "duration": 59,
    "start_time": "2022-08-18T08:14:21.358Z"
   },
   {
    "duration": 34,
    "start_time": "2022-08-18T08:14:21.419Z"
   },
   {
    "duration": 18,
    "start_time": "2022-08-18T08:14:21.455Z"
   },
   {
    "duration": 479,
    "start_time": "2022-08-18T08:14:21.474Z"
   },
   {
    "duration": 12,
    "start_time": "2022-08-18T08:14:21.955Z"
   },
   {
    "duration": 326,
    "start_time": "2022-08-18T08:14:21.969Z"
   },
   {
    "duration": 268,
    "start_time": "2022-08-18T08:14:22.297Z"
   },
   {
    "duration": 235,
    "start_time": "2022-08-18T08:14:22.567Z"
   },
   {
    "duration": 21,
    "start_time": "2022-08-18T08:14:22.804Z"
   },
   {
    "duration": 207,
    "start_time": "2022-08-18T08:14:22.827Z"
   },
   {
    "duration": 4029,
    "start_time": "2022-08-18T08:14:23.035Z"
   },
   {
    "duration": 193,
    "start_time": "2022-08-18T08:14:27.066Z"
   },
   {
    "duration": 15,
    "start_time": "2022-08-18T08:14:27.261Z"
   },
   {
    "duration": 66,
    "start_time": "2022-08-18T09:45:20.414Z"
   },
   {
    "duration": 1346,
    "start_time": "2022-08-18T09:45:44.713Z"
   },
   {
    "duration": 312,
    "start_time": "2022-08-18T09:45:46.061Z"
   },
   {
    "duration": 3,
    "start_time": "2022-08-18T09:45:46.375Z"
   },
   {
    "duration": 72,
    "start_time": "2022-08-18T09:45:46.381Z"
   },
   {
    "duration": 36,
    "start_time": "2022-08-18T09:45:46.455Z"
   },
   {
    "duration": 28,
    "start_time": "2022-08-18T09:45:46.493Z"
   },
   {
    "duration": 447,
    "start_time": "2022-08-18T09:45:46.523Z"
   },
   {
    "duration": 13,
    "start_time": "2022-08-18T09:45:46.972Z"
   },
   {
    "duration": 311,
    "start_time": "2022-08-18T09:45:46.986Z"
   },
   {
    "duration": 232,
    "start_time": "2022-08-18T09:45:47.299Z"
   },
   {
    "duration": 221,
    "start_time": "2022-08-18T09:45:47.533Z"
   },
   {
    "duration": 37,
    "start_time": "2022-08-18T09:45:47.755Z"
   },
   {
    "duration": 220,
    "start_time": "2022-08-18T09:45:47.794Z"
   },
   {
    "duration": 4062,
    "start_time": "2022-08-18T09:45:48.016Z"
   },
   {
    "duration": 188,
    "start_time": "2022-08-18T09:45:52.080Z"
   },
   {
    "duration": 13,
    "start_time": "2022-08-18T09:45:52.270Z"
   },
   {
    "duration": 145,
    "start_time": "2022-08-18T09:46:55.853Z"
   },
   {
    "duration": 1077,
    "start_time": "2022-08-18T09:47:03.045Z"
   },
   {
    "duration": 102,
    "start_time": "2022-08-18T09:47:04.125Z"
   },
   {
    "duration": 3,
    "start_time": "2022-08-18T09:47:04.229Z"
   },
   {
    "duration": 67,
    "start_time": "2022-08-18T09:47:04.234Z"
   },
   {
    "duration": 51,
    "start_time": "2022-08-18T09:47:04.304Z"
   },
   {
    "duration": 15,
    "start_time": "2022-08-18T09:47:04.357Z"
   },
   {
    "duration": 378,
    "start_time": "2022-08-18T09:47:04.374Z"
   },
   {
    "duration": 13,
    "start_time": "2022-08-18T09:47:04.753Z"
   },
   {
    "duration": 355,
    "start_time": "2022-08-18T09:47:04.767Z"
   },
   {
    "duration": 242,
    "start_time": "2022-08-18T09:47:05.124Z"
   },
   {
    "duration": 288,
    "start_time": "2022-08-18T09:47:05.368Z"
   },
   {
    "duration": 153,
    "start_time": "2022-08-18T09:47:05.658Z"
   },
   {
    "duration": 0,
    "start_time": "2022-08-18T09:47:05.812Z"
   },
   {
    "duration": 0,
    "start_time": "2022-08-18T09:47:05.813Z"
   },
   {
    "duration": 0,
    "start_time": "2022-08-18T09:47:05.814Z"
   },
   {
    "duration": 0,
    "start_time": "2022-08-18T09:47:05.815Z"
   },
   {
    "duration": 32,
    "start_time": "2022-08-18T09:58:54.842Z"
   },
   {
    "duration": 1160,
    "start_time": "2022-08-18T09:59:25.062Z"
   },
   {
    "duration": 98,
    "start_time": "2022-08-18T09:59:26.224Z"
   },
   {
    "duration": 5,
    "start_time": "2022-08-18T09:59:26.324Z"
   },
   {
    "duration": 84,
    "start_time": "2022-08-18T09:59:26.331Z"
   },
   {
    "duration": 56,
    "start_time": "2022-08-18T09:59:26.417Z"
   },
   {
    "duration": 40,
    "start_time": "2022-08-18T09:59:26.475Z"
   },
   {
    "duration": 417,
    "start_time": "2022-08-18T09:59:26.517Z"
   },
   {
    "duration": 13,
    "start_time": "2022-08-18T09:59:26.936Z"
   },
   {
    "duration": 355,
    "start_time": "2022-08-18T09:59:26.950Z"
   },
   {
    "duration": 257,
    "start_time": "2022-08-18T09:59:27.312Z"
   },
   {
    "duration": 226,
    "start_time": "2022-08-18T09:59:27.571Z"
   },
   {
    "duration": 152,
    "start_time": "2022-08-18T09:59:27.799Z"
   },
   {
    "duration": 0,
    "start_time": "2022-08-18T09:59:27.952Z"
   },
   {
    "duration": 0,
    "start_time": "2022-08-18T09:59:27.953Z"
   },
   {
    "duration": 0,
    "start_time": "2022-08-18T09:59:27.954Z"
   },
   {
    "duration": 0,
    "start_time": "2022-08-18T09:59:27.955Z"
   },
   {
    "duration": 34,
    "start_time": "2022-08-18T10:00:45.897Z"
   },
   {
    "duration": 40,
    "start_time": "2022-08-18T10:01:29.267Z"
   },
   {
    "duration": 45,
    "start_time": "2022-08-18T10:03:01.859Z"
   },
   {
    "duration": 2015,
    "start_time": "2022-08-18T10:41:50.320Z"
   },
   {
    "duration": 46,
    "start_time": "2022-08-18T10:42:07.135Z"
   },
   {
    "duration": 1110,
    "start_time": "2022-08-18T11:10:51.127Z"
   },
   {
    "duration": 153,
    "start_time": "2022-08-18T11:10:52.238Z"
   },
   {
    "duration": 4,
    "start_time": "2022-08-18T11:10:52.393Z"
   },
   {
    "duration": 72,
    "start_time": "2022-08-18T11:10:52.399Z"
   },
   {
    "duration": 70,
    "start_time": "2022-08-18T11:10:52.473Z"
   },
   {
    "duration": 17,
    "start_time": "2022-08-18T11:10:52.546Z"
   },
   {
    "duration": 440,
    "start_time": "2022-08-18T11:10:52.565Z"
   },
   {
    "duration": 27,
    "start_time": "2022-08-18T11:10:53.007Z"
   },
   {
    "duration": 362,
    "start_time": "2022-08-18T11:10:53.036Z"
   },
   {
    "duration": 238,
    "start_time": "2022-08-18T11:10:53.401Z"
   },
   {
    "duration": 230,
    "start_time": "2022-08-18T11:10:53.641Z"
   },
   {
    "duration": 187,
    "start_time": "2022-08-18T11:10:53.873Z"
   },
   {
    "duration": 0,
    "start_time": "2022-08-18T11:10:54.062Z"
   },
   {
    "duration": 0,
    "start_time": "2022-08-18T11:10:54.063Z"
   },
   {
    "duration": 0,
    "start_time": "2022-08-18T11:10:54.064Z"
   },
   {
    "duration": 0,
    "start_time": "2022-08-18T11:10:54.065Z"
   },
   {
    "duration": 50,
    "start_time": "2022-08-18T11:12:32.273Z"
   },
   {
    "duration": 1176,
    "start_time": "2022-08-18T11:12:42.452Z"
   },
   {
    "duration": 98,
    "start_time": "2022-08-18T11:12:43.630Z"
   },
   {
    "duration": 4,
    "start_time": "2022-08-18T11:12:43.731Z"
   },
   {
    "duration": 54,
    "start_time": "2022-08-18T11:12:43.736Z"
   },
   {
    "duration": 53,
    "start_time": "2022-08-18T11:12:43.791Z"
   },
   {
    "duration": 16,
    "start_time": "2022-08-18T11:12:43.846Z"
   },
   {
    "duration": 385,
    "start_time": "2022-08-18T11:12:43.863Z"
   },
   {
    "duration": 13,
    "start_time": "2022-08-18T11:12:44.249Z"
   },
   {
    "duration": 326,
    "start_time": "2022-08-18T11:12:44.264Z"
   },
   {
    "duration": 239,
    "start_time": "2022-08-18T11:12:44.592Z"
   },
   {
    "duration": 228,
    "start_time": "2022-08-18T11:12:44.833Z"
   },
   {
    "duration": 160,
    "start_time": "2022-08-18T11:12:45.063Z"
   },
   {
    "duration": 0,
    "start_time": "2022-08-18T11:12:45.225Z"
   },
   {
    "duration": 0,
    "start_time": "2022-08-18T11:12:45.227Z"
   },
   {
    "duration": 0,
    "start_time": "2022-08-18T11:12:45.227Z"
   },
   {
    "duration": 0,
    "start_time": "2022-08-18T11:12:45.228Z"
   },
   {
    "duration": 25,
    "start_time": "2022-08-18T11:13:33.078Z"
   },
   {
    "duration": 1136,
    "start_time": "2022-08-18T11:13:43.259Z"
   },
   {
    "duration": 111,
    "start_time": "2022-08-18T11:13:44.397Z"
   },
   {
    "duration": 13,
    "start_time": "2022-08-18T11:13:44.509Z"
   },
   {
    "duration": 57,
    "start_time": "2022-08-18T11:13:44.524Z"
   },
   {
    "duration": 63,
    "start_time": "2022-08-18T11:13:44.583Z"
   },
   {
    "duration": 16,
    "start_time": "2022-08-18T11:13:44.647Z"
   },
   {
    "duration": 393,
    "start_time": "2022-08-18T11:13:44.664Z"
   },
   {
    "duration": 13,
    "start_time": "2022-08-18T11:13:45.058Z"
   },
   {
    "duration": 324,
    "start_time": "2022-08-18T11:13:45.072Z"
   },
   {
    "duration": 238,
    "start_time": "2022-08-18T11:13:45.398Z"
   },
   {
    "duration": 223,
    "start_time": "2022-08-18T11:13:45.638Z"
   },
   {
    "duration": 133,
    "start_time": "2022-08-18T11:13:45.863Z"
   },
   {
    "duration": 0,
    "start_time": "2022-08-18T11:13:45.997Z"
   },
   {
    "duration": 0,
    "start_time": "2022-08-18T11:13:45.998Z"
   },
   {
    "duration": 0,
    "start_time": "2022-08-18T11:13:45.999Z"
   },
   {
    "duration": 0,
    "start_time": "2022-08-18T11:13:46.000Z"
   },
   {
    "duration": 24,
    "start_time": "2022-08-18T11:14:06.022Z"
   },
   {
    "duration": 27,
    "start_time": "2022-08-18T11:14:52.473Z"
   },
   {
    "duration": 30,
    "start_time": "2022-08-18T11:15:44.143Z"
   },
   {
    "duration": 30,
    "start_time": "2022-08-18T11:16:20.744Z"
   },
   {
    "duration": 36,
    "start_time": "2022-08-18T11:17:52.559Z"
   },
   {
    "duration": 53,
    "start_time": "2022-08-18T11:18:27.647Z"
   },
   {
    "duration": 46,
    "start_time": "2022-08-18T11:35:08.766Z"
   },
   {
    "duration": 36,
    "start_time": "2022-08-18T11:35:36.748Z"
   },
   {
    "duration": 32,
    "start_time": "2022-08-18T11:35:55.271Z"
   },
   {
    "duration": 34,
    "start_time": "2022-08-18T11:45:03.697Z"
   },
   {
    "duration": 37,
    "start_time": "2022-08-18T11:45:57.700Z"
   },
   {
    "duration": 33,
    "start_time": "2022-08-18T11:46:23.911Z"
   },
   {
    "duration": 32,
    "start_time": "2022-08-18T11:47:01.377Z"
   },
   {
    "duration": 33,
    "start_time": "2022-08-18T11:50:00.922Z"
   },
   {
    "duration": 26,
    "start_time": "2022-08-18T11:50:14.718Z"
   },
   {
    "duration": 1114,
    "start_time": "2022-08-18T11:50:25.716Z"
   },
   {
    "duration": 123,
    "start_time": "2022-08-18T11:50:26.832Z"
   },
   {
    "duration": 4,
    "start_time": "2022-08-18T11:50:26.957Z"
   },
   {
    "duration": 62,
    "start_time": "2022-08-18T11:50:26.962Z"
   },
   {
    "duration": 36,
    "start_time": "2022-08-18T11:50:27.027Z"
   },
   {
    "duration": 15,
    "start_time": "2022-08-18T11:50:27.064Z"
   },
   {
    "duration": 377,
    "start_time": "2022-08-18T11:50:27.081Z"
   },
   {
    "duration": 13,
    "start_time": "2022-08-18T11:50:27.459Z"
   },
   {
    "duration": 327,
    "start_time": "2022-08-18T11:50:27.474Z"
   },
   {
    "duration": 240,
    "start_time": "2022-08-18T11:50:27.803Z"
   },
   {
    "duration": 235,
    "start_time": "2022-08-18T11:50:28.045Z"
   },
   {
    "duration": 38,
    "start_time": "2022-08-18T11:50:28.282Z"
   },
   {
    "duration": 211,
    "start_time": "2022-08-18T11:50:28.322Z"
   },
   {
    "duration": 4157,
    "start_time": "2022-08-18T11:50:28.536Z"
   },
   {
    "duration": 208,
    "start_time": "2022-08-18T11:50:32.695Z"
   },
   {
    "duration": 13,
    "start_time": "2022-08-18T11:50:32.905Z"
   },
   {
    "duration": 57,
    "start_time": "2022-08-18T15:21:02.093Z"
   },
   {
    "duration": 1286,
    "start_time": "2022-08-18T15:21:10.346Z"
   },
   {
    "duration": 302,
    "start_time": "2022-08-18T15:21:11.634Z"
   },
   {
    "duration": 4,
    "start_time": "2022-08-18T15:21:11.937Z"
   },
   {
    "duration": 56,
    "start_time": "2022-08-18T15:21:11.943Z"
   },
   {
    "duration": 40,
    "start_time": "2022-08-18T15:21:12.001Z"
   },
   {
    "duration": 15,
    "start_time": "2022-08-18T15:21:12.043Z"
   },
   {
    "duration": 431,
    "start_time": "2022-08-18T15:21:12.060Z"
   },
   {
    "duration": 29,
    "start_time": "2022-08-18T15:21:12.493Z"
   },
   {
    "duration": 327,
    "start_time": "2022-08-18T15:21:12.524Z"
   },
   {
    "duration": 227,
    "start_time": "2022-08-18T15:21:12.854Z"
   },
   {
    "duration": 239,
    "start_time": "2022-08-18T15:21:13.082Z"
   },
   {
    "duration": 1418,
    "start_time": "2022-08-18T15:21:13.323Z"
   },
   {
    "duration": 0,
    "start_time": "2022-08-18T15:21:14.743Z"
   },
   {
    "duration": 0,
    "start_time": "2022-08-18T15:21:14.744Z"
   },
   {
    "duration": 0,
    "start_time": "2022-08-18T15:21:14.745Z"
   },
   {
    "duration": 0,
    "start_time": "2022-08-18T15:21:14.746Z"
   },
   {
    "duration": 1781,
    "start_time": "2022-08-18T15:22:24.226Z"
   },
   {
    "duration": 40,
    "start_time": "2022-08-18T15:23:15.850Z"
   },
   {
    "duration": 35,
    "start_time": "2022-08-18T15:28:49.546Z"
   },
   {
    "duration": 93,
    "start_time": "2022-08-18T15:33:52.536Z"
   },
   {
    "duration": 31,
    "start_time": "2022-08-18T15:34:11.456Z"
   },
   {
    "duration": 1145,
    "start_time": "2022-08-18T16:02:18.680Z"
   },
   {
    "duration": 102,
    "start_time": "2022-08-18T16:02:19.827Z"
   },
   {
    "duration": 4,
    "start_time": "2022-08-18T16:02:19.930Z"
   },
   {
    "duration": 57,
    "start_time": "2022-08-18T16:02:19.936Z"
   },
   {
    "duration": 44,
    "start_time": "2022-08-18T16:02:19.995Z"
   },
   {
    "duration": 15,
    "start_time": "2022-08-18T16:02:20.041Z"
   },
   {
    "duration": 384,
    "start_time": "2022-08-18T16:02:20.057Z"
   },
   {
    "duration": 12,
    "start_time": "2022-08-18T16:02:20.443Z"
   },
   {
    "duration": 341,
    "start_time": "2022-08-18T16:02:20.456Z"
   },
   {
    "duration": 222,
    "start_time": "2022-08-18T16:02:20.810Z"
   },
   {
    "duration": 226,
    "start_time": "2022-08-18T16:02:21.033Z"
   },
   {
    "duration": 103,
    "start_time": "2022-08-18T16:02:21.260Z"
   },
   {
    "duration": 0,
    "start_time": "2022-08-18T16:02:21.365Z"
   },
   {
    "duration": 0,
    "start_time": "2022-08-18T16:02:21.366Z"
   },
   {
    "duration": 0,
    "start_time": "2022-08-18T16:02:21.367Z"
   },
   {
    "duration": 0,
    "start_time": "2022-08-18T16:02:21.368Z"
   },
   {
    "duration": 16,
    "start_time": "2022-08-18T16:05:55.211Z"
   },
   {
    "duration": 1055,
    "start_time": "2022-08-18T16:06:13.756Z"
   },
   {
    "duration": 103,
    "start_time": "2022-08-18T16:06:14.813Z"
   },
   {
    "duration": 4,
    "start_time": "2022-08-18T16:06:14.918Z"
   },
   {
    "duration": 53,
    "start_time": "2022-08-18T16:06:14.924Z"
   },
   {
    "duration": 53,
    "start_time": "2022-08-18T16:06:14.980Z"
   },
   {
    "duration": 17,
    "start_time": "2022-08-18T16:06:15.035Z"
   },
   {
    "duration": 388,
    "start_time": "2022-08-18T16:06:15.054Z"
   },
   {
    "duration": 17,
    "start_time": "2022-08-18T16:06:15.444Z"
   },
   {
    "duration": 326,
    "start_time": "2022-08-18T16:06:15.463Z"
   },
   {
    "duration": 230,
    "start_time": "2022-08-18T16:06:15.790Z"
   },
   {
    "duration": 220,
    "start_time": "2022-08-18T16:06:16.021Z"
   },
   {
    "duration": 145,
    "start_time": "2022-08-18T16:06:16.243Z"
   },
   {
    "duration": 0,
    "start_time": "2022-08-18T16:06:16.390Z"
   },
   {
    "duration": 0,
    "start_time": "2022-08-18T16:06:16.391Z"
   },
   {
    "duration": 0,
    "start_time": "2022-08-18T16:06:16.392Z"
   },
   {
    "duration": 0,
    "start_time": "2022-08-18T16:06:16.393Z"
   },
   {
    "duration": 179,
    "start_time": "2022-08-18T16:06:56.654Z"
   },
   {
    "duration": 3227,
    "start_time": "2022-08-18T16:07:35.389Z"
   },
   {
    "duration": 3325,
    "start_time": "2022-08-18T16:26:36.698Z"
   },
   {
    "duration": 1092,
    "start_time": "2022-08-18T16:29:02.637Z"
   },
   {
    "duration": 269,
    "start_time": "2022-08-18T16:29:03.731Z"
   },
   {
    "duration": 4,
    "start_time": "2022-08-18T16:29:04.001Z"
   },
   {
    "duration": 59,
    "start_time": "2022-08-18T16:29:04.007Z"
   },
   {
    "duration": 45,
    "start_time": "2022-08-18T16:29:04.069Z"
   },
   {
    "duration": 17,
    "start_time": "2022-08-18T16:29:04.116Z"
   },
   {
    "duration": 408,
    "start_time": "2022-08-18T16:29:04.135Z"
   },
   {
    "duration": 13,
    "start_time": "2022-08-18T16:29:04.545Z"
   },
   {
    "duration": 320,
    "start_time": "2022-08-18T16:29:04.560Z"
   },
   {
    "duration": 230,
    "start_time": "2022-08-18T16:29:04.882Z"
   },
   {
    "duration": 221,
    "start_time": "2022-08-18T16:29:05.113Z"
   },
   {
    "duration": 156,
    "start_time": "2022-08-18T16:29:05.336Z"
   },
   {
    "duration": 0,
    "start_time": "2022-08-18T16:29:05.494Z"
   },
   {
    "duration": 0,
    "start_time": "2022-08-18T16:29:05.495Z"
   },
   {
    "duration": 0,
    "start_time": "2022-08-18T16:29:05.496Z"
   },
   {
    "duration": 0,
    "start_time": "2022-08-18T16:29:05.497Z"
   },
   {
    "duration": 1125,
    "start_time": "2022-08-18T16:29:35.900Z"
   },
   {
    "duration": 90,
    "start_time": "2022-08-18T16:29:37.027Z"
   },
   {
    "duration": 4,
    "start_time": "2022-08-18T16:29:37.118Z"
   },
   {
    "duration": 64,
    "start_time": "2022-08-18T16:29:37.123Z"
   },
   {
    "duration": 40,
    "start_time": "2022-08-18T16:29:37.189Z"
   },
   {
    "duration": 17,
    "start_time": "2022-08-18T16:29:37.230Z"
   },
   {
    "duration": 394,
    "start_time": "2022-08-18T16:29:37.248Z"
   },
   {
    "duration": 12,
    "start_time": "2022-08-18T16:29:37.643Z"
   },
   {
    "duration": 326,
    "start_time": "2022-08-18T16:29:37.657Z"
   },
   {
    "duration": 222,
    "start_time": "2022-08-18T16:29:37.985Z"
   },
   {
    "duration": 221,
    "start_time": "2022-08-18T16:29:38.211Z"
   },
   {
    "duration": 141,
    "start_time": "2022-08-18T16:29:38.434Z"
   },
   {
    "duration": 0,
    "start_time": "2022-08-18T16:29:38.577Z"
   },
   {
    "duration": 0,
    "start_time": "2022-08-18T16:29:38.578Z"
   },
   {
    "duration": 0,
    "start_time": "2022-08-18T16:29:38.579Z"
   },
   {
    "duration": 0,
    "start_time": "2022-08-18T16:29:38.580Z"
   },
   {
    "duration": 1075,
    "start_time": "2022-08-18T16:30:07.057Z"
   },
   {
    "duration": 128,
    "start_time": "2022-08-18T16:30:08.134Z"
   },
   {
    "duration": 4,
    "start_time": "2022-08-18T16:30:08.264Z"
   },
   {
    "duration": 63,
    "start_time": "2022-08-18T16:30:08.270Z"
   },
   {
    "duration": 38,
    "start_time": "2022-08-18T16:30:08.335Z"
   },
   {
    "duration": 38,
    "start_time": "2022-08-18T16:30:08.375Z"
   },
   {
    "duration": 353,
    "start_time": "2022-08-18T16:30:08.415Z"
   },
   {
    "duration": 13,
    "start_time": "2022-08-18T16:30:08.770Z"
   },
   {
    "duration": 310,
    "start_time": "2022-08-18T16:30:08.785Z"
   },
   {
    "duration": 217,
    "start_time": "2022-08-18T16:30:09.097Z"
   },
   {
    "duration": 241,
    "start_time": "2022-08-18T16:30:09.315Z"
   },
   {
    "duration": 135,
    "start_time": "2022-08-18T16:30:09.558Z"
   },
   {
    "duration": 0,
    "start_time": "2022-08-18T16:30:09.695Z"
   },
   {
    "duration": 0,
    "start_time": "2022-08-18T16:30:09.696Z"
   },
   {
    "duration": 0,
    "start_time": "2022-08-18T16:30:09.697Z"
   },
   {
    "duration": 0,
    "start_time": "2022-08-18T16:30:09.698Z"
   },
   {
    "duration": 1179,
    "start_time": "2022-08-18T16:31:11.392Z"
   },
   {
    "duration": 144,
    "start_time": "2022-08-18T16:31:12.573Z"
   },
   {
    "duration": 5,
    "start_time": "2022-08-18T16:31:12.719Z"
   },
   {
    "duration": 56,
    "start_time": "2022-08-18T16:31:12.726Z"
   },
   {
    "duration": 50,
    "start_time": "2022-08-18T16:31:12.783Z"
   },
   {
    "duration": 16,
    "start_time": "2022-08-18T16:31:12.835Z"
   },
   {
    "duration": 394,
    "start_time": "2022-08-18T16:31:12.853Z"
   },
   {
    "duration": 13,
    "start_time": "2022-08-18T16:31:13.248Z"
   },
   {
    "duration": 320,
    "start_time": "2022-08-18T16:31:13.262Z"
   },
   {
    "duration": 223,
    "start_time": "2022-08-18T16:31:13.584Z"
   },
   {
    "duration": 220,
    "start_time": "2022-08-18T16:31:13.810Z"
   },
   {
    "duration": 138,
    "start_time": "2022-08-18T16:31:14.031Z"
   },
   {
    "duration": 0,
    "start_time": "2022-08-18T16:31:14.171Z"
   },
   {
    "duration": 0,
    "start_time": "2022-08-18T16:31:14.173Z"
   },
   {
    "duration": 0,
    "start_time": "2022-08-18T16:31:14.173Z"
   },
   {
    "duration": 0,
    "start_time": "2022-08-18T16:31:14.175Z"
   },
   {
    "duration": 2553,
    "start_time": "2022-08-18T16:33:09.482Z"
   },
   {
    "duration": 2448,
    "start_time": "2022-08-18T16:34:02.002Z"
   },
   {
    "duration": 1148,
    "start_time": "2022-08-18T16:35:01.218Z"
   },
   {
    "duration": 359,
    "start_time": "2022-08-18T16:35:02.368Z"
   },
   {
    "duration": 4,
    "start_time": "2022-08-18T16:35:02.728Z"
   },
   {
    "duration": 74,
    "start_time": "2022-08-18T16:35:02.735Z"
   },
   {
    "duration": 35,
    "start_time": "2022-08-18T16:35:02.811Z"
   },
   {
    "duration": 15,
    "start_time": "2022-08-18T16:35:02.848Z"
   },
   {
    "duration": 379,
    "start_time": "2022-08-18T16:35:02.864Z"
   },
   {
    "duration": 13,
    "start_time": "2022-08-18T16:35:03.244Z"
   },
   {
    "duration": 320,
    "start_time": "2022-08-18T16:35:03.259Z"
   },
   {
    "duration": 228,
    "start_time": "2022-08-18T16:35:03.581Z"
   },
   {
    "duration": 215,
    "start_time": "2022-08-18T16:35:03.811Z"
   },
   {
    "duration": 150,
    "start_time": "2022-08-18T16:35:04.028Z"
   },
   {
    "duration": 0,
    "start_time": "2022-08-18T16:35:04.179Z"
   },
   {
    "duration": 0,
    "start_time": "2022-08-18T16:35:04.181Z"
   },
   {
    "duration": 0,
    "start_time": "2022-08-18T16:35:04.183Z"
   },
   {
    "duration": 0,
    "start_time": "2022-08-18T16:35:04.184Z"
   },
   {
    "duration": 1112,
    "start_time": "2022-08-18T16:35:58.096Z"
   },
   {
    "duration": 92,
    "start_time": "2022-08-18T16:35:59.210Z"
   },
   {
    "duration": 4,
    "start_time": "2022-08-18T16:35:59.303Z"
   },
   {
    "duration": 52,
    "start_time": "2022-08-18T16:35:59.308Z"
   },
   {
    "duration": 38,
    "start_time": "2022-08-18T16:35:59.362Z"
   },
   {
    "duration": 18,
    "start_time": "2022-08-18T16:35:59.411Z"
   },
   {
    "duration": 400,
    "start_time": "2022-08-18T16:35:59.431Z"
   },
   {
    "duration": 13,
    "start_time": "2022-08-18T16:35:59.832Z"
   },
   {
    "duration": 336,
    "start_time": "2022-08-18T16:35:59.846Z"
   },
   {
    "duration": 237,
    "start_time": "2022-08-18T16:36:00.183Z"
   },
   {
    "duration": 226,
    "start_time": "2022-08-18T16:36:00.422Z"
   },
   {
    "duration": 140,
    "start_time": "2022-08-18T16:36:00.650Z"
   },
   {
    "duration": 0,
    "start_time": "2022-08-18T16:36:00.791Z"
   },
   {
    "duration": 0,
    "start_time": "2022-08-18T16:36:00.793Z"
   },
   {
    "duration": 0,
    "start_time": "2022-08-18T16:36:00.794Z"
   },
   {
    "duration": 0,
    "start_time": "2022-08-18T16:36:00.795Z"
   },
   {
    "duration": 2288,
    "start_time": "2022-08-18T16:36:24.138Z"
   },
   {
    "duration": 2470,
    "start_time": "2022-08-18T16:36:47.246Z"
   },
   {
    "duration": 2304,
    "start_time": "2022-08-18T16:40:43.964Z"
   },
   {
    "duration": 1078,
    "start_time": "2022-08-18T16:40:53.347Z"
   },
   {
    "duration": 90,
    "start_time": "2022-08-18T16:40:54.427Z"
   },
   {
    "duration": 4,
    "start_time": "2022-08-18T16:40:54.518Z"
   },
   {
    "duration": 52,
    "start_time": "2022-08-18T16:40:54.524Z"
   },
   {
    "duration": 48,
    "start_time": "2022-08-18T16:40:54.578Z"
   },
   {
    "duration": 16,
    "start_time": "2022-08-18T16:40:54.628Z"
   },
   {
    "duration": 411,
    "start_time": "2022-08-18T16:40:54.645Z"
   },
   {
    "duration": 12,
    "start_time": "2022-08-18T16:40:55.058Z"
   },
   {
    "duration": 315,
    "start_time": "2022-08-18T16:40:55.071Z"
   },
   {
    "duration": 232,
    "start_time": "2022-08-18T16:40:55.388Z"
   },
   {
    "duration": 228,
    "start_time": "2022-08-18T16:40:55.621Z"
   },
   {
    "duration": 136,
    "start_time": "2022-08-18T16:40:55.851Z"
   },
   {
    "duration": 0,
    "start_time": "2022-08-18T16:40:55.990Z"
   },
   {
    "duration": 0,
    "start_time": "2022-08-18T16:40:55.991Z"
   },
   {
    "duration": 0,
    "start_time": "2022-08-18T16:40:55.991Z"
   },
   {
    "duration": 0,
    "start_time": "2022-08-18T16:40:55.992Z"
   },
   {
    "duration": 1085,
    "start_time": "2022-08-18T16:41:21.340Z"
   },
   {
    "duration": 103,
    "start_time": "2022-08-18T16:41:22.426Z"
   },
   {
    "duration": 5,
    "start_time": "2022-08-18T16:41:22.531Z"
   },
   {
    "duration": 79,
    "start_time": "2022-08-18T16:41:22.538Z"
   },
   {
    "duration": 45,
    "start_time": "2022-08-18T16:41:22.620Z"
   },
   {
    "duration": 20,
    "start_time": "2022-08-18T16:41:22.667Z"
   },
   {
    "duration": 393,
    "start_time": "2022-08-18T16:41:22.690Z"
   },
   {
    "duration": 12,
    "start_time": "2022-08-18T16:41:23.085Z"
   },
   {
    "duration": 305,
    "start_time": "2022-08-18T16:41:23.110Z"
   },
   {
    "duration": 223,
    "start_time": "2022-08-18T16:41:23.416Z"
   },
   {
    "duration": 221,
    "start_time": "2022-08-18T16:41:23.641Z"
   },
   {
    "duration": 144,
    "start_time": "2022-08-18T16:41:23.864Z"
   },
   {
    "duration": 0,
    "start_time": "2022-08-18T16:41:24.011Z"
   },
   {
    "duration": 0,
    "start_time": "2022-08-18T16:41:24.012Z"
   },
   {
    "duration": 0,
    "start_time": "2022-08-18T16:41:24.013Z"
   },
   {
    "duration": 1,
    "start_time": "2022-08-18T16:41:24.013Z"
   },
   {
    "duration": 1082,
    "start_time": "2022-08-18T16:42:50.046Z"
   },
   {
    "duration": 93,
    "start_time": "2022-08-18T16:42:51.130Z"
   },
   {
    "duration": 4,
    "start_time": "2022-08-18T16:42:51.224Z"
   },
   {
    "duration": 58,
    "start_time": "2022-08-18T16:42:51.230Z"
   },
   {
    "duration": 45,
    "start_time": "2022-08-18T16:42:51.291Z"
   },
   {
    "duration": 16,
    "start_time": "2022-08-18T16:42:51.338Z"
   },
   {
    "duration": 384,
    "start_time": "2022-08-18T16:42:51.356Z"
   },
   {
    "duration": 13,
    "start_time": "2022-08-18T16:42:51.742Z"
   },
   {
    "duration": 327,
    "start_time": "2022-08-18T16:42:51.756Z"
   },
   {
    "duration": 229,
    "start_time": "2022-08-18T16:42:52.084Z"
   },
   {
    "duration": 229,
    "start_time": "2022-08-18T16:42:52.314Z"
   },
   {
    "duration": 173,
    "start_time": "2022-08-18T16:42:52.545Z"
   },
   {
    "duration": 0,
    "start_time": "2022-08-18T16:42:52.719Z"
   },
   {
    "duration": 0,
    "start_time": "2022-08-18T16:42:52.721Z"
   },
   {
    "duration": 0,
    "start_time": "2022-08-18T16:42:52.722Z"
   },
   {
    "duration": 0,
    "start_time": "2022-08-18T16:42:52.723Z"
   },
   {
    "duration": 26,
    "start_time": "2022-08-18T16:44:33.608Z"
   },
   {
    "duration": 192,
    "start_time": "2022-08-18T16:44:42.719Z"
   },
   {
    "duration": 2209,
    "start_time": "2022-08-18T16:44:54.156Z"
   },
   {
    "duration": 124,
    "start_time": "2022-08-19T02:59:22.499Z"
   },
   {
    "duration": 78,
    "start_time": "2022-08-19T03:02:05.877Z"
   },
   {
    "duration": 58,
    "start_time": "2022-08-19T03:02:51.610Z"
   },
   {
    "duration": 1576,
    "start_time": "2022-08-19T03:03:05.411Z"
   },
   {
    "duration": 344,
    "start_time": "2022-08-19T03:03:06.990Z"
   },
   {
    "duration": 6,
    "start_time": "2022-08-19T03:03:07.337Z"
   },
   {
    "duration": 87,
    "start_time": "2022-08-19T03:03:07.346Z"
   },
   {
    "duration": 38,
    "start_time": "2022-08-19T03:03:07.435Z"
   },
   {
    "duration": 36,
    "start_time": "2022-08-19T03:03:07.475Z"
   },
   {
    "duration": 522,
    "start_time": "2022-08-19T03:03:07.516Z"
   },
   {
    "duration": 16,
    "start_time": "2022-08-19T03:03:08.040Z"
   },
   {
    "duration": 372,
    "start_time": "2022-08-19T03:03:08.058Z"
   },
   {
    "duration": 294,
    "start_time": "2022-08-19T03:03:08.434Z"
   },
   {
    "duration": 303,
    "start_time": "2022-08-19T03:03:08.731Z"
   },
   {
    "duration": 166,
    "start_time": "2022-08-19T03:03:09.036Z"
   },
   {
    "duration": 0,
    "start_time": "2022-08-19T03:03:09.206Z"
   },
   {
    "duration": 0,
    "start_time": "2022-08-19T03:03:09.207Z"
   },
   {
    "duration": 0,
    "start_time": "2022-08-19T03:03:09.208Z"
   },
   {
    "duration": 0,
    "start_time": "2022-08-19T03:03:09.209Z"
   },
   {
    "duration": 1238,
    "start_time": "2022-08-19T03:09:37.800Z"
   },
   {
    "duration": 1165,
    "start_time": "2022-08-19T03:09:58.156Z"
   },
   {
    "duration": 92,
    "start_time": "2022-08-19T03:09:59.323Z"
   },
   {
    "duration": 4,
    "start_time": "2022-08-19T03:09:59.416Z"
   },
   {
    "duration": 95,
    "start_time": "2022-08-19T03:09:59.422Z"
   },
   {
    "duration": 39,
    "start_time": "2022-08-19T03:09:59.520Z"
   },
   {
    "duration": 34,
    "start_time": "2022-08-19T03:09:59.561Z"
   },
   {
    "duration": 448,
    "start_time": "2022-08-19T03:09:59.597Z"
   },
   {
    "duration": 13,
    "start_time": "2022-08-19T03:10:00.047Z"
   },
   {
    "duration": 342,
    "start_time": "2022-08-19T03:10:00.062Z"
   },
   {
    "duration": 233,
    "start_time": "2022-08-19T03:10:00.407Z"
   },
   {
    "duration": 260,
    "start_time": "2022-08-19T03:10:00.642Z"
   },
   {
    "duration": 1544,
    "start_time": "2022-08-19T03:10:00.904Z"
   },
   {
    "duration": 0,
    "start_time": "2022-08-19T03:10:02.450Z"
   },
   {
    "duration": 0,
    "start_time": "2022-08-19T03:10:02.451Z"
   },
   {
    "duration": 0,
    "start_time": "2022-08-19T03:10:02.452Z"
   },
   {
    "duration": 0,
    "start_time": "2022-08-19T03:10:02.452Z"
   },
   {
    "duration": 86,
    "start_time": "2022-08-19T03:16:31.095Z"
   },
   {
    "duration": 78,
    "start_time": "2022-08-19T03:16:43.211Z"
   },
   {
    "duration": 175,
    "start_time": "2022-08-19T03:24:34.673Z"
   },
   {
    "duration": 243,
    "start_time": "2022-08-19T03:24:53.909Z"
   },
   {
    "duration": 280,
    "start_time": "2022-08-19T03:28:54.049Z"
   },
   {
    "duration": 759,
    "start_time": "2022-08-19T03:34:02.215Z"
   },
   {
    "duration": 541,
    "start_time": "2022-08-19T03:34:35.925Z"
   },
   {
    "duration": 689,
    "start_time": "2022-08-19T03:39:13.179Z"
   },
   {
    "duration": 380,
    "start_time": "2022-08-19T03:43:29.136Z"
   },
   {
    "duration": 441,
    "start_time": "2022-08-19T03:48:34.796Z"
   },
   {
    "duration": 57,
    "start_time": "2022-08-19T05:56:55.896Z"
   },
   {
    "duration": 1368,
    "start_time": "2022-08-19T05:57:02.616Z"
   },
   {
    "duration": 265,
    "start_time": "2022-08-19T05:57:03.987Z"
   },
   {
    "duration": 4,
    "start_time": "2022-08-19T05:57:04.254Z"
   },
   {
    "duration": 59,
    "start_time": "2022-08-19T05:57:04.260Z"
   },
   {
    "duration": 45,
    "start_time": "2022-08-19T05:57:04.320Z"
   },
   {
    "duration": 18,
    "start_time": "2022-08-19T05:57:04.367Z"
   },
   {
    "duration": 452,
    "start_time": "2022-08-19T05:57:04.386Z"
   },
   {
    "duration": 20,
    "start_time": "2022-08-19T05:57:04.840Z"
   },
   {
    "duration": 314,
    "start_time": "2022-08-19T05:57:04.861Z"
   },
   {
    "duration": 286,
    "start_time": "2022-08-19T05:57:05.178Z"
   },
   {
    "duration": 259,
    "start_time": "2022-08-19T05:57:05.466Z"
   },
   {
    "duration": 394,
    "start_time": "2022-08-19T05:57:05.727Z"
   },
   {
    "duration": 270,
    "start_time": "2022-08-19T05:57:06.123Z"
   },
   {
    "duration": 4134,
    "start_time": "2022-08-19T05:57:06.395Z"
   },
   {
    "duration": 204,
    "start_time": "2022-08-19T05:57:10.530Z"
   },
   {
    "duration": 24,
    "start_time": "2022-08-19T05:57:10.735Z"
   },
   {
    "duration": 353,
    "start_time": "2022-08-19T05:59:24.375Z"
   },
   {
    "duration": 1099,
    "start_time": "2022-08-19T06:01:22.799Z"
   },
   {
    "duration": 121,
    "start_time": "2022-08-19T06:01:23.900Z"
   },
   {
    "duration": 4,
    "start_time": "2022-08-19T06:01:24.023Z"
   },
   {
    "duration": 59,
    "start_time": "2022-08-19T06:01:24.029Z"
   },
   {
    "duration": 35,
    "start_time": "2022-08-19T06:01:24.090Z"
   },
   {
    "duration": 15,
    "start_time": "2022-08-19T06:01:24.127Z"
   },
   {
    "duration": 365,
    "start_time": "2022-08-19T06:01:24.158Z"
   },
   {
    "duration": 14,
    "start_time": "2022-08-19T06:01:24.524Z"
   },
   {
    "duration": 320,
    "start_time": "2022-08-19T06:01:24.539Z"
   },
   {
    "duration": 235,
    "start_time": "2022-08-19T06:01:24.862Z"
   },
   {
    "duration": 291,
    "start_time": "2022-08-19T06:01:25.098Z"
   },
   {
    "duration": 384,
    "start_time": "2022-08-19T06:01:25.390Z"
   },
   {
    "duration": 270,
    "start_time": "2022-08-19T06:01:25.776Z"
   },
   {
    "duration": 3385,
    "start_time": "2022-08-19T06:01:26.048Z"
   },
   {
    "duration": 199,
    "start_time": "2022-08-19T06:01:29.434Z"
   },
   {
    "duration": 24,
    "start_time": "2022-08-19T06:01:29.635Z"
   },
   {
    "duration": 1116,
    "start_time": "2022-08-19T06:08:09.280Z"
   },
   {
    "duration": 87,
    "start_time": "2022-08-19T06:08:10.398Z"
   },
   {
    "duration": 4,
    "start_time": "2022-08-19T06:08:10.487Z"
   },
   {
    "duration": 70,
    "start_time": "2022-08-19T06:08:10.494Z"
   },
   {
    "duration": 37,
    "start_time": "2022-08-19T06:08:10.566Z"
   },
   {
    "duration": 18,
    "start_time": "2022-08-19T06:08:10.605Z"
   },
   {
    "duration": 502,
    "start_time": "2022-08-19T06:08:10.625Z"
   },
   {
    "duration": 14,
    "start_time": "2022-08-19T06:08:11.129Z"
   },
   {
    "duration": 451,
    "start_time": "2022-08-19T06:08:11.144Z"
   },
   {
    "duration": 429,
    "start_time": "2022-08-19T06:08:11.598Z"
   },
   {
    "duration": 298,
    "start_time": "2022-08-19T06:08:12.029Z"
   },
   {
    "duration": 501,
    "start_time": "2022-08-19T06:08:12.328Z"
   },
   {
    "duration": 311,
    "start_time": "2022-08-19T06:08:12.831Z"
   },
   {
    "duration": 4239,
    "start_time": "2022-08-19T06:08:13.143Z"
   },
   {
    "duration": 283,
    "start_time": "2022-08-19T06:08:17.384Z"
   },
   {
    "duration": 14,
    "start_time": "2022-08-19T06:08:17.669Z"
   },
   {
    "duration": 1192,
    "start_time": "2022-08-19T06:38:35.683Z"
   },
   {
    "duration": 93,
    "start_time": "2022-08-19T06:38:36.876Z"
   },
   {
    "duration": 5,
    "start_time": "2022-08-19T06:38:36.970Z"
   },
   {
    "duration": 60,
    "start_time": "2022-08-19T06:38:36.977Z"
   },
   {
    "duration": 49,
    "start_time": "2022-08-19T06:38:37.039Z"
   },
   {
    "duration": 16,
    "start_time": "2022-08-19T06:38:37.089Z"
   },
   {
    "duration": 462,
    "start_time": "2022-08-19T06:38:37.106Z"
   },
   {
    "duration": 14,
    "start_time": "2022-08-19T06:38:37.570Z"
   },
   {
    "duration": 413,
    "start_time": "2022-08-19T06:38:37.585Z"
   },
   {
    "duration": 291,
    "start_time": "2022-08-19T06:38:38.000Z"
   },
   {
    "duration": 290,
    "start_time": "2022-08-19T06:38:38.292Z"
   },
   {
    "duration": 440,
    "start_time": "2022-08-19T06:38:38.584Z"
   },
   {
    "duration": 261,
    "start_time": "2022-08-19T06:38:39.026Z"
   },
   {
    "duration": 4158,
    "start_time": "2022-08-19T06:38:39.289Z"
   },
   {
    "duration": 264,
    "start_time": "2022-08-19T06:38:43.449Z"
   },
   {
    "duration": 15,
    "start_time": "2022-08-19T06:38:43.715Z"
   },
   {
    "duration": 137,
    "start_time": "2022-08-19T06:46:17.436Z"
   },
   {
    "duration": 12,
    "start_time": "2022-08-19T06:46:27.650Z"
   },
   {
    "duration": 1251,
    "start_time": "2022-08-19T06:49:58.929Z"
   },
   {
    "duration": 0,
    "start_time": "2022-08-19T06:50:00.183Z"
   },
   {
    "duration": 0,
    "start_time": "2022-08-19T06:50:00.184Z"
   },
   {
    "duration": 0,
    "start_time": "2022-08-19T06:50:00.185Z"
   },
   {
    "duration": 0,
    "start_time": "2022-08-19T06:50:00.186Z"
   },
   {
    "duration": 0,
    "start_time": "2022-08-19T06:50:00.188Z"
   },
   {
    "duration": 0,
    "start_time": "2022-08-19T06:50:00.188Z"
   },
   {
    "duration": 0,
    "start_time": "2022-08-19T06:50:00.189Z"
   },
   {
    "duration": 0,
    "start_time": "2022-08-19T06:50:00.191Z"
   },
   {
    "duration": 0,
    "start_time": "2022-08-19T06:50:00.192Z"
   },
   {
    "duration": 0,
    "start_time": "2022-08-19T06:50:00.193Z"
   },
   {
    "duration": 0,
    "start_time": "2022-08-19T06:50:00.194Z"
   },
   {
    "duration": 0,
    "start_time": "2022-08-19T06:50:00.195Z"
   },
   {
    "duration": 0,
    "start_time": "2022-08-19T06:50:00.196Z"
   },
   {
    "duration": 0,
    "start_time": "2022-08-19T06:50:00.198Z"
   },
   {
    "duration": 0,
    "start_time": "2022-08-19T06:50:00.199Z"
   },
   {
    "duration": 12,
    "start_time": "2022-08-19T06:51:21.535Z"
   },
   {
    "duration": 1173,
    "start_time": "2022-08-19T08:07:18.749Z"
   },
   {
    "duration": 92,
    "start_time": "2022-08-19T08:07:19.923Z"
   },
   {
    "duration": 4,
    "start_time": "2022-08-19T08:07:20.017Z"
   },
   {
    "duration": 60,
    "start_time": "2022-08-19T08:07:20.023Z"
   },
   {
    "duration": 37,
    "start_time": "2022-08-19T08:07:20.086Z"
   },
   {
    "duration": 34,
    "start_time": "2022-08-19T08:07:20.124Z"
   },
   {
    "duration": 518,
    "start_time": "2022-08-19T08:07:20.160Z"
   },
   {
    "duration": 14,
    "start_time": "2022-08-19T08:07:20.679Z"
   },
   {
    "duration": 405,
    "start_time": "2022-08-19T08:07:20.695Z"
   },
   {
    "duration": 289,
    "start_time": "2022-08-19T08:07:21.102Z"
   },
   {
    "duration": 300,
    "start_time": "2022-08-19T08:07:21.392Z"
   },
   {
    "duration": 503,
    "start_time": "2022-08-19T08:07:21.694Z"
   },
   {
    "duration": 279,
    "start_time": "2022-08-19T08:07:22.199Z"
   },
   {
    "duration": 3309,
    "start_time": "2022-08-19T08:07:22.480Z"
   },
   {
    "duration": 282,
    "start_time": "2022-08-19T08:07:25.791Z"
   },
   {
    "duration": 14,
    "start_time": "2022-08-19T08:07:26.075Z"
   },
   {
    "duration": 52,
    "start_time": "2022-08-19T11:10:09.240Z"
   },
   {
    "duration": 1683,
    "start_time": "2022-08-19T11:10:28.488Z"
   },
   {
    "duration": 131,
    "start_time": "2022-08-19T11:10:30.173Z"
   },
   {
    "duration": 4,
    "start_time": "2022-08-19T11:10:30.306Z"
   },
   {
    "duration": 67,
    "start_time": "2022-08-19T11:10:30.312Z"
   },
   {
    "duration": 41,
    "start_time": "2022-08-19T11:10:30.392Z"
   },
   {
    "duration": 18,
    "start_time": "2022-08-19T11:10:30.434Z"
   },
   {
    "duration": 607,
    "start_time": "2022-08-19T11:10:30.454Z"
   },
   {
    "duration": 15,
    "start_time": "2022-08-19T11:10:31.063Z"
   },
   {
    "duration": 510,
    "start_time": "2022-08-19T11:10:31.080Z"
   },
   {
    "duration": 566,
    "start_time": "2022-08-19T11:10:31.594Z"
   },
   {
    "duration": 460,
    "start_time": "2022-08-19T11:10:32.162Z"
   },
   {
    "duration": 728,
    "start_time": "2022-08-19T11:10:32.624Z"
   },
   {
    "duration": 15,
    "start_time": "2022-08-19T11:10:33.354Z"
   },
   {
    "duration": 524,
    "start_time": "2022-08-19T11:10:33.370Z"
   },
   {
    "duration": 2984,
    "start_time": "2022-08-19T11:10:33.896Z"
   },
   {
    "duration": 514,
    "start_time": "2022-08-19T11:10:36.882Z"
   },
   {
    "duration": 16,
    "start_time": "2022-08-19T11:10:37.398Z"
   },
   {
    "duration": 1192,
    "start_time": "2022-08-19T11:14:31.237Z"
   },
   {
    "duration": 136,
    "start_time": "2022-08-19T11:14:53.850Z"
   },
   {
    "duration": 941,
    "start_time": "2022-08-19T11:14:56.514Z"
   },
   {
    "duration": 956,
    "start_time": "2022-08-19T11:15:18.651Z"
   },
   {
    "duration": 4,
    "start_time": "2022-08-19T11:15:31.326Z"
   },
   {
    "duration": 4,
    "start_time": "2022-08-19T11:15:40.564Z"
   },
   {
    "duration": 10,
    "start_time": "2022-08-19T11:15:45.062Z"
   },
   {
    "duration": 106,
    "start_time": "2022-08-19T11:15:48.032Z"
   },
   {
    "duration": 5,
    "start_time": "2022-08-19T11:15:49.262Z"
   },
   {
    "duration": 22,
    "start_time": "2022-08-19T11:16:08.220Z"
   },
   {
    "duration": 24,
    "start_time": "2022-08-19T11:16:20.118Z"
   },
   {
    "duration": 10,
    "start_time": "2022-08-19T11:16:25.816Z"
   },
   {
    "duration": 20,
    "start_time": "2022-08-19T11:17:46.155Z"
   },
   {
    "duration": 17,
    "start_time": "2022-08-19T11:18:06.726Z"
   },
   {
    "duration": 19,
    "start_time": "2022-08-19T11:18:47.769Z"
   },
   {
    "duration": 19,
    "start_time": "2022-08-19T11:18:59.739Z"
   },
   {
    "duration": 17,
    "start_time": "2022-08-19T11:19:04.339Z"
   },
   {
    "duration": 25,
    "start_time": "2022-08-19T11:19:29.086Z"
   },
   {
    "duration": 21,
    "start_time": "2022-08-19T11:19:40.624Z"
   },
   {
    "duration": 24,
    "start_time": "2022-08-19T11:19:53.251Z"
   },
   {
    "duration": 24,
    "start_time": "2022-08-19T11:20:04.232Z"
   },
   {
    "duration": 23,
    "start_time": "2022-08-19T11:20:23.231Z"
   },
   {
    "duration": 26,
    "start_time": "2022-08-19T11:20:38.227Z"
   },
   {
    "duration": 24,
    "start_time": "2022-08-19T11:20:47.572Z"
   },
   {
    "duration": 14,
    "start_time": "2022-08-19T11:22:40.551Z"
   },
   {
    "duration": 17,
    "start_time": "2022-08-19T11:22:47.920Z"
   },
   {
    "duration": 19,
    "start_time": "2022-08-19T11:23:00.754Z"
   },
   {
    "duration": 18,
    "start_time": "2022-08-19T11:25:10.028Z"
   },
   {
    "duration": 9,
    "start_time": "2022-08-19T11:25:26.118Z"
   },
   {
    "duration": 15,
    "start_time": "2022-08-19T11:25:56.243Z"
   },
   {
    "duration": 13,
    "start_time": "2022-08-19T11:26:03.396Z"
   },
   {
    "duration": 111,
    "start_time": "2022-08-19T11:26:06.760Z"
   },
   {
    "duration": 11,
    "start_time": "2022-08-19T11:26:08.135Z"
   },
   {
    "duration": 29,
    "start_time": "2022-08-19T11:26:11.767Z"
   },
   {
    "duration": 15,
    "start_time": "2022-08-19T11:26:16.792Z"
   },
   {
    "duration": 12,
    "start_time": "2022-08-19T11:26:22.568Z"
   },
   {
    "duration": 220,
    "start_time": "2022-08-19T11:33:16.105Z"
   },
   {
    "duration": 201,
    "start_time": "2022-08-19T11:33:31.328Z"
   },
   {
    "duration": 326,
    "start_time": "2022-08-19T11:33:35.655Z"
   },
   {
    "duration": 839,
    "start_time": "2022-08-19T11:33:55.051Z"
   },
   {
    "duration": 5,
    "start_time": "2022-08-19T11:35:23.157Z"
   },
   {
    "duration": 64,
    "start_time": "2022-08-19T14:24:27.136Z"
   },
   {
    "duration": 80,
    "start_time": "2022-08-19T14:25:19.536Z"
   },
   {
    "duration": 47,
    "start_time": "2022-08-19T14:25:34.186Z"
   },
   {
    "duration": 1385,
    "start_time": "2022-08-19T14:25:44.084Z"
   },
   {
    "duration": 279,
    "start_time": "2022-08-19T14:25:45.471Z"
   },
   {
    "duration": 4,
    "start_time": "2022-08-19T14:25:45.752Z"
   },
   {
    "duration": 83,
    "start_time": "2022-08-19T14:25:45.759Z"
   },
   {
    "duration": 39,
    "start_time": "2022-08-19T14:25:45.844Z"
   },
   {
    "duration": 19,
    "start_time": "2022-08-19T14:25:45.885Z"
   },
   {
    "duration": 507,
    "start_time": "2022-08-19T14:25:45.906Z"
   },
   {
    "duration": 16,
    "start_time": "2022-08-19T14:25:46.415Z"
   },
   {
    "duration": 442,
    "start_time": "2022-08-19T14:25:46.434Z"
   },
   {
    "duration": 286,
    "start_time": "2022-08-19T14:25:46.879Z"
   },
   {
    "duration": 320,
    "start_time": "2022-08-19T14:25:47.167Z"
   },
   {
    "duration": 443,
    "start_time": "2022-08-19T14:25:47.490Z"
   },
   {
    "duration": 22,
    "start_time": "2022-08-19T14:25:47.935Z"
   },
   {
    "duration": 16,
    "start_time": "2022-08-19T14:25:47.959Z"
   },
   {
    "duration": 313,
    "start_time": "2022-08-19T14:25:47.978Z"
   },
   {
    "duration": 8793,
    "start_time": "2022-08-19T14:25:48.293Z"
   },
   {
    "duration": 269,
    "start_time": "2022-08-19T14:25:57.089Z"
   },
   {
    "duration": 15,
    "start_time": "2022-08-19T14:25:57.360Z"
   },
   {
    "duration": 239,
    "start_time": "2022-08-19T14:25:57.377Z"
   },
   {
    "duration": 461,
    "start_time": "2022-08-19T14:25:57.618Z"
   },
   {
    "duration": 4,
    "start_time": "2022-08-19T14:25:58.081Z"
   },
   {
    "duration": 2785,
    "start_time": "2022-08-19T14:29:11.153Z"
   },
   {
    "duration": 2309,
    "start_time": "2022-08-19T14:31:54.354Z"
   },
   {
    "duration": 3150,
    "start_time": "2022-08-19T14:32:23.534Z"
   },
   {
    "duration": 2662,
    "start_time": "2022-08-19T14:34:48.529Z"
   },
   {
    "duration": 1184,
    "start_time": "2022-08-19T14:36:24.485Z"
   },
   {
    "duration": 99,
    "start_time": "2022-08-19T14:36:25.671Z"
   },
   {
    "duration": 4,
    "start_time": "2022-08-19T14:36:25.772Z"
   },
   {
    "duration": 54,
    "start_time": "2022-08-19T14:36:25.778Z"
   },
   {
    "duration": 55,
    "start_time": "2022-08-19T14:36:25.834Z"
   },
   {
    "duration": 16,
    "start_time": "2022-08-19T14:36:25.891Z"
   },
   {
    "duration": 464,
    "start_time": "2022-08-19T14:36:25.908Z"
   },
   {
    "duration": 17,
    "start_time": "2022-08-19T14:36:26.374Z"
   },
   {
    "duration": 414,
    "start_time": "2022-08-19T14:36:26.393Z"
   },
   {
    "duration": 296,
    "start_time": "2022-08-19T14:36:26.809Z"
   },
   {
    "duration": 297,
    "start_time": "2022-08-19T14:36:27.107Z"
   },
   {
    "duration": 490,
    "start_time": "2022-08-19T14:36:27.406Z"
   },
   {
    "duration": 18,
    "start_time": "2022-08-19T14:36:27.897Z"
   },
   {
    "duration": 19,
    "start_time": "2022-08-19T14:36:27.916Z"
   },
   {
    "duration": 267,
    "start_time": "2022-08-19T14:36:27.937Z"
   },
   {
    "duration": 2434,
    "start_time": "2022-08-19T14:36:28.205Z"
   },
   {
    "duration": 271,
    "start_time": "2022-08-19T14:36:30.641Z"
   },
   {
    "duration": 15,
    "start_time": "2022-08-19T14:36:30.913Z"
   },
   {
    "duration": 198,
    "start_time": "2022-08-19T14:36:30.930Z"
   },
   {
    "duration": 458,
    "start_time": "2022-08-19T14:36:31.130Z"
   },
   {
    "duration": 5,
    "start_time": "2022-08-19T14:36:31.590Z"
   },
   {
    "duration": 19,
    "start_time": "2022-08-19T14:44:07.886Z"
   },
   {
    "duration": 133,
    "start_time": "2022-08-19T14:46:04.830Z"
   },
   {
    "duration": 1225,
    "start_time": "2022-08-19T14:46:25.475Z"
   },
   {
    "duration": 89,
    "start_time": "2022-08-19T14:46:26.704Z"
   },
   {
    "duration": 4,
    "start_time": "2022-08-19T14:46:26.795Z"
   },
   {
    "duration": 102,
    "start_time": "2022-08-19T14:46:26.801Z"
   },
   {
    "duration": 64,
    "start_time": "2022-08-19T14:46:26.905Z"
   },
   {
    "duration": 24,
    "start_time": "2022-08-19T14:46:26.971Z"
   },
   {
    "duration": 489,
    "start_time": "2022-08-19T14:46:26.997Z"
   },
   {
    "duration": 17,
    "start_time": "2022-08-19T14:46:27.489Z"
   },
   {
    "duration": 420,
    "start_time": "2022-08-19T14:46:27.508Z"
   },
   {
    "duration": 327,
    "start_time": "2022-08-19T14:46:27.932Z"
   },
   {
    "duration": 345,
    "start_time": "2022-08-19T14:46:28.262Z"
   },
   {
    "duration": 506,
    "start_time": "2022-08-19T14:46:28.609Z"
   },
   {
    "duration": 27,
    "start_time": "2022-08-19T14:46:29.118Z"
   },
   {
    "duration": 20,
    "start_time": "2022-08-19T14:46:29.148Z"
   },
   {
    "duration": 307,
    "start_time": "2022-08-19T14:46:29.170Z"
   },
   {
    "duration": 3723,
    "start_time": "2022-08-19T14:46:29.479Z"
   },
   {
    "duration": 17,
    "start_time": "2022-08-19T14:46:33.205Z"
   },
   {
    "duration": 344,
    "start_time": "2022-08-19T14:46:33.224Z"
   },
   {
    "duration": 21,
    "start_time": "2022-08-19T14:46:33.570Z"
   },
   {
    "duration": 229,
    "start_time": "2022-08-19T14:46:33.594Z"
   },
   {
    "duration": 456,
    "start_time": "2022-08-19T14:46:33.825Z"
   },
   {
    "duration": 6,
    "start_time": "2022-08-19T14:46:34.284Z"
   },
   {
    "duration": 119,
    "start_time": "2022-08-19T14:50:27.576Z"
   },
   {
    "duration": 1161,
    "start_time": "2022-08-19T14:50:37.131Z"
   },
   {
    "duration": 89,
    "start_time": "2022-08-19T14:50:38.295Z"
   },
   {
    "duration": 4,
    "start_time": "2022-08-19T14:50:38.386Z"
   },
   {
    "duration": 86,
    "start_time": "2022-08-19T14:50:38.393Z"
   },
   {
    "duration": 37,
    "start_time": "2022-08-19T14:50:38.481Z"
   },
   {
    "duration": 40,
    "start_time": "2022-08-19T14:50:38.520Z"
   },
   {
    "duration": 444,
    "start_time": "2022-08-19T14:50:38.562Z"
   },
   {
    "duration": 13,
    "start_time": "2022-08-19T14:50:39.008Z"
   },
   {
    "duration": 392,
    "start_time": "2022-08-19T14:50:39.024Z"
   },
   {
    "duration": 313,
    "start_time": "2022-08-19T14:50:39.419Z"
   },
   {
    "duration": 320,
    "start_time": "2022-08-19T14:50:39.734Z"
   },
   {
    "duration": 493,
    "start_time": "2022-08-19T14:50:40.056Z"
   },
   {
    "duration": 18,
    "start_time": "2022-08-19T14:50:40.551Z"
   },
   {
    "duration": 19,
    "start_time": "2022-08-19T14:50:40.570Z"
   },
   {
    "duration": 303,
    "start_time": "2022-08-19T14:50:40.590Z"
   },
   {
    "duration": 2492,
    "start_time": "2022-08-19T14:50:40.895Z"
   },
   {
    "duration": 142,
    "start_time": "2022-08-19T14:50:43.389Z"
   },
   {
    "duration": 0,
    "start_time": "2022-08-19T14:50:43.533Z"
   },
   {
    "duration": 0,
    "start_time": "2022-08-19T14:50:43.535Z"
   },
   {
    "duration": 0,
    "start_time": "2022-08-19T14:50:43.536Z"
   },
   {
    "duration": 0,
    "start_time": "2022-08-19T14:50:43.537Z"
   },
   {
    "duration": 0,
    "start_time": "2022-08-19T14:50:43.538Z"
   },
   {
    "duration": 24,
    "start_time": "2022-08-19T14:52:46.586Z"
   },
   {
    "duration": 1231,
    "start_time": "2022-08-19T14:52:55.462Z"
   },
   {
    "duration": 114,
    "start_time": "2022-08-19T14:52:56.696Z"
   },
   {
    "duration": 6,
    "start_time": "2022-08-19T14:52:56.812Z"
   },
   {
    "duration": 75,
    "start_time": "2022-08-19T14:52:56.820Z"
   },
   {
    "duration": 39,
    "start_time": "2022-08-19T14:52:56.897Z"
   },
   {
    "duration": 34,
    "start_time": "2022-08-19T14:52:56.937Z"
   },
   {
    "duration": 512,
    "start_time": "2022-08-19T14:52:56.973Z"
   },
   {
    "duration": 21,
    "start_time": "2022-08-19T14:52:57.487Z"
   },
   {
    "duration": 450,
    "start_time": "2022-08-19T14:52:57.510Z"
   },
   {
    "duration": 298,
    "start_time": "2022-08-19T14:52:57.963Z"
   },
   {
    "duration": 362,
    "start_time": "2022-08-19T14:52:58.262Z"
   },
   {
    "duration": 644,
    "start_time": "2022-08-19T14:52:58.627Z"
   },
   {
    "duration": 25,
    "start_time": "2022-08-19T14:52:59.273Z"
   },
   {
    "duration": 18,
    "start_time": "2022-08-19T14:52:59.299Z"
   },
   {
    "duration": 321,
    "start_time": "2022-08-19T14:52:59.319Z"
   },
   {
    "duration": 24461,
    "start_time": "2022-08-19T14:52:59.642Z"
   },
   {
    "duration": 134,
    "start_time": "2022-08-19T14:53:24.105Z"
   },
   {
    "duration": 0,
    "start_time": "2022-08-19T14:53:24.241Z"
   },
   {
    "duration": 0,
    "start_time": "2022-08-19T14:53:24.243Z"
   },
   {
    "duration": 0,
    "start_time": "2022-08-19T14:53:24.244Z"
   },
   {
    "duration": 0,
    "start_time": "2022-08-19T14:53:24.245Z"
   },
   {
    "duration": 0,
    "start_time": "2022-08-19T14:53:24.257Z"
   },
   {
    "duration": 20,
    "start_time": "2022-08-19T14:54:21.011Z"
   },
   {
    "duration": 1187,
    "start_time": "2022-08-19T14:54:28.213Z"
   },
   {
    "duration": 90,
    "start_time": "2022-08-19T14:54:29.402Z"
   },
   {
    "duration": 4,
    "start_time": "2022-08-19T14:54:29.494Z"
   },
   {
    "duration": 68,
    "start_time": "2022-08-19T14:54:29.500Z"
   },
   {
    "duration": 39,
    "start_time": "2022-08-19T14:54:29.570Z"
   },
   {
    "duration": 46,
    "start_time": "2022-08-19T14:54:29.611Z"
   },
   {
    "duration": 529,
    "start_time": "2022-08-19T14:54:29.661Z"
   },
   {
    "duration": 14,
    "start_time": "2022-08-19T14:54:30.192Z"
   },
   {
    "duration": 407,
    "start_time": "2022-08-19T14:54:30.208Z"
   },
   {
    "duration": 309,
    "start_time": "2022-08-19T14:54:30.617Z"
   },
   {
    "duration": 337,
    "start_time": "2022-08-19T14:54:30.928Z"
   },
   {
    "duration": 502,
    "start_time": "2022-08-19T14:54:31.268Z"
   },
   {
    "duration": 19,
    "start_time": "2022-08-19T14:54:31.772Z"
   },
   {
    "duration": 84,
    "start_time": "2022-08-19T14:54:31.794Z"
   },
   {
    "duration": 344,
    "start_time": "2022-08-19T14:54:31.880Z"
   },
   {
    "duration": 3347,
    "start_time": "2022-08-19T14:54:32.227Z"
   },
   {
    "duration": 1061,
    "start_time": "2022-08-19T14:54:35.576Z"
   },
   {
    "duration": 0,
    "start_time": "2022-08-19T14:54:36.640Z"
   },
   {
    "duration": 0,
    "start_time": "2022-08-19T14:54:36.641Z"
   },
   {
    "duration": 0,
    "start_time": "2022-08-19T14:54:36.642Z"
   },
   {
    "duration": 0,
    "start_time": "2022-08-19T14:54:36.643Z"
   },
   {
    "duration": 0,
    "start_time": "2022-08-19T14:54:36.644Z"
   },
   {
    "duration": 1128,
    "start_time": "2022-08-19T14:56:13.757Z"
   },
   {
    "duration": 89,
    "start_time": "2022-08-19T14:56:14.887Z"
   },
   {
    "duration": 4,
    "start_time": "2022-08-19T14:56:14.977Z"
   },
   {
    "duration": 74,
    "start_time": "2022-08-19T14:56:14.984Z"
   },
   {
    "duration": 38,
    "start_time": "2022-08-19T14:56:15.060Z"
   },
   {
    "duration": 19,
    "start_time": "2022-08-19T14:56:15.100Z"
   },
   {
    "duration": 522,
    "start_time": "2022-08-19T14:56:15.121Z"
   },
   {
    "duration": 16,
    "start_time": "2022-08-19T14:56:15.645Z"
   },
   {
    "duration": 383,
    "start_time": "2022-08-19T14:56:15.664Z"
   },
   {
    "duration": 321,
    "start_time": "2022-08-19T14:56:16.050Z"
   },
   {
    "duration": 283,
    "start_time": "2022-08-19T14:56:16.373Z"
   },
   {
    "duration": 443,
    "start_time": "2022-08-19T14:56:16.658Z"
   },
   {
    "duration": 18,
    "start_time": "2022-08-19T14:56:17.103Z"
   },
   {
    "duration": 14,
    "start_time": "2022-08-19T14:56:17.122Z"
   },
   {
    "duration": 255,
    "start_time": "2022-08-19T14:56:17.137Z"
   },
   {
    "duration": 2679,
    "start_time": "2022-08-19T14:56:17.394Z"
   },
   {
    "duration": 870,
    "start_time": "2022-08-19T14:56:20.074Z"
   },
   {
    "duration": 0,
    "start_time": "2022-08-19T14:56:20.946Z"
   },
   {
    "duration": 0,
    "start_time": "2022-08-19T14:56:20.947Z"
   },
   {
    "duration": 0,
    "start_time": "2022-08-19T14:56:20.948Z"
   },
   {
    "duration": 0,
    "start_time": "2022-08-19T14:56:20.949Z"
   },
   {
    "duration": 0,
    "start_time": "2022-08-19T14:56:20.951Z"
   },
   {
    "duration": 1260,
    "start_time": "2022-08-19T14:57:24.457Z"
   },
   {
    "duration": 89,
    "start_time": "2022-08-19T14:57:25.720Z"
   },
   {
    "duration": 4,
    "start_time": "2022-08-19T14:57:25.810Z"
   },
   {
    "duration": 55,
    "start_time": "2022-08-19T14:57:25.816Z"
   },
   {
    "duration": 36,
    "start_time": "2022-08-19T14:57:25.873Z"
   },
   {
    "duration": 16,
    "start_time": "2022-08-19T14:57:25.911Z"
   },
   {
    "duration": 455,
    "start_time": "2022-08-19T14:57:25.928Z"
   },
   {
    "duration": 14,
    "start_time": "2022-08-19T14:57:26.385Z"
   },
   {
    "duration": 396,
    "start_time": "2022-08-19T14:57:26.400Z"
   },
   {
    "duration": 287,
    "start_time": "2022-08-19T14:57:26.797Z"
   },
   {
    "duration": 304,
    "start_time": "2022-08-19T14:57:27.086Z"
   },
   {
    "duration": 428,
    "start_time": "2022-08-19T14:57:27.392Z"
   },
   {
    "duration": 16,
    "start_time": "2022-08-19T14:57:27.822Z"
   },
   {
    "duration": 13,
    "start_time": "2022-08-19T14:57:27.840Z"
   },
   {
    "duration": 281,
    "start_time": "2022-08-19T14:57:27.854Z"
   },
   {
    "duration": 2423,
    "start_time": "2022-08-19T14:57:28.136Z"
   },
   {
    "duration": 134,
    "start_time": "2022-08-19T14:57:30.560Z"
   },
   {
    "duration": 0,
    "start_time": "2022-08-19T14:57:30.696Z"
   },
   {
    "duration": 0,
    "start_time": "2022-08-19T14:57:30.697Z"
   },
   {
    "duration": 0,
    "start_time": "2022-08-19T14:57:30.698Z"
   },
   {
    "duration": 0,
    "start_time": "2022-08-19T14:57:30.701Z"
   },
   {
    "duration": 0,
    "start_time": "2022-08-19T14:57:30.702Z"
   },
   {
    "duration": 1191,
    "start_time": "2022-08-19T14:58:00.614Z"
   },
   {
    "duration": 91,
    "start_time": "2022-08-19T14:58:01.808Z"
   },
   {
    "duration": 5,
    "start_time": "2022-08-19T14:58:01.901Z"
   },
   {
    "duration": 76,
    "start_time": "2022-08-19T14:58:01.907Z"
   },
   {
    "duration": 38,
    "start_time": "2022-08-19T14:58:01.985Z"
   },
   {
    "duration": 36,
    "start_time": "2022-08-19T14:58:02.025Z"
   },
   {
    "duration": 501,
    "start_time": "2022-08-19T14:58:02.063Z"
   },
   {
    "duration": 15,
    "start_time": "2022-08-19T14:58:02.566Z"
   },
   {
    "duration": 447,
    "start_time": "2022-08-19T14:58:02.583Z"
   },
   {
    "duration": 320,
    "start_time": "2022-08-19T14:58:03.031Z"
   },
   {
    "duration": 328,
    "start_time": "2022-08-19T14:58:03.352Z"
   },
   {
    "duration": 460,
    "start_time": "2022-08-19T14:58:03.682Z"
   },
   {
    "duration": 19,
    "start_time": "2022-08-19T14:58:04.143Z"
   },
   {
    "duration": 15,
    "start_time": "2022-08-19T14:58:04.165Z"
   },
   {
    "duration": 273,
    "start_time": "2022-08-19T14:58:04.181Z"
   },
   {
    "duration": 2878,
    "start_time": "2022-08-19T14:58:04.456Z"
   },
   {
    "duration": 153,
    "start_time": "2022-08-19T14:58:07.336Z"
   },
   {
    "duration": 0,
    "start_time": "2022-08-19T14:58:07.491Z"
   },
   {
    "duration": 0,
    "start_time": "2022-08-19T14:58:07.492Z"
   },
   {
    "duration": 0,
    "start_time": "2022-08-19T14:58:07.493Z"
   },
   {
    "duration": 0,
    "start_time": "2022-08-19T14:58:07.494Z"
   },
   {
    "duration": 0,
    "start_time": "2022-08-19T14:58:07.495Z"
   },
   {
    "duration": 1169,
    "start_time": "2022-08-19T14:58:47.641Z"
   },
   {
    "duration": 89,
    "start_time": "2022-08-19T14:58:48.812Z"
   },
   {
    "duration": 4,
    "start_time": "2022-08-19T14:58:48.903Z"
   },
   {
    "duration": 68,
    "start_time": "2022-08-19T14:58:48.909Z"
   },
   {
    "duration": 36,
    "start_time": "2022-08-19T14:58:48.979Z"
   },
   {
    "duration": 40,
    "start_time": "2022-08-19T14:58:49.017Z"
   },
   {
    "duration": 480,
    "start_time": "2022-08-19T14:58:49.059Z"
   },
   {
    "duration": 14,
    "start_time": "2022-08-19T14:58:49.541Z"
   },
   {
    "duration": 390,
    "start_time": "2022-08-19T14:58:49.557Z"
   },
   {
    "duration": 296,
    "start_time": "2022-08-19T14:58:49.949Z"
   },
   {
    "duration": 312,
    "start_time": "2022-08-19T14:58:50.246Z"
   },
   {
    "duration": 456,
    "start_time": "2022-08-19T14:58:50.560Z"
   },
   {
    "duration": 19,
    "start_time": "2022-08-19T14:58:51.018Z"
   },
   {
    "duration": 15,
    "start_time": "2022-08-19T14:58:51.039Z"
   },
   {
    "duration": 275,
    "start_time": "2022-08-19T14:58:51.056Z"
   },
   {
    "duration": 2857,
    "start_time": "2022-08-19T14:58:51.333Z"
   },
   {
    "duration": 746,
    "start_time": "2022-08-19T14:58:54.193Z"
   },
   {
    "duration": 0,
    "start_time": "2022-08-19T14:58:54.941Z"
   },
   {
    "duration": 0,
    "start_time": "2022-08-19T14:58:54.942Z"
   },
   {
    "duration": 0,
    "start_time": "2022-08-19T14:58:54.943Z"
   },
   {
    "duration": 0,
    "start_time": "2022-08-19T14:58:54.944Z"
   },
   {
    "duration": 0,
    "start_time": "2022-08-19T14:58:54.945Z"
   },
   {
    "duration": 20,
    "start_time": "2022-08-19T15:10:44.552Z"
   },
   {
    "duration": 1159,
    "start_time": "2022-08-19T15:10:54.179Z"
   },
   {
    "duration": 123,
    "start_time": "2022-08-19T15:10:55.340Z"
   },
   {
    "duration": 5,
    "start_time": "2022-08-19T15:10:55.466Z"
   },
   {
    "duration": 86,
    "start_time": "2022-08-19T15:10:55.474Z"
   },
   {
    "duration": 37,
    "start_time": "2022-08-19T15:10:55.562Z"
   },
   {
    "duration": 22,
    "start_time": "2022-08-19T15:10:55.601Z"
   },
   {
    "duration": 481,
    "start_time": "2022-08-19T15:10:55.625Z"
   },
   {
    "duration": 14,
    "start_time": "2022-08-19T15:10:56.108Z"
   },
   {
    "duration": 425,
    "start_time": "2022-08-19T15:10:56.124Z"
   },
   {
    "duration": 292,
    "start_time": "2022-08-19T15:10:56.552Z"
   },
   {
    "duration": 305,
    "start_time": "2022-08-19T15:10:56.845Z"
   },
   {
    "duration": 496,
    "start_time": "2022-08-19T15:10:57.152Z"
   },
   {
    "duration": 17,
    "start_time": "2022-08-19T15:10:57.649Z"
   },
   {
    "duration": 14,
    "start_time": "2022-08-19T15:10:57.668Z"
   },
   {
    "duration": 278,
    "start_time": "2022-08-19T15:10:57.683Z"
   },
   {
    "duration": 5764,
    "start_time": "2022-08-19T15:10:57.963Z"
   },
   {
    "duration": 137,
    "start_time": "2022-08-19T15:11:03.729Z"
   },
   {
    "duration": 0,
    "start_time": "2022-08-19T15:11:03.867Z"
   },
   {
    "duration": 0,
    "start_time": "2022-08-19T15:11:03.869Z"
   },
   {
    "duration": 0,
    "start_time": "2022-08-19T15:11:03.870Z"
   },
   {
    "duration": 0,
    "start_time": "2022-08-19T15:11:03.871Z"
   },
   {
    "duration": 0,
    "start_time": "2022-08-19T15:11:03.872Z"
   },
   {
    "duration": 2782,
    "start_time": "2022-08-19T15:12:45.153Z"
   },
   {
    "duration": 19,
    "start_time": "2022-08-19T15:19:03.258Z"
   },
   {
    "duration": 1082,
    "start_time": "2022-08-19T15:19:16.612Z"
   },
   {
    "duration": 89,
    "start_time": "2022-08-19T15:19:17.696Z"
   },
   {
    "duration": 5,
    "start_time": "2022-08-19T15:19:17.786Z"
   },
   {
    "duration": 82,
    "start_time": "2022-08-19T15:19:17.792Z"
   },
   {
    "duration": 38,
    "start_time": "2022-08-19T15:19:17.876Z"
   },
   {
    "duration": 31,
    "start_time": "2022-08-19T15:19:17.915Z"
   },
   {
    "duration": 437,
    "start_time": "2022-08-19T15:19:17.948Z"
   },
   {
    "duration": 13,
    "start_time": "2022-08-19T15:19:18.387Z"
   },
   {
    "duration": 394,
    "start_time": "2022-08-19T15:19:18.402Z"
   },
   {
    "duration": 284,
    "start_time": "2022-08-19T15:19:18.798Z"
   },
   {
    "duration": 305,
    "start_time": "2022-08-19T15:19:19.084Z"
   },
   {
    "duration": 433,
    "start_time": "2022-08-19T15:19:19.391Z"
   },
   {
    "duration": 16,
    "start_time": "2022-08-19T15:19:19.825Z"
   },
   {
    "duration": 19,
    "start_time": "2022-08-19T15:19:19.844Z"
   },
   {
    "duration": 264,
    "start_time": "2022-08-19T15:19:19.865Z"
   },
   {
    "duration": 3884,
    "start_time": "2022-08-19T15:19:20.131Z"
   },
   {
    "duration": 1047,
    "start_time": "2022-08-19T15:19:24.017Z"
   },
   {
    "duration": 0,
    "start_time": "2022-08-19T15:19:25.065Z"
   },
   {
    "duration": 0,
    "start_time": "2022-08-19T15:19:25.067Z"
   },
   {
    "duration": 0,
    "start_time": "2022-08-19T15:19:25.068Z"
   },
   {
    "duration": 0,
    "start_time": "2022-08-19T15:19:25.069Z"
   },
   {
    "duration": 0,
    "start_time": "2022-08-19T15:19:25.070Z"
   },
   {
    "duration": 1092,
    "start_time": "2022-08-19T15:21:17.098Z"
   },
   {
    "duration": 86,
    "start_time": "2022-08-19T15:21:18.192Z"
   },
   {
    "duration": 5,
    "start_time": "2022-08-19T15:21:18.280Z"
   },
   {
    "duration": 69,
    "start_time": "2022-08-19T15:21:18.287Z"
   },
   {
    "duration": 36,
    "start_time": "2022-08-19T15:21:18.358Z"
   },
   {
    "duration": 17,
    "start_time": "2022-08-19T15:21:18.395Z"
   },
   {
    "duration": 441,
    "start_time": "2022-08-19T15:21:18.413Z"
   },
   {
    "duration": 14,
    "start_time": "2022-08-19T15:21:18.855Z"
   },
   {
    "duration": 374,
    "start_time": "2022-08-19T15:21:18.871Z"
   },
   {
    "duration": 313,
    "start_time": "2022-08-19T15:21:19.247Z"
   },
   {
    "duration": 299,
    "start_time": "2022-08-19T15:21:19.562Z"
   },
   {
    "duration": 460,
    "start_time": "2022-08-19T15:21:19.863Z"
   },
   {
    "duration": 18,
    "start_time": "2022-08-19T15:21:20.325Z"
   },
   {
    "duration": 14,
    "start_time": "2022-08-19T15:21:20.346Z"
   },
   {
    "duration": 262,
    "start_time": "2022-08-19T15:21:20.362Z"
   },
   {
    "duration": 2384,
    "start_time": "2022-08-19T15:21:20.625Z"
   },
   {
    "duration": 128,
    "start_time": "2022-08-19T15:21:23.011Z"
   },
   {
    "duration": 0,
    "start_time": "2022-08-19T15:21:23.140Z"
   },
   {
    "duration": 0,
    "start_time": "2022-08-19T15:21:23.141Z"
   },
   {
    "duration": 0,
    "start_time": "2022-08-19T15:21:23.142Z"
   },
   {
    "duration": 0,
    "start_time": "2022-08-19T15:21:23.143Z"
   },
   {
    "duration": 0,
    "start_time": "2022-08-19T15:21:23.144Z"
   },
   {
    "duration": 1210,
    "start_time": "2022-08-19T15:25:02.289Z"
   },
   {
    "duration": 129,
    "start_time": "2022-08-19T15:25:03.501Z"
   },
   {
    "duration": 5,
    "start_time": "2022-08-19T15:25:03.631Z"
   },
   {
    "duration": 75,
    "start_time": "2022-08-19T15:25:03.638Z"
   },
   {
    "duration": 57,
    "start_time": "2022-08-19T15:25:03.715Z"
   },
   {
    "duration": 16,
    "start_time": "2022-08-19T15:25:03.774Z"
   },
   {
    "duration": 499,
    "start_time": "2022-08-19T15:25:03.792Z"
   },
   {
    "duration": 14,
    "start_time": "2022-08-19T15:25:04.293Z"
   },
   {
    "duration": 420,
    "start_time": "2022-08-19T15:25:04.309Z"
   },
   {
    "duration": 319,
    "start_time": "2022-08-19T15:25:04.732Z"
   },
   {
    "duration": 358,
    "start_time": "2022-08-19T15:25:05.052Z"
   },
   {
    "duration": 629,
    "start_time": "2022-08-19T15:25:05.412Z"
   },
   {
    "duration": 18,
    "start_time": "2022-08-19T15:25:06.043Z"
   },
   {
    "duration": 12,
    "start_time": "2022-08-19T15:25:06.063Z"
   },
   {
    "duration": 306,
    "start_time": "2022-08-19T15:25:06.077Z"
   },
   {
    "duration": 3320,
    "start_time": "2022-08-19T15:25:06.384Z"
   },
   {
    "duration": 751,
    "start_time": "2022-08-19T15:25:09.706Z"
   },
   {
    "duration": 0,
    "start_time": "2022-08-19T15:25:10.458Z"
   },
   {
    "duration": 0,
    "start_time": "2022-08-19T15:25:10.460Z"
   },
   {
    "duration": 0,
    "start_time": "2022-08-19T15:25:10.461Z"
   },
   {
    "duration": 0,
    "start_time": "2022-08-19T15:25:10.462Z"
   },
   {
    "duration": 0,
    "start_time": "2022-08-19T15:25:10.463Z"
   },
   {
    "duration": 1155,
    "start_time": "2022-08-19T15:30:33.126Z"
   },
   {
    "duration": 86,
    "start_time": "2022-08-19T15:30:34.283Z"
   },
   {
    "duration": 4,
    "start_time": "2022-08-19T15:30:34.371Z"
   },
   {
    "duration": 64,
    "start_time": "2022-08-19T15:30:34.376Z"
   },
   {
    "duration": 38,
    "start_time": "2022-08-19T15:30:34.442Z"
   },
   {
    "duration": 18,
    "start_time": "2022-08-19T15:30:34.482Z"
   },
   {
    "duration": 467,
    "start_time": "2022-08-19T15:30:34.502Z"
   },
   {
    "duration": 14,
    "start_time": "2022-08-19T15:30:34.970Z"
   },
   {
    "duration": 493,
    "start_time": "2022-08-19T15:30:34.985Z"
   },
   {
    "duration": 307,
    "start_time": "2022-08-19T15:30:35.480Z"
   },
   {
    "duration": 289,
    "start_time": "2022-08-19T15:30:35.789Z"
   },
   {
    "duration": 457,
    "start_time": "2022-08-19T15:30:36.080Z"
   },
   {
    "duration": 21,
    "start_time": "2022-08-19T15:30:36.539Z"
   },
   {
    "duration": 16,
    "start_time": "2022-08-19T15:30:36.563Z"
   },
   {
    "duration": 247,
    "start_time": "2022-08-19T15:30:36.580Z"
   },
   {
    "duration": 4504,
    "start_time": "2022-08-19T15:30:36.829Z"
   },
   {
    "duration": 1059,
    "start_time": "2022-08-19T15:30:41.334Z"
   },
   {
    "duration": 0,
    "start_time": "2022-08-19T15:30:42.394Z"
   },
   {
    "duration": 0,
    "start_time": "2022-08-19T15:30:42.396Z"
   },
   {
    "duration": 0,
    "start_time": "2022-08-19T15:30:42.397Z"
   },
   {
    "duration": 0,
    "start_time": "2022-08-19T15:30:42.398Z"
   },
   {
    "duration": 0,
    "start_time": "2022-08-19T15:30:42.399Z"
   },
   {
    "duration": 19,
    "start_time": "2022-08-19T15:32:26.949Z"
   },
   {
    "duration": 1092,
    "start_time": "2022-08-19T15:32:33.897Z"
   },
   {
    "duration": 100,
    "start_time": "2022-08-19T15:32:34.992Z"
   },
   {
    "duration": 4,
    "start_time": "2022-08-19T15:32:35.094Z"
   },
   {
    "duration": 78,
    "start_time": "2022-08-19T15:32:35.100Z"
   },
   {
    "duration": 47,
    "start_time": "2022-08-19T15:32:35.180Z"
   },
   {
    "duration": 40,
    "start_time": "2022-08-19T15:32:35.229Z"
   },
   {
    "duration": 517,
    "start_time": "2022-08-19T15:32:35.271Z"
   },
   {
    "duration": 14,
    "start_time": "2022-08-19T15:32:35.790Z"
   },
   {
    "duration": 390,
    "start_time": "2022-08-19T15:32:35.806Z"
   },
   {
    "duration": 293,
    "start_time": "2022-08-19T15:32:36.198Z"
   },
   {
    "duration": 289,
    "start_time": "2022-08-19T15:32:36.493Z"
   },
   {
    "duration": 435,
    "start_time": "2022-08-19T15:32:36.784Z"
   },
   {
    "duration": 19,
    "start_time": "2022-08-19T15:32:37.221Z"
   },
   {
    "duration": 68,
    "start_time": "2022-08-19T15:32:37.241Z"
   },
   {
    "duration": 252,
    "start_time": "2022-08-19T15:32:37.311Z"
   },
   {
    "duration": 2315,
    "start_time": "2022-08-19T15:32:37.565Z"
   },
   {
    "duration": 36,
    "start_time": "2022-08-19T15:32:39.882Z"
   },
   {
    "duration": 262,
    "start_time": "2022-08-19T15:32:39.919Z"
   },
   {
    "duration": 16,
    "start_time": "2022-08-19T15:32:40.184Z"
   },
   {
    "duration": 185,
    "start_time": "2022-08-19T15:32:40.201Z"
   },
   {
    "duration": 448,
    "start_time": "2022-08-19T15:32:40.388Z"
   },
   {
    "duration": 5,
    "start_time": "2022-08-19T15:32:40.838Z"
   },
   {
    "duration": 1159,
    "start_time": "2022-08-19T15:51:58.389Z"
   },
   {
    "duration": 87,
    "start_time": "2022-08-19T15:51:59.550Z"
   },
   {
    "duration": 4,
    "start_time": "2022-08-19T15:51:59.639Z"
   },
   {
    "duration": 60,
    "start_time": "2022-08-19T15:51:59.646Z"
   },
   {
    "duration": 55,
    "start_time": "2022-08-19T15:51:59.708Z"
   },
   {
    "duration": 19,
    "start_time": "2022-08-19T15:51:59.765Z"
   },
   {
    "duration": 574,
    "start_time": "2022-08-19T15:51:59.786Z"
   },
   {
    "duration": 16,
    "start_time": "2022-08-19T15:52:00.362Z"
   },
   {
    "duration": 479,
    "start_time": "2022-08-19T15:52:00.379Z"
   },
   {
    "duration": 447,
    "start_time": "2022-08-19T15:52:00.861Z"
   },
   {
    "duration": 282,
    "start_time": "2022-08-19T15:52:01.311Z"
   },
   {
    "duration": 548,
    "start_time": "2022-08-19T15:52:01.596Z"
   },
   {
    "duration": 25,
    "start_time": "2022-08-19T15:52:02.146Z"
   },
   {
    "duration": 41,
    "start_time": "2022-08-19T15:52:02.173Z"
   },
   {
    "duration": 431,
    "start_time": "2022-08-19T15:52:02.216Z"
   },
   {
    "duration": 3326,
    "start_time": "2022-08-19T15:52:02.650Z"
   },
   {
    "duration": 20,
    "start_time": "2022-08-19T15:52:05.978Z"
   },
   {
    "duration": 283,
    "start_time": "2022-08-19T15:52:05.999Z"
   },
   {
    "duration": 14,
    "start_time": "2022-08-19T15:52:06.284Z"
   },
   {
    "duration": 185,
    "start_time": "2022-08-19T15:52:06.300Z"
   },
   {
    "duration": 454,
    "start_time": "2022-08-19T15:52:06.487Z"
   },
   {
    "duration": 5,
    "start_time": "2022-08-19T15:52:06.943Z"
   },
   {
    "duration": 1166,
    "start_time": "2022-08-19T16:12:07.746Z"
   },
   {
    "duration": 89,
    "start_time": "2022-08-19T16:12:08.914Z"
   },
   {
    "duration": 5,
    "start_time": "2022-08-19T16:12:09.005Z"
   },
   {
    "duration": 60,
    "start_time": "2022-08-19T16:12:09.013Z"
   },
   {
    "duration": 36,
    "start_time": "2022-08-19T16:12:09.075Z"
   },
   {
    "duration": 24,
    "start_time": "2022-08-19T16:12:09.113Z"
   },
   {
    "duration": 531,
    "start_time": "2022-08-19T16:12:09.139Z"
   },
   {
    "duration": 14,
    "start_time": "2022-08-19T16:12:09.672Z"
   },
   {
    "duration": 499,
    "start_time": "2022-08-19T16:12:09.688Z"
   },
   {
    "duration": 414,
    "start_time": "2022-08-19T16:12:10.189Z"
   },
   {
    "duration": 241,
    "start_time": "2022-08-19T16:12:10.605Z"
   },
   {
    "duration": 502,
    "start_time": "2022-08-19T16:12:10.848Z"
   },
   {
    "duration": 18,
    "start_time": "2022-08-19T16:12:11.351Z"
   },
   {
    "duration": 14,
    "start_time": "2022-08-19T16:12:11.370Z"
   },
   {
    "duration": 347,
    "start_time": "2022-08-19T16:12:11.386Z"
   },
   {
    "duration": 3176,
    "start_time": "2022-08-19T16:12:11.734Z"
   },
   {
    "duration": 17,
    "start_time": "2022-08-19T16:12:14.912Z"
   },
   {
    "duration": 289,
    "start_time": "2022-08-19T16:12:14.931Z"
   },
   {
    "duration": 15,
    "start_time": "2022-08-19T16:12:15.221Z"
   },
   {
    "duration": 234,
    "start_time": "2022-08-19T16:12:15.238Z"
   },
   {
    "duration": 440,
    "start_time": "2022-08-19T16:12:15.474Z"
   },
   {
    "duration": 6,
    "start_time": "2022-08-19T16:12:15.917Z"
   },
   {
    "duration": 119,
    "start_time": "2022-08-19T16:14:01.817Z"
   },
   {
    "duration": 1152,
    "start_time": "2022-08-19T16:14:07.751Z"
   },
   {
    "duration": 94,
    "start_time": "2022-08-19T16:14:08.905Z"
   },
   {
    "duration": 4,
    "start_time": "2022-08-19T16:14:09.001Z"
   },
   {
    "duration": 67,
    "start_time": "2022-08-19T16:14:09.007Z"
   },
   {
    "duration": 36,
    "start_time": "2022-08-19T16:14:09.075Z"
   },
   {
    "duration": 17,
    "start_time": "2022-08-19T16:14:09.112Z"
   },
   {
    "duration": 549,
    "start_time": "2022-08-19T16:14:09.130Z"
   },
   {
    "duration": 15,
    "start_time": "2022-08-19T16:14:09.681Z"
   },
   {
    "duration": 466,
    "start_time": "2022-08-19T16:14:09.698Z"
   },
   {
    "duration": 421,
    "start_time": "2022-08-19T16:14:10.166Z"
   },
   {
    "duration": 259,
    "start_time": "2022-08-19T16:14:10.589Z"
   },
   {
    "duration": 497,
    "start_time": "2022-08-19T16:14:10.850Z"
   },
   {
    "duration": 18,
    "start_time": "2022-08-19T16:14:11.349Z"
   },
   {
    "duration": 14,
    "start_time": "2022-08-19T16:14:11.369Z"
   },
   {
    "duration": 355,
    "start_time": "2022-08-19T16:14:11.385Z"
   },
   {
    "duration": 3982,
    "start_time": "2022-08-19T16:14:11.742Z"
   },
   {
    "duration": 17,
    "start_time": "2022-08-19T16:14:15.726Z"
   },
   {
    "duration": 346,
    "start_time": "2022-08-19T16:14:15.757Z"
   },
   {
    "duration": 13,
    "start_time": "2022-08-19T16:14:16.105Z"
   },
   {
    "duration": 186,
    "start_time": "2022-08-19T16:14:16.120Z"
   },
   {
    "duration": 432,
    "start_time": "2022-08-19T16:14:16.307Z"
   },
   {
    "duration": 5,
    "start_time": "2022-08-19T16:14:16.741Z"
   },
   {
    "duration": 1207,
    "start_time": "2022-08-19T16:32:35.883Z"
   },
   {
    "duration": 98,
    "start_time": "2022-08-19T16:32:37.092Z"
   },
   {
    "duration": 5,
    "start_time": "2022-08-19T16:32:37.191Z"
   },
   {
    "duration": 87,
    "start_time": "2022-08-19T16:32:37.198Z"
   },
   {
    "duration": 39,
    "start_time": "2022-08-19T16:32:37.287Z"
   },
   {
    "duration": 37,
    "start_time": "2022-08-19T16:32:37.328Z"
   },
   {
    "duration": 594,
    "start_time": "2022-08-19T16:32:37.367Z"
   },
   {
    "duration": 15,
    "start_time": "2022-08-19T16:32:37.963Z"
   },
   {
    "duration": 590,
    "start_time": "2022-08-19T16:32:37.979Z"
   },
   {
    "duration": 416,
    "start_time": "2022-08-19T16:32:38.573Z"
   },
   {
    "duration": 282,
    "start_time": "2022-08-19T16:32:38.991Z"
   },
   {
    "duration": 525,
    "start_time": "2022-08-19T16:32:39.275Z"
   },
   {
    "duration": 23,
    "start_time": "2022-08-19T16:32:39.801Z"
   },
   {
    "duration": 105,
    "start_time": "2022-08-19T16:32:39.826Z"
   },
   {
    "duration": 374,
    "start_time": "2022-08-19T16:32:39.932Z"
   },
   {
    "duration": 4450,
    "start_time": "2022-08-19T16:32:40.309Z"
   },
   {
    "duration": 23,
    "start_time": "2022-08-19T16:32:44.762Z"
   },
   {
    "duration": 373,
    "start_time": "2022-08-19T16:32:44.787Z"
   },
   {
    "duration": 14,
    "start_time": "2022-08-19T16:32:45.161Z"
   },
   {
    "duration": 265,
    "start_time": "2022-08-19T16:32:45.177Z"
   },
   {
    "duration": 469,
    "start_time": "2022-08-19T16:32:45.444Z"
   },
   {
    "duration": 5,
    "start_time": "2022-08-19T16:32:45.915Z"
   },
   {
    "duration": 48,
    "start_time": "2022-08-19T17:48:30.943Z"
   },
   {
    "duration": 1321,
    "start_time": "2022-08-19T17:48:33.217Z"
   },
   {
    "duration": 307,
    "start_time": "2022-08-19T17:48:34.540Z"
   },
   {
    "duration": 4,
    "start_time": "2022-08-19T17:48:34.849Z"
   },
   {
    "duration": 63,
    "start_time": "2022-08-19T17:48:34.854Z"
   },
   {
    "duration": 34,
    "start_time": "2022-08-19T17:48:34.919Z"
   },
   {
    "duration": 19,
    "start_time": "2022-08-19T17:48:34.955Z"
   },
   {
    "duration": 989,
    "start_time": "2022-08-19T17:48:34.976Z"
   },
   {
    "duration": 13,
    "start_time": "2022-08-19T17:48:35.966Z"
   },
   {
    "duration": 391,
    "start_time": "2022-08-19T17:48:35.981Z"
   },
   {
    "duration": 354,
    "start_time": "2022-08-19T17:48:36.374Z"
   },
   {
    "duration": 226,
    "start_time": "2022-08-19T17:48:36.730Z"
   },
   {
    "duration": 474,
    "start_time": "2022-08-19T17:48:36.957Z"
   },
   {
    "duration": 19,
    "start_time": "2022-08-19T17:48:37.432Z"
   },
   {
    "duration": 12,
    "start_time": "2022-08-19T17:48:37.453Z"
   },
   {
    "duration": 302,
    "start_time": "2022-08-19T17:48:37.468Z"
   },
   {
    "duration": 3410,
    "start_time": "2022-08-19T17:48:37.772Z"
   },
   {
    "duration": 29,
    "start_time": "2022-08-19T17:48:41.184Z"
   },
   {
    "duration": 10,
    "start_time": "2022-08-19T17:48:41.215Z"
   },
   {
    "duration": 362,
    "start_time": "2022-08-19T17:48:41.227Z"
   },
   {
    "duration": 13,
    "start_time": "2022-08-19T17:48:41.591Z"
   },
   {
    "duration": 22,
    "start_time": "2022-08-19T17:48:41.606Z"
   },
   {
    "duration": 171,
    "start_time": "2022-08-19T17:48:41.630Z"
   },
   {
    "duration": 706,
    "start_time": "2022-08-19T17:48:41.802Z"
   },
   {
    "duration": 7,
    "start_time": "2022-08-19T17:48:42.511Z"
   },
   {
    "duration": 18,
    "start_time": "2022-08-19T17:50:17.563Z"
   },
   {
    "duration": 11,
    "start_time": "2022-08-19T17:50:38.743Z"
   },
   {
    "duration": 13,
    "start_time": "2022-08-19T17:54:28.298Z"
   },
   {
    "duration": 16,
    "start_time": "2022-08-19T17:54:35.947Z"
   },
   {
    "duration": 1490,
    "start_time": "2022-08-19T17:55:09.194Z"
   },
   {
    "duration": 9,
    "start_time": "2022-08-19T17:55:22.015Z"
   },
   {
    "duration": 10,
    "start_time": "2022-08-19T17:55:31.318Z"
   },
   {
    "duration": 22,
    "start_time": "2022-08-19T17:55:40.818Z"
   },
   {
    "duration": 14,
    "start_time": "2022-08-19T17:57:39.329Z"
   },
   {
    "duration": 14,
    "start_time": "2022-08-19T17:58:02.716Z"
   }
  ],
  "kernelspec": {
   "display_name": "Python 3 (ipykernel)",
   "language": "python",
   "name": "python3"
  },
  "language_info": {
   "codemirror_mode": {
    "name": "ipython",
    "version": 3
   },
   "file_extension": ".py",
   "mimetype": "text/x-python",
   "name": "python",
   "nbconvert_exporter": "python",
   "pygments_lexer": "ipython3",
   "version": "3.9.13"
  },
  "toc": {
   "base_numbering": 1,
   "nav_menu": {
    "height": "414.533px",
    "width": "562.667px"
   },
   "number_sections": true,
   "sideBar": true,
   "skip_h1_title": true,
   "title_cell": "Table of Contents",
   "title_sidebar": "Contents",
   "toc_cell": false,
   "toc_position": {},
   "toc_section_display": true,
   "toc_window_display": false
  }
 },
 "nbformat": 4,
 "nbformat_minor": 2
}
