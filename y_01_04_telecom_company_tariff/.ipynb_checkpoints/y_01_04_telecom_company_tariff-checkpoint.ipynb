{
 "cells": [
  {
   "cell_type": "markdown",
   "id": "d3ac4b77",
   "metadata": {},
   "source": [
    "<a id='intro'></a>\n",
    "# Определение перспективного тарифа для телеком-компании\n",
    "\n",
    "Компания «Мегалайн» — федеральный оператор сотовой связи. Клиентам предлагают два тарифных плана: «Смарт» и «Ультра». Чтобы скорректировать рекламный бюджет, коммерческий департамент хочет понять, какой тариф приносит больше денег.</br>\n",
    "Предстоит сделать предварительный анализ тарифов на небольшой выборке клиентов. Имеются данные 500 пользователей «Мегалайна»: кто они, откуда, каким тарифом пользуются, сколько звонков и сообщений каждый отправил за 2018 год.</br>\n",
    "**Нужно проанализировать поведение клиентов и сделать вывод — какой тариф лучше (приносит больше прибыли для компании).**\n",
    "</br></br>\n",
    "\n",
    "**ОПИСАНИЕ ТАРИФОВ**\n",
    "\n",
    "**Тариф «Смарт»**</br>\n",
    "1.\tЕжемесячная плата: 550 рублей</br>\n",
    "2.\tВключено 500 минут разговора, 50 сообщений и 15 Гб интернет-трафика</br>\n",
    "3.\tСтоимость услуг сверх тарифного пакета: \n",
    "-\tминута разговора: 3 рубля\n",
    "-\tсообщение: 3 рубля\n",
    "-\t1 Гб интернет-трафика: 200 рублей\n",
    "\n",
    "**Тариф «Ультра»**</br>\n",
    "1.\tЕжемесячная плата: 1950 рублей</br>\n",
    "2.\tВключено 3000 минут разговора, 1000 сообщений и 30 Гб интернет-трафика</br>\n",
    "3.\tСтоимость услуг сверх тарифного пакета:\n",
    "-\tминута разговора: 1 рубль\n",
    "-\tсообщение: 1 рубль\n",
    "-\t1 Гб интернет-трафика: 150 рублей\n",
    "\n",
    "    \n",
    "***Примечание:***</br> \n",
    "«Мегалайн» всегда округляет секунды до минут, а мегабайты — до гигабайт. Каждый звонок округляется отдельно: даже если он длился всего 1 секунду, будет засчитан как 1 минута.</br>\n",
    "Для веб-трафика отдельные сессии не считаются. Вместо этого общая сумма за месяц округляется в бо́льшую сторону. Если абонент использует 1025 мегабайт в этом месяце, с него возьмут плату за 2 гигабайта.</br>\n",
    "Считается, что неиспользованные за предыдущий месяц звонки, смс, интернет на следующий месяц не переносятся."
   ]
  },
  {
   "cell_type": "markdown",
   "id": "24fd7145",
   "metadata": {},
   "source": [
    "## Изучение данных из файлов\n",
    "[В начало](#intro)"
   ]
  },
  {
   "cell_type": "code",
   "execution_count": 1,
   "id": "445c0c97",
   "metadata": {},
   "outputs": [],
   "source": [
    "# Импортируем библиотеки питона:\n",
    "import pandas as pd\n",
    "import numpy as np\n",
    "import matplotlib.pyplot as plt\n",
    "import seaborn as sns\n",
    "import warnings\n",
    "from scipy import stats as st\n",
    "\n",
    "# Изменяем настройки отображения обработки кода в Пандасе, чтобы предупрежедения не выводились:\n",
    "warnings.filterwarnings(\"ignore\")\n",
    "\n",
    "# Изменяем настройки отображения столбцов в Пандасе, чтобы выводились все столбцы:\n",
    "pd.set_option('display.max_columns', None)"
   ]
  },
  {
   "cell_type": "code",
   "execution_count": 2,
   "id": "2577b0d3",
   "metadata": {
    "scrolled": true
   },
   "outputs": [
    {
     "name": "stdout",
     "output_type": "stream",
     "text": [
      "Первые 5 строк датафрейма: calls\n"
     ]
    },
    {
     "data": {
      "text/html": [
       "<div>\n",
       "<style scoped>\n",
       "    .dataframe tbody tr th:only-of-type {\n",
       "        vertical-align: middle;\n",
       "    }\n",
       "\n",
       "    .dataframe tbody tr th {\n",
       "        vertical-align: top;\n",
       "    }\n",
       "\n",
       "    .dataframe thead th {\n",
       "        text-align: right;\n",
       "    }\n",
       "</style>\n",
       "<table border=\"1\" class=\"dataframe\">\n",
       "  <thead>\n",
       "    <tr style=\"text-align: right;\">\n",
       "      <th></th>\n",
       "      <th>id</th>\n",
       "      <th>call_date</th>\n",
       "      <th>duration</th>\n",
       "      <th>user_id</th>\n",
       "    </tr>\n",
       "  </thead>\n",
       "  <tbody>\n",
       "    <tr>\n",
       "      <th>0</th>\n",
       "      <td>1000_0</td>\n",
       "      <td>2018-07-25</td>\n",
       "      <td>0.00</td>\n",
       "      <td>1000</td>\n",
       "    </tr>\n",
       "    <tr>\n",
       "      <th>1</th>\n",
       "      <td>1000_1</td>\n",
       "      <td>2018-08-17</td>\n",
       "      <td>0.00</td>\n",
       "      <td>1000</td>\n",
       "    </tr>\n",
       "    <tr>\n",
       "      <th>2</th>\n",
       "      <td>1000_2</td>\n",
       "      <td>2018-06-11</td>\n",
       "      <td>2.85</td>\n",
       "      <td>1000</td>\n",
       "    </tr>\n",
       "    <tr>\n",
       "      <th>3</th>\n",
       "      <td>1000_3</td>\n",
       "      <td>2018-09-21</td>\n",
       "      <td>13.80</td>\n",
       "      <td>1000</td>\n",
       "    </tr>\n",
       "    <tr>\n",
       "      <th>4</th>\n",
       "      <td>1000_4</td>\n",
       "      <td>2018-12-15</td>\n",
       "      <td>5.18</td>\n",
       "      <td>1000</td>\n",
       "    </tr>\n",
       "  </tbody>\n",
       "</table>\n",
       "</div>"
      ],
      "text/plain": [
       "       id   call_date  duration  user_id\n",
       "0  1000_0  2018-07-25      0.00     1000\n",
       "1  1000_1  2018-08-17      0.00     1000\n",
       "2  1000_2  2018-06-11      2.85     1000\n",
       "3  1000_3  2018-09-21     13.80     1000\n",
       "4  1000_4  2018-12-15      5.18     1000"
      ]
     },
     "metadata": {},
     "output_type": "display_data"
    },
    {
     "name": "stdout",
     "output_type": "stream",
     "text": [
      "-----------------------------------------------------------------------------\n",
      "Общая информация о датафрейме: calls\n",
      "<class 'pandas.core.frame.DataFrame'>\n",
      "RangeIndex: 202607 entries, 0 to 202606\n",
      "Data columns (total 4 columns):\n",
      " #   Column     Non-Null Count   Dtype  \n",
      "---  ------     --------------   -----  \n",
      " 0   id         202607 non-null  object \n",
      " 1   call_date  202607 non-null  object \n",
      " 2   duration   202607 non-null  float64\n",
      " 3   user_id    202607 non-null  int64  \n",
      "dtypes: float64(1), int64(1), object(2)\n",
      "memory usage: 6.2+ MB\n",
      "-----------------------------------------------------------------------------\n",
      "Разброс значений, максимум, минимум, среднее и медиана в столбцах датафрейма: calls\n",
      "            duration        user_id\n",
      "count  202607.000000  202607.000000\n",
      "mean        6.755887    1253.940619\n",
      "std         5.843365     144.722751\n",
      "min         0.000000    1000.000000\n",
      "25%         1.300000    1126.000000\n",
      "50%         6.000000    1260.000000\n",
      "75%        10.700000    1379.000000\n",
      "max        38.000000    1499.000000\n",
      "-----------------------------------------------------------------------------\n",
      "Количество дубликатов в датафрейме: calls\n",
      "0\n",
      "=============================================================================\n",
      "Первые 5 строк датафрейма: internet\n"
     ]
    },
    {
     "data": {
      "text/html": [
       "<div>\n",
       "<style scoped>\n",
       "    .dataframe tbody tr th:only-of-type {\n",
       "        vertical-align: middle;\n",
       "    }\n",
       "\n",
       "    .dataframe tbody tr th {\n",
       "        vertical-align: top;\n",
       "    }\n",
       "\n",
       "    .dataframe thead th {\n",
       "        text-align: right;\n",
       "    }\n",
       "</style>\n",
       "<table border=\"1\" class=\"dataframe\">\n",
       "  <thead>\n",
       "    <tr style=\"text-align: right;\">\n",
       "      <th></th>\n",
       "      <th>Unnamed: 0</th>\n",
       "      <th>id</th>\n",
       "      <th>mb_used</th>\n",
       "      <th>session_date</th>\n",
       "      <th>user_id</th>\n",
       "    </tr>\n",
       "  </thead>\n",
       "  <tbody>\n",
       "    <tr>\n",
       "      <th>0</th>\n",
       "      <td>0</td>\n",
       "      <td>1000_0</td>\n",
       "      <td>112.95</td>\n",
       "      <td>2018-11-25</td>\n",
       "      <td>1000</td>\n",
       "    </tr>\n",
       "    <tr>\n",
       "      <th>1</th>\n",
       "      <td>1</td>\n",
       "      <td>1000_1</td>\n",
       "      <td>1052.81</td>\n",
       "      <td>2018-09-07</td>\n",
       "      <td>1000</td>\n",
       "    </tr>\n",
       "    <tr>\n",
       "      <th>2</th>\n",
       "      <td>2</td>\n",
       "      <td>1000_2</td>\n",
       "      <td>1197.26</td>\n",
       "      <td>2018-06-25</td>\n",
       "      <td>1000</td>\n",
       "    </tr>\n",
       "    <tr>\n",
       "      <th>3</th>\n",
       "      <td>3</td>\n",
       "      <td>1000_3</td>\n",
       "      <td>550.27</td>\n",
       "      <td>2018-08-22</td>\n",
       "      <td>1000</td>\n",
       "    </tr>\n",
       "    <tr>\n",
       "      <th>4</th>\n",
       "      <td>4</td>\n",
       "      <td>1000_4</td>\n",
       "      <td>302.56</td>\n",
       "      <td>2018-09-24</td>\n",
       "      <td>1000</td>\n",
       "    </tr>\n",
       "  </tbody>\n",
       "</table>\n",
       "</div>"
      ],
      "text/plain": [
       "   Unnamed: 0      id  mb_used session_date  user_id\n",
       "0           0  1000_0   112.95   2018-11-25     1000\n",
       "1           1  1000_1  1052.81   2018-09-07     1000\n",
       "2           2  1000_2  1197.26   2018-06-25     1000\n",
       "3           3  1000_3   550.27   2018-08-22     1000\n",
       "4           4  1000_4   302.56   2018-09-24     1000"
      ]
     },
     "metadata": {},
     "output_type": "display_data"
    },
    {
     "name": "stdout",
     "output_type": "stream",
     "text": [
      "-----------------------------------------------------------------------------\n",
      "Общая информация о датафрейме: internet\n",
      "<class 'pandas.core.frame.DataFrame'>\n",
      "RangeIndex: 149396 entries, 0 to 149395\n",
      "Data columns (total 5 columns):\n",
      " #   Column        Non-Null Count   Dtype  \n",
      "---  ------        --------------   -----  \n",
      " 0   Unnamed: 0    149396 non-null  int64  \n",
      " 1   id            149396 non-null  object \n",
      " 2   mb_used       149396 non-null  float64\n",
      " 3   session_date  149396 non-null  object \n",
      " 4   user_id       149396 non-null  int64  \n",
      "dtypes: float64(1), int64(2), object(2)\n",
      "memory usage: 5.7+ MB\n",
      "-----------------------------------------------------------------------------\n",
      "Разброс значений, максимум, минимум, среднее и медиана в столбцах датафрейма: internet\n",
      "          Unnamed: 0        mb_used        user_id\n",
      "count  149396.000000  149396.000000  149396.000000\n",
      "mean    74697.500000     370.192426    1252.099842\n",
      "std     43127.054745     278.300951     144.050823\n",
      "min         0.000000       0.000000    1000.000000\n",
      "25%     37348.750000     138.187500    1130.000000\n",
      "50%     74697.500000     348.015000    1251.000000\n",
      "75%    112046.250000     559.552500    1380.000000\n",
      "max    149395.000000    1724.830000    1499.000000\n",
      "-----------------------------------------------------------------------------\n",
      "Количество дубликатов в датафрейме: internet\n",
      "0\n",
      "=============================================================================\n",
      "Первые 5 строк датафрейма: messages\n"
     ]
    },
    {
     "data": {
      "text/html": [
       "<div>\n",
       "<style scoped>\n",
       "    .dataframe tbody tr th:only-of-type {\n",
       "        vertical-align: middle;\n",
       "    }\n",
       "\n",
       "    .dataframe tbody tr th {\n",
       "        vertical-align: top;\n",
       "    }\n",
       "\n",
       "    .dataframe thead th {\n",
       "        text-align: right;\n",
       "    }\n",
       "</style>\n",
       "<table border=\"1\" class=\"dataframe\">\n",
       "  <thead>\n",
       "    <tr style=\"text-align: right;\">\n",
       "      <th></th>\n",
       "      <th>id</th>\n",
       "      <th>message_date</th>\n",
       "      <th>user_id</th>\n",
       "    </tr>\n",
       "  </thead>\n",
       "  <tbody>\n",
       "    <tr>\n",
       "      <th>0</th>\n",
       "      <td>1000_0</td>\n",
       "      <td>2018-06-27</td>\n",
       "      <td>1000</td>\n",
       "    </tr>\n",
       "    <tr>\n",
       "      <th>1</th>\n",
       "      <td>1000_1</td>\n",
       "      <td>2018-10-08</td>\n",
       "      <td>1000</td>\n",
       "    </tr>\n",
       "    <tr>\n",
       "      <th>2</th>\n",
       "      <td>1000_2</td>\n",
       "      <td>2018-08-04</td>\n",
       "      <td>1000</td>\n",
       "    </tr>\n",
       "    <tr>\n",
       "      <th>3</th>\n",
       "      <td>1000_3</td>\n",
       "      <td>2018-06-16</td>\n",
       "      <td>1000</td>\n",
       "    </tr>\n",
       "    <tr>\n",
       "      <th>4</th>\n",
       "      <td>1000_4</td>\n",
       "      <td>2018-12-05</td>\n",
       "      <td>1000</td>\n",
       "    </tr>\n",
       "  </tbody>\n",
       "</table>\n",
       "</div>"
      ],
      "text/plain": [
       "       id message_date  user_id\n",
       "0  1000_0   2018-06-27     1000\n",
       "1  1000_1   2018-10-08     1000\n",
       "2  1000_2   2018-08-04     1000\n",
       "3  1000_3   2018-06-16     1000\n",
       "4  1000_4   2018-12-05     1000"
      ]
     },
     "metadata": {},
     "output_type": "display_data"
    },
    {
     "name": "stdout",
     "output_type": "stream",
     "text": [
      "-----------------------------------------------------------------------------\n",
      "Общая информация о датафрейме: messages\n",
      "<class 'pandas.core.frame.DataFrame'>\n",
      "RangeIndex: 123036 entries, 0 to 123035\n",
      "Data columns (total 3 columns):\n",
      " #   Column        Non-Null Count   Dtype \n",
      "---  ------        --------------   ----- \n",
      " 0   id            123036 non-null  object\n",
      " 1   message_date  123036 non-null  object\n",
      " 2   user_id       123036 non-null  int64 \n",
      "dtypes: int64(1), object(2)\n",
      "memory usage: 2.8+ MB\n",
      "-----------------------------------------------------------------------------\n",
      "Разброс значений, максимум, минимум, среднее и медиана в столбцах датафрейма: messages\n",
      "             user_id\n",
      "count  123036.000000\n",
      "mean     1256.989410\n",
      "std       143.523967\n",
      "min      1000.000000\n",
      "25%      1134.000000\n",
      "50%      1271.000000\n",
      "75%      1381.000000\n",
      "max      1499.000000\n",
      "-----------------------------------------------------------------------------\n",
      "Количество дубликатов в датафрейме: messages\n",
      "0\n",
      "=============================================================================\n",
      "Первые 5 строк датафрейма: tariffs\n"
     ]
    },
    {
     "data": {
      "text/html": [
       "<div>\n",
       "<style scoped>\n",
       "    .dataframe tbody tr th:only-of-type {\n",
       "        vertical-align: middle;\n",
       "    }\n",
       "\n",
       "    .dataframe tbody tr th {\n",
       "        vertical-align: top;\n",
       "    }\n",
       "\n",
       "    .dataframe thead th {\n",
       "        text-align: right;\n",
       "    }\n",
       "</style>\n",
       "<table border=\"1\" class=\"dataframe\">\n",
       "  <thead>\n",
       "    <tr style=\"text-align: right;\">\n",
       "      <th></th>\n",
       "      <th>messages_included</th>\n",
       "      <th>mb_per_month_included</th>\n",
       "      <th>minutes_included</th>\n",
       "      <th>rub_monthly_fee</th>\n",
       "      <th>rub_per_gb</th>\n",
       "      <th>rub_per_message</th>\n",
       "      <th>rub_per_minute</th>\n",
       "      <th>tariff_name</th>\n",
       "    </tr>\n",
       "  </thead>\n",
       "  <tbody>\n",
       "    <tr>\n",
       "      <th>0</th>\n",
       "      <td>50</td>\n",
       "      <td>15360</td>\n",
       "      <td>500</td>\n",
       "      <td>550</td>\n",
       "      <td>200</td>\n",
       "      <td>3</td>\n",
       "      <td>3</td>\n",
       "      <td>smart</td>\n",
       "    </tr>\n",
       "    <tr>\n",
       "      <th>1</th>\n",
       "      <td>1000</td>\n",
       "      <td>30720</td>\n",
       "      <td>3000</td>\n",
       "      <td>1950</td>\n",
       "      <td>150</td>\n",
       "      <td>1</td>\n",
       "      <td>1</td>\n",
       "      <td>ultra</td>\n",
       "    </tr>\n",
       "  </tbody>\n",
       "</table>\n",
       "</div>"
      ],
      "text/plain": [
       "   messages_included  mb_per_month_included  minutes_included  \\\n",
       "0                 50                  15360               500   \n",
       "1               1000                  30720              3000   \n",
       "\n",
       "   rub_monthly_fee  rub_per_gb  rub_per_message  rub_per_minute tariff_name  \n",
       "0              550         200                3               3       smart  \n",
       "1             1950         150                1               1       ultra  "
      ]
     },
     "metadata": {},
     "output_type": "display_data"
    },
    {
     "name": "stdout",
     "output_type": "stream",
     "text": [
      "-----------------------------------------------------------------------------\n",
      "Общая информация о датафрейме: tariffs\n",
      "<class 'pandas.core.frame.DataFrame'>\n",
      "RangeIndex: 2 entries, 0 to 1\n",
      "Data columns (total 8 columns):\n",
      " #   Column                 Non-Null Count  Dtype \n",
      "---  ------                 --------------  ----- \n",
      " 0   messages_included      2 non-null      int64 \n",
      " 1   mb_per_month_included  2 non-null      int64 \n",
      " 2   minutes_included       2 non-null      int64 \n",
      " 3   rub_monthly_fee        2 non-null      int64 \n",
      " 4   rub_per_gb             2 non-null      int64 \n",
      " 5   rub_per_message        2 non-null      int64 \n",
      " 6   rub_per_minute         2 non-null      int64 \n",
      " 7   tariff_name            2 non-null      object\n",
      "dtypes: int64(7), object(1)\n",
      "memory usage: 256.0+ bytes\n",
      "-----------------------------------------------------------------------------\n",
      "Разброс значений, максимум, минимум, среднее и медиана в столбцах датафрейма: tariffs\n",
      "       messages_included  mb_per_month_included  minutes_included  \\\n",
      "count           2.000000               2.000000          2.000000   \n",
      "mean          525.000000           23040.000000       1750.000000   \n",
      "std           671.751442           10861.160159       1767.766953   \n",
      "min            50.000000           15360.000000        500.000000   \n",
      "25%           287.500000           19200.000000       1125.000000   \n",
      "50%           525.000000           23040.000000       1750.000000   \n",
      "75%           762.500000           26880.000000       2375.000000   \n",
      "max          1000.000000           30720.000000       3000.000000   \n",
      "\n",
      "       rub_monthly_fee  rub_per_gb  rub_per_message  rub_per_minute  \n",
      "count         2.000000    2.000000         2.000000        2.000000  \n",
      "mean       1250.000000  175.000000         2.000000        2.000000  \n",
      "std         989.949494   35.355339         1.414214        1.414214  \n",
      "min         550.000000  150.000000         1.000000        1.000000  \n",
      "25%         900.000000  162.500000         1.500000        1.500000  \n",
      "50%        1250.000000  175.000000         2.000000        2.000000  \n",
      "75%        1600.000000  187.500000         2.500000        2.500000  \n",
      "max        1950.000000  200.000000         3.000000        3.000000  \n",
      "-----------------------------------------------------------------------------\n",
      "Количество дубликатов в датафрейме: tariffs\n",
      "0\n",
      "=============================================================================\n",
      "Первые 5 строк датафрейма: users\n"
     ]
    },
    {
     "data": {
      "text/html": [
       "<div>\n",
       "<style scoped>\n",
       "    .dataframe tbody tr th:only-of-type {\n",
       "        vertical-align: middle;\n",
       "    }\n",
       "\n",
       "    .dataframe tbody tr th {\n",
       "        vertical-align: top;\n",
       "    }\n",
       "\n",
       "    .dataframe thead th {\n",
       "        text-align: right;\n",
       "    }\n",
       "</style>\n",
       "<table border=\"1\" class=\"dataframe\">\n",
       "  <thead>\n",
       "    <tr style=\"text-align: right;\">\n",
       "      <th></th>\n",
       "      <th>user_id</th>\n",
       "      <th>age</th>\n",
       "      <th>churn_date</th>\n",
       "      <th>city</th>\n",
       "      <th>first_name</th>\n",
       "      <th>last_name</th>\n",
       "      <th>reg_date</th>\n",
       "      <th>tariff</th>\n",
       "    </tr>\n",
       "  </thead>\n",
       "  <tbody>\n",
       "    <tr>\n",
       "      <th>0</th>\n",
       "      <td>1000</td>\n",
       "      <td>52</td>\n",
       "      <td>NaN</td>\n",
       "      <td>Краснодар</td>\n",
       "      <td>Рафаил</td>\n",
       "      <td>Верещагин</td>\n",
       "      <td>2018-05-25</td>\n",
       "      <td>ultra</td>\n",
       "    </tr>\n",
       "    <tr>\n",
       "      <th>1</th>\n",
       "      <td>1001</td>\n",
       "      <td>41</td>\n",
       "      <td>NaN</td>\n",
       "      <td>Москва</td>\n",
       "      <td>Иван</td>\n",
       "      <td>Ежов</td>\n",
       "      <td>2018-11-01</td>\n",
       "      <td>smart</td>\n",
       "    </tr>\n",
       "    <tr>\n",
       "      <th>2</th>\n",
       "      <td>1002</td>\n",
       "      <td>59</td>\n",
       "      <td>NaN</td>\n",
       "      <td>Стерлитамак</td>\n",
       "      <td>Евгений</td>\n",
       "      <td>Абрамович</td>\n",
       "      <td>2018-06-17</td>\n",
       "      <td>smart</td>\n",
       "    </tr>\n",
       "    <tr>\n",
       "      <th>3</th>\n",
       "      <td>1003</td>\n",
       "      <td>23</td>\n",
       "      <td>NaN</td>\n",
       "      <td>Москва</td>\n",
       "      <td>Белла</td>\n",
       "      <td>Белякова</td>\n",
       "      <td>2018-08-17</td>\n",
       "      <td>ultra</td>\n",
       "    </tr>\n",
       "    <tr>\n",
       "      <th>4</th>\n",
       "      <td>1004</td>\n",
       "      <td>68</td>\n",
       "      <td>NaN</td>\n",
       "      <td>Новокузнецк</td>\n",
       "      <td>Татьяна</td>\n",
       "      <td>Авдеенко</td>\n",
       "      <td>2018-05-14</td>\n",
       "      <td>ultra</td>\n",
       "    </tr>\n",
       "  </tbody>\n",
       "</table>\n",
       "</div>"
      ],
      "text/plain": [
       "   user_id  age churn_date         city first_name  last_name    reg_date  \\\n",
       "0     1000   52        NaN    Краснодар     Рафаил  Верещагин  2018-05-25   \n",
       "1     1001   41        NaN       Москва       Иван       Ежов  2018-11-01   \n",
       "2     1002   59        NaN  Стерлитамак    Евгений  Абрамович  2018-06-17   \n",
       "3     1003   23        NaN       Москва      Белла   Белякова  2018-08-17   \n",
       "4     1004   68        NaN  Новокузнецк    Татьяна   Авдеенко  2018-05-14   \n",
       "\n",
       "  tariff  \n",
       "0  ultra  \n",
       "1  smart  \n",
       "2  smart  \n",
       "3  ultra  \n",
       "4  ultra  "
      ]
     },
     "metadata": {},
     "output_type": "display_data"
    },
    {
     "name": "stdout",
     "output_type": "stream",
     "text": [
      "-----------------------------------------------------------------------------\n",
      "Общая информация о датафрейме: users\n",
      "<class 'pandas.core.frame.DataFrame'>\n",
      "RangeIndex: 500 entries, 0 to 499\n",
      "Data columns (total 8 columns):\n",
      " #   Column      Non-Null Count  Dtype \n",
      "---  ------      --------------  ----- \n",
      " 0   user_id     500 non-null    int64 \n",
      " 1   age         500 non-null    int64 \n",
      " 2   churn_date  38 non-null     object\n",
      " 3   city        500 non-null    object\n",
      " 4   first_name  500 non-null    object\n",
      " 5   last_name   500 non-null    object\n",
      " 6   reg_date    500 non-null    object\n",
      " 7   tariff      500 non-null    object\n",
      "dtypes: int64(2), object(6)\n",
      "memory usage: 31.4+ KB\n",
      "-----------------------------------------------------------------------------\n",
      "Разброс значений, максимум, минимум, среднее и медиана в столбцах датафрейма: users\n",
      "           user_id        age\n",
      "count   500.000000  500.00000\n",
      "mean   1249.500000   46.58800\n",
      "std     144.481833   16.66763\n",
      "min    1000.000000   18.00000\n",
      "25%    1124.750000   32.00000\n",
      "50%    1249.500000   46.00000\n",
      "75%    1374.250000   62.00000\n",
      "max    1499.000000   75.00000\n",
      "-----------------------------------------------------------------------------\n",
      "Количество дубликатов в датафрейме: users\n",
      "0\n",
      "=============================================================================\n"
     ]
    }
   ],
   "source": [
    "# Читаем файлы с исходными данными и преобразуем их в датафрем Питона:\n",
    "#     указываем путь на локальном компьютере и, как альтернативу, в общедоступной папке в jupiter hub: \n",
    "try:\n",
    "    calls = pd.read_csv(\"Y:/Обучение цифровой профессии/Аналитик данных/01-04 Статистический анализ данных/calls.csv\")\n",
    "    internet = pd.read_csv(\"Y:/Обучение цифровой профессии/Аналитик данных/01-04 Статистический анализ данных/internet.csv\")\n",
    "    messages = pd.read_csv(\"Y:/Обучение цифровой профессии/Аналитик данных/01-04 Статистический анализ данных/messages.csv\")\n",
    "    tariffs = pd.read_csv(\"Y:/Обучение цифровой профессии/Аналитик данных/01-04 Статистический анализ данных/tariffs.csv\")\n",
    "    users = pd.read_csv(\"Y:/Обучение цифровой профессии/Аналитик данных/01-04 Статистический анализ данных/users.csv\")\n",
    "except:\n",
    "    calls = pd.read_csv(\"/datasets/calls.csv\")\n",
    "    internet = pd.read_csv(\"/datasets/internet.csv\")\n",
    "    messages = pd.read_csv(\"/datasets/messages.csv\")\n",
    "    tariffs = pd.read_csv(\"/datasets/tariffs.csv\")\n",
    "    users = pd.read_csv(\"/datasets/users.csv\")\n",
    "#     присваиваем имена исходным таблицам:\n",
    "calls.name = 'calls'\n",
    "internet.name = 'internet'\n",
    "messages.name = 'messages'\n",
    "tariffs.name = 'tariffs'\n",
    "users.name = 'users'\n",
    "#     собираем исходный датафрейм:\n",
    "df = [calls, internet, messages, tariffs, users]\n",
    "#     изучаем содержимое исходного датафрейма: \n",
    "for data in df:\n",
    "    print(\"Первые 5 строк датафрейма:\", data.name)\n",
    "    display(data.head())\n",
    "    print(\"-----------------------------------------------------------------------------\")\n",
    "    print(\"Общая информация о датафрейме:\", data.name)\n",
    "    data.info()\n",
    "    print(\"-----------------------------------------------------------------------------\")\n",
    "    print(\"Разброс значений, максимум, минимум, среднее и медиана в столбцах датафрейма:\", data.name)\n",
    "    print(data.describe())\n",
    "    print(\"-----------------------------------------------------------------------------\")\n",
    "    print(\"Количество дубликатов в датафрейме:\", data.name)\n",
    "    print(data.duplicated().sum())\n",
    "    print(\"=============================================================================\")\n",
    "\n"
   ]
  },
  {
   "cell_type": "markdown",
   "id": "5346d85a",
   "metadata": {},
   "source": [
    "Исходные датафреймы представляют собой таблицы:</br>\n",
    "- информация о звонках (calls): из 4 столбцов и 202607 строк;</br>\n",
    "- информация об интернет-сессиях (internet): из 5 столбцов и 149396 строк;</br>\n",
    "- информация о сообщениях (messages): из 3 столбцов и 123036 строк;</br>\n",
    "- информация о тарифах (tariffs): из 8 столбцов и 2 строк;</br>\n",
    "- информация об абонентах (users): из 8 столбцов и 500 строк (считая нулевую).</br>\n",
    "    \n",
    "В столбцах используются значения различных типов (строки, вещественные и целые числа).</br>\n",
    "Для ряда значений автоматически определенный тип неверен (например, даты должны быть в формате дата/время, а не строками).\n",
    "В таблице с информацией об абонентах имеемся столбец \"churn_date\" (дата прекращения пользования тарифом) с пропусками данных.</br>\n",
    "Явных дубликатов в данных не обнаружено.\n",
    "\n",
    "Требуется предобработка данных.\n"
   ]
  },
  {
   "cell_type": "markdown",
   "id": "9d80a258",
   "metadata": {
    "scrolled": true
   },
   "source": [
    "## Предобработка данных\n",
    "[В начало](#intro)\n",
    "\n",
    "Для единообразного отображения названий столбцов переименуем столбец \"Unnamed: 0\" в \"unnamed\" таблицы \"internet\".\n",
    "\n",
    "Также для однозначной трактовки значений столбцов при дальнейшем исследовании переименуем столбцы:\n",
    "</br>\n",
    "- \"id\" таблиц \"calls\", \"internet\" и \"messages\" в \"id_calls\", \"id_internet\" и \"id_messages\" соответственно; \n",
    "- \"tariff\" таблицы \"users\" в \"tariff_name\"."
   ]
  },
  {
   "cell_type": "code",
   "execution_count": 3,
   "id": "d4abde06",
   "metadata": {
    "scrolled": true
   },
   "outputs": [],
   "source": [
    "# Переименовываем столбец \"Unnamed: 0\" в \"unnamed\" таблицы \"internet\". При этом изменяем исходный датафрем:\n",
    "internet.rename(columns = {'Unnamed: 0' : 'unnamed'}, inplace = True)\n",
    "\n",
    "# Переименовываем остальные столбцы:\n",
    "calls.rename(columns = {'id' : 'id_calls'}, inplace = True)\n",
    "internet.rename(columns = {'id' : 'id_internet'}, inplace = True)\n",
    "messages.rename(columns = {'id' : 'id_messages'}, inplace = True)\n",
    "users.rename(columns = {'tariff' : 'tariff_name'}, inplace = True)"
   ]
  },
  {
   "cell_type": "markdown",
   "id": "05627947",
   "metadata": {},
   "source": [
    "### Обработка пропусков в данных\n",
    "[В начало](#intro)</br>\n",
    "\n",
    "Из описания данных для таблицы **users** (информация о пользователях) следует, что если значение столбца **churn_date**\n",
    "(дата прекращения пользования тарифом) пропущено, то тариф ещё действовал на момент выгрузки данных.</br>\n",
    "Поскольку предоставлены данные за 2018 год, то заменяем все пропущенные значения на 31.12.2018.  "
   ]
  },
  {
   "cell_type": "code",
   "execution_count": 4,
   "id": "ac95fa99",
   "metadata": {},
   "outputs": [
    {
     "name": "stdout",
     "output_type": "stream",
     "text": [
      "Доля пропущенных значений о смене тарифа среди всех данных таблицы users 92.4%.\n",
      "Количество абонентов, сменивших тарифный план в 2018 году: 38\n"
     ]
    }
   ],
   "source": [
    "# Оценим долю пропущенных значений среди всех данных таблицы users: \n",
    "var_a = users['churn_date'].isna().mean()*100\n",
    "print(f'Доля пропущенных значений о смене тарифа среди всех данных таблицы users {var_a}%.')\n",
    "\n",
    "# Датафрейм из строк абонентов, которые сменили тарифный план: \n",
    "df_users_act = users.copy()\n",
    "df_users_act['churn_date'] = df_users_act['churn_date'].fillna('act')\n",
    "df_users_act = df_users_act.query('churn_date != \"act\"')\n",
    "#display(df_users_act.head(100))\n",
    "print('Количество абонентов, сменивших тарифный план в 2018 году:', df_users_act['churn_date'].count())\n",
    "\n",
    "# Заменяем пропуски в столбце churn_date на значение 2018-12-31:\n",
    "users['churn_date'] = users['churn_date'].fillna('2018-12-31')"
   ]
  },
  {
   "cell_type": "markdown",
   "id": "051af039",
   "metadata": {},
   "source": [
    "### Переопределение типов данных\n",
    "[В начало](#intro)</br>\n",
    "\n",
    "Оценивая автоматически определенные типы данных в столбцах таблиц, заключаем, что типы во всех случаях, за исключением\n",
    "дат, определены верно.</br>\n",
    "Заменяем типы данных в столбцах с датами с object на datetime64 в:</br>\n",
    "- таблице calls: в столбце call_date;</br>\n",
    "- таблице internet: в столбце session_date;</br>\n",
    "- таблице messages: в столбце message_date;</br>    \n",
    "- таблице users: в столбце churn_date (с учетом замен всех пропущенных значений на 31.12.2018) и столбце reg_date.</br>"
   ]
  },
  {
   "cell_type": "code",
   "execution_count": 5,
   "id": "443a85a6",
   "metadata": {},
   "outputs": [],
   "source": [
    "# Переопределяем типы данных в столбцах:\n",
    "calls['call_date'] = pd.to_datetime(calls['call_date'], format='%Y.%m.%d')\n",
    "internet['session_date'] = pd.to_datetime(internet['session_date'], format='%Y.%m.%d')\n",
    "messages['message_date'] = pd.to_datetime(messages['message_date'], format='%Y.%m.%d')\n",
    "users['churn_date'] = pd.to_datetime(users['churn_date'], format='%Y.%m.%d')\n",
    "users['reg_date'] = pd.to_datetime(users['reg_date'], format='%Y.%m.%d')"
   ]
  },
  {
   "cell_type": "markdown",
   "id": "c735d037",
   "metadata": {},
   "source": [
    "### Дополнение данных производными параметрами\n",
    "[В начало](#intro)\n",
    "    \n",
    "Посчитаем для каждого пользователя:</br>\n",
    "- количество сделанных звонков и израсходованных минут разговора по месяцам;</br>\n",
    "- объем израсходованного интернет-трафика по месяцам;</br>\n",
    "- количество отправленных сообщений по месяцам;</br>\n",
    "- помесячную выручку с каждого пользователя (вычтем бесплатный лимит из суммарного количества звонков, сообщений и интернет-трафика; остаток умножим на значение из тарифного плана; прибавим абонентскую плату, соответствующую тарифному плану)."
   ]
  },
  {
   "cell_type": "code",
   "execution_count": 6,
   "id": "5a5447e0",
   "metadata": {},
   "outputs": [
    {
     "name": "stdout",
     "output_type": "stream",
     "text": [
      "Первые и последние 5 строк объединенной сводной таблицы:\n"
     ]
    },
    {
     "data": {
      "text/html": [
       "<div>\n",
       "<style scoped>\n",
       "    .dataframe tbody tr th:only-of-type {\n",
       "        vertical-align: middle;\n",
       "    }\n",
       "\n",
       "    .dataframe tbody tr th {\n",
       "        vertical-align: top;\n",
       "    }\n",
       "\n",
       "    .dataframe thead th {\n",
       "        text-align: right;\n",
       "    }\n",
       "</style>\n",
       "<table border=\"1\" class=\"dataframe\">\n",
       "  <thead>\n",
       "    <tr style=\"text-align: right;\">\n",
       "      <th></th>\n",
       "      <th>user_id</th>\n",
       "      <th>month</th>\n",
       "      <th>calls_count</th>\n",
       "      <th>calls_sum_round</th>\n",
       "      <th>internet_count</th>\n",
       "      <th>internet_sum</th>\n",
       "      <th>internet_sum_round</th>\n",
       "      <th>messages_count</th>\n",
       "      <th>churn_date</th>\n",
       "      <th>city</th>\n",
       "      <th>reg_date</th>\n",
       "      <th>tariff_name</th>\n",
       "      <th>messages_included</th>\n",
       "      <th>mb_per_month_included</th>\n",
       "      <th>minutes_included</th>\n",
       "      <th>rub_monthly_fee</th>\n",
       "      <th>rub_per_gb</th>\n",
       "      <th>rub_per_message</th>\n",
       "      <th>rub_per_minute</th>\n",
       "      <th>profit</th>\n",
       "    </tr>\n",
       "  </thead>\n",
       "  <tbody>\n",
       "    <tr>\n",
       "      <th>0</th>\n",
       "      <td>1000</td>\n",
       "      <td>5.0</td>\n",
       "      <td>22.0</td>\n",
       "      <td>159.0</td>\n",
       "      <td>5.0</td>\n",
       "      <td>2.200674</td>\n",
       "      <td>3.0</td>\n",
       "      <td>22.0</td>\n",
       "      <td>2018-12-31</td>\n",
       "      <td>Краснодар</td>\n",
       "      <td>2018-05-25</td>\n",
       "      <td>ultra</td>\n",
       "      <td>1000</td>\n",
       "      <td>30.0</td>\n",
       "      <td>3000</td>\n",
       "      <td>1950</td>\n",
       "      <td>150</td>\n",
       "      <td>1</td>\n",
       "      <td>1</td>\n",
       "      <td>1950.0</td>\n",
       "    </tr>\n",
       "    <tr>\n",
       "      <th>1</th>\n",
       "      <td>1000</td>\n",
       "      <td>6.0</td>\n",
       "      <td>43.0</td>\n",
       "      <td>172.0</td>\n",
       "      <td>49.0</td>\n",
       "      <td>22.689229</td>\n",
       "      <td>23.0</td>\n",
       "      <td>60.0</td>\n",
       "      <td>2018-12-31</td>\n",
       "      <td>Краснодар</td>\n",
       "      <td>2018-05-25</td>\n",
       "      <td>ultra</td>\n",
       "      <td>1000</td>\n",
       "      <td>30.0</td>\n",
       "      <td>3000</td>\n",
       "      <td>1950</td>\n",
       "      <td>150</td>\n",
       "      <td>1</td>\n",
       "      <td>1</td>\n",
       "      <td>1950.0</td>\n",
       "    </tr>\n",
       "    <tr>\n",
       "      <th>2</th>\n",
       "      <td>1000</td>\n",
       "      <td>7.0</td>\n",
       "      <td>47.0</td>\n",
       "      <td>340.0</td>\n",
       "      <td>29.0</td>\n",
       "      <td>13.675430</td>\n",
       "      <td>14.0</td>\n",
       "      <td>75.0</td>\n",
       "      <td>2018-12-31</td>\n",
       "      <td>Краснодар</td>\n",
       "      <td>2018-05-25</td>\n",
       "      <td>ultra</td>\n",
       "      <td>1000</td>\n",
       "      <td>30.0</td>\n",
       "      <td>3000</td>\n",
       "      <td>1950</td>\n",
       "      <td>150</td>\n",
       "      <td>1</td>\n",
       "      <td>1</td>\n",
       "      <td>1950.0</td>\n",
       "    </tr>\n",
       "    <tr>\n",
       "      <th>3</th>\n",
       "      <td>1000</td>\n",
       "      <td>8.0</td>\n",
       "      <td>52.0</td>\n",
       "      <td>408.0</td>\n",
       "      <td>29.0</td>\n",
       "      <td>13.726494</td>\n",
       "      <td>14.0</td>\n",
       "      <td>81.0</td>\n",
       "      <td>2018-12-31</td>\n",
       "      <td>Краснодар</td>\n",
       "      <td>2018-05-25</td>\n",
       "      <td>ultra</td>\n",
       "      <td>1000</td>\n",
       "      <td>30.0</td>\n",
       "      <td>3000</td>\n",
       "      <td>1950</td>\n",
       "      <td>150</td>\n",
       "      <td>1</td>\n",
       "      <td>1</td>\n",
       "      <td>1950.0</td>\n",
       "    </tr>\n",
       "    <tr>\n",
       "      <th>4</th>\n",
       "      <td>1000</td>\n",
       "      <td>9.0</td>\n",
       "      <td>58.0</td>\n",
       "      <td>466.0</td>\n",
       "      <td>27.0</td>\n",
       "      <td>14.227451</td>\n",
       "      <td>15.0</td>\n",
       "      <td>57.0</td>\n",
       "      <td>2018-12-31</td>\n",
       "      <td>Краснодар</td>\n",
       "      <td>2018-05-25</td>\n",
       "      <td>ultra</td>\n",
       "      <td>1000</td>\n",
       "      <td>30.0</td>\n",
       "      <td>3000</td>\n",
       "      <td>1950</td>\n",
       "      <td>150</td>\n",
       "      <td>1</td>\n",
       "      <td>1</td>\n",
       "      <td>1950.0</td>\n",
       "    </tr>\n",
       "    <tr>\n",
       "      <th>...</th>\n",
       "      <td>...</td>\n",
       "      <td>...</td>\n",
       "      <td>...</td>\n",
       "      <td>...</td>\n",
       "      <td>...</td>\n",
       "      <td>...</td>\n",
       "      <td>...</td>\n",
       "      <td>...</td>\n",
       "      <td>...</td>\n",
       "      <td>...</td>\n",
       "      <td>...</td>\n",
       "      <td>...</td>\n",
       "      <td>...</td>\n",
       "      <td>...</td>\n",
       "      <td>...</td>\n",
       "      <td>...</td>\n",
       "      <td>...</td>\n",
       "      <td>...</td>\n",
       "      <td>...</td>\n",
       "      <td>...</td>\n",
       "    </tr>\n",
       "    <tr>\n",
       "      <th>3211</th>\n",
       "      <td>1489</td>\n",
       "      <td>10.0</td>\n",
       "      <td>NaN</td>\n",
       "      <td>NaN</td>\n",
       "      <td>63.0</td>\n",
       "      <td>19.101016</td>\n",
       "      <td>20.0</td>\n",
       "      <td>21.0</td>\n",
       "      <td>2018-12-31</td>\n",
       "      <td>Санкт-Петербург</td>\n",
       "      <td>2018-08-15</td>\n",
       "      <td>smart</td>\n",
       "      <td>50</td>\n",
       "      <td>15.0</td>\n",
       "      <td>500</td>\n",
       "      <td>550</td>\n",
       "      <td>200</td>\n",
       "      <td>3</td>\n",
       "      <td>3</td>\n",
       "      <td>1550.0</td>\n",
       "    </tr>\n",
       "    <tr>\n",
       "      <th>3212</th>\n",
       "      <td>1489</td>\n",
       "      <td>11.0</td>\n",
       "      <td>NaN</td>\n",
       "      <td>NaN</td>\n",
       "      <td>55.0</td>\n",
       "      <td>17.081602</td>\n",
       "      <td>18.0</td>\n",
       "      <td>20.0</td>\n",
       "      <td>2018-12-31</td>\n",
       "      <td>Санкт-Петербург</td>\n",
       "      <td>2018-08-15</td>\n",
       "      <td>smart</td>\n",
       "      <td>50</td>\n",
       "      <td>15.0</td>\n",
       "      <td>500</td>\n",
       "      <td>550</td>\n",
       "      <td>200</td>\n",
       "      <td>3</td>\n",
       "      <td>3</td>\n",
       "      <td>1150.0</td>\n",
       "    </tr>\n",
       "    <tr>\n",
       "      <th>3213</th>\n",
       "      <td>1489</td>\n",
       "      <td>12.0</td>\n",
       "      <td>NaN</td>\n",
       "      <td>NaN</td>\n",
       "      <td>51.0</td>\n",
       "      <td>16.916514</td>\n",
       "      <td>17.0</td>\n",
       "      <td>35.0</td>\n",
       "      <td>2018-12-31</td>\n",
       "      <td>Санкт-Петербург</td>\n",
       "      <td>2018-08-15</td>\n",
       "      <td>smart</td>\n",
       "      <td>50</td>\n",
       "      <td>15.0</td>\n",
       "      <td>500</td>\n",
       "      <td>550</td>\n",
       "      <td>200</td>\n",
       "      <td>3</td>\n",
       "      <td>3</td>\n",
       "      <td>950.0</td>\n",
       "    </tr>\n",
       "    <tr>\n",
       "      <th>3214</th>\n",
       "      <td>1128</td>\n",
       "      <td>NaN</td>\n",
       "      <td>NaN</td>\n",
       "      <td>NaN</td>\n",
       "      <td>NaN</td>\n",
       "      <td>NaN</td>\n",
       "      <td>NaN</td>\n",
       "      <td>NaN</td>\n",
       "      <td>2018-12-23</td>\n",
       "      <td>Волжский</td>\n",
       "      <td>2018-12-15</td>\n",
       "      <td>ultra</td>\n",
       "      <td>1000</td>\n",
       "      <td>30.0</td>\n",
       "      <td>3000</td>\n",
       "      <td>1950</td>\n",
       "      <td>150</td>\n",
       "      <td>1</td>\n",
       "      <td>1</td>\n",
       "      <td>1950.0</td>\n",
       "    </tr>\n",
       "    <tr>\n",
       "      <th>3215</th>\n",
       "      <td>1371</td>\n",
       "      <td>NaN</td>\n",
       "      <td>NaN</td>\n",
       "      <td>NaN</td>\n",
       "      <td>NaN</td>\n",
       "      <td>NaN</td>\n",
       "      <td>NaN</td>\n",
       "      <td>NaN</td>\n",
       "      <td>2018-12-30</td>\n",
       "      <td>Омск</td>\n",
       "      <td>2018-12-25</td>\n",
       "      <td>smart</td>\n",
       "      <td>50</td>\n",
       "      <td>15.0</td>\n",
       "      <td>500</td>\n",
       "      <td>550</td>\n",
       "      <td>200</td>\n",
       "      <td>3</td>\n",
       "      <td>3</td>\n",
       "      <td>550.0</td>\n",
       "    </tr>\n",
       "  </tbody>\n",
       "</table>\n",
       "<p>3216 rows × 20 columns</p>\n",
       "</div>"
      ],
      "text/plain": [
       "      user_id  month  calls_count  calls_sum_round  internet_count  \\\n",
       "0        1000    5.0         22.0            159.0             5.0   \n",
       "1        1000    6.0         43.0            172.0            49.0   \n",
       "2        1000    7.0         47.0            340.0            29.0   \n",
       "3        1000    8.0         52.0            408.0            29.0   \n",
       "4        1000    9.0         58.0            466.0            27.0   \n",
       "...       ...    ...          ...              ...             ...   \n",
       "3211     1489   10.0          NaN              NaN            63.0   \n",
       "3212     1489   11.0          NaN              NaN            55.0   \n",
       "3213     1489   12.0          NaN              NaN            51.0   \n",
       "3214     1128    NaN          NaN              NaN             NaN   \n",
       "3215     1371    NaN          NaN              NaN             NaN   \n",
       "\n",
       "      internet_sum  internet_sum_round  messages_count churn_date  \\\n",
       "0         2.200674                 3.0            22.0 2018-12-31   \n",
       "1        22.689229                23.0            60.0 2018-12-31   \n",
       "2        13.675430                14.0            75.0 2018-12-31   \n",
       "3        13.726494                14.0            81.0 2018-12-31   \n",
       "4        14.227451                15.0            57.0 2018-12-31   \n",
       "...            ...                 ...             ...        ...   \n",
       "3211     19.101016                20.0            21.0 2018-12-31   \n",
       "3212     17.081602                18.0            20.0 2018-12-31   \n",
       "3213     16.916514                17.0            35.0 2018-12-31   \n",
       "3214           NaN                 NaN             NaN 2018-12-23   \n",
       "3215           NaN                 NaN             NaN 2018-12-30   \n",
       "\n",
       "                 city   reg_date tariff_name  messages_included  \\\n",
       "0           Краснодар 2018-05-25       ultra               1000   \n",
       "1           Краснодар 2018-05-25       ultra               1000   \n",
       "2           Краснодар 2018-05-25       ultra               1000   \n",
       "3           Краснодар 2018-05-25       ultra               1000   \n",
       "4           Краснодар 2018-05-25       ultra               1000   \n",
       "...               ...        ...         ...                ...   \n",
       "3211  Санкт-Петербург 2018-08-15       smart                 50   \n",
       "3212  Санкт-Петербург 2018-08-15       smart                 50   \n",
       "3213  Санкт-Петербург 2018-08-15       smart                 50   \n",
       "3214         Волжский 2018-12-15       ultra               1000   \n",
       "3215             Омск 2018-12-25       smart                 50   \n",
       "\n",
       "      mb_per_month_included  minutes_included  rub_monthly_fee  rub_per_gb  \\\n",
       "0                      30.0              3000             1950         150   \n",
       "1                      30.0              3000             1950         150   \n",
       "2                      30.0              3000             1950         150   \n",
       "3                      30.0              3000             1950         150   \n",
       "4                      30.0              3000             1950         150   \n",
       "...                     ...               ...              ...         ...   \n",
       "3211                   15.0               500              550         200   \n",
       "3212                   15.0               500              550         200   \n",
       "3213                   15.0               500              550         200   \n",
       "3214                   30.0              3000             1950         150   \n",
       "3215                   15.0               500              550         200   \n",
       "\n",
       "      rub_per_message  rub_per_minute  profit  \n",
       "0                   1               1  1950.0  \n",
       "1                   1               1  1950.0  \n",
       "2                   1               1  1950.0  \n",
       "3                   1               1  1950.0  \n",
       "4                   1               1  1950.0  \n",
       "...               ...             ...     ...  \n",
       "3211                3               3  1550.0  \n",
       "3212                3               3  1150.0  \n",
       "3213                3               3   950.0  \n",
       "3214                1               1  1950.0  \n",
       "3215                3               3   550.0  \n",
       "\n",
       "[3216 rows x 20 columns]"
      ]
     },
     "metadata": {},
     "output_type": "display_data"
    },
    {
     "name": "stdout",
     "output_type": "stream",
     "text": [
      "-----------------------------------------------------------------------------------\n",
      "Уникальные значения номеров месяцев в таблице:\n",
      "[ 1.  2.  3.  4.  5.  6.  7.  8.  9. 10. 11. 12. nan]\n",
      "-----------------------------------------------------------------------------------\n",
      "Строки сводной таблицы, в которых значение для номера месяца не указано:\n"
     ]
    },
    {
     "data": {
      "text/html": [
       "<div>\n",
       "<style scoped>\n",
       "    .dataframe tbody tr th:only-of-type {\n",
       "        vertical-align: middle;\n",
       "    }\n",
       "\n",
       "    .dataframe tbody tr th {\n",
       "        vertical-align: top;\n",
       "    }\n",
       "\n",
       "    .dataframe thead th {\n",
       "        text-align: right;\n",
       "    }\n",
       "</style>\n",
       "<table border=\"1\" class=\"dataframe\">\n",
       "  <thead>\n",
       "    <tr style=\"text-align: right;\">\n",
       "      <th></th>\n",
       "      <th>user_id</th>\n",
       "      <th>month</th>\n",
       "      <th>calls_count</th>\n",
       "      <th>calls_sum_round</th>\n",
       "      <th>internet_count</th>\n",
       "      <th>internet_sum</th>\n",
       "      <th>internet_sum_round</th>\n",
       "      <th>messages_count</th>\n",
       "      <th>churn_date</th>\n",
       "      <th>city</th>\n",
       "      <th>reg_date</th>\n",
       "      <th>tariff_name</th>\n",
       "      <th>messages_included</th>\n",
       "      <th>mb_per_month_included</th>\n",
       "      <th>minutes_included</th>\n",
       "      <th>rub_monthly_fee</th>\n",
       "      <th>rub_per_gb</th>\n",
       "      <th>rub_per_message</th>\n",
       "      <th>rub_per_minute</th>\n",
       "      <th>profit</th>\n",
       "    </tr>\n",
       "  </thead>\n",
       "  <tbody>\n",
       "    <tr>\n",
       "      <th>3214</th>\n",
       "      <td>1128</td>\n",
       "      <td>NaN</td>\n",
       "      <td>NaN</td>\n",
       "      <td>NaN</td>\n",
       "      <td>NaN</td>\n",
       "      <td>NaN</td>\n",
       "      <td>NaN</td>\n",
       "      <td>NaN</td>\n",
       "      <td>2018-12-23</td>\n",
       "      <td>Волжский</td>\n",
       "      <td>2018-12-15</td>\n",
       "      <td>ultra</td>\n",
       "      <td>1000</td>\n",
       "      <td>30.0</td>\n",
       "      <td>3000</td>\n",
       "      <td>1950</td>\n",
       "      <td>150</td>\n",
       "      <td>1</td>\n",
       "      <td>1</td>\n",
       "      <td>1950.0</td>\n",
       "    </tr>\n",
       "    <tr>\n",
       "      <th>3215</th>\n",
       "      <td>1371</td>\n",
       "      <td>NaN</td>\n",
       "      <td>NaN</td>\n",
       "      <td>NaN</td>\n",
       "      <td>NaN</td>\n",
       "      <td>NaN</td>\n",
       "      <td>NaN</td>\n",
       "      <td>NaN</td>\n",
       "      <td>2018-12-30</td>\n",
       "      <td>Омск</td>\n",
       "      <td>2018-12-25</td>\n",
       "      <td>smart</td>\n",
       "      <td>50</td>\n",
       "      <td>15.0</td>\n",
       "      <td>500</td>\n",
       "      <td>550</td>\n",
       "      <td>200</td>\n",
       "      <td>3</td>\n",
       "      <td>3</td>\n",
       "      <td>550.0</td>\n",
       "    </tr>\n",
       "  </tbody>\n",
       "</table>\n",
       "</div>"
      ],
      "text/plain": [
       "      user_id  month  calls_count  calls_sum_round  internet_count  \\\n",
       "3214     1128    NaN          NaN              NaN             NaN   \n",
       "3215     1371    NaN          NaN              NaN             NaN   \n",
       "\n",
       "      internet_sum  internet_sum_round  messages_count churn_date      city  \\\n",
       "3214           NaN                 NaN             NaN 2018-12-23  Волжский   \n",
       "3215           NaN                 NaN             NaN 2018-12-30      Омск   \n",
       "\n",
       "       reg_date tariff_name  messages_included  mb_per_month_included  \\\n",
       "3214 2018-12-15       ultra               1000                   30.0   \n",
       "3215 2018-12-25       smart                 50                   15.0   \n",
       "\n",
       "      minutes_included  rub_monthly_fee  rub_per_gb  rub_per_message  \\\n",
       "3214              3000             1950         150                1   \n",
       "3215               500              550         200                3   \n",
       "\n",
       "      rub_per_minute  profit  \n",
       "3214               1  1950.0  \n",
       "3215               3   550.0  "
      ]
     },
     "metadata": {},
     "output_type": "display_data"
    }
   ],
   "source": [
    "# Собираем сводную таблицу об абонентах с помесячной информацией о звонках, интернет-траффику, сообщениям, выручке:\n",
    "\n",
    "# а) добавляем в таблицы столбцы с номером месяца, в котором происходили конкретный звонок, интернет-соединение или отправка сообщения:\n",
    "calls['month'] = pd.DatetimeIndex(calls['call_date']).month\n",
    "internet['month'] = pd.DatetimeIndex(internet['session_date']).month\n",
    "messages['month'] = pd.DatetimeIndex(messages['message_date']).month\n",
    "\n",
    "# б) создаем сводные таблицы для абонентов по месяцам, после чего\n",
    "#    переименовываем столбцы для однозначной трактовки при дальнейшей аналитике\n",
    "#    и добавляем столбцы с округленными значениями согласно примечания к описанию тарифов\n",
    "#    (правила округления звоков и интернет-траффика - из примечания к описанию тарифов): \n",
    "# б.1) - по звонкам:\n",
    "calls['duration_round'] = np.ceil(calls['duration'])\n",
    "df_calls = calls.pivot_table(index=['user_id', 'month'], values='duration_round', aggfunc={'count', 'sum'}).reset_index()\n",
    "df_calls.rename(columns = {'count' : 'calls_count', 'sum' : 'calls_sum_round'}, inplace = True)\n",
    "# б.2) - по интернет-соединениям:\n",
    "df_internet = internet.pivot_table(index=['user_id', 'month'], values='mb_used', aggfunc={'count', 'sum'}).reset_index()\n",
    "df_internet.rename(columns = {'count' : 'internet_count', 'sum' : 'internet_sum'}, inplace = True)\n",
    "df_internet['internet_sum'] = df_internet['internet_sum'] / 1024\n",
    "df_internet['internet_sum_round'] = np.ceil(df_internet['internet_sum'])\n",
    "# б.3) - по сообщениям:\n",
    "df_messages = messages.pivot_table(index=['user_id', 'month'], values='message_date', aggfunc={'count'}).reset_index()\n",
    "df_messages.rename(columns = {'count' : 'messages_count'}, inplace = True)\n",
    "\n",
    "# в) последовательно объединяем сводные таблицы:\n",
    "df_synthesis = df_calls.merge(df_internet, on=['user_id', 'month'], how='outer')\n",
    "df_synthesis = df_synthesis.merge(df_messages, on=['user_id', 'month'], how='outer')\n",
    "df_synthesis = df_synthesis.merge(users[['user_id', 'churn_date', 'city', 'reg_date', 'tariff_name']], on=['user_id'], how='outer')\n",
    "df_synthesis = df_synthesis.merge(tariffs, on=['tariff_name'], how='left')\n",
    "#    и учитываем необходимость оперирования размерностью \"Гб\" для тарифов:\n",
    "df_synthesis['mb_per_month_included'] = df_synthesis['mb_per_month_included'] / 1024\n",
    "\n",
    "# г) подсчитываем прибыль по кажому клиенту согласно тарифного плана:\n",
    "#    создаем функцию для подсчета прибыли:\n",
    "def f_profit(row):\n",
    "    consumption_c = row['calls_sum_round']\n",
    "    consumption_i = row['internet_sum_round'] \n",
    "    consumption_m = row['messages_count']\n",
    "    base_c = row['minutes_included']\n",
    "    base_i = row['mb_per_month_included'] \n",
    "    base_m = row['messages_included']\n",
    "    price_base = row['rub_monthly_fee']\n",
    "    price_c_over = row['rub_per_minute']\n",
    "    price_i_over = row['rub_per_gb']\n",
    "    price_m_over = row['rub_per_message']\n",
    "    if (consumption_c > base_c): profit_c = ((consumption_c - base_c) * price_c_over)\n",
    "    else: profit_c = 0\n",
    "    if (consumption_i > base_i): profit_i = ((consumption_i - base_i) * price_i_over)\n",
    "    else: profit_i = 0\n",
    "    if (consumption_m > base_m): profit_m = ((consumption_m - base_m) * price_m_over)\n",
    "    else: profit_m = 0\n",
    "    profit = price_base + (profit_c + profit_i + profit_m)       \n",
    "    return profit\n",
    "#    cоздаем столбец profit с величиной дохода, р. от каждого абонента:\n",
    "df_synthesis['profit'] = df_synthesis.apply(f_profit, axis=1)\n",
    "\n",
    "print('Первые и последние 5 строк объединенной сводной таблицы:')\n",
    "display(df_synthesis)\n",
    "\n",
    "print('-----------------------------------------------------------------------------------')\n",
    "print('Уникальные значения номеров месяцев в таблице:')\n",
    "print(df_synthesis['month'].sort_values().unique())\n",
    "\n",
    "print('-----------------------------------------------------------------------------------')\n",
    "print('Строки сводной таблицы, в которых значение для номера месяца не указано:')\n",
    "df_month_nan = df_synthesis[df_synthesis['month'].isna()]\n",
    "display(df_month_nan)"
   ]
  },
  {
   "cell_type": "markdown",
   "id": "abd21229",
   "metadata": {},
   "source": [
    "Для двух абонентов месяц не указан, поскольку в этом же месяце (декабре) была совершена смена тарифа. </br>\n",
    "Несмотря на отсутствие звонков, пользования интернетом или отправки сообщений, считаем, что для этих абонентов взималась плата базового тарифа за один месяц."
   ]
  },
  {
   "cell_type": "code",
   "execution_count": 7,
   "id": "d3c91eb9",
   "metadata": {},
   "outputs": [
    {
     "name": "stdout",
     "output_type": "stream",
     "text": [
      "Первые и последние 5 строк объединенной сводной таблицы, отсортированной по убыванию дохода от абонента:\n"
     ]
    },
    {
     "data": {
      "text/html": [
       "<div>\n",
       "<style scoped>\n",
       "    .dataframe tbody tr th:only-of-type {\n",
       "        vertical-align: middle;\n",
       "    }\n",
       "\n",
       "    .dataframe tbody tr th {\n",
       "        vertical-align: top;\n",
       "    }\n",
       "\n",
       "    .dataframe thead th {\n",
       "        text-align: right;\n",
       "    }\n",
       "</style>\n",
       "<table border=\"1\" class=\"dataframe\">\n",
       "  <thead>\n",
       "    <tr style=\"text-align: right;\">\n",
       "      <th></th>\n",
       "      <th>user_id</th>\n",
       "      <th>month</th>\n",
       "      <th>month_name</th>\n",
       "      <th>calls_count</th>\n",
       "      <th>calls_sum_round</th>\n",
       "      <th>internet_count</th>\n",
       "      <th>internet_sum</th>\n",
       "      <th>internet_sum_round</th>\n",
       "      <th>messages_count</th>\n",
       "      <th>churn_date</th>\n",
       "      <th>city</th>\n",
       "      <th>reg_date</th>\n",
       "      <th>tariff_name</th>\n",
       "      <th>messages_included</th>\n",
       "      <th>mb_per_month_included</th>\n",
       "      <th>minutes_included</th>\n",
       "      <th>rub_monthly_fee</th>\n",
       "      <th>rub_per_gb</th>\n",
       "      <th>rub_per_message</th>\n",
       "      <th>rub_per_minute</th>\n",
       "      <th>profit</th>\n",
       "    </tr>\n",
       "  </thead>\n",
       "  <tbody>\n",
       "    <tr>\n",
       "      <th>3108</th>\n",
       "      <td>1486</td>\n",
       "      <td>12.0</td>\n",
       "      <td>December</td>\n",
       "      <td>133.0</td>\n",
       "      <td>1007.0</td>\n",
       "      <td>118.0</td>\n",
       "      <td>37.648877</td>\n",
       "      <td>38.0</td>\n",
       "      <td>83.0</td>\n",
       "      <td>2018-12-31</td>\n",
       "      <td>Нижний Новгород</td>\n",
       "      <td>2018-10-31</td>\n",
       "      <td>smart</td>\n",
       "      <td>50</td>\n",
       "      <td>15.0</td>\n",
       "      <td>500</td>\n",
       "      <td>550</td>\n",
       "      <td>200</td>\n",
       "      <td>3</td>\n",
       "      <td>3</td>\n",
       "      <td>6770.0</td>\n",
       "    </tr>\n",
       "    <tr>\n",
       "      <th>260</th>\n",
       "      <td>1042</td>\n",
       "      <td>12.0</td>\n",
       "      <td>December</td>\n",
       "      <td>121.0</td>\n",
       "      <td>728.0</td>\n",
       "      <td>112.0</td>\n",
       "      <td>36.294619</td>\n",
       "      <td>37.0</td>\n",
       "      <td>75.0</td>\n",
       "      <td>2018-12-31</td>\n",
       "      <td>Хабаровск</td>\n",
       "      <td>2018-11-25</td>\n",
       "      <td>smart</td>\n",
       "      <td>50</td>\n",
       "      <td>15.0</td>\n",
       "      <td>500</td>\n",
       "      <td>550</td>\n",
       "      <td>200</td>\n",
       "      <td>3</td>\n",
       "      <td>3</td>\n",
       "      <td>5709.0</td>\n",
       "    </tr>\n",
       "    <tr>\n",
       "      <th>3107</th>\n",
       "      <td>1486</td>\n",
       "      <td>11.0</td>\n",
       "      <td>November</td>\n",
       "      <td>108.0</td>\n",
       "      <td>764.0</td>\n",
       "      <td>109.0</td>\n",
       "      <td>35.416123</td>\n",
       "      <td>36.0</td>\n",
       "      <td>96.0</td>\n",
       "      <td>2018-12-31</td>\n",
       "      <td>Нижний Новгород</td>\n",
       "      <td>2018-10-31</td>\n",
       "      <td>smart</td>\n",
       "      <td>50</td>\n",
       "      <td>15.0</td>\n",
       "      <td>500</td>\n",
       "      <td>550</td>\n",
       "      <td>200</td>\n",
       "      <td>3</td>\n",
       "      <td>3</td>\n",
       "      <td>5680.0</td>\n",
       "    </tr>\n",
       "    <tr>\n",
       "      <th>1622</th>\n",
       "      <td>1261</td>\n",
       "      <td>12.0</td>\n",
       "      <td>December</td>\n",
       "      <td>141.0</td>\n",
       "      <td>1074.0</td>\n",
       "      <td>114.0</td>\n",
       "      <td>31.885654</td>\n",
       "      <td>32.0</td>\n",
       "      <td>22.0</td>\n",
       "      <td>2018-12-31</td>\n",
       "      <td>Казань</td>\n",
       "      <td>2018-10-30</td>\n",
       "      <td>smart</td>\n",
       "      <td>50</td>\n",
       "      <td>15.0</td>\n",
       "      <td>500</td>\n",
       "      <td>550</td>\n",
       "      <td>200</td>\n",
       "      <td>3</td>\n",
       "      <td>3</td>\n",
       "      <td>5672.0</td>\n",
       "    </tr>\n",
       "    <tr>\n",
       "      <th>1793</th>\n",
       "      <td>1286</td>\n",
       "      <td>12.0</td>\n",
       "      <td>December</td>\n",
       "      <td>95.0</td>\n",
       "      <td>739.0</td>\n",
       "      <td>110.0</td>\n",
       "      <td>34.285225</td>\n",
       "      <td>35.0</td>\n",
       "      <td>68.0</td>\n",
       "      <td>2018-12-31</td>\n",
       "      <td>Москва</td>\n",
       "      <td>2018-11-27</td>\n",
       "      <td>smart</td>\n",
       "      <td>50</td>\n",
       "      <td>15.0</td>\n",
       "      <td>500</td>\n",
       "      <td>550</td>\n",
       "      <td>200</td>\n",
       "      <td>3</td>\n",
       "      <td>3</td>\n",
       "      <td>5321.0</td>\n",
       "    </tr>\n",
       "    <tr>\n",
       "      <th>...</th>\n",
       "      <td>...</td>\n",
       "      <td>...</td>\n",
       "      <td>...</td>\n",
       "      <td>...</td>\n",
       "      <td>...</td>\n",
       "      <td>...</td>\n",
       "      <td>...</td>\n",
       "      <td>...</td>\n",
       "      <td>...</td>\n",
       "      <td>...</td>\n",
       "      <td>...</td>\n",
       "      <td>...</td>\n",
       "      <td>...</td>\n",
       "      <td>...</td>\n",
       "      <td>...</td>\n",
       "      <td>...</td>\n",
       "      <td>...</td>\n",
       "      <td>...</td>\n",
       "      <td>...</td>\n",
       "      <td>...</td>\n",
       "      <td>...</td>\n",
       "    </tr>\n",
       "    <tr>\n",
       "      <th>570</th>\n",
       "      <td>1092</td>\n",
       "      <td>6.0</td>\n",
       "      <td>June</td>\n",
       "      <td>38.0</td>\n",
       "      <td>212.0</td>\n",
       "      <td>31.0</td>\n",
       "      <td>7.785234</td>\n",
       "      <td>8.0</td>\n",
       "      <td>22.0</td>\n",
       "      <td>2018-12-31</td>\n",
       "      <td>Ижевск</td>\n",
       "      <td>2018-06-19</td>\n",
       "      <td>smart</td>\n",
       "      <td>50</td>\n",
       "      <td>15.0</td>\n",
       "      <td>500</td>\n",
       "      <td>550</td>\n",
       "      <td>200</td>\n",
       "      <td>3</td>\n",
       "      <td>3</td>\n",
       "      <td>550.0</td>\n",
       "    </tr>\n",
       "    <tr>\n",
       "      <th>2262</th>\n",
       "      <td>1362</td>\n",
       "      <td>12.0</td>\n",
       "      <td>December</td>\n",
       "      <td>54.0</td>\n",
       "      <td>315.0</td>\n",
       "      <td>27.0</td>\n",
       "      <td>7.615449</td>\n",
       "      <td>8.0</td>\n",
       "      <td>10.0</td>\n",
       "      <td>2018-12-31</td>\n",
       "      <td>Владимир</td>\n",
       "      <td>2018-08-02</td>\n",
       "      <td>smart</td>\n",
       "      <td>50</td>\n",
       "      <td>15.0</td>\n",
       "      <td>500</td>\n",
       "      <td>550</td>\n",
       "      <td>200</td>\n",
       "      <td>3</td>\n",
       "      <td>3</td>\n",
       "      <td>550.0</td>\n",
       "    </tr>\n",
       "    <tr>\n",
       "      <th>554</th>\n",
       "      <td>1088</td>\n",
       "      <td>11.0</td>\n",
       "      <td>November</td>\n",
       "      <td>56.0</td>\n",
       "      <td>364.0</td>\n",
       "      <td>52.0</td>\n",
       "      <td>14.903291</td>\n",
       "      <td>15.0</td>\n",
       "      <td>37.0</td>\n",
       "      <td>2018-12-31</td>\n",
       "      <td>Казань</td>\n",
       "      <td>2018-06-04</td>\n",
       "      <td>smart</td>\n",
       "      <td>50</td>\n",
       "      <td>15.0</td>\n",
       "      <td>500</td>\n",
       "      <td>550</td>\n",
       "      <td>200</td>\n",
       "      <td>3</td>\n",
       "      <td>3</td>\n",
       "      <td>550.0</td>\n",
       "    </tr>\n",
       "    <tr>\n",
       "      <th>552</th>\n",
       "      <td>1088</td>\n",
       "      <td>9.0</td>\n",
       "      <td>September</td>\n",
       "      <td>39.0</td>\n",
       "      <td>277.0</td>\n",
       "      <td>42.0</td>\n",
       "      <td>14.315830</td>\n",
       "      <td>15.0</td>\n",
       "      <td>50.0</td>\n",
       "      <td>2018-12-31</td>\n",
       "      <td>Казань</td>\n",
       "      <td>2018-06-04</td>\n",
       "      <td>smart</td>\n",
       "      <td>50</td>\n",
       "      <td>15.0</td>\n",
       "      <td>500</td>\n",
       "      <td>550</td>\n",
       "      <td>200</td>\n",
       "      <td>3</td>\n",
       "      <td>3</td>\n",
       "      <td>550.0</td>\n",
       "    </tr>\n",
       "    <tr>\n",
       "      <th>3215</th>\n",
       "      <td>1371</td>\n",
       "      <td>12.0</td>\n",
       "      <td>December</td>\n",
       "      <td>NaN</td>\n",
       "      <td>NaN</td>\n",
       "      <td>NaN</td>\n",
       "      <td>NaN</td>\n",
       "      <td>NaN</td>\n",
       "      <td>NaN</td>\n",
       "      <td>2018-12-30</td>\n",
       "      <td>Омск</td>\n",
       "      <td>2018-12-25</td>\n",
       "      <td>smart</td>\n",
       "      <td>50</td>\n",
       "      <td>15.0</td>\n",
       "      <td>500</td>\n",
       "      <td>550</td>\n",
       "      <td>200</td>\n",
       "      <td>3</td>\n",
       "      <td>3</td>\n",
       "      <td>550.0</td>\n",
       "    </tr>\n",
       "  </tbody>\n",
       "</table>\n",
       "<p>3216 rows × 21 columns</p>\n",
       "</div>"
      ],
      "text/plain": [
       "      user_id  month month_name  calls_count  calls_sum_round  internet_count  \\\n",
       "3108     1486   12.0   December        133.0           1007.0           118.0   \n",
       "260      1042   12.0   December        121.0            728.0           112.0   \n",
       "3107     1486   11.0   November        108.0            764.0           109.0   \n",
       "1622     1261   12.0   December        141.0           1074.0           114.0   \n",
       "1793     1286   12.0   December         95.0            739.0           110.0   \n",
       "...       ...    ...        ...          ...              ...             ...   \n",
       "570      1092    6.0       June         38.0            212.0            31.0   \n",
       "2262     1362   12.0   December         54.0            315.0            27.0   \n",
       "554      1088   11.0   November         56.0            364.0            52.0   \n",
       "552      1088    9.0  September         39.0            277.0            42.0   \n",
       "3215     1371   12.0   December          NaN              NaN             NaN   \n",
       "\n",
       "      internet_sum  internet_sum_round  messages_count churn_date  \\\n",
       "3108     37.648877                38.0            83.0 2018-12-31   \n",
       "260      36.294619                37.0            75.0 2018-12-31   \n",
       "3107     35.416123                36.0            96.0 2018-12-31   \n",
       "1622     31.885654                32.0            22.0 2018-12-31   \n",
       "1793     34.285225                35.0            68.0 2018-12-31   \n",
       "...            ...                 ...             ...        ...   \n",
       "570       7.785234                 8.0            22.0 2018-12-31   \n",
       "2262      7.615449                 8.0            10.0 2018-12-31   \n",
       "554      14.903291                15.0            37.0 2018-12-31   \n",
       "552      14.315830                15.0            50.0 2018-12-31   \n",
       "3215           NaN                 NaN             NaN 2018-12-30   \n",
       "\n",
       "                 city   reg_date tariff_name  messages_included  \\\n",
       "3108  Нижний Новгород 2018-10-31       smart                 50   \n",
       "260         Хабаровск 2018-11-25       smart                 50   \n",
       "3107  Нижний Новгород 2018-10-31       smart                 50   \n",
       "1622           Казань 2018-10-30       smart                 50   \n",
       "1793           Москва 2018-11-27       smart                 50   \n",
       "...               ...        ...         ...                ...   \n",
       "570            Ижевск 2018-06-19       smart                 50   \n",
       "2262         Владимир 2018-08-02       smart                 50   \n",
       "554            Казань 2018-06-04       smart                 50   \n",
       "552            Казань 2018-06-04       smart                 50   \n",
       "3215             Омск 2018-12-25       smart                 50   \n",
       "\n",
       "      mb_per_month_included  minutes_included  rub_monthly_fee  rub_per_gb  \\\n",
       "3108                   15.0               500              550         200   \n",
       "260                    15.0               500              550         200   \n",
       "3107                   15.0               500              550         200   \n",
       "1622                   15.0               500              550         200   \n",
       "1793                   15.0               500              550         200   \n",
       "...                     ...               ...              ...         ...   \n",
       "570                    15.0               500              550         200   \n",
       "2262                   15.0               500              550         200   \n",
       "554                    15.0               500              550         200   \n",
       "552                    15.0               500              550         200   \n",
       "3215                   15.0               500              550         200   \n",
       "\n",
       "      rub_per_message  rub_per_minute  profit  \n",
       "3108                3               3  6770.0  \n",
       "260                 3               3  5709.0  \n",
       "3107                3               3  5680.0  \n",
       "1622                3               3  5672.0  \n",
       "1793                3               3  5321.0  \n",
       "...               ...             ...     ...  \n",
       "570                 3               3   550.0  \n",
       "2262                3               3   550.0  \n",
       "554                 3               3   550.0  \n",
       "552                 3               3   550.0  \n",
       "3215                3               3   550.0  \n",
       "\n",
       "[3216 rows x 21 columns]"
      ]
     },
     "metadata": {},
     "output_type": "display_data"
    },
    {
     "name": "stdout",
     "output_type": "stream",
     "text": [
      "Всего после обработки сводная таблица содержит: 3216 строк и 21 столбец.\n",
      "\n",
      "Первые и последние 5 строк таблицы для исследовательского анализа данных:\n"
     ]
    },
    {
     "data": {
      "text/html": [
       "<div>\n",
       "<style scoped>\n",
       "    .dataframe tbody tr th:only-of-type {\n",
       "        vertical-align: middle;\n",
       "    }\n",
       "\n",
       "    .dataframe tbody tr th {\n",
       "        vertical-align: top;\n",
       "    }\n",
       "\n",
       "    .dataframe thead th {\n",
       "        text-align: right;\n",
       "    }\n",
       "</style>\n",
       "<table border=\"1\" class=\"dataframe\">\n",
       "  <thead>\n",
       "    <tr style=\"text-align: right;\">\n",
       "      <th></th>\n",
       "      <th>user_id</th>\n",
       "      <th>month</th>\n",
       "      <th>month_name</th>\n",
       "      <th>calls_sum_round</th>\n",
       "      <th>internet_sum_round</th>\n",
       "      <th>messages_count</th>\n",
       "      <th>city</th>\n",
       "      <th>tariff_name</th>\n",
       "      <th>profit</th>\n",
       "    </tr>\n",
       "  </thead>\n",
       "  <tbody>\n",
       "    <tr>\n",
       "      <th>0</th>\n",
       "      <td>1000</td>\n",
       "      <td>5.0</td>\n",
       "      <td>May</td>\n",
       "      <td>159.0</td>\n",
       "      <td>3.0</td>\n",
       "      <td>22.0</td>\n",
       "      <td>Краснодар</td>\n",
       "      <td>ultra</td>\n",
       "      <td>1950.0</td>\n",
       "    </tr>\n",
       "    <tr>\n",
       "      <th>1</th>\n",
       "      <td>1000</td>\n",
       "      <td>6.0</td>\n",
       "      <td>June</td>\n",
       "      <td>172.0</td>\n",
       "      <td>23.0</td>\n",
       "      <td>60.0</td>\n",
       "      <td>Краснодар</td>\n",
       "      <td>ultra</td>\n",
       "      <td>1950.0</td>\n",
       "    </tr>\n",
       "    <tr>\n",
       "      <th>2</th>\n",
       "      <td>1000</td>\n",
       "      <td>7.0</td>\n",
       "      <td>July</td>\n",
       "      <td>340.0</td>\n",
       "      <td>14.0</td>\n",
       "      <td>75.0</td>\n",
       "      <td>Краснодар</td>\n",
       "      <td>ultra</td>\n",
       "      <td>1950.0</td>\n",
       "    </tr>\n",
       "    <tr>\n",
       "      <th>3</th>\n",
       "      <td>1000</td>\n",
       "      <td>8.0</td>\n",
       "      <td>August</td>\n",
       "      <td>408.0</td>\n",
       "      <td>14.0</td>\n",
       "      <td>81.0</td>\n",
       "      <td>Краснодар</td>\n",
       "      <td>ultra</td>\n",
       "      <td>1950.0</td>\n",
       "    </tr>\n",
       "    <tr>\n",
       "      <th>4</th>\n",
       "      <td>1000</td>\n",
       "      <td>9.0</td>\n",
       "      <td>September</td>\n",
       "      <td>466.0</td>\n",
       "      <td>15.0</td>\n",
       "      <td>57.0</td>\n",
       "      <td>Краснодар</td>\n",
       "      <td>ultra</td>\n",
       "      <td>1950.0</td>\n",
       "    </tr>\n",
       "    <tr>\n",
       "      <th>...</th>\n",
       "      <td>...</td>\n",
       "      <td>...</td>\n",
       "      <td>...</td>\n",
       "      <td>...</td>\n",
       "      <td>...</td>\n",
       "      <td>...</td>\n",
       "      <td>...</td>\n",
       "      <td>...</td>\n",
       "      <td>...</td>\n",
       "    </tr>\n",
       "    <tr>\n",
       "      <th>3211</th>\n",
       "      <td>1489</td>\n",
       "      <td>10.0</td>\n",
       "      <td>October</td>\n",
       "      <td>NaN</td>\n",
       "      <td>20.0</td>\n",
       "      <td>21.0</td>\n",
       "      <td>Санкт-Петербург</td>\n",
       "      <td>smart</td>\n",
       "      <td>1550.0</td>\n",
       "    </tr>\n",
       "    <tr>\n",
       "      <th>3212</th>\n",
       "      <td>1489</td>\n",
       "      <td>11.0</td>\n",
       "      <td>November</td>\n",
       "      <td>NaN</td>\n",
       "      <td>18.0</td>\n",
       "      <td>20.0</td>\n",
       "      <td>Санкт-Петербург</td>\n",
       "      <td>smart</td>\n",
       "      <td>1150.0</td>\n",
       "    </tr>\n",
       "    <tr>\n",
       "      <th>3213</th>\n",
       "      <td>1489</td>\n",
       "      <td>12.0</td>\n",
       "      <td>December</td>\n",
       "      <td>NaN</td>\n",
       "      <td>17.0</td>\n",
       "      <td>35.0</td>\n",
       "      <td>Санкт-Петербург</td>\n",
       "      <td>smart</td>\n",
       "      <td>950.0</td>\n",
       "    </tr>\n",
       "    <tr>\n",
       "      <th>3214</th>\n",
       "      <td>1128</td>\n",
       "      <td>12.0</td>\n",
       "      <td>December</td>\n",
       "      <td>NaN</td>\n",
       "      <td>NaN</td>\n",
       "      <td>NaN</td>\n",
       "      <td>Волжский</td>\n",
       "      <td>ultra</td>\n",
       "      <td>1950.0</td>\n",
       "    </tr>\n",
       "    <tr>\n",
       "      <th>3215</th>\n",
       "      <td>1371</td>\n",
       "      <td>12.0</td>\n",
       "      <td>December</td>\n",
       "      <td>NaN</td>\n",
       "      <td>NaN</td>\n",
       "      <td>NaN</td>\n",
       "      <td>Омск</td>\n",
       "      <td>smart</td>\n",
       "      <td>550.0</td>\n",
       "    </tr>\n",
       "  </tbody>\n",
       "</table>\n",
       "<p>3216 rows × 9 columns</p>\n",
       "</div>"
      ],
      "text/plain": [
       "      user_id  month month_name  calls_sum_round  internet_sum_round  \\\n",
       "0        1000    5.0        May            159.0                 3.0   \n",
       "1        1000    6.0       June            172.0                23.0   \n",
       "2        1000    7.0       July            340.0                14.0   \n",
       "3        1000    8.0     August            408.0                14.0   \n",
       "4        1000    9.0  September            466.0                15.0   \n",
       "...       ...    ...        ...              ...                 ...   \n",
       "3211     1489   10.0    October              NaN                20.0   \n",
       "3212     1489   11.0   November              NaN                18.0   \n",
       "3213     1489   12.0   December              NaN                17.0   \n",
       "3214     1128   12.0   December              NaN                 NaN   \n",
       "3215     1371   12.0   December              NaN                 NaN   \n",
       "\n",
       "      messages_count             city tariff_name  profit  \n",
       "0               22.0        Краснодар       ultra  1950.0  \n",
       "1               60.0        Краснодар       ultra  1950.0  \n",
       "2               75.0        Краснодар       ultra  1950.0  \n",
       "3               81.0        Краснодар       ultra  1950.0  \n",
       "4               57.0        Краснодар       ultra  1950.0  \n",
       "...              ...              ...         ...     ...  \n",
       "3211            21.0  Санкт-Петербург       smart  1550.0  \n",
       "3212            20.0  Санкт-Петербург       smart  1150.0  \n",
       "3213            35.0  Санкт-Петербург       smart   950.0  \n",
       "3214             NaN         Волжский       ultra  1950.0  \n",
       "3215             NaN             Омск       smart   550.0  \n",
       "\n",
       "[3216 rows x 9 columns]"
      ]
     },
     "metadata": {},
     "output_type": "display_data"
    }
   ],
   "source": [
    "# Заменяем пропуски NaN в столбце month на значение 12 (декабрь):\n",
    "df_synthesis['month'] = df_synthesis['month'].fillna(12)\n",
    "\n",
    "# Для удобства интерпретации данных добавляем столбец с названиями месяцев:\n",
    "#    создаем функцию присваивания названий месяцам:\n",
    "def f_month_name(row):\n",
    "    month = row['month']\n",
    "    if   month ==  1: month_name = 'January'\n",
    "    elif month ==  2: month_name = 'February'\n",
    "    elif month ==  3: month_name = 'March'\n",
    "    elif month ==  4: month_name = 'April'\n",
    "    elif month ==  5: month_name = 'May'\n",
    "    elif month ==  6: month_name = 'June'\n",
    "    elif month ==  7: month_name = 'July'\n",
    "    elif month ==  8: month_name = 'August'\n",
    "    elif month ==  9: month_name = 'September'\n",
    "    elif month == 10: month_name = 'October'\n",
    "    elif month == 11: month_name = 'November'\n",
    "    else:             month_name = 'December'\n",
    "    return month_name\n",
    "#    создаем функцию перемещения столбца на нужную позицию:\n",
    "def f_change_column_order(dataframe, column_name, index):\n",
    "    cols = dataframe.columns.tolist()\n",
    "    cols.remove(column_name)\n",
    "    cols.insert(index, column_name)\n",
    "    return dataframe[cols]\n",
    "#    добавляем столбец названий месяцев в таблицу после номера месяца:\n",
    "df_synthesis['month_name'] = df_synthesis.apply(f_month_name, axis=1) \n",
    "df_synthesis = f_change_column_order(df_synthesis, 'month_name', 2)\n",
    "\n",
    "print('Первые и последние 5 строк объединенной сводной таблицы, отсортированной по убыванию дохода от абонента:')\n",
    "display(df_synthesis.sort_values(by=['profit'], ascending=False))\n",
    "print(f'Всего после обработки сводная таблица содержит: {df_synthesis.shape[0]} строк и {df_synthesis.shape[1]} столбец.')\n",
    "print()\n",
    "# Собираем таблицу для дальнейшего исследования - из обобщенной таблицы оставляем только интересующие столбцы:\n",
    "all_columns = df_synthesis.columns.values.tolist()  \n",
    "#print(all_columns)\n",
    "good_columns = ['user_id', 'month', 'month_name', 'calls_sum_round', 'internet_sum_round', 'messages_count', 'city', 'tariff_name', 'profit']\n",
    "df_good = df_synthesis[good_columns]\n",
    "print('Первые и последние 5 строк таблицы для исследовательского анализа данных:')\n",
    "display(df_good)"
   ]
  },
  {
   "cell_type": "markdown",
   "id": "6870f352",
   "metadata": {},
   "source": [
    "После дополнения интересующими параметрами и выбора интересующих столбцов получили обобщенную таблицу для дальнейшего исследования."
   ]
  },
  {
   "cell_type": "markdown",
   "id": "73cf9d34",
   "metadata": {
    "scrolled": true
   },
   "source": [
    "## Исследовательский анализ данных\n",
    "[В начало](#intro)\n",
    "\n",
    "Оценим поведение клиентов в зависимости от тарифов и определим, какой из тарифов выгоднее для компании."
   ]
  },
  {
   "cell_type": "markdown",
   "id": "497b9173",
   "metadata": {},
   "source": [
    "### Описание поведения клиентов\n",
    "[В начало](#intro)\n",
    "\n",
    "На основе имеющейся выборки: \n",
    "- определим, сколько минут разговора, сколько сообщений и какой объём интернет-трафика требуется пользователям каждого тарифа в месяц;\n",
    "- посчитаем среднее количество, дисперсию и стандартное отклонение рассматриваемых параметров;\n",
    "- построим гистограммы и опишем распределения."
   ]
  },
  {
   "cell_type": "code",
   "execution_count": 8,
   "id": "d5fe8a9f",
   "metadata": {},
   "outputs": [
    {
     "name": "stdout",
     "output_type": "stream",
     "text": [
      "Таблица распределения уникальных абонентов по тарифам:\n"
     ]
    },
    {
     "data": {
      "text/html": [
       "<div>\n",
       "<style scoped>\n",
       "    .dataframe tbody tr th:only-of-type {\n",
       "        vertical-align: middle;\n",
       "    }\n",
       "\n",
       "    .dataframe tbody tr th {\n",
       "        vertical-align: top;\n",
       "    }\n",
       "\n",
       "    .dataframe thead th {\n",
       "        text-align: right;\n",
       "    }\n",
       "</style>\n",
       "<table border=\"1\" class=\"dataframe\">\n",
       "  <thead>\n",
       "    <tr style=\"text-align: right;\">\n",
       "      <th></th>\n",
       "      <th>tariff_name</th>\n",
       "      <th>city</th>\n",
       "      <th>user_id</th>\n",
       "      <th>profit_user_mean</th>\n",
       "      <th>profit_user_sum</th>\n",
       "    </tr>\n",
       "  </thead>\n",
       "  <tbody>\n",
       "    <tr>\n",
       "      <th>0</th>\n",
       "      <td>smart</td>\n",
       "      <td>Архангельск</td>\n",
       "      <td>1135</td>\n",
       "      <td>1296.583333</td>\n",
       "      <td>15559.0</td>\n",
       "    </tr>\n",
       "    <tr>\n",
       "      <th>1</th>\n",
       "      <td>smart</td>\n",
       "      <td>Астрахань</td>\n",
       "      <td>1066</td>\n",
       "      <td>1852.142857</td>\n",
       "      <td>12965.0</td>\n",
       "    </tr>\n",
       "    <tr>\n",
       "      <th>2</th>\n",
       "      <td>smart</td>\n",
       "      <td>Астрахань</td>\n",
       "      <td>1280</td>\n",
       "      <td>1320.000000</td>\n",
       "      <td>7920.0</td>\n",
       "    </tr>\n",
       "    <tr>\n",
       "      <th>3</th>\n",
       "      <td>smart</td>\n",
       "      <td>Астрахань</td>\n",
       "      <td>1423</td>\n",
       "      <td>966.666667</td>\n",
       "      <td>11600.0</td>\n",
       "    </tr>\n",
       "    <tr>\n",
       "      <th>4</th>\n",
       "      <td>smart</td>\n",
       "      <td>Балашиха</td>\n",
       "      <td>1207</td>\n",
       "      <td>856.000000</td>\n",
       "      <td>4280.0</td>\n",
       "    </tr>\n",
       "    <tr>\n",
       "      <th>...</th>\n",
       "      <td>...</td>\n",
       "      <td>...</td>\n",
       "      <td>...</td>\n",
       "      <td>...</td>\n",
       "      <td>...</td>\n",
       "    </tr>\n",
       "    <tr>\n",
       "      <th>495</th>\n",
       "      <td>ultra</td>\n",
       "      <td>Челябинск</td>\n",
       "      <td>1271</td>\n",
       "      <td>1950.000000</td>\n",
       "      <td>9750.0</td>\n",
       "    </tr>\n",
       "    <tr>\n",
       "      <th>496</th>\n",
       "      <td>ultra</td>\n",
       "      <td>Челябинск</td>\n",
       "      <td>1392</td>\n",
       "      <td>1950.000000</td>\n",
       "      <td>15600.0</td>\n",
       "    </tr>\n",
       "    <tr>\n",
       "      <th>497</th>\n",
       "      <td>ultra</td>\n",
       "      <td>Челябинск</td>\n",
       "      <td>1491</td>\n",
       "      <td>1950.000000</td>\n",
       "      <td>17550.0</td>\n",
       "    </tr>\n",
       "    <tr>\n",
       "      <th>498</th>\n",
       "      <td>ultra</td>\n",
       "      <td>Череповец</td>\n",
       "      <td>1090</td>\n",
       "      <td>1950.000000</td>\n",
       "      <td>5850.0</td>\n",
       "    </tr>\n",
       "    <tr>\n",
       "      <th>499</th>\n",
       "      <td>ultra</td>\n",
       "      <td>Ярославль</td>\n",
       "      <td>1039</td>\n",
       "      <td>1950.000000</td>\n",
       "      <td>13650.0</td>\n",
       "    </tr>\n",
       "  </tbody>\n",
       "</table>\n",
       "<p>500 rows × 5 columns</p>\n",
       "</div>"
      ],
      "text/plain": [
       "    tariff_name         city  user_id  profit_user_mean  profit_user_sum\n",
       "0         smart  Архангельск     1135       1296.583333          15559.0\n",
       "1         smart    Астрахань     1066       1852.142857          12965.0\n",
       "2         smart    Астрахань     1280       1320.000000           7920.0\n",
       "3         smart    Астрахань     1423        966.666667          11600.0\n",
       "4         smart     Балашиха     1207        856.000000           4280.0\n",
       "..          ...          ...      ...               ...              ...\n",
       "495       ultra    Челябинск     1271       1950.000000           9750.0\n",
       "496       ultra    Челябинск     1392       1950.000000          15600.0\n",
       "497       ultra    Челябинск     1491       1950.000000          17550.0\n",
       "498       ultra    Череповец     1090       1950.000000           5850.0\n",
       "499       ultra    Ярославль     1039       1950.000000          13650.0\n",
       "\n",
       "[500 rows x 5 columns]"
      ]
     },
     "metadata": {},
     "output_type": "display_data"
    },
    {
     "name": "stdout",
     "output_type": "stream",
     "text": [
      "Общее количество уникальных абонентов в доступной для анализа выборке: 500 человек, в том числе:\n",
      "- с тарифом \"smart\": 351 или ~70%,\n",
      "- с тарифом \"ultra\": 149 или ~30%.\n"
     ]
    }
   ],
   "source": [
    "# Таблица распределения уникальных абонентов по тарифам:\n",
    "abon_count = df_synthesis[['user_id', 'city', 'tariff_name', 'profit']]\n",
    "abon_count = abon_count.pivot_table(index={'user_id', 'tariff_name', 'city'}, values='profit', aggfunc={'sum', 'mean'}).reset_index()\n",
    "#abon_count = abon_count.pivot_table(index={'user_id', 'tariff_name', 'city', 'sum', 'mean'}, values='tariff_name').reset_index()\n",
    "abon_count.groupby('tariff_name')\n",
    "#abon_count = abon_count.reset_index()\n",
    "abon_count.rename(columns = {'sum' : 'profit_user_sum', 'mean' : 'profit_user_mean'}, inplace = True)\n",
    "print('Таблица распределения уникальных абонентов по тарифам:')\n",
    "display(abon_count)\n",
    "\n",
    "# Общее количество уникальных абонентов:\n",
    "abon_count_sum = df_synthesis['user_id'].nunique()\n",
    "# с тарифом \"smart\" и \"ultra\":\n",
    "abon_count_sum_smart = abon_count.query('tariff_name == \"smart\"').shape[0]\n",
    "abon_count_sum_ultra = abon_count.query('tariff_name == \"ultra\"').shape[0]\n",
    "\n",
    "print(f'Общее количество уникальных абонентов в доступной для анализа выборке: {abon_count_sum} человек, в том числе:')\n",
    "print(f'- с тарифом \"smart\": {abon_count_sum_smart} или ~{round((abon_count_sum_smart / abon_count_sum) * 100)}%,')\n",
    "print(f'- с тарифом \"ultra\": {abon_count_sum_ultra} или ~{round(100 - (abon_count_sum_smart / abon_count_sum) * 100)}%.') "
   ]
  },
  {
   "cell_type": "code",
   "execution_count": 9,
   "id": "8d5ad6fe",
   "metadata": {
    "scrolled": false
   },
   "outputs": [
    {
     "name": "stdout",
     "output_type": "stream",
     "text": [
      "Таблица из сумм и средних значений по месяцам в зависимости от тарифов \"smart\" и \"ultra\" \n",
      "для звонков (c), интернет-соединений (i), сообщений (m), дохода (p) и соотношений smart/ultra для сумм (ratio):\n"
     ]
    },
    {
     "data": {
      "text/html": [
       "<div>\n",
       "<style scoped>\n",
       "    .dataframe tbody tr th:only-of-type {\n",
       "        vertical-align: middle;\n",
       "    }\n",
       "\n",
       "    .dataframe tbody tr th {\n",
       "        vertical-align: top;\n",
       "    }\n",
       "\n",
       "    .dataframe thead th {\n",
       "        text-align: right;\n",
       "    }\n",
       "</style>\n",
       "<table border=\"1\" class=\"dataframe\">\n",
       "  <thead>\n",
       "    <tr style=\"text-align: right;\">\n",
       "      <th></th>\n",
       "      <th>month</th>\n",
       "      <th>ratio_c</th>\n",
       "      <th>ratio_i</th>\n",
       "      <th>ratio_m</th>\n",
       "      <th>ratio_p</th>\n",
       "      <th>smart_c_mean</th>\n",
       "      <th>smart_c_sum</th>\n",
       "      <th>smart_i_mean</th>\n",
       "      <th>smart_i_sum</th>\n",
       "      <th>smart_m_mean</th>\n",
       "      <th>smart_m_sum</th>\n",
       "      <th>smart_p_mean</th>\n",
       "      <th>smart_p_sum</th>\n",
       "      <th>ultra_c_mean</th>\n",
       "      <th>ultra_c_sum</th>\n",
       "      <th>ultra_i_mean</th>\n",
       "      <th>ultra_i_sum</th>\n",
       "      <th>ultra_m_mean</th>\n",
       "      <th>ultra_m_sum</th>\n",
       "      <th>ultra_p_mean</th>\n",
       "      <th>ultra_p_sum</th>\n",
       "    </tr>\n",
       "    <tr>\n",
       "      <th>month_name</th>\n",
       "      <th></th>\n",
       "      <th></th>\n",
       "      <th></th>\n",
       "      <th></th>\n",
       "      <th></th>\n",
       "      <th></th>\n",
       "      <th></th>\n",
       "      <th></th>\n",
       "      <th></th>\n",
       "      <th></th>\n",
       "      <th></th>\n",
       "      <th></th>\n",
       "      <th></th>\n",
       "      <th></th>\n",
       "      <th></th>\n",
       "      <th></th>\n",
       "      <th></th>\n",
       "      <th></th>\n",
       "      <th></th>\n",
       "      <th></th>\n",
       "      <th></th>\n",
       "    </tr>\n",
       "  </thead>\n",
       "  <tbody>\n",
       "    <tr>\n",
       "      <th>January</th>\n",
       "      <td>1.0</td>\n",
       "      <td>1.798858</td>\n",
       "      <td>2.495798</td>\n",
       "      <td>2.039474</td>\n",
       "      <td>1.397436</td>\n",
       "      <td>203.852941</td>\n",
       "      <td>6931.0</td>\n",
       "      <td>8.735294</td>\n",
       "      <td>297.0</td>\n",
       "      <td>20.000000</td>\n",
       "      <td>620.0</td>\n",
       "      <td>721.323529</td>\n",
       "      <td>24525.0</td>\n",
       "      <td>428.111111</td>\n",
       "      <td>3853.0</td>\n",
       "      <td>13.222222</td>\n",
       "      <td>119.0</td>\n",
       "      <td>43.428571</td>\n",
       "      <td>304.0</td>\n",
       "      <td>1950.000000</td>\n",
       "      <td>17550.0</td>\n",
       "    </tr>\n",
       "    <tr>\n",
       "      <th>February</th>\n",
       "      <td>2.0</td>\n",
       "      <td>2.429393</td>\n",
       "      <td>2.385417</td>\n",
       "      <td>2.650854</td>\n",
       "      <td>1.012679</td>\n",
       "      <td>298.689655</td>\n",
       "      <td>17324.0</td>\n",
       "      <td>11.844828</td>\n",
       "      <td>687.0</td>\n",
       "      <td>27.940000</td>\n",
       "      <td>1397.0</td>\n",
       "      <td>827.603448</td>\n",
       "      <td>48001.0</td>\n",
       "      <td>297.125000</td>\n",
       "      <td>7131.0</td>\n",
       "      <td>13.090909</td>\n",
       "      <td>288.0</td>\n",
       "      <td>32.937500</td>\n",
       "      <td>527.0</td>\n",
       "      <td>1975.000000</td>\n",
       "      <td>47400.0</td>\n",
       "    </tr>\n",
       "    <tr>\n",
       "      <th>March</th>\n",
       "      <td>3.0</td>\n",
       "      <td>1.657780</td>\n",
       "      <td>1.796325</td>\n",
       "      <td>2.052720</td>\n",
       "      <td>1.202897</td>\n",
       "      <td>390.051948</td>\n",
       "      <td>30034.0</td>\n",
       "      <td>15.233766</td>\n",
       "      <td>1173.0</td>\n",
       "      <td>35.550725</td>\n",
       "      <td>2453.0</td>\n",
       "      <td>1164.623377</td>\n",
       "      <td>89676.0</td>\n",
       "      <td>489.648649</td>\n",
       "      <td>18117.0</td>\n",
       "      <td>17.648649</td>\n",
       "      <td>653.0</td>\n",
       "      <td>47.800000</td>\n",
       "      <td>1195.0</td>\n",
       "      <td>2014.864865</td>\n",
       "      <td>74550.0</td>\n",
       "    </tr>\n",
       "    <tr>\n",
       "      <th>April</th>\n",
       "      <td>4.0</td>\n",
       "      <td>1.632289</td>\n",
       "      <td>1.635584</td>\n",
       "      <td>1.983295</td>\n",
       "      <td>0.979709</td>\n",
       "      <td>367.133929</td>\n",
       "      <td>41119.0</td>\n",
       "      <td>13.625000</td>\n",
       "      <td>1526.0</td>\n",
       "      <td>35.864583</td>\n",
       "      <td>3443.0</td>\n",
       "      <td>963.089286</td>\n",
       "      <td>107866.0</td>\n",
       "      <td>475.301887</td>\n",
       "      <td>25191.0</td>\n",
       "      <td>16.963636</td>\n",
       "      <td>933.0</td>\n",
       "      <td>44.512821</td>\n",
       "      <td>1736.0</td>\n",
       "      <td>2001.818182</td>\n",
       "      <td>110100.0</td>\n",
       "    </tr>\n",
       "    <tr>\n",
       "      <th>May</th>\n",
       "      <td>5.0</td>\n",
       "      <td>1.597391</td>\n",
       "      <td>1.728043</td>\n",
       "      <td>1.877760</td>\n",
       "      <td>1.223543</td>\n",
       "      <td>387.361702</td>\n",
       "      <td>54618.0</td>\n",
       "      <td>15.907801</td>\n",
       "      <td>2243.0</td>\n",
       "      <td>39.032787</td>\n",
       "      <td>4762.0</td>\n",
       "      <td>1197.510638</td>\n",
       "      <td>168849.0</td>\n",
       "      <td>534.250000</td>\n",
       "      <td>34192.0</td>\n",
       "      <td>19.666667</td>\n",
       "      <td>1298.0</td>\n",
       "      <td>48.769231</td>\n",
       "      <td>2536.0</td>\n",
       "      <td>2059.701493</td>\n",
       "      <td>138000.0</td>\n",
       "    </tr>\n",
       "    <tr>\n",
       "      <th>June</th>\n",
       "      <td>6.0</td>\n",
       "      <td>1.610249</td>\n",
       "      <td>1.644249</td>\n",
       "      <td>1.562910</td>\n",
       "      <td>1.152709</td>\n",
       "      <td>398.067485</td>\n",
       "      <td>64885.0</td>\n",
       "      <td>15.951220</td>\n",
       "      <td>2616.0</td>\n",
       "      <td>38.577465</td>\n",
       "      <td>5478.0</td>\n",
       "      <td>1204.018293</td>\n",
       "      <td>197459.0</td>\n",
       "      <td>497.469136</td>\n",
       "      <td>40295.0</td>\n",
       "      <td>19.168675</td>\n",
       "      <td>1591.0</td>\n",
       "      <td>52.313433</td>\n",
       "      <td>3505.0</td>\n",
       "      <td>2039.285714</td>\n",
       "      <td>171300.0</td>\n",
       "    </tr>\n",
       "    <tr>\n",
       "      <th>July</th>\n",
       "      <td>7.0</td>\n",
       "      <td>1.652586</td>\n",
       "      <td>1.710075</td>\n",
       "      <td>1.495591</td>\n",
       "      <td>1.276337</td>\n",
       "      <td>408.353234</td>\n",
       "      <td>82079.0</td>\n",
       "      <td>15.875622</td>\n",
       "      <td>3191.0</td>\n",
       "      <td>38.988506</td>\n",
       "      <td>6784.0</td>\n",
       "      <td>1223.950249</td>\n",
       "      <td>246014.0</td>\n",
       "      <td>564.397727</td>\n",
       "      <td>49667.0</td>\n",
       "      <td>20.733333</td>\n",
       "      <td>1866.0</td>\n",
       "      <td>62.136986</td>\n",
       "      <td>4536.0</td>\n",
       "      <td>2118.131868</td>\n",
       "      <td>192750.0</td>\n",
       "    </tr>\n",
       "    <tr>\n",
       "      <th>August</th>\n",
       "      <td>8.0</td>\n",
       "      <td>1.812252</td>\n",
       "      <td>1.875536</td>\n",
       "      <td>1.525178</td>\n",
       "      <td>1.392284</td>\n",
       "      <td>423.269231</td>\n",
       "      <td>99045.0</td>\n",
       "      <td>16.807692</td>\n",
       "      <td>3933.0</td>\n",
       "      <td>38.750000</td>\n",
       "      <td>7905.0</td>\n",
       "      <td>1320.595745</td>\n",
       "      <td>310340.0</td>\n",
       "      <td>530.611650</td>\n",
       "      <td>54653.0</td>\n",
       "      <td>19.783019</td>\n",
       "      <td>2097.0</td>\n",
       "      <td>58.897727</td>\n",
       "      <td>5183.0</td>\n",
       "      <td>2083.177570</td>\n",
       "      <td>222900.0</td>\n",
       "    </tr>\n",
       "    <tr>\n",
       "      <th>September</th>\n",
       "      <td>9.0</td>\n",
       "      <td>1.796360</td>\n",
       "      <td>1.925892</td>\n",
       "      <td>1.454515</td>\n",
       "      <td>1.395988</td>\n",
       "      <td>430.266409</td>\n",
       "      <td>111439.0</td>\n",
       "      <td>16.392308</td>\n",
       "      <td>4262.0</td>\n",
       "      <td>39.219731</td>\n",
       "      <td>8746.0</td>\n",
       "      <td>1249.946154</td>\n",
       "      <td>324986.0</td>\n",
       "      <td>558.882883</td>\n",
       "      <td>62036.0</td>\n",
       "      <td>19.412281</td>\n",
       "      <td>2213.0</td>\n",
       "      <td>63.294737</td>\n",
       "      <td>6013.0</td>\n",
       "      <td>2024.347826</td>\n",
       "      <td>232800.0</td>\n",
       "    </tr>\n",
       "    <tr>\n",
       "      <th>October</th>\n",
       "      <td>10.0</td>\n",
       "      <td>1.825127</td>\n",
       "      <td>2.010940</td>\n",
       "      <td>1.381244</td>\n",
       "      <td>1.579170</td>\n",
       "      <td>427.590444</td>\n",
       "      <td>125284.0</td>\n",
       "      <td>16.880952</td>\n",
       "      <td>4963.0</td>\n",
       "      <td>39.082677</td>\n",
       "      <td>9927.0</td>\n",
       "      <td>1364.853741</td>\n",
       "      <td>401267.0</td>\n",
       "      <td>581.728814</td>\n",
       "      <td>68644.0</td>\n",
       "      <td>20.229508</td>\n",
       "      <td>2468.0</td>\n",
       "      <td>69.776699</td>\n",
       "      <td>7187.0</td>\n",
       "      <td>2065.853659</td>\n",
       "      <td>254100.0</td>\n",
       "    </tr>\n",
       "    <tr>\n",
       "      <th>November</th>\n",
       "      <td>11.0</td>\n",
       "      <td>1.895982</td>\n",
       "      <td>2.024115</td>\n",
       "      <td>1.440342</td>\n",
       "      <td>1.513833</td>\n",
       "      <td>436.647619</td>\n",
       "      <td>137544.0</td>\n",
       "      <td>17.000000</td>\n",
       "      <td>5372.0</td>\n",
       "      <td>39.881481</td>\n",
       "      <td>10768.0</td>\n",
       "      <td>1343.047468</td>\n",
       "      <td>424403.0</td>\n",
       "      <td>562.364341</td>\n",
       "      <td>72545.0</td>\n",
       "      <td>19.954887</td>\n",
       "      <td>2654.0</td>\n",
       "      <td>66.159292</td>\n",
       "      <td>7476.0</td>\n",
       "      <td>2092.164179</td>\n",
       "      <td>280350.0</td>\n",
       "    </tr>\n",
       "    <tr>\n",
       "      <th>December</th>\n",
       "      <td>12.0</td>\n",
       "      <td>1.957221</td>\n",
       "      <td>2.029782</td>\n",
       "      <td>1.439763</td>\n",
       "      <td>1.779499</td>\n",
       "      <td>479.985119</td>\n",
       "      <td>161275.0</td>\n",
       "      <td>18.201780</td>\n",
       "      <td>6134.0</td>\n",
       "      <td>42.264808</td>\n",
       "      <td>12130.0</td>\n",
       "      <td>1575.488166</td>\n",
       "      <td>532515.0</td>\n",
       "      <td>614.925373</td>\n",
       "      <td>82400.0</td>\n",
       "      <td>21.898551</td>\n",
       "      <td>3022.0</td>\n",
       "      <td>72.008547</td>\n",
       "      <td>8425.0</td>\n",
       "      <td>2137.500000</td>\n",
       "      <td>299250.0</td>\n",
       "    </tr>\n",
       "  </tbody>\n",
       "</table>\n",
       "</div>"
      ],
      "text/plain": [
       "            month   ratio_c   ratio_i   ratio_m   ratio_p  smart_c_mean  \\\n",
       "month_name                                                                \n",
       "January       1.0  1.798858  2.495798  2.039474  1.397436    203.852941   \n",
       "February      2.0  2.429393  2.385417  2.650854  1.012679    298.689655   \n",
       "March         3.0  1.657780  1.796325  2.052720  1.202897    390.051948   \n",
       "April         4.0  1.632289  1.635584  1.983295  0.979709    367.133929   \n",
       "May           5.0  1.597391  1.728043  1.877760  1.223543    387.361702   \n",
       "June          6.0  1.610249  1.644249  1.562910  1.152709    398.067485   \n",
       "July          7.0  1.652586  1.710075  1.495591  1.276337    408.353234   \n",
       "August        8.0  1.812252  1.875536  1.525178  1.392284    423.269231   \n",
       "September     9.0  1.796360  1.925892  1.454515  1.395988    430.266409   \n",
       "October      10.0  1.825127  2.010940  1.381244  1.579170    427.590444   \n",
       "November     11.0  1.895982  2.024115  1.440342  1.513833    436.647619   \n",
       "December     12.0  1.957221  2.029782  1.439763  1.779499    479.985119   \n",
       "\n",
       "            smart_c_sum  smart_i_mean  smart_i_sum  smart_m_mean  smart_m_sum  \\\n",
       "month_name                                                                      \n",
       "January          6931.0      8.735294        297.0     20.000000        620.0   \n",
       "February        17324.0     11.844828        687.0     27.940000       1397.0   \n",
       "March           30034.0     15.233766       1173.0     35.550725       2453.0   \n",
       "April           41119.0     13.625000       1526.0     35.864583       3443.0   \n",
       "May             54618.0     15.907801       2243.0     39.032787       4762.0   \n",
       "June            64885.0     15.951220       2616.0     38.577465       5478.0   \n",
       "July            82079.0     15.875622       3191.0     38.988506       6784.0   \n",
       "August          99045.0     16.807692       3933.0     38.750000       7905.0   \n",
       "September      111439.0     16.392308       4262.0     39.219731       8746.0   \n",
       "October        125284.0     16.880952       4963.0     39.082677       9927.0   \n",
       "November       137544.0     17.000000       5372.0     39.881481      10768.0   \n",
       "December       161275.0     18.201780       6134.0     42.264808      12130.0   \n",
       "\n",
       "            smart_p_mean  smart_p_sum  ultra_c_mean  ultra_c_sum  \\\n",
       "month_name                                                         \n",
       "January       721.323529      24525.0    428.111111       3853.0   \n",
       "February      827.603448      48001.0    297.125000       7131.0   \n",
       "March        1164.623377      89676.0    489.648649      18117.0   \n",
       "April         963.089286     107866.0    475.301887      25191.0   \n",
       "May          1197.510638     168849.0    534.250000      34192.0   \n",
       "June         1204.018293     197459.0    497.469136      40295.0   \n",
       "July         1223.950249     246014.0    564.397727      49667.0   \n",
       "August       1320.595745     310340.0    530.611650      54653.0   \n",
       "September    1249.946154     324986.0    558.882883      62036.0   \n",
       "October      1364.853741     401267.0    581.728814      68644.0   \n",
       "November     1343.047468     424403.0    562.364341      72545.0   \n",
       "December     1575.488166     532515.0    614.925373      82400.0   \n",
       "\n",
       "            ultra_i_mean  ultra_i_sum  ultra_m_mean  ultra_m_sum  \\\n",
       "month_name                                                         \n",
       "January        13.222222        119.0     43.428571        304.0   \n",
       "February       13.090909        288.0     32.937500        527.0   \n",
       "March          17.648649        653.0     47.800000       1195.0   \n",
       "April          16.963636        933.0     44.512821       1736.0   \n",
       "May            19.666667       1298.0     48.769231       2536.0   \n",
       "June           19.168675       1591.0     52.313433       3505.0   \n",
       "July           20.733333       1866.0     62.136986       4536.0   \n",
       "August         19.783019       2097.0     58.897727       5183.0   \n",
       "September      19.412281       2213.0     63.294737       6013.0   \n",
       "October        20.229508       2468.0     69.776699       7187.0   \n",
       "November       19.954887       2654.0     66.159292       7476.0   \n",
       "December       21.898551       3022.0     72.008547       8425.0   \n",
       "\n",
       "            ultra_p_mean  ultra_p_sum  \n",
       "month_name                             \n",
       "January      1950.000000      17550.0  \n",
       "February     1975.000000      47400.0  \n",
       "March        2014.864865      74550.0  \n",
       "April        2001.818182     110100.0  \n",
       "May          2059.701493     138000.0  \n",
       "June         2039.285714     171300.0  \n",
       "July         2118.131868     192750.0  \n",
       "August       2083.177570     222900.0  \n",
       "September    2024.347826     232800.0  \n",
       "October      2065.853659     254100.0  \n",
       "November     2092.164179     280350.0  \n",
       "December     2137.500000     299250.0  "
      ]
     },
     "metadata": {},
     "output_type": "display_data"
    }
   ],
   "source": [
    "# Из таблицы для исследовательского анализа данных собираем сводные таблицы сумм и средних значений в зависимости от тарифов\n",
    "# по месяцам для звонков (c), интернет-трафика (i), сообщений (m) и доходу (p):\n",
    "#    таблицы с детализацией по абонентам и тарифам:\n",
    "df_good_smart = df_good.query('tariff_name == \"smart\"')\n",
    "df_good_ultra = df_good.query('tariff_name == \"ultra\"')\n",
    "#    сводные таблицы сумм и средних значений по месяцам:\n",
    "df_good_smart_summary_c = df_good_smart.pivot_table(index='month', values='calls_sum_round', aggfunc={'sum', 'mean'}).reset_index()\n",
    "df_good_smart_summary_i = df_good_smart.pivot_table(index='month', values='internet_sum_round', aggfunc={'sum', 'mean'}).reset_index()\n",
    "df_good_smart_summary_m = df_good_smart.pivot_table(index='month', values='messages_count', aggfunc={'sum', 'mean'}).reset_index()\n",
    "df_good_smart_summary_p = df_good_smart.pivot_table(index='month', values='profit', aggfunc={'sum', 'mean'}).reset_index()\n",
    "df_good_ultra_summary_c = df_good_ultra.pivot_table(index='month', values='calls_sum_round', aggfunc={'sum', 'mean'}).reset_index()\n",
    "df_good_ultra_summary_i = df_good_ultra.pivot_table(index='month', values='internet_sum_round', aggfunc={'sum', 'mean'}).reset_index()\n",
    "df_good_ultra_summary_m = df_good_ultra.pivot_table(index='month', values='messages_count', aggfunc={'sum', 'mean'}).reset_index()\n",
    "df_good_ultra_summary_p = df_good_ultra.pivot_table(index='month', values='profit', aggfunc={'sum', 'mean'}).reset_index()\n",
    "#    переименование столбцов сводных таблиц сумм и средних значений по месяцам:\n",
    "df_good_smart_summary_c.rename(columns = {'sum' : 'smart_c_sum', 'mean' : 'smart_c_mean'}, inplace = True)\n",
    "df_good_smart_summary_i.rename(columns = {'sum' : 'smart_i_sum', 'mean' : 'smart_i_mean'}, inplace = True)\n",
    "df_good_smart_summary_m.rename(columns = {'sum' : 'smart_m_sum', 'mean' : 'smart_m_mean'}, inplace = True)\n",
    "df_good_smart_summary_p.rename(columns = {'sum' : 'smart_p_sum', 'mean' : 'smart_p_mean'}, inplace = True)\n",
    "df_good_ultra_summary_c.rename(columns = {'sum' : 'ultra_c_sum', 'mean' : 'ultra_c_mean'}, inplace = True)\n",
    "df_good_ultra_summary_i.rename(columns = {'sum' : 'ultra_i_sum', 'mean' : 'ultra_i_mean'}, inplace = True)\n",
    "df_good_ultra_summary_m.rename(columns = {'sum' : 'ultra_m_sum', 'mean' : 'ultra_m_mean'}, inplace = True)\n",
    "df_good_ultra_summary_p.rename(columns = {'sum' : 'ultra_p_sum', 'mean' : 'ultra_p_mean'}, inplace = True)\n",
    "#    обобщенные сводные таблицы из сумм значений по месяцам:\n",
    "df_good_smart_summary = df_good_smart_summary_c.merge(df_good_smart_summary_i, on=['month'], how='outer')\n",
    "df_good_smart_summary = df_good_smart_summary.merge(df_good_smart_summary_m, on=['month'], how='outer')\n",
    "df_good_smart_summary = df_good_smart_summary.merge(df_good_smart_summary_p, on=['month'], how='outer')\n",
    "df_good_ultra_summary = df_good_ultra_summary_c.merge(df_good_ultra_summary_i, on=['month'], how='outer')\n",
    "df_good_ultra_summary = df_good_ultra_summary.merge(df_good_ultra_summary_m, on=['month'], how='outer')\n",
    "df_good_ultra_summary = df_good_ultra_summary.merge(df_good_ultra_summary_p, on=['month'], how='outer')\n",
    "#    итоговая обобщенная сводная таблица из сумм и средних значений по месяцам по тарифам:\n",
    "df_good_stat = df_good_smart_summary.merge(df_good_ultra_summary, on=['month'], how='outer')\n",
    "#    добавляем столбец названий месяцев в таблицу после номера месяца:\n",
    "df_good_stat['month_name'] = df_good_stat.apply(f_month_name, axis=1) \n",
    "df_good_stat = f_change_column_order(df_good_stat, 'month_name', 1)\n",
    "#    создаем функцию для подсчета отношения сумм значений параметров тарифов smart и ultra (ratio = smart / ultra)\n",
    "#    по месяцам для звонков (c), интернет-трафика (i), сообщений (m) и доходу (p): \n",
    "def f_ratio(row):\n",
    "    smart_c = row['smart_c_sum']\n",
    "    ultra_c = row['ultra_c_sum']\n",
    "    smart_i = row['smart_i_sum']\n",
    "    ultra_i = row['ultra_i_sum']\n",
    "    smart_m = row['smart_m_sum']\n",
    "    ultra_m = row['ultra_m_sum']\n",
    "    smart_p = row['smart_p_sum']\n",
    "    ultra_p = row['ultra_p_sum']\n",
    "    try: ratio_c = smart_c / ultra_c \n",
    "    except ZeroDivisionError: ratio_c = \"-\"\n",
    "    try: ratio_i = smart_i / ultra_i\n",
    "    except ZeroDivisionError: ratio_i = \"-\"\n",
    "    try: ratio_m = smart_m / ultra_m\n",
    "    except ZeroDivisionError: ratio_m = \"-\"\n",
    "    try: ratio_p = smart_p / ultra_p\n",
    "    except ZeroDivisionError: ratio_p = \"-\"\n",
    "    return pd.Series([ratio_c, ratio_i, ratio_m, ratio_p])\n",
    "#    добавляем отношения параметров в обобщенную сводную таблицу:\n",
    "df_good_stat[['ratio_c', 'ratio_i', 'ratio_m', 'ratio_p']] = df_good_stat.apply(f_ratio, axis=1)\n",
    "#    делаем индексами строк названия месяцев, отсортированных от начала до конца года:\n",
    "df_good_stat = df_good_stat.pivot_table(index='month_name').sort_values('month')\n",
    "#    итоговая обобщенная сводная таблица из сумм и средних значений по месяцам\n",
    "#    со столбцами отношений значений параметров между тарифами:\n",
    "print('Таблица из сумм и средних значений по месяцам в зависимости от тарифов \"smart\" и \"ultra\" \\nдля звонков (c), интернет-соединений (i), сообщений (m), дохода (p) и соотношений smart/ultra для сумм (ratio):')\n",
    "display(df_good_stat)"
   ]
  },
  {
   "cell_type": "code",
   "execution_count": 10,
   "id": "da835a32",
   "metadata": {
    "scrolled": false
   },
   "outputs": [
    {
     "data": {
      "image/png": "[encoded data removed]",
      "text/plain": [
       "<Figure size 864x288 with 1 Axes>"
      ]
     },
     "metadata": {
      "needs_background": "light"
     },
     "output_type": "display_data"
    },
    {
     "data": {
      "image/png": "[encoded data removed]",
      "text/plain": [
       "<Figure size 864x288 with 1 Axes>"
      ]
     },
     "metadata": {
      "needs_background": "light"
     },
     "output_type": "display_data"
    },
    {
     "data": {
      "image/png": "[encoded data removed]",
      "text/plain": [
       "<Figure size 864x288 with 1 Axes>"
      ]
     },
     "metadata": {
      "needs_background": "light"
     },
     "output_type": "display_data"
    },
    {
     "data": {
      "image/png": "[encoded data removed]",
      "text/plain": [
       "<Figure size 864x288 with 1 Axes>"
      ]
     },
     "metadata": {
      "needs_background": "light"
     },
     "output_type": "display_data"
    }
   ],
   "source": [
    "# Диаграмма сумм длительности звонков по месяцам в зависимости от тарифа:\n",
    "df_good_stat.plot(kind='bar',\n",
    "                  y={'smart_c_sum', 'ultra_c_sum'},\n",
    "                  xlabel='month',\n",
    "                  ylabel='call, minutes',\n",
    "                  figsize=(12, 4),\n",
    "                  grid=True)                 \n",
    "plt.title('Диаграмма сумм длительности звонков по месяцам в зависимости от тарифа')\n",
    "plt.show()\n",
    "\n",
    "# Диаграмма сумм интернет-трафика по месяцам в зависимости от тарифа:\n",
    "df_good_stat.plot(kind='bar',\n",
    "                  y={'smart_i_sum', 'ultra_i_sum'},\n",
    "                  xlabel='month',\n",
    "                  ylabel='internet, Gb',\n",
    "                  figsize=(12, 4),\n",
    "                  grid=True)\n",
    "plt.title('Диаграмма сумм интернет-трафика по месяцам в зависимости от тарифа')\n",
    "plt.show()\n",
    "\n",
    "# Диаграмма сумм количества отправленных сообщений по месяцам в зависимости от тарифа:\n",
    "df_good_stat.plot(kind='bar',\n",
    "                  y={'smart_m_sum', 'ultra_m_sum'},\n",
    "                  xlabel='month',\n",
    "                  ylabel='messages, units',\n",
    "                  figsize=(12, 4),\n",
    "                  grid=True)\n",
    "plt.title('Диаграмма сумм количества отправленных сообщений по месяцам в зависимости от тарифа')\n",
    "plt.show()\n",
    "\n",
    "# График отношений значений звонков (c), интернет-трафика (i), сообщений (m), дохода (p) \n",
    "# для тарифа smart к тарифу ultra по месяцам:\n",
    "df_good_stat.plot(y={'ratio_c', 'ratio_i', 'ratio_m', 'ratio_p'},\n",
    "                  xlabel='month',\n",
    "                  ylabel='ratio = smart / ultra, units',\n",
    "                  figsize=(12, 4),\n",
    "                  grid=True)\n",
    "plt.title('График отношений значений звонков (c), интернет-трафика (i), сообщений (m), дохода (p) для тарифа smart к тарифу ultra по месяцам')\n",
    "plt.show()"
   ]
  },
  {
   "cell_type": "markdown",
   "id": "5b2c53f4",
   "metadata": {},
   "source": [
    "Из полученной таблицы и диаграмм видим, что **с каждым месяцем продолжительность звонков, количество интернет-траффика и число отправленных сообщений для обоих рассматриваемых тарифов растет.**</br>\n",
    "В начале года продолжительность звонков, объем интернет-траффика и количество отправленных сообщений по тарифу \"smart\" были более чем в 2 раза больше, чем по тарифу \"ultra\". В весенние и летние месяцы превышение объемов тарифа \"smart\" над тарифом \"ultra\" несколько выровнялось (в июне соотношения параметров были в коридоре 1,50...1,75). Осенью и зимой это соотношение по звонкам и интернету стабилизировались возле 2, в то время как сообщения абоненты тарифа \"smart\" стали отправлять реже, чем в предыдущие месяцы (соотношение \"smart\" / \"ultra\" чуть ниже 1,5).</br>  \n",
    "\n",
    "**Прибыль от абонентов тарифа \"smart\" практически на протяжении всего года была больше, чем от абонентов тарифа \"ultra\"**, за исключением февраля (практически одинаковые значения) и апреля, когда абоненты тарифа \"ultra\" принесли больше дохода компании.</br>  \n",
    "**С мая и по декабрь заметна тенденция устойчивого опережения роста прибыли от абонентов тарифа \"smart\" над прибылью от абонентов тарифа \"ultra\".** Тем не менее, **делать на данном этапе вывод, что тариф \"smart\" прибыльнее для компании нельзя, поскольку общее количество уникальных абонентов в доступной для анализа выборке (500 человек) распределено по тарифам неравномерно**, а именно:\n",
    "- с тарифом \"smart\": 351 или ~70%,\n",
    "- с тарифом \"ultra\": 149 или ~30%.\n"
   ]
  },
  {
   "cell_type": "code",
   "execution_count": 11,
   "id": "936b78d1",
   "metadata": {
    "scrolled": false
   },
   "outputs": [
    {
     "name": "stdout",
     "output_type": "stream",
     "text": [
      "Таблица из статистических (усредненных средних) параметров: \n",
      "среднее (mean), дисперсия (variance_estimate), стандартное отклонение (standard_deviation)\n",
      "в зависимости от тарифов (smart или ultra) для звонков (с), интернет-трафика (i), сообщений (m) и прибыли (р):\n"
     ]
    },
    {
     "data": {
      "text/html": [
       "<div>\n",
       "<style scoped>\n",
       "    .dataframe tbody tr th:only-of-type {\n",
       "        vertical-align: middle;\n",
       "    }\n",
       "\n",
       "    .dataframe tbody tr th {\n",
       "        vertical-align: top;\n",
       "    }\n",
       "\n",
       "    .dataframe thead th {\n",
       "        text-align: right;\n",
       "    }\n",
       "</style>\n",
       "<table border=\"1\" class=\"dataframe\">\n",
       "  <thead>\n",
       "    <tr style=\"text-align: right;\">\n",
       "      <th></th>\n",
       "      <th>stat_param</th>\n",
       "      <th>smart_c</th>\n",
       "      <th>ultra_c</th>\n",
       "      <th>smart_i</th>\n",
       "      <th>ultra_i</th>\n",
       "      <th>smart_m</th>\n",
       "      <th>ultra_m</th>\n",
       "      <th>smart_p</th>\n",
       "      <th>ultra_p</th>\n",
       "    </tr>\n",
       "  </thead>\n",
       "  <tbody>\n",
       "    <tr>\n",
       "      <th>0</th>\n",
       "      <td>mean</td>\n",
       "      <td>387.605810</td>\n",
       "      <td>511.234714</td>\n",
       "      <td>15.204689</td>\n",
       "      <td>18.481028</td>\n",
       "      <td>36.262730</td>\n",
       "      <td>55.169629</td>\n",
       "      <td>1179.670841</td>\n",
       "      <td>2046.820446</td>\n",
       "    </tr>\n",
       "    <tr>\n",
       "      <th>1</th>\n",
       "      <td>variance_estimate</td>\n",
       "      <td>5296.895977</td>\n",
       "      <td>7185.123008</td>\n",
       "      <td>6.921404</td>\n",
       "      <td>7.829686</td>\n",
       "      <td>38.806685</td>\n",
       "      <td>145.024587</td>\n",
       "      <td>56953.987059</td>\n",
       "      <td>3214.064417</td>\n",
       "    </tr>\n",
       "    <tr>\n",
       "      <th>2</th>\n",
       "      <td>standard_deviation</td>\n",
       "      <td>72.779777</td>\n",
       "      <td>84.765105</td>\n",
       "      <td>2.630856</td>\n",
       "      <td>2.798158</td>\n",
       "      <td>6.229501</td>\n",
       "      <td>12.042615</td>\n",
       "      <td>238.650345</td>\n",
       "      <td>56.692719</td>\n",
       "    </tr>\n",
       "  </tbody>\n",
       "</table>\n",
       "</div>"
      ],
      "text/plain": [
       "           stat_param      smart_c      ultra_c    smart_i    ultra_i  \\\n",
       "0                mean   387.605810   511.234714  15.204689  18.481028   \n",
       "1   variance_estimate  5296.895977  7185.123008   6.921404   7.829686   \n",
       "2  standard_deviation    72.779777    84.765105   2.630856   2.798158   \n",
       "\n",
       "     smart_m     ultra_m       smart_p      ultra_p  \n",
       "0  36.262730   55.169629   1179.670841  2046.820446  \n",
       "1  38.806685  145.024587  56953.987059  3214.064417  \n",
       "2   6.229501   12.042615    238.650345    56.692719  "
      ]
     },
     "metadata": {},
     "output_type": "display_data"
    }
   ],
   "source": [
    "# Вычисляем для средних значений звонков (c), интернет-трафика (i), сообщений (m) и дохода (p)\n",
    "# итоговой обобщенной сводной таблицы средние значения, дисперсии и стандартные отклонения в зависимости от тарифов \n",
    "# (учитываем, что датасет — не вся совокупность, а выборка из неё, поэтому вместо дисперсии и стандартного отклонения\n",
    "# считаем их оценки по имеющейся выборке. Для этого в методе var() и std() указываем параметр ddof=1):\n",
    "#    средние значения:\n",
    "smart_mean_c = df_good_stat['smart_c_mean'].mean()\n",
    "smart_mean_i = df_good_stat['smart_i_mean'].mean()\n",
    "smart_mean_m = df_good_stat['smart_m_mean'].mean()\n",
    "smart_mean_p = df_good_stat['smart_p_mean'].mean()\n",
    "ultra_mean_c = df_good_stat['ultra_c_mean'].mean()\n",
    "ultra_mean_i = df_good_stat['ultra_i_mean'].mean()\n",
    "ultra_mean_m = df_good_stat['ultra_m_mean'].mean()\n",
    "ultra_mean_p = df_good_stat['ultra_p_mean'].mean()\n",
    "#    дисперсии:\n",
    "smart_variance_estimate_c = np.var(df_good_stat['smart_c_mean'], ddof=1)\n",
    "smart_variance_estimate_i = np.var(df_good_stat['smart_i_mean'], ddof=1)\n",
    "smart_variance_estimate_m = np.var(df_good_stat['smart_m_mean'], ddof=1)\n",
    "smart_variance_estimate_p = np.var(df_good_stat['smart_p_mean'], ddof=1)\n",
    "ultra_variance_estimate_c = np.var(df_good_stat['ultra_c_mean'], ddof=1)\n",
    "ultra_variance_estimate_i = np.var(df_good_stat['ultra_i_mean'], ddof=1)\n",
    "ultra_variance_estimate_m = np.var(df_good_stat['ultra_m_mean'], ddof=1)\n",
    "ultra_variance_estimate_p = np.var(df_good_stat['ultra_p_mean'], ddof=1)\n",
    "#    стандартные отклтонения:\n",
    "smart_standard_deviation_c = np.std(df_good_stat['smart_c_mean'], ddof=1)\n",
    "smart_standard_deviation_i = np.std(df_good_stat['smart_i_mean'], ddof=1)\n",
    "smart_standard_deviation_m = np.std(df_good_stat['smart_m_mean'], ddof=1)\n",
    "smart_standard_deviation_p = np.std(df_good_stat['smart_p_mean'], ddof=1)\n",
    "ultra_standard_deviation_c = np.std(df_good_stat['ultra_c_mean'], ddof=1)\n",
    "ultra_standard_deviation_i = np.std(df_good_stat['ultra_i_mean'], ddof=1)\n",
    "ultra_standard_deviation_m = np.std(df_good_stat['ultra_m_mean'], ddof=1)\n",
    "ultra_standard_deviation_p = np.std(df_good_stat['ultra_p_mean'], ddof=1)\n",
    "\n",
    "# Cобираем полученные статистические параметры в таблицу в зависимости от тарифов: \n",
    "#    данные в столбцах:\n",
    "stat_names = ['mean', 'variance_estimate', 'standard_deviation']\n",
    "stat_smart_c = [smart_mean_c, smart_variance_estimate_c, smart_standard_deviation_c]\n",
    "stat_smart_i = [smart_mean_i, smart_variance_estimate_i, smart_standard_deviation_i]\n",
    "stat_smart_m = [smart_mean_m, smart_variance_estimate_m, smart_standard_deviation_m]\n",
    "stat_smart_p = [smart_mean_p, smart_variance_estimate_p, smart_standard_deviation_p]\n",
    "stat_ultra_c = [ultra_mean_c, ultra_variance_estimate_c, ultra_standard_deviation_c]\n",
    "stat_ultra_i = [ultra_mean_i, ultra_variance_estimate_i, ultra_standard_deviation_i]\n",
    "stat_ultra_m = [ultra_mean_m, ultra_variance_estimate_m, ultra_standard_deviation_m]\n",
    "stat_ultra_p = [ultra_mean_p, ultra_variance_estimate_p, ultra_standard_deviation_p]\n",
    "#    создаем словарь списков и датафрейм со статистическими параметрами:\n",
    "stat_dic = ({'stat_param':stat_names,\n",
    "             'smart_c':stat_smart_c, 'ultra_c':stat_ultra_c,\n",
    "             'smart_i':stat_smart_i, 'ultra_i':stat_ultra_i,\n",
    "             'smart_m':stat_smart_m, 'ultra_m':stat_ultra_m,\n",
    "             'smart_p':stat_smart_p, 'ultra_p':stat_ultra_p,\n",
    "            })\n",
    "df_stat = pd.DataFrame(stat_dic)\n",
    "print('Таблица из статистических (усредненных средних) параметров: \\nсреднее (mean), дисперсия (variance_estimate), стандартное отклонение (standard_deviation)\\nв зависимости от тарифов (smart или ultra) для звонков (с), интернет-трафика (i), сообщений (m) и прибыли (р):')\n",
    "display(df_stat)"
   ]
  },
  {
   "cell_type": "code",
   "execution_count": 12,
   "id": "9196774c",
   "metadata": {
    "scrolled": false
   },
   "outputs": [
    {
     "data": {
      "image/png": "[encoded data removed]",
      "text/plain": [
       "<Figure size 432x288 with 1 Axes>"
      ]
     },
     "metadata": {
      "needs_background": "light"
     },
     "output_type": "display_data"
    },
    {
     "data": {
      "image/png": "[encoded data removed]",
      "text/plain": [
       "<Figure size 432x288 with 1 Axes>"
      ]
     },
     "metadata": {
      "needs_background": "light"
     },
     "output_type": "display_data"
    },
    {
     "data": {
      "image/png": "[encoded data removed]",
      "text/plain": [
       "<Figure size 432x288 with 1 Axes>"
      ]
     },
     "metadata": {
      "needs_background": "light"
     },
     "output_type": "display_data"
    },
    {
     "data": {
      "image/png": "[encoded data removed]",
      "text/plain": [
       "<Figure size 432x288 with 1 Axes>"
      ]
     },
     "metadata": {
      "needs_background": "light"
     },
     "output_type": "display_data"
    }
   ],
   "source": [
    "# Строим диаграммы размаха параметров в зависимости от тарифов:\n",
    "#    звонки:\n",
    "df_good_stat_c = df_good_stat[['smart_c_mean', 'ultra_c_mean']]\n",
    "df_good_stat_c.columns = ['smart', 'ultra']\n",
    "boxplot_с = (sns.boxplot(data=df_good_stat_c)\n",
    "             .axes.set_title(\"Диаграмма размаха усредненной средней продолжительности звонков (в минутах) в зависимости от тарифов\", fontsize=16)\n",
    "             .axes.set_xlabel('tariff', fontsize=14)\n",
    "            )\n",
    "plt.show()\n",
    "#    интернет-трафик:\n",
    "df_good_stat_i = df_good_stat[['smart_i_mean', 'ultra_i_mean']]\n",
    "df_good_stat_i.columns = ['smart', 'ultra']\n",
    "boxplot_i = (sns.boxplot(data=df_good_stat_i)\n",
    "             .axes.set_title(\"Диаграмма размаха усредненного среднего объема интернет-трафика (в Гб) в зависимости от тарифов\", fontsize=16)\n",
    "             .axes.set_xlabel('tariff', fontsize=14)\n",
    "            )\n",
    "plt.show()\n",
    "#    сообщения:\n",
    "df_good_stat_m = df_good_stat[['smart_m_mean', 'ultra_m_mean']]\n",
    "df_good_stat_m.columns = ['smart', 'ultra']\n",
    "boxplot_i = (sns.boxplot(data=df_good_stat_m)\n",
    "             .axes.set_title(\"Диаграмма размаха усредненного среднего количества сообщений (в штуках) в зависимости от тарифов\", fontsize=16)\n",
    "             .axes.set_xlabel('tariff', fontsize=14)\n",
    "            )\n",
    "plt.show()\n",
    "#    доходы:\n",
    "df_good_stat_p = df_good_stat[['smart_p_mean', 'ultra_p_mean']]\n",
    "df_good_stat_p.columns = ['smart', 'ultra']\n",
    "boxplot_i = (sns.boxplot(data=df_good_stat_p)\n",
    "             .axes.set_title(\"Диаграмма размаха усредненного среднего дохода от абонентов (в рублях) в зависимости от тарифов\", fontsize=16)\n",
    "             .axes.set_xlabel('tariff', fontsize=14)\n",
    "            )\n",
    "plt.show()"
   ]
  },
  {
   "cell_type": "code",
   "execution_count": 13,
   "id": "8e49bfad",
   "metadata": {
    "scrolled": false
   },
   "outputs": [
    {
     "name": "stdout",
     "output_type": "stream",
     "text": [
      "Средние значения (mean), дисперсии (var) и стандартные отклонения (std) в зависимости от тарифов для исходных суммарных данных по звонкам:\n"
     ]
    },
    {
     "data": {
      "text/html": [
       "<div>\n",
       "<style scoped>\n",
       "    .dataframe tbody tr th:only-of-type {\n",
       "        vertical-align: middle;\n",
       "    }\n",
       "\n",
       "    .dataframe tbody tr th {\n",
       "        vertical-align: top;\n",
       "    }\n",
       "\n",
       "    .dataframe thead th {\n",
       "        text-align: right;\n",
       "    }\n",
       "</style>\n",
       "<table border=\"1\" class=\"dataframe\">\n",
       "  <thead>\n",
       "    <tr style=\"text-align: right;\">\n",
       "      <th>tariff_name</th>\n",
       "      <th>smart</th>\n",
       "      <th>ultra</th>\n",
       "    </tr>\n",
       "  </thead>\n",
       "  <tbody>\n",
       "    <tr>\n",
       "      <th>mean</th>\n",
       "      <td>419.062978</td>\n",
       "      <td>545.451104</td>\n",
       "    </tr>\n",
       "    <tr>\n",
       "      <th>var</th>\n",
       "      <td>35844.189551</td>\n",
       "      <td>94203.418396</td>\n",
       "    </tr>\n",
       "    <tr>\n",
       "      <th>std</th>\n",
       "      <td>189.325618</td>\n",
       "      <td>306.925754</td>\n",
       "    </tr>\n",
       "  </tbody>\n",
       "</table>\n",
       "</div>"
      ],
      "text/plain": [
       "tariff_name         smart         ultra\n",
       "mean           419.062978    545.451104\n",
       "var          35844.189551  94203.418396\n",
       "std            189.325618    306.925754"
      ]
     },
     "metadata": {},
     "output_type": "display_data"
    },
    {
     "data": {
      "image/png": "[encoded data removed]",
      "text/plain": [
       "<Figure size 432x288 with 1 Axes>"
      ]
     },
     "metadata": {
      "needs_background": "light"
     },
     "output_type": "display_data"
    },
    {
     "name": "stdout",
     "output_type": "stream",
     "text": [
      "Средние значения (mean), дисперсии (var) и стандартные отклонения (std) в зависимости от тарифов для исходных суммарных данных по интернет-трафику:\n"
     ]
    },
    {
     "data": {
      "text/html": [
       "<div>\n",
       "<style scoped>\n",
       "    .dataframe tbody tr th:only-of-type {\n",
       "        vertical-align: middle;\n",
       "    }\n",
       "\n",
       "    .dataframe tbody tr th {\n",
       "        vertical-align: top;\n",
       "    }\n",
       "\n",
       "    .dataframe thead th {\n",
       "        text-align: right;\n",
       "    }\n",
       "</style>\n",
       "<table border=\"1\" class=\"dataframe\">\n",
       "  <thead>\n",
       "    <tr style=\"text-align: right;\">\n",
       "      <th>tariff_name</th>\n",
       "      <th>smart</th>\n",
       "      <th>ultra</th>\n",
       "    </tr>\n",
       "  </thead>\n",
       "  <tbody>\n",
       "    <tr>\n",
       "      <th>mean</th>\n",
       "      <td>16.336176</td>\n",
       "      <td>19.694359</td>\n",
       "    </tr>\n",
       "    <tr>\n",
       "      <th>var</th>\n",
       "      <td>32.923756</td>\n",
       "      <td>94.146734</td>\n",
       "    </tr>\n",
       "    <tr>\n",
       "      <th>std</th>\n",
       "      <td>5.737923</td>\n",
       "      <td>9.702924</td>\n",
       "    </tr>\n",
       "  </tbody>\n",
       "</table>\n",
       "</div>"
      ],
      "text/plain": [
       "tariff_name      smart      ultra\n",
       "mean         16.336176  19.694359\n",
       "var          32.923756  94.146734\n",
       "std           5.737923   9.702924"
      ]
     },
     "metadata": {},
     "output_type": "display_data"
    },
    {
     "data": {
      "image/png": "[encoded data removed]",
      "text/plain": [
       "<Figure size 432x288 with 1 Axes>"
      ]
     },
     "metadata": {
      "needs_background": "light"
     },
     "output_type": "display_data"
    },
    {
     "name": "stdout",
     "output_type": "stream",
     "text": [
      "Средние значения (mean), дисперсии (var) и стандартные отклонения (std) в зависимости от тарифов для исходных суммарных данных по сообщениям:\n"
     ]
    },
    {
     "data": {
      "text/html": [
       "<div>\n",
       "<style scoped>\n",
       "    .dataframe tbody tr th:only-of-type {\n",
       "        vertical-align: middle;\n",
       "    }\n",
       "\n",
       "    .dataframe tbody tr th {\n",
       "        vertical-align: top;\n",
       "    }\n",
       "\n",
       "    .dataframe thead th {\n",
       "        text-align: right;\n",
       "    }\n",
       "</style>\n",
       "<table border=\"1\" class=\"dataframe\">\n",
       "  <thead>\n",
       "    <tr style=\"text-align: right;\">\n",
       "      <th>tariff_name</th>\n",
       "      <th>smart</th>\n",
       "      <th>ultra</th>\n",
       "    </tr>\n",
       "  </thead>\n",
       "  <tbody>\n",
       "    <tr>\n",
       "      <th>mean</th>\n",
       "      <td>38.716441</td>\n",
       "      <td>61.161006</td>\n",
       "    </tr>\n",
       "    <tr>\n",
       "      <th>var</th>\n",
       "      <td>717.594201</td>\n",
       "      <td>2109.659183</td>\n",
       "    </tr>\n",
       "    <tr>\n",
       "      <th>std</th>\n",
       "      <td>26.787949</td>\n",
       "      <td>45.931026</td>\n",
       "    </tr>\n",
       "  </tbody>\n",
       "</table>\n",
       "</div>"
      ],
      "text/plain": [
       "tariff_name       smart        ultra\n",
       "mean          38.716441    61.161006\n",
       "var          717.594201  2109.659183\n",
       "std           26.787949    45.931026"
      ]
     },
     "metadata": {},
     "output_type": "display_data"
    },
    {
     "data": {
      "image/png": "[encoded data removed]",
      "text/plain": [
       "<Figure size 432x288 with 1 Axes>"
      ]
     },
     "metadata": {
      "needs_background": "light"
     },
     "output_type": "display_data"
    },
    {
     "name": "stdout",
     "output_type": "stream",
     "text": [
      "Средние значения (mean), дисперсии (var) и стандартные отклонения (std) в зависимости от тарифов для исходных суммарных данных по доходу:\n"
     ]
    },
    {
     "data": {
      "text/html": [
       "<div>\n",
       "<style scoped>\n",
       "    .dataframe tbody tr th:only-of-type {\n",
       "        vertical-align: middle;\n",
       "    }\n",
       "\n",
       "    .dataframe tbody tr th {\n",
       "        vertical-align: top;\n",
       "    }\n",
       "\n",
       "    .dataframe thead th {\n",
       "        text-align: right;\n",
       "    }\n",
       "</style>\n",
       "<table border=\"1\" class=\"dataframe\">\n",
       "  <thead>\n",
       "    <tr style=\"text-align: right;\">\n",
       "      <th>tariff_name</th>\n",
       "      <th>smart</th>\n",
       "      <th>ultra</th>\n",
       "    </tr>\n",
       "  </thead>\n",
       "  <tbody>\n",
       "    <tr>\n",
       "      <th>mean</th>\n",
       "      <td>1289.641704</td>\n",
       "      <td>2070.030426</td>\n",
       "    </tr>\n",
       "    <tr>\n",
       "      <th>var</th>\n",
       "      <td>669730.763895</td>\n",
       "      <td>141387.714809</td>\n",
       "    </tr>\n",
       "    <tr>\n",
       "      <th>std</th>\n",
       "      <td>818.370799</td>\n",
       "      <td>376.015578</td>\n",
       "    </tr>\n",
       "  </tbody>\n",
       "</table>\n",
       "</div>"
      ],
      "text/plain": [
       "tariff_name          smart          ultra\n",
       "mean           1289.641704    2070.030426\n",
       "var          669730.763895  141387.714809\n",
       "std             818.370799     376.015578"
      ]
     },
     "metadata": {},
     "output_type": "display_data"
    },
    {
     "data": {
      "image/png": "[encoded data removed]",
      "text/plain": [
       "<Figure size 432x288 with 1 Axes>"
      ]
     },
     "metadata": {
      "needs_background": "light"
     },
     "output_type": "display_data"
    }
   ],
   "source": [
    "# Вычисляем по исходной информации об абонентах df_good для значений звонков (c), интернет-трафика (i), сообщений (m) и дохода (p)\n",
    "# средние значения, дисперсии и стандартные отклонения в зависимости от тарифов и строим гистограммы распределения:\n",
    "\n",
    "#    по звонкам:\n",
    "calls_da = df_good.groupby('tariff_name').calls_sum_round.agg(['mean','var','std']).T\n",
    "print('Средние значения (mean), дисперсии (var) и стандартные отклонения (std) в зависимости от тарифов для исходных суммарных данных по звонкам:')\n",
    "display(calls_da)\n",
    "df_good.query('tariff_name==\"smart\"').calls_sum_round.hist(label='smart')\n",
    "df_good.query('tariff_name==\"ultra\"').calls_sum_round.hist(label='ultra', alpha=0.5)\n",
    "plt.title('Гистограммы распределения для исходных суммарных данных по звонкам')\n",
    "plt.legend()\n",
    "plt.xlabel(\"Количество использованых минут\")\n",
    "plt.ylabel(\"Частота использования\")\n",
    "plt.figsize=(100, 20)\n",
    "plt.show()\n",
    "\n",
    "#    по интернет-трафику:\n",
    "internet_da = df_good.groupby('tariff_name').internet_sum_round.agg(['mean','var','std']).T\n",
    "print('Средние значения (mean), дисперсии (var) и стандартные отклонения (std) в зависимости от тарифов для исходных суммарных данных по интернет-трафику:')\n",
    "display(internet_da)\n",
    "df_good.query('tariff_name==\"smart\"').internet_sum_round.hist(label='smart', bins=30)\n",
    "df_good.query('tariff_name==\"ultra\"').internet_sum_round.hist(label='ultra', alpha=0.5, bins=30)\n",
    "plt.title('Гистограммы распределения для исходных суммарных данных по интернет-трафику')\n",
    "plt.legend()\n",
    "plt.xlabel(\"Количество использованых Гб\")\n",
    "plt.ylabel(\"Частота использования\")\n",
    "plt.figsize=(100, 20)\n",
    "plt.show()\n",
    "\n",
    "#    по сообщениям:\n",
    "messages_da = df_good.groupby('tariff_name').messages_count.agg(['mean','var','std']).T\n",
    "print('Средние значения (mean), дисперсии (var) и стандартные отклонения (std) в зависимости от тарифов для исходных суммарных данных по сообщениям:')\n",
    "display(messages_da)\n",
    "df_good.query('tariff_name==\"smart\"').messages_count.hist(label='smart', bins=30)\n",
    "df_good.query('tariff_name==\"ultra\"').messages_count.hist(label='ultra', alpha=0.5, bins=30)\n",
    "plt.title('Гистограммы распределения для исходных суммарных данных по сообщениям')\n",
    "plt.legend()\n",
    "plt.xlabel(\"Количество отправленных сообщений\")\n",
    "plt.ylabel(\"Частота использования\")\n",
    "plt.figsize=(100, 20)\n",
    "plt.show()\n",
    "\n",
    "\n",
    "#    по доходу:\n",
    "profit_da = df_good.groupby('tariff_name').profit.agg(['mean','var','std']).T\n",
    "print('Средние значения (mean), дисперсии (var) и стандартные отклонения (std) в зависимости от тарифов для исходных суммарных данных по доходу:')\n",
    "display(profit_da)\n",
    "df_good.query('tariff_name==\"smart\"').profit.hist(label='smart', bins=30)\n",
    "df_good.query('tariff_name==\"ultra\"').profit.hist(label='ultra', alpha=0.5, bins=30)\n",
    "plt.title('Гистограммы распределения для исходных суммарных данных по доходу')\n",
    "plt.legend()\n",
    "plt.xlabel(\"Величина дохода, руб.\")\n",
    "plt.ylabel(\"Частота использования\")\n",
    "plt.figsize=(100, 20)\n",
    "plt.show()"
   ]
  },
  {
   "cell_type": "markdown",
   "id": "a3d97f09",
   "metadata": {},
   "source": [
    "Из полученных таблиц и диаграмм видим, что **усредненные средние значения каждого из параметров - продолжительность звонков, количество интернет-траффика, число отправленных сообщений и величина дохода от абонентов, - для тарифа \"ultra\" выше, чем для тарифа \"smart\".**</br>\n",
    "\n",
    " **Особенности поведения абонентов:**\n",
    "- усредненные средние значения **продолжительности звонков в месяц для каждого из тарифов значительно меньше базового пакета**: \"smart\" 387,6 +/- 72,8 при базе 500 минут; \"ultra\" 511,2 +/- 84,8 при базе 3000 минут. Другими словами, абоненты тарифа \"smart\" обычно не используют порядка 100 предоплаченных минут (20% от базы), а абоненты тарифа \"ultra\" не используют порядка 2500 предоплаченных минут (84% от базы).</br>\n",
    "- усредненные средние значения **использования интернет-трафика** можно интерпретировать, как то, что абоненты тарифа \"smart\" часто превышают предоплаченный объем, в то время как абоненты тарифа \"ultra\" обычно укладываются в предоплаченный лимит (\"smart\" 15,2 +/- 2,6 при базе 15 Гб; \"ultra\" 18,5 +/- 2,8 при базе 30 Гб).</br>\n",
    "- усредненные средние значения **количества отправленных SMS-сообщений для обоих тарифных групп меньше предоплаченных величин, однако абоненты тарифа \"smart\" более рачительно используют данную услугу, а абоненты тарифа \"ultra\" почти ею не пользуются** (\"smart\" 36,3 +/- 6,2 сообщений или 73% от базы в 50 сообщений; \"ultra\" 55,2 +/- 12,0 сообщений или 6% от базы в 1000 сообщений).</br>\n",
    "\n",
    "Что касается величин **усредненного среднего дохода от абонентов в связке с размером абонентской платы**, то здесь возможно отметить, что **усредненный средний доход по тарифу \"smart\" в 2 раза превышает базовую ставку абонентской платы, в то время как для тарифа \"ultra\" усредненный средний доход чуть больше базовой ставки** (\"smart\" 1151,95 +/- 228,54 при базе 550 рублей; \"ultra\" 2046,82 +/- 56,69 при базе 1950 рублей). </br>\n",
    "Вероятно, такое соотношение по доходам обусловлено частым использованием услуг по повышенным ставкам абонентами \"smart\" - людям не хватает предоплаченного объема интернет-трафика. Также необходимо учесть, что в исследуемой выборке имеется существенное различие в количестве абонентов по разным тарифам, о котором говорилось ранее.\n",
    "\n",
    "**Аналогичные выводы можно сделать и по результатам анализа исходных данных (неусредненных по месяцам):**\n",
    "- **в части звонков** большая часть абонентов тарифа \"smart\" укладывается в предоплаченные минуты, а абоненты тарифа \"ultra\" практически полностью покрывают потребность в общении за счет предоплаченного лимита (для \"smart\" средние величины продолжительности разговоров: 419,1 +/- 189,3 при базе 500 минут; для \"ultra\" 545,5 +/- 306,9 при базе 3000 минут);</br>\n",
    "- **в части использования интернет-трафика** около половины абонентов тарифа \"smart\" используют дополнительный трафик, который оплачивается по более высокой цене, при этом абоненты \"ultra\" укладываются в предоплаченные гигабайты (для \"smart\" средние величины размеры трафика: 16,3 +/- 5,7 при базе 15 Гб; \"ultra\" 19,7 +/- 9,7 при базе 30 Гб). Для абонентов тарифа \"smart\" отмечаем два пика использования услуги: ~15 и ~20 Гб (возможно, имеет смысл разработать дополнительный тариф 20 Гб);</br>\n",
    "- **в части отправки сообщений** до трети абонентов тарифа \"smart\" перебирают предоплаченный лимит, который оплачивается по более высокой цене, при этом абоненты \"ultra\" полностью укладываются в предоплаченное количество сообщений (для \"smart\" средние величины сообщений: 38,7 +/- 26,8 при базе в 50 сообщений; \"ultra\" 61,2 +/- 45,9 сообщений при базе в 1000 сообщений);</br>\n",
    "- **в части величины среднего дохода** для абонентов тарифа \"smart\" отмечаем сильно смещенное вправо распределение - то есть много абонентов переплачивают сверх предустановленной ставки базового тарифа, при этом абоненты \"ultra\" практически полностью укладываются в предоплаченный пакет услуг (для \"smart\" средние величины дохода: 1289,64 +/- 818,37 при базе в 500 рублей; \"ultra\" 2070,03 +/- 376,02 при базе в 1950 рублей).\n",
    "\n",
    "**Из полученных данных также видно, что дополнительно усредненные по месяцам данные (усредненные средние значения параметров) менее точно описывают реальную картину, чем средние значения параметров.**\n"
   ]
  },
  {
   "cell_type": "markdown",
   "id": "dab068ba",
   "metadata": {},
   "source": [
    "### Проверка гипотез о средней выручке по тарифам\n",
    "[В начало](#intro)\n",
    "\n",
    "Для ответа на основной вопрос исследования - какой из тарифов «Ультра» или «Смарт» приносит больше прибыли для компании сформулируем и проверим соответствующие гипотезы.\n",
    "\n",
    "Также дадим ответ на вопрос о том, отличаются ли средняя выручка пользователей из Москвы от выручки пользователей из других регионов."
   ]
  },
  {
   "cell_type": "code",
   "execution_count": 14,
   "id": "80178fe1",
   "metadata": {},
   "outputs": [
    {
     "name": "stdout",
     "output_type": "stream",
     "text": [
      "Суммарный доход от всех абонентов:  4916951.0 руб. в том числе:\n",
      "- от абонентов с тарифом \"smart\": 2875901.0 руб. (58%),\n",
      "- от абонентов с тарифом \"ultra\": 2041050.0 руб. (42%).\n",
      "Общее количество уникальных абонентов в доступной для анализа выборке: 500 человек, в том числе:\n",
      "- с тарифом \"smart\": 351 или ~70%,\n",
      "- с тарифом \"ultra\": 149 или ~30%.\n",
      "\n",
      "Суммарный доход от всех абонентов:  4916951.0 руб. в том числе:\n",
      "- от абонентов из Москвы: 945042.0 руб. (19%),\n",
      "- от абонентов из других регионов: 3971909.0 руб. (81%).\n",
      "Общее количество уникальных абонентов в доступной для анализа выборке: 500 человек, в том числе:\n",
      "- абонентов из Москвы: 99 (20%),\n",
      "- абонентов из других регионов: 401 (80%).\n"
     ]
    }
   ],
   "source": [
    "# Суммарный доход и распределение абонентов с тарифами smart и ultra в имеющейся выборке:\n",
    "p_smart = abon_count.query('tariff_name == \"smart\"')['profit_user_sum'].sum()\n",
    "p_ultra = abon_count.query('tariff_name == \"ultra\"')['profit_user_sum'].sum()\n",
    "print('Суммарный доход от всех абонентов: ', abon_count['profit_user_sum'].sum(), 'руб. в том числе:')\n",
    "print(f'- от абонентов с тарифом \"smart\": {p_smart} руб. ({round((p_smart / (p_smart + p_ultra)) * 100)}%),')\n",
    "print(f'- от абонентов с тарифом \"ultra\": {p_ultra} руб. ({100 - round((p_smart / (p_smart + p_ultra)) * 100)}%).')\n",
    "print(f'Общее количество уникальных абонентов в доступной для анализа выборке: {abon_count_sum} человек, в том числе:')\n",
    "print(f'- с тарифом \"smart\": {abon_count_sum_smart} или ~{round((abon_count_sum_smart / abon_count_sum) * 100)}%,')\n",
    "print(f'- с тарифом \"ultra\": {abon_count_sum_ultra} или ~{round(100 - (abon_count_sum_smart / abon_count_sum) * 100)}%.') \n",
    "print()\n",
    "# Суммарный доход и распределение абонентов из Москвы и из других регионов:\n",
    "msk = abon_count.query('city == \"Москва\"')['profit_user_sum'].sum()\n",
    "not_msk = abon_count.query('city != \"Москва\"')['profit_user_sum'].sum()\n",
    "print('Суммарный доход от всех абонентов: ', abon_count['profit_user_sum'].sum(), 'руб. в том числе:')\n",
    "print(f'- от абонентов из Москвы: {msk} руб. ({round((msk / (msk + not_msk)) * 100)}%),')\n",
    "print(f'- от абонентов из других регионов: {not_msk} руб. ({100 - round((msk / (msk + not_msk)) * 100)}%).')\n",
    "# готовим выборки по среднему доходу от абонентов из Москвы и из других регионов:\n",
    "profit_msk = abon_count.query('city == \"Москва\"')['profit_user_mean']\n",
    "profit_not_msk = abon_count.query('city != \"Москва\"')['profit_user_mean']\n",
    "#display(profit_msk)\n",
    "#display(profit_not_msk)\n",
    "user_msk = profit_msk.shape[0]\n",
    "user_not_msk = profit_not_msk.shape[0]\n",
    "print(f'Общее количество уникальных абонентов в доступной для анализа выборке: {abon_count_sum} человек, в том числе:')\n",
    "print(f'- абонентов из Москвы: {user_msk} ({round((user_msk / (user_msk + user_not_msk)) * 100)}%),')\n",
    "print(f'- абонентов из других регионов: {user_not_msk} ({100 - round((user_msk / (user_msk + user_not_msk)) * 100)}%).')"
   ]
  },
  {
   "cell_type": "markdown",
   "id": "77d0e667",
   "metadata": {},
   "source": [
    "#### Гипотеза о средней выручке по тарифам «Ультра» и «Смарт» для всей выборки\n",
    "[В начало](#intro)\n",
    "\n",
    "Основываясь на результатах анализа поведения абонентов, сформулируем и проверим соответствующие гипотезы.\n",
    "\n",
    "**Формулируем нулевую гипотезу H₀:**</br>\n",
    "**Разницы в средней прибыли от абонентов с тарифами \"smart\" и \"ultra\" нет, исследуемые параметры равны.**</br>\n",
    "То есть **H₀: profit_smart = profit_ultra**.</br>\n",
    "\n",
    "**Формулируем альтернативную гипотезу H₁:**</br>\n",
    "**Средняя прибыль от абонентов с тарифом \"smart\" ниже, чем от абонентов с тарифом \"ultra\".**</br> \n",
    "То есть **H₁: profit_smart < profit_ultra**.</br>\n",
    "*(односторонняя гипотеза влево: выборочное среднее для profit_smart значимо меньше предполагаемого среднего для profit_ultra)*\n",
    "\n",
    "**Устанавливаем уровень значимости alfa = 0.05** (пороговый уровень статистической значимости alfa или ошибка первого рода, то есть вероятность ошибочно отклонить нулевую гипотезу составляет 5 из 100).\n"
   ]
  },
  {
   "cell_type": "code",
   "execution_count": 15,
   "id": "8b5820fd",
   "metadata": {},
   "outputs": [
    {
     "name": "stdout",
     "output_type": "stream",
     "text": [
      "p-значение: 9.635056972104705e-251\n",
      "уровень статистической значимости: 0.05\n",
      "Отвергаем нулевую гипотезу\n"
     ]
    }
   ],
   "source": [
    "# Проверяем нулевую гипотезу H₀:\n",
    "# H₀: profit_smart = profit_ultra\n",
    "# Фактически мы проверяем гипотезу о равенстве средних двух генеральных совокупностей по взятым из них выборкам.\n",
    "\n",
    "# готовим выборки по доходу от абонентов тарифа smart и ultra:\n",
    "profit_smart = df_good.query('tariff_name == \"smart\"')['profit']\n",
    "profit_ultra = df_good.query('tariff_name == \"ultra\"')['profit']\n",
    "# аналогичный расчет по средним данным о доходах сгруппированных по абонентам таблицах:\n",
    "# profit_smart = abon_count.query('tariff_name == \"smart\"')['profit_user_mean']\n",
    "# profit_ultra = abon_count.query('tariff_name == \"ultra\"')['profit_user_mean']\n",
    "# display(profit_smart)\n",
    "# display(profit_ultra)\n",
    "\n",
    "# устанавливаем уровень статистической значимости\n",
    "# (если p-value окажется меньше него - отвергнем гипотезу):\n",
    "alpha = .05\n",
    "\n",
    "# проверяем гипотезу о равенстве среднего двух генеральных совокупностей по взятым из них выборкам\n",
    "# с помощью статистического теста с использованием t-распределения: t-теста Стьдента\n",
    "# (поскольку выборки разного размера и/или можно предположить, что дисперсии у генеральных совокупностей разные, то\n",
    "# при вызове метода scipy.stats.ttest_ind() указываем equal_var = False):\n",
    "results = st.ttest_ind(profit_smart, \n",
    "                       profit_ultra, \n",
    "                       equal_var = False)\n",
    "\n",
    "# находим p-значение, то есть вероятность получить наблюдаемый или еще более далекий от предполагаемого результат при условии, \n",
    "# что нулевая гипотеза верна:\n",
    "print('p-значение:', results.pvalue / 2) # делим на 2, поскольку альтернативная гипотеза H₁ - односторонняя\n",
    "print('уровень статистической значимости:', alpha)\n",
    "\n",
    "if (results.pvalue / 2) < alpha: # делим на 2, поскольку альтернативная гипотеза H₁ - односторонняя\n",
    "    print(\"Отвергаем нулевую гипотезу\")\n",
    "else:\n",
    "    print(\"Не получилось отвергнуть нулевую гипотезу\")\n"
   ]
  },
  {
   "cell_type": "markdown",
   "id": "9cd41a5e",
   "metadata": {},
   "source": [
    "После проверки: **нулевая гипотеза H₀ о том, что разницы в средней прибыли от абонентов с тарифами \"smart\" и \"ultra\" нет**, и исследуемые параметры равны (H₀: profit_smart = profit_ultra) - **была отвергнута**. Альтернативная гипотеза: для компании «Мегалайн» абоненты тарифа \"smart\" в среднем приносят меньший доход."
   ]
  },
  {
   "cell_type": "markdown",
   "id": "a1784767",
   "metadata": {},
   "source": [
    "Согласно исходных данных о тарифах, стоимость предоплаченных пакетов услуг или **базовая цена для тарифа \"smart\" меньше, чем для тарифа \"ultra\" в 3,55 раза (550 рублей против 1950 рублей).** При этом **имеются отличия между тарифами в стоимости услуг, свыше базового пакета**.\n",
    "\n",
    "Суммарный доход от всех абонентов:  4 916 951 руб. в том числе:\n",
    "- от абонентов с тарифом \"smart\": 2 875 901 руб. (58%),\n",
    "- от абонентов с тарифом \"ultra\": 2 041 050 руб. (42%).\n",
    "\n",
    "**Считая имеющуюся выборку репрезентативной, с учетом полученных результатов исследования возможно признать тариф \"smart\" как приносящий меньше прибыли, чем тариф \"ultra\".**"
   ]
  },
  {
   "cell_type": "markdown",
   "id": "cced5be4",
   "metadata": {},
   "source": [
    "#### Гипотеза о средней выручке по всем тарифам для пользователей из Москвы и для пользователей из других регионов\n",
    "[В начало](#intro)\n",
    "\n",
    "Сформулируем соответствующие гипотезы.\n",
    "\n",
    "**Формулируем нулевую гипотезу H₀:**</br>\n",
    "**Разницы в средней прибыли от абонентов из Москвы и из других регионов нет, исследуемые параметры равны.**</br>\n",
    "То есть **H₀: profit_msk = profit_not_msk**.</br>\n",
    "Фактически мы проверяем гипотезу о равенстве средних двух генеральных совокупностей по взятым из них выборкам.\n",
    "\n",
    "**Формулируем альтернативную гипотезу H₁:**</br>\n",
    "**Средняя прибыль от абонентов из Москвы не равна прибыли от абонентов из других регионов.**</br> \n",
    "То есть **H₁: profit_msk != profit_not_msk**.</br>\n",
    "*(двухсторонняя гипотеза)*\n",
    "\n",
    "\n",
    "**Устанавливаем уровень значимости alfa = 0.05** (пороговый уровень статистической значимости alfa или ошибка первого рода, то есть вероятность ошибочно отклонить нулевую гипотезу составляет 5 из 100).\n"
   ]
  },
  {
   "cell_type": "code",
   "execution_count": 16,
   "id": "0145ce92",
   "metadata": {},
   "outputs": [
    {
     "name": "stdout",
     "output_type": "stream",
     "text": [
      "Средняя прибыль от абонента из Москвы: 1547 руб.\n",
      "Средняя прибыль от абонента из других регионов: 1525 руб.\n",
      "\n",
      "p-значение: 0.5216952110000279\n",
      "уровень статистической значимости: 0.05\n",
      "Не получилось отвергнуть нулевую гипотезу\n"
     ]
    }
   ],
   "source": [
    "# Проверяем нулевую гипотезу H₀:\n",
    "# H₀: profit_msk = profit_not_msk\n",
    "\n",
    "# готовим выборки по доходу от абонентов из столицы и из регионов:\n",
    "profit_da_msk = df_good.query('city == \"Москва\"')['profit']\n",
    "profit_da_not_msk = df_good.query('city != \"Москва\"')['profit']\n",
    "print('Средняя прибыль от абонента из Москвы:', round(profit_da_msk.mean()),'руб.')\n",
    "print('Средняя прибыль от абонента из других регионов:', round(profit_da_not_msk.mean()),'руб.')\n",
    "print()\n",
    "# аналогичный расчет по средним данным о доходах сгруппированных по абонентам таблицах:\n",
    "# profit_smart = abon_count.query('tariff_name == \"smart\"')['profit_user_mean']\n",
    "# profit_ultra = abon_count.query('tariff_name == \"ultra\"')['profit_user_mean']\n",
    "# display(profit_smart)\n",
    "# display(profit_ultra)\n",
    "\n",
    "# устанавливаем уровень статистической значимости\n",
    "# (если p-value окажется меньше него - отвергнем гипотезу):\n",
    "alpha = .05\n",
    "\n",
    "# проверяем гипотезу о равенстве среднего двух генеральных совокупностей по взятым из них выборкам\n",
    "# с помощью статистического теста с использованием t-распределения: t-теста Стьдента\n",
    "# (поскольку выборки разного размера и/или можно предположить, что дисперсии у генеральных совокупностей разные, то\n",
    "# при вызове метода scipy.stats.ttest_ind() указываем equal_var = False):\n",
    "results = st.ttest_ind(profit_da_msk, \n",
    "                       profit_da_not_msk, \n",
    "                       equal_var = False)\n",
    "\n",
    "# находим p-значение, то есть вероятность получить наблюдаемый или еще более далекий от предполагаемого результат при условии, \n",
    "# что нулевая гипотеза верна:\n",
    "print('p-значение:', results.pvalue)\n",
    "print('уровень статистической значимости:', alpha)\n",
    "\n",
    "if results.pvalue < alpha:\n",
    "    print(\"Отвергаем нулевую гипотезу\")\n",
    "else:\n",
    "    print(\"Не получилось отвергнуть нулевую гипотезу\")\n"
   ]
  },
  {
   "cell_type": "markdown",
   "id": "8c1b7448",
   "metadata": {},
   "source": [
    "Суммарный доход от всех абонентов:  4 916 951 руб. в том числе:\n",
    "- от абонентов из Москвы: 945 042 руб. (19%),\n",
    "- от абонентов из других регионов: 3 971 909 руб. (81%).\n",
    "\n",
    "После проверки: **нулевая гипотеза H₀ о том, что разницы в средней прибыли от абонентов в Москве и других регионах нет, и исследуемые параметры равны (H₀: profit_msk = profit_not_msk) - не была отвергнута**.\n",
    "Другими словами по имеющейся выборке с вероятностью 5% возможно считать, что в среднем абоненты из столицы и из регионов приносят одинаковую прибыль."
   ]
  },
  {
   "cell_type": "markdown",
   "id": "79fc0a5a",
   "metadata": {},
   "source": [
    "## Общий вывод\n",
    "[В начало](#intro)"
   ]
  },
  {
   "cell_type": "markdown",
   "id": "b457bad3",
   "metadata": {},
   "source": [
    "**ЧТО СДЕЛАНО НА ЭТАПЕ ПРЕДОБРАБОТКИ ДАННЫХ**</br>\n",
    "\n",
    "Исходные датафреймы представляют собой таблицы:</br>\n",
    "- информация о звонках (calls): из 4 столбцов и 202607 строк;</br>\n",
    "- информация об интернет-сессиях (internet): из 5 столбцов и 149396 строк;</br>\n",
    "- информация о сообщениях (messages): из 3 столбцов и 123036 строк;</br>\n",
    "- информация о тарифах (tariffs): из 8 столбцов и 2 строк;</br>\n",
    "- информация об абонентах (users): из 8 столбцов и 500 строк (считая нулевую).</br> \n",
    "В столбцах используются значения различных типов (строки, вещественные и целые числа).</br>\n",
    "Для ряда значений автоматически определенный тип неверен (например, даты должны быть в формате дата/время, а не строками).\n",
    "В таблице с информацией об абонентах имеется столбец \"churn_date\" (дата прекращения пользования тарифом) с пропусками данных.</br>\n",
    "Явных дубликатов в данных не обнаружено.</br>\n",
    "Для удобства часть столбцов были переименованы. Из описания данных для таблицы users (информация о пользователях) следует, что если значение столбца churn_date (дата прекращения пользования тарифом) пропущено, то тариф ещё действовал на момент выгрузки данных. Поскольку предоставлены данные за 2018 год, то заменяем все пропущенные значения на 31.12.2018. Доля пропущенных значений о смене тарифа среди всех данных таблицы users 92.4%. Количество абонентов, сменивших тарифный план в 2018 году: 38.\n",
    "Оценивая автоматически определенные типы данных в столбцах таблиц, заключаем, что типы во всех случаях, за исключением дат, определены верно. Заменили типы данных в столбцах с датами с object на datetime64.</br>\n",
    "Посчитали для каждого пользователя:\n",
    "• количество сделанных звонков и израсходованных минут разговора по месяцам;\n",
    "• объем израсходованного интернет-траффика по месяцам;\n",
    "• количество отправленных сообщений по месяцам;\n",
    "• помесячную выручку с каждого пользователя.\n",
    "\n",
    "Для двух абонентов месяц не указан, поскольку в этом же месяце (декабре) была совершена смена тарифа. Несмотря на отсутствие звонков, пользования интернетом или отправки сообщений, считаем, что для этих абонентов взималась плата базового тарифа за один месяц.</br>\n",
    "Всего после обработки сводная таблица содержит: 3216 строк и 9 столбцов.\n",
    "</br>\n",
    "</br>\n",
    "</br>\n",
    "\n",
    "\n",
    "**ИТОГИ ИССЛЕДОВАНИЯ - ОТВЕТЫ НА ПОСТАВЛЕННЫЕ ВОПРОСЫ**\n",
    "\n",
    "**Анализ поведения абонентов**</br>\n",
    "\n",
    "Из полученных таблиц и диаграмм заключаем, что **с каждым месяцем продолжительность звонков, количество интернет-траффика и число отправленных сообщений для обоих рассматриваемых тарифов растет.**</br>\n",
    "В начале года продолжительность звонков, объем интернет-траффика и количество отправленных сообщений по тарифу \"smart\" были более чем в 2 раза больше, чем по тарифу \"ultra\". В весенние и летние месяцы превышение объемов тарифа \"smart\" над тарифом \"ultra\" несколько выровнялось (в июне соотношения параметров были в коридоре 1,50...1,75). Осенью и зимой это соотношение по звонкам и интернету стабилизировались возле 2, в то время как сообщения абоненты тарифа \"smart\" стали отправлять реже, чем в предыдущие месяцы (соотношение \"smart\" / \"ultra\" чуть ниже 1,5).</br>  \n",
    "**Прибыль от абонентов тарифа \"smart\" практически на протяжении всего года была больше, чем от абонентов тарифа \"ultra\"**, за исключением февраля (практически одинаковые значения) и апреля, когда абоненты тарифа \"ultra\" принесли больше дохода компании.</br>  \n",
    "**С мая и по декабрь заметна тенденция устойчивого опережения роста прибыли от абонентов тарифа \"smart\" над прибылью от абонентов тарифа \"ultra\".** Тем не менее, **делать на данном этапе вывод, что тариф \"smart\" прибыльнее для компании нельзя, поскольку общее количество уникальных абонентов в доступной для анализа выборке (500 человек) распределено по тарифам неравномерно**.</br>\n",
    "Также заключаем, что **средние значения каждого из параметров - продолжительность звонков, количество интернет-траффика, число отправленных сообщений и величина дохода от абонентов, - для тарифа \"ultra\" выше, чем для тарифа \"smart\".**</br>\n",
    "\n",
    " Из полученных таблиц и диаграмм видим, что **усредненные средние значения каждого из параметров - продолжительность звонков, количество интернет-траффика, число отправленных сообщений и величина дохода от абонентов, - для тарифа \"ultra\" выше, чем для тарифа \"smart\".**</br>\n",
    "\n",
    " **Особенности поведения абонентов:**\n",
    "- усредненные средние значения **продолжительности звонков в месяц для каждого из тарифов значительно меньше базового пакета**: \"smart\" 387,6 +/- 72,8 при базе 500 минут; \"ultra\" 511,2 +/- 84,8 при базе 3000 минут. Другими словами, абоненты тарифа \"smart\" обычно не используют порядка 100 предоплаченных минут (20% от базы), а абоненты тарифа \"ultra\" не используют порядка 2500 предоплаченных минут (84% от базы).</br>\n",
    "- усредненные средние значения **использования интернет-трафика** можно интерпретировать, как то, что абоненты тарифа \"smart\" часто превышают предоплаченный объем, в то время как абоненты тарифа \"ultra\" обычно укладываются в предоплаченный лимит (\"smart\" 15,2 +/- 2,6 при базе 15 Гб; \"ultra\" 18,5 +/- 2,8 при базе 30 Гб).</br>\n",
    "- усредненные средние значения **количества отправленных SMS-сообщений для обоих тарифных групп меньше предоплаченных величин, однако абоненты тарифа \"smart\" более рачительно используют данную услугу, а абоненты тарифа \"ultra\" почти ею не пользуются** (\"smart\" 36,3 +/- 6,2 сообщений или 73% от базы в 50 сообщений; \"ultra\" 55,2 +/- 12,0 сообщений или 6% от базы в 1000 сообщений).</br>\n",
    "\n",
    "Что касается величин **усредненного среднего дохода от абонентов в связке с размером абонентской платы**, то здесь возможно отметить, что **усредненный средний доход по тарифу \"smart\" в 2 раза превышает базовую ставку абонентской платы, в то время как для тарифа \"ultra\" усредненный средний доход чуть больше базовой ставки** (\"smart\" 1151,95 +/- 228,54 при базе 550 рублей; \"ultra\" 2046,82 +/- 56,69 при базе 1950 рублей). </br>\n",
    "Вероятно, такое соотношение по доходам обусловлено частым использованием услуг по повышенным ставкам абонентами \"smart\" - людям не хватает предоплаченного объема интернет-трафика. Также необходимо учесть, что в исследуемой выборке имеется существенное различие в количестве абонентов по разным тарифам, о котором говорилось ранее.\n",
    "\n",
    "**Аналогичные выводы можно сделать и по результатам анализа исходных данных (неусредненных по месяцам):**\n",
    "- **в части звонков** большая часть абонентов тарифа \"smart\" укладывается в предоплаченные минуты, а абоненты тарифа \"ultra\" практически полностью покрывают потребность в общении за счет предоплаченного лимита (для \"smart\" средние величины продолжительности разговоров: 419,1 +/- 189,3 при базе 500 минут; для \"ultra\" 545,5 +/- 306,9 при базе 3000 минут);</br>\n",
    "- **в части использования интернет-трафика** около половины абонентов тарифа \"smart\" используют дополнительный трафик, который оплачивается по более высокой цене, при этом абоненты \"ultra\" укладываются в предоплаченные гигабайты (для \"smart\" средние величины размеры трафика: 16,3 +/- 5,7 при базе 15 Гб; \"ultra\" 19,7 +/- 9,7 при базе 30 Гб). Для абонентов тарифа \"smart\" отмечаем два пика использования услуги: ~15 и ~20 Гб (возможно, имеет смысл разработать дополнительный тариф 20 Гб);</br>\n",
    "- **в части отправки сообщений** до трети абонентов тарифа \"smart\" перебирают предоплаченный лимит, который оплачивается по более высокой цене, при этом абоненты \"ultra\" полностью укладываются в предоплаченное количество сообщений (для \"smart\" средние величины сообщений: 38,7 +/- 26,8 при базе в 50 сообщений; \"ultra\" 61,2 +/- 45,9 сообщений при базе в 1000 сообщений);</br>\n",
    "- **в части величины среднего дохода** для абонентов тарифа \"smart\" отмечаем сильно смещенное вправо распределение - то есть много абонентов переплачивают сверх предустановленной ставки базового тарифа, при этом абоненты \"ultra\" практически полностью укладываются в предоплаченный пакет услуг (для \"smart\" средние величины дохода: 1289,64 +/- 818,37 при базе в 500 рублей; \"ultra\" 2070,03 +/- 376,02 при базе в 1950 рублей).\n",
    "\n",
    "**Из полученных данных также видно, что дополнительно усредненные по месяцам данные (усредненные средние значения параметров) менее точно описывают реальную картину, чем средние значения параметров.**\n",
    "\n",
    "\n",
    "Согласно исходных данных о тарифах, стоимость предоплаченных пакетов услуг или **базовая цена для тарифа \"smart\" меньше, чем для тарифа \"ultra\" в 3,55 раза (550 рублей против 1950 рублей).** При этом **имеются отличия между тарифами в стоимости услуг, свыше базового пакета**.\n",
    "\n",
    "Суммарный доход от всех абонентов:  **4 916 951 руб.** в том числе:\n",
    "- от абонентов с тарифом \"smart\": 2 875 901 руб. (58%),\n",
    "- от абонентов с тарифом \"ultra\": 2 041 050 руб. (42%),\n",
    "- от абонентов из Москвы: 945 042 руб. (19%),\n",
    "- от абонентов из других регионов: 3 971 909 руб. (81%).\n",
    "\n",
    "Общее количество уникальных абонентов в доступной для анализа выборке: **500 человек**, в том числе:\n",
    "- с тарифом \"smart\": 351 или ~70%,\n",
    "- с тарифом \"ultra\": 149 или ~30%,\n",
    "- абонентов из Москвы: 99 (20%),\n",
    "- абонентов из других регионов: 401 (80%).\n",
    "\n",
    "\n",
    "**Проверка гипотез:**</br>\n",
    "\n",
    "По вопросу № 1 о более выгодном тарифе из рассматриваемых.</br>\n",
    "\n",
    "**Нулевая гипотеза о том, что средняя прибыль от абонентов сравниваемых тарифов одинаковая - отвергнута**.</br>\n",
    "Альтернативная гипотеза: для компании «Мегалайн» абоненты тарифа \"smart\" в среднем приносят меньший доход.\n",
    "\n",
    "По вопросу № 2 о разнице в прибыльности столицы и регионов.</br>\n",
    "\n",
    "После проверки **нулевая гипотеза о том, что разницы в средней прибыли от абонентов в Москве и других регионах нет**, и исследуемые параметры равны **не была отвергнута**.</br>\n",
    "Альтернативная гипотеза: средняя прибыль от абонентов в Москве не равна средней прибыли от абонентов в других регионах.\n",
    "</br>\n",
    "</br>\n",
    "\n",
    "**ВЫВОД ПО ИССЛЕДОВАНИЮ**\n",
    "\n",
    "**Считая имеющуюся выборку репрезентативной, с учетом полученных результатов исследования возможно признать, что в среднем тариф \"smart\" приносит меньше прибыли, чем тариф \"ultra\".**</br>\n",
    "\n",
    "**На основе имеющейся выборки разница в средней прибыльности от абонентов из столицы и из регионов не обнаружена.**\n"
   ]
  }
 ],
 "metadata": {
  "ExecuteTimeLog": [
   {
    "duration": 1451,
    "start_time": "2022-06-12T10:23:27.563Z"
   },
   {
    "duration": 130,
    "start_time": "2022-06-12T10:23:29.017Z"
   },
   {
    "duration": 0,
    "start_time": "2022-06-12T10:23:29.149Z"
   },
   {
    "duration": 0,
    "start_time": "2022-06-12T10:23:29.151Z"
   },
   {
    "duration": 0,
    "start_time": "2022-06-12T10:23:29.152Z"
   },
   {
    "duration": 0,
    "start_time": "2022-06-12T10:23:29.160Z"
   },
   {
    "duration": 0,
    "start_time": "2022-06-12T10:23:29.162Z"
   },
   {
    "duration": 0,
    "start_time": "2022-06-12T10:23:29.164Z"
   },
   {
    "duration": 0,
    "start_time": "2022-06-12T10:23:29.165Z"
   },
   {
    "duration": 0,
    "start_time": "2022-06-12T10:23:29.167Z"
   },
   {
    "duration": 0,
    "start_time": "2022-06-12T10:23:29.169Z"
   },
   {
    "duration": 0,
    "start_time": "2022-06-12T10:23:29.170Z"
   },
   {
    "duration": 0,
    "start_time": "2022-06-12T10:23:29.172Z"
   },
   {
    "duration": 0,
    "start_time": "2022-06-12T10:23:29.174Z"
   },
   {
    "duration": 0,
    "start_time": "2022-06-12T10:23:29.175Z"
   },
   {
    "duration": 0,
    "start_time": "2022-06-12T10:23:29.177Z"
   },
   {
    "duration": 0,
    "start_time": "2022-06-12T10:23:29.179Z"
   },
   {
    "duration": 0,
    "start_time": "2022-06-12T10:23:29.180Z"
   },
   {
    "duration": 1210,
    "start_time": "2022-06-12T10:33:56.944Z"
   },
   {
    "duration": 1577,
    "start_time": "2022-06-12T10:33:58.157Z"
   },
   {
    "duration": 23,
    "start_time": "2022-06-12T10:33:59.736Z"
   },
   {
    "duration": 11,
    "start_time": "2022-06-12T10:33:59.761Z"
   },
   {
    "duration": 98,
    "start_time": "2022-06-12T10:33:59.774Z"
   },
   {
    "duration": 337,
    "start_time": "2022-06-12T10:33:59.874Z"
   },
   {
    "duration": 102,
    "start_time": "2022-06-12T10:34:00.214Z"
   },
   {
    "duration": 42,
    "start_time": "2022-06-12T10:34:00.318Z"
   },
   {
    "duration": 139,
    "start_time": "2022-06-12T10:34:00.361Z"
   },
   {
    "duration": 0,
    "start_time": "2022-06-12T10:34:00.502Z"
   },
   {
    "duration": 0,
    "start_time": "2022-06-12T10:34:00.503Z"
   },
   {
    "duration": 0,
    "start_time": "2022-06-12T10:34:00.504Z"
   },
   {
    "duration": 0,
    "start_time": "2022-06-12T10:34:00.505Z"
   },
   {
    "duration": 0,
    "start_time": "2022-06-12T10:34:00.506Z"
   },
   {
    "duration": 0,
    "start_time": "2022-06-12T10:34:00.507Z"
   },
   {
    "duration": 0,
    "start_time": "2022-06-12T10:34:00.508Z"
   },
   {
    "duration": 0,
    "start_time": "2022-06-12T10:34:00.509Z"
   },
   {
    "duration": 0,
    "start_time": "2022-06-12T10:34:00.509Z"
   },
   {
    "duration": 40,
    "start_time": "2022-06-12T10:44:38.492Z"
   },
   {
    "duration": 14,
    "start_time": "2022-06-12T10:44:51.123Z"
   },
   {
    "duration": 9,
    "start_time": "2022-06-12T10:45:07.492Z"
   },
   {
    "duration": 19,
    "start_time": "2022-06-12T10:45:10.698Z"
   },
   {
    "duration": 6,
    "start_time": "2022-06-12T10:45:16.803Z"
   },
   {
    "duration": 7,
    "start_time": "2022-06-12T10:45:23.002Z"
   },
   {
    "duration": 17,
    "start_time": "2022-06-12T10:45:25.356Z"
   },
   {
    "duration": 9,
    "start_time": "2022-06-12T10:45:26.702Z"
   },
   {
    "duration": 6,
    "start_time": "2022-06-12T10:45:40.306Z"
   },
   {
    "duration": 4,
    "start_time": "2022-06-12T10:45:43.499Z"
   },
   {
    "duration": 7,
    "start_time": "2022-06-12T10:45:45.314Z"
   },
   {
    "duration": 16,
    "start_time": "2022-06-12T10:48:49.240Z"
   },
   {
    "duration": 30,
    "start_time": "2022-06-12T10:49:04.990Z"
   },
   {
    "duration": 51,
    "start_time": "2022-06-12T10:49:43.533Z"
   },
   {
    "duration": 196,
    "start_time": "2022-06-12T10:52:43.081Z"
   },
   {
    "duration": 1416,
    "start_time": "2022-06-12T10:52:43.280Z"
   },
   {
    "duration": 28,
    "start_time": "2022-06-12T10:52:44.697Z"
   },
   {
    "duration": 776,
    "start_time": "2022-06-12T10:52:44.727Z"
   },
   {
    "duration": 15,
    "start_time": "2022-06-12T10:52:45.506Z"
   },
   {
    "duration": 0,
    "start_time": "2022-06-12T10:52:45.523Z"
   },
   {
    "duration": 0,
    "start_time": "2022-06-12T10:52:45.525Z"
   },
   {
    "duration": 0,
    "start_time": "2022-06-12T10:52:45.527Z"
   },
   {
    "duration": 0,
    "start_time": "2022-06-12T10:52:45.529Z"
   },
   {
    "duration": 1404,
    "start_time": "2022-06-12T10:57:42.052Z"
   },
   {
    "duration": 944,
    "start_time": "2022-06-12T10:57:43.461Z"
   },
   {
    "duration": 8,
    "start_time": "2022-06-12T10:57:44.408Z"
   },
   {
    "duration": 16,
    "start_time": "2022-06-12T10:57:44.419Z"
   },
   {
    "duration": 138,
    "start_time": "2022-06-12T10:57:44.437Z"
   },
   {
    "duration": 362,
    "start_time": "2022-06-12T10:57:44.578Z"
   },
   {
    "duration": 108,
    "start_time": "2022-06-12T10:57:44.942Z"
   },
   {
    "duration": 26,
    "start_time": "2022-06-12T10:57:45.058Z"
   },
   {
    "duration": 198,
    "start_time": "2022-06-12T10:57:45.087Z"
   },
   {
    "duration": 0,
    "start_time": "2022-06-12T10:57:45.288Z"
   },
   {
    "duration": 0,
    "start_time": "2022-06-12T10:57:45.290Z"
   },
   {
    "duration": 0,
    "start_time": "2022-06-12T10:57:45.292Z"
   },
   {
    "duration": 0,
    "start_time": "2022-06-12T10:57:45.293Z"
   },
   {
    "duration": 0,
    "start_time": "2022-06-12T10:57:45.295Z"
   },
   {
    "duration": 0,
    "start_time": "2022-06-12T10:57:45.298Z"
   },
   {
    "duration": 0,
    "start_time": "2022-06-12T10:57:45.299Z"
   },
   {
    "duration": 0,
    "start_time": "2022-06-12T10:57:45.300Z"
   },
   {
    "duration": 0,
    "start_time": "2022-06-12T10:57:45.302Z"
   },
   {
    "duration": 1091,
    "start_time": "2022-06-13T09:46:27.336Z"
   },
   {
    "duration": 6,
    "start_time": "2022-06-13T09:46:28.429Z"
   },
   {
    "duration": 0,
    "start_time": "2022-06-13T09:46:28.437Z"
   },
   {
    "duration": 0,
    "start_time": "2022-06-13T09:46:28.438Z"
   },
   {
    "duration": 0,
    "start_time": "2022-06-13T09:46:28.439Z"
   },
   {
    "duration": 0,
    "start_time": "2022-06-13T09:46:28.440Z"
   },
   {
    "duration": 0,
    "start_time": "2022-06-13T09:46:28.441Z"
   },
   {
    "duration": 0,
    "start_time": "2022-06-13T09:46:28.442Z"
   },
   {
    "duration": 0,
    "start_time": "2022-06-13T09:46:28.443Z"
   },
   {
    "duration": 0,
    "start_time": "2022-06-13T09:46:28.444Z"
   },
   {
    "duration": 0,
    "start_time": "2022-06-13T09:46:28.445Z"
   },
   {
    "duration": 0,
    "start_time": "2022-06-13T09:46:28.446Z"
   },
   {
    "duration": 0,
    "start_time": "2022-06-13T09:46:28.447Z"
   },
   {
    "duration": 0,
    "start_time": "2022-06-13T09:46:28.448Z"
   },
   {
    "duration": 0,
    "start_time": "2022-06-13T09:46:28.449Z"
   },
   {
    "duration": 0,
    "start_time": "2022-06-13T09:46:28.450Z"
   },
   {
    "duration": 0,
    "start_time": "2022-06-13T09:46:28.451Z"
   },
   {
    "duration": 0,
    "start_time": "2022-06-13T09:46:28.452Z"
   },
   {
    "duration": 3,
    "start_time": "2022-06-13T09:48:16.824Z"
   },
   {
    "duration": 30,
    "start_time": "2022-06-13T09:48:16.831Z"
   },
   {
    "duration": 0,
    "start_time": "2022-06-13T09:48:16.862Z"
   },
   {
    "duration": 0,
    "start_time": "2022-06-13T09:48:16.863Z"
   },
   {
    "duration": 0,
    "start_time": "2022-06-13T09:48:16.864Z"
   },
   {
    "duration": 0,
    "start_time": "2022-06-13T09:48:16.865Z"
   },
   {
    "duration": 100,
    "start_time": "2022-06-13T09:48:16.871Z"
   },
   {
    "duration": 0,
    "start_time": "2022-06-13T09:48:16.973Z"
   },
   {
    "duration": 0,
    "start_time": "2022-06-13T09:48:16.974Z"
   },
   {
    "duration": 0,
    "start_time": "2022-06-13T09:48:16.976Z"
   },
   {
    "duration": 0,
    "start_time": "2022-06-13T09:48:16.977Z"
   },
   {
    "duration": 0,
    "start_time": "2022-06-13T09:48:16.978Z"
   },
   {
    "duration": 0,
    "start_time": "2022-06-13T09:48:16.991Z"
   },
   {
    "duration": 0,
    "start_time": "2022-06-13T09:48:16.992Z"
   },
   {
    "duration": 0,
    "start_time": "2022-06-13T09:48:16.994Z"
   },
   {
    "duration": 0,
    "start_time": "2022-06-13T09:48:16.995Z"
   },
   {
    "duration": 0,
    "start_time": "2022-06-13T09:48:16.996Z"
   },
   {
    "duration": 13,
    "start_time": "2022-06-13T09:48:16.999Z"
   },
   {
    "duration": 1384,
    "start_time": "2022-06-13T09:50:42.686Z"
   },
   {
    "duration": 26,
    "start_time": "2022-06-13T09:59:07.798Z"
   },
   {
    "duration": 61,
    "start_time": "2022-06-13T09:59:21.856Z"
   },
   {
    "duration": 967,
    "start_time": "2022-06-13T09:59:56.402Z"
   },
   {
    "duration": 666,
    "start_time": "2022-06-13T09:59:57.371Z"
   },
   {
    "duration": 4,
    "start_time": "2022-06-13T09:59:58.039Z"
   },
   {
    "duration": 12,
    "start_time": "2022-06-13T09:59:58.045Z"
   },
   {
    "duration": 76,
    "start_time": "2022-06-13T09:59:58.058Z"
   },
   {
    "duration": 279,
    "start_time": "2022-06-13T09:59:58.136Z"
   },
   {
    "duration": 76,
    "start_time": "2022-06-13T09:59:58.416Z"
   },
   {
    "duration": 17,
    "start_time": "2022-06-13T09:59:58.494Z"
   },
   {
    "duration": 116,
    "start_time": "2022-06-13T09:59:58.512Z"
   },
   {
    "duration": 0,
    "start_time": "2022-06-13T09:59:58.630Z"
   },
   {
    "duration": 0,
    "start_time": "2022-06-13T09:59:58.631Z"
   },
   {
    "duration": 0,
    "start_time": "2022-06-13T09:59:58.632Z"
   },
   {
    "duration": 0,
    "start_time": "2022-06-13T09:59:58.633Z"
   },
   {
    "duration": 0,
    "start_time": "2022-06-13T09:59:58.634Z"
   },
   {
    "duration": 0,
    "start_time": "2022-06-13T09:59:58.635Z"
   },
   {
    "duration": 0,
    "start_time": "2022-06-13T09:59:58.636Z"
   },
   {
    "duration": 0,
    "start_time": "2022-06-13T09:59:58.637Z"
   },
   {
    "duration": 0,
    "start_time": "2022-06-13T09:59:58.638Z"
   },
   {
    "duration": 261,
    "start_time": "2022-06-13T10:12:50.969Z"
   },
   {
    "duration": 248,
    "start_time": "2022-06-13T10:15:19.460Z"
   },
   {
    "duration": 124,
    "start_time": "2022-06-13T10:26:08.253Z"
   },
   {
    "duration": 119,
    "start_time": "2022-06-13T10:29:41.397Z"
   },
   {
    "duration": 525,
    "start_time": "2022-06-13T10:30:14.908Z"
   },
   {
    "duration": 118,
    "start_time": "2022-06-13T10:31:15.693Z"
   },
   {
    "duration": 127,
    "start_time": "2022-06-13T10:31:45.128Z"
   },
   {
    "duration": 124,
    "start_time": "2022-06-13T10:33:02.817Z"
   },
   {
    "duration": 255,
    "start_time": "2022-06-13T10:33:49.418Z"
   },
   {
    "duration": 125,
    "start_time": "2022-06-13T10:34:29.601Z"
   },
   {
    "duration": 255,
    "start_time": "2022-06-13T10:35:02.794Z"
   },
   {
    "duration": 277,
    "start_time": "2022-06-13T10:35:34.261Z"
   },
   {
    "duration": 247,
    "start_time": "2022-06-13T10:36:10.648Z"
   },
   {
    "duration": 235,
    "start_time": "2022-06-13T10:36:44.684Z"
   },
   {
    "duration": 3,
    "start_time": "2022-06-13T10:41:14.142Z"
   },
   {
    "duration": 647,
    "start_time": "2022-06-13T10:41:14.151Z"
   },
   {
    "duration": 4,
    "start_time": "2022-06-13T10:41:14.799Z"
   },
   {
    "duration": 21,
    "start_time": "2022-06-13T10:41:14.805Z"
   },
   {
    "duration": 86,
    "start_time": "2022-06-13T10:41:14.827Z"
   },
   {
    "duration": 291,
    "start_time": "2022-06-13T10:41:14.915Z"
   },
   {
    "duration": 58,
    "start_time": "2022-06-13T10:41:15.208Z"
   },
   {
    "duration": 34,
    "start_time": "2022-06-13T10:41:15.268Z"
   },
   {
    "duration": 50,
    "start_time": "2022-06-13T10:41:15.303Z"
   },
   {
    "duration": 0,
    "start_time": "2022-06-13T10:41:15.354Z"
   },
   {
    "duration": 0,
    "start_time": "2022-06-13T10:41:15.355Z"
   },
   {
    "duration": 0,
    "start_time": "2022-06-13T10:41:15.356Z"
   },
   {
    "duration": 0,
    "start_time": "2022-06-13T10:41:15.357Z"
   },
   {
    "duration": 0,
    "start_time": "2022-06-13T10:41:15.358Z"
   },
   {
    "duration": 0,
    "start_time": "2022-06-13T10:41:15.359Z"
   },
   {
    "duration": 0,
    "start_time": "2022-06-13T10:41:15.360Z"
   },
   {
    "duration": 0,
    "start_time": "2022-06-13T10:41:15.360Z"
   },
   {
    "duration": 0,
    "start_time": "2022-06-13T10:41:15.361Z"
   },
   {
    "duration": 62,
    "start_time": "2022-06-13T10:44:26.347Z"
   },
   {
    "duration": 29,
    "start_time": "2022-06-13T10:46:56.047Z"
   },
   {
    "duration": 898,
    "start_time": "2022-06-13T10:47:07.447Z"
   },
   {
    "duration": 681,
    "start_time": "2022-06-13T10:47:08.346Z"
   },
   {
    "duration": 5,
    "start_time": "2022-06-13T10:47:09.028Z"
   },
   {
    "duration": 9,
    "start_time": "2022-06-13T10:47:09.035Z"
   },
   {
    "duration": 84,
    "start_time": "2022-06-13T10:47:09.045Z"
   },
   {
    "duration": 262,
    "start_time": "2022-06-13T10:47:09.130Z"
   },
   {
    "duration": 63,
    "start_time": "2022-06-13T10:47:09.393Z"
   },
   {
    "duration": 35,
    "start_time": "2022-06-13T10:47:09.458Z"
   },
   {
    "duration": 107,
    "start_time": "2022-06-13T10:47:09.494Z"
   },
   {
    "duration": 0,
    "start_time": "2022-06-13T10:47:09.603Z"
   },
   {
    "duration": 0,
    "start_time": "2022-06-13T10:47:09.604Z"
   },
   {
    "duration": 0,
    "start_time": "2022-06-13T10:47:09.605Z"
   },
   {
    "duration": 0,
    "start_time": "2022-06-13T10:47:09.606Z"
   },
   {
    "duration": 0,
    "start_time": "2022-06-13T10:47:09.607Z"
   },
   {
    "duration": 0,
    "start_time": "2022-06-13T10:47:09.608Z"
   },
   {
    "duration": 0,
    "start_time": "2022-06-13T10:47:09.609Z"
   },
   {
    "duration": 0,
    "start_time": "2022-06-13T10:47:09.609Z"
   },
   {
    "duration": 0,
    "start_time": "2022-06-13T10:47:09.610Z"
   },
   {
    "duration": 32,
    "start_time": "2022-06-13T11:02:42.768Z"
   },
   {
    "duration": 22,
    "start_time": "2022-06-13T11:14:59.013Z"
   },
   {
    "duration": 22,
    "start_time": "2022-06-13T11:15:14.053Z"
   },
   {
    "duration": 23,
    "start_time": "2022-06-13T11:15:57.956Z"
   },
   {
    "duration": 35,
    "start_time": "2022-06-13T11:16:19.615Z"
   },
   {
    "duration": 29,
    "start_time": "2022-06-13T11:16:56.188Z"
   },
   {
    "duration": 21,
    "start_time": "2022-06-13T11:18:53.133Z"
   },
   {
    "duration": 31,
    "start_time": "2022-06-13T11:21:50.873Z"
   },
   {
    "duration": 22,
    "start_time": "2022-06-13T11:22:19.929Z"
   },
   {
    "duration": 30,
    "start_time": "2022-06-13T11:22:49.513Z"
   },
   {
    "duration": 28,
    "start_time": "2022-06-13T11:26:16.253Z"
   },
   {
    "duration": 30,
    "start_time": "2022-06-13T11:29:46.418Z"
   },
   {
    "duration": 29,
    "start_time": "2022-06-13T11:30:04.701Z"
   },
   {
    "duration": 31,
    "start_time": "2022-06-13T11:30:20.623Z"
   },
   {
    "duration": 18,
    "start_time": "2022-06-13T11:31:41.129Z"
   },
   {
    "duration": 65,
    "start_time": "2022-06-13T11:32:48.244Z"
   },
   {
    "duration": 252,
    "start_time": "2022-06-13T11:34:45.288Z"
   },
   {
    "duration": 268,
    "start_time": "2022-06-13T11:35:30.933Z"
   },
   {
    "duration": 241,
    "start_time": "2022-06-13T11:38:28.758Z"
   },
   {
    "duration": 1060,
    "start_time": "2022-06-13T11:39:16.577Z"
   },
   {
    "duration": 678,
    "start_time": "2022-06-13T11:39:17.638Z"
   },
   {
    "duration": 5,
    "start_time": "2022-06-13T11:39:18.317Z"
   },
   {
    "duration": 11,
    "start_time": "2022-06-13T11:39:18.324Z"
   },
   {
    "duration": 79,
    "start_time": "2022-06-13T11:39:18.336Z"
   },
   {
    "duration": 277,
    "start_time": "2022-06-13T11:39:18.417Z"
   },
   {
    "duration": 64,
    "start_time": "2022-06-13T11:39:18.697Z"
   },
   {
    "duration": 37,
    "start_time": "2022-06-13T11:39:18.763Z"
   },
   {
    "duration": 32,
    "start_time": "2022-06-13T11:39:18.801Z"
   },
   {
    "duration": 124,
    "start_time": "2022-06-13T11:39:18.835Z"
   },
   {
    "duration": 712,
    "start_time": "2022-06-13T11:39:18.960Z"
   },
   {
    "duration": 29,
    "start_time": "2022-06-13T11:39:19.673Z"
   },
   {
    "duration": 509,
    "start_time": "2022-06-13T11:39:19.704Z"
   },
   {
    "duration": 13,
    "start_time": "2022-06-13T11:39:20.215Z"
   },
   {
    "duration": 16,
    "start_time": "2022-06-13T11:39:20.231Z"
   },
   {
    "duration": 9,
    "start_time": "2022-06-13T11:39:20.249Z"
   },
   {
    "duration": 11,
    "start_time": "2022-06-13T11:39:20.259Z"
   },
   {
    "duration": 22,
    "start_time": "2022-06-13T11:39:20.271Z"
   },
   {
    "duration": 29,
    "start_time": "2022-06-13T11:49:42.631Z"
   },
   {
    "duration": 11,
    "start_time": "2022-06-13T12:11:00.080Z"
   },
   {
    "duration": 9,
    "start_time": "2022-06-13T12:14:11.946Z"
   },
   {
    "duration": 3,
    "start_time": "2022-06-13T12:21:37.263Z"
   },
   {
    "duration": 702,
    "start_time": "2022-06-13T12:21:37.272Z"
   },
   {
    "duration": 8,
    "start_time": "2022-06-13T12:21:37.994Z"
   },
   {
    "duration": 16,
    "start_time": "2022-06-13T12:21:38.009Z"
   },
   {
    "duration": 70,
    "start_time": "2022-06-13T12:21:38.027Z"
   },
   {
    "duration": 284,
    "start_time": "2022-06-13T12:21:38.099Z"
   },
   {
    "duration": 70,
    "start_time": "2022-06-13T12:21:38.391Z"
   },
   {
    "duration": 42,
    "start_time": "2022-06-13T12:21:38.463Z"
   },
   {
    "duration": 29,
    "start_time": "2022-06-13T12:21:38.507Z"
   },
   {
    "duration": 123,
    "start_time": "2022-06-13T12:21:38.537Z"
   },
   {
    "duration": 781,
    "start_time": "2022-06-13T12:21:38.662Z"
   },
   {
    "duration": 21,
    "start_time": "2022-06-13T12:21:39.445Z"
   },
   {
    "duration": 551,
    "start_time": "2022-06-13T12:21:39.467Z"
   },
   {
    "duration": 9,
    "start_time": "2022-06-13T12:21:40.020Z"
   },
   {
    "duration": 12,
    "start_time": "2022-06-13T12:21:40.030Z"
   },
   {
    "duration": 10,
    "start_time": "2022-06-13T12:21:40.044Z"
   },
   {
    "duration": 11,
    "start_time": "2022-06-13T12:21:40.056Z"
   },
   {
    "duration": 11,
    "start_time": "2022-06-13T12:21:40.068Z"
   },
   {
    "duration": 69,
    "start_time": "2022-06-13T12:22:31.052Z"
   },
   {
    "duration": 1170,
    "start_time": "2022-06-13T12:41:56.098Z"
   },
   {
    "duration": 796,
    "start_time": "2022-06-13T12:41:57.270Z"
   },
   {
    "duration": 5,
    "start_time": "2022-06-13T12:41:58.067Z"
   },
   {
    "duration": 27,
    "start_time": "2022-06-13T12:41:58.073Z"
   },
   {
    "duration": 75,
    "start_time": "2022-06-13T12:41:58.102Z"
   },
   {
    "duration": 283,
    "start_time": "2022-06-13T12:41:58.179Z"
   },
   {
    "duration": 88,
    "start_time": "2022-06-13T12:41:58.463Z"
   },
   {
    "duration": 17,
    "start_time": "2022-06-13T12:41:58.553Z"
   },
   {
    "duration": 46,
    "start_time": "2022-06-13T12:41:58.572Z"
   },
   {
    "duration": 129,
    "start_time": "2022-06-13T12:41:58.620Z"
   },
   {
    "duration": 854,
    "start_time": "2022-06-13T12:41:58.751Z"
   },
   {
    "duration": 29,
    "start_time": "2022-06-13T12:41:59.606Z"
   },
   {
    "duration": 611,
    "start_time": "2022-06-13T12:41:59.637Z"
   },
   {
    "duration": 13,
    "start_time": "2022-06-13T12:42:00.251Z"
   },
   {
    "duration": 39,
    "start_time": "2022-06-13T12:42:00.265Z"
   },
   {
    "duration": 23,
    "start_time": "2022-06-13T12:42:00.306Z"
   },
   {
    "duration": 35,
    "start_time": "2022-06-13T12:42:00.330Z"
   },
   {
    "duration": 49,
    "start_time": "2022-06-13T12:42:00.366Z"
   },
   {
    "duration": 1062,
    "start_time": "2022-06-13T12:44:07.607Z"
   },
   {
    "duration": 768,
    "start_time": "2022-06-13T12:44:08.671Z"
   },
   {
    "duration": 6,
    "start_time": "2022-06-13T12:44:09.440Z"
   },
   {
    "duration": 11,
    "start_time": "2022-06-13T12:44:09.448Z"
   },
   {
    "duration": 90,
    "start_time": "2022-06-13T12:44:09.460Z"
   },
   {
    "duration": 294,
    "start_time": "2022-06-13T12:44:09.552Z"
   },
   {
    "duration": 81,
    "start_time": "2022-06-13T12:44:09.848Z"
   },
   {
    "duration": 22,
    "start_time": "2022-06-13T12:44:09.930Z"
   },
   {
    "duration": 70,
    "start_time": "2022-06-13T12:44:09.954Z"
   },
   {
    "duration": 160,
    "start_time": "2022-06-13T12:44:10.027Z"
   },
   {
    "duration": 959,
    "start_time": "2022-06-13T12:44:10.190Z"
   },
   {
    "duration": 27,
    "start_time": "2022-06-13T12:44:11.151Z"
   },
   {
    "duration": 588,
    "start_time": "2022-06-13T12:44:11.191Z"
   },
   {
    "duration": 14,
    "start_time": "2022-06-13T12:44:11.781Z"
   },
   {
    "duration": 16,
    "start_time": "2022-06-13T12:44:11.798Z"
   },
   {
    "duration": 11,
    "start_time": "2022-06-13T12:44:11.815Z"
   },
   {
    "duration": 14,
    "start_time": "2022-06-13T12:44:11.827Z"
   },
   {
    "duration": 11,
    "start_time": "2022-06-13T12:44:11.843Z"
   },
   {
    "duration": 1070,
    "start_time": "2022-06-13T12:45:23.001Z"
   },
   {
    "duration": 767,
    "start_time": "2022-06-13T12:45:24.073Z"
   },
   {
    "duration": 6,
    "start_time": "2022-06-13T12:45:24.842Z"
   },
   {
    "duration": 11,
    "start_time": "2022-06-13T12:45:24.849Z"
   },
   {
    "duration": 91,
    "start_time": "2022-06-13T12:45:24.862Z"
   },
   {
    "duration": 296,
    "start_time": "2022-06-13T12:45:24.955Z"
   },
   {
    "duration": 75,
    "start_time": "2022-06-13T12:45:25.254Z"
   },
   {
    "duration": 21,
    "start_time": "2022-06-13T12:45:25.331Z"
   },
   {
    "duration": 55,
    "start_time": "2022-06-13T12:45:25.354Z"
   },
   {
    "duration": 138,
    "start_time": "2022-06-13T12:45:25.412Z"
   },
   {
    "duration": 898,
    "start_time": "2022-06-13T12:45:25.552Z"
   },
   {
    "duration": 27,
    "start_time": "2022-06-13T12:45:26.452Z"
   },
   {
    "duration": 638,
    "start_time": "2022-06-13T12:45:26.491Z"
   },
   {
    "duration": 14,
    "start_time": "2022-06-13T12:45:27.131Z"
   },
   {
    "duration": 20,
    "start_time": "2022-06-13T12:45:27.148Z"
   },
   {
    "duration": 11,
    "start_time": "2022-06-13T12:45:27.169Z"
   },
   {
    "duration": 22,
    "start_time": "2022-06-13T12:45:27.182Z"
   },
   {
    "duration": 12,
    "start_time": "2022-06-13T12:45:27.205Z"
   },
   {
    "duration": 1052,
    "start_time": "2022-06-13T14:51:24.034Z"
   },
   {
    "duration": 721,
    "start_time": "2022-06-13T14:51:25.088Z"
   },
   {
    "duration": 19,
    "start_time": "2022-06-13T14:51:25.810Z"
   },
   {
    "duration": 10,
    "start_time": "2022-06-13T14:51:25.832Z"
   },
   {
    "duration": 68,
    "start_time": "2022-06-13T14:51:25.844Z"
   },
   {
    "duration": 286,
    "start_time": "2022-06-13T14:51:25.926Z"
   },
   {
    "duration": 93,
    "start_time": "2022-06-13T14:51:26.214Z"
   },
   {
    "duration": 38,
    "start_time": "2022-06-13T14:51:26.310Z"
   },
   {
    "duration": 38,
    "start_time": "2022-06-13T14:51:26.350Z"
   },
   {
    "duration": 137,
    "start_time": "2022-06-13T14:51:26.391Z"
   },
   {
    "duration": 782,
    "start_time": "2022-06-13T14:51:26.529Z"
   },
   {
    "duration": 27,
    "start_time": "2022-06-13T14:51:27.313Z"
   },
   {
    "duration": 532,
    "start_time": "2022-06-13T14:51:27.342Z"
   },
   {
    "duration": 9,
    "start_time": "2022-06-13T14:51:27.876Z"
   },
   {
    "duration": 15,
    "start_time": "2022-06-13T14:51:27.887Z"
   },
   {
    "duration": 25,
    "start_time": "2022-06-13T14:51:27.904Z"
   },
   {
    "duration": 12,
    "start_time": "2022-06-13T14:51:27.930Z"
   },
   {
    "duration": 17,
    "start_time": "2022-06-13T14:51:27.943Z"
   },
   {
    "duration": 15,
    "start_time": "2022-06-13T15:07:02.379Z"
   },
   {
    "duration": 14,
    "start_time": "2022-06-13T15:09:22.621Z"
   },
   {
    "duration": 4,
    "start_time": "2022-06-13T15:09:28.003Z"
   },
   {
    "duration": 7,
    "start_time": "2022-06-13T15:10:25.523Z"
   },
   {
    "duration": 94,
    "start_time": "2022-06-13T15:10:49.383Z"
   },
   {
    "duration": 4,
    "start_time": "2022-06-13T15:13:03.749Z"
   },
   {
    "duration": 6,
    "start_time": "2022-06-13T15:13:07.774Z"
   },
   {
    "duration": 8,
    "start_time": "2022-06-13T15:13:11.007Z"
   },
   {
    "duration": 12,
    "start_time": "2022-06-13T15:13:27.011Z"
   },
   {
    "duration": 14,
    "start_time": "2022-06-13T15:13:59.184Z"
   },
   {
    "duration": 13,
    "start_time": "2022-06-13T15:18:23.547Z"
   },
   {
    "duration": 17,
    "start_time": "2022-06-13T19:48:30.865Z"
   },
   {
    "duration": 1251,
    "start_time": "2022-06-13T19:48:40.722Z"
   },
   {
    "duration": 1406,
    "start_time": "2022-06-13T19:48:41.975Z"
   },
   {
    "duration": 5,
    "start_time": "2022-06-13T19:48:43.385Z"
   },
   {
    "duration": 26,
    "start_time": "2022-06-13T19:48:43.392Z"
   },
   {
    "duration": 90,
    "start_time": "2022-06-13T19:48:43.420Z"
   },
   {
    "duration": 315,
    "start_time": "2022-06-13T19:48:43.512Z"
   },
   {
    "duration": 84,
    "start_time": "2022-06-13T19:48:43.829Z"
   },
   {
    "duration": 20,
    "start_time": "2022-06-13T19:48:43.914Z"
   },
   {
    "duration": 55,
    "start_time": "2022-06-13T19:48:43.936Z"
   },
   {
    "duration": 144,
    "start_time": "2022-06-13T19:48:43.993Z"
   },
   {
    "duration": 859,
    "start_time": "2022-06-13T19:48:44.139Z"
   },
   {
    "duration": 32,
    "start_time": "2022-06-13T19:48:45.000Z"
   },
   {
    "duration": 600,
    "start_time": "2022-06-13T19:48:45.034Z"
   },
   {
    "duration": 11,
    "start_time": "2022-06-13T19:48:45.636Z"
   },
   {
    "duration": 33,
    "start_time": "2022-06-13T19:48:45.649Z"
   },
   {
    "duration": 15,
    "start_time": "2022-06-13T19:48:45.684Z"
   },
   {
    "duration": 16,
    "start_time": "2022-06-13T19:48:45.701Z"
   },
   {
    "duration": 13,
    "start_time": "2022-06-13T19:48:45.719Z"
   },
   {
    "duration": 17,
    "start_time": "2022-06-13T19:49:01.709Z"
   },
   {
    "duration": 26,
    "start_time": "2022-06-13T19:55:20.151Z"
   },
   {
    "duration": 30,
    "start_time": "2022-06-13T20:01:53.537Z"
   },
   {
    "duration": 24,
    "start_time": "2022-06-13T20:02:14.495Z"
   },
   {
    "duration": 11,
    "start_time": "2022-06-13T20:16:30.732Z"
   },
   {
    "duration": 98,
    "start_time": "2022-06-13T20:16:40.721Z"
   },
   {
    "duration": 7,
    "start_time": "2022-06-13T20:16:42.501Z"
   },
   {
    "duration": 29,
    "start_time": "2022-06-13T20:19:21.173Z"
   },
   {
    "duration": 12,
    "start_time": "2022-06-13T20:19:51.524Z"
   },
   {
    "duration": 10,
    "start_time": "2022-06-13T20:19:58.661Z"
   },
   {
    "duration": 10,
    "start_time": "2022-06-13T20:20:17.960Z"
   },
   {
    "duration": 13,
    "start_time": "2022-06-13T20:20:55.397Z"
   },
   {
    "duration": 20,
    "start_time": "2022-06-13T20:22:13.157Z"
   },
   {
    "duration": 10,
    "start_time": "2022-06-13T20:22:20.243Z"
   },
   {
    "duration": 25,
    "start_time": "2022-06-13T20:26:47.654Z"
   },
   {
    "duration": 145,
    "start_time": "2022-06-13T20:28:35.161Z"
   },
   {
    "duration": 159,
    "start_time": "2022-06-13T20:29:17.140Z"
   },
   {
    "duration": 6,
    "start_time": "2022-06-13T20:32:21.046Z"
   },
   {
    "duration": 11,
    "start_time": "2022-06-13T20:33:26.640Z"
   },
   {
    "duration": 13,
    "start_time": "2022-06-13T21:03:24.452Z"
   },
   {
    "duration": 29,
    "start_time": "2022-06-14T04:26:04.246Z"
   },
   {
    "duration": 26,
    "start_time": "2022-06-14T04:26:56.600Z"
   },
   {
    "duration": 43,
    "start_time": "2022-06-14T04:27:11.701Z"
   },
   {
    "duration": 1263,
    "start_time": "2022-06-14T04:27:20.006Z"
   },
   {
    "duration": 1364,
    "start_time": "2022-06-14T04:27:21.271Z"
   },
   {
    "duration": 5,
    "start_time": "2022-06-14T04:27:22.636Z"
   },
   {
    "duration": 36,
    "start_time": "2022-06-14T04:27:22.643Z"
   },
   {
    "duration": 89,
    "start_time": "2022-06-14T04:27:22.680Z"
   },
   {
    "duration": 280,
    "start_time": "2022-06-14T04:27:22.770Z"
   },
   {
    "duration": 76,
    "start_time": "2022-06-14T04:27:23.052Z"
   },
   {
    "duration": 19,
    "start_time": "2022-06-14T04:27:23.130Z"
   },
   {
    "duration": 44,
    "start_time": "2022-06-14T04:27:23.150Z"
   },
   {
    "duration": 163,
    "start_time": "2022-06-14T04:27:23.197Z"
   },
   {
    "duration": 798,
    "start_time": "2022-06-14T04:27:23.362Z"
   },
   {
    "duration": 24,
    "start_time": "2022-06-14T04:27:24.161Z"
   },
   {
    "duration": 556,
    "start_time": "2022-06-14T04:27:24.187Z"
   },
   {
    "duration": 9,
    "start_time": "2022-06-14T04:27:24.745Z"
   },
   {
    "duration": 17,
    "start_time": "2022-06-14T04:27:24.756Z"
   },
   {
    "duration": 20,
    "start_time": "2022-06-14T04:27:24.775Z"
   },
   {
    "duration": 19,
    "start_time": "2022-06-14T04:27:24.797Z"
   },
   {
    "duration": 16,
    "start_time": "2022-06-14T04:27:24.826Z"
   },
   {
    "duration": 978,
    "start_time": "2022-06-14T04:28:26.332Z"
   },
   {
    "duration": 885,
    "start_time": "2022-06-14T04:31:33.353Z"
   },
   {
    "duration": 916,
    "start_time": "2022-06-14T04:32:11.215Z"
   },
   {
    "duration": 22,
    "start_time": "2022-06-14T04:38:38.363Z"
   },
   {
    "duration": 578,
    "start_time": "2022-06-14T04:39:45.996Z"
   },
   {
    "duration": 11,
    "start_time": "2022-06-14T04:43:17.361Z"
   },
   {
    "duration": 153,
    "start_time": "2022-06-14T04:43:49.445Z"
   },
   {
    "duration": 166,
    "start_time": "2022-06-14T04:50:17.364Z"
   },
   {
    "duration": 160,
    "start_time": "2022-06-14T04:51:26.775Z"
   },
   {
    "duration": 263,
    "start_time": "2022-06-14T04:53:43.795Z"
   },
   {
    "duration": 196,
    "start_time": "2022-06-14T04:54:13.407Z"
   },
   {
    "duration": 279,
    "start_time": "2022-06-14T05:03:27.819Z"
   },
   {
    "duration": 190,
    "start_time": "2022-06-14T05:03:54.838Z"
   },
   {
    "duration": 193,
    "start_time": "2022-06-14T05:05:30.111Z"
   },
   {
    "duration": 191,
    "start_time": "2022-06-14T05:06:02.779Z"
   },
   {
    "duration": 323,
    "start_time": "2022-06-14T05:06:15.565Z"
   },
   {
    "duration": 296,
    "start_time": "2022-06-14T05:06:48.101Z"
   },
   {
    "duration": 196,
    "start_time": "2022-06-14T05:07:56.883Z"
   },
   {
    "duration": 301,
    "start_time": "2022-06-14T05:09:19.570Z"
   },
   {
    "duration": 179,
    "start_time": "2022-06-14T05:09:41.669Z"
   },
   {
    "duration": 186,
    "start_time": "2022-06-14T05:12:10.489Z"
   },
   {
    "duration": 231,
    "start_time": "2022-06-14T05:12:32.458Z"
   },
   {
    "duration": 240,
    "start_time": "2022-06-14T05:14:36.163Z"
   },
   {
    "duration": 194,
    "start_time": "2022-06-14T05:15:44.243Z"
   },
   {
    "duration": 201,
    "start_time": "2022-06-14T05:16:02.082Z"
   },
   {
    "duration": 206,
    "start_time": "2022-06-14T05:16:23.242Z"
   },
   {
    "duration": 219,
    "start_time": "2022-06-14T05:16:53.131Z"
   },
   {
    "duration": 187,
    "start_time": "2022-06-14T05:17:09.466Z"
   },
   {
    "duration": 192,
    "start_time": "2022-06-14T05:17:17.661Z"
   },
   {
    "duration": 514,
    "start_time": "2022-06-14T05:19:57.440Z"
   },
   {
    "duration": 453,
    "start_time": "2022-06-14T05:21:24.405Z"
   },
   {
    "duration": 409,
    "start_time": "2022-06-14T05:21:57.476Z"
   },
   {
    "duration": 423,
    "start_time": "2022-06-14T05:28:10.912Z"
   },
   {
    "duration": 351,
    "start_time": "2022-06-14T05:28:21.748Z"
   },
   {
    "duration": 563,
    "start_time": "2022-06-14T05:28:35.281Z"
   },
   {
    "duration": 414,
    "start_time": "2022-06-14T05:29:11.599Z"
   },
   {
    "duration": 436,
    "start_time": "2022-06-14T05:29:27.500Z"
   },
   {
    "duration": 361,
    "start_time": "2022-06-14T05:29:49.683Z"
   },
   {
    "duration": 545,
    "start_time": "2022-06-14T05:30:02.520Z"
   },
   {
    "duration": 413,
    "start_time": "2022-06-14T05:30:36.374Z"
   },
   {
    "duration": 415,
    "start_time": "2022-06-14T05:30:52.282Z"
   },
   {
    "duration": 791,
    "start_time": "2022-06-14T05:33:04.687Z"
   },
   {
    "duration": 745,
    "start_time": "2022-06-14T05:48:14.389Z"
   },
   {
    "duration": 13,
    "start_time": "2022-06-14T07:02:51.053Z"
   },
   {
    "duration": 9,
    "start_time": "2022-06-14T07:03:44.813Z"
   },
   {
    "duration": 10,
    "start_time": "2022-06-14T07:03:50.991Z"
   },
   {
    "duration": 9,
    "start_time": "2022-06-14T07:03:56.676Z"
   },
   {
    "duration": 1038,
    "start_time": "2022-06-14T07:22:35.910Z"
   },
   {
    "duration": 21,
    "start_time": "2022-06-14T07:28:40.657Z"
   },
   {
    "duration": 23,
    "start_time": "2022-06-14T07:29:01.907Z"
   },
   {
    "duration": 286,
    "start_time": "2022-06-14T07:56:58.137Z"
   },
   {
    "duration": 4,
    "start_time": "2022-06-14T07:57:11.827Z"
   },
   {
    "duration": 1336,
    "start_time": "2022-06-14T07:57:11.835Z"
   },
   {
    "duration": 5,
    "start_time": "2022-06-14T07:57:13.172Z"
   },
   {
    "duration": 14,
    "start_time": "2022-06-14T07:57:13.178Z"
   },
   {
    "duration": 95,
    "start_time": "2022-06-14T07:57:13.194Z"
   },
   {
    "duration": 278,
    "start_time": "2022-06-14T07:57:13.291Z"
   },
   {
    "duration": 83,
    "start_time": "2022-06-14T07:57:13.571Z"
   },
   {
    "duration": 19,
    "start_time": "2022-06-14T07:57:13.656Z"
   },
   {
    "duration": 62,
    "start_time": "2022-06-14T07:57:13.677Z"
   },
   {
    "duration": 150,
    "start_time": "2022-06-14T07:57:13.741Z"
   },
   {
    "duration": 871,
    "start_time": "2022-06-14T07:57:13.892Z"
   },
   {
    "duration": 26,
    "start_time": "2022-06-14T07:57:14.765Z"
   },
   {
    "duration": 599,
    "start_time": "2022-06-14T07:57:14.792Z"
   },
   {
    "duration": 958,
    "start_time": "2022-06-14T07:57:15.392Z"
   },
   {
    "duration": 23,
    "start_time": "2022-06-14T07:57:16.353Z"
   },
   {
    "duration": 531,
    "start_time": "2022-06-14T07:57:16.378Z"
   },
   {
    "duration": 0,
    "start_time": "2022-06-14T07:57:16.911Z"
   },
   {
    "duration": 11,
    "start_time": "2022-06-14T07:58:07.445Z"
   },
   {
    "duration": 80,
    "start_time": "2022-06-14T07:59:55.987Z"
   },
   {
    "duration": 84,
    "start_time": "2022-06-14T08:00:29.809Z"
   },
   {
    "duration": 10,
    "start_time": "2022-06-14T08:02:39.898Z"
   },
   {
    "duration": 11,
    "start_time": "2022-06-14T08:03:01.988Z"
   },
   {
    "duration": 8,
    "start_time": "2022-06-14T08:09:36.366Z"
   },
   {
    "duration": 6,
    "start_time": "2022-06-14T08:10:36.845Z"
   },
   {
    "duration": 9,
    "start_time": "2022-06-14T08:16:25.785Z"
   },
   {
    "duration": 10,
    "start_time": "2022-06-14T08:17:01.294Z"
   },
   {
    "duration": 13,
    "start_time": "2022-06-14T08:20:28.328Z"
   },
   {
    "duration": 16,
    "start_time": "2022-06-14T08:20:52.843Z"
   },
   {
    "duration": 15,
    "start_time": "2022-06-14T08:21:04.375Z"
   },
   {
    "duration": 12,
    "start_time": "2022-06-14T08:23:12.683Z"
   },
   {
    "duration": 11,
    "start_time": "2022-06-14T08:23:37.683Z"
   },
   {
    "duration": 12,
    "start_time": "2022-06-14T08:24:04.493Z"
   },
   {
    "duration": 17,
    "start_time": "2022-06-14T08:24:38.415Z"
   },
   {
    "duration": 12,
    "start_time": "2022-06-14T08:30:21.978Z"
   },
   {
    "duration": 17,
    "start_time": "2022-06-14T08:31:46.316Z"
   },
   {
    "duration": 1041,
    "start_time": "2022-06-14T08:44:43.359Z"
   },
   {
    "duration": 811,
    "start_time": "2022-06-14T08:44:44.401Z"
   },
   {
    "duration": 10,
    "start_time": "2022-06-14T08:44:45.237Z"
   },
   {
    "duration": 12,
    "start_time": "2022-06-14T08:44:45.249Z"
   },
   {
    "duration": 86,
    "start_time": "2022-06-14T08:44:45.263Z"
   },
   {
    "duration": 293,
    "start_time": "2022-06-14T08:44:45.351Z"
   },
   {
    "duration": 102,
    "start_time": "2022-06-14T08:44:45.646Z"
   },
   {
    "duration": 31,
    "start_time": "2022-06-14T08:44:45.750Z"
   },
   {
    "duration": 137,
    "start_time": "2022-06-14T08:44:45.783Z"
   },
   {
    "duration": 913,
    "start_time": "2022-06-14T08:44:45.928Z"
   },
   {
    "duration": 23,
    "start_time": "2022-06-14T08:44:46.843Z"
   },
   {
    "duration": 570,
    "start_time": "2022-06-14T08:44:46.867Z"
   },
   {
    "duration": 970,
    "start_time": "2022-06-14T08:44:47.439Z"
   },
   {
    "duration": 30,
    "start_time": "2022-06-14T08:44:48.411Z"
   },
   {
    "duration": 16,
    "start_time": "2022-06-14T08:44:48.443Z"
   },
   {
    "duration": 17,
    "start_time": "2022-06-14T08:44:48.460Z"
   },
   {
    "duration": 1374,
    "start_time": "2022-06-14T15:27:54.607Z"
   },
   {
    "duration": 1489,
    "start_time": "2022-06-14T15:27:55.983Z"
   },
   {
    "duration": 5,
    "start_time": "2022-06-14T15:27:57.474Z"
   },
   {
    "duration": 18,
    "start_time": "2022-06-14T15:27:57.481Z"
   },
   {
    "duration": 98,
    "start_time": "2022-06-14T15:27:57.501Z"
   },
   {
    "duration": 315,
    "start_time": "2022-06-14T15:27:57.601Z"
   },
   {
    "duration": 106,
    "start_time": "2022-06-14T15:27:57.926Z"
   },
   {
    "duration": 38,
    "start_time": "2022-06-14T15:27:58.034Z"
   },
   {
    "duration": 153,
    "start_time": "2022-06-14T15:27:58.074Z"
   },
   {
    "duration": 965,
    "start_time": "2022-06-14T15:27:58.229Z"
   },
   {
    "duration": 42,
    "start_time": "2022-06-14T15:27:59.196Z"
   },
   {
    "duration": 655,
    "start_time": "2022-06-14T15:27:59.240Z"
   },
   {
    "duration": 1112,
    "start_time": "2022-06-14T15:27:59.897Z"
   },
   {
    "duration": 37,
    "start_time": "2022-06-14T15:28:01.011Z"
   },
   {
    "duration": 25,
    "start_time": "2022-06-14T15:28:01.049Z"
   },
   {
    "duration": 27,
    "start_time": "2022-06-14T15:28:01.076Z"
   }
  ],
  "kernelspec": {
   "display_name": "Python 3 (ipykernel)",
   "language": "python",
   "name": "python3"
  },
  "language_info": {
   "codemirror_mode": {
    "name": "ipython",
    "version": 3
   },
   "file_extension": ".py",
   "mimetype": "text/x-python",
   "name": "python",
   "nbconvert_exporter": "python",
   "pygments_lexer": "ipython3",
   "version": "3.9.7"
  },
  "toc": {
   "base_numbering": 1,
   "nav_menu": {
    "height": "255px",
    "width": "635px"
   },
   "number_sections": true,
   "sideBar": true,
   "skip_h1_title": true,
   "title_cell": "Table of Contents",
   "title_sidebar": "Contents",
   "toc_cell": false,
   "toc_position": {},
   "toc_section_display": true,
   "toc_window_display": false
  }
 },
 "nbformat": 4,
 "nbformat_minor": 5
}
