{
 "cells": [
  {
   "cell_type": "markdown",
   "metadata": {},
   "source": [
    "<a id='intro'></a>\n",
    "# Создание дашборда в Tableau\n",
    "\n",
    "## Задание и инструкция по выполнению проекта:\n",
    "\n",
    "Имеется потребность автоматизировать анализ пользовательского взаимодействия с карточками статей Яндекс.Дзена - собрать интересующие данные в дашборд. Дашборд будет основываться на пайплайне, который будет брать данные из таблицы, в которых хранятся сырые данные, трансформировать данные и укладывать их в агрегирующую таблицу. Пайплайн будет разработан дата-инженерами.<br>\n",
    "\n",
    "**ИНСТРУКЦИЯ К ВЫПОЛНЕНИЮ ПРОЕКТА**<br>\n",
    "**Шаг №1. Разработать ТЗ на дашборд**<br>\n",
    "**Шаг №2. Создать дашборд**<br>\n",
    "1. Скачать файл https://storage.yandexcloud.net/cloud-certs/CA.pem в папку с файлом .ipynb, в котором будем работать с базой;<br>\n",
    "2. Создать коннекцию к базе;<br>\n",
    "3. Выполнить sql-запрос из базы;<br>\n",
    "4. В Юпитере написать код для выгрузки данных из таблицы dash_visits в файл dash_visits.csv;<br>\n",
    "5. В Tableau Public на основе файла dash_visits.csv сформировать дашборд в соответствии с макетом;<br>\n",
    "6. Опубликовать дашборд на сайте Tableau Public. Дашборд должен быть доступен для всего интернета (открывается в нескольких браузерах);<br>\n",
    "7. Ответить на вопросы, используя дашборд:<br>\n",
    "o\tCколько взаимодействий пользователей с карточками происходит в системе с разбивкой по темам карточек?<br>\n",
    "o\tКак много карточек генерируют источники с разными темами?<br>\n",
    "o\tКак соотносятся темы карточек и темы источников?<br>\n",
    "**Шаг №3. Представить результаты в виде PDF-файла**<br> \n",
    "Подготовить небольшую презентацию с отчётом — ответы на вопросы и графики.\n",
    "\n",
    "**ОПИСАНИЕ ДАННЫХ**<br>\n",
    "Сырые данные о событиях взаимодействия пользователей с карточками (таблица log_raw):<br>\n",
    "•\tКарточка отображена для пользователя (show);\n",
    "•\tПользователь кликнул на карточку (click);\n",
    "•\tПользователь просмотрел статью карточки (view).\n"
   ]
  },
  {
   "cell_type": "markdown",
   "metadata": {},
   "source": [
    "## ТЗ на дашборд\n",
    "\n",
    "[В начало](#intro)"
   ]
  },
  {
   "cell_type": "markdown",
   "metadata": {},
   "source": [
    "•\tСостав данных для дашборда:<br> \n",
    "o\tИстория событий по темам карточек (два графика - абсолютные числа и процентное соотношение);<br>\n",
    "o\tРазбивка событий по темам источников;<br>\n",
    "o\tТаблица соответствия тем источников темам карточек;<br>\n",
    "•\tПо каким параметрам данные должны группироваться:<br> \n",
    "o\tДата и время;<br>\n",
    "o\tТема карточки;<br>\n",
    "o\tТема источника;<br>\n",
    "o\tВозрастная группа;<br>\n",
    "•\tХарактер данных:<br>\n",
    "o\tИстория событий по темам карточек — абсолютные величины с разбивкой по минутам;<br>\n",
    "o\tРазбивка событий по темам источников — относительные величины (% событий);<br>\n",
    "o\tСоответствия тем источников темам карточек - абсолютные величины;<br>\n",
    "•\tВажность: все графики имеют равную важность;<br>\n",
    "•\tИсточники данных для дашборда: cырые данные о событиях взаимодействия пользователей с карточками (таблица log_raw);<br>\n",
    "•\tБаза данных, в которой будут храниться агрегированные данные: дополнительные агрегированные таблицы в БД zen;<br>\n",
    "•\tЧастота обновления данных: один раз в сутки, в полночь по UTC.<br>"
   ]
  },
  {
   "cell_type": "markdown",
   "metadata": {},
   "source": [
    "## Создание дашборда\n",
    "\n",
    "[В начало](#intro)"
   ]
  },
  {
   "cell_type": "code",
   "execution_count": 1,
   "metadata": {},
   "outputs": [
    {
     "name": "stderr",
     "output_type": "stream",
     "text": [
      "ERROR: Invalid requirement: '#'\n"
     ]
    },
    {
     "data": {
      "text/html": [
       "<div>\n",
       "<style scoped>\n",
       "    .dataframe tbody tr th:only-of-type {\n",
       "        vertical-align: middle;\n",
       "    }\n",
       "\n",
       "    .dataframe tbody tr th {\n",
       "        vertical-align: top;\n",
       "    }\n",
       "\n",
       "    .dataframe thead th {\n",
       "        text-align: right;\n",
       "    }\n",
       "</style>\n",
       "<table border=\"1\" class=\"dataframe\">\n",
       "  <thead>\n",
       "    <tr style=\"text-align: right;\">\n",
       "      <th></th>\n",
       "      <th>record_id</th>\n",
       "      <th>item_topic</th>\n",
       "      <th>source_topic</th>\n",
       "      <th>age_segment</th>\n",
       "      <th>dt</th>\n",
       "      <th>visits</th>\n",
       "    </tr>\n",
       "  </thead>\n",
       "  <tbody>\n",
       "    <tr>\n",
       "      <th>0</th>\n",
       "      <td>1040597</td>\n",
       "      <td>Деньги</td>\n",
       "      <td>Авто</td>\n",
       "      <td>18-25</td>\n",
       "      <td>2019-09-24 18:32:00</td>\n",
       "      <td>3</td>\n",
       "    </tr>\n",
       "    <tr>\n",
       "      <th>1</th>\n",
       "      <td>1040598</td>\n",
       "      <td>Деньги</td>\n",
       "      <td>Авто</td>\n",
       "      <td>18-25</td>\n",
       "      <td>2019-09-24 18:35:00</td>\n",
       "      <td>1</td>\n",
       "    </tr>\n",
       "    <tr>\n",
       "      <th>2</th>\n",
       "      <td>1040599</td>\n",
       "      <td>Деньги</td>\n",
       "      <td>Авто</td>\n",
       "      <td>18-25</td>\n",
       "      <td>2019-09-24 18:54:00</td>\n",
       "      <td>4</td>\n",
       "    </tr>\n",
       "    <tr>\n",
       "      <th>3</th>\n",
       "      <td>1040600</td>\n",
       "      <td>Деньги</td>\n",
       "      <td>Авто</td>\n",
       "      <td>18-25</td>\n",
       "      <td>2019-09-24 18:55:00</td>\n",
       "      <td>17</td>\n",
       "    </tr>\n",
       "    <tr>\n",
       "      <th>4</th>\n",
       "      <td>1040601</td>\n",
       "      <td>Деньги</td>\n",
       "      <td>Авто</td>\n",
       "      <td>18-25</td>\n",
       "      <td>2019-09-24 18:56:00</td>\n",
       "      <td>27</td>\n",
       "    </tr>\n",
       "  </tbody>\n",
       "</table>\n",
       "</div>"
      ],
      "text/plain": [
       "   record_id item_topic source_topic age_segment                  dt  visits\n",
       "0    1040597     Деньги         Авто       18-25 2019-09-24 18:32:00       3\n",
       "1    1040598     Деньги         Авто       18-25 2019-09-24 18:35:00       1\n",
       "2    1040599     Деньги         Авто       18-25 2019-09-24 18:54:00       4\n",
       "3    1040600     Деньги         Авто       18-25 2019-09-24 18:55:00      17\n",
       "4    1040601     Деньги         Авто       18-25 2019-09-24 18:56:00      27"
      ]
     },
     "metadata": {},
     "output_type": "display_data"
    },
    {
     "name": "stdout",
     "output_type": "stream",
     "text": [
      "<class 'pandas.core.frame.DataFrame'>\n",
      "RangeIndex: 30745 entries, 0 to 30744\n",
      "Data columns (total 6 columns):\n",
      " #   Column        Non-Null Count  Dtype         \n",
      "---  ------        --------------  -----         \n",
      " 0   record_id     30745 non-null  int64         \n",
      " 1   item_topic    30745 non-null  object        \n",
      " 2   source_topic  30745 non-null  object        \n",
      " 3   age_segment   30745 non-null  object        \n",
      " 4   dt            30745 non-null  datetime64[ns]\n",
      " 5   visits        30745 non-null  int64         \n",
      "dtypes: datetime64[ns](1), int64(2), object(3)\n",
      "memory usage: 1.4+ MB\n"
     ]
    }
   ],
   "source": [
    "# Импортируем библиотеки Питона:\n",
    "import pandas as pd #\n",
    "from sqlalchemy import create_engine #\n",
    "from datetime import datetime, time #\n",
    "!pip install psycopg2 #\n",
    "import warnings #\n",
    "\n",
    "# Изменяем настройки отображения обработки кода в Пандасе, чтобы предупрежедения не выводились:\n",
    "warnings.filterwarnings(\"ignore\")\n",
    "# Изменяем настройки отображения столбцов в Пандасе, чтобы выводились все столбцы:\n",
    "pd.set_option('display.max_columns', None)\n",
    "# Изменяем настройки отображения столбцов в Пандасе, чтобы выводились 200 символов в ячейке:\n",
    "pd.options.display.max_colwidth = 200\n",
    "\n",
    "\n",
    "# Создаем подключение к базе данных:\n",
    "# Задаём параметры подключения к БД:\n",
    "db_config = {'user': 'praktikum_student', # имя пользователя\n",
    "             'pwd': 'Sdf4$2;d-d30pp', # пароль\n",
    "             'host': 'rc1b-wcoijxj3yxfsf3fs.mdb.yandexcloud.net', # компьютер с базой данных\n",
    "             'port': 6432, # порт подключения к компьютеру с базой данных\n",
    "             'db': 'data-analyst-zen-project-db'} # название базы данных\n",
    "# Формируем строку соединения с БД:\n",
    "connection_string = 'postgresql://{}:{}@{}:{}/{}'.format(db_config['user'],\n",
    "                                                         db_config['pwd'],\n",
    "                                                         db_config['host'],\n",
    "                                                         db_config['port'],\n",
    "                                                         db_config['db'])\n",
    "# Подключаемся к БД:\n",
    "engine = create_engine(connection_string) \n",
    "\n",
    "# Формируем sql-запрос:\n",
    "# в задании была таблица log_raw, а не dash_visits, \n",
    "# но преподаватель Ольга Макаревич говорит что это осталось от предыдущей версии спринта\n",
    "query = ''' SELECT *\n",
    "              FROM dash_visits\n",
    "        '''\n",
    "\n",
    "# Выполняем запрос и сохраняем результат выполнения в DataFrame.\n",
    "# Sqlalchemy автоматически установит названия колонок такими же, как у таблицы в БД. \n",
    "# Указываем индексную колонку с помощью index_col.\n",
    "dash_visits = pd.io.sql.read_sql(query, con = engine)\n",
    "\n",
    "# Контроль итоговой таблицы:\n",
    "display(dash_visits.head(5))\n",
    "dash_visits.info()\n",
    "\n",
    "# Выгружаем данные из таблицы dash_visits в файл dash_visits.csv:\n",
    "dash_visits.to_csv('dash_visits.csv')\n",
    "\n",
    "# Дальнейшее формирование дашборда осуществляем в Tableau."
   ]
  },
  {
   "cell_type": "markdown",
   "metadata": {},
   "source": [
    "Дальнейшее формирование дашборда осуществляем в Tableau."
   ]
  },
  {
   "cell_type": "markdown",
   "metadata": {},
   "source": [
    "## Общий вывод\n",
    "[В начало](#intro)"
   ]
  },
  {
   "cell_type": "markdown",
   "metadata": {},
   "source": [
    "Ссылка на дашборд:<br>\n",
    "<br>\n",
    "По результаатм анализа данных с помощью дашборда возможно дать следующие ответы на вопросы:<br>\n",
    "\n",
    "1) Cколько взаимодействий пользователей с карточками происходит в системе с разбивкой по темам карточек?<br>\n",
    "   - Пиковое значение в районе 60 тысяч взаимодействий.\n",
    "   \n",
    "2) Как много карточек генерируют источники с разными темами?<br>\n",
    "   - Минимальное значение (2698 взаимодействий или 0,85% от общего количества) - генерирует тема \"Финансы\", а максимальное занчение (33309 взаимодействий или 10,74%) - \"Семейные отношения\".\n",
    "   \n",
    "3) Как соотносятся темы карточек и темы источников?<br>\n",
    "   - Возможно установить неожиданные взаимосвязи между темами источников и карточек. Так, например, источник \"Технологии\" + карточка \"Рассказы\" дает только 1 взаимодействие. Лидирует пара источник \"Путешествия\" + карточка \"Рассказы\" (4587 взаимодействий).\n",
    "<br>\n",
    "\n",
    "Ссылка на дашборд: <https://public.tableau.com/app/profile/yakov8200/viz/Dash_03-01/Dash_1?publish=yes> \n",
    "\n",
    "Ссылка на презентацию в формате PDF: <https://disk.yandex.ru/i/b8eiYjDQq-A0cA> "
   ]
  }
 ],
 "metadata": {
  "ExecuteTimeLog": [
   {
    "duration": 55,
    "start_time": "2022-08-10T11:27:13.811Z"
   },
   {
    "duration": 1377,
    "start_time": "2022-08-10T11:28:54.559Z"
   },
   {
    "duration": 279,
    "start_time": "2022-08-10T11:32:41.746Z"
   },
   {
    "duration": 6,
    "start_time": "2022-08-10T11:33:43.213Z"
   },
   {
    "duration": 111,
    "start_time": "2022-08-10T11:38:45.064Z"
   },
   {
    "duration": 55,
    "start_time": "2022-08-10T11:39:25.530Z"
   },
   {
    "duration": 96,
    "start_time": "2022-08-10T11:39:33.655Z"
   },
   {
    "duration": 98,
    "start_time": "2022-08-10T11:39:55.011Z"
   },
   {
    "duration": 5,
    "start_time": "2022-08-10T11:42:06.716Z"
   },
   {
    "duration": 110,
    "start_time": "2022-08-10T11:42:49.730Z"
   },
   {
    "duration": 147,
    "start_time": "2022-08-10T11:44:23.620Z"
   },
   {
    "duration": 14,
    "start_time": "2022-08-10T11:44:26.499Z"
   },
   {
    "duration": 111,
    "start_time": "2022-08-10T11:44:28.746Z"
   },
   {
    "duration": 4,
    "start_time": "2022-08-10T11:44:30.659Z"
   },
   {
    "duration": 7,
    "start_time": "2022-08-10T11:45:22.437Z"
   },
   {
    "duration": 97,
    "start_time": "2022-08-10T11:45:24.184Z"
   },
   {
    "duration": 4,
    "start_time": "2022-08-10T11:45:26.019Z"
   },
   {
    "duration": 11,
    "start_time": "2022-08-10T11:45:28.551Z"
   },
   {
    "duration": 55,
    "start_time": "2022-08-10T11:46:18.467Z"
   },
   {
    "duration": 7,
    "start_time": "2022-08-10T11:49:36.590Z"
   },
   {
    "duration": 4,
    "start_time": "2022-08-10T11:49:40.593Z"
   },
   {
    "duration": 1135,
    "start_time": "2022-08-10T11:49:48.934Z"
   },
   {
    "duration": 100,
    "start_time": "2022-08-10T11:49:50.071Z"
   },
   {
    "duration": 5,
    "start_time": "2022-08-10T11:49:50.172Z"
   },
   {
    "duration": 58,
    "start_time": "2022-08-10T11:49:50.178Z"
   },
   {
    "duration": 70,
    "start_time": "2022-08-13T07:02:10.610Z"
   },
   {
    "duration": 58,
    "start_time": "2022-08-13T07:06:28.441Z"
   },
   {
    "duration": 45,
    "start_time": "2022-08-13T07:12:25.762Z"
   },
   {
    "duration": 1280,
    "start_time": "2022-08-13T07:13:02.709Z"
   },
   {
    "duration": 273,
    "start_time": "2022-08-13T07:13:03.991Z"
   },
   {
    "duration": 4,
    "start_time": "2022-08-13T07:13:04.265Z"
   },
   {
    "duration": 52,
    "start_time": "2022-08-13T07:13:04.271Z"
   },
   {
    "duration": 4,
    "start_time": "2022-08-13T07:13:04.324Z"
   },
   {
    "duration": 5,
    "start_time": "2022-08-13T07:15:19.004Z"
   },
   {
    "duration": 6,
    "start_time": "2022-08-13T07:17:41.314Z"
   },
   {
    "duration": 4,
    "start_time": "2022-08-13T07:17:52.104Z"
   },
   {
    "duration": 7,
    "start_time": "2022-08-13T07:18:29.489Z"
   },
   {
    "duration": 9,
    "start_time": "2022-08-13T07:19:23.684Z"
   },
   {
    "duration": 110,
    "start_time": "2022-08-13T07:20:32.209Z"
   },
   {
    "duration": 12,
    "start_time": "2022-08-13T07:20:51.104Z"
   },
   {
    "duration": 12,
    "start_time": "2022-08-13T07:23:01.154Z"
   },
   {
    "duration": 11,
    "start_time": "2022-08-13T07:23:20.164Z"
   },
   {
    "duration": 8,
    "start_time": "2022-08-13T07:26:12.163Z"
   },
   {
    "duration": 7,
    "start_time": "2022-08-13T07:26:21.535Z"
   },
   {
    "duration": 13,
    "start_time": "2022-08-13T07:29:51.323Z"
   },
   {
    "duration": 19,
    "start_time": "2022-08-13T07:30:10.493Z"
   },
   {
    "duration": 34,
    "start_time": "2022-08-13T07:34:30.014Z"
   },
   {
    "duration": 17,
    "start_time": "2022-08-13T07:35:30.148Z"
   },
   {
    "duration": 20,
    "start_time": "2022-08-13T07:39:02.578Z"
   },
   {
    "duration": 14,
    "start_time": "2022-08-13T07:39:23.014Z"
   },
   {
    "duration": 44,
    "start_time": "2022-08-13T07:39:57.364Z"
   },
   {
    "duration": 15,
    "start_time": "2022-08-13T07:40:00.563Z"
   },
   {
    "duration": 21,
    "start_time": "2022-08-13T07:40:49.564Z"
   },
   {
    "duration": 15,
    "start_time": "2022-08-13T07:40:59.209Z"
   },
   {
    "duration": 21,
    "start_time": "2022-08-13T07:55:02.655Z"
   },
   {
    "duration": 15,
    "start_time": "2022-08-13T07:55:41.609Z"
   },
   {
    "duration": 17,
    "start_time": "2022-08-13T07:56:41.624Z"
   },
   {
    "duration": 16,
    "start_time": "2022-08-13T07:56:54.649Z"
   },
   {
    "duration": 17,
    "start_time": "2022-08-13T07:57:21.029Z"
   },
   {
    "duration": 17,
    "start_time": "2022-08-13T07:57:54.184Z"
   },
   {
    "duration": 15,
    "start_time": "2022-08-13T07:58:26.845Z"
   },
   {
    "duration": 18,
    "start_time": "2022-08-13T07:58:48.939Z"
   },
   {
    "duration": 16,
    "start_time": "2022-08-13T07:59:01.094Z"
   },
   {
    "duration": 25,
    "start_time": "2022-08-13T08:00:35.989Z"
   },
   {
    "duration": 16,
    "start_time": "2022-08-13T08:01:02.144Z"
   },
   {
    "duration": 17,
    "start_time": "2022-08-13T08:02:12.069Z"
   },
   {
    "duration": 17,
    "start_time": "2022-08-13T08:02:41.064Z"
   },
   {
    "duration": 17,
    "start_time": "2022-08-13T08:03:10.804Z"
   },
   {
    "duration": 8,
    "start_time": "2022-08-13T08:05:10.809Z"
   },
   {
    "duration": 1028,
    "start_time": "2022-08-13T08:11:19.855Z"
   },
   {
    "duration": 100,
    "start_time": "2022-08-13T08:11:20.886Z"
   },
   {
    "duration": 4,
    "start_time": "2022-08-13T08:11:20.987Z"
   },
   {
    "duration": 65,
    "start_time": "2022-08-13T08:11:20.992Z"
   },
   {
    "duration": 34,
    "start_time": "2022-08-13T08:12:42.686Z"
   },
   {
    "duration": 25,
    "start_time": "2022-08-13T08:14:08.101Z"
   },
   {
    "duration": 18,
    "start_time": "2022-08-13T08:14:30.461Z"
   },
   {
    "duration": 9,
    "start_time": "2022-08-13T08:14:33.081Z"
   },
   {
    "duration": 18,
    "start_time": "2022-08-13T08:15:25.031Z"
   },
   {
    "duration": 19,
    "start_time": "2022-08-13T08:18:36.221Z"
   },
   {
    "duration": 2,
    "start_time": "2022-08-13T08:24:29.741Z"
   },
   {
    "duration": 109,
    "start_time": "2022-08-13T08:25:20.871Z"
   },
   {
    "duration": 6,
    "start_time": "2022-08-13T08:25:58.686Z"
   },
   {
    "duration": 175,
    "start_time": "2022-08-13T08:26:07.502Z"
   },
   {
    "duration": 13,
    "start_time": "2022-08-13T08:37:31.561Z"
   },
   {
    "duration": 11,
    "start_time": "2022-08-13T08:37:47.376Z"
   },
   {
    "duration": 12,
    "start_time": "2022-08-13T08:38:01.650Z"
   },
   {
    "duration": 18,
    "start_time": "2022-08-13T08:38:30.506Z"
   },
   {
    "duration": 122,
    "start_time": "2022-08-13T09:01:36.301Z"
   },
   {
    "duration": 151,
    "start_time": "2022-08-13T09:02:39.621Z"
   },
   {
    "duration": 20,
    "start_time": "2022-08-13T09:19:30.586Z"
   },
   {
    "duration": 1104,
    "start_time": "2022-08-13T09:19:47.876Z"
   },
   {
    "duration": 109,
    "start_time": "2022-08-13T09:19:48.983Z"
   },
   {
    "duration": 4,
    "start_time": "2022-08-13T09:19:49.093Z"
   },
   {
    "duration": 51,
    "start_time": "2022-08-13T09:19:49.098Z"
   },
   {
    "duration": 19,
    "start_time": "2022-08-13T09:19:49.150Z"
   },
   {
    "duration": 116,
    "start_time": "2022-08-13T09:19:49.170Z"
   },
   {
    "duration": 10,
    "start_time": "2022-08-13T09:20:34.591Z"
   },
   {
    "duration": 14,
    "start_time": "2022-08-13T09:21:07.156Z"
   },
   {
    "duration": 31,
    "start_time": "2022-08-13T09:23:42.596Z"
   },
   {
    "duration": 116,
    "start_time": "2022-08-13T09:25:33.623Z"
   },
   {
    "duration": 15,
    "start_time": "2022-08-13T09:26:51.466Z"
   },
   {
    "duration": 11,
    "start_time": "2022-08-13T09:27:48.926Z"
   },
   {
    "duration": 182,
    "start_time": "2022-08-13T09:27:56.810Z"
   },
   {
    "duration": 144,
    "start_time": "2022-08-13T09:28:06.186Z"
   },
   {
    "duration": 135,
    "start_time": "2022-08-13T09:28:16.366Z"
   },
   {
    "duration": 138,
    "start_time": "2022-08-13T09:28:22.135Z"
   },
   {
    "duration": 181,
    "start_time": "2022-08-13T09:28:28.626Z"
   },
   {
    "duration": 52,
    "start_time": "2022-08-14T11:42:04.962Z"
   },
   {
    "duration": 1272,
    "start_time": "2022-08-14T11:42:30.501Z"
   },
   {
    "duration": 307,
    "start_time": "2022-08-14T11:42:31.775Z"
   },
   {
    "duration": 5,
    "start_time": "2022-08-14T11:42:32.083Z"
   },
   {
    "duration": 58,
    "start_time": "2022-08-14T11:42:32.090Z"
   },
   {
    "duration": 37,
    "start_time": "2022-08-14T11:42:32.150Z"
   },
   {
    "duration": 111,
    "start_time": "2022-08-14T11:42:32.189Z"
   },
   {
    "duration": 210,
    "start_time": "2022-08-14T11:43:29.726Z"
   },
   {
    "duration": 219,
    "start_time": "2022-08-14T11:44:45.077Z"
   },
   {
    "duration": 43,
    "start_time": "2022-08-15T06:35:13.312Z"
   },
   {
    "duration": 3126,
    "start_time": "2022-08-15T06:35:26.659Z"
   },
   {
    "duration": 454,
    "start_time": "2022-08-15T06:35:29.787Z"
   },
   {
    "duration": 4,
    "start_time": "2022-08-15T06:35:30.242Z"
   },
   {
    "duration": 55,
    "start_time": "2022-08-15T06:35:30.248Z"
   },
   {
    "duration": 18,
    "start_time": "2022-08-15T06:35:30.304Z"
   },
   {
    "duration": 104,
    "start_time": "2022-08-15T06:35:30.323Z"
   },
   {
    "duration": 30,
    "start_time": "2022-08-15T06:37:13.804Z"
   },
   {
    "duration": 31,
    "start_time": "2022-08-15T06:40:12.331Z"
   },
   {
    "duration": 107,
    "start_time": "2022-08-15T06:49:03.266Z"
   },
   {
    "duration": 21,
    "start_time": "2022-08-15T06:52:51.697Z"
   },
   {
    "duration": 20,
    "start_time": "2022-08-15T06:53:37.142Z"
   },
   {
    "duration": 20,
    "start_time": "2022-08-15T06:54:25.716Z"
   },
   {
    "duration": 20,
    "start_time": "2022-08-15T06:54:34.633Z"
   },
   {
    "duration": 18,
    "start_time": "2022-08-15T06:56:39.083Z"
   },
   {
    "duration": 19,
    "start_time": "2022-08-15T06:57:59.197Z"
   },
   {
    "duration": 1487,
    "start_time": "2022-08-15T08:00:41.465Z"
   },
   {
    "duration": 1383,
    "start_time": "2022-08-15T08:01:02.277Z"
   },
   {
    "duration": 20,
    "start_time": "2022-08-15T08:04:07.396Z"
   },
   {
    "duration": 1055,
    "start_time": "2022-08-15T08:04:25.651Z"
   },
   {
    "duration": 138,
    "start_time": "2022-08-15T08:04:26.708Z"
   },
   {
    "duration": 4,
    "start_time": "2022-08-15T08:04:26.848Z"
   },
   {
    "duration": 64,
    "start_time": "2022-08-15T08:04:26.853Z"
   },
   {
    "duration": 106,
    "start_time": "2022-08-15T08:04:26.918Z"
   },
   {
    "duration": 0,
    "start_time": "2022-08-15T08:04:27.025Z"
   },
   {
    "duration": 15,
    "start_time": "2022-08-15T08:04:51.394Z"
   },
   {
    "duration": 15,
    "start_time": "2022-08-15T08:05:12.183Z"
   },
   {
    "duration": 995,
    "start_time": "2022-08-15T08:05:22.459Z"
   },
   {
    "duration": 107,
    "start_time": "2022-08-15T08:05:23.457Z"
   },
   {
    "duration": 4,
    "start_time": "2022-08-15T08:05:23.565Z"
   },
   {
    "duration": 51,
    "start_time": "2022-08-15T08:05:23.570Z"
   },
   {
    "duration": 101,
    "start_time": "2022-08-15T08:05:23.623Z"
   },
   {
    "duration": 0,
    "start_time": "2022-08-15T08:05:23.726Z"
   },
   {
    "duration": 16,
    "start_time": "2022-08-15T08:05:53.261Z"
   },
   {
    "duration": 10,
    "start_time": "2022-08-15T08:06:20.892Z"
   },
   {
    "duration": 13,
    "start_time": "2022-08-15T08:06:38.914Z"
   },
   {
    "duration": 10,
    "start_time": "2022-08-15T08:07:11.034Z"
   },
   {
    "duration": 12,
    "start_time": "2022-08-15T08:07:21.049Z"
   },
   {
    "duration": 13,
    "start_time": "2022-08-15T08:08:45.270Z"
   },
   {
    "duration": 13,
    "start_time": "2022-08-15T08:10:04.257Z"
   },
   {
    "duration": 13,
    "start_time": "2022-08-15T08:10:20.513Z"
   },
   {
    "duration": 15,
    "start_time": "2022-08-15T08:10:29.353Z"
   },
   {
    "duration": 984,
    "start_time": "2022-08-15T08:10:38.459Z"
   },
   {
    "duration": 157,
    "start_time": "2022-08-15T08:10:39.445Z"
   },
   {
    "duration": 4,
    "start_time": "2022-08-15T08:10:39.604Z"
   },
   {
    "duration": 49,
    "start_time": "2022-08-15T08:10:39.609Z"
   },
   {
    "duration": 11,
    "start_time": "2022-08-15T08:10:39.660Z"
   },
   {
    "duration": 124,
    "start_time": "2022-08-15T08:10:39.673Z"
   },
   {
    "duration": 129,
    "start_time": "2022-08-15T08:11:01.258Z"
   },
   {
    "duration": 14,
    "start_time": "2022-08-15T08:11:19.656Z"
   },
   {
    "duration": 22,
    "start_time": "2022-08-15T08:11:28.072Z"
   },
   {
    "duration": 12,
    "start_time": "2022-08-15T08:11:43.305Z"
   },
   {
    "duration": 16,
    "start_time": "2022-08-15T08:12:34.332Z"
   },
   {
    "duration": 16,
    "start_time": "2022-08-15T08:12:56.655Z"
   },
   {
    "duration": 1574,
    "start_time": "2022-08-15T08:13:45.792Z"
   },
   {
    "duration": 216,
    "start_time": "2022-08-15T08:14:48.785Z"
   },
   {
    "duration": 210,
    "start_time": "2022-08-15T08:19:58.627Z"
   },
   {
    "duration": 225,
    "start_time": "2022-08-15T08:21:47.301Z"
   },
   {
    "duration": 213,
    "start_time": "2022-08-15T08:23:18.266Z"
   },
   {
    "duration": 224,
    "start_time": "2022-08-15T08:24:16.341Z"
   },
   {
    "duration": 207,
    "start_time": "2022-08-15T08:25:23.253Z"
   },
   {
    "duration": 266,
    "start_time": "2022-08-15T08:28:21.302Z"
   },
   {
    "duration": 202,
    "start_time": "2022-08-15T08:30:13.298Z"
   },
   {
    "duration": 196,
    "start_time": "2022-08-15T08:30:44.219Z"
   },
   {
    "duration": 190,
    "start_time": "2022-08-15T08:31:17.592Z"
   },
   {
    "duration": 226,
    "start_time": "2022-08-15T08:32:27.236Z"
   },
   {
    "duration": 205,
    "start_time": "2022-08-15T08:33:59.817Z"
   },
   {
    "duration": 215,
    "start_time": "2022-08-15T08:34:16.595Z"
   },
   {
    "duration": 205,
    "start_time": "2022-08-15T08:35:55.543Z"
   },
   {
    "duration": 200,
    "start_time": "2022-08-15T08:37:35.490Z"
   },
   {
    "duration": 200,
    "start_time": "2022-08-15T08:38:24.606Z"
   },
   {
    "duration": 323,
    "start_time": "2022-08-15T08:39:09.002Z"
   },
   {
    "duration": 201,
    "start_time": "2022-08-15T08:44:19.137Z"
   },
   {
    "duration": 196,
    "start_time": "2022-08-15T08:45:46.721Z"
   },
   {
    "duration": 184,
    "start_time": "2022-08-15T08:49:57.818Z"
   },
   {
    "duration": 196,
    "start_time": "2022-08-15T08:52:34.819Z"
   },
   {
    "duration": 173,
    "start_time": "2022-08-15T08:53:00.933Z"
   },
   {
    "duration": 207,
    "start_time": "2022-08-15T08:53:35.228Z"
   },
   {
    "duration": 231,
    "start_time": "2022-08-15T08:54:41.006Z"
   },
   {
    "duration": 77,
    "start_time": "2022-08-15T08:58:36.741Z"
   },
   {
    "duration": 226,
    "start_time": "2022-08-15T08:58:46.232Z"
   },
   {
    "duration": 270,
    "start_time": "2022-08-15T08:59:16.016Z"
   },
   {
    "duration": 225,
    "start_time": "2022-08-15T09:02:32.760Z"
   },
   {
    "duration": 324,
    "start_time": "2022-08-15T09:03:00.206Z"
   },
   {
    "duration": 357,
    "start_time": "2022-08-15T09:05:47.174Z"
   },
   {
    "duration": 329,
    "start_time": "2022-08-15T09:07:11.206Z"
   },
   {
    "duration": 373,
    "start_time": "2022-08-15T09:07:35.162Z"
   },
   {
    "duration": 1109,
    "start_time": "2022-08-15T09:08:06.871Z"
   },
   {
    "duration": 106,
    "start_time": "2022-08-15T09:08:07.981Z"
   },
   {
    "duration": 4,
    "start_time": "2022-08-15T09:08:08.088Z"
   },
   {
    "duration": 56,
    "start_time": "2022-08-15T09:08:08.094Z"
   },
   {
    "duration": 16,
    "start_time": "2022-08-15T09:08:08.152Z"
   },
   {
    "duration": 394,
    "start_time": "2022-08-15T09:08:08.170Z"
   },
   {
    "duration": 403,
    "start_time": "2022-08-15T09:08:58.840Z"
   },
   {
    "duration": 407,
    "start_time": "2022-08-15T09:09:14.020Z"
   },
   {
    "duration": 343,
    "start_time": "2022-08-15T09:10:54.503Z"
   },
   {
    "duration": 1674,
    "start_time": "2022-08-15T09:13:01.905Z"
   },
   {
    "duration": 340,
    "start_time": "2022-08-15T09:13:43.581Z"
   },
   {
    "duration": 350,
    "start_time": "2022-08-15T09:15:30.231Z"
   },
   {
    "duration": 452,
    "start_time": "2022-08-15T09:15:41.862Z"
   },
   {
    "duration": 338,
    "start_time": "2022-08-15T09:16:44.155Z"
   },
   {
    "duration": 406,
    "start_time": "2022-08-15T09:17:05.951Z"
   },
   {
    "duration": 356,
    "start_time": "2022-08-15T09:17:18.563Z"
   },
   {
    "duration": 237,
    "start_time": "2022-08-15T10:50:58.965Z"
   },
   {
    "duration": 352,
    "start_time": "2022-08-15T10:54:19.639Z"
   },
   {
    "duration": 262,
    "start_time": "2022-08-15T10:56:31.501Z"
   },
   {
    "duration": 366,
    "start_time": "2022-08-15T10:57:51.836Z"
   },
   {
    "duration": 341,
    "start_time": "2022-08-15T11:05:45.316Z"
   },
   {
    "duration": 364,
    "start_time": "2022-08-15T11:06:54.181Z"
   },
   {
    "duration": 82,
    "start_time": "2022-08-15T11:08:59.681Z"
   },
   {
    "duration": 13,
    "start_time": "2022-08-15T11:14:37.520Z"
   },
   {
    "duration": 1091,
    "start_time": "2022-08-15T11:14:53.386Z"
   },
   {
    "duration": 100,
    "start_time": "2022-08-15T11:14:54.479Z"
   },
   {
    "duration": 4,
    "start_time": "2022-08-15T11:14:54.580Z"
   },
   {
    "duration": 52,
    "start_time": "2022-08-15T11:14:54.586Z"
   },
   {
    "duration": 15,
    "start_time": "2022-08-15T11:14:54.639Z"
   },
   {
    "duration": 381,
    "start_time": "2022-08-15T11:14:54.655Z"
   },
   {
    "duration": 14,
    "start_time": "2022-08-15T11:14:55.038Z"
   },
   {
    "duration": 12,
    "start_time": "2022-08-15T11:15:37.253Z"
   },
   {
    "duration": 1448,
    "start_time": "2022-08-15T11:23:23.604Z"
   },
   {
    "duration": 324,
    "start_time": "2022-08-15T11:28:07.126Z"
   },
   {
    "duration": 301,
    "start_time": "2022-08-15T11:28:55.028Z"
   },
   {
    "duration": 8,
    "start_time": "2022-08-15T11:31:26.767Z"
   },
   {
    "duration": 103,
    "start_time": "2022-08-15T11:46:08.861Z"
   },
   {
    "duration": 114,
    "start_time": "2022-08-15T11:46:31.612Z"
   },
   {
    "duration": 161,
    "start_time": "2022-08-15T11:48:44.801Z"
   },
   {
    "duration": 0,
    "start_time": "2022-08-15T11:52:51.931Z"
   },
   {
    "duration": 5,
    "start_time": "2022-08-15T11:58:59.181Z"
   },
   {
    "duration": 52,
    "start_time": "2022-08-16T06:01:02.986Z"
   },
   {
    "duration": 1332,
    "start_time": "2022-08-16T06:01:15.428Z"
   },
   {
    "duration": 177,
    "start_time": "2022-08-16T06:01:16.762Z"
   },
   {
    "duration": 5,
    "start_time": "2022-08-16T06:01:16.941Z"
   },
   {
    "duration": 65,
    "start_time": "2022-08-16T06:01:16.948Z"
   },
   {
    "duration": 18,
    "start_time": "2022-08-16T06:01:17.016Z"
   },
   {
    "duration": 462,
    "start_time": "2022-08-16T06:01:17.036Z"
   },
   {
    "duration": 15,
    "start_time": "2022-08-16T06:01:17.500Z"
   },
   {
    "duration": 395,
    "start_time": "2022-08-16T06:01:17.517Z"
   },
   {
    "duration": 127,
    "start_time": "2022-08-16T06:01:17.914Z"
   },
   {
    "duration": 24,
    "start_time": "2022-08-16T06:02:14.404Z"
   },
   {
    "duration": 35,
    "start_time": "2022-08-16T06:07:24.024Z"
   },
   {
    "duration": 1236,
    "start_time": "2022-08-16T06:07:35.469Z"
   },
   {
    "duration": 135,
    "start_time": "2022-08-16T06:07:36.710Z"
   },
   {
    "duration": 4,
    "start_time": "2022-08-16T06:07:36.846Z"
   },
   {
    "duration": 75,
    "start_time": "2022-08-16T06:07:36.852Z"
   },
   {
    "duration": 17,
    "start_time": "2022-08-16T06:07:36.929Z"
   },
   {
    "duration": 434,
    "start_time": "2022-08-16T06:07:36.948Z"
   },
   {
    "duration": 21,
    "start_time": "2022-08-16T06:07:37.383Z"
   },
   {
    "duration": 392,
    "start_time": "2022-08-16T06:07:37.406Z"
   },
   {
    "duration": 2181,
    "start_time": "2022-08-16T06:07:37.806Z"
   },
   {
    "duration": 1347,
    "start_time": "2022-08-16T06:08:52.231Z"
   },
   {
    "duration": 35,
    "start_time": "2022-08-16T06:08:59.152Z"
   },
   {
    "duration": 31,
    "start_time": "2022-08-16T06:22:23.548Z"
   },
   {
    "duration": 53,
    "start_time": "2022-08-16T06:28:54.278Z"
   },
   {
    "duration": 47,
    "start_time": "2022-08-16T06:29:26.468Z"
   },
   {
    "duration": 47,
    "start_time": "2022-08-16T06:29:56.236Z"
   },
   {
    "duration": 46,
    "start_time": "2022-08-16T06:31:05.153Z"
   },
   {
    "duration": 69,
    "start_time": "2022-08-16T06:32:07.258Z"
   },
   {
    "duration": 56,
    "start_time": "2022-08-16T06:33:59.019Z"
   },
   {
    "duration": 32,
    "start_time": "2022-08-16T06:36:19.914Z"
   },
   {
    "duration": 29,
    "start_time": "2022-08-16T06:36:24.502Z"
   },
   {
    "duration": 45,
    "start_time": "2022-08-16T06:38:43.426Z"
   },
   {
    "duration": 37,
    "start_time": "2022-08-16T06:40:53.708Z"
   },
   {
    "duration": 54,
    "start_time": "2022-08-16T06:50:48.662Z"
   },
   {
    "duration": 67,
    "start_time": "2022-08-16T06:53:15.454Z"
   },
   {
    "duration": 55,
    "start_time": "2022-08-16T06:58:05.930Z"
   },
   {
    "duration": 1240,
    "start_time": "2022-08-16T06:58:53.383Z"
   },
   {
    "duration": 115,
    "start_time": "2022-08-16T06:58:54.625Z"
   },
   {
    "duration": 4,
    "start_time": "2022-08-16T06:58:54.741Z"
   },
   {
    "duration": 68,
    "start_time": "2022-08-16T06:58:54.748Z"
   },
   {
    "duration": 21,
    "start_time": "2022-08-16T06:58:54.818Z"
   },
   {
    "duration": 462,
    "start_time": "2022-08-16T06:58:54.841Z"
   },
   {
    "duration": 15,
    "start_time": "2022-08-16T06:58:55.305Z"
   },
   {
    "duration": 378,
    "start_time": "2022-08-16T06:58:55.322Z"
   },
   {
    "duration": 152,
    "start_time": "2022-08-16T06:58:55.703Z"
   },
   {
    "duration": 49,
    "start_time": "2022-08-16T06:59:18.728Z"
   },
   {
    "duration": 53,
    "start_time": "2022-08-16T06:59:51.085Z"
   },
   {
    "duration": 52,
    "start_time": "2022-08-16T07:48:22.480Z"
   },
   {
    "duration": 54,
    "start_time": "2022-08-16T07:48:37.880Z"
   },
   {
    "duration": 1228,
    "start_time": "2022-08-16T07:48:46.279Z"
   },
   {
    "duration": 133,
    "start_time": "2022-08-16T07:48:47.509Z"
   },
   {
    "duration": 4,
    "start_time": "2022-08-16T07:48:47.644Z"
   },
   {
    "duration": 73,
    "start_time": "2022-08-16T07:48:47.650Z"
   },
   {
    "duration": 17,
    "start_time": "2022-08-16T07:48:47.725Z"
   },
   {
    "duration": 428,
    "start_time": "2022-08-16T07:48:47.744Z"
   },
   {
    "duration": 31,
    "start_time": "2022-08-16T07:48:48.174Z"
   },
   {
    "duration": 373,
    "start_time": "2022-08-16T07:48:48.207Z"
   },
   {
    "duration": 68,
    "start_time": "2022-08-16T07:48:48.581Z"
   },
   {
    "duration": 1657,
    "start_time": "2022-08-16T07:51:58.952Z"
   },
   {
    "duration": 285,
    "start_time": "2022-08-16T07:52:36.226Z"
   },
   {
    "duration": 1198,
    "start_time": "2022-08-16T07:52:49.404Z"
   },
   {
    "duration": 114,
    "start_time": "2022-08-16T07:52:50.605Z"
   },
   {
    "duration": 4,
    "start_time": "2022-08-16T07:52:50.721Z"
   },
   {
    "duration": 97,
    "start_time": "2022-08-16T07:52:50.727Z"
   },
   {
    "duration": 19,
    "start_time": "2022-08-16T07:52:50.826Z"
   },
   {
    "duration": 451,
    "start_time": "2022-08-16T07:52:50.847Z"
   },
   {
    "duration": 17,
    "start_time": "2022-08-16T07:52:51.299Z"
   },
   {
    "duration": 373,
    "start_time": "2022-08-16T07:52:51.318Z"
   },
   {
    "duration": 353,
    "start_time": "2022-08-16T07:52:51.695Z"
   },
   {
    "duration": 1596,
    "start_time": "2022-08-16T07:53:15.949Z"
   },
   {
    "duration": 1221,
    "start_time": "2022-08-16T07:53:24.630Z"
   },
   {
    "duration": 129,
    "start_time": "2022-08-16T07:53:25.855Z"
   },
   {
    "duration": 4,
    "start_time": "2022-08-16T07:53:25.986Z"
   },
   {
    "duration": 67,
    "start_time": "2022-08-16T07:53:25.995Z"
   },
   {
    "duration": 34,
    "start_time": "2022-08-16T07:53:26.064Z"
   },
   {
    "duration": 455,
    "start_time": "2022-08-16T07:53:26.107Z"
   },
   {
    "duration": 14,
    "start_time": "2022-08-16T07:53:26.564Z"
   },
   {
    "duration": 337,
    "start_time": "2022-08-16T07:53:26.599Z"
   },
   {
    "duration": 243,
    "start_time": "2022-08-16T07:53:26.938Z"
   },
   {
    "duration": 1581,
    "start_time": "2022-08-16T07:53:56.590Z"
   },
   {
    "duration": 239,
    "start_time": "2022-08-16T07:54:32.519Z"
   },
   {
    "duration": 1233,
    "start_time": "2022-08-16T07:54:44.791Z"
   },
   {
    "duration": 123,
    "start_time": "2022-08-16T07:54:46.026Z"
   },
   {
    "duration": 4,
    "start_time": "2022-08-16T07:54:46.150Z"
   },
   {
    "duration": 67,
    "start_time": "2022-08-16T07:54:46.157Z"
   },
   {
    "duration": 17,
    "start_time": "2022-08-16T07:54:46.226Z"
   },
   {
    "duration": 431,
    "start_time": "2022-08-16T07:54:46.245Z"
   },
   {
    "duration": 25,
    "start_time": "2022-08-16T07:54:46.678Z"
   },
   {
    "duration": 326,
    "start_time": "2022-08-16T07:54:46.704Z"
   },
   {
    "duration": 272,
    "start_time": "2022-08-16T07:54:47.032Z"
   },
   {
    "duration": 2026,
    "start_time": "2022-08-16T07:55:23.883Z"
   },
   {
    "duration": 1199,
    "start_time": "2022-08-16T07:55:33.404Z"
   },
   {
    "duration": 118,
    "start_time": "2022-08-16T07:55:34.605Z"
   },
   {
    "duration": 4,
    "start_time": "2022-08-16T07:55:34.724Z"
   },
   {
    "duration": 78,
    "start_time": "2022-08-16T07:55:34.731Z"
   },
   {
    "duration": 19,
    "start_time": "2022-08-16T07:55:34.810Z"
   },
   {
    "duration": 428,
    "start_time": "2022-08-16T07:55:34.831Z"
   },
   {
    "duration": 14,
    "start_time": "2022-08-16T07:55:35.261Z"
   },
   {
    "duration": 343,
    "start_time": "2022-08-16T07:55:35.277Z"
   },
   {
    "duration": 253,
    "start_time": "2022-08-16T07:55:35.621Z"
   },
   {
    "duration": 1622,
    "start_time": "2022-08-16T07:56:10.205Z"
   },
   {
    "duration": 1137,
    "start_time": "2022-08-16T07:56:17.134Z"
   },
   {
    "duration": 138,
    "start_time": "2022-08-16T07:56:18.273Z"
   },
   {
    "duration": 4,
    "start_time": "2022-08-16T07:56:18.413Z"
   },
   {
    "duration": 55,
    "start_time": "2022-08-16T07:56:18.420Z"
   },
   {
    "duration": 34,
    "start_time": "2022-08-16T07:56:18.476Z"
   },
   {
    "duration": 429,
    "start_time": "2022-08-16T07:56:18.512Z"
   },
   {
    "duration": 13,
    "start_time": "2022-08-16T07:56:18.942Z"
   },
   {
    "duration": 352,
    "start_time": "2022-08-16T07:56:18.957Z"
   },
   {
    "duration": 328,
    "start_time": "2022-08-16T07:56:19.311Z"
   },
   {
    "duration": 1767,
    "start_time": "2022-08-16T07:56:43.911Z"
   },
   {
    "duration": 1233,
    "start_time": "2022-08-16T07:56:51.582Z"
   },
   {
    "duration": 125,
    "start_time": "2022-08-16T07:56:52.817Z"
   },
   {
    "duration": 5,
    "start_time": "2022-08-16T07:56:52.943Z"
   },
   {
    "duration": 72,
    "start_time": "2022-08-16T07:56:52.949Z"
   },
   {
    "duration": 19,
    "start_time": "2022-08-16T07:56:53.023Z"
   },
   {
    "duration": 437,
    "start_time": "2022-08-16T07:56:53.044Z"
   },
   {
    "duration": 29,
    "start_time": "2022-08-16T07:56:53.483Z"
   },
   {
    "duration": 403,
    "start_time": "2022-08-16T07:56:53.514Z"
   },
   {
    "duration": 268,
    "start_time": "2022-08-16T07:56:53.919Z"
   },
   {
    "duration": 1215,
    "start_time": "2022-08-16T07:58:14.705Z"
   },
   {
    "duration": 131,
    "start_time": "2022-08-16T07:58:15.922Z"
   },
   {
    "duration": 5,
    "start_time": "2022-08-16T07:58:16.055Z"
   },
   {
    "duration": 87,
    "start_time": "2022-08-16T07:58:16.061Z"
   },
   {
    "duration": 18,
    "start_time": "2022-08-16T07:58:16.150Z"
   },
   {
    "duration": 398,
    "start_time": "2022-08-16T07:58:16.170Z"
   },
   {
    "duration": 24,
    "start_time": "2022-08-16T07:58:16.570Z"
   },
   {
    "duration": 355,
    "start_time": "2022-08-16T07:58:16.600Z"
   },
   {
    "duration": 264,
    "start_time": "2022-08-16T07:58:16.957Z"
   },
   {
    "duration": 1471,
    "start_time": "2022-08-16T07:59:05.980Z"
   },
   {
    "duration": 1169,
    "start_time": "2022-08-16T07:59:25.430Z"
   },
   {
    "duration": 114,
    "start_time": "2022-08-16T07:59:26.601Z"
   },
   {
    "duration": 4,
    "start_time": "2022-08-16T07:59:26.717Z"
   },
   {
    "duration": 70,
    "start_time": "2022-08-16T07:59:26.724Z"
   },
   {
    "duration": 19,
    "start_time": "2022-08-16T07:59:26.796Z"
   },
   {
    "duration": 450,
    "start_time": "2022-08-16T07:59:26.817Z"
   },
   {
    "duration": 15,
    "start_time": "2022-08-16T07:59:27.268Z"
   },
   {
    "duration": 325,
    "start_time": "2022-08-16T07:59:27.291Z"
   },
   {
    "duration": 248,
    "start_time": "2022-08-16T07:59:27.618Z"
   },
   {
    "duration": 1168,
    "start_time": "2022-08-16T08:00:03.828Z"
   },
   {
    "duration": 131,
    "start_time": "2022-08-16T08:00:04.998Z"
   },
   {
    "duration": 4,
    "start_time": "2022-08-16T08:00:05.131Z"
   },
   {
    "duration": 101,
    "start_time": "2022-08-16T08:00:05.137Z"
   },
   {
    "duration": 19,
    "start_time": "2022-08-16T08:00:05.240Z"
   },
   {
    "duration": 385,
    "start_time": "2022-08-16T08:00:05.260Z"
   },
   {
    "duration": 15,
    "start_time": "2022-08-16T08:00:05.647Z"
   },
   {
    "duration": 362,
    "start_time": "2022-08-16T08:00:05.663Z"
   },
   {
    "duration": 269,
    "start_time": "2022-08-16T08:00:06.027Z"
   },
   {
    "duration": 1791,
    "start_time": "2022-08-16T08:00:58.080Z"
   },
   {
    "duration": 1245,
    "start_time": "2022-08-16T08:01:08.467Z"
   },
   {
    "duration": 125,
    "start_time": "2022-08-16T08:01:09.714Z"
   },
   {
    "duration": 5,
    "start_time": "2022-08-16T08:01:09.840Z"
   },
   {
    "duration": 75,
    "start_time": "2022-08-16T08:01:09.847Z"
   },
   {
    "duration": 18,
    "start_time": "2022-08-16T08:01:09.923Z"
   },
   {
    "duration": 441,
    "start_time": "2022-08-16T08:01:09.943Z"
   },
   {
    "duration": 18,
    "start_time": "2022-08-16T08:01:10.386Z"
   },
   {
    "duration": 388,
    "start_time": "2022-08-16T08:01:10.406Z"
   },
   {
    "duration": 290,
    "start_time": "2022-08-16T08:01:10.796Z"
   },
   {
    "duration": 1146,
    "start_time": "2022-08-16T08:02:04.247Z"
   },
   {
    "duration": 112,
    "start_time": "2022-08-16T08:02:05.395Z"
   },
   {
    "duration": 4,
    "start_time": "2022-08-16T08:02:05.509Z"
   },
   {
    "duration": 66,
    "start_time": "2022-08-16T08:02:05.516Z"
   },
   {
    "duration": 23,
    "start_time": "2022-08-16T08:02:05.583Z"
   },
   {
    "duration": 434,
    "start_time": "2022-08-16T08:02:05.607Z"
   },
   {
    "duration": 14,
    "start_time": "2022-08-16T08:02:06.042Z"
   },
   {
    "duration": 336,
    "start_time": "2022-08-16T08:02:06.058Z"
   },
   {
    "duration": 246,
    "start_time": "2022-08-16T08:02:06.395Z"
   },
   {
    "duration": 1235,
    "start_time": "2022-08-16T08:07:52.561Z"
   },
   {
    "duration": 124,
    "start_time": "2022-08-16T08:07:53.798Z"
   },
   {
    "duration": 4,
    "start_time": "2022-08-16T08:07:53.924Z"
   },
   {
    "duration": 83,
    "start_time": "2022-08-16T08:07:53.930Z"
   },
   {
    "duration": 18,
    "start_time": "2022-08-16T08:07:54.015Z"
   },
   {
    "duration": 426,
    "start_time": "2022-08-16T08:07:54.035Z"
   },
   {
    "duration": 15,
    "start_time": "2022-08-16T08:07:54.463Z"
   },
   {
    "duration": 313,
    "start_time": "2022-08-16T08:07:54.492Z"
   },
   {
    "duration": 318,
    "start_time": "2022-08-16T08:07:54.807Z"
   },
   {
    "duration": 1170,
    "start_time": "2022-08-16T08:08:38.836Z"
   },
   {
    "duration": 147,
    "start_time": "2022-08-16T08:08:40.008Z"
   },
   {
    "duration": 4,
    "start_time": "2022-08-16T08:08:40.157Z"
   },
   {
    "duration": 61,
    "start_time": "2022-08-16T08:08:40.163Z"
   },
   {
    "duration": 18,
    "start_time": "2022-08-16T08:08:40.227Z"
   },
   {
    "duration": 434,
    "start_time": "2022-08-16T08:08:40.247Z"
   },
   {
    "duration": 19,
    "start_time": "2022-08-16T08:08:40.683Z"
   },
   {
    "duration": 345,
    "start_time": "2022-08-16T08:08:40.703Z"
   },
   {
    "duration": 242,
    "start_time": "2022-08-16T08:08:41.050Z"
   },
   {
    "duration": 1160,
    "start_time": "2022-08-16T08:10:12.608Z"
   },
   {
    "duration": 117,
    "start_time": "2022-08-16T08:10:13.770Z"
   },
   {
    "duration": 5,
    "start_time": "2022-08-16T08:10:13.889Z"
   },
   {
    "duration": 89,
    "start_time": "2022-08-16T08:10:13.896Z"
   },
   {
    "duration": 18,
    "start_time": "2022-08-16T08:10:13.987Z"
   },
   {
    "duration": 438,
    "start_time": "2022-08-16T08:10:14.007Z"
   },
   {
    "duration": 14,
    "start_time": "2022-08-16T08:10:14.447Z"
   },
   {
    "duration": 341,
    "start_time": "2022-08-16T08:10:14.463Z"
   },
   {
    "duration": 239,
    "start_time": "2022-08-16T08:10:14.806Z"
   },
   {
    "duration": 1356,
    "start_time": "2022-08-16T08:22:39.867Z"
   },
   {
    "duration": 152,
    "start_time": "2022-08-16T08:22:41.225Z"
   },
   {
    "duration": 5,
    "start_time": "2022-08-16T08:22:41.379Z"
   },
   {
    "duration": 72,
    "start_time": "2022-08-16T08:22:41.386Z"
   },
   {
    "duration": 33,
    "start_time": "2022-08-16T08:22:41.460Z"
   },
   {
    "duration": 486,
    "start_time": "2022-08-16T08:22:41.495Z"
   },
   {
    "duration": 24,
    "start_time": "2022-08-16T08:22:41.984Z"
   },
   {
    "duration": 411,
    "start_time": "2022-08-16T08:22:42.011Z"
   },
   {
    "duration": 337,
    "start_time": "2022-08-16T08:22:42.423Z"
   },
   {
    "duration": 134,
    "start_time": "2022-08-16T08:22:42.763Z"
   },
   {
    "duration": 367,
    "start_time": "2022-08-16T08:50:10.847Z"
   },
   {
    "duration": 253,
    "start_time": "2022-08-16T08:57:45.199Z"
   },
   {
    "duration": 265,
    "start_time": "2022-08-16T08:58:05.910Z"
   },
   {
    "duration": 277,
    "start_time": "2022-08-16T09:00:17.487Z"
   },
   {
    "duration": 833,
    "start_time": "2022-08-16T09:02:17.956Z"
   },
   {
    "duration": 723,
    "start_time": "2022-08-16T09:03:45.138Z"
   },
   {
    "duration": 775,
    "start_time": "2022-08-16T09:04:11.364Z"
   },
   {
    "duration": 710,
    "start_time": "2022-08-16T09:04:28.500Z"
   },
   {
    "duration": 864,
    "start_time": "2022-08-16T09:04:47.787Z"
   },
   {
    "duration": 697,
    "start_time": "2022-08-16T09:05:04.778Z"
   },
   {
    "duration": 915,
    "start_time": "2022-08-16T09:05:11.904Z"
   },
   {
    "duration": 695,
    "start_time": "2022-08-16T09:05:25.264Z"
   },
   {
    "duration": 706,
    "start_time": "2022-08-16T09:05:46.760Z"
   },
   {
    "duration": 830,
    "start_time": "2022-08-16T09:05:58.401Z"
   },
   {
    "duration": 715,
    "start_time": "2022-08-16T09:06:50.192Z"
   },
   {
    "duration": 16,
    "start_time": "2022-08-16T09:07:05.352Z"
   },
   {
    "duration": 746,
    "start_time": "2022-08-16T09:09:19.368Z"
   },
   {
    "duration": 743,
    "start_time": "2022-08-16T09:10:33.884Z"
   },
   {
    "duration": 774,
    "start_time": "2022-08-16T09:10:41.282Z"
   },
   {
    "duration": 920,
    "start_time": "2022-08-16T09:10:52.105Z"
   },
   {
    "duration": 740,
    "start_time": "2022-08-16T09:11:50.736Z"
   },
   {
    "duration": 859,
    "start_time": "2022-08-16T09:12:31.751Z"
   },
   {
    "duration": 124,
    "start_time": "2022-08-16T09:13:49.961Z"
   },
   {
    "duration": 730,
    "start_time": "2022-08-16T09:14:03.619Z"
   },
   {
    "duration": 814,
    "start_time": "2022-08-16T09:15:31.472Z"
   },
   {
    "duration": 840,
    "start_time": "2022-08-16T09:16:49.442Z"
   },
   {
    "duration": 762,
    "start_time": "2022-08-16T09:16:55.544Z"
   },
   {
    "duration": 844,
    "start_time": "2022-08-16T09:23:41.298Z"
   },
   {
    "duration": 163,
    "start_time": "2022-08-16T09:29:19.590Z"
   },
   {
    "duration": 717,
    "start_time": "2022-08-16T09:30:20.004Z"
   },
   {
    "duration": 10,
    "start_time": "2022-08-16T09:39:16.579Z"
   },
   {
    "duration": 1173,
    "start_time": "2022-08-16T09:39:28.224Z"
   },
   {
    "duration": 113,
    "start_time": "2022-08-16T09:39:29.400Z"
   },
   {
    "duration": 5,
    "start_time": "2022-08-16T09:39:29.514Z"
   },
   {
    "duration": 60,
    "start_time": "2022-08-16T09:39:29.521Z"
   },
   {
    "duration": 17,
    "start_time": "2022-08-16T09:39:29.591Z"
   },
   {
    "duration": 458,
    "start_time": "2022-08-16T09:39:29.610Z"
   },
   {
    "duration": 24,
    "start_time": "2022-08-16T09:39:30.070Z"
   },
   {
    "duration": 327,
    "start_time": "2022-08-16T09:39:30.096Z"
   },
   {
    "duration": 251,
    "start_time": "2022-08-16T09:39:30.425Z"
   },
   {
    "duration": 729,
    "start_time": "2022-08-16T09:39:30.678Z"
   },
   {
    "duration": 11,
    "start_time": "2022-08-16T09:39:31.409Z"
   },
   {
    "duration": 12,
    "start_time": "2022-08-16T09:40:40.913Z"
   },
   {
    "duration": 10,
    "start_time": "2022-08-16T09:40:58.535Z"
   },
   {
    "duration": 826,
    "start_time": "2022-08-16T09:51:04.571Z"
   },
   {
    "duration": 14,
    "start_time": "2022-08-16T09:51:36.729Z"
   },
   {
    "duration": 18,
    "start_time": "2022-08-16T09:53:22.105Z"
   },
   {
    "duration": 13,
    "start_time": "2022-08-16T09:53:59.315Z"
   },
   {
    "duration": 14,
    "start_time": "2022-08-16T09:54:26.496Z"
   },
   {
    "duration": 14,
    "start_time": "2022-08-16T09:54:33.573Z"
   },
   {
    "duration": 16,
    "start_time": "2022-08-16T09:54:38.045Z"
   },
   {
    "duration": 13,
    "start_time": "2022-08-16T09:58:58.668Z"
   },
   {
    "duration": 106,
    "start_time": "2022-08-16T10:01:16.669Z"
   },
   {
    "duration": 7,
    "start_time": "2022-08-16T10:02:34.185Z"
   },
   {
    "duration": 15,
    "start_time": "2022-08-16T10:02:39.929Z"
   },
   {
    "duration": 14,
    "start_time": "2022-08-16T10:02:52.945Z"
   },
   {
    "duration": 24,
    "start_time": "2022-08-16T10:09:41.987Z"
   },
   {
    "duration": 39,
    "start_time": "2022-08-16T10:11:21.780Z"
   },
   {
    "duration": 20,
    "start_time": "2022-08-16T10:11:49.889Z"
   },
   {
    "duration": 29,
    "start_time": "2022-08-16T10:12:37.245Z"
   },
   {
    "duration": 23,
    "start_time": "2022-08-16T10:13:47.639Z"
   },
   {
    "duration": 1503,
    "start_time": "2022-08-16T10:25:40.727Z"
   },
   {
    "duration": 22,
    "start_time": "2022-08-16T10:25:49.769Z"
   },
   {
    "duration": 1312,
    "start_time": "2022-08-16T10:25:59.987Z"
   },
   {
    "duration": 129,
    "start_time": "2022-08-16T10:26:01.302Z"
   },
   {
    "duration": 7,
    "start_time": "2022-08-16T10:26:01.433Z"
   },
   {
    "duration": 115,
    "start_time": "2022-08-16T10:26:01.442Z"
   },
   {
    "duration": 39,
    "start_time": "2022-08-16T10:26:01.559Z"
   },
   {
    "duration": 548,
    "start_time": "2022-08-16T10:26:01.600Z"
   },
   {
    "duration": 20,
    "start_time": "2022-08-16T10:26:02.150Z"
   },
   {
    "duration": 414,
    "start_time": "2022-08-16T10:26:02.172Z"
   },
   {
    "duration": 294,
    "start_time": "2022-08-16T10:26:02.588Z"
   },
   {
    "duration": 771,
    "start_time": "2022-08-16T10:26:02.884Z"
   },
   {
    "duration": 35,
    "start_time": "2022-08-16T10:26:03.657Z"
   },
   {
    "duration": 1564,
    "start_time": "2022-08-16T10:26:03.694Z"
   },
   {
    "duration": 201,
    "start_time": "2022-08-16T10:26:57.100Z"
   },
   {
    "duration": 160,
    "start_time": "2022-08-16T10:27:16.004Z"
   },
   {
    "duration": 166,
    "start_time": "2022-08-16T10:27:31.539Z"
   },
   {
    "duration": 151,
    "start_time": "2022-08-16T10:28:02.242Z"
   },
   {
    "duration": 138,
    "start_time": "2022-08-16T10:28:44.074Z"
   },
   {
    "duration": 181,
    "start_time": "2022-08-16T10:29:04.286Z"
   },
   {
    "duration": 170,
    "start_time": "2022-08-16T10:29:24.045Z"
   },
   {
    "duration": 212,
    "start_time": "2022-08-16T10:29:41.977Z"
   },
   {
    "duration": 183,
    "start_time": "2022-08-16T10:30:04.855Z"
   },
   {
    "duration": 161,
    "start_time": "2022-08-16T10:30:18.808Z"
   },
   {
    "duration": 119,
    "start_time": "2022-08-16T10:30:55.338Z"
   },
   {
    "duration": 131,
    "start_time": "2022-08-16T10:31:12.396Z"
   },
   {
    "duration": 138,
    "start_time": "2022-08-16T10:34:21.687Z"
   },
   {
    "duration": 184,
    "start_time": "2022-08-16T10:34:30.915Z"
   },
   {
    "duration": 188,
    "start_time": "2022-08-16T10:35:01.123Z"
   },
   {
    "duration": 1293,
    "start_time": "2022-08-16T10:35:49.138Z"
   },
   {
    "duration": 160,
    "start_time": "2022-08-16T10:35:50.433Z"
   },
   {
    "duration": 4,
    "start_time": "2022-08-16T10:35:50.595Z"
   },
   {
    "duration": 70,
    "start_time": "2022-08-16T10:35:50.602Z"
   },
   {
    "duration": 34,
    "start_time": "2022-08-16T10:35:50.674Z"
   },
   {
    "duration": 477,
    "start_time": "2022-08-16T10:35:50.710Z"
   },
   {
    "duration": 15,
    "start_time": "2022-08-16T10:35:51.189Z"
   },
   {
    "duration": 398,
    "start_time": "2022-08-16T10:35:51.206Z"
   },
   {
    "duration": 329,
    "start_time": "2022-08-16T10:35:51.606Z"
   },
   {
    "duration": 823,
    "start_time": "2022-08-16T10:35:51.938Z"
   },
   {
    "duration": 32,
    "start_time": "2022-08-16T10:35:52.763Z"
   },
   {
    "duration": 203,
    "start_time": "2022-08-16T10:35:52.796Z"
   },
   {
    "duration": 253,
    "start_time": "2022-08-16T10:39:52.509Z"
   },
   {
    "duration": 167,
    "start_time": "2022-08-16T10:40:12.407Z"
   },
   {
    "duration": 1514,
    "start_time": "2022-08-16T10:40:23.119Z"
   },
   {
    "duration": 155,
    "start_time": "2022-08-16T10:40:24.636Z"
   },
   {
    "duration": 6,
    "start_time": "2022-08-16T10:40:24.793Z"
   },
   {
    "duration": 70,
    "start_time": "2022-08-16T10:40:24.800Z"
   },
   {
    "duration": 21,
    "start_time": "2022-08-16T10:40:24.892Z"
   },
   {
    "duration": 470,
    "start_time": "2022-08-16T10:40:24.915Z"
   },
   {
    "duration": 19,
    "start_time": "2022-08-16T10:40:25.391Z"
   },
   {
    "duration": 423,
    "start_time": "2022-08-16T10:40:25.412Z"
   },
   {
    "duration": 274,
    "start_time": "2022-08-16T10:40:25.837Z"
   },
   {
    "duration": 761,
    "start_time": "2022-08-16T10:40:26.113Z"
   },
   {
    "duration": 33,
    "start_time": "2022-08-16T10:40:26.876Z"
   },
   {
    "duration": 245,
    "start_time": "2022-08-16T10:40:26.911Z"
   },
   {
    "duration": 277,
    "start_time": "2022-08-16T10:40:39.974Z"
   },
   {
    "duration": 26,
    "start_time": "2022-08-16T10:41:49.529Z"
   },
   {
    "duration": 177,
    "start_time": "2022-08-16T10:41:57.526Z"
   },
   {
    "duration": 169,
    "start_time": "2022-08-16T10:42:05.554Z"
   },
   {
    "duration": 24,
    "start_time": "2022-08-16T10:42:34.095Z"
   },
   {
    "duration": 187,
    "start_time": "2022-08-16T10:42:38.921Z"
   },
   {
    "duration": 167,
    "start_time": "2022-08-16T10:44:20.735Z"
   },
   {
    "duration": 171,
    "start_time": "2022-08-16T10:44:41.302Z"
   },
   {
    "duration": 184,
    "start_time": "2022-08-16T10:44:58.447Z"
   },
   {
    "duration": 563,
    "start_time": "2022-08-16T10:59:56.121Z"
   },
   {
    "duration": 190,
    "start_time": "2022-08-16T11:02:08.154Z"
   },
   {
    "duration": 209,
    "start_time": "2022-08-16T11:03:13.862Z"
   },
   {
    "duration": 220,
    "start_time": "2022-08-16T11:04:05.044Z"
   },
   {
    "duration": 135,
    "start_time": "2022-08-16T11:04:59.553Z"
   },
   {
    "duration": 78,
    "start_time": "2022-08-16T11:06:08.672Z"
   },
   {
    "duration": 190,
    "start_time": "2022-08-16T11:06:32.493Z"
   },
   {
    "duration": 223,
    "start_time": "2022-08-16T11:07:51.237Z"
   },
   {
    "duration": 192,
    "start_time": "2022-08-16T11:08:47.544Z"
   },
   {
    "duration": 203,
    "start_time": "2022-08-16T11:09:09.540Z"
   },
   {
    "duration": 206,
    "start_time": "2022-08-16T11:09:27.973Z"
   },
   {
    "duration": 194,
    "start_time": "2022-08-16T11:09:42.984Z"
   },
   {
    "duration": 209,
    "start_time": "2022-08-16T11:10:39.435Z"
   },
   {
    "duration": 185,
    "start_time": "2022-08-16T11:10:54.825Z"
   },
   {
    "duration": 217,
    "start_time": "2022-08-16T11:11:11.702Z"
   },
   {
    "duration": 204,
    "start_time": "2022-08-16T11:11:42.852Z"
   },
   {
    "duration": 218,
    "start_time": "2022-08-16T11:13:08.301Z"
   },
   {
    "duration": 59,
    "start_time": "2022-08-16T11:24:51.548Z"
   },
   {
    "duration": 13,
    "start_time": "2022-08-16T11:26:12.875Z"
   },
   {
    "duration": 142,
    "start_time": "2022-08-16T11:32:38.634Z"
   },
   {
    "duration": 69,
    "start_time": "2022-08-16T11:33:10.204Z"
   },
   {
    "duration": 63,
    "start_time": "2022-08-16T11:33:47.831Z"
   },
   {
    "duration": 65,
    "start_time": "2022-08-16T11:38:42.581Z"
   },
   {
    "duration": 12,
    "start_time": "2022-08-16T11:38:57.350Z"
   },
   {
    "duration": 64,
    "start_time": "2022-08-16T11:43:58.434Z"
   },
   {
    "duration": 46,
    "start_time": "2022-08-16T11:44:37.370Z"
   },
   {
    "duration": 121,
    "start_time": "2022-08-16T11:44:44.184Z"
   },
   {
    "duration": 57,
    "start_time": "2022-08-16T11:49:44.108Z"
   },
   {
    "duration": 54,
    "start_time": "2022-08-16T11:51:20.521Z"
   },
   {
    "duration": 59,
    "start_time": "2022-08-16T11:52:53.831Z"
   },
   {
    "duration": 69,
    "start_time": "2022-08-16T11:55:43.210Z"
   },
   {
    "duration": 122,
    "start_time": "2022-08-16T11:56:01.423Z"
   },
   {
    "duration": 274,
    "start_time": "2022-08-16T11:56:07.660Z"
   },
   {
    "duration": 86,
    "start_time": "2022-08-16T11:57:14.989Z"
   },
   {
    "duration": 93,
    "start_time": "2022-08-16T11:57:35.360Z"
   },
   {
    "duration": 64,
    "start_time": "2022-08-16T11:57:57.228Z"
   },
   {
    "duration": 115,
    "start_time": "2022-08-16T11:58:41.791Z"
   },
   {
    "duration": 43,
    "start_time": "2022-08-17T05:33:04.536Z"
   },
   {
    "duration": 1241,
    "start_time": "2022-08-17T05:33:11.841Z"
   },
   {
    "duration": 161,
    "start_time": "2022-08-17T05:33:13.084Z"
   },
   {
    "duration": 3,
    "start_time": "2022-08-17T05:33:13.247Z"
   },
   {
    "duration": 56,
    "start_time": "2022-08-17T05:33:13.252Z"
   },
   {
    "duration": 15,
    "start_time": "2022-08-17T05:33:13.310Z"
   },
   {
    "duration": 444,
    "start_time": "2022-08-17T05:33:13.326Z"
   },
   {
    "duration": 13,
    "start_time": "2022-08-17T05:33:13.771Z"
   },
   {
    "duration": 330,
    "start_time": "2022-08-17T05:33:13.785Z"
   },
   {
    "duration": 233,
    "start_time": "2022-08-17T05:33:14.116Z"
   },
   {
    "duration": 635,
    "start_time": "2022-08-17T05:33:14.352Z"
   },
   {
    "duration": 185,
    "start_time": "2022-08-17T05:33:14.989Z"
   },
   {
    "duration": 113,
    "start_time": "2022-08-17T05:33:15.176Z"
   },
   {
    "duration": 175,
    "start_time": "2022-08-17T05:33:15.290Z"
   },
   {
    "duration": 93,
    "start_time": "2022-08-17T05:34:59.332Z"
   },
   {
    "duration": 126,
    "start_time": "2022-08-17T05:35:04.872Z"
   },
   {
    "duration": 55,
    "start_time": "2022-08-17T05:42:34.112Z"
   },
   {
    "duration": 57,
    "start_time": "2022-08-17T05:44:18.616Z"
   },
   {
    "duration": 57,
    "start_time": "2022-08-17T05:44:23.196Z"
   },
   {
    "duration": 130,
    "start_time": "2022-08-17T05:44:49.335Z"
   },
   {
    "duration": 52,
    "start_time": "2022-08-17T05:45:25.185Z"
   },
   {
    "duration": 49,
    "start_time": "2022-08-17T05:47:02.377Z"
   },
   {
    "duration": 53,
    "start_time": "2022-08-17T05:47:38.979Z"
   },
   {
    "duration": 49,
    "start_time": "2022-08-17T05:49:48.768Z"
   },
   {
    "duration": 51,
    "start_time": "2022-08-17T05:50:08.662Z"
   },
   {
    "duration": 109,
    "start_time": "2022-08-17T05:50:24.579Z"
   },
   {
    "duration": 48,
    "start_time": "2022-08-17T05:53:03.724Z"
   },
   {
    "duration": 1085,
    "start_time": "2022-08-17T05:53:12.366Z"
   },
   {
    "duration": 150,
    "start_time": "2022-08-17T05:53:13.453Z"
   },
   {
    "duration": 4,
    "start_time": "2022-08-17T05:53:13.604Z"
   },
   {
    "duration": 62,
    "start_time": "2022-08-17T05:53:13.610Z"
   },
   {
    "duration": 15,
    "start_time": "2022-08-17T05:53:13.673Z"
   },
   {
    "duration": 359,
    "start_time": "2022-08-17T05:53:13.689Z"
   },
   {
    "duration": 18,
    "start_time": "2022-08-17T05:53:14.050Z"
   },
   {
    "duration": 329,
    "start_time": "2022-08-17T05:53:14.070Z"
   },
   {
    "duration": 232,
    "start_time": "2022-08-17T05:53:14.405Z"
   },
   {
    "duration": 628,
    "start_time": "2022-08-17T05:53:14.639Z"
   },
   {
    "duration": 183,
    "start_time": "2022-08-17T05:53:15.268Z"
   },
   {
    "duration": 123,
    "start_time": "2022-08-17T05:53:15.452Z"
   },
   {
    "duration": 183,
    "start_time": "2022-08-17T05:53:15.576Z"
   },
   {
    "duration": 112,
    "start_time": "2022-08-17T05:53:46.681Z"
   },
   {
    "duration": 47,
    "start_time": "2022-08-17T05:53:52.792Z"
   },
   {
    "duration": 45,
    "start_time": "2022-08-17T05:53:58.753Z"
   },
   {
    "duration": 108,
    "start_time": "2022-08-17T05:55:45.865Z"
   },
   {
    "duration": 128,
    "start_time": "2022-08-17T05:55:55.513Z"
   },
   {
    "duration": 45,
    "start_time": "2022-08-17T05:57:19.318Z"
   },
   {
    "duration": 117,
    "start_time": "2022-08-17T05:57:33.390Z"
   },
   {
    "duration": 45,
    "start_time": "2022-08-17T05:58:17.872Z"
   },
   {
    "duration": 54,
    "start_time": "2022-08-17T06:00:20.057Z"
   },
   {
    "duration": 67,
    "start_time": "2022-08-17T06:01:18.687Z"
   },
   {
    "duration": 53,
    "start_time": "2022-08-17T06:03:03.008Z"
   },
   {
    "duration": 47,
    "start_time": "2022-08-17T06:03:38.926Z"
   },
   {
    "duration": 129,
    "start_time": "2022-08-17T06:04:16.526Z"
   },
   {
    "duration": 67,
    "start_time": "2022-08-17T06:04:56.382Z"
   },
   {
    "duration": 46,
    "start_time": "2022-08-17T06:05:03.037Z"
   },
   {
    "duration": 78,
    "start_time": "2022-08-17T06:05:23.335Z"
   },
   {
    "duration": 59,
    "start_time": "2022-08-17T06:05:44.688Z"
   },
   {
    "duration": 469,
    "start_time": "2022-08-17T06:12:25.765Z"
   },
   {
    "duration": 3060,
    "start_time": "2022-08-17T06:13:34.410Z"
   },
   {
    "duration": 6,
    "start_time": "2022-08-17T06:14:57.017Z"
   },
   {
    "duration": 1981,
    "start_time": "2022-08-17T06:15:58.776Z"
   },
   {
    "duration": 2047,
    "start_time": "2022-08-17T06:19:23.372Z"
   },
   {
    "duration": 2103,
    "start_time": "2022-08-17T06:21:44.594Z"
   },
   {
    "duration": 1987,
    "start_time": "2022-08-17T06:23:01.755Z"
   },
   {
    "duration": 1939,
    "start_time": "2022-08-17T06:24:09.399Z"
   },
   {
    "duration": 1949,
    "start_time": "2022-08-17T06:24:43.069Z"
   },
   {
    "duration": 2170,
    "start_time": "2022-08-17T06:25:15.360Z"
   },
   {
    "duration": 1964,
    "start_time": "2022-08-17T06:29:10.690Z"
   },
   {
    "duration": 2296,
    "start_time": "2022-08-17T06:30:44.334Z"
   },
   {
    "duration": 1958,
    "start_time": "2022-08-17T06:31:36.573Z"
   },
   {
    "duration": 2648,
    "start_time": "2022-08-17T06:32:10.479Z"
   },
   {
    "duration": 1918,
    "start_time": "2022-08-17T06:33:16.253Z"
   },
   {
    "duration": 2019,
    "start_time": "2022-08-17T06:35:37.380Z"
   },
   {
    "duration": 1909,
    "start_time": "2022-08-17T06:36:53.643Z"
   },
   {
    "duration": 1205,
    "start_time": "2022-08-17T06:37:36.222Z"
   },
   {
    "duration": 119,
    "start_time": "2022-08-17T06:37:37.429Z"
   },
   {
    "duration": 4,
    "start_time": "2022-08-17T06:37:37.549Z"
   },
   {
    "duration": 61,
    "start_time": "2022-08-17T06:37:37.555Z"
   },
   {
    "duration": 23,
    "start_time": "2022-08-17T06:37:37.618Z"
   },
   {
    "duration": 448,
    "start_time": "2022-08-17T06:37:37.642Z"
   },
   {
    "duration": 24,
    "start_time": "2022-08-17T06:37:38.092Z"
   },
   {
    "duration": 339,
    "start_time": "2022-08-17T06:37:38.118Z"
   },
   {
    "duration": 231,
    "start_time": "2022-08-17T06:37:38.459Z"
   },
   {
    "duration": 760,
    "start_time": "2022-08-17T06:37:38.692Z"
   },
   {
    "duration": 287,
    "start_time": "2022-08-17T06:37:39.453Z"
   },
   {
    "duration": 2024,
    "start_time": "2022-08-17T06:37:39.742Z"
   },
   {
    "duration": 0,
    "start_time": "2022-08-17T06:37:41.769Z"
   },
   {
    "duration": 1931,
    "start_time": "2022-08-17T06:39:18.160Z"
   },
   {
    "duration": 1926,
    "start_time": "2022-08-17T06:41:11.004Z"
   },
   {
    "duration": 2100,
    "start_time": "2022-08-17T06:44:05.388Z"
   },
   {
    "duration": 2609,
    "start_time": "2022-08-17T06:44:39.057Z"
   },
   {
    "duration": 1200,
    "start_time": "2022-08-17T06:45:27.119Z"
   },
   {
    "duration": 145,
    "start_time": "2022-08-17T06:45:28.321Z"
   },
   {
    "duration": 4,
    "start_time": "2022-08-17T06:45:28.468Z"
   },
   {
    "duration": 72,
    "start_time": "2022-08-17T06:45:28.474Z"
   },
   {
    "duration": 16,
    "start_time": "2022-08-17T06:45:28.547Z"
   },
   {
    "duration": 404,
    "start_time": "2022-08-17T06:45:28.564Z"
   },
   {
    "duration": 13,
    "start_time": "2022-08-17T06:45:28.970Z"
   },
   {
    "duration": 442,
    "start_time": "2022-08-17T06:45:28.985Z"
   },
   {
    "duration": 234,
    "start_time": "2022-08-17T06:45:29.429Z"
   },
   {
    "duration": 721,
    "start_time": "2022-08-17T06:45:29.665Z"
   },
   {
    "duration": 285,
    "start_time": "2022-08-17T06:45:30.388Z"
   },
   {
    "duration": 2078,
    "start_time": "2022-08-17T06:45:30.674Z"
   },
   {
    "duration": 231,
    "start_time": "2022-08-17T06:45:32.754Z"
   },
   {
    "duration": 3782,
    "start_time": "2022-08-17T06:47:03.680Z"
   },
   {
    "duration": 1189,
    "start_time": "2022-08-17T06:47:52.351Z"
   },
   {
    "duration": 149,
    "start_time": "2022-08-17T06:47:53.542Z"
   },
   {
    "duration": 3,
    "start_time": "2022-08-17T06:47:53.693Z"
   },
   {
    "duration": 63,
    "start_time": "2022-08-17T06:47:53.698Z"
   },
   {
    "duration": 15,
    "start_time": "2022-08-17T06:47:53.762Z"
   },
   {
    "duration": 421,
    "start_time": "2022-08-17T06:47:53.778Z"
   },
   {
    "duration": 25,
    "start_time": "2022-08-17T06:47:54.201Z"
   },
   {
    "duration": 332,
    "start_time": "2022-08-17T06:47:54.228Z"
   },
   {
    "duration": 250,
    "start_time": "2022-08-17T06:47:54.562Z"
   },
   {
    "duration": 687,
    "start_time": "2022-08-17T06:47:54.815Z"
   },
   {
    "duration": 264,
    "start_time": "2022-08-17T06:47:55.506Z"
   },
   {
    "duration": 1988,
    "start_time": "2022-08-17T06:47:55.771Z"
   },
   {
    "duration": 211,
    "start_time": "2022-08-17T06:47:57.761Z"
   },
   {
    "duration": 3185,
    "start_time": "2022-08-17T06:50:21.958Z"
   },
   {
    "duration": 1253,
    "start_time": "2022-08-17T06:51:11.183Z"
   },
   {
    "duration": 158,
    "start_time": "2022-08-17T06:51:12.437Z"
   },
   {
    "duration": 5,
    "start_time": "2022-08-17T06:51:12.596Z"
   },
   {
    "duration": 69,
    "start_time": "2022-08-17T06:51:12.602Z"
   },
   {
    "duration": 17,
    "start_time": "2022-08-17T06:51:12.672Z"
   },
   {
    "duration": 401,
    "start_time": "2022-08-17T06:51:12.690Z"
   },
   {
    "duration": 26,
    "start_time": "2022-08-17T06:51:13.092Z"
   },
   {
    "duration": 332,
    "start_time": "2022-08-17T06:51:13.120Z"
   },
   {
    "duration": 227,
    "start_time": "2022-08-17T06:51:13.454Z"
   },
   {
    "duration": 719,
    "start_time": "2022-08-17T06:51:13.683Z"
   },
   {
    "duration": 289,
    "start_time": "2022-08-17T06:51:14.403Z"
   },
   {
    "duration": 2028,
    "start_time": "2022-08-17T06:51:14.694Z"
   },
   {
    "duration": 194,
    "start_time": "2022-08-17T06:51:16.723Z"
   },
   {
    "duration": 2493,
    "start_time": "2022-08-17T06:53:15.500Z"
   },
   {
    "duration": 1243,
    "start_time": "2022-08-17T06:54:23.411Z"
   },
   {
    "duration": 161,
    "start_time": "2022-08-17T06:54:24.656Z"
   },
   {
    "duration": 4,
    "start_time": "2022-08-17T06:54:24.819Z"
   },
   {
    "duration": 61,
    "start_time": "2022-08-17T06:54:24.826Z"
   },
   {
    "duration": 31,
    "start_time": "2022-08-17T06:54:24.888Z"
   },
   {
    "duration": 462,
    "start_time": "2022-08-17T06:54:24.921Z"
   },
   {
    "duration": 24,
    "start_time": "2022-08-17T06:54:25.386Z"
   },
   {
    "duration": 369,
    "start_time": "2022-08-17T06:54:25.412Z"
   },
   {
    "duration": 265,
    "start_time": "2022-08-17T06:54:25.782Z"
   },
   {
    "duration": 782,
    "start_time": "2022-08-17T06:54:26.049Z"
   },
   {
    "duration": 297,
    "start_time": "2022-08-17T06:54:26.833Z"
   },
   {
    "duration": 2060,
    "start_time": "2022-08-17T06:54:27.132Z"
   },
   {
    "duration": 0,
    "start_time": "2022-08-17T06:54:29.193Z"
   },
   {
    "duration": 2389,
    "start_time": "2022-08-17T06:54:51.187Z"
   },
   {
    "duration": 1095,
    "start_time": "2022-08-17T06:56:41.963Z"
   },
   {
    "duration": 151,
    "start_time": "2022-08-17T06:56:43.060Z"
   },
   {
    "duration": 5,
    "start_time": "2022-08-17T06:56:43.213Z"
   },
   {
    "duration": 58,
    "start_time": "2022-08-17T06:56:43.221Z"
   },
   {
    "duration": 14,
    "start_time": "2022-08-17T06:56:43.281Z"
   },
   {
    "duration": 369,
    "start_time": "2022-08-17T06:56:43.306Z"
   },
   {
    "duration": 12,
    "start_time": "2022-08-17T06:56:43.676Z"
   },
   {
    "duration": 347,
    "start_time": "2022-08-17T06:56:43.690Z"
   },
   {
    "duration": 247,
    "start_time": "2022-08-17T06:56:44.039Z"
   },
   {
    "duration": 660,
    "start_time": "2022-08-17T06:56:44.288Z"
   },
   {
    "duration": 273,
    "start_time": "2022-08-17T06:56:44.949Z"
   },
   {
    "duration": 2206,
    "start_time": "2022-08-17T06:56:45.224Z"
   },
   {
    "duration": 197,
    "start_time": "2022-08-17T06:56:47.432Z"
   },
   {
    "duration": 89,
    "start_time": "2022-08-17T07:00:20.838Z"
   },
   {
    "duration": 102,
    "start_time": "2022-08-17T07:00:34.543Z"
   },
   {
    "duration": 3822,
    "start_time": "2022-08-17T07:57:23.378Z"
   },
   {
    "duration": 1095,
    "start_time": "2022-08-17T07:58:39.550Z"
   },
   {
    "duration": 190,
    "start_time": "2022-08-17T07:58:40.647Z"
   },
   {
    "duration": 3,
    "start_time": "2022-08-17T07:58:40.839Z"
   },
   {
    "duration": 58,
    "start_time": "2022-08-17T07:58:40.844Z"
   },
   {
    "duration": 21,
    "start_time": "2022-08-17T07:58:40.904Z"
   },
   {
    "duration": 414,
    "start_time": "2022-08-17T07:58:40.927Z"
   },
   {
    "duration": 15,
    "start_time": "2022-08-17T07:58:41.343Z"
   },
   {
    "duration": 354,
    "start_time": "2022-08-17T07:58:41.360Z"
   },
   {
    "duration": 238,
    "start_time": "2022-08-17T07:58:41.717Z"
   },
   {
    "duration": 646,
    "start_time": "2022-08-17T07:58:41.957Z"
   },
   {
    "duration": 269,
    "start_time": "2022-08-17T07:58:42.605Z"
   },
   {
    "duration": 3292,
    "start_time": "2022-08-17T07:58:42.876Z"
   },
   {
    "duration": 0,
    "start_time": "2022-08-17T07:58:46.170Z"
   },
   {
    "duration": 2456,
    "start_time": "2022-08-17T08:01:26.601Z"
   },
   {
    "duration": 1408,
    "start_time": "2022-08-17T08:02:08.039Z"
   },
   {
    "duration": 111,
    "start_time": "2022-08-17T08:02:09.449Z"
   },
   {
    "duration": 4,
    "start_time": "2022-08-17T08:02:09.562Z"
   },
   {
    "duration": 63,
    "start_time": "2022-08-17T08:02:09.568Z"
   },
   {
    "duration": 17,
    "start_time": "2022-08-17T08:02:09.633Z"
   },
   {
    "duration": 427,
    "start_time": "2022-08-17T08:02:09.651Z"
   },
   {
    "duration": 26,
    "start_time": "2022-08-17T08:02:10.080Z"
   },
   {
    "duration": 351,
    "start_time": "2022-08-17T08:02:10.109Z"
   },
   {
    "duration": 257,
    "start_time": "2022-08-17T08:02:10.461Z"
   },
   {
    "duration": 698,
    "start_time": "2022-08-17T08:02:10.721Z"
   },
   {
    "duration": 298,
    "start_time": "2022-08-17T08:02:11.421Z"
   },
   {
    "duration": 1958,
    "start_time": "2022-08-17T08:02:11.721Z"
   },
   {
    "duration": 211,
    "start_time": "2022-08-17T08:02:13.681Z"
   },
   {
    "duration": 2642,
    "start_time": "2022-08-17T08:05:38.123Z"
   },
   {
    "duration": 1159,
    "start_time": "2022-08-17T08:05:53.545Z"
   },
   {
    "duration": 104,
    "start_time": "2022-08-17T08:05:54.707Z"
   },
   {
    "duration": 5,
    "start_time": "2022-08-17T08:05:54.813Z"
   },
   {
    "duration": 67,
    "start_time": "2022-08-17T08:05:54.821Z"
   },
   {
    "duration": 19,
    "start_time": "2022-08-17T08:05:54.889Z"
   },
   {
    "duration": 375,
    "start_time": "2022-08-17T08:05:54.910Z"
   },
   {
    "duration": 26,
    "start_time": "2022-08-17T08:05:55.286Z"
   },
   {
    "duration": 320,
    "start_time": "2022-08-17T08:05:55.314Z"
   },
   {
    "duration": 235,
    "start_time": "2022-08-17T08:05:55.636Z"
   },
   {
    "duration": 719,
    "start_time": "2022-08-17T08:05:55.873Z"
   },
   {
    "duration": 256,
    "start_time": "2022-08-17T08:05:56.594Z"
   },
   {
    "duration": 1539,
    "start_time": "2022-08-17T08:05:56.852Z"
   },
   {
    "duration": 216,
    "start_time": "2022-08-17T08:05:58.392Z"
   },
   {
    "duration": 3575,
    "start_time": "2022-08-17T08:20:28.492Z"
   },
   {
    "duration": 1182,
    "start_time": "2022-08-17T08:20:40.921Z"
   },
   {
    "duration": 100,
    "start_time": "2022-08-17T08:20:42.104Z"
   },
   {
    "duration": 6,
    "start_time": "2022-08-17T08:20:42.208Z"
   },
   {
    "duration": 62,
    "start_time": "2022-08-17T08:20:42.216Z"
   },
   {
    "duration": 29,
    "start_time": "2022-08-17T08:20:42.280Z"
   },
   {
    "duration": 402,
    "start_time": "2022-08-17T08:20:42.311Z"
   },
   {
    "duration": 17,
    "start_time": "2022-08-17T08:20:42.715Z"
   },
   {
    "duration": 375,
    "start_time": "2022-08-17T08:20:42.734Z"
   },
   {
    "duration": 235,
    "start_time": "2022-08-17T08:20:43.111Z"
   },
   {
    "duration": 691,
    "start_time": "2022-08-17T08:20:43.349Z"
   },
   {
    "duration": 304,
    "start_time": "2022-08-17T08:20:44.042Z"
   },
   {
    "duration": 1989,
    "start_time": "2022-08-17T08:20:44.348Z"
   },
   {
    "duration": 0,
    "start_time": "2022-08-17T08:20:46.339Z"
   },
   {
    "duration": 1167,
    "start_time": "2022-08-17T08:21:33.169Z"
   },
   {
    "duration": 112,
    "start_time": "2022-08-17T08:21:34.339Z"
   },
   {
    "duration": 5,
    "start_time": "2022-08-17T08:21:34.452Z"
   },
   {
    "duration": 72,
    "start_time": "2022-08-17T08:21:34.459Z"
   },
   {
    "duration": 16,
    "start_time": "2022-08-17T08:21:34.533Z"
   },
   {
    "duration": 408,
    "start_time": "2022-08-17T08:21:34.550Z"
   },
   {
    "duration": 13,
    "start_time": "2022-08-17T08:21:34.959Z"
   },
   {
    "duration": 347,
    "start_time": "2022-08-17T08:21:34.974Z"
   },
   {
    "duration": 243,
    "start_time": "2022-08-17T08:21:35.323Z"
   },
   {
    "duration": 767,
    "start_time": "2022-08-17T08:21:35.568Z"
   },
   {
    "duration": 313,
    "start_time": "2022-08-17T08:21:36.337Z"
   },
   {
    "duration": 2335,
    "start_time": "2022-08-17T08:21:36.652Z"
   },
   {
    "duration": 222,
    "start_time": "2022-08-17T08:21:38.989Z"
   },
   {
    "duration": 1188,
    "start_time": "2022-08-17T08:22:39.457Z"
   },
   {
    "duration": 117,
    "start_time": "2022-08-17T08:22:40.647Z"
   },
   {
    "duration": 4,
    "start_time": "2022-08-17T08:22:40.767Z"
   },
   {
    "duration": 78,
    "start_time": "2022-08-17T08:22:40.774Z"
   },
   {
    "duration": 21,
    "start_time": "2022-08-17T08:22:40.853Z"
   },
   {
    "duration": 415,
    "start_time": "2022-08-17T08:22:40.876Z"
   },
   {
    "duration": 22,
    "start_time": "2022-08-17T08:22:41.293Z"
   },
   {
    "duration": 342,
    "start_time": "2022-08-17T08:22:41.316Z"
   },
   {
    "duration": 262,
    "start_time": "2022-08-17T08:22:41.660Z"
   },
   {
    "duration": 696,
    "start_time": "2022-08-17T08:22:41.925Z"
   },
   {
    "duration": 269,
    "start_time": "2022-08-17T08:22:42.623Z"
   },
   {
    "duration": 2220,
    "start_time": "2022-08-17T08:22:42.893Z"
   },
   {
    "duration": 197,
    "start_time": "2022-08-17T08:22:45.115Z"
   },
   {
    "duration": 1211,
    "start_time": "2022-08-17T08:28:14.242Z"
   },
   {
    "duration": 118,
    "start_time": "2022-08-17T08:28:15.454Z"
   },
   {
    "duration": 4,
    "start_time": "2022-08-17T08:28:15.574Z"
   },
   {
    "duration": 65,
    "start_time": "2022-08-17T08:28:15.579Z"
   },
   {
    "duration": 16,
    "start_time": "2022-08-17T08:28:15.646Z"
   },
   {
    "duration": 410,
    "start_time": "2022-08-17T08:28:15.663Z"
   },
   {
    "duration": 16,
    "start_time": "2022-08-17T08:28:16.075Z"
   },
   {
    "duration": 362,
    "start_time": "2022-08-17T08:28:16.107Z"
   },
   {
    "duration": 260,
    "start_time": "2022-08-17T08:28:16.471Z"
   },
   {
    "duration": 669,
    "start_time": "2022-08-17T08:28:16.733Z"
   },
   {
    "duration": 274,
    "start_time": "2022-08-17T08:28:17.406Z"
   },
   {
    "duration": 3360,
    "start_time": "2022-08-17T08:28:17.681Z"
   },
   {
    "duration": 0,
    "start_time": "2022-08-17T08:28:21.043Z"
   },
   {
    "duration": 1225,
    "start_time": "2022-08-17T08:28:55.521Z"
   },
   {
    "duration": 109,
    "start_time": "2022-08-17T08:28:56.749Z"
   },
   {
    "duration": 4,
    "start_time": "2022-08-17T08:28:56.860Z"
   },
   {
    "duration": 56,
    "start_time": "2022-08-17T08:28:56.865Z"
   },
   {
    "duration": 18,
    "start_time": "2022-08-17T08:28:56.924Z"
   },
   {
    "duration": 416,
    "start_time": "2022-08-17T08:28:56.943Z"
   },
   {
    "duration": 12,
    "start_time": "2022-08-17T08:28:57.361Z"
   },
   {
    "duration": 347,
    "start_time": "2022-08-17T08:28:57.375Z"
   },
   {
    "duration": 325,
    "start_time": "2022-08-17T08:28:57.724Z"
   },
   {
    "duration": 643,
    "start_time": "2022-08-17T08:28:58.052Z"
   },
   {
    "duration": 270,
    "start_time": "2022-08-17T08:28:58.697Z"
   },
   {
    "duration": 2094,
    "start_time": "2022-08-17T08:28:58.969Z"
   },
   {
    "duration": 0,
    "start_time": "2022-08-17T08:29:01.064Z"
   },
   {
    "duration": 1166,
    "start_time": "2022-08-17T08:29:22.240Z"
   },
   {
    "duration": 99,
    "start_time": "2022-08-17T08:29:23.408Z"
   },
   {
    "duration": 5,
    "start_time": "2022-08-17T08:29:23.510Z"
   },
   {
    "duration": 58,
    "start_time": "2022-08-17T08:29:23.517Z"
   },
   {
    "duration": 15,
    "start_time": "2022-08-17T08:29:23.576Z"
   },
   {
    "duration": 360,
    "start_time": "2022-08-17T08:29:23.606Z"
   },
   {
    "duration": 13,
    "start_time": "2022-08-17T08:29:23.967Z"
   },
   {
    "duration": 353,
    "start_time": "2022-08-17T08:29:23.981Z"
   },
   {
    "duration": 239,
    "start_time": "2022-08-17T08:29:24.336Z"
   },
   {
    "duration": 669,
    "start_time": "2022-08-17T08:29:24.577Z"
   },
   {
    "duration": 290,
    "start_time": "2022-08-17T08:29:25.247Z"
   },
   {
    "duration": 1884,
    "start_time": "2022-08-17T08:29:25.538Z"
   },
   {
    "duration": 221,
    "start_time": "2022-08-17T08:29:27.424Z"
   },
   {
    "duration": 1216,
    "start_time": "2022-08-17T08:31:02.309Z"
   },
   {
    "duration": 122,
    "start_time": "2022-08-17T08:31:03.527Z"
   },
   {
    "duration": 3,
    "start_time": "2022-08-17T08:31:03.651Z"
   },
   {
    "duration": 66,
    "start_time": "2022-08-17T08:31:03.656Z"
   },
   {
    "duration": 18,
    "start_time": "2022-08-17T08:31:03.725Z"
   },
   {
    "duration": 410,
    "start_time": "2022-08-17T08:31:03.744Z"
   },
   {
    "duration": 13,
    "start_time": "2022-08-17T08:31:04.156Z"
   },
   {
    "duration": 328,
    "start_time": "2022-08-17T08:31:04.170Z"
   },
   {
    "duration": 255,
    "start_time": "2022-08-17T08:31:04.500Z"
   },
   {
    "duration": 677,
    "start_time": "2022-08-17T08:31:04.758Z"
   },
   {
    "duration": 269,
    "start_time": "2022-08-17T08:31:05.437Z"
   },
   {
    "duration": 112,
    "start_time": "2022-08-17T08:31:05.708Z"
   },
   {
    "duration": 0,
    "start_time": "2022-08-17T08:31:05.822Z"
   },
   {
    "duration": 1191,
    "start_time": "2022-08-17T08:31:54.036Z"
   },
   {
    "duration": 112,
    "start_time": "2022-08-17T08:31:55.229Z"
   },
   {
    "duration": 4,
    "start_time": "2022-08-17T08:31:55.343Z"
   },
   {
    "duration": 59,
    "start_time": "2022-08-17T08:31:55.348Z"
   },
   {
    "duration": 19,
    "start_time": "2022-08-17T08:31:55.408Z"
   },
   {
    "duration": 422,
    "start_time": "2022-08-17T08:31:55.429Z"
   },
   {
    "duration": 15,
    "start_time": "2022-08-17T08:31:55.853Z"
   },
   {
    "duration": 366,
    "start_time": "2022-08-17T08:31:55.870Z"
   },
   {
    "duration": 243,
    "start_time": "2022-08-17T08:31:56.237Z"
   },
   {
    "duration": 686,
    "start_time": "2022-08-17T08:31:56.482Z"
   },
   {
    "duration": 284,
    "start_time": "2022-08-17T08:31:57.170Z"
   },
   {
    "duration": 2393,
    "start_time": "2022-08-17T08:31:57.456Z"
   },
   {
    "duration": 0,
    "start_time": "2022-08-17T08:31:59.850Z"
   },
   {
    "duration": 1139,
    "start_time": "2022-08-17T08:32:16.297Z"
   },
   {
    "duration": 108,
    "start_time": "2022-08-17T08:32:17.437Z"
   },
   {
    "duration": 4,
    "start_time": "2022-08-17T08:32:17.546Z"
   },
   {
    "duration": 59,
    "start_time": "2022-08-17T08:32:17.552Z"
   },
   {
    "duration": 18,
    "start_time": "2022-08-17T08:32:17.614Z"
   },
   {
    "duration": 440,
    "start_time": "2022-08-17T08:32:17.633Z"
   },
   {
    "duration": 13,
    "start_time": "2022-08-17T08:32:18.075Z"
   },
   {
    "duration": 316,
    "start_time": "2022-08-17T08:32:18.089Z"
   },
   {
    "duration": 240,
    "start_time": "2022-08-17T08:32:18.407Z"
   },
   {
    "duration": 688,
    "start_time": "2022-08-17T08:32:18.650Z"
   },
   {
    "duration": 279,
    "start_time": "2022-08-17T08:32:19.340Z"
   },
   {
    "duration": 1845,
    "start_time": "2022-08-17T08:32:19.622Z"
   },
   {
    "duration": 1,
    "start_time": "2022-08-17T08:32:21.468Z"
   },
   {
    "duration": 1426,
    "start_time": "2022-08-17T08:33:30.375Z"
   },
   {
    "duration": 214,
    "start_time": "2022-08-17T08:33:31.803Z"
   },
   {
    "duration": 6,
    "start_time": "2022-08-17T08:33:32.019Z"
   },
   {
    "duration": 117,
    "start_time": "2022-08-17T08:33:32.028Z"
   },
   {
    "duration": 38,
    "start_time": "2022-08-17T08:33:32.147Z"
   },
   {
    "duration": 426,
    "start_time": "2022-08-17T08:33:32.186Z"
   },
   {
    "duration": 18,
    "start_time": "2022-08-17T08:33:32.614Z"
   },
   {
    "duration": 365,
    "start_time": "2022-08-17T08:33:32.634Z"
   },
   {
    "duration": 244,
    "start_time": "2022-08-17T08:33:33.005Z"
   },
   {
    "duration": 686,
    "start_time": "2022-08-17T08:33:33.251Z"
   },
   {
    "duration": 275,
    "start_time": "2022-08-17T08:33:33.938Z"
   },
   {
    "duration": 2437,
    "start_time": "2022-08-17T08:33:34.215Z"
   },
   {
    "duration": 0,
    "start_time": "2022-08-17T08:33:36.653Z"
   },
   {
    "duration": 1307,
    "start_time": "2022-08-17T08:34:31.072Z"
   },
   {
    "duration": 116,
    "start_time": "2022-08-17T08:34:32.381Z"
   },
   {
    "duration": 4,
    "start_time": "2022-08-17T08:34:32.499Z"
   },
   {
    "duration": 83,
    "start_time": "2022-08-17T08:34:32.505Z"
   },
   {
    "duration": 16,
    "start_time": "2022-08-17T08:34:32.589Z"
   },
   {
    "duration": 421,
    "start_time": "2022-08-17T08:34:32.606Z"
   },
   {
    "duration": 13,
    "start_time": "2022-08-17T08:34:33.029Z"
   },
   {
    "duration": 357,
    "start_time": "2022-08-17T08:34:33.043Z"
   },
   {
    "duration": 234,
    "start_time": "2022-08-17T08:34:33.401Z"
   },
   {
    "duration": 663,
    "start_time": "2022-08-17T08:34:33.638Z"
   },
   {
    "duration": 262,
    "start_time": "2022-08-17T08:34:34.303Z"
   },
   {
    "duration": 2275,
    "start_time": "2022-08-17T08:34:34.567Z"
   },
   {
    "duration": 207,
    "start_time": "2022-08-17T08:34:36.844Z"
   },
   {
    "duration": 122,
    "start_time": "2022-08-17T08:46:21.055Z"
   },
   {
    "duration": 1250,
    "start_time": "2022-08-17T08:46:29.424Z"
   },
   {
    "duration": 107,
    "start_time": "2022-08-17T08:46:30.677Z"
   },
   {
    "duration": 4,
    "start_time": "2022-08-17T08:46:30.785Z"
   },
   {
    "duration": 150,
    "start_time": "2022-08-17T08:46:30.791Z"
   },
   {
    "duration": 21,
    "start_time": "2022-08-17T08:46:30.944Z"
   },
   {
    "duration": 501,
    "start_time": "2022-08-17T08:46:30.967Z"
   },
   {
    "duration": 15,
    "start_time": "2022-08-17T08:46:31.470Z"
   },
   {
    "duration": 374,
    "start_time": "2022-08-17T08:46:31.487Z"
   },
   {
    "duration": 327,
    "start_time": "2022-08-17T08:46:31.863Z"
   },
   {
    "duration": 896,
    "start_time": "2022-08-17T08:46:32.193Z"
   },
   {
    "duration": 328,
    "start_time": "2022-08-17T08:46:33.091Z"
   },
   {
    "duration": 3450,
    "start_time": "2022-08-17T08:46:33.421Z"
   },
   {
    "duration": 219,
    "start_time": "2022-08-17T08:46:36.872Z"
   },
   {
    "duration": 404,
    "start_time": "2022-08-17T08:48:53.104Z"
   },
   {
    "duration": 373,
    "start_time": "2022-08-17T08:50:05.633Z"
   },
   {
    "duration": 406,
    "start_time": "2022-08-17T08:50:34.232Z"
   },
   {
    "duration": 473,
    "start_time": "2022-08-17T08:50:53.849Z"
   },
   {
    "duration": 176,
    "start_time": "2022-08-17T08:52:01.147Z"
   },
   {
    "duration": 180,
    "start_time": "2022-08-17T08:55:01.379Z"
   },
   {
    "duration": 191,
    "start_time": "2022-08-17T08:57:48.865Z"
   },
   {
    "duration": 192,
    "start_time": "2022-08-17T08:58:11.281Z"
   },
   {
    "duration": 17,
    "start_time": "2022-08-17T09:07:48.089Z"
   },
   {
    "duration": 118,
    "start_time": "2022-08-17T09:09:43.119Z"
   },
   {
    "duration": 16,
    "start_time": "2022-08-17T09:10:01.322Z"
   },
   {
    "duration": 21,
    "start_time": "2022-08-17T09:10:45.741Z"
   },
   {
    "duration": 1054,
    "start_time": "2022-08-17T09:54:39.656Z"
   },
   {
    "duration": 147,
    "start_time": "2022-08-17T09:54:40.712Z"
   },
   {
    "duration": 4,
    "start_time": "2022-08-17T09:54:40.861Z"
   },
   {
    "duration": 52,
    "start_time": "2022-08-17T09:54:40.867Z"
   },
   {
    "duration": 14,
    "start_time": "2022-08-17T09:54:40.920Z"
   },
   {
    "duration": 384,
    "start_time": "2022-08-17T09:54:40.936Z"
   },
   {
    "duration": 12,
    "start_time": "2022-08-17T09:54:41.321Z"
   },
   {
    "duration": 317,
    "start_time": "2022-08-17T09:54:41.335Z"
   },
   {
    "duration": 212,
    "start_time": "2022-08-17T09:54:41.653Z"
   },
   {
    "duration": 598,
    "start_time": "2022-08-17T09:54:41.867Z"
   },
   {
    "duration": 251,
    "start_time": "2022-08-17T09:54:42.466Z"
   },
   {
    "duration": 3429,
    "start_time": "2022-08-17T09:54:42.719Z"
   },
   {
    "duration": 205,
    "start_time": "2022-08-17T09:54:46.152Z"
   },
   {
    "duration": 12,
    "start_time": "2022-08-17T09:54:46.359Z"
   },
   {
    "duration": 275,
    "start_time": "2022-08-17T10:05:39.898Z"
   },
   {
    "duration": 199,
    "start_time": "2022-08-17T10:06:19.506Z"
   },
   {
    "duration": 208,
    "start_time": "2022-08-17T10:06:31.870Z"
   },
   {
    "duration": 1113,
    "start_time": "2022-08-17T10:06:52.806Z"
   },
   {
    "duration": 102,
    "start_time": "2022-08-17T10:06:53.921Z"
   },
   {
    "duration": 4,
    "start_time": "2022-08-17T10:06:54.025Z"
   },
   {
    "duration": 77,
    "start_time": "2022-08-17T10:06:54.032Z"
   },
   {
    "duration": 23,
    "start_time": "2022-08-17T10:06:54.111Z"
   },
   {
    "duration": 390,
    "start_time": "2022-08-17T10:06:54.136Z"
   },
   {
    "duration": 15,
    "start_time": "2022-08-17T10:06:54.528Z"
   },
   {
    "duration": 302,
    "start_time": "2022-08-17T10:06:54.546Z"
   },
   {
    "duration": 0,
    "start_time": "2022-08-17T10:06:54.850Z"
   },
   {
    "duration": 0,
    "start_time": "2022-08-17T10:06:54.852Z"
   },
   {
    "duration": 0,
    "start_time": "2022-08-17T10:06:54.852Z"
   },
   {
    "duration": 0,
    "start_time": "2022-08-17T10:06:54.854Z"
   },
   {
    "duration": 0,
    "start_time": "2022-08-17T10:06:54.855Z"
   },
   {
    "duration": 0,
    "start_time": "2022-08-17T10:06:54.856Z"
   },
   {
    "duration": 0,
    "start_time": "2022-08-17T10:06:54.857Z"
   },
   {
    "duration": 1110,
    "start_time": "2022-08-17T10:07:58.103Z"
   },
   {
    "duration": 100,
    "start_time": "2022-08-17T10:07:59.214Z"
   },
   {
    "duration": 4,
    "start_time": "2022-08-17T10:07:59.315Z"
   },
   {
    "duration": 54,
    "start_time": "2022-08-17T10:07:59.321Z"
   },
   {
    "duration": 32,
    "start_time": "2022-08-17T10:07:59.376Z"
   },
   {
    "duration": 362,
    "start_time": "2022-08-17T10:07:59.411Z"
   },
   {
    "duration": 14,
    "start_time": "2022-08-17T10:07:59.775Z"
   },
   {
    "duration": 278,
    "start_time": "2022-08-17T10:07:59.805Z"
   },
   {
    "duration": 0,
    "start_time": "2022-08-17T10:08:00.085Z"
   },
   {
    "duration": 0,
    "start_time": "2022-08-17T10:08:00.087Z"
   },
   {
    "duration": 0,
    "start_time": "2022-08-17T10:08:00.088Z"
   },
   {
    "duration": 0,
    "start_time": "2022-08-17T10:08:00.090Z"
   },
   {
    "duration": 0,
    "start_time": "2022-08-17T10:08:00.091Z"
   },
   {
    "duration": 0,
    "start_time": "2022-08-17T10:08:00.106Z"
   },
   {
    "duration": 0,
    "start_time": "2022-08-17T10:08:00.107Z"
   },
   {
    "duration": 159,
    "start_time": "2022-08-17T10:09:05.434Z"
   },
   {
    "duration": 308,
    "start_time": "2022-08-17T10:09:24.275Z"
   },
   {
    "duration": 177,
    "start_time": "2022-08-17T10:10:20.874Z"
   },
   {
    "duration": 172,
    "start_time": "2022-08-17T10:14:23.753Z"
   },
   {
    "duration": 1176,
    "start_time": "2022-08-17T10:15:48.650Z"
   },
   {
    "duration": 118,
    "start_time": "2022-08-17T10:15:49.828Z"
   },
   {
    "duration": 4,
    "start_time": "2022-08-17T10:15:49.950Z"
   },
   {
    "duration": 65,
    "start_time": "2022-08-17T10:15:49.956Z"
   },
   {
    "duration": 20,
    "start_time": "2022-08-17T10:15:50.022Z"
   },
   {
    "duration": 386,
    "start_time": "2022-08-17T10:15:50.044Z"
   },
   {
    "duration": 13,
    "start_time": "2022-08-17T10:15:50.432Z"
   },
   {
    "duration": 298,
    "start_time": "2022-08-17T10:15:50.447Z"
   },
   {
    "duration": 0,
    "start_time": "2022-08-17T10:15:50.748Z"
   },
   {
    "duration": 0,
    "start_time": "2022-08-17T10:15:50.749Z"
   },
   {
    "duration": 0,
    "start_time": "2022-08-17T10:15:50.751Z"
   },
   {
    "duration": 0,
    "start_time": "2022-08-17T10:15:50.752Z"
   },
   {
    "duration": 0,
    "start_time": "2022-08-17T10:15:50.753Z"
   },
   {
    "duration": 0,
    "start_time": "2022-08-17T10:15:50.754Z"
   },
   {
    "duration": 0,
    "start_time": "2022-08-17T10:15:50.756Z"
   },
   {
    "duration": 183,
    "start_time": "2022-08-17T10:17:13.038Z"
   },
   {
    "duration": 173,
    "start_time": "2022-08-17T10:18:48.429Z"
   },
   {
    "duration": 173,
    "start_time": "2022-08-17T10:20:00.073Z"
   },
   {
    "duration": 290,
    "start_time": "2022-08-17T10:21:41.710Z"
   },
   {
    "duration": 301,
    "start_time": "2022-08-17T10:23:07.793Z"
   },
   {
    "duration": 230,
    "start_time": "2022-08-17T10:23:13.612Z"
   },
   {
    "duration": 314,
    "start_time": "2022-08-17T10:23:33.305Z"
   },
   {
    "duration": 314,
    "start_time": "2022-08-17T10:24:16.424Z"
   },
   {
    "duration": 336,
    "start_time": "2022-08-17T10:24:42.189Z"
   },
   {
    "duration": 1253,
    "start_time": "2022-08-17T10:25:07.784Z"
   },
   {
    "duration": 129,
    "start_time": "2022-08-17T10:25:09.039Z"
   },
   {
    "duration": 4,
    "start_time": "2022-08-17T10:25:09.169Z"
   },
   {
    "duration": 59,
    "start_time": "2022-08-17T10:25:09.175Z"
   },
   {
    "duration": 17,
    "start_time": "2022-08-17T10:25:09.236Z"
   },
   {
    "duration": 403,
    "start_time": "2022-08-17T10:25:09.255Z"
   },
   {
    "duration": 19,
    "start_time": "2022-08-17T10:25:09.660Z"
   },
   {
    "duration": 402,
    "start_time": "2022-08-17T10:25:09.681Z"
   },
   {
    "duration": 301,
    "start_time": "2022-08-17T10:25:10.085Z"
   },
   {
    "duration": 724,
    "start_time": "2022-08-17T10:25:10.388Z"
   },
   {
    "duration": 281,
    "start_time": "2022-08-17T10:25:11.113Z"
   },
   {
    "duration": 3657,
    "start_time": "2022-08-17T10:25:11.396Z"
   },
   {
    "duration": 202,
    "start_time": "2022-08-17T10:25:15.054Z"
   },
   {
    "duration": 15,
    "start_time": "2022-08-17T10:25:15.258Z"
   },
   {
    "duration": 84,
    "start_time": "2022-08-17T10:25:15.274Z"
   },
   {
    "duration": 226,
    "start_time": "2022-08-17T10:29:10.482Z"
   },
   {
    "duration": 176,
    "start_time": "2022-08-17T10:29:18.879Z"
   },
   {
    "duration": 183,
    "start_time": "2022-08-17T10:31:00.485Z"
   },
   {
    "duration": 183,
    "start_time": "2022-08-17T10:31:15.867Z"
   },
   {
    "duration": 127,
    "start_time": "2022-08-17T10:33:58.121Z"
   },
   {
    "duration": 130,
    "start_time": "2022-08-17T10:34:18.895Z"
   },
   {
    "duration": 132,
    "start_time": "2022-08-17T10:34:31.181Z"
   },
   {
    "duration": 239,
    "start_time": "2022-08-17T10:35:50.180Z"
   },
   {
    "duration": 177,
    "start_time": "2022-08-17T10:36:01.089Z"
   },
   {
    "duration": 277,
    "start_time": "2022-08-17T10:39:19.705Z"
   },
   {
    "duration": 208,
    "start_time": "2022-08-17T10:39:53.403Z"
   },
   {
    "duration": 169,
    "start_time": "2022-08-17T10:40:02.784Z"
   },
   {
    "duration": 186,
    "start_time": "2022-08-17T10:40:11.143Z"
   },
   {
    "duration": 172,
    "start_time": "2022-08-17T10:40:20.653Z"
   },
   {
    "duration": 214,
    "start_time": "2022-08-17T10:40:32.104Z"
   },
   {
    "duration": 1179,
    "start_time": "2022-08-17T10:40:53.537Z"
   },
   {
    "duration": 173,
    "start_time": "2022-08-17T10:40:54.718Z"
   },
   {
    "duration": 4,
    "start_time": "2022-08-17T10:40:54.893Z"
   },
   {
    "duration": 59,
    "start_time": "2022-08-17T10:40:54.899Z"
   },
   {
    "duration": 17,
    "start_time": "2022-08-17T10:40:54.960Z"
   },
   {
    "duration": 400,
    "start_time": "2022-08-17T10:40:54.979Z"
   },
   {
    "duration": 24,
    "start_time": "2022-08-17T10:40:55.382Z"
   },
   {
    "duration": 319,
    "start_time": "2022-08-17T10:40:55.408Z"
   },
   {
    "duration": 236,
    "start_time": "2022-08-17T10:40:55.728Z"
   },
   {
    "duration": 780,
    "start_time": "2022-08-17T10:40:55.967Z"
   },
   {
    "duration": 279,
    "start_time": "2022-08-17T10:40:56.749Z"
   },
   {
    "duration": 4535,
    "start_time": "2022-08-17T10:40:57.030Z"
   },
   {
    "duration": 182,
    "start_time": "2022-08-17T10:41:01.567Z"
   },
   {
    "duration": 15,
    "start_time": "2022-08-17T10:41:01.750Z"
   },
   {
    "duration": 152,
    "start_time": "2022-08-17T10:41:01.766Z"
   },
   {
    "duration": 89,
    "start_time": "2022-08-17T11:46:24.151Z"
   },
   {
    "duration": 1074,
    "start_time": "2022-08-17T11:52:19.931Z"
   },
   {
    "duration": 98,
    "start_time": "2022-08-17T11:52:21.007Z"
   },
   {
    "duration": 4,
    "start_time": "2022-08-17T11:52:21.107Z"
   },
   {
    "duration": 54,
    "start_time": "2022-08-17T11:52:21.112Z"
   },
   {
    "duration": 16,
    "start_time": "2022-08-17T11:52:21.168Z"
   },
   {
    "duration": 368,
    "start_time": "2022-08-17T11:52:21.186Z"
   },
   {
    "duration": 13,
    "start_time": "2022-08-17T11:52:21.556Z"
   },
   {
    "duration": 314,
    "start_time": "2022-08-17T11:52:21.571Z"
   },
   {
    "duration": 241,
    "start_time": "2022-08-17T11:52:21.886Z"
   },
   {
    "duration": 674,
    "start_time": "2022-08-17T11:52:22.129Z"
   },
   {
    "duration": 256,
    "start_time": "2022-08-17T11:52:22.804Z"
   },
   {
    "duration": 3384,
    "start_time": "2022-08-17T11:52:23.062Z"
   },
   {
    "duration": 219,
    "start_time": "2022-08-17T11:52:26.448Z"
   },
   {
    "duration": 15,
    "start_time": "2022-08-17T11:52:26.669Z"
   },
   {
    "duration": 45,
    "start_time": "2022-08-17T17:22:14.294Z"
   },
   {
    "duration": 1176,
    "start_time": "2022-08-17T17:22:18.623Z"
   },
   {
    "duration": 328,
    "start_time": "2022-08-17T17:22:19.801Z"
   },
   {
    "duration": 4,
    "start_time": "2022-08-17T17:22:20.131Z"
   },
   {
    "duration": 58,
    "start_time": "2022-08-17T17:22:20.137Z"
   },
   {
    "duration": 19,
    "start_time": "2022-08-17T17:22:20.199Z"
   },
   {
    "duration": 411,
    "start_time": "2022-08-17T17:22:20.220Z"
   },
   {
    "duration": 14,
    "start_time": "2022-08-17T17:22:20.633Z"
   },
   {
    "duration": 354,
    "start_time": "2022-08-17T17:22:20.649Z"
   },
   {
    "duration": 223,
    "start_time": "2022-08-17T17:22:21.005Z"
   },
   {
    "duration": 334,
    "start_time": "2022-08-17T17:22:21.229Z"
   },
   {
    "duration": 649,
    "start_time": "2022-08-17T17:22:21.566Z"
   },
   {
    "duration": 283,
    "start_time": "2022-08-17T17:22:22.217Z"
   },
   {
    "duration": 3208,
    "start_time": "2022-08-17T17:22:22.502Z"
   },
   {
    "duration": 183,
    "start_time": "2022-08-17T17:22:25.712Z"
   },
   {
    "duration": 15,
    "start_time": "2022-08-17T17:22:25.899Z"
   },
   {
    "duration": 325,
    "start_time": "2022-08-17T17:22:39.321Z"
   },
   {
    "duration": 246,
    "start_time": "2022-08-17T17:22:52.250Z"
   },
   {
    "duration": 247,
    "start_time": "2022-08-17T17:23:40.267Z"
   },
   {
    "duration": 249,
    "start_time": "2022-08-17T17:23:42.382Z"
   },
   {
    "duration": 99,
    "start_time": "2022-08-17T17:29:43.646Z"
   },
   {
    "duration": 86,
    "start_time": "2022-08-18T05:52:26.624Z"
   },
   {
    "duration": 81,
    "start_time": "2022-08-18T05:53:49.025Z"
   },
   {
    "duration": 49,
    "start_time": "2022-08-18T06:00:32.937Z"
   },
   {
    "duration": 1396,
    "start_time": "2022-08-18T06:00:42.067Z"
   },
   {
    "duration": 156,
    "start_time": "2022-08-18T06:00:43.467Z"
   },
   {
    "duration": 5,
    "start_time": "2022-08-18T06:00:43.625Z"
   },
   {
    "duration": 68,
    "start_time": "2022-08-18T06:00:43.631Z"
   },
   {
    "duration": 21,
    "start_time": "2022-08-18T06:00:43.702Z"
   },
   {
    "duration": 18,
    "start_time": "2022-08-18T06:00:43.725Z"
   },
   {
    "duration": 149,
    "start_time": "2022-08-18T06:00:43.744Z"
   },
   {
    "duration": 0,
    "start_time": "2022-08-18T06:00:43.895Z"
   },
   {
    "duration": 0,
    "start_time": "2022-08-18T06:00:43.897Z"
   },
   {
    "duration": 0,
    "start_time": "2022-08-18T06:00:43.898Z"
   },
   {
    "duration": 0,
    "start_time": "2022-08-18T06:00:43.900Z"
   },
   {
    "duration": 0,
    "start_time": "2022-08-18T06:00:43.901Z"
   },
   {
    "duration": 0,
    "start_time": "2022-08-18T06:00:43.903Z"
   },
   {
    "duration": 0,
    "start_time": "2022-08-18T06:00:43.904Z"
   },
   {
    "duration": 0,
    "start_time": "2022-08-18T06:00:43.906Z"
   },
   {
    "duration": 0,
    "start_time": "2022-08-18T06:00:43.907Z"
   },
   {
    "duration": 12,
    "start_time": "2022-08-18T06:04:19.535Z"
   },
   {
    "duration": 40,
    "start_time": "2022-08-18T06:04:48.943Z"
   },
   {
    "duration": 13,
    "start_time": "2022-08-18T06:04:59.236Z"
   },
   {
    "duration": 45,
    "start_time": "2022-08-18T06:05:15.844Z"
   },
   {
    "duration": 26,
    "start_time": "2022-08-18T06:07:37.534Z"
   },
   {
    "duration": 25,
    "start_time": "2022-08-18T06:08:52.627Z"
   },
   {
    "duration": 33,
    "start_time": "2022-08-18T06:10:45.718Z"
   },
   {
    "duration": 1287,
    "start_time": "2022-08-18T06:11:04.076Z"
   },
   {
    "duration": 110,
    "start_time": "2022-08-18T06:11:05.368Z"
   },
   {
    "duration": 5,
    "start_time": "2022-08-18T06:11:05.481Z"
   },
   {
    "duration": 82,
    "start_time": "2022-08-18T06:11:05.489Z"
   },
   {
    "duration": 25,
    "start_time": "2022-08-18T06:11:05.580Z"
   },
   {
    "duration": 17,
    "start_time": "2022-08-18T06:11:05.607Z"
   },
   {
    "duration": 129,
    "start_time": "2022-08-18T06:11:05.626Z"
   },
   {
    "duration": 0,
    "start_time": "2022-08-18T06:11:05.756Z"
   },
   {
    "duration": 1,
    "start_time": "2022-08-18T06:11:05.757Z"
   },
   {
    "duration": 0,
    "start_time": "2022-08-18T06:11:05.759Z"
   },
   {
    "duration": 0,
    "start_time": "2022-08-18T06:11:05.778Z"
   },
   {
    "duration": 0,
    "start_time": "2022-08-18T06:11:05.779Z"
   },
   {
    "duration": 0,
    "start_time": "2022-08-18T06:11:05.780Z"
   },
   {
    "duration": 0,
    "start_time": "2022-08-18T06:11:05.780Z"
   },
   {
    "duration": 0,
    "start_time": "2022-08-18T06:11:05.783Z"
   },
   {
    "duration": 0,
    "start_time": "2022-08-18T06:11:05.784Z"
   },
   {
    "duration": 25,
    "start_time": "2022-08-18T06:14:03.431Z"
   },
   {
    "duration": 24,
    "start_time": "2022-08-18T06:14:28.935Z"
   },
   {
    "duration": 1318,
    "start_time": "2022-08-18T06:14:56.547Z"
   },
   {
    "duration": 121,
    "start_time": "2022-08-18T06:14:57.867Z"
   },
   {
    "duration": 7,
    "start_time": "2022-08-18T06:14:57.990Z"
   },
   {
    "duration": 87,
    "start_time": "2022-08-18T06:14:58.000Z"
   },
   {
    "duration": 25,
    "start_time": "2022-08-18T06:14:58.089Z"
   },
   {
    "duration": 18,
    "start_time": "2022-08-18T06:14:58.116Z"
   },
   {
    "duration": 156,
    "start_time": "2022-08-18T06:14:58.136Z"
   },
   {
    "duration": 0,
    "start_time": "2022-08-18T06:14:58.294Z"
   },
   {
    "duration": 0,
    "start_time": "2022-08-18T06:14:58.296Z"
   },
   {
    "duration": 0,
    "start_time": "2022-08-18T06:14:58.297Z"
   },
   {
    "duration": 0,
    "start_time": "2022-08-18T06:14:58.301Z"
   },
   {
    "duration": 0,
    "start_time": "2022-08-18T06:14:58.302Z"
   },
   {
    "duration": 0,
    "start_time": "2022-08-18T06:14:58.304Z"
   },
   {
    "duration": 0,
    "start_time": "2022-08-18T06:14:58.305Z"
   },
   {
    "duration": 0,
    "start_time": "2022-08-18T06:14:58.307Z"
   },
   {
    "duration": 0,
    "start_time": "2022-08-18T06:14:58.309Z"
   },
   {
    "duration": 33,
    "start_time": "2022-08-18T06:18:05.421Z"
   },
   {
    "duration": 29,
    "start_time": "2022-08-18T06:18:52.576Z"
   },
   {
    "duration": 43,
    "start_time": "2022-08-18T06:19:02.140Z"
   },
   {
    "duration": 32,
    "start_time": "2022-08-18T06:19:42.330Z"
   },
   {
    "duration": 61,
    "start_time": "2022-08-18T06:20:34.146Z"
   },
   {
    "duration": 61,
    "start_time": "2022-08-18T06:23:19.026Z"
   },
   {
    "duration": 68,
    "start_time": "2022-08-18T06:25:54.297Z"
   },
   {
    "duration": 55,
    "start_time": "2022-08-18T06:26:40.965Z"
   },
   {
    "duration": 44,
    "start_time": "2022-08-18T06:33:52.679Z"
   },
   {
    "duration": 53,
    "start_time": "2022-08-18T06:34:03.942Z"
   },
   {
    "duration": 49,
    "start_time": "2022-08-18T06:34:15.178Z"
   },
   {
    "duration": 18,
    "start_time": "2022-08-18T06:36:12.829Z"
   },
   {
    "duration": 20,
    "start_time": "2022-08-18T06:36:34.244Z"
   },
   {
    "duration": 3,
    "start_time": "2022-08-18T06:37:39.662Z"
   },
   {
    "duration": 442,
    "start_time": "2022-08-18T06:37:52.296Z"
   },
   {
    "duration": 6,
    "start_time": "2022-08-18T06:38:56.896Z"
   },
   {
    "duration": 11,
    "start_time": "2022-08-18T06:39:02.766Z"
   },
   {
    "duration": 15,
    "start_time": "2022-08-18T06:40:22.677Z"
   },
   {
    "duration": 314,
    "start_time": "2022-08-18T06:40:38.978Z"
   },
   {
    "duration": 229,
    "start_time": "2022-08-18T06:42:07.879Z"
   },
   {
    "duration": 258,
    "start_time": "2022-08-18T06:42:59.722Z"
   },
   {
    "duration": 689,
    "start_time": "2022-08-18T06:44:15.302Z"
   },
   {
    "duration": 798,
    "start_time": "2022-08-18T06:49:01.555Z"
   },
   {
    "duration": 85,
    "start_time": "2022-08-18T06:54:06.035Z"
   },
   {
    "duration": 87,
    "start_time": "2022-08-18T06:54:19.794Z"
   },
   {
    "duration": 28,
    "start_time": "2022-08-18T06:54:29.238Z"
   },
   {
    "duration": 18,
    "start_time": "2022-08-18T06:56:30.478Z"
   },
   {
    "duration": 83,
    "start_time": "2022-08-18T08:13:49.388Z"
   },
   {
    "duration": 1290,
    "start_time": "2022-08-18T08:14:19.758Z"
   },
   {
    "duration": 300,
    "start_time": "2022-08-18T08:14:21.050Z"
   },
   {
    "duration": 5,
    "start_time": "2022-08-18T08:14:21.351Z"
   },
   {
    "duration": 59,
    "start_time": "2022-08-18T08:14:21.358Z"
   },
   {
    "duration": 34,
    "start_time": "2022-08-18T08:14:21.419Z"
   },
   {
    "duration": 18,
    "start_time": "2022-08-18T08:14:21.455Z"
   },
   {
    "duration": 479,
    "start_time": "2022-08-18T08:14:21.474Z"
   },
   {
    "duration": 12,
    "start_time": "2022-08-18T08:14:21.955Z"
   },
   {
    "duration": 326,
    "start_time": "2022-08-18T08:14:21.969Z"
   },
   {
    "duration": 268,
    "start_time": "2022-08-18T08:14:22.297Z"
   },
   {
    "duration": 235,
    "start_time": "2022-08-18T08:14:22.567Z"
   },
   {
    "duration": 21,
    "start_time": "2022-08-18T08:14:22.804Z"
   },
   {
    "duration": 207,
    "start_time": "2022-08-18T08:14:22.827Z"
   },
   {
    "duration": 4029,
    "start_time": "2022-08-18T08:14:23.035Z"
   },
   {
    "duration": 193,
    "start_time": "2022-08-18T08:14:27.066Z"
   },
   {
    "duration": 15,
    "start_time": "2022-08-18T08:14:27.261Z"
   },
   {
    "duration": 66,
    "start_time": "2022-08-18T09:45:20.414Z"
   },
   {
    "duration": 1346,
    "start_time": "2022-08-18T09:45:44.713Z"
   },
   {
    "duration": 312,
    "start_time": "2022-08-18T09:45:46.061Z"
   },
   {
    "duration": 3,
    "start_time": "2022-08-18T09:45:46.375Z"
   },
   {
    "duration": 72,
    "start_time": "2022-08-18T09:45:46.381Z"
   },
   {
    "duration": 36,
    "start_time": "2022-08-18T09:45:46.455Z"
   },
   {
    "duration": 28,
    "start_time": "2022-08-18T09:45:46.493Z"
   },
   {
    "duration": 447,
    "start_time": "2022-08-18T09:45:46.523Z"
   },
   {
    "duration": 13,
    "start_time": "2022-08-18T09:45:46.972Z"
   },
   {
    "duration": 311,
    "start_time": "2022-08-18T09:45:46.986Z"
   },
   {
    "duration": 232,
    "start_time": "2022-08-18T09:45:47.299Z"
   },
   {
    "duration": 221,
    "start_time": "2022-08-18T09:45:47.533Z"
   },
   {
    "duration": 37,
    "start_time": "2022-08-18T09:45:47.755Z"
   },
   {
    "duration": 220,
    "start_time": "2022-08-18T09:45:47.794Z"
   },
   {
    "duration": 4062,
    "start_time": "2022-08-18T09:45:48.016Z"
   },
   {
    "duration": 188,
    "start_time": "2022-08-18T09:45:52.080Z"
   },
   {
    "duration": 13,
    "start_time": "2022-08-18T09:45:52.270Z"
   },
   {
    "duration": 145,
    "start_time": "2022-08-18T09:46:55.853Z"
   },
   {
    "duration": 1077,
    "start_time": "2022-08-18T09:47:03.045Z"
   },
   {
    "duration": 102,
    "start_time": "2022-08-18T09:47:04.125Z"
   },
   {
    "duration": 3,
    "start_time": "2022-08-18T09:47:04.229Z"
   },
   {
    "duration": 67,
    "start_time": "2022-08-18T09:47:04.234Z"
   },
   {
    "duration": 51,
    "start_time": "2022-08-18T09:47:04.304Z"
   },
   {
    "duration": 15,
    "start_time": "2022-08-18T09:47:04.357Z"
   },
   {
    "duration": 378,
    "start_time": "2022-08-18T09:47:04.374Z"
   },
   {
    "duration": 13,
    "start_time": "2022-08-18T09:47:04.753Z"
   },
   {
    "duration": 355,
    "start_time": "2022-08-18T09:47:04.767Z"
   },
   {
    "duration": 242,
    "start_time": "2022-08-18T09:47:05.124Z"
   },
   {
    "duration": 288,
    "start_time": "2022-08-18T09:47:05.368Z"
   },
   {
    "duration": 153,
    "start_time": "2022-08-18T09:47:05.658Z"
   },
   {
    "duration": 0,
    "start_time": "2022-08-18T09:47:05.812Z"
   },
   {
    "duration": 0,
    "start_time": "2022-08-18T09:47:05.813Z"
   },
   {
    "duration": 0,
    "start_time": "2022-08-18T09:47:05.814Z"
   },
   {
    "duration": 0,
    "start_time": "2022-08-18T09:47:05.815Z"
   },
   {
    "duration": 32,
    "start_time": "2022-08-18T09:58:54.842Z"
   },
   {
    "duration": 1160,
    "start_time": "2022-08-18T09:59:25.062Z"
   },
   {
    "duration": 98,
    "start_time": "2022-08-18T09:59:26.224Z"
   },
   {
    "duration": 5,
    "start_time": "2022-08-18T09:59:26.324Z"
   },
   {
    "duration": 84,
    "start_time": "2022-08-18T09:59:26.331Z"
   },
   {
    "duration": 56,
    "start_time": "2022-08-18T09:59:26.417Z"
   },
   {
    "duration": 40,
    "start_time": "2022-08-18T09:59:26.475Z"
   },
   {
    "duration": 417,
    "start_time": "2022-08-18T09:59:26.517Z"
   },
   {
    "duration": 13,
    "start_time": "2022-08-18T09:59:26.936Z"
   },
   {
    "duration": 355,
    "start_time": "2022-08-18T09:59:26.950Z"
   },
   {
    "duration": 257,
    "start_time": "2022-08-18T09:59:27.312Z"
   },
   {
    "duration": 226,
    "start_time": "2022-08-18T09:59:27.571Z"
   },
   {
    "duration": 152,
    "start_time": "2022-08-18T09:59:27.799Z"
   },
   {
    "duration": 0,
    "start_time": "2022-08-18T09:59:27.952Z"
   },
   {
    "duration": 0,
    "start_time": "2022-08-18T09:59:27.953Z"
   },
   {
    "duration": 0,
    "start_time": "2022-08-18T09:59:27.954Z"
   },
   {
    "duration": 0,
    "start_time": "2022-08-18T09:59:27.955Z"
   },
   {
    "duration": 34,
    "start_time": "2022-08-18T10:00:45.897Z"
   },
   {
    "duration": 40,
    "start_time": "2022-08-18T10:01:29.267Z"
   },
   {
    "duration": 45,
    "start_time": "2022-08-18T10:03:01.859Z"
   },
   {
    "duration": 2015,
    "start_time": "2022-08-18T10:41:50.320Z"
   },
   {
    "duration": 46,
    "start_time": "2022-08-18T10:42:07.135Z"
   },
   {
    "duration": 1110,
    "start_time": "2022-08-18T11:10:51.127Z"
   },
   {
    "duration": 153,
    "start_time": "2022-08-18T11:10:52.238Z"
   },
   {
    "duration": 4,
    "start_time": "2022-08-18T11:10:52.393Z"
   },
   {
    "duration": 72,
    "start_time": "2022-08-18T11:10:52.399Z"
   },
   {
    "duration": 70,
    "start_time": "2022-08-18T11:10:52.473Z"
   },
   {
    "duration": 17,
    "start_time": "2022-08-18T11:10:52.546Z"
   },
   {
    "duration": 440,
    "start_time": "2022-08-18T11:10:52.565Z"
   },
   {
    "duration": 27,
    "start_time": "2022-08-18T11:10:53.007Z"
   },
   {
    "duration": 362,
    "start_time": "2022-08-18T11:10:53.036Z"
   },
   {
    "duration": 238,
    "start_time": "2022-08-18T11:10:53.401Z"
   },
   {
    "duration": 230,
    "start_time": "2022-08-18T11:10:53.641Z"
   },
   {
    "duration": 187,
    "start_time": "2022-08-18T11:10:53.873Z"
   },
   {
    "duration": 0,
    "start_time": "2022-08-18T11:10:54.062Z"
   },
   {
    "duration": 0,
    "start_time": "2022-08-18T11:10:54.063Z"
   },
   {
    "duration": 0,
    "start_time": "2022-08-18T11:10:54.064Z"
   },
   {
    "duration": 0,
    "start_time": "2022-08-18T11:10:54.065Z"
   },
   {
    "duration": 50,
    "start_time": "2022-08-18T11:12:32.273Z"
   },
   {
    "duration": 1176,
    "start_time": "2022-08-18T11:12:42.452Z"
   },
   {
    "duration": 98,
    "start_time": "2022-08-18T11:12:43.630Z"
   },
   {
    "duration": 4,
    "start_time": "2022-08-18T11:12:43.731Z"
   },
   {
    "duration": 54,
    "start_time": "2022-08-18T11:12:43.736Z"
   },
   {
    "duration": 53,
    "start_time": "2022-08-18T11:12:43.791Z"
   },
   {
    "duration": 16,
    "start_time": "2022-08-18T11:12:43.846Z"
   },
   {
    "duration": 385,
    "start_time": "2022-08-18T11:12:43.863Z"
   },
   {
    "duration": 13,
    "start_time": "2022-08-18T11:12:44.249Z"
   },
   {
    "duration": 326,
    "start_time": "2022-08-18T11:12:44.264Z"
   },
   {
    "duration": 239,
    "start_time": "2022-08-18T11:12:44.592Z"
   },
   {
    "duration": 228,
    "start_time": "2022-08-18T11:12:44.833Z"
   },
   {
    "duration": 160,
    "start_time": "2022-08-18T11:12:45.063Z"
   },
   {
    "duration": 0,
    "start_time": "2022-08-18T11:12:45.225Z"
   },
   {
    "duration": 0,
    "start_time": "2022-08-18T11:12:45.227Z"
   },
   {
    "duration": 0,
    "start_time": "2022-08-18T11:12:45.227Z"
   },
   {
    "duration": 0,
    "start_time": "2022-08-18T11:12:45.228Z"
   },
   {
    "duration": 25,
    "start_time": "2022-08-18T11:13:33.078Z"
   },
   {
    "duration": 1136,
    "start_time": "2022-08-18T11:13:43.259Z"
   },
   {
    "duration": 111,
    "start_time": "2022-08-18T11:13:44.397Z"
   },
   {
    "duration": 13,
    "start_time": "2022-08-18T11:13:44.509Z"
   },
   {
    "duration": 57,
    "start_time": "2022-08-18T11:13:44.524Z"
   },
   {
    "duration": 63,
    "start_time": "2022-08-18T11:13:44.583Z"
   },
   {
    "duration": 16,
    "start_time": "2022-08-18T11:13:44.647Z"
   },
   {
    "duration": 393,
    "start_time": "2022-08-18T11:13:44.664Z"
   },
   {
    "duration": 13,
    "start_time": "2022-08-18T11:13:45.058Z"
   },
   {
    "duration": 324,
    "start_time": "2022-08-18T11:13:45.072Z"
   },
   {
    "duration": 238,
    "start_time": "2022-08-18T11:13:45.398Z"
   },
   {
    "duration": 223,
    "start_time": "2022-08-18T11:13:45.638Z"
   },
   {
    "duration": 133,
    "start_time": "2022-08-18T11:13:45.863Z"
   },
   {
    "duration": 0,
    "start_time": "2022-08-18T11:13:45.997Z"
   },
   {
    "duration": 0,
    "start_time": "2022-08-18T11:13:45.998Z"
   },
   {
    "duration": 0,
    "start_time": "2022-08-18T11:13:45.999Z"
   },
   {
    "duration": 0,
    "start_time": "2022-08-18T11:13:46.000Z"
   },
   {
    "duration": 24,
    "start_time": "2022-08-18T11:14:06.022Z"
   },
   {
    "duration": 27,
    "start_time": "2022-08-18T11:14:52.473Z"
   },
   {
    "duration": 30,
    "start_time": "2022-08-18T11:15:44.143Z"
   },
   {
    "duration": 30,
    "start_time": "2022-08-18T11:16:20.744Z"
   },
   {
    "duration": 36,
    "start_time": "2022-08-18T11:17:52.559Z"
   },
   {
    "duration": 53,
    "start_time": "2022-08-18T11:18:27.647Z"
   },
   {
    "duration": 46,
    "start_time": "2022-08-18T11:35:08.766Z"
   },
   {
    "duration": 36,
    "start_time": "2022-08-18T11:35:36.748Z"
   },
   {
    "duration": 32,
    "start_time": "2022-08-18T11:35:55.271Z"
   },
   {
    "duration": 34,
    "start_time": "2022-08-18T11:45:03.697Z"
   },
   {
    "duration": 37,
    "start_time": "2022-08-18T11:45:57.700Z"
   },
   {
    "duration": 33,
    "start_time": "2022-08-18T11:46:23.911Z"
   },
   {
    "duration": 32,
    "start_time": "2022-08-18T11:47:01.377Z"
   },
   {
    "duration": 33,
    "start_time": "2022-08-18T11:50:00.922Z"
   },
   {
    "duration": 26,
    "start_time": "2022-08-18T11:50:14.718Z"
   },
   {
    "duration": 1114,
    "start_time": "2022-08-18T11:50:25.716Z"
   },
   {
    "duration": 123,
    "start_time": "2022-08-18T11:50:26.832Z"
   },
   {
    "duration": 4,
    "start_time": "2022-08-18T11:50:26.957Z"
   },
   {
    "duration": 62,
    "start_time": "2022-08-18T11:50:26.962Z"
   },
   {
    "duration": 36,
    "start_time": "2022-08-18T11:50:27.027Z"
   },
   {
    "duration": 15,
    "start_time": "2022-08-18T11:50:27.064Z"
   },
   {
    "duration": 377,
    "start_time": "2022-08-18T11:50:27.081Z"
   },
   {
    "duration": 13,
    "start_time": "2022-08-18T11:50:27.459Z"
   },
   {
    "duration": 327,
    "start_time": "2022-08-18T11:50:27.474Z"
   },
   {
    "duration": 240,
    "start_time": "2022-08-18T11:50:27.803Z"
   },
   {
    "duration": 235,
    "start_time": "2022-08-18T11:50:28.045Z"
   },
   {
    "duration": 38,
    "start_time": "2022-08-18T11:50:28.282Z"
   },
   {
    "duration": 211,
    "start_time": "2022-08-18T11:50:28.322Z"
   },
   {
    "duration": 4157,
    "start_time": "2022-08-18T11:50:28.536Z"
   },
   {
    "duration": 208,
    "start_time": "2022-08-18T11:50:32.695Z"
   },
   {
    "duration": 13,
    "start_time": "2022-08-18T11:50:32.905Z"
   },
   {
    "duration": 57,
    "start_time": "2022-08-18T15:21:02.093Z"
   },
   {
    "duration": 1286,
    "start_time": "2022-08-18T15:21:10.346Z"
   },
   {
    "duration": 302,
    "start_time": "2022-08-18T15:21:11.634Z"
   },
   {
    "duration": 4,
    "start_time": "2022-08-18T15:21:11.937Z"
   },
   {
    "duration": 56,
    "start_time": "2022-08-18T15:21:11.943Z"
   },
   {
    "duration": 40,
    "start_time": "2022-08-18T15:21:12.001Z"
   },
   {
    "duration": 15,
    "start_time": "2022-08-18T15:21:12.043Z"
   },
   {
    "duration": 431,
    "start_time": "2022-08-18T15:21:12.060Z"
   },
   {
    "duration": 29,
    "start_time": "2022-08-18T15:21:12.493Z"
   },
   {
    "duration": 327,
    "start_time": "2022-08-18T15:21:12.524Z"
   },
   {
    "duration": 227,
    "start_time": "2022-08-18T15:21:12.854Z"
   },
   {
    "duration": 239,
    "start_time": "2022-08-18T15:21:13.082Z"
   },
   {
    "duration": 1418,
    "start_time": "2022-08-18T15:21:13.323Z"
   },
   {
    "duration": 0,
    "start_time": "2022-08-18T15:21:14.743Z"
   },
   {
    "duration": 0,
    "start_time": "2022-08-18T15:21:14.744Z"
   },
   {
    "duration": 0,
    "start_time": "2022-08-18T15:21:14.745Z"
   },
   {
    "duration": 0,
    "start_time": "2022-08-18T15:21:14.746Z"
   },
   {
    "duration": 1781,
    "start_time": "2022-08-18T15:22:24.226Z"
   },
   {
    "duration": 40,
    "start_time": "2022-08-18T15:23:15.850Z"
   },
   {
    "duration": 35,
    "start_time": "2022-08-18T15:28:49.546Z"
   },
   {
    "duration": 93,
    "start_time": "2022-08-18T15:33:52.536Z"
   },
   {
    "duration": 31,
    "start_time": "2022-08-18T15:34:11.456Z"
   },
   {
    "duration": 1145,
    "start_time": "2022-08-18T16:02:18.680Z"
   },
   {
    "duration": 102,
    "start_time": "2022-08-18T16:02:19.827Z"
   },
   {
    "duration": 4,
    "start_time": "2022-08-18T16:02:19.930Z"
   },
   {
    "duration": 57,
    "start_time": "2022-08-18T16:02:19.936Z"
   },
   {
    "duration": 44,
    "start_time": "2022-08-18T16:02:19.995Z"
   },
   {
    "duration": 15,
    "start_time": "2022-08-18T16:02:20.041Z"
   },
   {
    "duration": 384,
    "start_time": "2022-08-18T16:02:20.057Z"
   },
   {
    "duration": 12,
    "start_time": "2022-08-18T16:02:20.443Z"
   },
   {
    "duration": 341,
    "start_time": "2022-08-18T16:02:20.456Z"
   },
   {
    "duration": 222,
    "start_time": "2022-08-18T16:02:20.810Z"
   },
   {
    "duration": 226,
    "start_time": "2022-08-18T16:02:21.033Z"
   },
   {
    "duration": 103,
    "start_time": "2022-08-18T16:02:21.260Z"
   },
   {
    "duration": 0,
    "start_time": "2022-08-18T16:02:21.365Z"
   },
   {
    "duration": 0,
    "start_time": "2022-08-18T16:02:21.366Z"
   },
   {
    "duration": 0,
    "start_time": "2022-08-18T16:02:21.367Z"
   },
   {
    "duration": 0,
    "start_time": "2022-08-18T16:02:21.368Z"
   },
   {
    "duration": 16,
    "start_time": "2022-08-18T16:05:55.211Z"
   },
   {
    "duration": 1055,
    "start_time": "2022-08-18T16:06:13.756Z"
   },
   {
    "duration": 103,
    "start_time": "2022-08-18T16:06:14.813Z"
   },
   {
    "duration": 4,
    "start_time": "2022-08-18T16:06:14.918Z"
   },
   {
    "duration": 53,
    "start_time": "2022-08-18T16:06:14.924Z"
   },
   {
    "duration": 53,
    "start_time": "2022-08-18T16:06:14.980Z"
   },
   {
    "duration": 17,
    "start_time": "2022-08-18T16:06:15.035Z"
   },
   {
    "duration": 388,
    "start_time": "2022-08-18T16:06:15.054Z"
   },
   {
    "duration": 17,
    "start_time": "2022-08-18T16:06:15.444Z"
   },
   {
    "duration": 326,
    "start_time": "2022-08-18T16:06:15.463Z"
   },
   {
    "duration": 230,
    "start_time": "2022-08-18T16:06:15.790Z"
   },
   {
    "duration": 220,
    "start_time": "2022-08-18T16:06:16.021Z"
   },
   {
    "duration": 145,
    "start_time": "2022-08-18T16:06:16.243Z"
   },
   {
    "duration": 0,
    "start_time": "2022-08-18T16:06:16.390Z"
   },
   {
    "duration": 0,
    "start_time": "2022-08-18T16:06:16.391Z"
   },
   {
    "duration": 0,
    "start_time": "2022-08-18T16:06:16.392Z"
   },
   {
    "duration": 0,
    "start_time": "2022-08-18T16:06:16.393Z"
   },
   {
    "duration": 179,
    "start_time": "2022-08-18T16:06:56.654Z"
   },
   {
    "duration": 3227,
    "start_time": "2022-08-18T16:07:35.389Z"
   },
   {
    "duration": 3325,
    "start_time": "2022-08-18T16:26:36.698Z"
   },
   {
    "duration": 1092,
    "start_time": "2022-08-18T16:29:02.637Z"
   },
   {
    "duration": 269,
    "start_time": "2022-08-18T16:29:03.731Z"
   },
   {
    "duration": 4,
    "start_time": "2022-08-18T16:29:04.001Z"
   },
   {
    "duration": 59,
    "start_time": "2022-08-18T16:29:04.007Z"
   },
   {
    "duration": 45,
    "start_time": "2022-08-18T16:29:04.069Z"
   },
   {
    "duration": 17,
    "start_time": "2022-08-18T16:29:04.116Z"
   },
   {
    "duration": 408,
    "start_time": "2022-08-18T16:29:04.135Z"
   },
   {
    "duration": 13,
    "start_time": "2022-08-18T16:29:04.545Z"
   },
   {
    "duration": 320,
    "start_time": "2022-08-18T16:29:04.560Z"
   },
   {
    "duration": 230,
    "start_time": "2022-08-18T16:29:04.882Z"
   },
   {
    "duration": 221,
    "start_time": "2022-08-18T16:29:05.113Z"
   },
   {
    "duration": 156,
    "start_time": "2022-08-18T16:29:05.336Z"
   },
   {
    "duration": 0,
    "start_time": "2022-08-18T16:29:05.494Z"
   },
   {
    "duration": 0,
    "start_time": "2022-08-18T16:29:05.495Z"
   },
   {
    "duration": 0,
    "start_time": "2022-08-18T16:29:05.496Z"
   },
   {
    "duration": 0,
    "start_time": "2022-08-18T16:29:05.497Z"
   },
   {
    "duration": 1125,
    "start_time": "2022-08-18T16:29:35.900Z"
   },
   {
    "duration": 90,
    "start_time": "2022-08-18T16:29:37.027Z"
   },
   {
    "duration": 4,
    "start_time": "2022-08-18T16:29:37.118Z"
   },
   {
    "duration": 64,
    "start_time": "2022-08-18T16:29:37.123Z"
   },
   {
    "duration": 40,
    "start_time": "2022-08-18T16:29:37.189Z"
   },
   {
    "duration": 17,
    "start_time": "2022-08-18T16:29:37.230Z"
   },
   {
    "duration": 394,
    "start_time": "2022-08-18T16:29:37.248Z"
   },
   {
    "duration": 12,
    "start_time": "2022-08-18T16:29:37.643Z"
   },
   {
    "duration": 326,
    "start_time": "2022-08-18T16:29:37.657Z"
   },
   {
    "duration": 222,
    "start_time": "2022-08-18T16:29:37.985Z"
   },
   {
    "duration": 221,
    "start_time": "2022-08-18T16:29:38.211Z"
   },
   {
    "duration": 141,
    "start_time": "2022-08-18T16:29:38.434Z"
   },
   {
    "duration": 0,
    "start_time": "2022-08-18T16:29:38.577Z"
   },
   {
    "duration": 0,
    "start_time": "2022-08-18T16:29:38.578Z"
   },
   {
    "duration": 0,
    "start_time": "2022-08-18T16:29:38.579Z"
   },
   {
    "duration": 0,
    "start_time": "2022-08-18T16:29:38.580Z"
   },
   {
    "duration": 1075,
    "start_time": "2022-08-18T16:30:07.057Z"
   },
   {
    "duration": 128,
    "start_time": "2022-08-18T16:30:08.134Z"
   },
   {
    "duration": 4,
    "start_time": "2022-08-18T16:30:08.264Z"
   },
   {
    "duration": 63,
    "start_time": "2022-08-18T16:30:08.270Z"
   },
   {
    "duration": 38,
    "start_time": "2022-08-18T16:30:08.335Z"
   },
   {
    "duration": 38,
    "start_time": "2022-08-18T16:30:08.375Z"
   },
   {
    "duration": 353,
    "start_time": "2022-08-18T16:30:08.415Z"
   },
   {
    "duration": 13,
    "start_time": "2022-08-18T16:30:08.770Z"
   },
   {
    "duration": 310,
    "start_time": "2022-08-18T16:30:08.785Z"
   },
   {
    "duration": 217,
    "start_time": "2022-08-18T16:30:09.097Z"
   },
   {
    "duration": 241,
    "start_time": "2022-08-18T16:30:09.315Z"
   },
   {
    "duration": 135,
    "start_time": "2022-08-18T16:30:09.558Z"
   },
   {
    "duration": 0,
    "start_time": "2022-08-18T16:30:09.695Z"
   },
   {
    "duration": 0,
    "start_time": "2022-08-18T16:30:09.696Z"
   },
   {
    "duration": 0,
    "start_time": "2022-08-18T16:30:09.697Z"
   },
   {
    "duration": 0,
    "start_time": "2022-08-18T16:30:09.698Z"
   },
   {
    "duration": 1179,
    "start_time": "2022-08-18T16:31:11.392Z"
   },
   {
    "duration": 144,
    "start_time": "2022-08-18T16:31:12.573Z"
   },
   {
    "duration": 5,
    "start_time": "2022-08-18T16:31:12.719Z"
   },
   {
    "duration": 56,
    "start_time": "2022-08-18T16:31:12.726Z"
   },
   {
    "duration": 50,
    "start_time": "2022-08-18T16:31:12.783Z"
   },
   {
    "duration": 16,
    "start_time": "2022-08-18T16:31:12.835Z"
   },
   {
    "duration": 394,
    "start_time": "2022-08-18T16:31:12.853Z"
   },
   {
    "duration": 13,
    "start_time": "2022-08-18T16:31:13.248Z"
   },
   {
    "duration": 320,
    "start_time": "2022-08-18T16:31:13.262Z"
   },
   {
    "duration": 223,
    "start_time": "2022-08-18T16:31:13.584Z"
   },
   {
    "duration": 220,
    "start_time": "2022-08-18T16:31:13.810Z"
   },
   {
    "duration": 138,
    "start_time": "2022-08-18T16:31:14.031Z"
   },
   {
    "duration": 0,
    "start_time": "2022-08-18T16:31:14.171Z"
   },
   {
    "duration": 0,
    "start_time": "2022-08-18T16:31:14.173Z"
   },
   {
    "duration": 0,
    "start_time": "2022-08-18T16:31:14.173Z"
   },
   {
    "duration": 0,
    "start_time": "2022-08-18T16:31:14.175Z"
   },
   {
    "duration": 2553,
    "start_time": "2022-08-18T16:33:09.482Z"
   },
   {
    "duration": 2448,
    "start_time": "2022-08-18T16:34:02.002Z"
   },
   {
    "duration": 1148,
    "start_time": "2022-08-18T16:35:01.218Z"
   },
   {
    "duration": 359,
    "start_time": "2022-08-18T16:35:02.368Z"
   },
   {
    "duration": 4,
    "start_time": "2022-08-18T16:35:02.728Z"
   },
   {
    "duration": 74,
    "start_time": "2022-08-18T16:35:02.735Z"
   },
   {
    "duration": 35,
    "start_time": "2022-08-18T16:35:02.811Z"
   },
   {
    "duration": 15,
    "start_time": "2022-08-18T16:35:02.848Z"
   },
   {
    "duration": 379,
    "start_time": "2022-08-18T16:35:02.864Z"
   },
   {
    "duration": 13,
    "start_time": "2022-08-18T16:35:03.244Z"
   },
   {
    "duration": 320,
    "start_time": "2022-08-18T16:35:03.259Z"
   },
   {
    "duration": 228,
    "start_time": "2022-08-18T16:35:03.581Z"
   },
   {
    "duration": 215,
    "start_time": "2022-08-18T16:35:03.811Z"
   },
   {
    "duration": 150,
    "start_time": "2022-08-18T16:35:04.028Z"
   },
   {
    "duration": 0,
    "start_time": "2022-08-18T16:35:04.179Z"
   },
   {
    "duration": 0,
    "start_time": "2022-08-18T16:35:04.181Z"
   },
   {
    "duration": 0,
    "start_time": "2022-08-18T16:35:04.183Z"
   },
   {
    "duration": 0,
    "start_time": "2022-08-18T16:35:04.184Z"
   },
   {
    "duration": 1112,
    "start_time": "2022-08-18T16:35:58.096Z"
   },
   {
    "duration": 92,
    "start_time": "2022-08-18T16:35:59.210Z"
   },
   {
    "duration": 4,
    "start_time": "2022-08-18T16:35:59.303Z"
   },
   {
    "duration": 52,
    "start_time": "2022-08-18T16:35:59.308Z"
   },
   {
    "duration": 38,
    "start_time": "2022-08-18T16:35:59.362Z"
   },
   {
    "duration": 18,
    "start_time": "2022-08-18T16:35:59.411Z"
   },
   {
    "duration": 400,
    "start_time": "2022-08-18T16:35:59.431Z"
   },
   {
    "duration": 13,
    "start_time": "2022-08-18T16:35:59.832Z"
   },
   {
    "duration": 336,
    "start_time": "2022-08-18T16:35:59.846Z"
   },
   {
    "duration": 237,
    "start_time": "2022-08-18T16:36:00.183Z"
   },
   {
    "duration": 226,
    "start_time": "2022-08-18T16:36:00.422Z"
   },
   {
    "duration": 140,
    "start_time": "2022-08-18T16:36:00.650Z"
   },
   {
    "duration": 0,
    "start_time": "2022-08-18T16:36:00.791Z"
   },
   {
    "duration": 0,
    "start_time": "2022-08-18T16:36:00.793Z"
   },
   {
    "duration": 0,
    "start_time": "2022-08-18T16:36:00.794Z"
   },
   {
    "duration": 0,
    "start_time": "2022-08-18T16:36:00.795Z"
   },
   {
    "duration": 2288,
    "start_time": "2022-08-18T16:36:24.138Z"
   },
   {
    "duration": 2470,
    "start_time": "2022-08-18T16:36:47.246Z"
   },
   {
    "duration": 2304,
    "start_time": "2022-08-18T16:40:43.964Z"
   },
   {
    "duration": 1078,
    "start_time": "2022-08-18T16:40:53.347Z"
   },
   {
    "duration": 90,
    "start_time": "2022-08-18T16:40:54.427Z"
   },
   {
    "duration": 4,
    "start_time": "2022-08-18T16:40:54.518Z"
   },
   {
    "duration": 52,
    "start_time": "2022-08-18T16:40:54.524Z"
   },
   {
    "duration": 48,
    "start_time": "2022-08-18T16:40:54.578Z"
   },
   {
    "duration": 16,
    "start_time": "2022-08-18T16:40:54.628Z"
   },
   {
    "duration": 411,
    "start_time": "2022-08-18T16:40:54.645Z"
   },
   {
    "duration": 12,
    "start_time": "2022-08-18T16:40:55.058Z"
   },
   {
    "duration": 315,
    "start_time": "2022-08-18T16:40:55.071Z"
   },
   {
    "duration": 232,
    "start_time": "2022-08-18T16:40:55.388Z"
   },
   {
    "duration": 228,
    "start_time": "2022-08-18T16:40:55.621Z"
   },
   {
    "duration": 136,
    "start_time": "2022-08-18T16:40:55.851Z"
   },
   {
    "duration": 0,
    "start_time": "2022-08-18T16:40:55.990Z"
   },
   {
    "duration": 0,
    "start_time": "2022-08-18T16:40:55.991Z"
   },
   {
    "duration": 0,
    "start_time": "2022-08-18T16:40:55.991Z"
   },
   {
    "duration": 0,
    "start_time": "2022-08-18T16:40:55.992Z"
   },
   {
    "duration": 1085,
    "start_time": "2022-08-18T16:41:21.340Z"
   },
   {
    "duration": 103,
    "start_time": "2022-08-18T16:41:22.426Z"
   },
   {
    "duration": 5,
    "start_time": "2022-08-18T16:41:22.531Z"
   },
   {
    "duration": 79,
    "start_time": "2022-08-18T16:41:22.538Z"
   },
   {
    "duration": 45,
    "start_time": "2022-08-18T16:41:22.620Z"
   },
   {
    "duration": 20,
    "start_time": "2022-08-18T16:41:22.667Z"
   },
   {
    "duration": 393,
    "start_time": "2022-08-18T16:41:22.690Z"
   },
   {
    "duration": 12,
    "start_time": "2022-08-18T16:41:23.085Z"
   },
   {
    "duration": 305,
    "start_time": "2022-08-18T16:41:23.110Z"
   },
   {
    "duration": 223,
    "start_time": "2022-08-18T16:41:23.416Z"
   },
   {
    "duration": 221,
    "start_time": "2022-08-18T16:41:23.641Z"
   },
   {
    "duration": 144,
    "start_time": "2022-08-18T16:41:23.864Z"
   },
   {
    "duration": 0,
    "start_time": "2022-08-18T16:41:24.011Z"
   },
   {
    "duration": 0,
    "start_time": "2022-08-18T16:41:24.012Z"
   },
   {
    "duration": 0,
    "start_time": "2022-08-18T16:41:24.013Z"
   },
   {
    "duration": 1,
    "start_time": "2022-08-18T16:41:24.013Z"
   },
   {
    "duration": 1082,
    "start_time": "2022-08-18T16:42:50.046Z"
   },
   {
    "duration": 93,
    "start_time": "2022-08-18T16:42:51.130Z"
   },
   {
    "duration": 4,
    "start_time": "2022-08-18T16:42:51.224Z"
   },
   {
    "duration": 58,
    "start_time": "2022-08-18T16:42:51.230Z"
   },
   {
    "duration": 45,
    "start_time": "2022-08-18T16:42:51.291Z"
   },
   {
    "duration": 16,
    "start_time": "2022-08-18T16:42:51.338Z"
   },
   {
    "duration": 384,
    "start_time": "2022-08-18T16:42:51.356Z"
   },
   {
    "duration": 13,
    "start_time": "2022-08-18T16:42:51.742Z"
   },
   {
    "duration": 327,
    "start_time": "2022-08-18T16:42:51.756Z"
   },
   {
    "duration": 229,
    "start_time": "2022-08-18T16:42:52.084Z"
   },
   {
    "duration": 229,
    "start_time": "2022-08-18T16:42:52.314Z"
   },
   {
    "duration": 173,
    "start_time": "2022-08-18T16:42:52.545Z"
   },
   {
    "duration": 0,
    "start_time": "2022-08-18T16:42:52.719Z"
   },
   {
    "duration": 0,
    "start_time": "2022-08-18T16:42:52.721Z"
   },
   {
    "duration": 0,
    "start_time": "2022-08-18T16:42:52.722Z"
   },
   {
    "duration": 0,
    "start_time": "2022-08-18T16:42:52.723Z"
   },
   {
    "duration": 26,
    "start_time": "2022-08-18T16:44:33.608Z"
   },
   {
    "duration": 192,
    "start_time": "2022-08-18T16:44:42.719Z"
   },
   {
    "duration": 2209,
    "start_time": "2022-08-18T16:44:54.156Z"
   },
   {
    "duration": 124,
    "start_time": "2022-08-19T02:59:22.499Z"
   },
   {
    "duration": 78,
    "start_time": "2022-08-19T03:02:05.877Z"
   },
   {
    "duration": 58,
    "start_time": "2022-08-19T03:02:51.610Z"
   },
   {
    "duration": 1576,
    "start_time": "2022-08-19T03:03:05.411Z"
   },
   {
    "duration": 344,
    "start_time": "2022-08-19T03:03:06.990Z"
   },
   {
    "duration": 6,
    "start_time": "2022-08-19T03:03:07.337Z"
   },
   {
    "duration": 87,
    "start_time": "2022-08-19T03:03:07.346Z"
   },
   {
    "duration": 38,
    "start_time": "2022-08-19T03:03:07.435Z"
   },
   {
    "duration": 36,
    "start_time": "2022-08-19T03:03:07.475Z"
   },
   {
    "duration": 522,
    "start_time": "2022-08-19T03:03:07.516Z"
   },
   {
    "duration": 16,
    "start_time": "2022-08-19T03:03:08.040Z"
   },
   {
    "duration": 372,
    "start_time": "2022-08-19T03:03:08.058Z"
   },
   {
    "duration": 294,
    "start_time": "2022-08-19T03:03:08.434Z"
   },
   {
    "duration": 303,
    "start_time": "2022-08-19T03:03:08.731Z"
   },
   {
    "duration": 166,
    "start_time": "2022-08-19T03:03:09.036Z"
   },
   {
    "duration": 0,
    "start_time": "2022-08-19T03:03:09.206Z"
   },
   {
    "duration": 0,
    "start_time": "2022-08-19T03:03:09.207Z"
   },
   {
    "duration": 0,
    "start_time": "2022-08-19T03:03:09.208Z"
   },
   {
    "duration": 0,
    "start_time": "2022-08-19T03:03:09.209Z"
   },
   {
    "duration": 1238,
    "start_time": "2022-08-19T03:09:37.800Z"
   },
   {
    "duration": 1165,
    "start_time": "2022-08-19T03:09:58.156Z"
   },
   {
    "duration": 92,
    "start_time": "2022-08-19T03:09:59.323Z"
   },
   {
    "duration": 4,
    "start_time": "2022-08-19T03:09:59.416Z"
   },
   {
    "duration": 95,
    "start_time": "2022-08-19T03:09:59.422Z"
   },
   {
    "duration": 39,
    "start_time": "2022-08-19T03:09:59.520Z"
   },
   {
    "duration": 34,
    "start_time": "2022-08-19T03:09:59.561Z"
   },
   {
    "duration": 448,
    "start_time": "2022-08-19T03:09:59.597Z"
   },
   {
    "duration": 13,
    "start_time": "2022-08-19T03:10:00.047Z"
   },
   {
    "duration": 342,
    "start_time": "2022-08-19T03:10:00.062Z"
   },
   {
    "duration": 233,
    "start_time": "2022-08-19T03:10:00.407Z"
   },
   {
    "duration": 260,
    "start_time": "2022-08-19T03:10:00.642Z"
   },
   {
    "duration": 1544,
    "start_time": "2022-08-19T03:10:00.904Z"
   },
   {
    "duration": 0,
    "start_time": "2022-08-19T03:10:02.450Z"
   },
   {
    "duration": 0,
    "start_time": "2022-08-19T03:10:02.451Z"
   },
   {
    "duration": 0,
    "start_time": "2022-08-19T03:10:02.452Z"
   },
   {
    "duration": 0,
    "start_time": "2022-08-19T03:10:02.452Z"
   },
   {
    "duration": 86,
    "start_time": "2022-08-19T03:16:31.095Z"
   },
   {
    "duration": 78,
    "start_time": "2022-08-19T03:16:43.211Z"
   },
   {
    "duration": 175,
    "start_time": "2022-08-19T03:24:34.673Z"
   },
   {
    "duration": 243,
    "start_time": "2022-08-19T03:24:53.909Z"
   },
   {
    "duration": 280,
    "start_time": "2022-08-19T03:28:54.049Z"
   },
   {
    "duration": 759,
    "start_time": "2022-08-19T03:34:02.215Z"
   },
   {
    "duration": 541,
    "start_time": "2022-08-19T03:34:35.925Z"
   },
   {
    "duration": 689,
    "start_time": "2022-08-19T03:39:13.179Z"
   },
   {
    "duration": 380,
    "start_time": "2022-08-19T03:43:29.136Z"
   },
   {
    "duration": 441,
    "start_time": "2022-08-19T03:48:34.796Z"
   },
   {
    "duration": 57,
    "start_time": "2022-08-19T05:56:55.896Z"
   },
   {
    "duration": 1368,
    "start_time": "2022-08-19T05:57:02.616Z"
   },
   {
    "duration": 265,
    "start_time": "2022-08-19T05:57:03.987Z"
   },
   {
    "duration": 4,
    "start_time": "2022-08-19T05:57:04.254Z"
   },
   {
    "duration": 59,
    "start_time": "2022-08-19T05:57:04.260Z"
   },
   {
    "duration": 45,
    "start_time": "2022-08-19T05:57:04.320Z"
   },
   {
    "duration": 18,
    "start_time": "2022-08-19T05:57:04.367Z"
   },
   {
    "duration": 452,
    "start_time": "2022-08-19T05:57:04.386Z"
   },
   {
    "duration": 20,
    "start_time": "2022-08-19T05:57:04.840Z"
   },
   {
    "duration": 314,
    "start_time": "2022-08-19T05:57:04.861Z"
   },
   {
    "duration": 286,
    "start_time": "2022-08-19T05:57:05.178Z"
   },
   {
    "duration": 259,
    "start_time": "2022-08-19T05:57:05.466Z"
   },
   {
    "duration": 394,
    "start_time": "2022-08-19T05:57:05.727Z"
   },
   {
    "duration": 270,
    "start_time": "2022-08-19T05:57:06.123Z"
   },
   {
    "duration": 4134,
    "start_time": "2022-08-19T05:57:06.395Z"
   },
   {
    "duration": 204,
    "start_time": "2022-08-19T05:57:10.530Z"
   },
   {
    "duration": 24,
    "start_time": "2022-08-19T05:57:10.735Z"
   },
   {
    "duration": 353,
    "start_time": "2022-08-19T05:59:24.375Z"
   },
   {
    "duration": 1099,
    "start_time": "2022-08-19T06:01:22.799Z"
   },
   {
    "duration": 121,
    "start_time": "2022-08-19T06:01:23.900Z"
   },
   {
    "duration": 4,
    "start_time": "2022-08-19T06:01:24.023Z"
   },
   {
    "duration": 59,
    "start_time": "2022-08-19T06:01:24.029Z"
   },
   {
    "duration": 35,
    "start_time": "2022-08-19T06:01:24.090Z"
   },
   {
    "duration": 15,
    "start_time": "2022-08-19T06:01:24.127Z"
   },
   {
    "duration": 365,
    "start_time": "2022-08-19T06:01:24.158Z"
   },
   {
    "duration": 14,
    "start_time": "2022-08-19T06:01:24.524Z"
   },
   {
    "duration": 320,
    "start_time": "2022-08-19T06:01:24.539Z"
   },
   {
    "duration": 235,
    "start_time": "2022-08-19T06:01:24.862Z"
   },
   {
    "duration": 291,
    "start_time": "2022-08-19T06:01:25.098Z"
   },
   {
    "duration": 384,
    "start_time": "2022-08-19T06:01:25.390Z"
   },
   {
    "duration": 270,
    "start_time": "2022-08-19T06:01:25.776Z"
   },
   {
    "duration": 3385,
    "start_time": "2022-08-19T06:01:26.048Z"
   },
   {
    "duration": 199,
    "start_time": "2022-08-19T06:01:29.434Z"
   },
   {
    "duration": 24,
    "start_time": "2022-08-19T06:01:29.635Z"
   },
   {
    "duration": 1116,
    "start_time": "2022-08-19T06:08:09.280Z"
   },
   {
    "duration": 87,
    "start_time": "2022-08-19T06:08:10.398Z"
   },
   {
    "duration": 4,
    "start_time": "2022-08-19T06:08:10.487Z"
   },
   {
    "duration": 70,
    "start_time": "2022-08-19T06:08:10.494Z"
   },
   {
    "duration": 37,
    "start_time": "2022-08-19T06:08:10.566Z"
   },
   {
    "duration": 18,
    "start_time": "2022-08-19T06:08:10.605Z"
   },
   {
    "duration": 502,
    "start_time": "2022-08-19T06:08:10.625Z"
   },
   {
    "duration": 14,
    "start_time": "2022-08-19T06:08:11.129Z"
   },
   {
    "duration": 451,
    "start_time": "2022-08-19T06:08:11.144Z"
   },
   {
    "duration": 429,
    "start_time": "2022-08-19T06:08:11.598Z"
   },
   {
    "duration": 298,
    "start_time": "2022-08-19T06:08:12.029Z"
   },
   {
    "duration": 501,
    "start_time": "2022-08-19T06:08:12.328Z"
   },
   {
    "duration": 311,
    "start_time": "2022-08-19T06:08:12.831Z"
   },
   {
    "duration": 4239,
    "start_time": "2022-08-19T06:08:13.143Z"
   },
   {
    "duration": 283,
    "start_time": "2022-08-19T06:08:17.384Z"
   },
   {
    "duration": 14,
    "start_time": "2022-08-19T06:08:17.669Z"
   },
   {
    "duration": 1192,
    "start_time": "2022-08-19T06:38:35.683Z"
   },
   {
    "duration": 93,
    "start_time": "2022-08-19T06:38:36.876Z"
   },
   {
    "duration": 5,
    "start_time": "2022-08-19T06:38:36.970Z"
   },
   {
    "duration": 60,
    "start_time": "2022-08-19T06:38:36.977Z"
   },
   {
    "duration": 49,
    "start_time": "2022-08-19T06:38:37.039Z"
   },
   {
    "duration": 16,
    "start_time": "2022-08-19T06:38:37.089Z"
   },
   {
    "duration": 462,
    "start_time": "2022-08-19T06:38:37.106Z"
   },
   {
    "duration": 14,
    "start_time": "2022-08-19T06:38:37.570Z"
   },
   {
    "duration": 413,
    "start_time": "2022-08-19T06:38:37.585Z"
   },
   {
    "duration": 291,
    "start_time": "2022-08-19T06:38:38.000Z"
   },
   {
    "duration": 290,
    "start_time": "2022-08-19T06:38:38.292Z"
   },
   {
    "duration": 440,
    "start_time": "2022-08-19T06:38:38.584Z"
   },
   {
    "duration": 261,
    "start_time": "2022-08-19T06:38:39.026Z"
   },
   {
    "duration": 4158,
    "start_time": "2022-08-19T06:38:39.289Z"
   },
   {
    "duration": 264,
    "start_time": "2022-08-19T06:38:43.449Z"
   },
   {
    "duration": 15,
    "start_time": "2022-08-19T06:38:43.715Z"
   },
   {
    "duration": 137,
    "start_time": "2022-08-19T06:46:17.436Z"
   },
   {
    "duration": 12,
    "start_time": "2022-08-19T06:46:27.650Z"
   },
   {
    "duration": 1251,
    "start_time": "2022-08-19T06:49:58.929Z"
   },
   {
    "duration": 0,
    "start_time": "2022-08-19T06:50:00.183Z"
   },
   {
    "duration": 0,
    "start_time": "2022-08-19T06:50:00.184Z"
   },
   {
    "duration": 0,
    "start_time": "2022-08-19T06:50:00.185Z"
   },
   {
    "duration": 0,
    "start_time": "2022-08-19T06:50:00.186Z"
   },
   {
    "duration": 0,
    "start_time": "2022-08-19T06:50:00.188Z"
   },
   {
    "duration": 0,
    "start_time": "2022-08-19T06:50:00.188Z"
   },
   {
    "duration": 0,
    "start_time": "2022-08-19T06:50:00.189Z"
   },
   {
    "duration": 0,
    "start_time": "2022-08-19T06:50:00.191Z"
   },
   {
    "duration": 0,
    "start_time": "2022-08-19T06:50:00.192Z"
   },
   {
    "duration": 0,
    "start_time": "2022-08-19T06:50:00.193Z"
   },
   {
    "duration": 0,
    "start_time": "2022-08-19T06:50:00.194Z"
   },
   {
    "duration": 0,
    "start_time": "2022-08-19T06:50:00.195Z"
   },
   {
    "duration": 0,
    "start_time": "2022-08-19T06:50:00.196Z"
   },
   {
    "duration": 0,
    "start_time": "2022-08-19T06:50:00.198Z"
   },
   {
    "duration": 0,
    "start_time": "2022-08-19T06:50:00.199Z"
   },
   {
    "duration": 12,
    "start_time": "2022-08-19T06:51:21.535Z"
   },
   {
    "duration": 1173,
    "start_time": "2022-08-19T08:07:18.749Z"
   },
   {
    "duration": 92,
    "start_time": "2022-08-19T08:07:19.923Z"
   },
   {
    "duration": 4,
    "start_time": "2022-08-19T08:07:20.017Z"
   },
   {
    "duration": 60,
    "start_time": "2022-08-19T08:07:20.023Z"
   },
   {
    "duration": 37,
    "start_time": "2022-08-19T08:07:20.086Z"
   },
   {
    "duration": 34,
    "start_time": "2022-08-19T08:07:20.124Z"
   },
   {
    "duration": 518,
    "start_time": "2022-08-19T08:07:20.160Z"
   },
   {
    "duration": 14,
    "start_time": "2022-08-19T08:07:20.679Z"
   },
   {
    "duration": 405,
    "start_time": "2022-08-19T08:07:20.695Z"
   },
   {
    "duration": 289,
    "start_time": "2022-08-19T08:07:21.102Z"
   },
   {
    "duration": 300,
    "start_time": "2022-08-19T08:07:21.392Z"
   },
   {
    "duration": 503,
    "start_time": "2022-08-19T08:07:21.694Z"
   },
   {
    "duration": 279,
    "start_time": "2022-08-19T08:07:22.199Z"
   },
   {
    "duration": 3309,
    "start_time": "2022-08-19T08:07:22.480Z"
   },
   {
    "duration": 282,
    "start_time": "2022-08-19T08:07:25.791Z"
   },
   {
    "duration": 14,
    "start_time": "2022-08-19T08:07:26.075Z"
   },
   {
    "duration": 52,
    "start_time": "2022-08-19T11:10:09.240Z"
   },
   {
    "duration": 1683,
    "start_time": "2022-08-19T11:10:28.488Z"
   },
   {
    "duration": 131,
    "start_time": "2022-08-19T11:10:30.173Z"
   },
   {
    "duration": 4,
    "start_time": "2022-08-19T11:10:30.306Z"
   },
   {
    "duration": 67,
    "start_time": "2022-08-19T11:10:30.312Z"
   },
   {
    "duration": 41,
    "start_time": "2022-08-19T11:10:30.392Z"
   },
   {
    "duration": 18,
    "start_time": "2022-08-19T11:10:30.434Z"
   },
   {
    "duration": 607,
    "start_time": "2022-08-19T11:10:30.454Z"
   },
   {
    "duration": 15,
    "start_time": "2022-08-19T11:10:31.063Z"
   },
   {
    "duration": 510,
    "start_time": "2022-08-19T11:10:31.080Z"
   },
   {
    "duration": 566,
    "start_time": "2022-08-19T11:10:31.594Z"
   },
   {
    "duration": 460,
    "start_time": "2022-08-19T11:10:32.162Z"
   },
   {
    "duration": 728,
    "start_time": "2022-08-19T11:10:32.624Z"
   },
   {
    "duration": 15,
    "start_time": "2022-08-19T11:10:33.354Z"
   },
   {
    "duration": 524,
    "start_time": "2022-08-19T11:10:33.370Z"
   },
   {
    "duration": 2984,
    "start_time": "2022-08-19T11:10:33.896Z"
   },
   {
    "duration": 514,
    "start_time": "2022-08-19T11:10:36.882Z"
   },
   {
    "duration": 16,
    "start_time": "2022-08-19T11:10:37.398Z"
   },
   {
    "duration": 1192,
    "start_time": "2022-08-19T11:14:31.237Z"
   },
   {
    "duration": 136,
    "start_time": "2022-08-19T11:14:53.850Z"
   },
   {
    "duration": 941,
    "start_time": "2022-08-19T11:14:56.514Z"
   },
   {
    "duration": 956,
    "start_time": "2022-08-19T11:15:18.651Z"
   },
   {
    "duration": 4,
    "start_time": "2022-08-19T11:15:31.326Z"
   },
   {
    "duration": 4,
    "start_time": "2022-08-19T11:15:40.564Z"
   },
   {
    "duration": 10,
    "start_time": "2022-08-19T11:15:45.062Z"
   },
   {
    "duration": 106,
    "start_time": "2022-08-19T11:15:48.032Z"
   },
   {
    "duration": 5,
    "start_time": "2022-08-19T11:15:49.262Z"
   },
   {
    "duration": 22,
    "start_time": "2022-08-19T11:16:08.220Z"
   },
   {
    "duration": 24,
    "start_time": "2022-08-19T11:16:20.118Z"
   },
   {
    "duration": 10,
    "start_time": "2022-08-19T11:16:25.816Z"
   },
   {
    "duration": 20,
    "start_time": "2022-08-19T11:17:46.155Z"
   },
   {
    "duration": 17,
    "start_time": "2022-08-19T11:18:06.726Z"
   },
   {
    "duration": 19,
    "start_time": "2022-08-19T11:18:47.769Z"
   },
   {
    "duration": 19,
    "start_time": "2022-08-19T11:18:59.739Z"
   },
   {
    "duration": 17,
    "start_time": "2022-08-19T11:19:04.339Z"
   },
   {
    "duration": 25,
    "start_time": "2022-08-19T11:19:29.086Z"
   },
   {
    "duration": 21,
    "start_time": "2022-08-19T11:19:40.624Z"
   },
   {
    "duration": 24,
    "start_time": "2022-08-19T11:19:53.251Z"
   },
   {
    "duration": 24,
    "start_time": "2022-08-19T11:20:04.232Z"
   },
   {
    "duration": 23,
    "start_time": "2022-08-19T11:20:23.231Z"
   },
   {
    "duration": 26,
    "start_time": "2022-08-19T11:20:38.227Z"
   },
   {
    "duration": 24,
    "start_time": "2022-08-19T11:20:47.572Z"
   },
   {
    "duration": 14,
    "start_time": "2022-08-19T11:22:40.551Z"
   },
   {
    "duration": 17,
    "start_time": "2022-08-19T11:22:47.920Z"
   },
   {
    "duration": 19,
    "start_time": "2022-08-19T11:23:00.754Z"
   },
   {
    "duration": 18,
    "start_time": "2022-08-19T11:25:10.028Z"
   },
   {
    "duration": 9,
    "start_time": "2022-08-19T11:25:26.118Z"
   },
   {
    "duration": 15,
    "start_time": "2022-08-19T11:25:56.243Z"
   },
   {
    "duration": 13,
    "start_time": "2022-08-19T11:26:03.396Z"
   },
   {
    "duration": 111,
    "start_time": "2022-08-19T11:26:06.760Z"
   },
   {
    "duration": 11,
    "start_time": "2022-08-19T11:26:08.135Z"
   },
   {
    "duration": 29,
    "start_time": "2022-08-19T11:26:11.767Z"
   },
   {
    "duration": 15,
    "start_time": "2022-08-19T11:26:16.792Z"
   },
   {
    "duration": 12,
    "start_time": "2022-08-19T11:26:22.568Z"
   },
   {
    "duration": 220,
    "start_time": "2022-08-19T11:33:16.105Z"
   },
   {
    "duration": 201,
    "start_time": "2022-08-19T11:33:31.328Z"
   },
   {
    "duration": 326,
    "start_time": "2022-08-19T11:33:35.655Z"
   },
   {
    "duration": 839,
    "start_time": "2022-08-19T11:33:55.051Z"
   },
   {
    "duration": 5,
    "start_time": "2022-08-19T11:35:23.157Z"
   }
  ],
  "kernelspec": {
   "display_name": "Python 3 (ipykernel)",
   "language": "python",
   "name": "python3"
  },
  "language_info": {
   "codemirror_mode": {
    "name": "ipython",
    "version": 3
   },
   "file_extension": ".py",
   "mimetype": "text/x-python",
   "name": "python",
   "nbconvert_exporter": "python",
   "pygments_lexer": "ipython3",
   "version": "3.9.7"
  },
  "toc": {
   "base_numbering": 1,
   "nav_menu": {
    "height": "414.533px",
    "width": "562.667px"
   },
   "number_sections": true,
   "sideBar": true,
   "skip_h1_title": true,
   "title_cell": "Table of Contents",
   "title_sidebar": "Contents",
   "toc_cell": false,
   "toc_position": {},
   "toc_section_display": true,
   "toc_window_display": false
  }
 },
 "nbformat": 4,
 "nbformat_minor": 2
}
