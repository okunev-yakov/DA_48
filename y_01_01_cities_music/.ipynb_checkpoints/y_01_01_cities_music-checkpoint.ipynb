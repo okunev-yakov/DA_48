{
 "cells": [
  {
   "cell_type": "markdown",
   "metadata": {
    "id": "E0vqbgi9ay0H"
   },
   "source": [
    "# Яндекс.Музыка"
   ]
  },
  {
   "cell_type": "markdown",
   "metadata": {
    "id": "VUC88oWjTJw2"
   },
   "source": [
    "Сравнение Москвы и Петербурга окружено мифами. Например:\n",
    " * Москва — мегаполис, подчинённый жёсткому ритму рабочей недели;\n",
    " * Петербург — культурная столица, со своими вкусами.\n",
    "\n",
    "На данных Яндекс.Музыки вы сравните поведение пользователей двух столиц.\n",
    "\n",
    "**Цель исследования** — проверьте три гипотезы:\n",
    "1. Активность пользователей зависит от дня недели. Причём в Москве и Петербурге это проявляется по-разному.\n",
    "2. В понедельник утром в Москве преобладают одни жанры, а в Петербурге — другие. Так же и вечером пятницы преобладают разные жанры — в зависимости от города. \n",
    "3. Москва и Петербург предпочитают разные жанры музыки. В Москве чаще слушают поп-музыку, в Петербурге — русский рэп.\n",
    "\n",
    "**Ход исследования**\n",
    "\n",
    "Данные о поведении пользователей вы получите из файла `yandex_music_project.csv`. О качестве данных ничего не известно. Поэтому перед проверкой гипотез понадобится обзор данных. \n",
    "\n",
    "Вы проверите данные на ошибки и оцените их влияние на исследование. Затем, на этапе предобработки вы поищете возможность исправить самые критичные ошибки данных.\n",
    " \n",
    "Таким образом, исследование пройдёт в три этапа:\n",
    " 1. Обзор данных.\n",
    " 2. Предобработка данных.\n",
    " 3. Проверка гипотез.\n",
    "\n"
   ]
  },
  {
   "cell_type": "markdown",
   "metadata": {
    "id": "Ml1hmfXC_Zcs"
   },
   "source": [
    "## Обзор данных\n",
    "\n",
    "Составьте первое представление о данных Яндекс.Музыки.\n",
    "\n",
    "\n"
   ]
  },
  {
   "cell_type": "code",
   "execution_count": 1,
   "metadata": {
    "id": "AXN7PHPN_Zcs"
   },
   "outputs": [],
   "source": [
    "# импорт библиотеки pandas\n",
    "import pandas as pd"
   ]
  },
  {
   "cell_type": "code",
   "execution_count": 2,
   "metadata": {
    "id": "fFVu7vqh_Zct"
   },
   "outputs": [],
   "source": [
    "# чтение файла с данными и сохранение в df\n",
    "try:\n",
    "    df = pd.read_csv(\"Y:/Обучение цифровой профессии/Аналитик данных/01-01 Базовый питон/yandex_music_project.csv\")\n",
    "except:\n",
    "    df = pd.read_csv(\"/datasets/yandex_music_project.csv\")"
   ]
  },
  {
   "cell_type": "markdown",
   "metadata": {
    "id": "rDoOMd3uTqnZ"
   },
   "source": [
    "Выведите на экран первые десять строк таблицы:"
   ]
  },
  {
   "cell_type": "code",
   "execution_count": 3,
   "metadata": {
    "id": "oWTVX3gW_Zct"
   },
   "outputs": [
    {
     "data": {
      "text/html": [
       "<div>\n",
       "<style scoped>\n",
       "    .dataframe tbody tr th:only-of-type {\n",
       "        vertical-align: middle;\n",
       "    }\n",
       "\n",
       "    .dataframe tbody tr th {\n",
       "        vertical-align: top;\n",
       "    }\n",
       "\n",
       "    .dataframe thead th {\n",
       "        text-align: right;\n",
       "    }\n",
       "</style>\n",
       "<table border=\"1\" class=\"dataframe\">\n",
       "  <thead>\n",
       "    <tr style=\"text-align: right;\">\n",
       "      <th></th>\n",
       "      <th>userID</th>\n",
       "      <th>Track</th>\n",
       "      <th>artist</th>\n",
       "      <th>genre</th>\n",
       "      <th>City</th>\n",
       "      <th>time</th>\n",
       "      <th>Day</th>\n",
       "    </tr>\n",
       "  </thead>\n",
       "  <tbody>\n",
       "    <tr>\n",
       "      <th>0</th>\n",
       "      <td>FFB692EC</td>\n",
       "      <td>Kamigata To Boots</td>\n",
       "      <td>The Mass Missile</td>\n",
       "      <td>rock</td>\n",
       "      <td>Saint-Petersburg</td>\n",
       "      <td>20:28:33</td>\n",
       "      <td>Wednesday</td>\n",
       "    </tr>\n",
       "    <tr>\n",
       "      <th>1</th>\n",
       "      <td>55204538</td>\n",
       "      <td>Delayed Because of Accident</td>\n",
       "      <td>Andreas Rönnberg</td>\n",
       "      <td>rock</td>\n",
       "      <td>Moscow</td>\n",
       "      <td>14:07:09</td>\n",
       "      <td>Friday</td>\n",
       "    </tr>\n",
       "    <tr>\n",
       "      <th>2</th>\n",
       "      <td>20EC38</td>\n",
       "      <td>Funiculì funiculà</td>\n",
       "      <td>Mario Lanza</td>\n",
       "      <td>pop</td>\n",
       "      <td>Saint-Petersburg</td>\n",
       "      <td>20:58:07</td>\n",
       "      <td>Wednesday</td>\n",
       "    </tr>\n",
       "    <tr>\n",
       "      <th>3</th>\n",
       "      <td>A3DD03C9</td>\n",
       "      <td>Dragons in the Sunset</td>\n",
       "      <td>Fire + Ice</td>\n",
       "      <td>folk</td>\n",
       "      <td>Saint-Petersburg</td>\n",
       "      <td>08:37:09</td>\n",
       "      <td>Monday</td>\n",
       "    </tr>\n",
       "    <tr>\n",
       "      <th>4</th>\n",
       "      <td>E2DC1FAE</td>\n",
       "      <td>Soul People</td>\n",
       "      <td>Space Echo</td>\n",
       "      <td>dance</td>\n",
       "      <td>Moscow</td>\n",
       "      <td>08:34:34</td>\n",
       "      <td>Monday</td>\n",
       "    </tr>\n",
       "    <tr>\n",
       "      <th>5</th>\n",
       "      <td>842029A1</td>\n",
       "      <td>Преданная</td>\n",
       "      <td>IMPERVTOR</td>\n",
       "      <td>rusrap</td>\n",
       "      <td>Saint-Petersburg</td>\n",
       "      <td>13:09:41</td>\n",
       "      <td>Friday</td>\n",
       "    </tr>\n",
       "    <tr>\n",
       "      <th>6</th>\n",
       "      <td>4CB90AA5</td>\n",
       "      <td>True</td>\n",
       "      <td>Roman Messer</td>\n",
       "      <td>dance</td>\n",
       "      <td>Moscow</td>\n",
       "      <td>13:00:07</td>\n",
       "      <td>Wednesday</td>\n",
       "    </tr>\n",
       "    <tr>\n",
       "      <th>7</th>\n",
       "      <td>F03E1C1F</td>\n",
       "      <td>Feeling This Way</td>\n",
       "      <td>Polina Griffith</td>\n",
       "      <td>dance</td>\n",
       "      <td>Moscow</td>\n",
       "      <td>20:47:49</td>\n",
       "      <td>Wednesday</td>\n",
       "    </tr>\n",
       "    <tr>\n",
       "      <th>8</th>\n",
       "      <td>8FA1D3BE</td>\n",
       "      <td>И вновь продолжается бой</td>\n",
       "      <td>NaN</td>\n",
       "      <td>ruspop</td>\n",
       "      <td>Moscow</td>\n",
       "      <td>09:17:40</td>\n",
       "      <td>Friday</td>\n",
       "    </tr>\n",
       "    <tr>\n",
       "      <th>9</th>\n",
       "      <td>E772D5C0</td>\n",
       "      <td>Pessimist</td>\n",
       "      <td>NaN</td>\n",
       "      <td>dance</td>\n",
       "      <td>Saint-Petersburg</td>\n",
       "      <td>21:20:49</td>\n",
       "      <td>Wednesday</td>\n",
       "    </tr>\n",
       "  </tbody>\n",
       "</table>\n",
       "</div>"
      ],
      "text/plain": [
       "     userID                        Track            artist   genre  \\\n",
       "0  FFB692EC            Kamigata To Boots  The Mass Missile    rock   \n",
       "1  55204538  Delayed Because of Accident  Andreas Rönnberg    rock   \n",
       "2    20EC38            Funiculì funiculà       Mario Lanza     pop   \n",
       "3  A3DD03C9        Dragons in the Sunset        Fire + Ice    folk   \n",
       "4  E2DC1FAE                  Soul People        Space Echo   dance   \n",
       "5  842029A1                    Преданная         IMPERVTOR  rusrap   \n",
       "6  4CB90AA5                         True      Roman Messer   dance   \n",
       "7  F03E1C1F             Feeling This Way   Polina Griffith   dance   \n",
       "8  8FA1D3BE     И вновь продолжается бой               NaN  ruspop   \n",
       "9  E772D5C0                    Pessimist               NaN   dance   \n",
       "\n",
       "             City        time        Day  \n",
       "0  Saint-Petersburg  20:28:33  Wednesday  \n",
       "1            Moscow  14:07:09     Friday  \n",
       "2  Saint-Petersburg  20:58:07  Wednesday  \n",
       "3  Saint-Petersburg  08:37:09     Monday  \n",
       "4            Moscow  08:34:34     Monday  \n",
       "5  Saint-Petersburg  13:09:41     Friday  \n",
       "6            Moscow  13:00:07  Wednesday  \n",
       "7            Moscow  20:47:49  Wednesday  \n",
       "8            Moscow  09:17:40     Friday  \n",
       "9  Saint-Petersburg  21:20:49  Wednesday  "
      ]
     },
     "metadata": {},
     "output_type": "display_data"
    }
   ],
   "source": [
    "# получение первых 10 строк таблицы df\n",
    "display(df.head(10)) "
   ]
  },
  {
   "cell_type": "markdown",
   "metadata": {
    "id": "EO73Kwic_Zct"
   },
   "source": [
    "Одной командой получить общую информацию о таблице:"
   ]
  },
  {
   "cell_type": "code",
   "execution_count": 4,
   "metadata": {
    "id": "DSf2kIb-_Zct"
   },
   "outputs": [
    {
     "name": "stdout",
     "output_type": "stream",
     "text": [
      "<class 'pandas.core.frame.DataFrame'>\n",
      "RangeIndex: 65079 entries, 0 to 65078\n",
      "Data columns (total 7 columns):\n",
      " #   Column    Non-Null Count  Dtype \n",
      "---  ------    --------------  ----- \n",
      " 0     userID  65079 non-null  object\n",
      " 1   Track     63848 non-null  object\n",
      " 2   artist    57876 non-null  object\n",
      " 3   genre     63881 non-null  object\n",
      " 4     City    65079 non-null  object\n",
      " 5   time      65079 non-null  object\n",
      " 6   Day       65079 non-null  object\n",
      "dtypes: object(7)\n",
      "memory usage: 3.5+ MB\n"
     ]
    }
   ],
   "source": [
    "# получение общей информации о данных в таблице df\n",
    "df.info()"
   ]
  },
  {
   "cell_type": "markdown",
   "metadata": {
    "id": "TaQ2Iwbr_Zct"
   },
   "source": [
    "Итак, в таблице семь столбцов. Тип данных во всех столбцах — `object`.\n",
    "\n",
    "Согласно документации к данным:\n",
    "* `userID` — идентификатор пользователя;\n",
    "* `Track` — название трека;  \n",
    "* `artist` — имя исполнителя;\n",
    "* `genre` — название жанра;\n",
    "* `City` — город пользователя;\n",
    "* `time` — время начала прослушивания;\n",
    "* `Day` — день недели.\n",
    "\n",
    "В названиях колонок видны три нарушения стиля:\n",
    "1. Строчные буквы сочетаются с прописными.\n",
    "2. Встречаются пробелы.\n",
    "3. Из названия непонятно, что за данные хранятся в столбце: по названию столбца `time` не ясно, что речь идет именно о времени начала прослушивания, а не, например, о длительности трека. Кроме того, отсутсвует единство стиля - встречается как \"змеиный\", так и \"верблюжий\" регистры.\n",
    "\n",
    "\n",
    "\n",
    "Количество значений в столбцах различается. Значит, в данных есть пропущенные значения.\n"
   ]
  },
  {
   "cell_type": "markdown",
   "metadata": {
    "id": "MCB6-dXG_Zct"
   },
   "source": [
    "**Выводы**\n",
    "\n",
    "В каждой строке таблицы — данные о прослушанном треке. Часть колонок описывает саму композицию: название, исполнителя и жанр. Остальные данные рассказывают о пользователе: из какого он города, когда он слушал музыку. \n",
    "\n",
    "Предварительно можно утверждать, что, данных достаточно для проверки гипотез. Но встречаются пропуски в данных, а в названиях колонок — расхождения с хорошим стилем.\n",
    "\n",
    "Чтобы двигаться дальше, нужно устранить проблемы в данных."
   ]
  },
  {
   "cell_type": "markdown",
   "metadata": {
    "id": "SjYF6Ub9_Zct"
   },
   "source": [
    "## Предобработка данных\n",
    "Исправьте стиль в заголовках столбцов, исключите пропуски. Затем проверьте данные на дубликаты."
   ]
  },
  {
   "cell_type": "markdown",
   "metadata": {
    "id": "dIaKXr29_Zct"
   },
   "source": [
    "### Стиль заголовков\n",
    "Выведите на экран названия столбцов:"
   ]
  },
  {
   "cell_type": "code",
   "execution_count": 5,
   "metadata": {
    "id": "oKOTdF_Q_Zct"
   },
   "outputs": [
    {
     "data": {
      "text/plain": [
       "Index(['  userID', 'Track', 'artist', 'genre', '  City  ', 'time', 'Day'], dtype='object')"
      ]
     },
     "execution_count": 5,
     "metadata": {},
     "output_type": "execute_result"
    }
   ],
   "source": [
    "# перечень названий столбцов таблицы df\n",
    "df.columns"
   ]
  },
  {
   "cell_type": "markdown",
   "metadata": {
    "id": "zj5534cv_Zct"
   },
   "source": [
    "Приведите названия в соответствие с хорошим стилем:\n",
    "* несколько слов в названии запишите в «змеином_регистре»,\n",
    "* все символы сделайте строчными,\n",
    "* устраните пробелы.\n",
    "\n",
    "Для этого переименуйте колонки так:\n",
    "* `'  userID'` → `'user_id'`;\n",
    "* `'Track'` → `'track'`;\n",
    "* `'  City  '` → `'city'`;\n",
    "* `'Day'` → `'day'`."
   ]
  },
  {
   "cell_type": "code",
   "execution_count": 6,
   "metadata": {
    "id": "ISlFqs5y_Zct"
   },
   "outputs": [],
   "source": [
    "# переименование столбцов\n",
    "df = df.rename(columns={'  userID': 'user_id', 'Track': 'track', '  City  ': 'city', 'Day': 'day'}) "
   ]
  },
  {
   "cell_type": "markdown",
   "metadata": {
    "id": "1dqbh00J_Zct"
   },
   "source": [
    "Проверьте результат. Для этого ещё раз выведите на экран названия столбцов:"
   ]
  },
  {
   "cell_type": "code",
   "execution_count": 7,
   "metadata": {
    "id": "d4NOAmTW_Zct"
   },
   "outputs": [
    {
     "data": {
      "text/plain": [
       "Index(['user_id', 'track', 'artist', 'genre', 'city', 'time', 'day'], dtype='object')"
      ]
     },
     "execution_count": 7,
     "metadata": {},
     "output_type": "execute_result"
    }
   ],
   "source": [
    "# проверка результатов - перечень названий столбцов\n",
    "df.columns"
   ]
  },
  {
   "cell_type": "markdown",
   "metadata": {
    "id": "5ISfbcfY_Zct"
   },
   "source": [
    "### Пропуски значений\n",
    "Сначала посчитайте, сколько в таблице пропущенных значений. Для этого достаточно двух методов `pandas`:"
   ]
  },
  {
   "cell_type": "code",
   "execution_count": 8,
   "metadata": {
    "id": "RskX29qr_Zct"
   },
   "outputs": [
    {
     "data": {
      "text/plain": [
       "user_id       0\n",
       "track      1231\n",
       "artist     7203\n",
       "genre      1198\n",
       "city          0\n",
       "time          0\n",
       "day           0\n",
       "dtype: int64"
      ]
     },
     "execution_count": 8,
     "metadata": {},
     "output_type": "execute_result"
    }
   ],
   "source": [
    "# подсчёт пропусков\n",
    "df.isna().sum()"
   ]
  },
  {
   "cell_type": "markdown",
   "metadata": {
    "id": "qubhgnlO_Zct"
   },
   "source": [
    "Не все пропущенные значения влияют на исследование. Так в `track` и `artist` пропуски не важны для вашей работы. Достаточно заменить их явными обозначениями.\n",
    "\n",
    "Но пропуски в `genre` могут помешать сравнению музыкальных вкусов в Москве и Санкт-Петербурге. На практике было бы правильно установить причину пропусков и восстановить данные. Такой возможности нет в учебном проекте. Придётся:\n",
    "* заполнить и эти пропуски явными обозначениями,\n",
    "* оценить, насколько они повредят расчётам. "
   ]
  },
  {
   "cell_type": "markdown",
   "metadata": {
    "id": "fSv2laPA_Zct"
   },
   "source": [
    "Замените пропущенные значения в столбцах `track`, `artist` и `genre` на строку `'unknown'`. Для этого создайте список `columns_to_replace`, переберите его элементы циклом `for` и для каждого столбца выполните замену пропущенных значений:"
   ]
  },
  {
   "cell_type": "code",
   "execution_count": 9,
   "metadata": {
    "id": "KplB5qWs_Zct"
   },
   "outputs": [],
   "source": [
    "# перебор названий столбцов в цикле и замена пропущенных значений на 'unknown'\n",
    "columns_to_replace = [\"track\", \"artist\", \"genre\"]\n",
    "for columns_name in columns_to_replace:\n",
    "    df[columns_name] = df[columns_name].fillna('unknown')"
   ]
  },
  {
   "cell_type": "markdown",
   "metadata": {
    "id": "Ilsm-MZo_Zct"
   },
   "source": [
    "Убедитесь, что в таблице не осталось пропусков. Для этого ещё раз посчитайте пропущенные значения."
   ]
  },
  {
   "cell_type": "code",
   "execution_count": 10,
   "metadata": {
    "id": "Tq4nYRX4_Zct"
   },
   "outputs": [
    {
     "data": {
      "text/plain": [
       "user_id    0\n",
       "track      0\n",
       "artist     0\n",
       "genre      0\n",
       "city       0\n",
       "time       0\n",
       "day        0\n",
       "dtype: int64"
      ]
     },
     "execution_count": 10,
     "metadata": {},
     "output_type": "execute_result"
    }
   ],
   "source": [
    "# подсчёт пропусков\n",
    "df.isna().sum()"
   ]
  },
  {
   "cell_type": "markdown",
   "metadata": {
    "id": "BWKRtBJ3_Zct"
   },
   "source": [
    "### Дубликаты\n",
    "Посчитайте явные дубликаты в таблице одной командой:"
   ]
  },
  {
   "cell_type": "code",
   "execution_count": 11,
   "metadata": {
    "id": "36eES_S0_Zct"
   },
   "outputs": [
    {
     "data": {
      "text/plain": [
       "3826"
      ]
     },
     "execution_count": 11,
     "metadata": {},
     "output_type": "execute_result"
    }
   ],
   "source": [
    "# подсчёт явных дубликатов\n",
    "df.duplicated().sum()"
   ]
  },
  {
   "cell_type": "markdown",
   "metadata": {
    "id": "Ot25h6XR_Zct"
   },
   "source": [
    "Вызовите специальный метод `pandas`, чтобы удалить явные дубликаты:"
   ]
  },
  {
   "cell_type": "code",
   "execution_count": 12,
   "metadata": {
    "id": "exFHq6tt_Zct"
   },
   "outputs": [],
   "source": [
    "# удаление явных дубликатов (с удалением старых индексов и формированием новых)\n",
    "df = df.drop_duplicates().reset_index(drop=True) "
   ]
  },
  {
   "cell_type": "markdown",
   "metadata": {
    "id": "Im2YwBEG_Zct"
   },
   "source": [
    "Ещё раз посчитайте явные дубликаты в таблице — убедитесь, что полностью от них избавились:"
   ]
  },
  {
   "cell_type": "code",
   "execution_count": 13,
   "metadata": {
    "id": "-8PuNWQ0_Zct"
   },
   "outputs": [
    {
     "data": {
      "text/plain": [
       "0"
      ]
     },
     "execution_count": 13,
     "metadata": {},
     "output_type": "execute_result"
    }
   ],
   "source": [
    "# проверка на отсутствие дубликатов\n",
    "df.duplicated().sum()"
   ]
  },
  {
   "cell_type": "markdown",
   "metadata": {
    "id": "QlFBsxAr_Zct"
   },
   "source": [
    "Теперь избавьтесь от неявных дубликатов в колонке `genre`. Например, название одного и того же жанра может быть записано немного по-разному. Такие ошибки тоже повлияют на результат исследования."
   ]
  },
  {
   "cell_type": "markdown",
   "metadata": {
    "id": "eSjWwsOh_Zct"
   },
   "source": [
    "Выведите на экран список уникальных названий жанров, отсортированный в алфавитном порядке. Для этого:\n",
    "* извлеките нужный столбец датафрейма, \n",
    "* примените к нему метод сортировки,\n",
    "* для отсортированного столбца вызовите метод, который вернёт уникальные значения из столбца."
   ]
  },
  {
   "cell_type": "code",
   "execution_count": 14,
   "metadata": {
    "id": "JIUcqzZN_Zct"
   },
   "outputs": [
    {
     "data": {
      "text/plain": [
       "['acid',\n",
       " 'acoustic',\n",
       " 'action',\n",
       " 'adult',\n",
       " 'africa',\n",
       " 'afrikaans',\n",
       " 'alternative',\n",
       " 'alternativepunk',\n",
       " 'ambient',\n",
       " 'americana',\n",
       " 'animated',\n",
       " 'anime',\n",
       " 'arabesk',\n",
       " 'arabic',\n",
       " 'arena',\n",
       " 'argentinetango',\n",
       " 'art',\n",
       " 'audiobook',\n",
       " 'author',\n",
       " 'avantgarde',\n",
       " 'axé',\n",
       " 'baile',\n",
       " 'balkan',\n",
       " 'beats',\n",
       " 'bigroom',\n",
       " 'black',\n",
       " 'bluegrass',\n",
       " 'blues',\n",
       " 'bollywood',\n",
       " 'bossa',\n",
       " 'brazilian',\n",
       " 'breakbeat',\n",
       " 'breaks',\n",
       " 'broadway',\n",
       " 'cantautori',\n",
       " 'cantopop',\n",
       " 'canzone',\n",
       " 'caribbean',\n",
       " 'caucasian',\n",
       " 'celtic',\n",
       " 'chamber',\n",
       " 'chanson',\n",
       " 'children',\n",
       " 'chill',\n",
       " 'chinese',\n",
       " 'choral',\n",
       " 'christian',\n",
       " 'christmas',\n",
       " 'classical',\n",
       " 'classicmetal',\n",
       " 'club',\n",
       " 'colombian',\n",
       " 'comedy',\n",
       " 'conjazz',\n",
       " 'contemporary',\n",
       " 'country',\n",
       " 'cuban',\n",
       " 'dance',\n",
       " 'dancehall',\n",
       " 'dancepop',\n",
       " 'dark',\n",
       " 'death',\n",
       " 'deep',\n",
       " 'deutschrock',\n",
       " 'deutschspr',\n",
       " 'dirty',\n",
       " 'disco',\n",
       " 'dnb',\n",
       " 'documentary',\n",
       " 'downbeat',\n",
       " 'downtempo',\n",
       " 'drum',\n",
       " 'dub',\n",
       " 'dubstep',\n",
       " 'eastern',\n",
       " 'easy',\n",
       " 'electronic',\n",
       " 'electropop',\n",
       " 'emo',\n",
       " 'entehno',\n",
       " 'epicmetal',\n",
       " 'estrada',\n",
       " 'ethnic',\n",
       " 'eurofolk',\n",
       " 'european',\n",
       " 'experimental',\n",
       " 'extrememetal',\n",
       " 'fado',\n",
       " 'fairytail',\n",
       " 'film',\n",
       " 'fitness',\n",
       " 'flamenco',\n",
       " 'folk',\n",
       " 'folklore',\n",
       " 'folkmetal',\n",
       " 'folkrock',\n",
       " 'folktronica',\n",
       " 'forró',\n",
       " 'frankreich',\n",
       " 'französisch',\n",
       " 'french',\n",
       " 'funk',\n",
       " 'future',\n",
       " 'gangsta',\n",
       " 'garage',\n",
       " 'german',\n",
       " 'ghazal',\n",
       " 'gitarre',\n",
       " 'glitch',\n",
       " 'gospel',\n",
       " 'gothic',\n",
       " 'grime',\n",
       " 'grunge',\n",
       " 'gypsy',\n",
       " 'handsup',\n",
       " \"hard'n'heavy\",\n",
       " 'hardcore',\n",
       " 'hardstyle',\n",
       " 'hardtechno',\n",
       " 'hip',\n",
       " 'hip-hop',\n",
       " 'hiphop',\n",
       " 'historisch',\n",
       " 'holiday',\n",
       " 'hop',\n",
       " 'horror',\n",
       " 'house',\n",
       " 'hymn',\n",
       " 'idm',\n",
       " 'independent',\n",
       " 'indian',\n",
       " 'indie',\n",
       " 'indipop',\n",
       " 'industrial',\n",
       " 'inspirational',\n",
       " 'instrumental',\n",
       " 'international',\n",
       " 'irish',\n",
       " 'jam',\n",
       " 'japanese',\n",
       " 'jazz',\n",
       " 'jewish',\n",
       " 'jpop',\n",
       " 'jungle',\n",
       " 'k-pop',\n",
       " 'karadeniz',\n",
       " 'karaoke',\n",
       " 'kayokyoku',\n",
       " 'korean',\n",
       " 'laiko',\n",
       " 'latin',\n",
       " 'latino',\n",
       " 'leftfield',\n",
       " 'local',\n",
       " 'lounge',\n",
       " 'loungeelectronic',\n",
       " 'lovers',\n",
       " 'malaysian',\n",
       " 'mandopop',\n",
       " 'marschmusik',\n",
       " 'meditative',\n",
       " 'mediterranean',\n",
       " 'melodic',\n",
       " 'metal',\n",
       " 'metalcore',\n",
       " 'mexican',\n",
       " 'middle',\n",
       " 'minimal',\n",
       " 'miscellaneous',\n",
       " 'modern',\n",
       " 'mood',\n",
       " 'mpb',\n",
       " 'muslim',\n",
       " 'native',\n",
       " 'neoklassik',\n",
       " 'neue',\n",
       " 'new',\n",
       " 'newage',\n",
       " 'newwave',\n",
       " 'nu',\n",
       " 'nujazz',\n",
       " 'numetal',\n",
       " 'oceania',\n",
       " 'old',\n",
       " 'opera',\n",
       " 'orchestral',\n",
       " 'other',\n",
       " 'piano',\n",
       " 'podcasts',\n",
       " 'pop',\n",
       " 'popdance',\n",
       " 'popelectronic',\n",
       " 'popeurodance',\n",
       " 'poprussian',\n",
       " 'post',\n",
       " 'posthardcore',\n",
       " 'postrock',\n",
       " 'power',\n",
       " 'progmetal',\n",
       " 'progressive',\n",
       " 'psychedelic',\n",
       " 'punjabi',\n",
       " 'punk',\n",
       " 'quebecois',\n",
       " 'ragga',\n",
       " 'ram',\n",
       " 'rancheras',\n",
       " 'rap',\n",
       " 'rave',\n",
       " 'reggae',\n",
       " 'reggaeton',\n",
       " 'regional',\n",
       " 'relax',\n",
       " 'religious',\n",
       " 'retro',\n",
       " 'rhythm',\n",
       " 'rnb',\n",
       " 'rnr',\n",
       " 'rock',\n",
       " 'rockabilly',\n",
       " 'rockalternative',\n",
       " 'rockindie',\n",
       " 'rockother',\n",
       " 'romance',\n",
       " 'roots',\n",
       " 'ruspop',\n",
       " 'rusrap',\n",
       " 'rusrock',\n",
       " 'russian',\n",
       " 'salsa',\n",
       " 'samba',\n",
       " 'scenic',\n",
       " 'schlager',\n",
       " 'self',\n",
       " 'sertanejo',\n",
       " 'shanson',\n",
       " 'shoegazing',\n",
       " 'showtunes',\n",
       " 'singer',\n",
       " 'ska',\n",
       " 'skarock',\n",
       " 'slow',\n",
       " 'smooth',\n",
       " 'soft',\n",
       " 'soul',\n",
       " 'soulful',\n",
       " 'sound',\n",
       " 'soundtrack',\n",
       " 'southern',\n",
       " 'specialty',\n",
       " 'speech',\n",
       " 'spiritual',\n",
       " 'sport',\n",
       " 'stonerrock',\n",
       " 'surf',\n",
       " 'swing',\n",
       " 'synthpop',\n",
       " 'synthrock',\n",
       " 'sängerportrait',\n",
       " 'tango',\n",
       " 'tanzorchester',\n",
       " 'taraftar',\n",
       " 'tatar',\n",
       " 'tech',\n",
       " 'techno',\n",
       " 'teen',\n",
       " 'thrash',\n",
       " 'top',\n",
       " 'traditional',\n",
       " 'tradjazz',\n",
       " 'trance',\n",
       " 'tribal',\n",
       " 'trip',\n",
       " 'triphop',\n",
       " 'tropical',\n",
       " 'türk',\n",
       " 'türkçe',\n",
       " 'ukrrock',\n",
       " 'unknown',\n",
       " 'urban',\n",
       " 'uzbek',\n",
       " 'variété',\n",
       " 'vi',\n",
       " 'videogame',\n",
       " 'vocal',\n",
       " 'western',\n",
       " 'world',\n",
       " 'worldbeat',\n",
       " 'ïîï',\n",
       " 'электроника']"
      ]
     },
     "execution_count": 14,
     "metadata": {},
     "output_type": "execute_result"
    }
   ],
   "source": [
    "# Просмотр уникальных названий жанров\n",
    "sorted(df['genre'].unique())"
   ]
  },
  {
   "cell_type": "markdown",
   "metadata": {
    "id": "qej-Qmuo_Zct"
   },
   "source": [
    "Просмотрите список и найдите неявные дубликаты названия `hiphop`. Это могут быть названия с ошибками или альтернативные названия того же жанра.\n",
    "\n",
    "Вы увидите следующие неявные дубликаты:\n",
    "* *hip*,\n",
    "* *hop*,\n",
    "* *hip-hop*.\n",
    "\n",
    "Чтобы очистить от них таблицу, напишите функцию `replace_wrong_genres()` с двумя параметрами: \n",
    "* `wrong_genres` — список дубликатов,\n",
    "* `correct_genre` — строка с правильным значением.\n",
    "\n",
    "Функция должна исправить колонку `genre` в таблице `df`: заменить каждое значение из списка `wrong_genres` на значение из `correct_genre`."
   ]
  },
  {
   "cell_type": "code",
   "execution_count": 15,
   "metadata": {
    "id": "ErNDkmns_Zct"
   },
   "outputs": [],
   "source": [
    "# Функция для замены неявных дубликатов\n",
    "# на вход функции подается список неправильных значений и строка с правильным значением\n",
    "# перебираем неправильные имена и для каждого неправильного имени вызываем метод replace()\n",
    "def replace_wrong_genres(wrong_genres, correct_genre): \n",
    "    for wrong_genre in wrong_genres: \n",
    "        df['genre'] = df['genre'].replace(wrong_genre, correct_genre)"
   ]
  },
  {
   "cell_type": "markdown",
   "metadata": {
    "id": "aDoBJxbA_Zct"
   },
   "source": [
    "Вызовите `replace_wrong_genres()` и передайте ей такие аргументы, чтобы она устранила неявные дубликаты: вместо `hip`, `hop` и `hip-hop` в таблице должно быть значение `hiphop`:"
   ]
  },
  {
   "cell_type": "code",
   "execution_count": 16,
   "metadata": {
    "id": "YN5i2hpmSo09"
   },
   "outputs": [],
   "source": [
    "# Устранение неявных дубликатов\n",
    "# список неправильных имён\n",
    "wrong_names = ['hip', 'hop', 'hip-hop']\n",
    "# правильное имя\n",
    "correct_name = 'hiphop'\n",
    "# вызов функции, replace()\n",
    "replace_wrong_genres(wrong_names, correct_name)\n",
    "\n",
    "# Устранение одного неявного дубликата \"вручную\": вместо \"электроника\" будет \"electronic\"\n",
    "# как выяснилось, принципиально на результаты исследования не повлияло, но решено оставить\n",
    "df['genre'] = df['genre'].replace('электроника', 'electronic')"
   ]
  },
  {
   "cell_type": "markdown",
   "metadata": {
    "id": "zQKF16_RG15m"
   },
   "source": [
    "Проверьте, что заменили неправильные названия:\n",
    "\n",
    "*   hip\n",
    "*   hop\n",
    "*   hip-hop\n",
    "\n",
    "Выведите отсортированный список уникальных значений столбца `genre`:"
   ]
  },
  {
   "cell_type": "code",
   "execution_count": 17,
   "metadata": {
    "id": "wvixALnFG15m"
   },
   "outputs": [
    {
     "data": {
      "text/plain": [
       "array(['acid', 'acoustic', 'action', 'adult', 'africa', 'afrikaans',\n",
       "       'alternative', 'alternativepunk', 'ambient', 'americana',\n",
       "       'animated', 'anime', 'arabesk', 'arabic', 'arena',\n",
       "       'argentinetango', 'art', 'audiobook', 'author', 'avantgarde',\n",
       "       'axé', 'baile', 'balkan', 'beats', 'bigroom', 'black', 'bluegrass',\n",
       "       'blues', 'bollywood', 'bossa', 'brazilian', 'breakbeat', 'breaks',\n",
       "       'broadway', 'cantautori', 'cantopop', 'canzone', 'caribbean',\n",
       "       'caucasian', 'celtic', 'chamber', 'chanson', 'children', 'chill',\n",
       "       'chinese', 'choral', 'christian', 'christmas', 'classical',\n",
       "       'classicmetal', 'club', 'colombian', 'comedy', 'conjazz',\n",
       "       'contemporary', 'country', 'cuban', 'dance', 'dancehall',\n",
       "       'dancepop', 'dark', 'death', 'deep', 'deutschrock', 'deutschspr',\n",
       "       'dirty', 'disco', 'dnb', 'documentary', 'downbeat', 'downtempo',\n",
       "       'drum', 'dub', 'dubstep', 'eastern', 'easy', 'electronic',\n",
       "       'electropop', 'emo', 'entehno', 'epicmetal', 'estrada', 'ethnic',\n",
       "       'eurofolk', 'european', 'experimental', 'extrememetal', 'fado',\n",
       "       'fairytail', 'film', 'fitness', 'flamenco', 'folk', 'folklore',\n",
       "       'folkmetal', 'folkrock', 'folktronica', 'forró', 'frankreich',\n",
       "       'französisch', 'french', 'funk', 'future', 'gangsta', 'garage',\n",
       "       'german', 'ghazal', 'gitarre', 'glitch', 'gospel', 'gothic',\n",
       "       'grime', 'grunge', 'gypsy', 'handsup', \"hard'n'heavy\", 'hardcore',\n",
       "       'hardstyle', 'hardtechno', 'hiphop', 'historisch', 'holiday',\n",
       "       'horror', 'house', 'hymn', 'idm', 'independent', 'indian', 'indie',\n",
       "       'indipop', 'industrial', 'inspirational', 'instrumental',\n",
       "       'international', 'irish', 'jam', 'japanese', 'jazz', 'jewish',\n",
       "       'jpop', 'jungle', 'k-pop', 'karadeniz', 'karaoke', 'kayokyoku',\n",
       "       'korean', 'laiko', 'latin', 'latino', 'leftfield', 'local',\n",
       "       'lounge', 'loungeelectronic', 'lovers', 'malaysian', 'mandopop',\n",
       "       'marschmusik', 'meditative', 'mediterranean', 'melodic', 'metal',\n",
       "       'metalcore', 'mexican', 'middle', 'minimal', 'miscellaneous',\n",
       "       'modern', 'mood', 'mpb', 'muslim', 'native', 'neoklassik', 'neue',\n",
       "       'new', 'newage', 'newwave', 'nu', 'nujazz', 'numetal', 'oceania',\n",
       "       'old', 'opera', 'orchestral', 'other', 'piano', 'podcasts', 'pop',\n",
       "       'popdance', 'popelectronic', 'popeurodance', 'poprussian', 'post',\n",
       "       'posthardcore', 'postrock', 'power', 'progmetal', 'progressive',\n",
       "       'psychedelic', 'punjabi', 'punk', 'quebecois', 'ragga', 'ram',\n",
       "       'rancheras', 'rap', 'rave', 'reggae', 'reggaeton', 'regional',\n",
       "       'relax', 'religious', 'retro', 'rhythm', 'rnb', 'rnr', 'rock',\n",
       "       'rockabilly', 'rockalternative', 'rockindie', 'rockother',\n",
       "       'romance', 'roots', 'ruspop', 'rusrap', 'rusrock', 'russian',\n",
       "       'salsa', 'samba', 'scenic', 'schlager', 'self', 'sertanejo',\n",
       "       'shanson', 'shoegazing', 'showtunes', 'singer', 'ska', 'skarock',\n",
       "       'slow', 'smooth', 'soft', 'soul', 'soulful', 'sound', 'soundtrack',\n",
       "       'southern', 'specialty', 'speech', 'spiritual', 'sport',\n",
       "       'stonerrock', 'surf', 'swing', 'synthpop', 'synthrock',\n",
       "       'sängerportrait', 'tango', 'tanzorchester', 'taraftar', 'tatar',\n",
       "       'tech', 'techno', 'teen', 'thrash', 'top', 'traditional',\n",
       "       'tradjazz', 'trance', 'tribal', 'trip', 'triphop', 'tropical',\n",
       "       'türk', 'türkçe', 'ukrrock', 'unknown', 'urban', 'uzbek',\n",
       "       'variété', 'vi', 'videogame', 'vocal', 'western', 'world',\n",
       "       'worldbeat', 'ïîï'], dtype=object)"
      ]
     },
     "execution_count": 17,
     "metadata": {},
     "output_type": "execute_result"
    }
   ],
   "source": [
    "# Проверка на неявные дубликаты\n",
    "df['genre'].sort_values().unique()"
   ]
  },
  {
   "cell_type": "markdown",
   "metadata": {
    "id": "jz6a9-7HQUDd"
   },
   "source": [
    "**Выводы**\n",
    "\n",
    "Предобработка обнаружила три проблемы в данных:\n",
    "\n",
    "- нарушения в стиле заголовков,\n",
    "- пропущенные значения,\n",
    "- дубликаты — явные и неявные.\n",
    "\n",
    "Вы исправили заголовки, чтобы упростить работу с таблицей. Без дубликатов исследование станет более точным.\n",
    "\n",
    "Пропущенные значения вы заменили на `'unknown'`. Ещё предстоит увидеть, не повредят ли исследованию пропуски в колонке `genre`.\n",
    "\n",
    "Теперь можно перейти к проверке гипотез. "
   ]
  },
  {
   "cell_type": "markdown",
   "metadata": {
    "id": "WttZHXH0SqKk"
   },
   "source": [
    "## Проверка гипотез"
   ]
  },
  {
   "cell_type": "markdown",
   "metadata": {
    "id": "Im936VVi_Zcu"
   },
   "source": [
    "### Сравнение поведения пользователей двух столиц"
   ]
  },
  {
   "cell_type": "markdown",
   "metadata": {
    "id": "nwt_MuaL_Zcu"
   },
   "source": [
    "Первая гипотеза утверждает, что пользователи по-разному слушают музыку в Москве и Санкт-Петербурге. Проверьте это предположение по данным о трёх днях недели — понедельнике, среде и пятнице. Для этого:\n",
    "\n",
    "* Разделите пользователей Москвы и Санкт-Петербурга\n",
    "* Сравните, сколько треков послушала каждая группа пользователей в понедельник, среду и пятницу.\n"
   ]
  },
  {
   "cell_type": "markdown",
   "metadata": {
    "id": "8Dw_YMmT_Zcu"
   },
   "source": [
    "Для тренировки сначала выполните каждый из расчётов по отдельности. \n",
    "\n",
    "Оцените активность пользователей в каждом городе. Сгруппируйте данные по городу и посчитайте прослушивания в каждой группе.\n",
    "\n"
   ]
  },
  {
   "cell_type": "code",
   "execution_count": 18,
   "metadata": {
    "id": "0_Qs96oh_Zcu"
   },
   "outputs": [
    {
     "data": {
      "text/plain": [
       "city\n",
       "Moscow              42741\n",
       "Saint-Petersburg    18512\n",
       "Name: track, dtype: int64"
      ]
     },
     "metadata": {},
     "output_type": "display_data"
    }
   ],
   "source": [
    "# Подсчёт прослушиваний в каждом городе\n",
    "auditions_count_city = df.groupby('city')['track'].count()\n",
    "display(auditions_count_city)"
   ]
  },
  {
   "cell_type": "markdown",
   "metadata": {
    "id": "dzli3w8o_Zcu"
   },
   "source": [
    "В Москве прослушиваний больше, чем в Петербурге. Из этого не следует, что московские пользователи чаще слушают музыку. Просто самих пользователей в Москве больше.\n",
    "\n",
    "Теперь сгруппируйте данные по дню недели и подсчитайте прослушивания в понедельник, среду и пятницу. Учтите, что в данных есть информация о прослушиваниях только за эти дни.\n"
   ]
  },
  {
   "cell_type": "code",
   "execution_count": 19,
   "metadata": {
    "id": "uZMKjiJz_Zcu"
   },
   "outputs": [
    {
     "data": {
      "text/plain": [
       "day\n",
       "Friday       21840\n",
       "Monday       21354\n",
       "Wednesday    18059\n",
       "Name: track, dtype: int64"
      ]
     },
     "metadata": {},
     "output_type": "display_data"
    }
   ],
   "source": [
    "# Подсчёт прослушиваний в каждый из трёх дней\n",
    "auditions_count_day = df.groupby('day')['track'].count()\n",
    "display(auditions_count_day)"
   ]
  },
  {
   "cell_type": "markdown",
   "metadata": {
    "id": "cC2tNrlL_Zcu"
   },
   "source": [
    "В среднем пользователи из двух городов менее активны по средам. Но картина может измениться, если рассмотреть каждый город в отдельности."
   ]
  },
  {
   "cell_type": "markdown",
   "metadata": {
    "id": "POzs8bGa_Zcu"
   },
   "source": [
    "Вы видели, как работает группировка по городу и по дням недели. Теперь напишите функцию, которая объединит два эти расчёта.\n",
    "\n",
    "Создайте функцию `number_tracks()`, которая посчитает прослушивания для заданного дня и города. Ей понадобятся два параметра:\n",
    "* день недели,\n",
    "* название города.\n",
    "\n",
    "В функции сохраните в переменную строки исходной таблицы, у которых значение:\n",
    "  * в колонке `day` равно параметру `day`,\n",
    "  * в колонке `city` равно параметру `city`.\n",
    "\n",
    "Для этого примените последовательную фильтрацию с логической индексацией.\n",
    "\n",
    "Затем посчитайте значения в столбце `user_id` получившейся таблицы. Результат сохраните в новую переменную. Верните эту переменную из функции."
   ]
  },
  {
   "cell_type": "code",
   "execution_count": 20,
   "metadata": {
    "id": "Nz3GdQB1_Zcu"
   },
   "outputs": [],
   "source": [
    "# <создание функции number_tracks()>\n",
    "# Объявляется функция с двумя параметрами: day, city.\n",
    "# В переменной track_list сохраняются те строки таблицы df, для которых \n",
    "# значение в столбце 'day' равно параметру day и одновременно значение\n",
    "# в столбце 'city' равно параметру city (используйте последовательную фильтрацию\n",
    "# с помощью логической индексации).\n",
    "# В переменной track_list_count сохраняется число значений столбца 'user_id',\n",
    "# рассчитанное методом count() для таблицы track_list.\n",
    "# Функция возвращает число - значение track_list_count.\n",
    "\n",
    "# Функция для подсчёта прослушиваний для конкретного города и дня.\n",
    "# С помощью последовательной фильтрации с логической индексацией она \n",
    "# сначала получит из исходной таблицы строки с нужным днём,\n",
    "# затем из результата отфильтрует строки с нужным городом,\n",
    "# методом count() посчитает количество значений в колонке user_id. \n",
    "# Это количество функция вернёт в качестве результата\n",
    "\n",
    "def number_tracks(day, city): \n",
    "    track_list = df[df['day'] == day]\n",
    "    track_list = track_list[track_list['city'] == city]\n",
    "    track_list_count = track_list['user_id'].count()\n",
    "    return track_list_count"
   ]
  },
  {
   "cell_type": "markdown",
   "metadata": {
    "id": "ytf7xFrFJQ2r"
   },
   "source": [
    "Вызовите `number_tracks()` шесть раз, меняя значение параметров — так, чтобы получить данные для каждого города в каждый из трёх дней."
   ]
  },
  {
   "cell_type": "code",
   "execution_count": 21,
   "metadata": {
    "id": "rJcRATNQ_Zcu"
   },
   "outputs": [
    {
     "data": {
      "text/plain": [
       "15740"
      ]
     },
     "execution_count": 21,
     "metadata": {},
     "output_type": "execute_result"
    }
   ],
   "source": [
    "# количество прослушиваний в Москве по понедельникам\n",
    "mon_mos = number_tracks('Monday', 'Moscow')\n",
    "mon_mos"
   ]
  },
  {
   "cell_type": "code",
   "execution_count": 22,
   "metadata": {
    "id": "hq_ncZ5T_Zcu"
   },
   "outputs": [
    {
     "data": {
      "text/plain": [
       "5614"
      ]
     },
     "execution_count": 22,
     "metadata": {},
     "output_type": "execute_result"
    }
   ],
   "source": [
    "# количество прослушиваний в Санкт-Петербурге по понедельникам\n",
    "mon_spb = number_tracks('Monday', 'Saint-Petersburg')\n",
    "mon_spb"
   ]
  },
  {
   "cell_type": "code",
   "execution_count": 23,
   "metadata": {
    "id": "_NTy2VPU_Zcu"
   },
   "outputs": [
    {
     "data": {
      "text/plain": [
       "11056"
      ]
     },
     "execution_count": 23,
     "metadata": {},
     "output_type": "execute_result"
    }
   ],
   "source": [
    "# количество прослушиваний в Москве по средам\n",
    "wed_mos = number_tracks('Wednesday', 'Moscow')\n",
    "wed_mos"
   ]
  },
  {
   "cell_type": "code",
   "execution_count": 24,
   "metadata": {
    "id": "j2y3TAwo_Zcu"
   },
   "outputs": [
    {
     "data": {
      "text/plain": [
       "7003"
      ]
     },
     "execution_count": 24,
     "metadata": {},
     "output_type": "execute_result"
    }
   ],
   "source": [
    "# количество прослушиваний в Санкт-Петербурге по средам\n",
    "wed_spb = number_tracks('Wednesday', 'Saint-Petersburg')\n",
    "wed_spb"
   ]
  },
  {
   "cell_type": "code",
   "execution_count": 25,
   "metadata": {
    "id": "vYDw5u_K_Zcu"
   },
   "outputs": [
    {
     "data": {
      "text/plain": [
       "15945"
      ]
     },
     "execution_count": 25,
     "metadata": {},
     "output_type": "execute_result"
    }
   ],
   "source": [
    "# количество прослушиваний в Москве по пятницам\n",
    "fri_mos = number_tracks('Friday', 'Moscow')\n",
    "fri_mos"
   ]
  },
  {
   "cell_type": "code",
   "execution_count": 26,
   "metadata": {
    "id": "8_yzFtW3_Zcu"
   },
   "outputs": [
    {
     "data": {
      "text/plain": [
       "5895"
      ]
     },
     "execution_count": 26,
     "metadata": {},
     "output_type": "execute_result"
    }
   ],
   "source": [
    "# количество прослушиваний в Санкт-Петербурге по пятницам\n",
    "fri_spb = number_tracks('Friday', 'Saint-Petersburg')\n",
    "fri_spb"
   ]
  },
  {
   "cell_type": "markdown",
   "metadata": {
    "id": "7QXffbO-_Zcu"
   },
   "source": [
    "Создайте c помощью конструктора `pd.DataFrame` таблицу, где\n",
    "* названия колонок — `['city', 'monday', 'wednesday', 'friday']`;\n",
    "* данные — результаты, которые вы получили с помощью `number_tracks`."
   ]
  },
  {
   "cell_type": "code",
   "execution_count": 27,
   "metadata": {
    "id": "APAcLpOr_Zcu"
   },
   "outputs": [
    {
     "data": {
      "text/html": [
       "<div>\n",
       "<style scoped>\n",
       "    .dataframe tbody tr th:only-of-type {\n",
       "        vertical-align: middle;\n",
       "    }\n",
       "\n",
       "    .dataframe tbody tr th {\n",
       "        vertical-align: top;\n",
       "    }\n",
       "\n",
       "    .dataframe thead th {\n",
       "        text-align: right;\n",
       "    }\n",
       "</style>\n",
       "<table border=\"1\" class=\"dataframe\">\n",
       "  <thead>\n",
       "    <tr style=\"text-align: right;\">\n",
       "      <th></th>\n",
       "      <th>city</th>\n",
       "      <th>monday</th>\n",
       "      <th>wednesday</th>\n",
       "      <th>friday</th>\n",
       "    </tr>\n",
       "  </thead>\n",
       "  <tbody>\n",
       "    <tr>\n",
       "      <th>0</th>\n",
       "      <td>Moscow</td>\n",
       "      <td>15740</td>\n",
       "      <td>11056</td>\n",
       "      <td>15945</td>\n",
       "    </tr>\n",
       "    <tr>\n",
       "      <th>1</th>\n",
       "      <td>Saint-Petersburg</td>\n",
       "      <td>5614</td>\n",
       "      <td>7003</td>\n",
       "      <td>5895</td>\n",
       "    </tr>\n",
       "  </tbody>\n",
       "</table>\n",
       "</div>"
      ],
      "text/plain": [
       "               city  monday  wednesday  friday\n",
       "0            Moscow   15740      11056   15945\n",
       "1  Saint-Petersburg    5614       7003    5895"
      ]
     },
     "metadata": {},
     "output_type": "display_data"
    }
   ],
   "source": [
    "# Таблица с результатами\n",
    "# создаем список с названиями столбцов\n",
    "first_hypothesis_columns = ['city', 'monday', 'wednesday', 'friday']\n",
    "# создаем список с данными - количеством прослушиваний по дням недели и городам\n",
    "first_hypothesis_data = [\n",
    "    ['Moscow', mon_mos, wed_mos, fri_mos], \n",
    "    ['Saint-Petersburg', mon_spb, wed_spb, fri_spb]\n",
    "]\n",
    "# создаем таблицу по результатам проверки первой гипотезы\n",
    "first_hypothesis = pd.DataFrame(data=first_hypothesis_data, columns=first_hypothesis_columns) \n",
    "display(first_hypothesis)"
   ]
  },
  {
   "cell_type": "markdown",
   "metadata": {
    "id": "-EgPIHYu_Zcu"
   },
   "source": [
    "**Выводы**\n",
    "\n",
    "Данные показывают разницу поведения пользователей:\n",
    "\n",
    "- В Москве пик прослушиваний приходится на понедельник и пятницу, а в среду заметен спад.\n",
    "- В Петербурге, наоборот, больше слушают музыку по средам. Активность в понедельник и пятницу здесь почти в равной мере уступает среде.\n",
    "\n",
    "Значит, данные говорят в пользу первой гипотезы."
   ]
  },
  {
   "cell_type": "markdown",
   "metadata": {
    "id": "atZAxtq4_Zcu"
   },
   "source": [
    "### Музыка в начале и в конце недели"
   ]
  },
  {
   "cell_type": "markdown",
   "metadata": {
    "id": "eXrQqXFH_Zcu"
   },
   "source": [
    "Согласно второй гипотезе, утром в понедельник в Москве преобладают одни жанры, а в Петербурге — другие. Так же и вечером пятницы преобладают разные жанры — в зависимости от города."
   ]
  },
  {
   "cell_type": "markdown",
   "metadata": {
    "id": "S8UcW6Hw_Zcu"
   },
   "source": [
    "Сохраните таблицы с данными в две переменные:\n",
    "* по Москве — в `moscow_general`;\n",
    "* по Санкт-Петербургу — в `spb_general`."
   ]
  },
  {
   "cell_type": "code",
   "execution_count": 28,
   "metadata": {
    "id": "qeaFfM_P_Zcu"
   },
   "outputs": [],
   "source": [
    "# получение таблицы moscow_general из тех строк таблицы df, \n",
    "# для которых значение в столбце 'city' равно 'Moscow'\n",
    "moscow_general = df[df['city'] == 'Moscow']"
   ]
  },
  {
   "cell_type": "code",
   "execution_count": 29,
   "metadata": {
    "id": "ORaVRKto_Zcu"
   },
   "outputs": [],
   "source": [
    "# получение таблицы spb_general из тех строк таблицы df,\n",
    "# для которых значение в столбце 'city' равно 'Saint-Petersburg'\n",
    "spb_general = df[df['city'] == 'Saint-Petersburg']"
   ]
  },
  {
   "cell_type": "markdown",
   "metadata": {
    "id": "MEJV-CX2_Zcu"
   },
   "source": [
    "Создайте функцию `genre_weekday()` с четырьмя параметрами:\n",
    "* таблица (датафрейм) с данными,\n",
    "* день недели,\n",
    "* начальная временная метка в формате 'hh:mm', \n",
    "* последняя временная метка в формате 'hh:mm'.\n",
    "\n",
    "Функция должна вернуть информацию о топ-10 жанров тех треков, которые прослушивали в указанный день, в промежутке между двумя отметками времени."
   ]
  },
  {
   "cell_type": "code",
   "execution_count": 30,
   "metadata": {
    "id": "laJT9BYl_Zcu"
   },
   "outputs": [],
   "source": [
    "# Объявление функции genre_weekday() с параметрами table, day, time1, time2,\n",
    "# которая возвращает информацию о самых популярных жанрах в указанный день в\n",
    "# заданное время:\n",
    "# 1) в переменную genre_df сохраняются те строки переданного датафрейма table, для\n",
    "#    которых одновременно:\n",
    "#    - значение в столбце day равно значению аргумента day\n",
    "#    - значение в столбце time больше значения аргумента time1\n",
    "#    - значение в столбце time меньше значения аргумента time2\n",
    "#    Используйте последовательную фильтрацию с помощью логической индексации.\n",
    "# 2) сгруппировать датафрейм genre_df по столбцу genre, взять один из его\n",
    "#    столбцов и посчитать методом count() количество записей для каждого из\n",
    "#    присутствующих жанров, получившийся Series записать в переменную\n",
    "#    genre_df_count\n",
    "# 3) отсортировать genre_df_count по убыванию встречаемости и сохранить\n",
    "#    в переменную genre_df_sorted\n",
    "# 4) вернуть Series из 10 первых значений genre_df_sorted, это будут топ-10\n",
    "#    популярных жанров (в указанный день, в заданное время)\n",
    "def genre_weekday(table, day, time1, time2):\n",
    "    genre_df = table[table['day'] == day]\n",
    "    genre_df = genre_df[genre_df['time'] > time1]\n",
    "    genre_df = genre_df[genre_df['time'] < time2]\n",
    "    genre_df_count = genre_df.groupby('genre')\n",
    "    genre_df_count = genre_df_count['genre'].count()\n",
    "    genre_df_sorted = genre_df_count.sort_values(ascending = False)\n",
    "    genre_df_sorted = genre_df_sorted[:10]\n",
    "    return genre_df_sorted"
   ]
  },
  {
   "cell_type": "markdown",
   "metadata": {
    "id": "la2s2_PF_Zcu"
   },
   "source": [
    "Cравните результаты функции `genre_weekday()` для Москвы и Санкт-Петербурга в понедельник утром (с 7:00 до 11:00) и в пятницу вечером (с 17:00 до 23:00):"
   ]
  },
  {
   "cell_type": "code",
   "execution_count": 31,
   "metadata": {
    "id": "yz7itPUQ_Zcu"
   },
   "outputs": [
    {
     "name": "stdout",
     "output_type": "stream",
     "text": [
      "Результат для Москвы в понедельник утром (с 7:00 до 11:00):\n"
     ]
    },
    {
     "data": {
      "text/plain": [
       "genre\n",
       "pop            781\n",
       "dance          549\n",
       "electronic     480\n",
       "rock           474\n",
       "hiphop         286\n",
       "ruspop         186\n",
       "world          181\n",
       "rusrap         175\n",
       "alternative    164\n",
       "unknown        161\n",
       "Name: genre, dtype: int64"
      ]
     },
     "execution_count": 31,
     "metadata": {},
     "output_type": "execute_result"
    }
   ],
   "source": [
    "# вызов функции для утра понедельника в Москве (вместо df — таблица moscow_general)\n",
    "# объекты, хранящие время, являются строками и сравниваются как строки\n",
    "# пример вызова: genre_weekday(moscow_general, 'Monday', '07:00', '11:00')\n",
    "print(\"Результат для Москвы в понедельник утром (с 7:00 до 11:00):\")\n",
    "genre_weekday(moscow_general, 'Monday', '07:00', '11:00')"
   ]
  },
  {
   "cell_type": "code",
   "execution_count": 32,
   "metadata": {
    "id": "kwUcHPdy_Zcu"
   },
   "outputs": [
    {
     "name": "stdout",
     "output_type": "stream",
     "text": [
      "Результат для Санкт-Петербурга в понедельник утром (с 7:00 до 11:00):\n"
     ]
    },
    {
     "data": {
      "text/plain": [
       "genre\n",
       "pop            218\n",
       "dance          182\n",
       "rock           162\n",
       "electronic     147\n",
       "hiphop          80\n",
       "ruspop          64\n",
       "alternative     58\n",
       "rusrap          55\n",
       "jazz            44\n",
       "classical       40\n",
       "Name: genre, dtype: int64"
      ]
     },
     "execution_count": 32,
     "metadata": {},
     "output_type": "execute_result"
    }
   ],
   "source": [
    "# вызов функции для утра понедельника в Петербурге (вместо df — таблица spb_general)\n",
    "print(\"Результат для Санкт-Петербурга в понедельник утром (с 7:00 до 11:00):\")\n",
    "genre_weekday(spb_general, 'Monday', '07:00', '11:00')"
   ]
  },
  {
   "cell_type": "code",
   "execution_count": 33,
   "metadata": {
    "id": "EzXVRE1o_Zcu"
   },
   "outputs": [
    {
     "name": "stdout",
     "output_type": "stream",
     "text": [
      "Результат для Москвы в пятницу вечером (с 17:00 до 23:00):\n"
     ]
    },
    {
     "data": {
      "text/plain": [
       "genre\n",
       "pop            713\n",
       "rock           517\n",
       "dance          495\n",
       "electronic     482\n",
       "hiphop         273\n",
       "world          208\n",
       "ruspop         170\n",
       "alternative    163\n",
       "classical      163\n",
       "rusrap         142\n",
       "Name: genre, dtype: int64"
      ]
     },
     "execution_count": 33,
     "metadata": {},
     "output_type": "execute_result"
    }
   ],
   "source": [
    "# вызов функции для вечера пятницы в Москве\n",
    "print(\"Результат для Москвы в пятницу вечером (с 17:00 до 23:00):\")\n",
    "genre_weekday(moscow_general, 'Friday', '17:00', '23:00')"
   ]
  },
  {
   "cell_type": "code",
   "execution_count": 34,
   "metadata": {
    "id": "JZaEKu5v_Zcu"
   },
   "outputs": [
    {
     "name": "stdout",
     "output_type": "stream",
     "text": [
      "Результат для Санкт-Петербурга в пятницу вечером (с 17:00 до 23:00):\n"
     ]
    },
    {
     "data": {
      "text/plain": [
       "genre\n",
       "pop            256\n",
       "electronic     216\n",
       "rock           216\n",
       "dance          210\n",
       "hiphop          97\n",
       "alternative     63\n",
       "jazz            61\n",
       "classical       60\n",
       "rusrap          59\n",
       "world           54\n",
       "Name: genre, dtype: int64"
      ]
     },
     "execution_count": 34,
     "metadata": {},
     "output_type": "execute_result"
    }
   ],
   "source": [
    "# вызов функции для вечера пятницы в Петербурге\n",
    "print(\"Результат для Санкт-Петербурга в пятницу вечером (с 17:00 до 23:00):\")\n",
    "genre_weekday(spb_general, 'Friday', '17:00', '23:00')"
   ]
  },
  {
   "cell_type": "markdown",
   "metadata": {
    "id": "wrCe4MNX_Zcu"
   },
   "source": [
    "**Выводы**\n",
    "\n",
    "Если сравнить топ-10 жанров в понедельник утром, можно сделать такие выводы:\n",
    "\n",
    "1. В Москве и Петербурге слушают похожую музыку. Единственное отличие — в московский рейтинг вошёл жанр “world”, а в петербургский — джаз и классика.\n",
    "\n",
    "2. В Москве пропущенных значений оказалось так много, что значение `'unknown'` заняло десятое место среди самых популярных жанров. Значит, пропущенные значения занимают существенную долю в данных и угрожают достоверности исследования.\n",
    "\n",
    "Вечер пятницы не меняет эту картину. Некоторые жанры поднимаются немного выше, другие спускаются, но в целом топ-10 остаётся тем же самым.\n",
    "\n",
    "Таким образом, вторая гипотеза подтвердилась лишь частично:\n",
    "* Пользователи слушают похожую музыку в начале недели и в конце.\n",
    "* Разница между Москвой и Петербургом не слишком выражена. В Москве чаще слушают русскую популярную музыку, в Петербурге — джаз.\n",
    "\n",
    "Однако пропуски в данных ставят под сомнение этот результат. В Москве их так много, что рейтинг топ-10 мог бы выглядеть иначе, если бы не утерянные  данные о жанрах."
   ]
  },
  {
   "cell_type": "markdown",
   "metadata": {
    "id": "JolODAqr_Zcu"
   },
   "source": [
    "### Жанровые предпочтения в Москве и Петербурге\n",
    "\n",
    "Гипотеза: Петербург — столица рэпа, музыку этого жанра там слушают чаще, чем в Москве.  А Москва — город контрастов, в котором, тем не менее, преобладает поп-музыка."
   ]
  },
  {
   "cell_type": "markdown",
   "metadata": {
    "id": "DlegSvaT_Zcu"
   },
   "source": [
    "Сгруппируйте таблицу `moscow_general` по жанру и посчитайте прослушивания треков каждого жанра методом `count()`. Затем отсортируйте результат в порядке убывания и сохраните его в таблице `moscow_genres`."
   ]
  },
  {
   "cell_type": "code",
   "execution_count": 35,
   "metadata": {
    "id": "r19lIPke_Zcu"
   },
   "outputs": [],
   "source": [
    "# одной строкой: группировка таблицы moscow_general по столбцу 'genre', \n",
    "# подсчёт числа значений 'genre' в этой группировке методом count(), \n",
    "# сортировка получившегося Series в порядке убывания и сохранение в moscow_genres\n",
    "moscow_genres = moscow_general.groupby('genre')['genre'].count().sort_values(ascending = False)"
   ]
  },
  {
   "cell_type": "markdown",
   "metadata": {
    "id": "6kMuomxTiIr8"
   },
   "source": [
    "Выведите на экран первые десять строк `moscow_genres`:"
   ]
  },
  {
   "cell_type": "code",
   "execution_count": 36,
   "metadata": {
    "id": "WhCSooF8_Zcv"
   },
   "outputs": [
    {
     "data": {
      "text/plain": [
       "genre\n",
       "pop            5892\n",
       "dance          4435\n",
       "rock           3965\n",
       "electronic     3786\n",
       "hiphop         2096\n",
       "classical      1616\n",
       "world          1432\n",
       "alternative    1379\n",
       "ruspop         1372\n",
       "rusrap         1161\n",
       "Name: genre, dtype: int64"
      ]
     },
     "metadata": {},
     "output_type": "display_data"
    }
   ],
   "source": [
    "# просмотр первых 10 строк moscow_genres\n",
    "display(moscow_genres[:10])"
   ]
  },
  {
   "cell_type": "markdown",
   "metadata": {
    "id": "cnPG2vnN_Zcv"
   },
   "source": [
    "Теперь повторите то же и для Петербурга.\n",
    "\n",
    "Сгруппируйте таблицу `spb_general` по жанру. Посчитайте прослушивания треков каждого жанра. Результат отсортируйте в порядке убывания и сохраните в таблице `spb_genres`:\n"
   ]
  },
  {
   "cell_type": "code",
   "execution_count": 37,
   "metadata": {
    "id": "gluLIpE7_Zcv"
   },
   "outputs": [],
   "source": [
    "# одной строкой: группировка таблицы spb_general по столбцу 'genre', \n",
    "# подсчёт числа значений 'genre' в этой группировке методом count(), \n",
    "# сортировка получившегося Series в порядке убывания и сохранение в spb_genres\n",
    "spb_genres = spb_general.groupby('genre')['genre'].count().sort_values(ascending = False)"
   ]
  },
  {
   "cell_type": "markdown",
   "metadata": {
    "id": "5Doha_ODgyQ8"
   },
   "source": [
    "Выведите на экран первые десять строк `spb_genres`:"
   ]
  },
  {
   "cell_type": "code",
   "execution_count": 38,
   "metadata": {
    "id": "uaGJHjVU_Zcv"
   },
   "outputs": [
    {
     "data": {
      "text/plain": [
       "genre\n",
       "pop            2431\n",
       "dance          1932\n",
       "rock           1879\n",
       "electronic     1737\n",
       "hiphop          960\n",
       "alternative     649\n",
       "classical       646\n",
       "rusrap          564\n",
       "ruspop          538\n",
       "world           515\n",
       "Name: genre, dtype: int64"
      ]
     },
     "metadata": {},
     "output_type": "display_data"
    }
   ],
   "source": [
    "# просмотр первых 10 строк spb_genres\n",
    "display(spb_genres[:10])"
   ]
  },
  {
   "cell_type": "markdown",
   "metadata": {
    "id": "RY51YJYu_Zcv"
   },
   "source": [
    "**Выводы**"
   ]
  },
  {
   "cell_type": "markdown",
   "metadata": {
    "id": "nVhnJEm__Zcv"
   },
   "source": [
    "Гипотеза частично подтвердилась:\n",
    "* Поп-музыка — самый популярный жанр в Москве, как и предполагала гипотеза. Более того, в топ-10 жанров встречается близкий жанр — русская популярная музыка.\n",
    "* Вопреки ожиданиям, рэп одинаково популярен в Москве и Петербурге. \n"
   ]
  },
  {
   "cell_type": "markdown",
   "metadata": {
    "id": "ykKQ0N65_Zcv"
   },
   "source": [
    "## Итоги исследования"
   ]
  },
  {
   "cell_type": "markdown",
   "metadata": {
    "id": "tjUwbHb3_Zcv"
   },
   "source": [
    "Вы проверили три гипотезы и установили:\n",
    "\n",
    "1. День недели по-разному влияет на активность пользователей в Москве и Петербурге. \n",
    "\n",
    "Первая гипотеза полностью подтвердилась.\n",
    "\n",
    "2. Музыкальные предпочтения не сильно меняются в течение недели — будь то Москва или Петербург. Небольшие различия заметны в начале недели, по понедельникам:\n",
    "* в Москве слушают музыку жанра “world”,\n",
    "* в Петербурге — джаз и классику.\n",
    "\n",
    "Таким образом, вторая гипотеза подтвердилась лишь отчасти. Этот результат мог оказаться иным, если бы не пропуски в данных.\n",
    "\n",
    "3. Во вкусах пользователей Москвы и Петербурга больше общего чем различий. Вопреки ожиданиям, предпочтения жанров в Петербурге напоминают московские.\n",
    "\n",
    "Третья гипотеза не подтвердилась. Если различия в предпочтениях и существуют, на основной массе пользователей они незаметны."
   ]
  }
 ],
 "metadata": {
  "ExecuteTimeLog": [
   {
    "duration": 70,
    "start_time": "2022-04-27T16:25:01.254Z"
   },
   {
    "duration": 517,
    "start_time": "2022-04-27T16:25:09.779Z"
   },
   {
    "duration": 209,
    "start_time": "2022-04-27T16:25:12.309Z"
   },
   {
    "duration": 12,
    "start_time": "2022-04-27T16:25:15.518Z"
   },
   {
    "duration": 26,
    "start_time": "2022-04-27T16:26:18.676Z"
   },
   {
    "duration": 39,
    "start_time": "2022-04-27T16:26:43.740Z"
   },
   {
    "duration": 9,
    "start_time": "2022-04-27T16:27:30.040Z"
   },
   {
    "duration": 50,
    "start_time": "2022-04-27T16:28:46.880Z"
   },
   {
    "duration": 5,
    "start_time": "2022-04-27T16:40:15.364Z"
   },
   {
    "duration": 6,
    "start_time": "2022-04-27T16:40:32.067Z"
   },
   {
    "duration": 17,
    "start_time": "2022-04-27T16:44:04.162Z"
   },
   {
    "duration": 6,
    "start_time": "2022-04-27T16:44:14.267Z"
   },
   {
    "duration": 46,
    "start_time": "2022-04-27T16:45:53.686Z"
   },
   {
    "duration": 1496,
    "start_time": "2022-04-27T16:51:06.550Z"
   },
   {
    "duration": 1722,
    "start_time": "2022-04-27T16:51:34.352Z"
   },
   {
    "duration": 1697,
    "start_time": "2022-04-27T16:53:52.483Z"
   },
   {
    "duration": 1598,
    "start_time": "2022-04-27T17:01:19.793Z"
   },
   {
    "duration": 1613,
    "start_time": "2022-04-27T17:03:24.712Z"
   },
   {
    "duration": 1741,
    "start_time": "2022-04-27T17:04:38.813Z"
   },
   {
    "duration": 34,
    "start_time": "2022-04-27T17:05:21.036Z"
   },
   {
    "duration": 25,
    "start_time": "2022-04-27T17:06:46.286Z"
   },
   {
    "duration": 35,
    "start_time": "2022-04-27T17:06:54.456Z"
   },
   {
    "duration": 1727,
    "start_time": "2022-04-27T17:07:50.711Z"
   },
   {
    "duration": 24,
    "start_time": "2022-04-27T17:14:05.117Z"
   },
   {
    "duration": 108,
    "start_time": "2022-04-27T17:15:11.578Z"
   },
   {
    "duration": 4,
    "start_time": "2022-04-27T17:15:17.678Z"
   },
   {
    "duration": 112,
    "start_time": "2022-04-27T17:16:42.863Z"
   },
   {
    "duration": 3,
    "start_time": "2022-04-27T17:16:52.047Z"
   },
   {
    "duration": 92,
    "start_time": "2022-04-27T17:16:56.466Z"
   },
   {
    "duration": 14,
    "start_time": "2022-04-27T17:19:12.608Z"
   },
   {
    "duration": 15,
    "start_time": "2022-04-27T17:21:22.308Z"
   },
   {
    "duration": 9,
    "start_time": "2022-04-27T17:22:16.223Z"
   },
   {
    "duration": 14,
    "start_time": "2022-04-27T17:22:24.962Z"
   },
   {
    "duration": 71,
    "start_time": "2022-04-28T02:57:54.380Z"
   },
   {
    "duration": 507,
    "start_time": "2022-04-28T02:58:37.193Z"
   },
   {
    "duration": 210,
    "start_time": "2022-04-28T02:58:39.913Z"
   },
   {
    "duration": 26,
    "start_time": "2022-04-28T02:58:42.675Z"
   },
   {
    "duration": 43,
    "start_time": "2022-04-28T02:58:46.304Z"
   },
   {
    "duration": 6,
    "start_time": "2022-04-28T02:58:51.523Z"
   },
   {
    "duration": 18,
    "start_time": "2022-04-28T02:58:54.983Z"
   },
   {
    "duration": 5,
    "start_time": "2022-04-28T02:58:57.911Z"
   },
   {
    "duration": 37,
    "start_time": "2022-04-28T02:59:01.290Z"
   },
   {
    "duration": 25,
    "start_time": "2022-04-28T02:59:05.023Z"
   },
   {
    "duration": 34,
    "start_time": "2022-04-28T02:59:12.345Z"
   },
   {
    "duration": 25,
    "start_time": "2022-04-28T02:59:44.264Z"
   },
   {
    "duration": 34,
    "start_time": "2022-04-28T02:59:49.326Z"
   },
   {
    "duration": 100,
    "start_time": "2022-04-28T03:00:12.520Z"
   },
   {
    "duration": 33,
    "start_time": "2022-04-28T03:00:25.730Z"
   },
   {
    "duration": 33,
    "start_time": "2022-04-28T03:01:23.210Z"
   },
   {
    "duration": 4,
    "start_time": "2022-04-28T03:01:35.990Z"
   },
   {
    "duration": 4,
    "start_time": "2022-04-28T03:01:47.331Z"
   },
   {
    "duration": 41,
    "start_time": "2022-04-28T03:02:00.636Z"
   },
   {
    "duration": 99,
    "start_time": "2022-04-28T03:02:21.218Z"
   },
   {
    "duration": 118,
    "start_time": "2022-04-28T03:02:23.833Z"
   },
   {
    "duration": 93,
    "start_time": "2022-04-28T03:02:35.807Z"
   },
   {
    "duration": 15,
    "start_time": "2022-04-28T03:02:57.785Z"
   },
   {
    "duration": 12,
    "start_time": "2022-04-28T03:06:01.506Z"
   },
   {
    "duration": 5,
    "start_time": "2022-04-28T04:29:56.270Z"
   },
   {
    "duration": 42,
    "start_time": "2022-04-28T04:31:59.531Z"
   },
   {
    "duration": 4,
    "start_time": "2022-04-28T04:32:52.271Z"
   },
   {
    "duration": 10,
    "start_time": "2022-04-28T04:32:54.426Z"
   },
   {
    "duration": 151,
    "start_time": "2022-04-28T14:44:03.915Z"
   },
   {
    "duration": 403,
    "start_time": "2022-04-28T14:44:49.097Z"
   },
   {
    "duration": 148,
    "start_time": "2022-04-28T14:44:49.502Z"
   },
   {
    "duration": 17,
    "start_time": "2022-04-28T14:44:49.652Z"
   },
   {
    "duration": 43,
    "start_time": "2022-04-28T14:44:49.670Z"
   },
   {
    "duration": 7,
    "start_time": "2022-04-28T14:44:49.714Z"
   },
   {
    "duration": 16,
    "start_time": "2022-04-28T14:44:49.722Z"
   },
   {
    "duration": 7,
    "start_time": "2022-04-28T14:44:49.739Z"
   },
   {
    "duration": 45,
    "start_time": "2022-04-28T14:44:49.747Z"
   },
   {
    "duration": 18,
    "start_time": "2022-04-28T14:44:49.794Z"
   },
   {
    "duration": 26,
    "start_time": "2022-04-28T14:44:49.814Z"
   },
   {
    "duration": 83,
    "start_time": "2022-04-28T14:44:49.841Z"
   },
   {
    "duration": 86,
    "start_time": "2022-04-28T14:44:49.926Z"
   },
   {
    "duration": 58,
    "start_time": "2022-04-28T14:44:50.014Z"
   },
   {
    "duration": 20,
    "start_time": "2022-04-28T14:44:50.074Z"
   },
   {
    "duration": 10,
    "start_time": "2022-04-28T14:44:50.096Z"
   },
   {
    "duration": 135,
    "start_time": "2022-04-28T14:44:50.107Z"
   },
   {
    "duration": 68,
    "start_time": "2022-04-28T14:45:11.853Z"
   },
   {
    "duration": 3,
    "start_time": "2022-04-28T14:45:22.983Z"
   },
   {
    "duration": 158,
    "start_time": "2022-04-28T14:45:22.987Z"
   },
   {
    "duration": 10,
    "start_time": "2022-04-28T14:45:23.147Z"
   },
   {
    "duration": 38,
    "start_time": "2022-04-28T14:45:23.159Z"
   },
   {
    "duration": 4,
    "start_time": "2022-04-28T14:45:23.199Z"
   },
   {
    "duration": 9,
    "start_time": "2022-04-28T14:45:23.205Z"
   },
   {
    "duration": 3,
    "start_time": "2022-04-28T14:45:23.216Z"
   },
   {
    "duration": 27,
    "start_time": "2022-04-28T14:45:23.222Z"
   },
   {
    "duration": 55,
    "start_time": "2022-04-28T14:45:23.251Z"
   },
   {
    "duration": 23,
    "start_time": "2022-04-28T14:45:23.307Z"
   },
   {
    "duration": 75,
    "start_time": "2022-04-28T14:45:23.332Z"
   },
   {
    "duration": 83,
    "start_time": "2022-04-28T14:45:23.409Z"
   },
   {
    "duration": 53,
    "start_time": "2022-04-28T14:45:23.494Z"
   },
   {
    "duration": 6,
    "start_time": "2022-04-28T14:45:23.550Z"
   },
   {
    "duration": 4,
    "start_time": "2022-04-28T14:45:23.557Z"
   },
   {
    "duration": 3,
    "start_time": "2022-04-28T14:45:33.552Z"
   },
   {
    "duration": 7,
    "start_time": "2022-04-28T14:45:37.720Z"
   },
   {
    "duration": 3,
    "start_time": "2022-04-28T14:46:23.674Z"
   },
   {
    "duration": 147,
    "start_time": "2022-04-28T14:46:26.095Z"
   },
   {
    "duration": 11,
    "start_time": "2022-04-28T14:46:29.656Z"
   },
   {
    "duration": 31,
    "start_time": "2022-04-28T14:46:32.722Z"
   },
   {
    "duration": 4,
    "start_time": "2022-04-28T14:46:38.070Z"
   },
   {
    "duration": 8,
    "start_time": "2022-04-28T14:46:42.131Z"
   },
   {
    "duration": 3,
    "start_time": "2022-04-28T14:46:44.842Z"
   },
   {
    "duration": 26,
    "start_time": "2022-04-28T14:46:47.414Z"
   },
   {
    "duration": 32,
    "start_time": "2022-04-28T14:46:50.786Z"
   },
   {
    "duration": 27,
    "start_time": "2022-04-28T14:46:53.405Z"
   },
   {
    "duration": 62,
    "start_time": "2022-04-28T14:46:56.314Z"
   },
   {
    "duration": 66,
    "start_time": "2022-04-28T14:46:59.852Z"
   },
   {
    "duration": 57,
    "start_time": "2022-04-28T14:47:02.564Z"
   },
   {
    "duration": 7,
    "start_time": "2022-04-28T14:47:08.273Z"
   },
   {
    "duration": 3,
    "start_time": "2022-04-28T14:47:12.932Z"
   },
   {
    "duration": 8,
    "start_time": "2022-04-28T14:47:18.790Z"
   },
   {
    "duration": 10,
    "start_time": "2022-04-28T14:47:57.984Z"
   },
   {
    "duration": 10,
    "start_time": "2022-04-28T14:48:20.212Z"
   },
   {
    "duration": 9,
    "start_time": "2022-04-28T14:49:25.220Z"
   },
   {
    "duration": 5,
    "start_time": "2022-04-28T14:54:38.639Z"
   },
   {
    "duration": 71,
    "start_time": "2022-04-28T15:24:37.348Z"
   },
   {
    "duration": 582,
    "start_time": "2022-04-28T15:24:40.326Z"
   },
   {
    "duration": 303,
    "start_time": "2022-04-28T15:24:44.226Z"
   },
   {
    "duration": 18,
    "start_time": "2022-04-28T15:24:46.725Z"
   },
   {
    "duration": 55,
    "start_time": "2022-04-28T15:24:53.845Z"
   },
   {
    "duration": 7,
    "start_time": "2022-04-28T15:24:58.587Z"
   },
   {
    "duration": 14,
    "start_time": "2022-04-28T15:25:01.716Z"
   },
   {
    "duration": 3,
    "start_time": "2022-04-28T15:26:29.596Z"
   },
   {
    "duration": 25,
    "start_time": "2022-04-28T15:26:33.411Z"
   },
   {
    "duration": 20,
    "start_time": "2022-04-28T15:26:36.300Z"
   },
   {
    "duration": 26,
    "start_time": "2022-04-28T15:26:38.764Z"
   },
   {
    "duration": 69,
    "start_time": "2022-04-28T15:26:41.763Z"
   },
   {
    "duration": 79,
    "start_time": "2022-04-28T15:26:45.376Z"
   },
   {
    "duration": 65,
    "start_time": "2022-04-28T15:26:47.676Z"
   },
   {
    "duration": 7,
    "start_time": "2022-04-28T15:26:50.866Z"
   },
   {
    "duration": 4,
    "start_time": "2022-04-28T15:26:58.715Z"
   },
   {
    "duration": 3,
    "start_time": "2022-04-28T15:49:28.108Z"
   },
   {
    "duration": 239,
    "start_time": "2022-04-28T15:49:42.639Z"
   },
   {
    "duration": 16,
    "start_time": "2022-04-28T15:49:45.890Z"
   },
   {
    "duration": 52,
    "start_time": "2022-04-28T15:49:50.446Z"
   },
   {
    "duration": 4,
    "start_time": "2022-04-28T15:49:56.386Z"
   },
   {
    "duration": 9,
    "start_time": "2022-04-28T15:50:00.497Z"
   },
   {
    "duration": 3,
    "start_time": "2022-04-28T15:50:03.035Z"
   },
   {
    "duration": 27,
    "start_time": "2022-04-28T15:50:06.557Z"
   },
   {
    "duration": 22,
    "start_time": "2022-04-28T15:50:10.118Z"
   },
   {
    "duration": 26,
    "start_time": "2022-04-28T15:50:13.046Z"
   },
   {
    "duration": 72,
    "start_time": "2022-04-28T15:50:16.517Z"
   },
   {
    "duration": 85,
    "start_time": "2022-04-28T15:50:19.739Z"
   },
   {
    "duration": 62,
    "start_time": "2022-04-28T15:50:22.040Z"
   },
   {
    "duration": 7,
    "start_time": "2022-04-28T15:50:25.269Z"
   },
   {
    "duration": 4,
    "start_time": "2022-04-28T15:50:29.938Z"
   },
   {
    "duration": 51,
    "start_time": "2022-04-28T15:57:20.901Z"
   },
   {
    "duration": 455,
    "start_time": "2022-04-28T15:57:45.410Z"
   },
   {
    "duration": 171,
    "start_time": "2022-04-28T15:57:50.278Z"
   },
   {
    "duration": 20,
    "start_time": "2022-04-28T15:57:53.430Z"
   },
   {
    "duration": 35,
    "start_time": "2022-04-28T15:57:57.238Z"
   },
   {
    "duration": 3,
    "start_time": "2022-04-28T15:58:02.411Z"
   },
   {
    "duration": 14,
    "start_time": "2022-04-28T15:58:06.831Z"
   },
   {
    "duration": 4,
    "start_time": "2022-04-28T15:58:10.731Z"
   },
   {
    "duration": 27,
    "start_time": "2022-04-28T15:58:16.033Z"
   },
   {
    "duration": 20,
    "start_time": "2022-04-28T15:58:20.285Z"
   },
   {
    "duration": 25,
    "start_time": "2022-04-28T15:58:22.634Z"
   },
   {
    "duration": 69,
    "start_time": "2022-04-28T15:58:27.541Z"
   },
   {
    "duration": 87,
    "start_time": "2022-04-28T15:58:31.151Z"
   },
   {
    "duration": 62,
    "start_time": "2022-04-28T15:58:33.930Z"
   },
   {
    "duration": 7,
    "start_time": "2022-04-28T15:58:38.228Z"
   },
   {
    "duration": 3,
    "start_time": "2022-04-28T15:58:44.412Z"
   },
   {
    "duration": 11,
    "start_time": "2022-04-28T15:58:51.192Z"
   },
   {
    "duration": 8,
    "start_time": "2022-04-28T15:58:57.035Z"
   },
   {
    "duration": 92,
    "start_time": "2022-04-28T16:06:30.293Z"
   },
   {
    "duration": 93,
    "start_time": "2022-04-28T16:06:49.915Z"
   },
   {
    "duration": 70,
    "start_time": "2022-04-28T16:09:49.141Z"
   },
   {
    "duration": 10,
    "start_time": "2022-04-28T16:10:10.480Z"
   },
   {
    "duration": 9,
    "start_time": "2022-04-28T16:10:25.399Z"
   },
   {
    "duration": 10,
    "start_time": "2022-04-28T16:13:58.289Z"
   },
   {
    "duration": 46,
    "start_time": "2022-04-28T16:16:44.159Z"
   },
   {
    "duration": 33,
    "start_time": "2022-04-28T16:17:14.720Z"
   },
   {
    "duration": 37,
    "start_time": "2022-04-28T16:25:19.476Z"
   },
   {
    "duration": 38,
    "start_time": "2022-04-28T16:25:45.614Z"
   },
   {
    "duration": 14,
    "start_time": "2022-04-28T16:26:20.699Z"
   },
   {
    "duration": 12,
    "start_time": "2022-04-28T16:26:42.987Z"
   },
   {
    "duration": 14,
    "start_time": "2022-04-28T16:28:29.155Z"
   },
   {
    "duration": 14,
    "start_time": "2022-04-28T16:30:10.167Z"
   },
   {
    "duration": 13,
    "start_time": "2022-04-28T16:30:37.956Z"
   },
   {
    "duration": 4,
    "start_time": "2022-04-28T16:42:17.474Z"
   },
   {
    "duration": 3,
    "start_time": "2022-04-28T16:42:28.874Z"
   },
   {
    "duration": 12,
    "start_time": "2022-04-28T16:44:39.370Z"
   },
   {
    "duration": 11,
    "start_time": "2022-04-28T16:44:55.879Z"
   },
   {
    "duration": 4,
    "start_time": "2022-04-28T16:48:27.374Z"
   },
   {
    "duration": 4,
    "start_time": "2022-04-28T16:48:39.290Z"
   },
   {
    "duration": 25,
    "start_time": "2022-04-28T16:48:43.738Z"
   },
   {
    "duration": 9,
    "start_time": "2022-04-28T16:49:10.525Z"
   },
   {
    "duration": 4,
    "start_time": "2022-04-28T16:49:26.434Z"
   },
   {
    "duration": 4,
    "start_time": "2022-04-28T16:50:51.717Z"
   },
   {
    "duration": 24,
    "start_time": "2022-04-28T16:50:54.536Z"
   },
   {
    "duration": 21,
    "start_time": "2022-04-28T16:52:12.105Z"
   },
   {
    "duration": 7,
    "start_time": "2022-04-28T16:52:32.394Z"
   },
   {
    "duration": 22,
    "start_time": "2022-04-28T16:53:08.106Z"
   },
   {
    "duration": 4,
    "start_time": "2022-04-28T16:56:52.144Z"
   },
   {
    "duration": 24,
    "start_time": "2022-04-28T16:56:57.495Z"
   },
   {
    "duration": 3,
    "start_time": "2022-04-28T16:59:51.466Z"
   },
   {
    "duration": 11,
    "start_time": "2022-04-28T16:59:56.697Z"
   },
   {
    "duration": 11,
    "start_time": "2022-04-28T16:59:59.559Z"
   },
   {
    "duration": 6,
    "start_time": "2022-04-28T17:00:35.108Z"
   },
   {
    "duration": 28,
    "start_time": "2022-04-28T17:00:37.797Z"
   },
   {
    "duration": 25,
    "start_time": "2022-04-28T17:02:22.781Z"
   },
   {
    "duration": 27,
    "start_time": "2022-04-28T17:02:25.077Z"
   },
   {
    "duration": 25,
    "start_time": "2022-04-28T17:05:04.010Z"
   },
   {
    "duration": 21,
    "start_time": "2022-04-28T17:05:06.167Z"
   },
   {
    "duration": 4,
    "start_time": "2022-04-28T17:07:08.168Z"
   },
   {
    "duration": 24,
    "start_time": "2022-04-28T17:07:12.427Z"
   },
   {
    "duration": 25,
    "start_time": "2022-04-28T17:09:02.066Z"
   },
   {
    "duration": 24,
    "start_time": "2022-04-28T17:09:19.072Z"
   },
   {
    "duration": 24,
    "start_time": "2022-04-28T17:09:30.029Z"
   },
   {
    "duration": 4,
    "start_time": "2022-04-28T17:13:52.627Z"
   },
   {
    "duration": 22,
    "start_time": "2022-04-28T17:13:55.382Z"
   },
   {
    "duration": 20,
    "start_time": "2022-04-28T17:14:07.093Z"
   },
   {
    "duration": 21,
    "start_time": "2022-04-28T17:14:10.252Z"
   },
   {
    "duration": 20,
    "start_time": "2022-04-28T17:14:13.633Z"
   },
   {
    "duration": 23,
    "start_time": "2022-04-28T17:14:16.345Z"
   },
   {
    "duration": 21,
    "start_time": "2022-04-28T17:14:19.022Z"
   },
   {
    "duration": 16,
    "start_time": "2022-04-28T17:24:44.702Z"
   },
   {
    "duration": 9,
    "start_time": "2022-04-28T17:30:23.118Z"
   },
   {
    "duration": 4,
    "start_time": "2022-04-28T17:31:24.018Z"
   },
   {
    "duration": 24,
    "start_time": "2022-04-28T17:31:26.626Z"
   },
   {
    "duration": 21,
    "start_time": "2022-04-28T17:31:28.977Z"
   },
   {
    "duration": 24,
    "start_time": "2022-04-28T17:31:31.287Z"
   },
   {
    "duration": 20,
    "start_time": "2022-04-28T17:31:33.827Z"
   },
   {
    "duration": 25,
    "start_time": "2022-04-28T17:31:36.194Z"
   },
   {
    "duration": 21,
    "start_time": "2022-04-28T17:31:38.612Z"
   },
   {
    "duration": 9,
    "start_time": "2022-04-28T17:31:50.987Z"
   },
   {
    "duration": 23,
    "start_time": "2022-04-28T17:34:36.002Z"
   },
   {
    "duration": 9,
    "start_time": "2022-04-28T17:34:46.007Z"
   },
   {
    "duration": 13,
    "start_time": "2022-04-29T10:15:52.225Z"
   },
   {
    "duration": 68,
    "start_time": "2022-04-29T10:15:57.877Z"
   },
   {
    "duration": 6,
    "start_time": "2022-04-29T10:16:52.485Z"
   },
   {
    "duration": 11,
    "start_time": "2022-04-29T10:16:54.557Z"
   },
   {
    "duration": 5,
    "start_time": "2022-04-29T10:17:33.369Z"
   },
   {
    "duration": 11,
    "start_time": "2022-04-29T10:17:35.509Z"
   },
   {
    "duration": 615,
    "start_time": "2022-04-29T10:17:54.588Z"
   },
   {
    "duration": 219,
    "start_time": "2022-04-29T10:17:55.206Z"
   },
   {
    "duration": 29,
    "start_time": "2022-04-29T10:17:55.428Z"
   },
   {
    "duration": 72,
    "start_time": "2022-04-29T10:17:55.460Z"
   },
   {
    "duration": 6,
    "start_time": "2022-04-29T10:17:55.536Z"
   },
   {
    "duration": 19,
    "start_time": "2022-04-29T10:17:55.544Z"
   },
   {
    "duration": 9,
    "start_time": "2022-04-29T10:17:55.565Z"
   },
   {
    "duration": 72,
    "start_time": "2022-04-29T10:17:55.576Z"
   },
   {
    "duration": 32,
    "start_time": "2022-04-29T10:17:55.650Z"
   },
   {
    "duration": 51,
    "start_time": "2022-04-29T10:17:55.686Z"
   },
   {
    "duration": 125,
    "start_time": "2022-04-29T10:17:55.740Z"
   },
   {
    "duration": 140,
    "start_time": "2022-04-29T10:17:55.867Z"
   },
   {
    "duration": 116,
    "start_time": "2022-04-29T10:17:56.009Z"
   },
   {
    "duration": 15,
    "start_time": "2022-04-29T10:17:56.128Z"
   },
   {
    "duration": 11,
    "start_time": "2022-04-29T10:17:56.145Z"
   },
   {
    "duration": 20,
    "start_time": "2022-04-29T10:17:56.159Z"
   },
   {
    "duration": 10,
    "start_time": "2022-04-29T10:17:56.181Z"
   },
   {
    "duration": 25,
    "start_time": "2022-04-29T10:17:56.226Z"
   },
   {
    "duration": 21,
    "start_time": "2022-04-29T10:17:56.254Z"
   },
   {
    "duration": 1916,
    "start_time": "2022-04-29T10:18:08.396Z"
   },
   {
    "duration": 5,
    "start_time": "2022-04-29T10:18:31.997Z"
   },
   {
    "duration": 22,
    "start_time": "2022-04-29T10:18:34.200Z"
   },
   {
    "duration": 21,
    "start_time": "2022-04-29T10:18:40.238Z"
   },
   {
    "duration": 27,
    "start_time": "2022-04-29T10:18:42.501Z"
   },
   {
    "duration": 22,
    "start_time": "2022-04-29T10:18:46.603Z"
   },
   {
    "duration": 25,
    "start_time": "2022-04-29T10:18:48.758Z"
   },
   {
    "duration": 22,
    "start_time": "2022-04-29T10:18:52.477Z"
   },
   {
    "duration": 13,
    "start_time": "2022-04-29T10:20:04.206Z"
   },
   {
    "duration": 13,
    "start_time": "2022-04-29T10:20:12.250Z"
   },
   {
    "duration": 16,
    "start_time": "2022-04-29T10:20:48.003Z"
   },
   {
    "duration": 132,
    "start_time": "2022-04-29T10:30:51.114Z"
   },
   {
    "duration": 16,
    "start_time": "2022-04-29T10:30:59.610Z"
   },
   {
    "duration": 14,
    "start_time": "2022-04-29T10:31:25.544Z"
   },
   {
    "duration": 7,
    "start_time": "2022-04-29T10:50:00.763Z"
   },
   {
    "duration": 155,
    "start_time": "2022-04-29T10:52:13.831Z"
   },
   {
    "duration": 107,
    "start_time": "2022-04-29T10:52:44.353Z"
   },
   {
    "duration": 41,
    "start_time": "2022-04-29T10:53:13.543Z"
   },
   {
    "duration": 9,
    "start_time": "2022-04-29T10:55:34.954Z"
   },
   {
    "duration": 29,
    "start_time": "2022-04-29T10:55:41.281Z"
   },
   {
    "duration": 131,
    "start_time": "2022-04-29T10:56:14.834Z"
   },
   {
    "duration": 6,
    "start_time": "2022-04-29T10:56:52.219Z"
   },
   {
    "duration": 30,
    "start_time": "2022-04-29T10:56:55.371Z"
   },
   {
    "duration": 29,
    "start_time": "2022-04-29T10:58:49.935Z"
   },
   {
    "duration": 6,
    "start_time": "2022-04-29T10:59:49.524Z"
   },
   {
    "duration": 31,
    "start_time": "2022-04-29T10:59:52.021Z"
   },
   {
    "duration": 6,
    "start_time": "2022-04-29T11:03:04.244Z"
   },
   {
    "duration": 31,
    "start_time": "2022-04-29T11:03:52.063Z"
   },
   {
    "duration": 7,
    "start_time": "2022-04-29T11:16:46.346Z"
   },
   {
    "duration": 31,
    "start_time": "2022-04-29T11:16:52.004Z"
   },
   {
    "duration": 6,
    "start_time": "2022-04-29T11:17:34.186Z"
   },
   {
    "duration": 28,
    "start_time": "2022-04-29T11:17:36.947Z"
   },
   {
    "duration": 7,
    "start_time": "2022-04-29T11:18:09.555Z"
   },
   {
    "duration": 24,
    "start_time": "2022-04-29T11:18:12.266Z"
   },
   {
    "duration": 6,
    "start_time": "2022-04-29T11:19:29.344Z"
   },
   {
    "duration": 32,
    "start_time": "2022-04-29T11:19:31.888Z"
   },
   {
    "duration": 6,
    "start_time": "2022-04-29T11:19:50.954Z"
   },
   {
    "duration": 23,
    "start_time": "2022-04-29T11:19:53.356Z"
   },
   {
    "duration": 6,
    "start_time": "2022-04-29T11:20:29.613Z"
   },
   {
    "duration": 25,
    "start_time": "2022-04-29T11:20:31.826Z"
   },
   {
    "duration": 6,
    "start_time": "2022-04-29T11:21:31.600Z"
   },
   {
    "duration": 36,
    "start_time": "2022-04-29T11:21:33.705Z"
   },
   {
    "duration": 9,
    "start_time": "2022-04-29T11:21:45.921Z"
   },
   {
    "duration": 25,
    "start_time": "2022-04-29T11:21:47.756Z"
   },
   {
    "duration": 6,
    "start_time": "2022-04-29T11:22:40.746Z"
   },
   {
    "duration": 22,
    "start_time": "2022-04-29T11:22:43.399Z"
   },
   {
    "duration": 15,
    "start_time": "2022-04-29T11:24:35.939Z"
   },
   {
    "duration": 19,
    "start_time": "2022-04-29T11:27:17.947Z"
   },
   {
    "duration": 18,
    "start_time": "2022-04-29T11:27:29.176Z"
   },
   {
    "duration": 14,
    "start_time": "2022-04-29T11:27:31.933Z"
   },
   {
    "duration": 27,
    "start_time": "2022-04-29T11:28:05.033Z"
   },
   {
    "duration": 25,
    "start_time": "2022-04-29T11:28:19.574Z"
   },
   {
    "duration": 28,
    "start_time": "2022-04-29T11:28:32.574Z"
   },
   {
    "duration": 24,
    "start_time": "2022-04-29T11:28:40.936Z"
   },
   {
    "duration": 16,
    "start_time": "2022-04-29T11:28:58.895Z"
   },
   {
    "duration": 23,
    "start_time": "2022-04-29T11:29:43.668Z"
   },
   {
    "duration": 14,
    "start_time": "2022-04-29T11:29:49.773Z"
   },
   {
    "duration": 38,
    "start_time": "2022-04-29T11:35:25.583Z"
   },
   {
    "duration": 34,
    "start_time": "2022-04-29T11:35:37.089Z"
   },
   {
    "duration": 39,
    "start_time": "2022-04-29T11:36:15.520Z"
   },
   {
    "duration": 17,
    "start_time": "2022-04-29T11:36:43.652Z"
   },
   {
    "duration": 13,
    "start_time": "2022-04-29T11:37:09.230Z"
   },
   {
    "duration": 7,
    "start_time": "2022-04-29T11:37:11.583Z"
   },
   {
    "duration": 11,
    "start_time": "2022-04-29T11:37:27.837Z"
   },
   {
    "duration": 7,
    "start_time": "2022-04-29T11:37:30.352Z"
   },
   {
    "duration": 9,
    "start_time": "2022-04-29T11:40:01.121Z"
   },
   {
    "duration": 4,
    "start_time": "2022-04-29T11:40:19.342Z"
   },
   {
    "duration": 7,
    "start_time": "2022-04-29T11:40:30.393Z"
   },
   {
    "duration": 4,
    "start_time": "2022-04-29T11:42:40.386Z"
   },
   {
    "duration": 248,
    "start_time": "2022-04-29T11:42:40.393Z"
   },
   {
    "duration": 17,
    "start_time": "2022-04-29T11:42:40.643Z"
   },
   {
    "duration": 62,
    "start_time": "2022-04-29T11:42:40.663Z"
   },
   {
    "duration": 5,
    "start_time": "2022-04-29T11:42:40.728Z"
   },
   {
    "duration": 16,
    "start_time": "2022-04-29T11:42:40.735Z"
   },
   {
    "duration": 4,
    "start_time": "2022-04-29T11:42:40.754Z"
   },
   {
    "duration": 68,
    "start_time": "2022-04-29T11:42:40.761Z"
   },
   {
    "duration": 25,
    "start_time": "2022-04-29T11:42:40.833Z"
   },
   {
    "duration": 32,
    "start_time": "2022-04-29T11:42:40.860Z"
   },
   {
    "duration": 131,
    "start_time": "2022-04-29T11:42:40.895Z"
   },
   {
    "duration": 128,
    "start_time": "2022-04-29T11:42:41.028Z"
   },
   {
    "duration": 104,
    "start_time": "2022-04-29T11:42:41.158Z"
   },
   {
    "duration": 10,
    "start_time": "2022-04-29T11:42:41.265Z"
   },
   {
    "duration": 4,
    "start_time": "2022-04-29T11:42:41.277Z"
   },
   {
    "duration": 41,
    "start_time": "2022-04-29T11:42:41.284Z"
   },
   {
    "duration": 11,
    "start_time": "2022-04-29T11:42:41.327Z"
   },
   {
    "duration": 21,
    "start_time": "2022-04-29T11:42:41.341Z"
   },
   {
    "duration": 19,
    "start_time": "2022-04-29T11:42:41.364Z"
   },
   {
    "duration": 42,
    "start_time": "2022-04-29T11:42:41.385Z"
   },
   {
    "duration": 32,
    "start_time": "2022-04-29T11:42:41.430Z"
   },
   {
    "duration": 30,
    "start_time": "2022-04-29T11:42:41.464Z"
   },
   {
    "duration": 52,
    "start_time": "2022-04-29T11:42:41.496Z"
   },
   {
    "duration": 29,
    "start_time": "2022-04-29T11:42:41.556Z"
   },
   {
    "duration": 59,
    "start_time": "2022-04-29T11:42:41.588Z"
   },
   {
    "duration": 30,
    "start_time": "2022-04-29T11:42:41.650Z"
   },
   {
    "duration": 43,
    "start_time": "2022-04-29T11:42:41.683Z"
   },
   {
    "duration": 15,
    "start_time": "2022-04-29T11:42:41.729Z"
   },
   {
    "duration": 16,
    "start_time": "2022-04-29T11:42:41.746Z"
   },
   {
    "duration": 6,
    "start_time": "2022-04-29T11:42:41.765Z"
   },
   {
    "duration": 63,
    "start_time": "2022-04-29T11:42:41.773Z"
   },
   {
    "duration": 18,
    "start_time": "2022-04-29T11:42:41.838Z"
   },
   {
    "duration": 22,
    "start_time": "2022-04-29T11:42:41.858Z"
   },
   {
    "duration": 50,
    "start_time": "2022-04-29T11:42:41.882Z"
   },
   {
    "duration": 12,
    "start_time": "2022-04-29T11:42:41.936Z"
   },
   {
    "duration": 9,
    "start_time": "2022-04-29T11:42:41.950Z"
   },
   {
    "duration": 12,
    "start_time": "2022-04-29T11:42:41.962Z"
   },
   {
    "duration": 8,
    "start_time": "2022-04-29T11:42:41.977Z"
   },
   {
    "duration": 17,
    "start_time": "2022-04-29T11:55:21.541Z"
   },
   {
    "duration": 4,
    "start_time": "2022-04-29T11:55:30.538Z"
   },
   {
    "duration": 247,
    "start_time": "2022-04-29T11:55:30.544Z"
   },
   {
    "duration": 15,
    "start_time": "2022-04-29T11:55:30.794Z"
   },
   {
    "duration": 54,
    "start_time": "2022-04-29T11:55:30.825Z"
   },
   {
    "duration": 5,
    "start_time": "2022-04-29T11:55:30.882Z"
   },
   {
    "duration": 36,
    "start_time": "2022-04-29T11:55:30.889Z"
   },
   {
    "duration": 8,
    "start_time": "2022-04-29T11:55:30.927Z"
   },
   {
    "duration": 51,
    "start_time": "2022-04-29T11:55:30.937Z"
   },
   {
    "duration": 59,
    "start_time": "2022-04-29T11:55:30.992Z"
   },
   {
    "duration": 38,
    "start_time": "2022-04-29T11:55:31.053Z"
   },
   {
    "duration": 129,
    "start_time": "2022-04-29T11:55:31.095Z"
   },
   {
    "duration": 146,
    "start_time": "2022-04-29T11:55:31.226Z"
   },
   {
    "duration": 106,
    "start_time": "2022-04-29T11:55:31.375Z"
   },
   {
    "duration": 9,
    "start_time": "2022-04-29T11:55:31.484Z"
   },
   {
    "duration": 15,
    "start_time": "2022-04-29T11:55:31.495Z"
   },
   {
    "duration": 18,
    "start_time": "2022-04-29T11:55:31.524Z"
   },
   {
    "duration": 10,
    "start_time": "2022-04-29T11:55:31.544Z"
   },
   {
    "duration": 23,
    "start_time": "2022-04-29T11:55:31.557Z"
   },
   {
    "duration": 49,
    "start_time": "2022-04-29T11:55:31.583Z"
   },
   {
    "duration": 6,
    "start_time": "2022-04-29T11:55:31.634Z"
   },
   {
    "duration": 31,
    "start_time": "2022-04-29T11:55:31.642Z"
   },
   {
    "duration": 21,
    "start_time": "2022-04-29T11:55:31.675Z"
   },
   {
    "duration": 21,
    "start_time": "2022-04-29T11:55:31.725Z"
   },
   {
    "duration": 20,
    "start_time": "2022-04-29T11:55:31.749Z"
   },
   {
    "duration": 56,
    "start_time": "2022-04-29T11:55:31.771Z"
   },
   {
    "duration": 21,
    "start_time": "2022-04-29T11:55:31.829Z"
   },
   {
    "duration": 13,
    "start_time": "2022-04-29T11:55:31.852Z"
   },
   {
    "duration": 26,
    "start_time": "2022-04-29T11:55:31.868Z"
   },
   {
    "duration": 17,
    "start_time": "2022-04-29T11:55:31.928Z"
   },
   {
    "duration": 6,
    "start_time": "2022-04-29T11:55:31.947Z"
   },
   {
    "duration": 38,
    "start_time": "2022-04-29T11:55:31.955Z"
   },
   {
    "duration": 39,
    "start_time": "2022-04-29T11:55:31.995Z"
   },
   {
    "duration": 28,
    "start_time": "2022-04-29T11:55:32.036Z"
   },
   {
    "duration": 18,
    "start_time": "2022-04-29T11:55:32.067Z"
   },
   {
    "duration": 50,
    "start_time": "2022-04-29T11:55:32.087Z"
   },
   {
    "duration": 16,
    "start_time": "2022-04-29T11:55:32.140Z"
   },
   {
    "duration": 20,
    "start_time": "2022-04-29T11:55:32.158Z"
   },
   {
    "duration": 13,
    "start_time": "2022-04-29T11:55:32.181Z"
   },
   {
    "duration": 14,
    "start_time": "2022-04-29T11:56:28.751Z"
   },
   {
    "duration": 9,
    "start_time": "2022-04-29T11:56:48.602Z"
   },
   {
    "duration": 4,
    "start_time": "2022-04-29T11:56:56.432Z"
   },
   {
    "duration": 240,
    "start_time": "2022-04-29T11:56:56.439Z"
   },
   {
    "duration": 16,
    "start_time": "2022-04-29T11:56:56.681Z"
   },
   {
    "duration": 60,
    "start_time": "2022-04-29T11:56:56.699Z"
   },
   {
    "duration": 4,
    "start_time": "2022-04-29T11:56:56.762Z"
   },
   {
    "duration": 20,
    "start_time": "2022-04-29T11:56:56.768Z"
   },
   {
    "duration": 4,
    "start_time": "2022-04-29T11:56:56.790Z"
   },
   {
    "duration": 59,
    "start_time": "2022-04-29T11:56:56.796Z"
   },
   {
    "duration": 26,
    "start_time": "2022-04-29T11:56:56.857Z"
   },
   {
    "duration": 53,
    "start_time": "2022-04-29T11:56:56.886Z"
   },
   {
    "duration": 117,
    "start_time": "2022-04-29T11:56:56.941Z"
   },
   {
    "duration": 125,
    "start_time": "2022-04-29T11:56:57.061Z"
   },
   {
    "duration": 103,
    "start_time": "2022-04-29T11:56:57.189Z"
   },
   {
    "duration": 9,
    "start_time": "2022-04-29T11:56:57.296Z"
   },
   {
    "duration": 21,
    "start_time": "2022-04-29T11:56:57.307Z"
   },
   {
    "duration": 20,
    "start_time": "2022-04-29T11:56:57.330Z"
   },
   {
    "duration": 11,
    "start_time": "2022-04-29T11:56:57.353Z"
   },
   {
    "duration": 57,
    "start_time": "2022-04-29T11:56:57.367Z"
   },
   {
    "duration": 18,
    "start_time": "2022-04-29T11:56:57.426Z"
   },
   {
    "duration": 5,
    "start_time": "2022-04-29T11:56:57.446Z"
   },
   {
    "duration": 28,
    "start_time": "2022-04-29T11:56:57.454Z"
   },
   {
    "duration": 49,
    "start_time": "2022-04-29T11:56:57.484Z"
   },
   {
    "duration": 20,
    "start_time": "2022-04-29T11:56:57.535Z"
   },
   {
    "duration": 20,
    "start_time": "2022-04-29T11:56:57.557Z"
   },
   {
    "duration": 55,
    "start_time": "2022-04-29T11:56:57.579Z"
   },
   {
    "duration": 21,
    "start_time": "2022-04-29T11:56:57.636Z"
   },
   {
    "duration": 12,
    "start_time": "2022-04-29T11:56:57.660Z"
   },
   {
    "duration": 56,
    "start_time": "2022-04-29T11:56:57.674Z"
   },
   {
    "duration": 19,
    "start_time": "2022-04-29T11:56:57.732Z"
   },
   {
    "duration": 5,
    "start_time": "2022-04-29T11:56:57.754Z"
   },
   {
    "duration": 33,
    "start_time": "2022-04-29T11:56:57.762Z"
   },
   {
    "duration": 41,
    "start_time": "2022-04-29T11:56:57.797Z"
   },
   {
    "duration": 22,
    "start_time": "2022-04-29T11:56:57.840Z"
   },
   {
    "duration": 15,
    "start_time": "2022-04-29T11:56:57.864Z"
   },
   {
    "duration": 49,
    "start_time": "2022-04-29T11:56:57.881Z"
   },
   {
    "duration": 6,
    "start_time": "2022-04-29T11:56:57.932Z"
   },
   {
    "duration": 12,
    "start_time": "2022-04-29T11:56:57.940Z"
   },
   {
    "duration": 6,
    "start_time": "2022-04-29T11:56:57.954Z"
   },
   {
    "duration": 495,
    "start_time": "2022-05-04T06:23:03.770Z"
   },
   {
    "duration": 176,
    "start_time": "2022-05-04T06:23:04.267Z"
   },
   {
    "duration": 23,
    "start_time": "2022-05-04T06:23:04.445Z"
   },
   {
    "duration": 57,
    "start_time": "2022-05-04T06:23:04.470Z"
   },
   {
    "duration": 4,
    "start_time": "2022-05-04T06:23:04.530Z"
   },
   {
    "duration": 14,
    "start_time": "2022-05-04T06:23:04.536Z"
   },
   {
    "duration": 6,
    "start_time": "2022-05-04T06:23:04.552Z"
   },
   {
    "duration": 67,
    "start_time": "2022-05-04T06:23:04.560Z"
   },
   {
    "duration": 19,
    "start_time": "2022-05-04T06:23:04.629Z"
   },
   {
    "duration": 26,
    "start_time": "2022-05-04T06:23:04.650Z"
   },
   {
    "duration": 86,
    "start_time": "2022-05-04T06:23:04.697Z"
   },
   {
    "duration": 96,
    "start_time": "2022-05-04T06:23:04.785Z"
   },
   {
    "duration": 82,
    "start_time": "2022-05-04T06:23:04.883Z"
   },
   {
    "duration": 11,
    "start_time": "2022-05-04T06:23:04.969Z"
   },
   {
    "duration": 5,
    "start_time": "2022-05-04T06:23:04.997Z"
   },
   {
    "duration": 26,
    "start_time": "2022-05-04T06:23:05.004Z"
   },
   {
    "duration": 10,
    "start_time": "2022-05-04T06:23:05.032Z"
   },
   {
    "duration": 14,
    "start_time": "2022-05-04T06:23:05.044Z"
   },
   {
    "duration": 40,
    "start_time": "2022-05-04T06:23:05.060Z"
   },
   {
    "duration": 5,
    "start_time": "2022-05-04T06:23:05.102Z"
   },
   {
    "duration": 27,
    "start_time": "2022-05-04T06:23:05.109Z"
   },
   {
    "duration": 17,
    "start_time": "2022-05-04T06:23:05.138Z"
   },
   {
    "duration": 43,
    "start_time": "2022-05-04T06:23:05.157Z"
   },
   {
    "duration": 24,
    "start_time": "2022-05-04T06:23:05.202Z"
   },
   {
    "duration": 19,
    "start_time": "2022-05-04T06:23:05.227Z"
   },
   {
    "duration": 17,
    "start_time": "2022-05-04T06:23:05.247Z"
   },
   {
    "duration": 34,
    "start_time": "2022-05-04T06:23:05.266Z"
   },
   {
    "duration": 29,
    "start_time": "2022-05-04T06:23:05.302Z"
   },
   {
    "duration": 10,
    "start_time": "2022-05-04T06:23:05.332Z"
   },
   {
    "duration": 4,
    "start_time": "2022-05-04T06:23:05.343Z"
   },
   {
    "duration": 24,
    "start_time": "2022-05-04T06:23:05.349Z"
   },
   {
    "duration": 39,
    "start_time": "2022-05-04T06:23:05.374Z"
   },
   {
    "duration": 19,
    "start_time": "2022-05-04T06:23:05.416Z"
   },
   {
    "duration": 15,
    "start_time": "2022-05-04T06:23:05.438Z"
   },
   {
    "duration": 47,
    "start_time": "2022-05-04T06:23:05.455Z"
   },
   {
    "duration": 7,
    "start_time": "2022-05-04T06:23:05.504Z"
   },
   {
    "duration": 9,
    "start_time": "2022-05-04T06:23:05.513Z"
   },
   {
    "duration": 5,
    "start_time": "2022-05-04T06:23:05.524Z"
   },
   {
    "duration": 480,
    "start_time": "2022-05-04T06:28:53.278Z"
   },
   {
    "duration": 192,
    "start_time": "2022-05-04T06:28:53.762Z"
   },
   {
    "duration": 21,
    "start_time": "2022-05-04T06:28:53.955Z"
   },
   {
    "duration": 61,
    "start_time": "2022-05-04T06:28:53.978Z"
   },
   {
    "duration": 5,
    "start_time": "2022-05-04T06:28:54.041Z"
   },
   {
    "duration": 18,
    "start_time": "2022-05-04T06:28:54.048Z"
   },
   {
    "duration": 30,
    "start_time": "2022-05-04T06:28:54.068Z"
   },
   {
    "duration": 59,
    "start_time": "2022-05-04T06:28:54.100Z"
   },
   {
    "duration": 29,
    "start_time": "2022-05-04T06:28:54.161Z"
   },
   {
    "duration": 44,
    "start_time": "2022-05-04T06:28:54.199Z"
   },
   {
    "duration": 97,
    "start_time": "2022-05-04T06:28:54.245Z"
   },
   {
    "duration": 126,
    "start_time": "2022-05-04T06:28:54.345Z"
   },
   {
    "duration": 90,
    "start_time": "2022-05-04T06:28:54.473Z"
   },
   {
    "duration": 12,
    "start_time": "2022-05-04T06:28:54.564Z"
   },
   {
    "duration": 9,
    "start_time": "2022-05-04T06:28:54.578Z"
   },
   {
    "duration": 36,
    "start_time": "2022-05-04T06:28:54.589Z"
   },
   {
    "duration": 24,
    "start_time": "2022-05-04T06:28:54.627Z"
   },
   {
    "duration": 23,
    "start_time": "2022-05-04T06:28:54.653Z"
   },
   {
    "duration": 26,
    "start_time": "2022-05-04T06:28:54.678Z"
   },
   {
    "duration": 6,
    "start_time": "2022-05-04T06:28:54.706Z"
   },
   {
    "duration": 35,
    "start_time": "2022-05-04T06:28:54.714Z"
   },
   {
    "duration": 16,
    "start_time": "2022-05-04T06:28:54.751Z"
   },
   {
    "duration": 40,
    "start_time": "2022-05-04T06:28:54.769Z"
   },
   {
    "duration": 16,
    "start_time": "2022-05-04T06:28:54.811Z"
   },
   {
    "duration": 32,
    "start_time": "2022-05-04T06:28:54.828Z"
   },
   {
    "duration": 36,
    "start_time": "2022-05-04T06:28:54.862Z"
   },
   {
    "duration": 19,
    "start_time": "2022-05-04T06:28:54.900Z"
   },
   {
    "duration": 11,
    "start_time": "2022-05-04T06:28:54.922Z"
   },
   {
    "duration": 11,
    "start_time": "2022-05-04T06:28:54.935Z"
   },
   {
    "duration": 7,
    "start_time": "2022-05-04T06:28:54.948Z"
   },
   {
    "duration": 41,
    "start_time": "2022-05-04T06:28:54.957Z"
   },
   {
    "duration": 20,
    "start_time": "2022-05-04T06:28:55.000Z"
   },
   {
    "duration": 31,
    "start_time": "2022-05-04T06:28:55.022Z"
   },
   {
    "duration": 15,
    "start_time": "2022-05-04T06:28:55.055Z"
   },
   {
    "duration": 24,
    "start_time": "2022-05-04T06:28:55.072Z"
   },
   {
    "duration": 18,
    "start_time": "2022-05-04T06:28:55.098Z"
   },
   {
    "duration": 10,
    "start_time": "2022-05-04T06:28:55.118Z"
   },
   {
    "duration": 21,
    "start_time": "2022-05-04T06:28:55.130Z"
   }
  ],
  "colab": {
   "collapsed_sections": [
    "E0vqbgi9ay0H",
    "VUC88oWjTJw2"
   ],
   "name": "yandex_music_project.ipynb",
   "provenance": []
  },
  "kernelspec": {
   "display_name": "Python 3 (ipykernel)",
   "language": "python",
   "name": "python3"
  },
  "language_info": {
   "codemirror_mode": {
    "name": "ipython",
    "version": 3
   },
   "file_extension": ".py",
   "mimetype": "text/x-python",
   "name": "python",
   "nbconvert_exporter": "python",
   "pygments_lexer": "ipython3",
   "version": "3.9.7"
  },
  "toc": {
   "base_numbering": 1,
   "nav_menu": {},
   "number_sections": true,
   "sideBar": true,
   "skip_h1_title": true,
   "title_cell": "Table of Contents",
   "title_sidebar": "Contents",
   "toc_cell": false,
   "toc_position": {},
   "toc_section_display": true,
   "toc_window_display": false
  }
 },
 "nbformat": 4,
 "nbformat_minor": 1
}
